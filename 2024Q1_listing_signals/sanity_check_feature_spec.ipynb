{
 "cells": [
  {
   "cell_type": "markdown",
   "id": "387af3b8-5598-4e20-bd8a-ce507c3e37fd",
   "metadata": {},
   "source": [
    "# Sanity check feature spec"
   ]
  },
  {
   "cell_type": "code",
   "execution_count": 1,
   "id": "7570ea60-9b14-4d9a-90f6-78c62d4dcc3c",
   "metadata": {},
   "outputs": [
    {
     "name": "stderr",
     "output_type": "stream",
     "text": [
      "2024-02-13 13:54:23.183097: I tensorflow/core/platform/cpu_feature_guard.cc:182] This TensorFlow binary is optimized to use available CPU instructions in performance-critical operations.\n",
      "To enable the following instructions: AVX2 FMA, in other operations, rebuild TensorFlow with the appropriate compiler flags.\n"
     ]
    }
   ],
   "source": [
    "import tensorflow_transform as tft"
   ]
  },
  {
   "cell_type": "code",
   "execution_count": 19,
   "id": "ef678bd8-87c5-4cbc-8307-bdf59a3c9147",
   "metadata": {},
   "outputs": [],
   "source": [
    "model_root_base = \"gs://training-dev-search-data-jtzn/neural_ranking/second_pass/yz-base-rrp-boe-7d/model_root\"\n",
    "model_root_new = \"gs://training-dev-search-data-jtzn/neural_ranking/second_pass/yz-lsig-pbase-boe-7d-run3/model_root\"\n",
    "date = \"2024-02-07\""
   ]
  },
  {
   "cell_type": "code",
   "execution_count": 20,
   "id": "1493d3c3-5fd0-4244-aa65-347d5594b1ec",
   "metadata": {},
   "outputs": [],
   "source": [
    "base_tft_path = f\"{model_root_base}/preprocess_fit/{date}\"\n",
    "base_tft_output = tft.TFTransformOutput(base_tft_path)\n",
    "\n",
    "new_tft_path = f\"{model_root_new}/preprocess_fit/{date}\"\n",
    "new_tft_output = tft.TFTransformOutput(new_tft_path)"
   ]
  },
  {
   "cell_type": "code",
   "execution_count": 21,
   "id": "107b6770-7d32-49fb-8162-27e362c9edc3",
   "metadata": {},
   "outputs": [],
   "source": [
    "base_features = sorted(base_tft_output.transformed_feature_spec().keys())\n",
    "new_features = sorted(new_tft_output.transformed_feature_spec().keys())"
   ]
  },
  {
   "cell_type": "code",
   "execution_count": 22,
   "id": "f144476e-59e6-460b-93ce-92932c3b91b2",
   "metadata": {},
   "outputs": [
    {
     "data": {
      "text/plain": [
       "642"
      ]
     },
     "execution_count": 22,
     "metadata": {},
     "output_type": "execute_result"
    }
   ],
   "source": [
    "len(base_features)"
   ]
  },
  {
   "cell_type": "code",
   "execution_count": 23,
   "id": "02ee843f-643d-4543-9791-54dd59d4a6e1",
   "metadata": {},
   "outputs": [
    {
     "data": {
      "text/plain": [
       "642"
      ]
     },
     "execution_count": 23,
     "metadata": {},
     "output_type": "execute_result"
    }
   ],
   "source": [
    "len(new_features)"
   ]
  },
  {
   "cell_type": "code",
   "execution_count": 24,
   "id": "780887e2-a439-4ce3-807e-585cff1c66a6",
   "metadata": {},
   "outputs": [
    {
     "data": {
      "text/plain": [
       "set()"
      ]
     },
     "execution_count": 24,
     "metadata": {},
     "output_type": "execute_result"
    }
   ],
   "source": [
    "set(base_features) - set(new_features)"
   ]
  },
  {
   "cell_type": "code",
   "execution_count": 25,
   "id": "94bd40af-6d1e-49b8-85a2-fc2a9f661c26",
   "metadata": {},
   "outputs": [
    {
     "data": {
      "text/plain": [
       "set()"
      ]
     },
     "execution_count": 25,
     "metadata": {},
     "output_type": "execute_result"
    }
   ],
   "source": [
    "set(new_features) - set(base_features)"
   ]
  },
  {
   "cell_type": "code",
   "execution_count": null,
   "id": "20f3d983-5e3a-4f49-963e-945052468e93",
   "metadata": {},
   "outputs": [],
   "source": []
  }
 ],
 "metadata": {
  "kernelspec": {
   "display_name": "venv",
   "language": "python",
   "name": "venv"
  },
  "language_info": {
   "codemirror_mode": {
    "name": "ipython",
    "version": 3
   },
   "file_extension": ".py",
   "mimetype": "text/x-python",
   "name": "python",
   "nbconvert_exporter": "python",
   "pygments_lexer": "ipython3",
   "version": "3.10.1"
  }
 },
 "nbformat": 4,
 "nbformat_minor": 5
}
