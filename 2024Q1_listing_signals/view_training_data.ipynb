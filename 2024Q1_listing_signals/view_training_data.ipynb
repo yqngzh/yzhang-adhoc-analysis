{
 "cells": [
  {
   "cell_type": "code",
   "execution_count": 1,
   "id": "40ae09e2-7da0-4758-ab7e-477f1befa3ad",
   "metadata": {},
   "outputs": [
    {
     "name": "stderr",
     "output_type": "stream",
     "text": [
      "2024-01-30 08:08:48.467601: I tensorflow/core/platform/cpu_feature_guard.cc:182] This TensorFlow binary is optimized to use available CPU instructions in performance-critical operations.\n",
      "To enable the following instructions: AVX2 FMA, in other operations, rebuild TensorFlow with the appropriate compiler flags.\n"
     ]
    }
   ],
   "source": [
    "import tensorflow as tf\n",
    "import gcsfs\n",
    "import pyarrow.parquet as pq\n",
    "from typing import Dict, Tuple, List"
   ]
  },
  {
   "cell_type": "code",
   "execution_count": 2,
   "id": "8d5d608d-8b0f-479d-a517-4cf0a8aebe40",
   "metadata": {},
   "outputs": [],
   "source": [
    "FILEPATH = \"gs://etldata-prod-search-ranking-data-hkwv8r/user/yzhang/listing_signals/feature_logging_training_data_parquet/query_pipeline_web_organic/tight_purchase/_DATE=2024-01-20/parquet/part-*.parquet\""
   ]
  },
  {
   "cell_type": "code",
   "execution_count": 3,
   "id": "3d786c37-787c-4e35-a1ef-ea32c81822e0",
   "metadata": {},
   "outputs": [],
   "source": [
    "paths = tf.io.gfile.glob(FILEPATH)"
   ]
  },
  {
   "cell_type": "code",
   "execution_count": 4,
   "id": "92379b41-ec47-49ee-a763-7aa4a4246977",
   "metadata": {},
   "outputs": [],
   "source": [
    "def load_raw_data_from_parquet_file(\n",
    "    filepath: str,\n",
    "    columns: List[str] = None,\n",
    ") -> List[Dict]:\n",
    "    if \"gs://\" in filepath:\n",
    "        fs = gcsfs.GCSFileSystem()\n",
    "        filepath = filepath.replace(\"gs://\", \"\")\n",
    "    else:\n",
    "        fs = None\n",
    "    df = pq.read_table(\n",
    "        source=filepath,\n",
    "        filesystem=fs,\n",
    "        use_pandas_metadata=True,\n",
    "        columns=columns,\n",
    "    )\n",
    "    data = df.to_pylist()\n",
    "    return data"
   ]
  },
  {
   "cell_type": "code",
   "execution_count": 5,
   "id": "4fae12ec-8df6-47b7-b40e-c99e883b8293",
   "metadata": {},
   "outputs": [
    {
     "name": "stderr",
     "output_type": "stream",
     "text": [
      "/Users/yzhang/development/yzhang-adhoc-analysis/venv/lib/python3.10/site-packages/google/auth/_default.py:76: UserWarning: Your application has authenticated using end user credentials from Google Cloud SDK without a quota project. You might receive a \"quota exceeded\" or \"API not enabled\" error. See the following page for troubleshooting: https://cloud.google.com/docs/authentication/adc-troubleshooting/user-creds. \n",
      "  warnings.warn(_CLOUD_SDK_CREDENTIALS_WARNING)\n"
     ]
    }
   ],
   "source": [
    "# requests is a List[Dict] where each dictionary represents the features for a request.\n",
    "requests = load_raw_data_from_parquet_file(\n",
    "    filepath=paths[0],\n",
    ")"
   ]
  },
  {
   "cell_type": "code",
   "execution_count": 7,
   "id": "92b12ca6-96ac-4669-80de-39f6f660b57c",
   "metadata": {},
   "outputs": [],
   "source": [
    "first_request = requests[0]"
   ]
  },
  {
   "cell_type": "code",
   "execution_count": 8,
   "id": "8e14508f-84c5-4c72-8dad-cf91281f5269",
   "metadata": {},
   "outputs": [
    {
     "name": "stdout",
     "output_type": "stream",
     "text": [
      "candidateInfo.docInfo.listingInfo.listingWeb.isLimitedQuantity\n",
      "candidateInfo.docInfo.listingInfo.listingWeb.isFreeShipping\n",
      "candidateInfo.docInfo.listingInfo.listingWeb.hasVideo\n",
      "candidateInfo.docInfo.listingInfo.listingWeb.tags\n",
      "candidateInfo.docInfo.listingInfo.listingWeb.isEtsyPick\n",
      "candidateInfo.docInfo.listingInfo.listingWeb.quantity\n",
      "candidateInfo.docInfo.listingInfo.listingWeb.isBestseller\n",
      "candidateInfo.docInfo.listingInfo.listingWeb.price#keys\n",
      "candidateInfo.docInfo.listingInfo.listingWeb.price#values\n",
      "candidateInfo.docInfo.listingInfo.listingWeb.promotionalPrice#keys\n",
      "candidateInfo.docInfo.listingInfo.listingWeb.promotionalPrice#values\n"
     ]
    }
   ],
   "source": [
    "# print all features\n",
    "for feature_name, feature_values in first_request.items():\n",
    "    if \"listingWeb\" in feature_name:\n",
    "        print(feature_name)\n",
    "    # print(feature_values)"
   ]
  },
  {
   "cell_type": "code",
   "execution_count": 9,
   "id": "eca939b2-b30f-48e6-a9e1-71fccb4cb1f9",
   "metadata": {},
   "outputs": [
    {
     "name": "stdout",
     "output_type": "stream",
     "text": [
      "[('AU', False), ('CA', False), ('DE', True), ('FR', False), ('IN', False), ('IT', False), ('NL', False), ('ES', False), ('GB', False), ('US', False)]\n"
     ]
    }
   ],
   "source": [
    "columns = [\n",
    "    \"candidateInfo.docInfo.listingInfo.listingId\",\n",
    "    \"candidateInfo.docInfo.listingInfo.listingWeb.isBestseller\",\n",
    "    \"candidateInfo.docInfo.listingInfo.listingWeb.tags\",\n",
    "    \"candidateInfo.docInfo.listingInfo.listingWeb.isLimitedQuantity\",\n",
    "    \"candidateInfo.docInfo.listingInfo.listingWeb.hasVideo\",\n",
    "    \"candidateInfo.docInfo.listingInfo.listingWeb.isFreeShipping\",\n",
    "    \"candidateInfo.docInfo.listingInfo.listingWeb.quantity\",\n",
    "    \"candidateInfo.docInfo.listingInfo.listingWeb.isEtsyPick\",\n",
    "    \"candidateInfo.docInfo.listingInfo.listingWeb.price#keys\",\n",
    "    \"candidateInfo.docInfo.listingInfo.listingWeb.price#values\",\n",
    "    \"candidateInfo.docInfo.listingInfo.listingWeb.promotionalPrice#keys\",\n",
    "    \"candidateInfo.docInfo.listingInfo.listingWeb.promotionalPrice#values\",\n",
    "]\n",
    "\n",
    "# requests is a List[Dict] where each dictionary represents the features for a request.\n",
    "requests = load_raw_data_from_parquet_file(\n",
    "    filepath=paths[0],\n",
    "    columns=columns,\n",
    ")\n",
    "\n",
    "# first_request is a Dict[str, List] mapping feature names to lists of feature values for each listing in a request.\n",
    "first_request = requests[0]\n",
    "print(first_request[\"candidateInfo.docInfo.listingInfo.listingWeb.isFreeShipping\"][0])\n"
   ]
  },
  {
   "cell_type": "code",
   "execution_count": null,
   "id": "938f7901-9c7d-4596-aa2f-7ee96f683783",
   "metadata": {},
   "outputs": [],
   "source": []
  }
 ],
 "metadata": {
  "kernelspec": {
   "display_name": "venv",
   "language": "python",
   "name": "venv"
  },
  "language_info": {
   "codemirror_mode": {
    "name": "ipython",
    "version": 3
   },
   "file_extension": ".py",
   "mimetype": "text/x-python",
   "name": "python",
   "nbconvert_exporter": "python",
   "pygments_lexer": "ipython3",
   "version": "3.10.1"
  }
 },
 "nbformat": 4,
 "nbformat_minor": 5
}
