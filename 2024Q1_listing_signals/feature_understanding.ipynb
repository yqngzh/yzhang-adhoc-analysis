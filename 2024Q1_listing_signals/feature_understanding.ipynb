{
 "cells": [
  {
   "cell_type": "markdown",
   "id": "08bfdeec-7e06-4b73-942f-726aa9d4e84c",
   "metadata": {},
   "source": [
    "# Tags"
   ]
  },
  {
   "cell_type": "code",
   "execution_count": 8,
   "id": "c2532946-6bb1-4d43-9fd3-c080babde637",
   "metadata": {},
   "outputs": [
    {
     "name": "stdout",
     "output_type": "stream",
     "text": [
      "WARNING:  Python 3.5-3.7 will be deprecated on August 8th, 2023. Please use Python version 3.8 and up.\n",
      "\n",
      "If you have a compatible Python interpreter installed, you can use it by setting\n",
      "the CLOUDSDK_PYTHON environment variable to point to it.\n",
      "\n",
      "Updated property [core/project].\n"
     ]
    }
   ],
   "source": [
    "!gcloud config set project etsy-bigquery-adhoc-prod"
   ]
  },
  {
   "cell_type": "code",
   "execution_count": 9,
   "id": "df12edb8-296d-4f1d-959a-5430ff3228e2",
   "metadata": {},
   "outputs": [
    {
     "name": "stdout",
     "output_type": "stream",
     "text": [
      "The google.cloud.bigquery extension is already loaded. To reload it, use:\n",
      "  %reload_ext google.cloud.bigquery\n"
     ]
    }
   ],
   "source": [
    "%load_ext google.cloud.bigquery"
   ]
  },
  {
   "cell_type": "code",
   "execution_count": 10,
   "id": "22ed1929-b603-4aa8-8cfc-e9d01271c271",
   "metadata": {},
   "outputs": [],
   "source": [
    "import numpy as np\n",
    "from tqdm import tqdm"
   ]
  },
  {
   "cell_type": "code",
   "execution_count": 11,
   "id": "2a5c62d8-c2d5-41ee-a913-91b4385d70cc",
   "metadata": {},
   "outputs": [
    {
     "data": {
      "application/vnd.jupyter.widget-view+json": {
       "model_id": "2113ffac7fb04c2cbf551a25391fabae",
       "version_major": 2,
       "version_minor": 0
      },
      "text/plain": [
       "Query is running:   0%|          |"
      ]
     },
     "metadata": {},
     "output_type": "display_data"
    },
    {
     "data": {
      "application/vnd.jupyter.widget-view+json": {
       "model_id": "bafc779fd886442182d91dec87da6005",
       "version_major": 2,
       "version_minor": 0
      },
      "text/plain": [
       "Downloading:   0%|          |"
      ]
     },
     "metadata": {},
     "output_type": "display_data"
    }
   ],
   "source": [
    "%%bigquery tags_df\n",
    "select lower(listingWeb_tags) as listingWeb_tags, lower(verticaListings_tags) as verticaListings_tags\n",
    "from `etsy-ml-systems-prod.feature_bank_v2.listing_feature_bank_2024-02-08`\n",
    "where EDIT_DISTANCE(lower(listingWeb_tags), lower(verticaListings_tags)) > 1\n",
    "and listingWeb_tags != ''\n",
    "and verticaListings_tags != ''"
   ]
  },
  {
   "cell_type": "code",
   "execution_count": 12,
   "id": "cdc72f3d-d6d4-477a-9789-abcb8a84b892",
   "metadata": {},
   "outputs": [
    {
     "data": {
      "text/html": [
       "<div>\n",
       "<style scoped>\n",
       "    .dataframe tbody tr th:only-of-type {\n",
       "        vertical-align: middle;\n",
       "    }\n",
       "\n",
       "    .dataframe tbody tr th {\n",
       "        vertical-align: top;\n",
       "    }\n",
       "\n",
       "    .dataframe thead th {\n",
       "        text-align: right;\n",
       "    }\n",
       "</style>\n",
       "<table border=\"1\" class=\"dataframe\">\n",
       "  <thead>\n",
       "    <tr style=\"text-align: right;\">\n",
       "      <th></th>\n",
       "      <th>listingWeb_tags</th>\n",
       "      <th>verticaListings_tags</th>\n",
       "    </tr>\n",
       "  </thead>\n",
       "  <tbody>\n",
       "    <tr>\n",
       "      <th>0</th>\n",
       "      <td>baking gifts.baker shirt.bakery shirt.pastry c...</td>\n",
       "      <td>.baking gifts.baker shirt.bakery shirt.pastry ...</td>\n",
       "    </tr>\n",
       "    <tr>\n",
       "      <th>1</th>\n",
       "      <td>dior sports sweater.mixed knit sweater.vintage...</td>\n",
       "      <td>clothing.women.dior sports sweater.mixed knit ...</td>\n",
       "    </tr>\n",
       "    <tr>\n",
       "      <th>2</th>\n",
       "      <td>booksshop.teamvintageusa.vintage retro old.mid...</td>\n",
       "      <td>supplies.booksshop.teamvintageusa.vintage retr...</td>\n",
       "    </tr>\n",
       "    <tr>\n",
       "      <th>3</th>\n",
       "      <td>brown vintage glove.button trim gloves.embelli...</td>\n",
       "      <td>accessories.gloves.brown vintage glove.button ...</td>\n",
       "    </tr>\n",
       "    <tr>\n",
       "      <th>4</th>\n",
       "      <td>goodluck mug.colleague mug.goodbye mug.colleag...</td>\n",
       "      <td>housewares.goodluck mug.colleague mug.goodbye ...</td>\n",
       "    </tr>\n",
       "  </tbody>\n",
       "</table>\n",
       "</div>"
      ],
      "text/plain": [
       "                                     listingWeb_tags  \\\n",
       "0  baking gifts.baker shirt.bakery shirt.pastry c...   \n",
       "1  dior sports sweater.mixed knit sweater.vintage...   \n",
       "2  booksshop.teamvintageusa.vintage retro old.mid...   \n",
       "3  brown vintage glove.button trim gloves.embelli...   \n",
       "4  goodluck mug.colleague mug.goodbye mug.colleag...   \n",
       "\n",
       "                                verticaListings_tags  \n",
       "0  .baking gifts.baker shirt.bakery shirt.pastry ...  \n",
       "1  clothing.women.dior sports sweater.mixed knit ...  \n",
       "2  supplies.booksshop.teamvintageusa.vintage retr...  \n",
       "3  accessories.gloves.brown vintage glove.button ...  \n",
       "4  housewares.goodluck mug.colleague mug.goodbye ...  "
      ]
     },
     "execution_count": 12,
     "metadata": {},
     "output_type": "execute_result"
    }
   ],
   "source": [
    "tags_df.head()"
   ]
  },
  {
   "cell_type": "code",
   "execution_count": 13,
   "id": "8be7a8ae-3da9-4b5e-8c63-15880e1aa62e",
   "metadata": {},
   "outputs": [
    {
     "data": {
      "text/plain": [
       "(22270244, 2)"
      ]
     },
     "execution_count": 13,
     "metadata": {},
     "output_type": "execute_result"
    }
   ],
   "source": [
    "tags_df.shape"
   ]
  },
  {
   "cell_type": "code",
   "execution_count": 14,
   "id": "123f47d6-eb0d-400e-a3ab-d02be35199a4",
   "metadata": {},
   "outputs": [
    {
     "name": "stderr",
     "output_type": "stream",
     "text": [
      "100%|████████████████████████████████████████████████████████████████| 22270244/22270244 [08:41<00:00, 42704.55it/s]\n"
     ]
    }
   ],
   "source": [
    "lw_count = 0\n",
    "vl_count = 0\n",
    "for i in tqdm(range(tags_df.shape[0])):\n",
    "    lw_tags = tags_df.listingWeb_tags[i].split('.')\n",
    "    vl_tags = tags_df.verticaListings_tags[i].split('.')\n",
    "    \n",
    "    if lw_tags[0] == '':\n",
    "        lw_tags = lw_tags[1:]\n",
    "    if vl_tags[0] == '':\n",
    "        vl_tags = vl_tags[1:]\n",
    "        \n",
    "    if len(lw_tags) > len(vl_tags):\n",
    "        diff_tags = set(lw_tags) - set(vl_tags)\n",
    "        diff_tags = list(diff_tags)\n",
    "        if len(diff_tags) > 0:\n",
    "            lw_count += 1\n",
    "    else:\n",
    "        diff_tags = set(vl_tags) - set(lw_tags)\n",
    "        diff_tags = list(diff_tags)\n",
    "        if len(diff_tags) > 0:\n",
    "            vl_count += 1"
   ]
  },
  {
   "cell_type": "code",
   "execution_count": 15,
   "id": "ce2f3179-faf6-46c7-a78b-db177ef1610a",
   "metadata": {},
   "outputs": [
    {
     "data": {
      "text/plain": [
       "9293098"
      ]
     },
     "execution_count": 15,
     "metadata": {},
     "output_type": "execute_result"
    }
   ],
   "source": [
    "lw_count"
   ]
  },
  {
   "cell_type": "code",
   "execution_count": 16,
   "id": "bc45d332-e8f0-4a2e-ac6b-8d922292bece",
   "metadata": {},
   "outputs": [
    {
     "data": {
      "text/plain": [
       "11514323"
      ]
     },
     "execution_count": 16,
     "metadata": {},
     "output_type": "execute_result"
    }
   ],
   "source": [
    "vl_count"
   ]
  },
  {
   "cell_type": "code",
   "execution_count": null,
   "id": "60d4b04c-2576-48b9-a35b-5bcf88f87ccc",
   "metadata": {},
   "outputs": [],
   "source": []
  }
 ],
 "metadata": {
  "kernelspec": {
   "display_name": "venv",
   "language": "python",
   "name": "venv"
  },
  "language_info": {
   "codemirror_mode": {
    "name": "ipython",
    "version": 3
   },
   "file_extension": ".py",
   "mimetype": "text/x-python",
   "name": "python",
   "nbconvert_exporter": "python",
   "pygments_lexer": "ipython3",
   "version": "3.10.1"
  }
 },
 "nbformat": 4,
 "nbformat_minor": 5
}
