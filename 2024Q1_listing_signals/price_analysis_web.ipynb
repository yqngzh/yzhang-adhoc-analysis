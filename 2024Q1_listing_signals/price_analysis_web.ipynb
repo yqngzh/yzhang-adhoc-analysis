{
 "cells": [
  {
   "cell_type": "code",
   "execution_count": 1,
   "id": "a2afe359-55ac-43f1-be06-9f1c8161ebc9",
   "metadata": {},
   "outputs": [
    {
     "name": "stdout",
     "output_type": "stream",
     "text": [
      "WARNING:  Python 3.5-3.7 will be deprecated on August 8th, 2023. Please use Python version 3.8 and up.\n",
      "\n",
      "If you have a compatible Python interpreter installed, you can use it by setting\n",
      "the CLOUDSDK_PYTHON environment variable to point to it.\n",
      "\n",
      "Updated property [core/project].\n"
     ]
    }
   ],
   "source": [
    "!gcloud config set project etsy-bigquery-adhoc-prod"
   ]
  },
  {
   "cell_type": "code",
   "execution_count": 2,
   "id": "8b052f70-e29d-4b5e-9cd4-1c664b983e7c",
   "metadata": {},
   "outputs": [],
   "source": [
    "%load_ext google.cloud.bigquery"
   ]
  },
  {
   "cell_type": "code",
   "execution_count": 12,
   "id": "21b6a31a-db49-4cae-ae89-d8b17f8f656a",
   "metadata": {},
   "outputs": [],
   "source": [
    "import matplotlib.pyplot as plt\n",
    "import numpy as np\n",
    "import math"
   ]
  },
  {
   "cell_type": "code",
   "execution_count": 4,
   "id": "cf370f01-d532-4196-ab90-3cccb623cb8b",
   "metadata": {},
   "outputs": [
    {
     "data": {
      "application/vnd.jupyter.widget-view+json": {
       "model_id": "c1f609dbb3964b85b1927b227346f39f",
       "version_major": 2,
       "version_minor": 0
      },
      "text/plain": [
       "Query is running:   0%|          |"
      ]
     },
     "metadata": {},
     "output_type": "display_data"
    },
    {
     "data": {
      "application/vnd.jupyter.widget-view+json": {
       "model_id": "db10fe97138944b7a1c283439902392b",
       "version_major": 2,
       "version_minor": 0
      },
      "text/plain": [
       "Downloading:   0%|          |"
      ]
     },
     "metadata": {},
     "output_type": "display_data"
    }
   ],
   "source": [
    "%%bigquery df\n",
    "select *\n",
    "from `etsy-sr-etl-prod.yzhang.lsig_v5_web_tight_0305`\n",
    "where attributions = 1\n",
    "and alb_price is not null"
   ]
  },
  {
   "cell_type": "code",
   "execution_count": 5,
   "id": "0e09944b-67c3-4f15-b4e6-78de4739edd1",
   "metadata": {},
   "outputs": [
    {
     "data": {
      "text/plain": [
       "(105377, 12)"
      ]
     },
     "execution_count": 5,
     "metadata": {},
     "output_type": "execute_result"
    }
   ],
   "source": [
    "df.shape"
   ]
  },
  {
   "cell_type": "code",
   "execution_count": 6,
   "id": "51af2a6e-73aa-4024-abd5-a94b89ecd46b",
   "metadata": {},
   "outputs": [
    {
     "data": {
      "text/plain": [
       "Index(['requestUUID', 'listing_id', 'attributions', 'client_queries',\n",
       "       'context_queries', 'query_is_digital', 'listing_is_digital', 'lw_price',\n",
       "       'lw_promo_price', 'alb_price', 'alb_min_price', 'alb_max_price'],\n",
       "      dtype='object')"
      ]
     },
     "execution_count": 6,
     "metadata": {},
     "output_type": "execute_result"
    }
   ],
   "source": [
    "df.columns"
   ]
  },
  {
   "cell_type": "code",
   "execution_count": 52,
   "id": "61e61044-5355-451a-8084-dcd4ece76dd0",
   "metadata": {},
   "outputs": [
    {
     "data": {
      "text/plain": [
       "0"
      ]
     },
     "execution_count": 52,
     "metadata": {},
     "output_type": "execute_result"
    }
   ],
   "source": [
    "df.lw_price.isna().sum()"
   ]
  },
  {
   "cell_type": "code",
   "execution_count": 8,
   "id": "7a020cf3-d531-44fc-9fbc-3f4013c15080",
   "metadata": {},
   "outputs": [],
   "source": [
    "basic_price_diff = df.alb_price - df.lw_price"
   ]
  },
  {
   "cell_type": "code",
   "execution_count": 9,
   "id": "435c7d8b-694d-4382-b67c-64c08572ec88",
   "metadata": {},
   "outputs": [
    {
     "data": {
      "text/plain": [
       "count    105377.000000\n",
       "mean         -0.293045\n",
       "std           5.718376\n",
       "min       -1500.000000\n",
       "25%          -0.280000\n",
       "50%           0.000000\n",
       "75%           0.000000\n",
       "max         583.000000\n",
       "dtype: float64"
      ]
     },
     "execution_count": 9,
     "metadata": {},
     "output_type": "execute_result"
    }
   ],
   "source": [
    "basic_price_diff.describe()"
   ]
  },
  {
   "cell_type": "code",
   "execution_count": 23,
   "id": "9aa71aa2-9f58-4c0e-87f1-9eec7e3bb509",
   "metadata": {},
   "outputs": [
    {
     "data": {
      "text/plain": [
       "775"
      ]
     },
     "execution_count": 23,
     "metadata": {},
     "output_type": "execute_result"
    }
   ],
   "source": [
    "np.sum(np.logical_or(basic_price_diff > 5, basic_price_diff < -5))"
   ]
  },
  {
   "cell_type": "code",
   "execution_count": 24,
   "id": "dd5b4216-fb49-4f63-8c1c-7383ad684e3f",
   "metadata": {},
   "outputs": [
    {
     "data": {
      "image/png": "[encoded data removed]",
      "text/plain": [
       "<Figure size 640x480 with 1 Axes>"
      ]
     },
     "metadata": {},
     "output_type": "display_data"
    }
   ],
   "source": [
    "plt.hist(basic_price_diff, bins=20, range=[-5, 5])\n",
    "plt.show()"
   ]
  },
  {
   "cell_type": "markdown",
   "id": "9a793b0f-98bc-4f9a-a791-b087f99c85fa",
   "metadata": {},
   "source": [
    "Active listing basic price < listing web price"
   ]
  },
  {
   "cell_type": "code",
   "execution_count": 26,
   "id": "2d704feb-2446-40aa-913d-f4bfd5628dd4",
   "metadata": {},
   "outputs": [],
   "source": [
    "promo_price_diff = df.lw_price - df.lw_promo_price\n",
    "promo_price_diff = promo_price_diff[~promo_price_diff.isna()]"
   ]
  },
  {
   "cell_type": "code",
   "execution_count": 29,
   "id": "bf07ead8-771d-4e5c-9d49-73b769bc257a",
   "metadata": {},
   "outputs": [
    {
     "data": {
      "text/plain": [
       "(45767,)"
      ]
     },
     "execution_count": 29,
     "metadata": {},
     "output_type": "execute_result"
    }
   ],
   "source": [
    "promo_price_diff.shape"
   ]
  },
  {
   "cell_type": "code",
   "execution_count": 30,
   "id": "3c2c2ad0-2b15-4c0a-b7ad-c2865961b285",
   "metadata": {},
   "outputs": [
    {
     "data": {
      "text/plain": [
       "count    45767.000000\n",
       "mean         7.576014\n",
       "std         18.269637\n",
       "min          0.020000\n",
       "25%          1.455000\n",
       "50%          3.220000\n",
       "75%          7.500000\n",
       "max       1100.000000\n",
       "dtype: float64"
      ]
     },
     "execution_count": 30,
     "metadata": {},
     "output_type": "execute_result"
    }
   ],
   "source": [
    "promo_price_diff.describe()"
   ]
  },
  {
   "cell_type": "code",
   "execution_count": 40,
   "id": "270ffcec-d89a-4496-8b55-e75ac4cc0c79",
   "metadata": {},
   "outputs": [
    {
     "data": {
      "text/plain": [
       "237"
      ]
     },
     "execution_count": 40,
     "metadata": {},
     "output_type": "execute_result"
    }
   ],
   "source": [
    "np.sum(np.logical_or(promo_price_diff > 100, promo_price_diff < 0))"
   ]
  },
  {
   "cell_type": "code",
   "execution_count": 41,
   "id": "a8e4bcd1-cdfb-4a95-bbfb-6c610cd82014",
   "metadata": {},
   "outputs": [
    {
     "data": {
      "image/png": "[encoded data removed]",
      "text/plain": [
       "<Figure size 640x480 with 1 Axes>"
      ]
     },
     "metadata": {},
     "output_type": "display_data"
    }
   ],
   "source": [
    "plt.hist(promo_price_diff, bins=300, range=[-50, 100])\n",
    "plt.show()"
   ]
  },
  {
   "cell_type": "code",
   "execution_count": 88,
   "id": "7f49e496-d1d8-4c19-8abd-a79a7aad3798",
   "metadata": {},
   "outputs": [],
   "source": [
    "real_price_seq = []\n",
    "alb_real_diff = []\n",
    "for i in range(df.shape[0]):\n",
    "    alb_price = df.alb_price[i]\n",
    "    lw_price = df.lw_price[i]\n",
    "    promo_price = df.lw_promo_price[i]\n",
    "    \n",
    "    base_price = lw_price if lw_price > 0.0 else alb_price\n",
    "    real_price = base_price if math.isnan(promo_price) else promo_price\n",
    "    real_price_seq.append(real_price)\n",
    "\n",
    "    price_diff = real_price - alb_price\n",
    "    alb_real_diff.append(price_diff)"
   ]
  },
  {
   "cell_type": "code",
   "execution_count": 66,
   "id": "fb82fbf1-2755-43f7-af8e-e20b58f89cac",
   "metadata": {},
   "outputs": [
    {
     "data": {
      "text/plain": [
       "105377"
      ]
     },
     "execution_count": 66,
     "metadata": {},
     "output_type": "execute_result"
    }
   ],
   "source": [
    "len(alb_real_diff)"
   ]
  },
  {
   "cell_type": "code",
   "execution_count": 67,
   "id": "476db4a1-eb80-4b5e-8594-7f2289a85eec",
   "metadata": {},
   "outputs": [
    {
     "data": {
      "text/plain": [
       "2373"
      ]
     },
     "execution_count": 67,
     "metadata": {},
     "output_type": "execute_result"
    }
   ],
   "source": [
    "np.sum(np.logical_or(np.array(alb_real_diff) > 25, np.array(alb_real_diff) < -25))"
   ]
  },
  {
   "cell_type": "code",
   "execution_count": 68,
   "id": "e4ccfe1d-38b8-4e59-bfc8-5ffe2eba6acd",
   "metadata": {},
   "outputs": [
    {
     "data": {
      "image/png": "[encoded data removed]",
      "text/plain": [
       "<Figure size 640x480 with 1 Axes>"
      ]
     },
     "metadata": {},
     "output_type": "display_data"
    }
   ],
   "source": [
    "plt.hist(alb_real_diff, bins=100, range=[-25, 25])\n",
    "plt.show()"
   ]
  },
  {
   "cell_type": "code",
   "execution_count": 75,
   "id": "442b79ff-4f8a-4f52-b8e4-edc2b6bd4440",
   "metadata": {},
   "outputs": [
    {
     "name": "stdout",
     "output_type": "stream",
     "text": [
      "105377\n",
      "0.0\n",
      "-2.9973450563215875\n",
      "-2.4000000000000004\n",
      "15607\n"
     ]
    }
   ],
   "source": [
    "print(len(alb_real_diff))\n",
    "print(np.median(alb_real_diff))\n",
    "print(np.mean(alb_real_diff))\n",
    "print(np.quantile(alb_real_diff, 0.25))\n",
    "print(np.sum(np.array(alb_real_diff) < -5))"
   ]
  },
  {
   "cell_type": "code",
   "execution_count": null,
   "id": "9a6f85e1-547f-4e74-af1c-b3f46b67372f",
   "metadata": {},
   "outputs": [],
   "source": []
  },
  {
   "cell_type": "code",
   "execution_count": 78,
   "id": "863f2e14-01f6-44a2-a3bc-156788aae8f0",
   "metadata": {},
   "outputs": [],
   "source": [
    "discount = df.lw_promo_price / df.lw_price\n",
    "discount = discount[~discount.isna()]"
   ]
  },
  {
   "cell_type": "code",
   "execution_count": 79,
   "id": "21264d98-d88d-471d-9a26-2c2dc9e95dec",
   "metadata": {},
   "outputs": [
    {
     "data": {
      "text/plain": [
       "count    45767.000000\n",
       "mean         0.639692\n",
       "std          0.187879\n",
       "min          0.246667\n",
       "25%          0.500000\n",
       "50%          0.699786\n",
       "75%          0.799877\n",
       "max          0.954545\n",
       "dtype: float64"
      ]
     },
     "execution_count": 79,
     "metadata": {},
     "output_type": "execute_result"
    }
   ],
   "source": [
    "discount.describe()"
   ]
  },
  {
   "cell_type": "code",
   "execution_count": 80,
   "id": "ecd10d33-5a48-4c2c-b3c1-eb916497606b",
   "metadata": {},
   "outputs": [
    {
     "data": {
      "text/plain": [
       "(array([ 4143.,   854.,  2910.,  8059.,  4089.,  1794.,  4153., 12337.,\n",
       "         2722.,  4706.]),\n",
       " array([0.24666667, 0.31745455, 0.38824242, 0.4590303 , 0.52981818,\n",
       "        0.60060606, 0.67139394, 0.74218182, 0.8129697 , 0.88375758,\n",
       "        0.95454545]),\n",
       " <BarContainer object of 10 artists>)"
      ]
     },
     "execution_count": 80,
     "metadata": {},
     "output_type": "execute_result"
    },
    {
     "data": {
      "image/png": "[encoded data removed]",
      "text/plain": [
       "<Figure size 640x480 with 1 Axes>"
      ]
     },
     "metadata": {},
     "output_type": "display_data"
    }
   ],
   "source": [
    "plt.hist(discount)"
   ]
  },
  {
   "cell_type": "code",
   "execution_count": 84,
   "id": "0746dd54-bb5c-4967-8da8-d69929e68312",
   "metadata": {},
   "outputs": [
    {
     "name": "stdout",
     "output_type": "stream",
     "text": [
      "9.99\n",
      "9.25\n"
     ]
    }
   ],
   "source": [
    "print(df.lw_price[~df.lw_promo_price.isna()].median())\n",
    "print(df.lw_price[df.lw_promo_price.isna()].median())"
   ]
  },
  {
   "cell_type": "code",
   "execution_count": 87,
   "id": "6ff2efdc-ddcb-43bc-b380-f545bdabc21c",
   "metadata": {},
   "outputs": [
    {
     "data": {
      "text/plain": [
       "9.49"
      ]
     },
     "execution_count": 87,
     "metadata": {},
     "output_type": "execute_result"
    }
   ],
   "source": [
    "df.alb_price.median()"
   ]
  },
  {
   "cell_type": "code",
   "execution_count": 89,
   "id": "e8f0cd37-934a-49f2-8a92-a73ecca9a152",
   "metadata": {},
   "outputs": [
    {
     "data": {
      "text/plain": [
       "16.66550765347277"
      ]
     },
     "execution_count": 89,
     "metadata": {},
     "output_type": "execute_result"
    }
   ],
   "source": [
    "np.mean(real_price_seq)"
   ]
  },
  {
   "cell_type": "code",
   "execution_count": 90,
   "id": "5d4a11d7-f616-4f7b-ad7d-70fab758310a",
   "metadata": {},
   "outputs": [
    {
     "data": {
      "text/plain": [
       "7.91"
      ]
     },
     "execution_count": 90,
     "metadata": {},
     "output_type": "execute_result"
    }
   ],
   "source": [
    "np.median(real_price_seq)"
   ]
  },
  {
   "cell_type": "code",
   "execution_count": null,
   "id": "5a31c15f-45ed-4c19-b11d-94523af04a5e",
   "metadata": {},
   "outputs": [],
   "source": []
  }
 ],
 "metadata": {
  "kernelspec": {
   "display_name": "venv",
   "language": "python",
   "name": "venv"
  },
  "language_info": {
   "codemirror_mode": {
    "name": "ipython",
    "version": 3
   },
   "file_extension": ".py",
   "mimetype": "text/x-python",
   "name": "python",
   "nbconvert_exporter": "python",
   "pygments_lexer": "ipython3",
   "version": "3.10.1"
  }
 },
 "nbformat": 4,
 "nbformat_minor": 5
}
