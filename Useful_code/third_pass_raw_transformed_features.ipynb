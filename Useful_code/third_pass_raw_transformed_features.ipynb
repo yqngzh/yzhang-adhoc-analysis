{
 "cells": [
  {
   "cell_type": "code",
   "execution_count": 1,
   "id": "8cefe076",
   "metadata": {
    "scrolled": true
   },
   "outputs": [
    {
     "name": "stderr",
     "output_type": "stream",
     "text": [
      "2024-01-29 12:33:19.557431: I tensorflow/core/platform/cpu_feature_guard.cc:182] This TensorFlow binary is optimized to use available CPU instructions in performance-critical operations.\n",
      "To enable the following instructions: AVX2 FMA, in other operations, rebuild TensorFlow with the appropriate compiler flags.\n"
     ]
    }
   ],
   "source": [
    "import tensorflow_transform as tft"
   ]
  },
  {
   "cell_type": "code",
   "execution_count": 2,
   "id": "636908d5",
   "metadata": {},
   "outputs": [],
   "source": [
    "model_gcs_path = \"gs://training-prod-search-data-jtzn/neural_ranking/third_pass/models\"\n",
    "third_pass_model_root = f\"{model_gcs_path}/nr-third-pass-seg-power-loose\"\n",
    "date = \"2024-01-07\""
   ]
  },
  {
   "cell_type": "code",
   "execution_count": 3,
   "id": "a2f03aba",
   "metadata": {},
   "outputs": [],
   "source": [
    "third_pass_tft_path = f\"{third_pass_model_root}/preprocess_fit/{date}\"\n",
    "third_pass_tft = tft.TFTransformOutput(third_pass_tft_path)"
   ]
  },
  {
   "cell_type": "markdown",
   "id": "5c046c0f",
   "metadata": {},
   "source": [
    "# Raw features"
   ]
  },
  {
   "cell_type": "code",
   "execution_count": 4,
   "id": "7927b099",
   "metadata": {},
   "outputs": [
    {
     "data": {
      "text/plain": [
       "['attributions',\n",
       " 'candidateInfo.docInfo.listingInfo.activeListingBasics.daysSinceCreate',\n",
       " 'candidateInfo.docInfo.listingInfo.activeListingBasics.daysSinceOriginalCreate',\n",
       " 'candidateInfo.docInfo.listingInfo.activeListingBasics.gmsPercentile',\n",
       " 'candidateInfo.docInfo.listingInfo.activeListingBasics.imageCount',\n",
       " 'candidateInfo.docInfo.listingInfo.activeListingBasics.materialCount',\n",
       " 'candidateInfo.docInfo.listingInfo.activeListingBasics.maxPriceUsd',\n",
       " 'candidateInfo.docInfo.listingInfo.activeListingBasics.newListingFlag',\n",
       " 'candidateInfo.docInfo.listingInfo.activeListingBasics.normalizedDailyGms',\n",
       " 'candidateInfo.docInfo.listingInfo.activeListingBasics.normalizedDailyQuantity',\n",
       " 'candidateInfo.docInfo.listingInfo.activeListingBasics.pastDayGms',\n",
       " 'candidateInfo.docInfo.listingInfo.activeListingBasics.pastDayOrders',\n",
       " 'candidateInfo.docInfo.listingInfo.activeListingBasics.pastDayQuantitySold',\n",
       " 'candidateInfo.docInfo.listingInfo.activeListingBasics.priceUsd',\n",
       " 'candidateInfo.docInfo.listingInfo.activeListingBasics.quantity',\n",
       " 'candidateInfo.docInfo.listingInfo.activeListingBasics.totalFavoriteCount',\n",
       " 'candidateInfo.docInfo.listingInfo.activeListingBasics.totalGms',\n",
       " 'candidateInfo.docInfo.listingInfo.activeListingBasics.totalOrders',\n",
       " 'candidateInfo.docInfo.listingInfo.activeListingBasics.totalQuantitySold',\n",
       " 'candidateInfo.docInfo.listingInfo.activeListingBasics.totalViewCount',\n",
       " 'candidateInfo.docInfo.listingInfo.activeListingLocation.latitude',\n",
       " 'candidateInfo.docInfo.listingInfo.activeListingLocation.longitude',\n",
       " 'candidateInfo.docInfo.listingInfo.activeListingLocation.originCountryId',\n",
       " 'candidateInfo.docInfo.listingInfo.activeListingLocation.originPostalCode',\n",
       " 'candidateInfo.docInfo.listingInfo.activeListingShippingCosts.domesticShipCost',\n",
       " 'candidateInfo.docInfo.listingInfo.activeListingShippingCosts.hasProcessingTime',\n",
       " 'candidateInfo.docInfo.listingInfo.activeListingShippingCosts.maxProcessingDays',\n",
       " 'candidateInfo.docInfo.listingInfo.activeListingShippingCosts.minProcessingDays',\n",
       " 'candidateInfo.docInfo.listingInfo.activeListingShippingCosts.shipsFreeDomestic',\n",
       " 'candidateInfo.docInfo.listingInfo.activeListingShippingCosts.shipsFreeToUs',\n",
       " 'candidateInfo.docInfo.listingInfo.activeListingShippingCosts.shipsToUs',\n",
       " 'candidateInfo.docInfo.listingInfo.activeListingShippingCosts.usShipCost',\n",
       " 'candidateInfo.docInfo.listingInfo.dwellTime.pastWeekTotalDwellMs',\n",
       " 'candidateInfo.docInfo.listingInfo.imageQualityScore.imageQualityScore',\n",
       " 'candidateInfo.docInfo.listingInfo.listingId',\n",
       " 'candidateInfo.docInfo.listingInfo.listingSearchVisit14d.avgPosition',\n",
       " 'candidateInfo.docInfo.listingInfo.listingSearchVisit14d.avgPropensity',\n",
       " 'candidateInfo.docInfo.listingInfo.listingSearchVisit14d.numCarts',\n",
       " 'candidateInfo.docInfo.listingInfo.listingSearchVisit14d.numClicks',\n",
       " 'candidateInfo.docInfo.listingInfo.listingSearchVisit14d.numImpressions',\n",
       " 'candidateInfo.docInfo.listingInfo.listingSearchVisit14d.smoothCart',\n",
       " 'candidateInfo.docInfo.listingInfo.listingSearchVisit14d.smoothCtr',\n",
       " 'candidateInfo.docInfo.listingInfo.listingSmoothHistorical.smoothCartAdd',\n",
       " 'candidateInfo.docInfo.listingInfo.listingSmoothHistorical.smoothPurchase',\n",
       " 'candidateInfo.docInfo.listingInfo.topQueryYear.clickTopQuery',\n",
       " 'candidateInfo.docInfo.listingInfo.verticaListings.tags',\n",
       " 'candidateInfo.docInfo.listingInfo.verticaListings.taxonomyPath',\n",
       " 'candidateInfo.docInfo.listingInfo.verticaListings.title',\n",
       " 'candidateInfo.docInfo.shopInfo.shopAvgRatings.avgRating',\n",
       " 'candidateInfo.docInfo.shopInfo.shopAvgRatings.count',\n",
       " 'candidateInfo.docInfo.shopInfo.shopProlistVisit30d.smoothCart',\n",
       " 'candidateInfo.docInfo.shopInfo.shopSmoothHistorical.smoothCartAdd',\n",
       " 'candidateInfo.docInfo.shopInfo.shopSmoothHistorical.smoothCtr',\n",
       " 'candidateInfo.docInfo.shopInfo.shopSmoothHistorical.smoothPurchase',\n",
       " 'candidateInfo.docInfo.shopInfo.verticaSellerBasics.pastYearQuantitySold',\n",
       " 'candidateInfo.docInfo.shopInfo.verticaSellerBasics.shopImpressions',\n",
       " 'candidateInfo.docInfo.shopInfo.verticaSellerBasics.shopName',\n",
       " 'candidateInfo.docInfo.shopInfo.verticaSellerBasics.shopViews',\n",
       " 'candidateInfo.docInfo.shopInfo.verticaSellerBasics.totalOrders',\n",
       " 'candidateInfo.docInfo.shopInfo.verticaSellerBasics.totalQuantitySold',\n",
       " 'candidateInfo.scores.score',\n",
       " 'clientProvidedInfo.query.query',\n",
       " 'clientProvidedInfo.user.locationZip',\n",
       " 'contextualInfo[name=target].docInfo.queryInfo.query',\n",
       " 'contextualInfo[name=target].docInfo.queryInfo.queryLevelMetrics.bin',\n",
       " 'contextualInfo[name=target].docInfo.queryInfo.queryLevelMetrics.totalPurchases',\n",
       " 'contextualInfo[name=target].docInfo.queryInfo.trebuchetQuery.avgClickPrice',\n",
       " 'contextualInfo[name=target].docInfo.queryInfo.trebuchetQuery.avgPurchasePrice',\n",
       " 'contextualInfo[name=user].userInfo.activeUserShipToLocations.countryId',\n",
       " 'contextualInfo[name=user].userInfo.activeUserShipToLocations.latitude',\n",
       " 'contextualInfo[name=user].userInfo.activeUserShipToLocations.longitude',\n",
       " 'contextualInfo[name=user].userInfo.activeUserShipToLocations.zip',\n",
       " 'contextualInfo[name=user].userInfo.purchaseLtd.avgOrderValue',\n",
       " 'contextualInfo[name=user].userInfo.userSegmentFeatures.buyerSegment',\n",
       " 'position',\n",
       " 'requestUUID']"
      ]
     },
     "execution_count": 4,
     "metadata": {},
     "output_type": "execute_result"
    }
   ],
   "source": [
    "sorted(third_pass_tft.raw_feature_spec().keys())"
   ]
  },
  {
   "cell_type": "markdown",
   "id": "263b9ae7",
   "metadata": {},
   "source": [
    "# Transformed features"
   ]
  },
  {
   "cell_type": "code",
   "execution_count": 5,
   "id": "b8b5de0b",
   "metadata": {},
   "outputs": [
    {
     "data": {
      "text/plain": [
       "['attributions_score',\n",
       " 'candidateInfo.candidateInfo.avgPropensity_numCarts:prod_nan_log1p_standardized',\n",
       " 'candidateInfo.candidateInfo.avgPropensity_numClicks:prod_nan_log1p_standardized',\n",
       " 'candidateInfo.candidateInfo.avgPropensity_numImpressions:prod_nan_log1p_standardized',\n",
       " 'candidateInfo.candidateInfo.count_totalOrders:ratio_nan_log1p_standardized',\n",
       " 'candidateInfo.candidateInfo.domesticShipCost_priceUsd:ratio_nan_log1p_standardized',\n",
       " 'candidateInfo.candidateInfo.shopViews_shopImpressions:ratio_nan_log1p_standardized',\n",
       " 'candidateInfo.candidateInfo.smoothCartAdd_smoothCartAdd:diff_nan_log1p_standardized',\n",
       " 'candidateInfo.candidateInfo.smoothCartAdd_smoothCtr:ratio_nan_log1p_standardized',\n",
       " 'candidateInfo.candidateInfo.smoothCartAdd_smoothPurchase:ratio_nan_log1p_standardized',\n",
       " 'candidateInfo.candidateInfo.smoothCart_smoothCart:diff_nan_log1p_standardized',\n",
       " 'candidateInfo.candidateInfo.smoothPurchase_smoothCartAdd:ratio_nan_log1p_standardized',\n",
       " 'candidateInfo.candidateInfo.totalOrders_shopViews:ratio_nan_log1p_standardized',\n",
       " 'candidateInfo.candidateInfo.usShipCost_priceUsd:ratio_nan_log1p_standardized',\n",
       " 'candidateInfo.contextualInfo[name=target].avgClickUsdPriceDiff_avgClickPrice:ratio_log1p_standardized',\n",
       " 'candidateInfo.contextualInfo[name=target].avgPurchaseUsdPriceDiff_avgClickPrice:ratio_log1p_standardized',\n",
       " 'candidateInfo.contextualInfo[name=target].clickTopQuery_neural_ir_embedding_query_neural_ir_embedding:cosine',\n",
       " 'candidateInfo.contextualInfo[name=target].listing_neural_ir_embedding_query_neural_ir_embedding:cosine',\n",
       " 'candidateInfo.contextualInfo[name=target].priceUsd_avgClickPrice:diff_nan_log1p_standardized',\n",
       " 'candidateInfo.contextualInfo[name=target].priceUsd_avgClickPrice:ratio_nan_log1p_standardized',\n",
       " 'candidateInfo.contextualInfo[name=target].priceUsd_avgPurchasePrice:diff_nan_log1p_standardized',\n",
       " 'candidateInfo.contextualInfo[name=target].priceUsd_avgPurchasePrice:ratio_nan_log1p_standardized',\n",
       " 'candidateInfo.contextualInfo[name=target].shopName_neural_ir_embedding_query_neural_ir_embedding:cosine',\n",
       " 'candidateInfo.contextualInfo[name=user].originPostalCode_zip_max:abs_diff_log1p_standardized',\n",
       " 'candidateInfo.docInfo.listingInfo.activeListingBasics.daysSinceCreate_truncated_standardized',\n",
       " 'candidateInfo.docInfo.listingInfo.activeListingBasics.daysSinceOriginalCreate_truncated_standardized',\n",
       " 'candidateInfo.docInfo.listingInfo.activeListingBasics.gmsPercentile_standardized',\n",
       " 'candidateInfo.docInfo.listingInfo.activeListingBasics.imageCount_standardized',\n",
       " 'candidateInfo.docInfo.listingInfo.activeListingBasics.materialCount_standardized',\n",
       " 'candidateInfo.docInfo.listingInfo.activeListingBasics.maxPriceUsd_truncated_standardized',\n",
       " 'candidateInfo.docInfo.listingInfo.activeListingBasics.newListingFlag',\n",
       " 'candidateInfo.docInfo.listingInfo.activeListingBasics.normalizedDailyGms_log1p_standardized',\n",
       " 'candidateInfo.docInfo.listingInfo.activeListingBasics.normalizedDailyQuantity_log1p_standardized',\n",
       " 'candidateInfo.docInfo.listingInfo.activeListingBasics.pastDayGms_log1p_standardized',\n",
       " 'candidateInfo.docInfo.listingInfo.activeListingBasics.pastDayOrders_log1p_standardized',\n",
       " 'candidateInfo.docInfo.listingInfo.activeListingBasics.pastDayQuantitySold_log1p_standardized',\n",
       " 'candidateInfo.docInfo.listingInfo.activeListingBasics.priceUsd_log1p',\n",
       " 'candidateInfo.docInfo.listingInfo.activeListingBasics.priceUsd_truncated_standardized',\n",
       " 'candidateInfo.docInfo.listingInfo.activeListingBasics.quantity_truncated_standardized',\n",
       " 'candidateInfo.docInfo.listingInfo.activeListingBasics.totalFavoriteCount_log1p_standardized',\n",
       " 'candidateInfo.docInfo.listingInfo.activeListingBasics.totalGms_log1p_standardized',\n",
       " 'candidateInfo.docInfo.listingInfo.activeListingBasics.totalOrders_log1p_standardized',\n",
       " 'candidateInfo.docInfo.listingInfo.activeListingBasics.totalQuantitySold_log1p_standardized',\n",
       " 'candidateInfo.docInfo.listingInfo.activeListingBasics.totalViewCount_log1p_standardized',\n",
       " 'candidateInfo.docInfo.listingInfo.activeListingLocation.latitude',\n",
       " 'candidateInfo.docInfo.listingInfo.activeListingLocation.longitude',\n",
       " 'candidateInfo.docInfo.listingInfo.activeListingLocation.originPostalCode_log1p_standardized',\n",
       " 'candidateInfo.docInfo.listingInfo.activeListingShippingCosts.hasProcessingTime',\n",
       " 'candidateInfo.docInfo.listingInfo.activeListingShippingCosts.maxProcessingDays_truncated_standardized',\n",
       " 'candidateInfo.docInfo.listingInfo.activeListingShippingCosts.minProcessingDays_truncated_standardized',\n",
       " 'candidateInfo.docInfo.listingInfo.activeListingShippingCosts.shipsFreeDomestic',\n",
       " 'candidateInfo.docInfo.listingInfo.activeListingShippingCosts.shipsFreeToUs',\n",
       " 'candidateInfo.docInfo.listingInfo.activeListingShippingCosts.shipsToUs',\n",
       " 'candidateInfo.docInfo.listingInfo.activeListingShippingCosts.usShipCost_truncated_standardized',\n",
       " 'candidateInfo.docInfo.listingInfo.dwellTime.pastWeekTotalDwellMs_log1p_standardized',\n",
       " 'candidateInfo.docInfo.listingInfo.imageQualityScore.imageQualityScore_standardized',\n",
       " 'candidateInfo.docInfo.listingInfo.listingSearchVisit14d.avgPosition_standardized',\n",
       " 'candidateInfo.docInfo.listingInfo.listingSearchVisit14d.avgPropensity_standardized',\n",
       " 'candidateInfo.docInfo.listingInfo.listingSearchVisit14d.numCarts_log1p_standardized',\n",
       " 'candidateInfo.docInfo.listingInfo.listingSearchVisit14d.numClicks_log1p_standardized',\n",
       " 'candidateInfo.docInfo.listingInfo.listingSearchVisit14d.numImpressions_log1p_standardized',\n",
       " 'candidateInfo.docInfo.listingInfo.listingSearchVisit14d.smoothCart_standardized',\n",
       " 'candidateInfo.docInfo.listingInfo.listingSearchVisit14d.smoothCtr_standardized',\n",
       " 'candidateInfo.docInfo.shopInfo.shopAvgRatings.avgRating_log1p_standardized',\n",
       " 'candidateInfo.docInfo.shopInfo.verticaSellerBasics.pastYearQuantitySold_log1p_standardized',\n",
       " 'candidateInfo.scores.score_sigmoid',\n",
       " 'candidateInfo.scores.score_truncated_centered',\n",
       " 'candidateInfo.scores.score_truncated_standardized',\n",
       " 'candidateInfo.scores.score_truncated_zscore',\n",
       " 'contextualInfo[name=target].candidateInfo.avgOrderValue_priceScaled:ratio_log1p_standardized',\n",
       " 'contextualInfo[name=target].docInfo.queryInfo.queryLevelMetrics.bin:EMPTY_STRING',\n",
       " 'contextualInfo[name=target].docInfo.queryInfo.queryLevelMetrics.bin:head',\n",
       " 'contextualInfo[name=target].docInfo.queryInfo.queryLevelMetrics.bin:tail',\n",
       " 'contextualInfo[name=target].docInfo.queryInfo.queryLevelMetrics.bin:top.01',\n",
       " 'contextualInfo[name=target].docInfo.queryInfo.queryLevelMetrics.bin:top.1',\n",
       " 'contextualInfo[name=target].docInfo.queryInfo.queryLevelMetrics.bin:torso',\n",
       " 'contextualInfo[name=target].docInfo.queryInfo.queryLevelMetrics.totalPurchases_log1p_standardized',\n",
       " 'contextualInfo[name=user].candidateInfo.avgOrderValue_priceUsd:ratio_nan_log1p_standardized',\n",
       " 'contextualInfo[name=user].candidateInfo.countryId:is_identical',\n",
       " 'contextualInfo[name=user].candidateInfo.euclidean_distance',\n",
       " 'contextualInfo[name=user].userInfo.activeUserShipToLocations.latitude',\n",
       " 'contextualInfo[name=user].userInfo.activeUserShipToLocations.longitude',\n",
       " 'contextualInfo[name=user].userInfo.activeUserShipToLocations.zip_max_log1p_standardized',\n",
       " 'contextualInfo[name=user].userInfo.userSegmentFeatures.buyerSegment:Active',\n",
       " 'contextualInfo[name=user].userInfo.userSegmentFeatures.buyerSegment:Habitual',\n",
       " 'contextualInfo[name=user].userInfo.userSegmentFeatures.buyerSegment:Not Active',\n",
       " 'contextualInfo[name=user].userInfo.userSegmentFeatures.buyerSegment:Repeat',\n",
       " 'position',\n",
       " 'requestUUID',\n",
       " 'sample_weight']"
      ]
     },
     "execution_count": 5,
     "metadata": {},
     "output_type": "execute_result"
    }
   ],
   "source": [
    "sorted(third_pass_tft.transformed_feature_spec().keys())"
   ]
  },
  {
   "cell_type": "code",
   "execution_count": null,
   "id": "91dde4be",
   "metadata": {},
   "outputs": [],
   "source": []
  }
 ],
 "metadata": {
  "kernelspec": {
   "display_name": "venv",
   "language": "python",
   "name": "venv"
  },
  "language_info": {
   "codemirror_mode": {
    "name": "ipython",
    "version": 3
   },
   "file_extension": ".py",
   "mimetype": "text/x-python",
   "name": "python",
   "nbconvert_exporter": "python",
   "pygments_lexer": "ipython3",
   "version": "3.10.1"
  }
 },
 "nbformat": 4,
 "nbformat_minor": 5
}
