{
 "cells": [
  {
   "cell_type": "markdown",
   "id": "c85d976c",
   "metadata": {},
   "source": [
    "# JSON training data\n",
    "\n",
    "source: https://colab.research.google.com/drive/1v5uRlq-EY9YEsGuLPSOb5CC-RNVrDD6m?usp=sharing#scrollTo=KzaUAfLpud8Y"
   ]
  },
  {
   "cell_type": "code",
   "execution_count": null,
   "id": "91496da7",
   "metadata": {},
   "outputs": [],
   "source": [
    "# copy part file of JSON data\n",
    "! gsutil cat -h gs://etldata-prod-search-ranking-data-hkwv8r/feature_logging_training_data_purchase/query_pipeline_web_organic/2023-12-31/results/part-00000 > 721_json_request.json"
   ]
  }
 ],
 "metadata": {
  "kernelspec": {
   "display_name": "venv",
   "language": "python",
   "name": "venv"
  },
  "language_info": {
   "codemirror_mode": {
    "name": "ipython",
    "version": 3
   },
   "file_extension": ".py",
   "mimetype": "text/x-python",
   "name": "python",
   "nbconvert_exporter": "python",
   "pygments_lexer": "ipython3",
   "version": "3.8.9"
  }
 },
 "nbformat": 4,
 "nbformat_minor": 5
}
