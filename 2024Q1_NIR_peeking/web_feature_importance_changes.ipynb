{
 "cells": [
  {
   "cell_type": "code",
   "execution_count": 1,
   "id": "eafce19e-36a3-4370-a219-51e3606a85c5",
   "metadata": {},
   "outputs": [],
   "source": [
    "import pandas as pd\n",
    "import numpy as np"
   ]
  },
  {
   "cell_type": "code",
   "execution_count": 2,
   "id": "77d3efb7-c2cd-4793-b292-f72d93c2ab1c",
   "metadata": {},
   "outputs": [],
   "source": [
    "def read_fi_df(path):\n",
    "    df = pd.read_csv(path, header = None)\n",
    "    df.columns = [\"feature\", \"pNDCG_diff\"]\n",
    "    tmp = df.pNDCG_diff.astype(str)\n",
    "    df[\"pNDCG_diff\"] = tmp.str.replace(\"%| \", \"\").astype(float)\n",
    "    # df['fi_rank'] = 1 + np.arange(df.shape[0])\n",
    "    return df\n"
   ]
  },
  {
   "cell_type": "code",
   "execution_count": 3,
   "id": "41ad1f79-75f3-46e8-8383-f6df86fdcb99",
   "metadata": {},
   "outputs": [
    {
     "name": "stderr",
     "output_type": "stream",
     "text": [
      "/var/folders/gn/nsnv1hf9035bqfv9srt9s6kh0000gp/T/ipykernel_69115/2575688040.py:5: FutureWarning: The default value of regex will change from True to False in a future version.\n",
      "  df[\"pNDCG_diff\"] = tmp.str.replace(\"%| \", \"\").astype(float)\n",
      "/var/folders/gn/nsnv1hf9035bqfv9srt9s6kh0000gp/T/ipykernel_69115/2575688040.py:5: FutureWarning: The default value of regex will change from True to False in a future version.\n",
      "  df[\"pNDCG_diff\"] = tmp.str.replace(\"%| \", \"\").astype(float)\n"
     ]
    }
   ],
   "source": [
    "df_full_peeking = read_fi_df(\"./results/nir-peeking-0309-web-base.txt\")\n",
    "df_no_peeking = read_fi_df(\"./results/nir-peeking-0309-web-60d.txt\")"
   ]
  },
  {
   "cell_type": "code",
   "execution_count": 4,
   "id": "2dcd64f2-bad2-4746-ad42-5bbbaaf646b5",
   "metadata": {},
   "outputs": [],
   "source": [
    "df = pd.concat([df_full_peeking.set_index('feature'),df_no_peeking.set_index('feature')], axis=1, join='inner')\n",
    "df.columns = [\"pNDCG_diff_prod\", \"pNDCG_diff_no_peek\"]"
   ]
  },
  {
   "cell_type": "code",
   "execution_count": 5,
   "id": "43643e50-f99f-436c-b504-0a41ed1a09be",
   "metadata": {},
   "outputs": [
    {
     "data": {
      "text/html": [
       "<div>\n",
       "<style scoped>\n",
       "    .dataframe tbody tr th:only-of-type {\n",
       "        vertical-align: middle;\n",
       "    }\n",
       "\n",
       "    .dataframe tbody tr th {\n",
       "        vertical-align: top;\n",
       "    }\n",
       "\n",
       "    .dataframe thead th {\n",
       "        text-align: right;\n",
       "    }\n",
       "</style>\n",
       "<table border=\"1\" class=\"dataframe\">\n",
       "  <thead>\n",
       "    <tr style=\"text-align: right;\">\n",
       "      <th></th>\n",
       "      <th>pNDCG_diff_prod</th>\n",
       "      <th>pNDCG_diff_no_peek</th>\n",
       "    </tr>\n",
       "    <tr>\n",
       "      <th>feature</th>\n",
       "      <th></th>\n",
       "      <th></th>\n",
       "    </tr>\n",
       "  </thead>\n",
       "  <tbody>\n",
       "    <tr>\n",
       "      <th>candidateInfo.contextualInfo[name=target].listing_neural_ir_embedding_query_neural_ir_embedding:cosine</th>\n",
       "      <td>-10.025</td>\n",
       "      <td>-4.761</td>\n",
       "    </tr>\n",
       "    <tr>\n",
       "      <th>candidateInfo.docInfo.listingInfo.activeListingBasics.totalViewCount_log1p</th>\n",
       "      <td>-8.548</td>\n",
       "      <td>-7.849</td>\n",
       "    </tr>\n",
       "    <tr>\n",
       "      <th>candidateInfo.contextualInfo[name=browser].listingId_recentlyViewedListingIds50FV1#listingId:overlap</th>\n",
       "      <td>-7.264</td>\n",
       "      <td>-7.118</td>\n",
       "    </tr>\n",
       "    <tr>\n",
       "      <th>contextualInfo[name=user].candidateInfo.userId_recentlyCartaddedUserIds50FV1#userId:overlap</th>\n",
       "      <td>-4.499</td>\n",
       "      <td>-4.681</td>\n",
       "    </tr>\n",
       "    <tr>\n",
       "      <th>candidateInfo.docInfo.listingInfo.activeListingBasics.priceUsd_log1p</th>\n",
       "      <td>-3.865</td>\n",
       "      <td>-3.507</td>\n",
       "    </tr>\n",
       "  </tbody>\n",
       "</table>\n",
       "</div>"
      ],
      "text/plain": [
       "                                                    pNDCG_diff_prod  \\\n",
       "feature                                                               \n",
       "candidateInfo.contextualInfo[name=target].listi...          -10.025   \n",
       "candidateInfo.docInfo.listingInfo.activeListing...           -8.548   \n",
       "candidateInfo.contextualInfo[name=browser].list...           -7.264   \n",
       "contextualInfo[name=user].candidateInfo.userId_...           -4.499   \n",
       "candidateInfo.docInfo.listingInfo.activeListing...           -3.865   \n",
       "\n",
       "                                                    pNDCG_diff_no_peek  \n",
       "feature                                                                 \n",
       "candidateInfo.contextualInfo[name=target].listi...              -4.761  \n",
       "candidateInfo.docInfo.listingInfo.activeListing...              -7.849  \n",
       "candidateInfo.contextualInfo[name=browser].list...              -7.118  \n",
       "contextualInfo[name=user].candidateInfo.userId_...              -4.681  \n",
       "candidateInfo.docInfo.listingInfo.activeListing...              -3.507  "
      ]
     },
     "execution_count": 5,
     "metadata": {},
     "output_type": "execute_result"
    }
   ],
   "source": [
    "df.head()"
   ]
  },
  {
   "cell_type": "code",
   "execution_count": 9,
   "id": "c1572512-314b-4e30-8d9f-95ebf3eeaa7f",
   "metadata": {},
   "outputs": [],
   "source": [
    "df[\"delta_pNDCG_diff\"] = df.pNDCG_diff_no_peek - df.pNDCG_diff_prod\n",
    "df[\"percent_change\"] = (df.pNDCG_diff_no_peek - df.pNDCG_diff_prod) / df.pNDCG_diff_prod\n",
    "# df[\"delta_fi_rank\"] = (df.fi_rank_no_peek - df.fi_rank_prod) / df.fi_rank_prod"
   ]
  },
  {
   "cell_type": "code",
   "execution_count": 10,
   "id": "4d9eeef9-b080-426c-be2e-cea00525b1a0",
   "metadata": {},
   "outputs": [
    {
     "data": {
      "text/html": [
       "<div>\n",
       "<style scoped>\n",
       "    .dataframe tbody tr th:only-of-type {\n",
       "        vertical-align: middle;\n",
       "    }\n",
       "\n",
       "    .dataframe tbody tr th {\n",
       "        vertical-align: top;\n",
       "    }\n",
       "\n",
       "    .dataframe thead th {\n",
       "        text-align: right;\n",
       "    }\n",
       "</style>\n",
       "<table border=\"1\" class=\"dataframe\">\n",
       "  <thead>\n",
       "    <tr style=\"text-align: right;\">\n",
       "      <th></th>\n",
       "      <th>pNDCG_diff_prod</th>\n",
       "      <th>pNDCG_diff_no_peek</th>\n",
       "      <th>delta_pNDCG_diff</th>\n",
       "      <th>percent_change</th>\n",
       "    </tr>\n",
       "    <tr>\n",
       "      <th>feature</th>\n",
       "      <th></th>\n",
       "      <th></th>\n",
       "      <th></th>\n",
       "      <th></th>\n",
       "    </tr>\n",
       "  </thead>\n",
       "  <tbody>\n",
       "    <tr>\n",
       "      <th>candidateInfo.contextualInfo[name=target].listing_neural_ir_embedding_query_neural_ir_embedding:cosine</th>\n",
       "      <td>-10.025</td>\n",
       "      <td>-4.761</td>\n",
       "      <td>5.264</td>\n",
       "      <td>-0.525087</td>\n",
       "    </tr>\n",
       "    <tr>\n",
       "      <th>candidateInfo.docInfo.listingInfo.activeListingBasics.totalViewCount_log1p</th>\n",
       "      <td>-8.548</td>\n",
       "      <td>-7.849</td>\n",
       "      <td>0.699</td>\n",
       "      <td>-0.081774</td>\n",
       "    </tr>\n",
       "    <tr>\n",
       "      <th>candidateInfo.contextualInfo[name=browser].listingId_recentlyViewedListingIds50FV1#listingId:overlap</th>\n",
       "      <td>-7.264</td>\n",
       "      <td>-7.118</td>\n",
       "      <td>0.146</td>\n",
       "      <td>-0.020099</td>\n",
       "    </tr>\n",
       "    <tr>\n",
       "      <th>contextualInfo[name=user].candidateInfo.userId_recentlyCartaddedUserIds50FV1#userId:overlap</th>\n",
       "      <td>-4.499</td>\n",
       "      <td>-4.681</td>\n",
       "      <td>-0.182</td>\n",
       "      <td>0.040453</td>\n",
       "    </tr>\n",
       "    <tr>\n",
       "      <th>candidateInfo.docInfo.listingInfo.activeListingBasics.priceUsd_log1p</th>\n",
       "      <td>-3.865</td>\n",
       "      <td>-3.507</td>\n",
       "      <td>0.358</td>\n",
       "      <td>-0.092626</td>\n",
       "    </tr>\n",
       "  </tbody>\n",
       "</table>\n",
       "</div>"
      ],
      "text/plain": [
       "                                                    pNDCG_diff_prod  \\\n",
       "feature                                                               \n",
       "candidateInfo.contextualInfo[name=target].listi...          -10.025   \n",
       "candidateInfo.docInfo.listingInfo.activeListing...           -8.548   \n",
       "candidateInfo.contextualInfo[name=browser].list...           -7.264   \n",
       "contextualInfo[name=user].candidateInfo.userId_...           -4.499   \n",
       "candidateInfo.docInfo.listingInfo.activeListing...           -3.865   \n",
       "\n",
       "                                                    pNDCG_diff_no_peek  \\\n",
       "feature                                                                  \n",
       "candidateInfo.contextualInfo[name=target].listi...              -4.761   \n",
       "candidateInfo.docInfo.listingInfo.activeListing...              -7.849   \n",
       "candidateInfo.contextualInfo[name=browser].list...              -7.118   \n",
       "contextualInfo[name=user].candidateInfo.userId_...              -4.681   \n",
       "candidateInfo.docInfo.listingInfo.activeListing...              -3.507   \n",
       "\n",
       "                                                    delta_pNDCG_diff  \\\n",
       "feature                                                                \n",
       "candidateInfo.contextualInfo[name=target].listi...             5.264   \n",
       "candidateInfo.docInfo.listingInfo.activeListing...             0.699   \n",
       "candidateInfo.contextualInfo[name=browser].list...             0.146   \n",
       "contextualInfo[name=user].candidateInfo.userId_...            -0.182   \n",
       "candidateInfo.docInfo.listingInfo.activeListing...             0.358   \n",
       "\n",
       "                                                    percent_change  \n",
       "feature                                                             \n",
       "candidateInfo.contextualInfo[name=target].listi...       -0.525087  \n",
       "candidateInfo.docInfo.listingInfo.activeListing...       -0.081774  \n",
       "candidateInfo.contextualInfo[name=browser].list...       -0.020099  \n",
       "contextualInfo[name=user].candidateInfo.userId_...        0.040453  \n",
       "candidateInfo.docInfo.listingInfo.activeListing...       -0.092626  "
      ]
     },
     "execution_count": 10,
     "metadata": {},
     "output_type": "execute_result"
    }
   ],
   "source": [
    "df.head()"
   ]
  },
  {
   "cell_type": "code",
   "execution_count": 11,
   "id": "c68f33b9-6a48-44f6-98d9-1c7e95dbb69a",
   "metadata": {},
   "outputs": [],
   "source": [
    "df.to_csv(\"./results/nir_peeking_web_fi_0309.csv\")"
   ]
  },
  {
   "cell_type": "code",
   "execution_count": null,
   "id": "415c2f90-e9b6-43e4-9f1e-6da6e285a9f3",
   "metadata": {},
   "outputs": [],
   "source": []
  },
  {
   "cell_type": "code",
   "execution_count": 12,
   "id": "7503ea55-f0ef-4a61-a585-d0cbafdcf97d",
   "metadata": {},
   "outputs": [
    {
     "name": "stderr",
     "output_type": "stream",
     "text": [
      "/var/folders/gn/nsnv1hf9035bqfv9srt9s6kh0000gp/T/ipykernel_69115/2575688040.py:5: FutureWarning: The default value of regex will change from True to False in a future version.\n",
      "  df[\"pNDCG_diff\"] = tmp.str.replace(\"%| \", \"\").astype(float)\n",
      "/var/folders/gn/nsnv1hf9035bqfv9srt9s6kh0000gp/T/ipykernel_69115/2575688040.py:5: FutureWarning: The default value of regex will change from True to False in a future version.\n",
      "  df[\"pNDCG_diff\"] = tmp.str.replace(\"%| \", \"\").astype(float)\n",
      "/var/folders/gn/nsnv1hf9035bqfv9srt9s6kh0000gp/T/ipykernel_69115/2575688040.py:5: FutureWarning: The default value of regex will change from True to False in a future version.\n",
      "  df[\"pNDCG_diff\"] = tmp.str.replace(\"%| \", \"\").astype(float)\n",
      "/var/folders/gn/nsnv1hf9035bqfv9srt9s6kh0000gp/T/ipykernel_69115/2575688040.py:5: FutureWarning: The default value of regex will change from True to False in a future version.\n",
      "  df[\"pNDCG_diff\"] = tmp.str.replace(\"%| \", \"\").astype(float)\n"
     ]
    }
   ],
   "source": [
    "df_full_peeking_0309 = read_fi_df(\"./results/nir-peeking-0309-web-base.txt\")\n",
    "df_no_peeking_0309 = read_fi_df(\"./results/nir-peeking-0309-web-60d.txt\")\n",
    "df_full_peeking_0310 = read_fi_df(\"./results/nir-peeking-0310-web-base.txt\")\n",
    "df_no_peeking_0310 = read_fi_df(\"./results/nir-peeking-0310-web-60d.txt\")"
   ]
  },
  {
   "cell_type": "code",
   "execution_count": 13,
   "id": "eb583b41-c6e3-482d-a8b6-f2f5caa12565",
   "metadata": {},
   "outputs": [],
   "source": [
    "df_0309 = pd.concat([df_full_peeking_0309.set_index('feature'),df_no_peeking_0309.set_index('feature')], axis=1, join='inner')\n",
    "df_0309.columns = [\"pNDCG_diff_prod\", \"pNDCG_diff_no_peek\"]\n",
    "\n",
    "df_0310 = pd.concat([df_full_peeking_0310.set_index('feature'),df_no_peeking_0310.set_index('feature')], axis=1, join='inner')\n",
    "df_0310.columns = [\"pNDCG_diff_prod\", \"pNDCG_diff_no_peek\"]"
   ]
  },
  {
   "cell_type": "code",
   "execution_count": 14,
   "id": "3d6c7273-7bfd-4b2c-81e4-b1a8bccc7aa1",
   "metadata": {},
   "outputs": [],
   "source": [
    "df_0309[\"delta_pNDCG_diff_0309\"] = df_0309.pNDCG_diff_no_peek - df_0309.pNDCG_diff_prod\n",
    "df_0310[\"delta_pNDCG_diff_0310\"] = df_0310.pNDCG_diff_no_peek - df_0310.pNDCG_diff_prod"
   ]
  },
  {
   "cell_type": "code",
   "execution_count": 16,
   "id": "bc74084f-ab97-4706-9c10-d0d86aaef256",
   "metadata": {},
   "outputs": [],
   "source": [
    "df = pd.concat([df_0309,df_0310], axis=1, join='inner')"
   ]
  },
  {
   "cell_type": "code",
   "execution_count": 18,
   "id": "74b1cbfd-c9dc-401b-a5b1-7538da0669d7",
   "metadata": {},
   "outputs": [],
   "source": [
    "df[\"delta_pNDCG_diff\"] = (df.delta_pNDCG_diff_0309 + df.delta_pNDCG_diff_0310) / 2.0"
   ]
  },
  {
   "cell_type": "code",
   "execution_count": 19,
   "id": "e03f76ea-574d-4d2f-8029-1eca38f6b3ac",
   "metadata": {},
   "outputs": [],
   "source": [
    "df.to_csv(\"./results/nir_peeking_web_fi_avg.csv\")"
   ]
  },
  {
   "cell_type": "code",
   "execution_count": null,
   "id": "dfe0aa31-a40d-4a34-92ef-d54afdac347d",
   "metadata": {},
   "outputs": [],
   "source": []
  }
 ],
 "metadata": {
  "kernelspec": {
   "display_name": "venv",
   "language": "python",
   "name": "venv"
  },
  "language_info": {
   "codemirror_mode": {
    "name": "ipython",
    "version": 3
   },
   "file_extension": ".py",
   "mimetype": "text/x-python",
   "name": "python",
   "nbconvert_exporter": "python",
   "pygments_lexer": "ipython3",
   "version": "3.10.1"
  }
 },
 "nbformat": 4,
 "nbformat_minor": 5
}
