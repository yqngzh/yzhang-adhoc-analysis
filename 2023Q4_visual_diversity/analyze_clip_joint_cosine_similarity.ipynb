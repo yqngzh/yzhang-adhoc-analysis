{
 "cells": [
  {
   "cell_type": "code",
   "execution_count": 1,
   "id": "18bb53db",
   "metadata": {},
   "outputs": [
    {
     "name": "stdout",
     "output_type": "stream",
     "text": [
      "WARNING:  Python 3.5-3.7 will be deprecated on August 8th, 2023. Please use Python version 3.8 and up.\n",
      "\n",
      "If you have a compatible Python interpreter installed, you can use it by setting\n",
      "the CLOUDSDK_PYTHON environment variable to point to it.\n",
      "\n",
      "Updated property [core/project].\n"
     ]
    }
   ],
   "source": [
    "!gcloud config set project etsy-bigquery-adhoc-prod"
   ]
  },
  {
   "cell_type": "code",
   "execution_count": 2,
   "id": "81aa3431",
   "metadata": {},
   "outputs": [],
   "source": [
    "%load_ext google.cloud.bigquery"
   ]
  },
  {
   "cell_type": "code",
   "execution_count": 3,
   "id": "99a4dd7b",
   "metadata": {},
   "outputs": [],
   "source": [
    "import numpy as np\n",
    "import random\n",
    "import matplotlib.pyplot as plt\n",
    "import seaborn as sns\n",
    "from tqdm import tqdm"
   ]
  },
  {
   "cell_type": "markdown",
   "id": "4029061b",
   "metadata": {},
   "source": [
    "# Run the following in Bigquery\n",
    "```\n",
    "create table `etsy-sr-etl-prod.yzhang.visual_diversity_clipjoint_embedding` as (\n",
    "  with train_data as (\n",
    "    select distinct\n",
    "        requestUUID, position, visitId,\n",
    "        ctx.docInfo.queryInfo.query as query_str,\n",
    "        ctx.docInfo.queryInfo.queryLevelMetrics.bin as query_bin,\n",
    "        candidateInfo.docInfo.listingInfo.listingId as listing_id,\n",
    "    from `etsy-ml-systems-prod.attributed_instance.query_pipeline_web_organic_2023_09_08`,\n",
    "        unnest(contextualInfo) as ctx\n",
    "    where ctx.docInfo.queryInfo.query is not null\n",
    "    and candidateInfo.docInfo.listingInfo.listingId is not null\n",
    "  ),\n",
    "  embed_data as (\n",
    "    select listing_id, joint_embedding_norm as embedding\n",
    "    from `etsy-data-warehouse-prod.computer_vision.clip_joint_embeddings_latest`\n",
    "    where listing_id in (\n",
    "      select distinct listing_id from train_data\n",
    "    )\n",
    "  ),\n",
    "  results as (\n",
    "    select train_data.*, embed_data.embedding\n",
    "    from train_data\n",
    "    join embed_data\n",
    "    on train_data.listing_id = embed_data.listing_id\n",
    "  )\n",
    "  select * from results  \n",
    ")\n",
    "```"
   ]
  },
  {
   "cell_type": "markdown",
   "id": "fadb2e92",
   "metadata": {},
   "source": [
    "Run dataflow job to get cosine sim"
   ]
  },
  {
   "cell_type": "code",
   "execution_count": 4,
   "id": "2e314a3e",
   "metadata": {},
   "outputs": [
    {
     "name": "stderr",
     "output_type": "stream",
     "text": [
      "Query complete after 0.02s: 100%|█████████████| 1/1 [00:00<00:00, 490.96query/s]\n",
      "Downloading: 100%|██████████████████| 846312/846312 [04:26<00:00, 3181.46rows/s]\n"
     ]
    }
   ],
   "source": [
    "%%bigquery df\n",
    "with query_gms as (\n",
    "  select query, visit_id, sum(attributed_gms) as gms\n",
    "  from `etsy-data-warehouse-prod.search.query_sessions_new`\n",
    "  where _date = date('2023-09-08')\n",
    "  group by query, visit_id\n",
    ")\n",
    "select vsv2_with_visit.*, gms\n",
    "from vsv2_with_visit\n",
    "left join query_gms\n",
    "on vsv2_with_visit.query_str = query_gms.query\n",
    "and vsv2_with_visit.visitId = query_gms.visit_id"
   ]
  },
  {
   "cell_type": "code",
   "execution_count": 5,
   "id": "17d8d13a",
   "metadata": {},
   "outputs": [
    {
     "data": {
      "text/html": [
       "<div>\n",
       "<style scoped>\n",
       "    .dataframe tbody tr th:only-of-type {\n",
       "        vertical-align: middle;\n",
       "    }\n",
       "\n",
       "    .dataframe tbody tr th {\n",
       "        vertical-align: top;\n",
       "    }\n",
       "\n",
       "    .dataframe thead th {\n",
       "        text-align: right;\n",
       "    }\n",
       "</style>\n",
       "<table border=\"1\" class=\"dataframe\">\n",
       "  <thead>\n",
       "    <tr style=\"text-align: right;\">\n",
       "      <th></th>\n",
       "      <th>requestUUID</th>\n",
       "      <th>query_str</th>\n",
       "      <th>query_bin</th>\n",
       "      <th>listing_ids</th>\n",
       "      <th>cosine_sim</th>\n",
       "      <th>visitId</th>\n",
       "      <th>gms</th>\n",
       "    </tr>\n",
       "  </thead>\n",
       "  <tbody>\n",
       "    <tr>\n",
       "      <th>0</th>\n",
       "      <td>ee2aae38-5df8-44b5-bea7-e9a9b9710708</td>\n",
       "      <td>quilt for sale handmade</td>\n",
       "      <td>None</td>\n",
       "      <td>[1236331178, 1531095982, 1477931836, 153106463...</td>\n",
       "      <td>[1.0000000000000002, 0.3164352481816841, 0.592...</td>\n",
       "      <td>6JGYpPu92b95VLKrY0uZmI4iXx2G.1694152661322.1</td>\n",
       "      <td>NaN</td>\n",
       "    </tr>\n",
       "    <tr>\n",
       "      <th>1</th>\n",
       "      <td>42513714-471b-4c0b-bdea-dd2a2f268de6</td>\n",
       "      <td>fox and butterfly patch</td>\n",
       "      <td>None</td>\n",
       "      <td>[1005345403, 766767466, 1555373167, 1003673033...</td>\n",
       "      <td>[1.0000000000000002, 0.033967095553444765, 0.1...</td>\n",
       "      <td>L1XZI_x1X0SyUXYRiASr_sCO8rOV.1694161051452.2</td>\n",
       "      <td>NaN</td>\n",
       "    </tr>\n",
       "    <tr>\n",
       "      <th>2</th>\n",
       "      <td>82e986c8-4f2b-4006-893c-2c6d1643dd7a</td>\n",
       "      <td>alianza de boda</td>\n",
       "      <td>None</td>\n",
       "      <td>[976559652, 976559652, 1225776292, 1225776292,...</td>\n",
       "      <td>[1.0000000000000002, 1.0000000000000002, 0.470...</td>\n",
       "      <td>23tuTxAR9BMfedQsPgl_ZkGUQLLH.1694151970047.2</td>\n",
       "      <td>NaN</td>\n",
       "    </tr>\n",
       "  </tbody>\n",
       "</table>\n",
       "</div>"
      ],
      "text/plain": [
       "                            requestUUID                query_str query_bin  \\\n",
       "0  ee2aae38-5df8-44b5-bea7-e9a9b9710708  quilt for sale handmade      None   \n",
       "1  42513714-471b-4c0b-bdea-dd2a2f268de6  fox and butterfly patch      None   \n",
       "2  82e986c8-4f2b-4006-893c-2c6d1643dd7a          alianza de boda      None   \n",
       "\n",
       "                                         listing_ids  \\\n",
       "0  [1236331178, 1531095982, 1477931836, 153106463...   \n",
       "1  [1005345403, 766767466, 1555373167, 1003673033...   \n",
       "2  [976559652, 976559652, 1225776292, 1225776292,...   \n",
       "\n",
       "                                          cosine_sim  \\\n",
       "0  [1.0000000000000002, 0.3164352481816841, 0.592...   \n",
       "1  [1.0000000000000002, 0.033967095553444765, 0.1...   \n",
       "2  [1.0000000000000002, 1.0000000000000002, 0.470...   \n",
       "\n",
       "                                        visitId  gms  \n",
       "0  6JGYpPu92b95VLKrY0uZmI4iXx2G.1694152661322.1  NaN  \n",
       "1  L1XZI_x1X0SyUXYRiASr_sCO8rOV.1694161051452.2  NaN  \n",
       "2  23tuTxAR9BMfedQsPgl_ZkGUQLLH.1694151970047.2  NaN  "
      ]
     },
     "execution_count": 5,
     "metadata": {},
     "output_type": "execute_result"
    }
   ],
   "source": [
    "df.head(n=3)"
   ]
  },
  {
   "cell_type": "code",
   "execution_count": 6,
   "id": "c9961ded",
   "metadata": {},
   "outputs": [
    {
     "data": {
      "text/plain": [
       "(846312, 7)"
      ]
     },
     "execution_count": 6,
     "metadata": {},
     "output_type": "execute_result"
    }
   ],
   "source": [
    "df.shape"
   ]
  },
  {
   "cell_type": "code",
   "execution_count": 7,
   "id": "7c1273e4",
   "metadata": {},
   "outputs": [
    {
     "data": {
      "text/plain": [
       "(457798, 7)"
      ]
     },
     "execution_count": 7,
     "metadata": {},
     "output_type": "execute_result"
    }
   ],
   "source": [
    "df[~df.gms.isna()].shape"
   ]
  },
  {
   "cell_type": "markdown",
   "id": "ccd95bc9",
   "metadata": {},
   "source": [
    "# Distribution of similarity scores"
   ]
  },
  {
   "cell_type": "code",
   "execution_count": 12,
   "id": "db82789c",
   "metadata": {},
   "outputs": [],
   "source": [
    "## Overall - sample 10000 requests\n",
    "df_sub = df.sample(n=10000, replace=False).reset_index(inplace=False)"
   ]
  },
  {
   "cell_type": "code",
   "execution_count": 13,
   "id": "66304739",
   "metadata": {},
   "outputs": [
    {
     "name": "stderr",
     "output_type": "stream",
     "text": [
      "100%|███████████████████████████████████| 10000/10000 [00:02<00:00, 4089.36it/s]\n"
     ]
    }
   ],
   "source": [
    "all_scores = []\n",
    "for i in tqdm(range(10000)):\n",
    "    d = int(np.sqrt(len(df_sub.cosine_sim[i])))\n",
    "    sim_mat = np.reshape(np.copy(df_sub.cosine_sim[i]), (d, d))\n",
    "    np.fill_diagonal(sim_mat, np.nan)\n",
    "    sim_scores = sim_mat.flatten()\n",
    "    all_scores.append(sim_scores)"
   ]
  },
  {
   "cell_type": "code",
   "execution_count": 15,
   "id": "08e71dfb",
   "metadata": {},
   "outputs": [
    {
     "data": {
      "text/plain": [
       "<Axes: ylabel='Count'>"
      ]
     },
     "execution_count": 15,
     "metadata": {},
     "output_type": "execute_result"
    },
    {
     "data": {
      "image/png": "[encoded data removed]",
      "text/plain": [
       "<Figure size 640x480 with 1 Axes>"
      ]
     },
     "metadata": {},
     "output_type": "display_data"
    }
   ],
   "source": [
    "all_scores_flatten = np.concatenate(all_scores)\n",
    "sns.histplot(all_scores_flatten)"
   ]
  },
  {
   "cell_type": "code",
   "execution_count": 16,
   "id": "43575661",
   "metadata": {},
   "outputs": [
    {
     "data": {
      "text/plain": [
       "array([None, 'head', 'tail', 'top.1', 'torso', 'top.01'], dtype=object)"
      ]
     },
     "execution_count": 16,
     "metadata": {},
     "output_type": "execute_result"
    }
   ],
   "source": [
    "## By query bin\n",
    "df.query_bin.unique()"
   ]
  },
  {
   "cell_type": "code",
   "execution_count": 17,
   "id": "c2add2c3",
   "metadata": {},
   "outputs": [
    {
     "name": "stdout",
     "output_type": "stream",
     "text": [
      "(247318, 7)\n",
      "(51489, 7)\n",
      "(68225, 7)\n",
      "(153508, 7)\n",
      "(183469, 7)\n"
     ]
    }
   ],
   "source": [
    "df_head = df[df.query_bin == \"head\"]; print(df_head.shape)\n",
    "df_tail = df[df.query_bin == \"tail\"]; print(df_tail.shape)\n",
    "df_torso = df[df.query_bin == \"torso\"]; print(df_torso.shape)\n",
    "df_top1 = df[df.query_bin == \"top.1\"]; print(df_top1.shape)\n",
    "df_top01 = df[df.query_bin == \"top.01\"]; print(df_top01.shape)"
   ]
  },
  {
   "cell_type": "code",
   "execution_count": 24,
   "id": "6697988a",
   "metadata": {},
   "outputs": [],
   "source": [
    "def get_sim_scores(data_df):\n",
    "    all_scores = []\n",
    "    for i in tqdm(range(data_df.shape[0])):\n",
    "        d = int(np.sqrt(len(data_df.cosine_sim[i])))\n",
    "        sim_mat = np.reshape(np.copy(data_df.cosine_sim[i]), (d, d))\n",
    "        np.fill_diagonal(sim_mat, np.nan)\n",
    "        sim_scores = sim_mat.flatten()\n",
    "        all_scores.append(sim_scores[~np.isnan(sim_scores)])\n",
    "    return np.concatenate(all_scores)"
   ]
  },
  {
   "cell_type": "code",
   "execution_count": 25,
   "id": "043fadc4",
   "metadata": {},
   "outputs": [
    {
     "name": "stderr",
     "output_type": "stream",
     "text": [
      "100%|███████████████████████████████████| 10000/10000 [00:04<00:00, 2441.96it/s]\n",
      "100%|███████████████████████████████████| 10000/10000 [00:02<00:00, 4330.35it/s]\n",
      "100%|██████████████████████████████████| 10000/10000 [00:00<00:00, 12591.19it/s]\n",
      "100%|███████████████████████████████████| 10000/10000 [00:02<00:00, 4047.90it/s]\n",
      "100%|██████████████████████████████████| 10000/10000 [00:00<00:00, 12905.98it/s]\n"
     ]
    }
   ],
   "source": [
    "df_head_sub = df_head.sample(n=10000, replace=False).reset_index(inplace=False)\n",
    "head_scores = get_sim_scores(df_head_sub)\n",
    "\n",
    "df_tail_sub = df_tail.sample(n=10000, replace=False).reset_index(inplace=False)\n",
    "tail_scores = get_sim_scores(df_tail_sub)\n",
    "\n",
    "df_torso_sub = df_torso.sample(n=10000, replace=False).reset_index(inplace=False)\n",
    "torso_scores = get_sim_scores(df_torso_sub)\n",
    "\n",
    "df_top1_sub = df_top1.sample(n=10000, replace=False).reset_index(inplace=False)\n",
    "top1_scores = get_sim_scores(df_top1_sub)\n",
    "\n",
    "df_top01_sub = df_top01.sample(n=10000, replace=False).reset_index(inplace=False)\n",
    "top01_scores = get_sim_scores(df_top01_sub)"
   ]
  },
  {
   "cell_type": "code",
   "execution_count": 32,
   "id": "bfe71fab",
   "metadata": {},
   "outputs": [
    {
     "name": "stdout",
     "output_type": "stream",
     "text": [
      "-0.25392447772252347\n",
      "1.0000000000000013\n"
     ]
    }
   ],
   "source": [
    "print(np.min(top01_scores)); print(np.max(top01_scores))"
   ]
  },
  {
   "cell_type": "code",
   "execution_count": 33,
   "id": "ceecf404",
   "metadata": {},
   "outputs": [
    {
     "name": "stdout",
     "output_type": "stream",
     "text": [
      "-0.2990471377509041\n",
      "1.0000000000000013\n"
     ]
    }
   ],
   "source": [
    "print(np.min(head_scores)); print(np.max(head_scores))"
   ]
  },
  {
   "cell_type": "code",
   "execution_count": 34,
   "id": "47d76d58",
   "metadata": {},
   "outputs": [
    {
     "name": "stdout",
     "output_type": "stream",
     "text": [
      "-0.2810254762146495\n",
      "1.0000000000000013\n"
     ]
    }
   ],
   "source": [
    "print(np.min(tail_scores)); print(np.max(tail_scores))"
   ]
  },
  {
   "cell_type": "code",
   "execution_count": 29,
   "id": "c3079c08",
   "metadata": {},
   "outputs": [
    {
     "data": {
      "image/png": "[encoded data removed]",
      "text/plain": [
       "<Figure size 1500x1000 with 6 Axes>"
      ]
     },
     "metadata": {},
     "output_type": "display_data"
    }
   ],
   "source": [
    "fig, axes = plt.subplots(2, 3, figsize=(15, 10), sharey=True)\n",
    "fig.suptitle('Cosine similarity score distribution by query bin')\n",
    "\n",
    "sns.histplot(ax=axes[0, 0], data=top01_scores)\n",
    "axes[0, 0].set_title(\"Top.01\")\n",
    "\n",
    "sns.histplot(ax=axes[0, 1], data=top1_scores)\n",
    "axes[0, 1].set_title(\"Top.1\")\n",
    "\n",
    "sns.histplot(ax=axes[1, 0], data=head_scores)\n",
    "axes[1, 0].set_title(\"Head\")\n",
    "\n",
    "sns.histplot(ax=axes[1, 1], data=torso_scores)\n",
    "axes[1, 1].set_title(\"Torso\")\n",
    "\n",
    "sns.histplot(ax=axes[1, 2], data=tail_scores)\n",
    "axes[1, 2].set_title(\"Tail\")\n",
    "\n",
    "plt.show()"
   ]
  },
  {
   "cell_type": "markdown",
   "id": "4639e0e9",
   "metadata": {},
   "source": [
    "# Threshold vs GMS"
   ]
  },
  {
   "cell_type": "code",
   "execution_count": 37,
   "id": "1b8d5f22",
   "metadata": {},
   "outputs": [],
   "source": [
    "df_gms = df[~df.gms.isna()]\n",
    "df_gms = df_gms[df_gms.gms > 0.]"
   ]
  },
  {
   "cell_type": "code",
   "execution_count": 39,
   "id": "6560c618",
   "metadata": {},
   "outputs": [
    {
     "data": {
      "text/plain": [
       "47595960.0"
      ]
     },
     "execution_count": 39,
     "metadata": {},
     "output_type": "execute_result"
    }
   ],
   "source": [
    "df.gms.dropna().sum()"
   ]
  },
  {
   "cell_type": "code",
   "execution_count": 40,
   "id": "9682c0d2",
   "metadata": {},
   "outputs": [
    {
     "data": {
      "text/plain": [
       "47595960.0"
      ]
     },
     "execution_count": 40,
     "metadata": {},
     "output_type": "execute_result"
    }
   ],
   "source": [
    "df_gms.gms.sum()"
   ]
  },
  {
   "cell_type": "code",
   "execution_count": 62,
   "id": "d9117a0d",
   "metadata": {},
   "outputs": [
    {
     "data": {
      "text/plain": [
       "(22063, 8)"
      ]
     },
     "execution_count": 62,
     "metadata": {},
     "output_type": "execute_result"
    }
   ],
   "source": [
    "df_gms.shape"
   ]
  },
  {
   "cell_type": "code",
   "execution_count": 42,
   "id": "cafea093",
   "metadata": {},
   "outputs": [],
   "source": [
    "df_gms.reset_index(inplace=True)"
   ]
  },
  {
   "cell_type": "code",
   "execution_count": 67,
   "id": "950d524a",
   "metadata": {},
   "outputs": [
    {
     "name": "stderr",
     "output_type": "stream",
     "text": [
      "100%|███████████████████████████████████| 22063/22063 [00:02<00:00, 7444.08it/s]\n"
     ]
    }
   ],
   "source": [
    "thresholds = [0.0001, 0.001, 0.01, 0.05, 0.1, 0.2]\n",
    "threshold_gms = {str(th): 0.0 for th in thresholds}\n",
    "\n",
    "for i in tqdm(range(df_gms.shape[0])):\n",
    "    d = int(np.sqrt(len(df_gms.cosine_sim[i])))\n",
    "    sim_mat = np.reshape(np.copy(df_gms.cosine_sim[i]), (d, d))\n",
    "    np.fill_diagonal(sim_mat, np.nan)\n",
    "    sim_scores = sim_mat.flatten()\n",
    "    offdiag_sim_scores = sim_scores[~np.isnan(sim_scores)]\n",
    "    for k, v in threshold_gms.items():\n",
    "        if np.any(offdiag_sim_scores > (1. - float(k))):\n",
    "            threshold_gms[k] = v + df_gms.gms[i]"
   ]
  },
  {
   "cell_type": "code",
   "execution_count": 68,
   "id": "32564303",
   "metadata": {},
   "outputs": [
    {
     "data": {
      "text/plain": [
       "{'0.0001': 11902088.0,\n",
       " '0.001': 13320655.0,\n",
       " '0.01': 15866525.0,\n",
       " '0.05': 23237367.0,\n",
       " '0.1': 31704589.0,\n",
       " '0.2': 43396132.0}"
      ]
     },
     "execution_count": 68,
     "metadata": {},
     "output_type": "execute_result"
    }
   ],
   "source": [
    "threshold_gms"
   ]
  },
  {
   "cell_type": "markdown",
   "id": "82f8eae6",
   "metadata": {},
   "source": [
    "# How discriminative are the scores"
   ]
  },
  {
   "cell_type": "markdown",
   "id": "73e63539",
   "metadata": {},
   "source": [
    "Sample 20 pairs of listings with sim score > thresholds"
   ]
  },
  {
   "cell_type": "code",
   "execution_count": 92,
   "id": "3abecaec",
   "metadata": {},
   "outputs": [],
   "source": [
    "df_sampled = df.sample(n=10000, replace=False).reset_index(inplace=False)"
   ]
  },
  {
   "cell_type": "code",
   "execution_count": 93,
   "id": "9c10da86",
   "metadata": {},
   "outputs": [
    {
     "name": "stderr",
     "output_type": "stream",
     "text": [
      "100%|████████████████████████████████████| 10000/10000 [00:31<00:00, 321.01it/s]\n"
     ]
    }
   ],
   "source": [
    "thresholds = [0.0001, 0.001, 0.01, 0.05, 0.1, 0.2]\n",
    "threshold_listings = {str(th): set() for th in thresholds}\n",
    "\n",
    "for i in tqdm(range(df_sampled.shape[0])):\n",
    "    d = int(np.sqrt(len(df_sampled.cosine_sim[i])))\n",
    "    sim_mat = np.reshape(np.copy(df_sampled.cosine_sim[i]), (d, d))\n",
    "    cand_listings = list(df_sampled.listing_ids[i])\n",
    "    np.fill_diagonal(sim_mat, np.nan)\n",
    "    \n",
    "    for j in range(d):\n",
    "        for k in range(j+1, d):\n",
    "            for key, val in threshold_gms.items():\n",
    "                if (sim_mat[j, k] > (1.0 - float(key))) and (cand_listings[j] != cand_listings[k]):\n",
    "                    threshold_listings[key].add((cand_listings[j], cand_listings[k]))"
   ]
  },
  {
   "cell_type": "code",
   "execution_count": 94,
   "id": "fd0ad654",
   "metadata": {},
   "outputs": [
    {
     "data": {
      "text/plain": [
       "[2800, 3204, 4328, 11149, 32050, 168527]"
      ]
     },
     "execution_count": 94,
     "metadata": {},
     "output_type": "execute_result"
    }
   ],
   "source": [
    "[len(v) for v in threshold_listings.values()]"
   ]
  },
  {
   "cell_type": "code",
   "execution_count": 95,
   "id": "465057e0",
   "metadata": {},
   "outputs": [],
   "source": [
    "val = threshold_listings[\"0.1\"]"
   ]
  },
  {
   "cell_type": "code",
   "execution_count": 96,
   "id": "b9952a09",
   "metadata": {},
   "outputs": [],
   "source": [
    "sampled_idx = np.random.choice(len(val), size=20, replace=False)"
   ]
  },
  {
   "cell_type": "code",
   "execution_count": 97,
   "id": "215cb198",
   "metadata": {},
   "outputs": [
    {
     "data": {
      "text/plain": [
       "array([30310,  8704,  7033, 31108,  6557, 10238, 24073, 15109, 23410,\n",
       "         261,  5089,  1535, 26998, 13768,  3508, 31982, 11119, 19046,\n",
       "         640,  9650])"
      ]
     },
     "execution_count": 97,
     "metadata": {},
     "output_type": "execute_result"
    }
   ],
   "source": [
    "sampled_idx"
   ]
  },
  {
   "cell_type": "code",
   "execution_count": 99,
   "id": "027d43ba",
   "metadata": {
    "scrolled": false
   },
   "outputs": [
    {
     "name": "stdout",
     "output_type": "stream",
     "text": [
      "0.0001\n",
      "https://atlas.etsycorp.com/recsys/listing_viewer.php?listing_ids=1096943818,1096926184\n",
      "https://atlas.etsycorp.com/recsys/listing_viewer.php?listing_ids=1428523403,1477106489\n",
      "https://atlas.etsycorp.com/recsys/listing_viewer.php?listing_ids=103524479,103523831\n",
      "https://atlas.etsycorp.com/recsys/listing_viewer.php?listing_ids=1165881246,1225883870\n",
      "https://atlas.etsycorp.com/recsys/listing_viewer.php?listing_ids=609007543,595167510\n",
      "https://atlas.etsycorp.com/recsys/listing_viewer.php?listing_ids=1293133474,1338296406\n",
      "https://atlas.etsycorp.com/recsys/listing_viewer.php?listing_ids=1545204834,1559385301\n",
      "https://atlas.etsycorp.com/recsys/listing_viewer.php?listing_ids=1364105783,1364115129\n",
      "https://atlas.etsycorp.com/recsys/listing_viewer.php?listing_ids=805693540,1416073599\n",
      "https://atlas.etsycorp.com/recsys/listing_viewer.php?listing_ids=1424504174,1519093028\n",
      "https://atlas.etsycorp.com/recsys/listing_viewer.php?listing_ids=1519752439,1505575656\n",
      "https://atlas.etsycorp.com/recsys/listing_viewer.php?listing_ids=881053076,895009643\n",
      "https://atlas.etsycorp.com/recsys/listing_viewer.php?listing_ids=953579333,1537516959\n",
      "https://atlas.etsycorp.com/recsys/listing_viewer.php?listing_ids=903358735,1400234252\n",
      "https://atlas.etsycorp.com/recsys/listing_viewer.php?listing_ids=1402497101,1489504813\n",
      "https://atlas.etsycorp.com/recsys/listing_viewer.php?listing_ids=895614921,895619323\n",
      "https://atlas.etsycorp.com/recsys/listing_viewer.php?listing_ids=1027623774,1106536535\n",
      "https://atlas.etsycorp.com/recsys/listing_viewer.php?listing_ids=761571561,758831495\n",
      "https://atlas.etsycorp.com/recsys/listing_viewer.php?listing_ids=1047850944,1132782462\n",
      "https://atlas.etsycorp.com/recsys/listing_viewer.php?listing_ids=911923165,897991662\n",
      "0.001\n",
      "https://atlas.etsycorp.com/recsys/listing_viewer.php?listing_ids=795445587,709137353\n",
      "https://atlas.etsycorp.com/recsys/listing_viewer.php?listing_ids=1372634996,1115101337\n",
      "https://atlas.etsycorp.com/recsys/listing_viewer.php?listing_ids=1479998388,1483246375\n",
      "https://atlas.etsycorp.com/recsys/listing_viewer.php?listing_ids=1011950655,928905758\n",
      "https://atlas.etsycorp.com/recsys/listing_viewer.php?listing_ids=1170756404,1118046162\n",
      "https://atlas.etsycorp.com/recsys/listing_viewer.php?listing_ids=1372601042,1402998218\n",
      "https://atlas.etsycorp.com/recsys/listing_viewer.php?listing_ids=928905758,926321756\n",
      "https://atlas.etsycorp.com/recsys/listing_viewer.php?listing_ids=1340460755,1294812383\n",
      "https://atlas.etsycorp.com/recsys/listing_viewer.php?listing_ids=1330563264,1542645968\n",
      "https://atlas.etsycorp.com/recsys/listing_viewer.php?listing_ids=1535066159,1533075695\n",
      "https://atlas.etsycorp.com/recsys/listing_viewer.php?listing_ids=929069385,1034256575\n",
      "https://atlas.etsycorp.com/recsys/listing_viewer.php?listing_ids=1483373743,1501112600\n",
      "https://atlas.etsycorp.com/recsys/listing_viewer.php?listing_ids=1303862790,1433405105\n",
      "https://atlas.etsycorp.com/recsys/listing_viewer.php?listing_ids=219428978,219428487\n",
      "https://atlas.etsycorp.com/recsys/listing_viewer.php?listing_ids=1539879032,1531569414\n",
      "https://atlas.etsycorp.com/recsys/listing_viewer.php?listing_ids=1049611062,1280422519\n",
      "https://atlas.etsycorp.com/recsys/listing_viewer.php?listing_ids=1011950655,1124037533\n",
      "https://atlas.etsycorp.com/recsys/listing_viewer.php?listing_ids=1135885574,1152408402\n",
      "https://atlas.etsycorp.com/recsys/listing_viewer.php?listing_ids=1194273284,1194235032\n",
      "https://atlas.etsycorp.com/recsys/listing_viewer.php?listing_ids=1489685244,908129683\n",
      "0.01\n",
      "https://atlas.etsycorp.com/recsys/listing_viewer.php?listing_ids=1206415069,1206418089\n",
      "https://atlas.etsycorp.com/recsys/listing_viewer.php?listing_ids=644472493,629762960\n",
      "https://atlas.etsycorp.com/recsys/listing_viewer.php?listing_ids=609872743,609872269\n",
      "https://atlas.etsycorp.com/recsys/listing_viewer.php?listing_ids=1029528982,1376626571\n",
      "https://atlas.etsycorp.com/recsys/listing_viewer.php?listing_ids=1271300419,1229427990\n",
      "https://atlas.etsycorp.com/recsys/listing_viewer.php?listing_ids=1460171168,1237799979\n",
      "https://atlas.etsycorp.com/recsys/listing_viewer.php?listing_ids=1069603335,1295137217\n",
      "https://atlas.etsycorp.com/recsys/listing_viewer.php?listing_ids=1474523250,1474522118\n",
      "https://atlas.etsycorp.com/recsys/listing_viewer.php?listing_ids=1067841617,1116537092\n",
      "https://atlas.etsycorp.com/recsys/listing_viewer.php?listing_ids=1478268842,1471402419\n",
      "https://atlas.etsycorp.com/recsys/listing_viewer.php?listing_ids=1496939337,1201501720\n",
      "https://atlas.etsycorp.com/recsys/listing_viewer.php?listing_ids=1545056374,1283079025\n",
      "https://atlas.etsycorp.com/recsys/listing_viewer.php?listing_ids=1508653649,1122168459\n",
      "https://atlas.etsycorp.com/recsys/listing_viewer.php?listing_ids=609950268,1545043060\n",
      "https://atlas.etsycorp.com/recsys/listing_viewer.php?listing_ids=1390894299,1542651256\n",
      "https://atlas.etsycorp.com/recsys/listing_viewer.php?listing_ids=1510855152,1424433502\n",
      "https://atlas.etsycorp.com/recsys/listing_viewer.php?listing_ids=1476431626,1476433214\n",
      "https://atlas.etsycorp.com/recsys/listing_viewer.php?listing_ids=289877753,400820283\n",
      "https://atlas.etsycorp.com/recsys/listing_viewer.php?listing_ids=1311589488,1432034091\n",
      "https://atlas.etsycorp.com/recsys/listing_viewer.php?listing_ids=1489040423,1474847536\n",
      "0.05\n",
      "https://atlas.etsycorp.com/recsys/listing_viewer.php?listing_ids=1301366221,1301360213\n",
      "https://atlas.etsycorp.com/recsys/listing_viewer.php?listing_ids=1221688305,1207735200\n",
      "https://atlas.etsycorp.com/recsys/listing_viewer.php?listing_ids=1472740226,1480992974\n",
      "https://atlas.etsycorp.com/recsys/listing_viewer.php?listing_ids=1298923407,850165579\n",
      "https://atlas.etsycorp.com/recsys/listing_viewer.php?listing_ids=1550471929,1550598133\n",
      "https://atlas.etsycorp.com/recsys/listing_viewer.php?listing_ids=1514528803,1477888041\n",
      "https://atlas.etsycorp.com/recsys/listing_viewer.php?listing_ids=518537029,489806432\n",
      "https://atlas.etsycorp.com/recsys/listing_viewer.php?listing_ids=531524923,517726008\n",
      "https://atlas.etsycorp.com/recsys/listing_viewer.php?listing_ids=1191400940,1170647688\n",
      "https://atlas.etsycorp.com/recsys/listing_viewer.php?listing_ids=1458078604,1470907085\n",
      "https://atlas.etsycorp.com/recsys/listing_viewer.php?listing_ids=1099134734,1500192277\n",
      "https://atlas.etsycorp.com/recsys/listing_viewer.php?listing_ids=1527712627,1281857808\n",
      "https://atlas.etsycorp.com/recsys/listing_viewer.php?listing_ids=1219443595,1510222025\n",
      "https://atlas.etsycorp.com/recsys/listing_viewer.php?listing_ids=850480334,1482428199\n",
      "https://atlas.etsycorp.com/recsys/listing_viewer.php?listing_ids=1354226863,1425590982\n",
      "https://atlas.etsycorp.com/recsys/listing_viewer.php?listing_ids=1446937376,1468356210\n",
      "https://atlas.etsycorp.com/recsys/listing_viewer.php?listing_ids=1257957781,1243960852\n",
      "https://atlas.etsycorp.com/recsys/listing_viewer.php?listing_ids=1291834628,1428370869\n",
      "https://atlas.etsycorp.com/recsys/listing_viewer.php?listing_ids=991314766,1304990768\n",
      "https://atlas.etsycorp.com/recsys/listing_viewer.php?listing_ids=742191015,693918621\n",
      "0.1\n",
      "https://atlas.etsycorp.com/recsys/listing_viewer.php?listing_ids=1556287595,1484593170\n",
      "https://atlas.etsycorp.com/recsys/listing_viewer.php?listing_ids=1321122558,1045011883\n",
      "https://atlas.etsycorp.com/recsys/listing_viewer.php?listing_ids=1421298047,1407086304\n",
      "https://atlas.etsycorp.com/recsys/listing_viewer.php?listing_ids=1465755370,1479547577\n",
      "https://atlas.etsycorp.com/recsys/listing_viewer.php?listing_ids=1397897576,1410615553\n",
      "https://atlas.etsycorp.com/recsys/listing_viewer.php?listing_ids=1415057897,1202721530\n",
      "https://atlas.etsycorp.com/recsys/listing_viewer.php?listing_ids=1180001882,1398571664\n",
      "https://atlas.etsycorp.com/recsys/listing_viewer.php?listing_ids=885812088,991536926\n",
      "https://atlas.etsycorp.com/recsys/listing_viewer.php?listing_ids=1480842229,1531885040\n",
      "https://atlas.etsycorp.com/recsys/listing_viewer.php?listing_ids=1485129417,1470934666\n",
      "https://atlas.etsycorp.com/recsys/listing_viewer.php?listing_ids=1061778875,1061777863\n",
      "https://atlas.etsycorp.com/recsys/listing_viewer.php?listing_ids=807626895,793778318\n",
      "https://atlas.etsycorp.com/recsys/listing_viewer.php?listing_ids=1416619964,1554827779\n",
      "https://atlas.etsycorp.com/recsys/listing_viewer.php?listing_ids=818154846,818154760\n",
      "https://atlas.etsycorp.com/recsys/listing_viewer.php?listing_ids=1455762999,1528970034\n",
      "https://atlas.etsycorp.com/recsys/listing_viewer.php?listing_ids=1512552559,1490243229\n",
      "https://atlas.etsycorp.com/recsys/listing_viewer.php?listing_ids=1153406329,1137079734\n",
      "https://atlas.etsycorp.com/recsys/listing_viewer.php?listing_ids=1315333980,1538043843\n",
      "https://atlas.etsycorp.com/recsys/listing_viewer.php?listing_ids=1278124275,1094916679\n",
      "https://atlas.etsycorp.com/recsys/listing_viewer.php?listing_ids=1322320918,1336295097\n",
      "0.2\n",
      "https://atlas.etsycorp.com/recsys/listing_viewer.php?listing_ids=1030756996,1136671585\n",
      "https://atlas.etsycorp.com/recsys/listing_viewer.php?listing_ids=625247420,1120447235\n",
      "https://atlas.etsycorp.com/recsys/listing_viewer.php?listing_ids=1160060281,1516219209\n",
      "https://atlas.etsycorp.com/recsys/listing_viewer.php?listing_ids=917166340,1383582505\n",
      "https://atlas.etsycorp.com/recsys/listing_viewer.php?listing_ids=1173753582,1319642294\n",
      "https://atlas.etsycorp.com/recsys/listing_viewer.php?listing_ids=1499948985,955148670\n",
      "https://atlas.etsycorp.com/recsys/listing_viewer.php?listing_ids=1153210602,1269343250\n",
      "https://atlas.etsycorp.com/recsys/listing_viewer.php?listing_ids=1293987935,1279970456\n",
      "https://atlas.etsycorp.com/recsys/listing_viewer.php?listing_ids=845499603,892590808\n",
      "https://atlas.etsycorp.com/recsys/listing_viewer.php?listing_ids=1482893247,1428827046\n",
      "https://atlas.etsycorp.com/recsys/listing_viewer.php?listing_ids=1554716839,1546607391\n",
      "https://atlas.etsycorp.com/recsys/listing_viewer.php?listing_ids=984080290,1275859133\n",
      "https://atlas.etsycorp.com/recsys/listing_viewer.php?listing_ids=685434927,1554320011\n",
      "https://atlas.etsycorp.com/recsys/listing_viewer.php?listing_ids=1531208485,1133078809\n",
      "https://atlas.etsycorp.com/recsys/listing_viewer.php?listing_ids=1493760106,1362108916\n",
      "https://atlas.etsycorp.com/recsys/listing_viewer.php?listing_ids=1168151730,944816569\n",
      "https://atlas.etsycorp.com/recsys/listing_viewer.php?listing_ids=1543820969,1416038348\n",
      "https://atlas.etsycorp.com/recsys/listing_viewer.php?listing_ids=1328189621,1372272395\n",
      "https://atlas.etsycorp.com/recsys/listing_viewer.php?listing_ids=1523222914,1501319300\n",
      "https://atlas.etsycorp.com/recsys/listing_viewer.php?listing_ids=1494811768,1511316404\n"
     ]
    }
   ],
   "source": [
    "for key, val in threshold_listings.items():\n",
    "    print(key)\n",
    "    val = list(val)\n",
    "    sampled_idx = np.random.choice(len(val),size=20)\n",
    "    sampled_val = [val[idx] for idx in sampled_idx]\n",
    "    for i in range(len(sampled_val)):\n",
    "        lid1 = sampled_val[i][0]\n",
    "        lid2 = sampled_val[i][1]\n",
    "        print(f\"https://atlas.etsycorp.com/recsys/listing_viewer.php?listing_ids={lid1},{lid2}\")"
   ]
  },
  {
   "cell_type": "code",
   "execution_count": null,
   "id": "89227245",
   "metadata": {},
   "outputs": [],
   "source": []
  }
 ],
 "metadata": {
  "kernelspec": {
   "display_name": "venv",
   "language": "python",
   "name": "venv"
  },
  "language_info": {
   "codemirror_mode": {
    "name": "ipython",
    "version": 3
   },
   "file_extension": ".py",
   "mimetype": "text/x-python",
   "name": "python",
   "nbconvert_exporter": "python",
   "pygments_lexer": "ipython3",
   "version": "3.8.9"
  }
 },
 "nbformat": 4,
 "nbformat_minor": 5
}
