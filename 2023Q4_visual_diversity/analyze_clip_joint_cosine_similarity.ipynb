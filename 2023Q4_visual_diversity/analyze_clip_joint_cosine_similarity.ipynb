{
 "cells": [
  {
   "cell_type": "code",
   "execution_count": 1,
   "id": "18bb53db",
   "metadata": {},
   "outputs": [
    {
     "name": "stdout",
     "output_type": "stream",
     "text": [
      "WARNING:  Python 3.5-3.7 will be deprecated on August 8th, 2023. Please use Python version 3.8 and up.\n",
      "\n",
      "If you have a compatible Python interpreter installed, you can use it by setting\n",
      "the CLOUDSDK_PYTHON environment variable to point to it.\n",
      "\n",
      "Updated property [core/project].\n"
     ]
    }
   ],
   "source": [
    "!gcloud config set project etsy-bigquery-adhoc-prod"
   ]
  },
  {
   "cell_type": "code",
   "execution_count": 2,
   "id": "81aa3431",
   "metadata": {},
   "outputs": [],
   "source": [
    "%load_ext google.cloud.bigquery"
   ]
  },
  {
   "cell_type": "code",
   "execution_count": 3,
   "id": "99a4dd7b",
   "metadata": {},
   "outputs": [],
   "source": [
    "import numpy as np\n",
    "import random\n",
    "import matplotlib.pyplot as plt\n",
    "import seaborn as sns\n",
    "from tqdm import tqdm"
   ]
  },
  {
   "cell_type": "markdown",
   "id": "4029061b",
   "metadata": {},
   "source": [
    "# Run the following in Bigquery\n",
    "```\n",
    "create table `etsy-sr-etl-prod.yzhang.visual_diversity_clipjoint_embedding` as (\n",
    "  with train_data as (\n",
    "    select distinct\n",
    "        requestUUID, position, visitId,\n",
    "        ctx.docInfo.queryInfo.query as query_str,\n",
    "        ctx.docInfo.queryInfo.queryLevelMetrics.bin as query_bin,\n",
    "        candidateInfo.docInfo.listingInfo.listingId as listing_id,\n",
    "    from `etsy-ml-systems-prod.attributed_instance.query_pipeline_web_organic_2023_09_08`,\n",
    "        unnest(contextualInfo) as ctx\n",
    "    where ctx.docInfo.queryInfo.query is not null\n",
    "    and candidateInfo.docInfo.listingInfo.listingId is not null\n",
    "  ),\n",
    "  embed_data as (\n",
    "    select listing_id, joint_embedding_norm as embedding\n",
    "    from `etsy-data-warehouse-prod.computer_vision.clip_joint_embeddings_latest`\n",
    "    where listing_id in (\n",
    "      select distinct listing_id from train_data\n",
    "    )\n",
    "  ),\n",
    "  results as (\n",
    "    select train_data.*, embed_data.embedding\n",
    "    from train_data\n",
    "    join embed_data\n",
    "    on train_data.listing_id = embed_data.listing_id\n",
    "  )\n",
    "  select * from results  \n",
    ")\n",
    "```"
   ]
  },
  {
   "cell_type": "markdown",
   "id": "fadb2e92",
   "metadata": {},
   "source": [
    "Run dataflow job to get cosine sim"
   ]
  },
  {
   "cell_type": "code",
   "execution_count": 4,
   "id": "2e314a3e",
   "metadata": {},
   "outputs": [
    {
     "name": "stderr",
     "output_type": "stream",
     "text": [
      "Query complete after 0.02s: 100%|██████████| 18/18 [00:00<00:00, 5291.01query/s]\n",
      "Downloading: 100%|██████████████████| 900000/900000 [03:25<00:00, 4386.39rows/s]\n"
     ]
    }
   ],
   "source": [
    "%%bigquery df\n",
    "with query_gms as (\n",
    "  select query, visit_id, sum(attributed_gms) as gms\n",
    "  from `etsy-data-warehouse-prod.search.query_sessions_new`\n",
    "  where _date = date('2023-09-08')\n",
    "  group by query, visit_id\n",
    ")\n",
    "select clipj.*, gms\n",
    "from `etsy-sr-etl-prod.yzhang.explore_visual_diversity_clipjoint` clipj\n",
    "left join query_gms\n",
    "on clipj.query_str = query_gms.query\n",
    "and clipj.visitId = query_gms.visit_id\n",
    "limit 900000"
   ]
  },
  {
   "cell_type": "code",
   "execution_count": 5,
   "id": "17d8d13a",
   "metadata": {},
   "outputs": [
    {
     "data": {
      "text/html": [
       "<div>\n",
       "<style scoped>\n",
       "    .dataframe tbody tr th:only-of-type {\n",
       "        vertical-align: middle;\n",
       "    }\n",
       "\n",
       "    .dataframe tbody tr th {\n",
       "        vertical-align: top;\n",
       "    }\n",
       "\n",
       "    .dataframe thead th {\n",
       "        text-align: right;\n",
       "    }\n",
       "</style>\n",
       "<table border=\"1\" class=\"dataframe\">\n",
       "  <thead>\n",
       "    <tr style=\"text-align: right;\">\n",
       "      <th></th>\n",
       "      <th>requestUUID</th>\n",
       "      <th>visitId</th>\n",
       "      <th>query_str</th>\n",
       "      <th>query_bin</th>\n",
       "      <th>listing_ids</th>\n",
       "      <th>cosine_sim</th>\n",
       "      <th>gms</th>\n",
       "    </tr>\n",
       "  </thead>\n",
       "  <tbody>\n",
       "    <tr>\n",
       "      <th>0</th>\n",
       "      <td>26395cd4-b140-4d06-98e9-e99a2bb684ab</td>\n",
       "      <td>fQdZ8TKIiYm7BR8YFNgwFC_NUycG.1694201251764.1</td>\n",
       "      <td>adam and eve craft</td>\n",
       "      <td>None</td>\n",
       "      <td>[1276393705, 1523056527, 1313388788, 567559147...</td>\n",
       "      <td>[1.0000000000000004, 0.759876446876194, 0.7103...</td>\n",
       "      <td>NaN</td>\n",
       "    </tr>\n",
       "    <tr>\n",
       "      <th>1</th>\n",
       "      <td>c0f7b19e-be74-4ce7-9293-633e1bd13343</td>\n",
       "      <td>_5si8_zmMgI7enIUq5Lp1tPmgjQR.1694184004995.1</td>\n",
       "      <td>raysin häuschen hochzeit</td>\n",
       "      <td>None</td>\n",
       "      <td>[1473574066, 1526011895, 1387635675, 142556729...</td>\n",
       "      <td>[1.0, 0.7758412263212566, 0.7698515390108405, ...</td>\n",
       "      <td>NaN</td>\n",
       "    </tr>\n",
       "    <tr>\n",
       "      <th>2</th>\n",
       "      <td>86576600-a55d-485d-b81f-2da231c9cccf</td>\n",
       "      <td>pFCMErSaK0JpTwprO29JTu6Dy5Kl.1694146650323.1</td>\n",
       "      <td>cross pendant for men</td>\n",
       "      <td>None</td>\n",
       "      <td>[1275005350, 943117771, 961024362, 1268485814,...</td>\n",
       "      <td>[1.0000000000000007, 0.8591017056690093, 0.870...</td>\n",
       "      <td>NaN</td>\n",
       "    </tr>\n",
       "  </tbody>\n",
       "</table>\n",
       "</div>"
      ],
      "text/plain": [
       "                            requestUUID  \\\n",
       "0  26395cd4-b140-4d06-98e9-e99a2bb684ab   \n",
       "1  c0f7b19e-be74-4ce7-9293-633e1bd13343   \n",
       "2  86576600-a55d-485d-b81f-2da231c9cccf   \n",
       "\n",
       "                                        visitId                 query_str  \\\n",
       "0  fQdZ8TKIiYm7BR8YFNgwFC_NUycG.1694201251764.1        adam and eve craft   \n",
       "1  _5si8_zmMgI7enIUq5Lp1tPmgjQR.1694184004995.1  raysin häuschen hochzeit   \n",
       "2  pFCMErSaK0JpTwprO29JTu6Dy5Kl.1694146650323.1     cross pendant for men   \n",
       "\n",
       "  query_bin                                        listing_ids  \\\n",
       "0      None  [1276393705, 1523056527, 1313388788, 567559147...   \n",
       "1      None  [1473574066, 1526011895, 1387635675, 142556729...   \n",
       "2      None  [1275005350, 943117771, 961024362, 1268485814,...   \n",
       "\n",
       "                                          cosine_sim  gms  \n",
       "0  [1.0000000000000004, 0.759876446876194, 0.7103...  NaN  \n",
       "1  [1.0, 0.7758412263212566, 0.7698515390108405, ...  NaN  \n",
       "2  [1.0000000000000007, 0.8591017056690093, 0.870...  NaN  "
      ]
     },
     "execution_count": 5,
     "metadata": {},
     "output_type": "execute_result"
    }
   ],
   "source": [
    "df.head(n=3)"
   ]
  },
  {
   "cell_type": "code",
   "execution_count": 6,
   "id": "c9961ded",
   "metadata": {},
   "outputs": [
    {
     "data": {
      "text/plain": [
       "(900000, 7)"
      ]
     },
     "execution_count": 6,
     "metadata": {},
     "output_type": "execute_result"
    }
   ],
   "source": [
    "df.shape"
   ]
  },
  {
   "cell_type": "code",
   "execution_count": 7,
   "id": "7c1273e4",
   "metadata": {},
   "outputs": [
    {
     "data": {
      "text/plain": [
       "(488870, 7)"
      ]
     },
     "execution_count": 7,
     "metadata": {},
     "output_type": "execute_result"
    }
   ],
   "source": [
    "df[~df.gms.isna()].shape"
   ]
  },
  {
   "cell_type": "markdown",
   "id": "ccd95bc9",
   "metadata": {},
   "source": [
    "# Distribution of similarity scores"
   ]
  },
  {
   "cell_type": "code",
   "execution_count": 9,
   "id": "db82789c",
   "metadata": {},
   "outputs": [],
   "source": [
    "## Overall - sample 10000 requests\n",
    "df_sub = df.sample(n=10000, replace=False).reset_index(inplace=False)"
   ]
  },
  {
   "cell_type": "code",
   "execution_count": 10,
   "id": "66304739",
   "metadata": {},
   "outputs": [
    {
     "name": "stderr",
     "output_type": "stream",
     "text": [
      "100%|██████████████████████████████████| 10000/10000 [00:00<00:00, 22136.00it/s]\n"
     ]
    }
   ],
   "source": [
    "all_scores = []\n",
    "for i in tqdm(range(10000)):\n",
    "    d = int(np.sqrt(len(df_sub.cosine_sim[i])))\n",
    "    sim_mat = np.reshape(np.copy(df_sub.cosine_sim[i]), (d, d))\n",
    "    np.fill_diagonal(sim_mat, np.nan)\n",
    "    sim_scores = sim_mat.flatten()\n",
    "    all_scores.append(sim_scores)"
   ]
  },
  {
   "cell_type": "code",
   "execution_count": 11,
   "id": "08e71dfb",
   "metadata": {},
   "outputs": [
    {
     "data": {
      "text/plain": [
       "<Axes: ylabel='Count'>"
      ]
     },
     "execution_count": 11,
     "metadata": {},
     "output_type": "execute_result"
    },
    {
     "data": {
      "image/png": "[encoded data removed]",
      "text/plain": [
       "<Figure size 640x480 with 1 Axes>"
      ]
     },
     "metadata": {},
     "output_type": "display_data"
    }
   ],
   "source": [
    "all_scores_flatten = np.concatenate(all_scores)\n",
    "sns.histplot(all_scores_flatten)"
   ]
  },
  {
   "cell_type": "code",
   "execution_count": 12,
   "id": "43575661",
   "metadata": {},
   "outputs": [
    {
     "data": {
      "text/plain": [
       "array([None, 'head', 'tail', 'top.1', 'torso', 'top.01'], dtype=object)"
      ]
     },
     "execution_count": 12,
     "metadata": {},
     "output_type": "execute_result"
    }
   ],
   "source": [
    "## By query bin\n",
    "df.query_bin.unique()"
   ]
  },
  {
   "cell_type": "code",
   "execution_count": 13,
   "id": "c2add2c3",
   "metadata": {},
   "outputs": [
    {
     "name": "stdout",
     "output_type": "stream",
     "text": [
      "(264566, 7)\n",
      "(55905, 7)\n",
      "(73198, 7)\n",
      "(163481, 7)\n",
      "(190745, 7)\n"
     ]
    }
   ],
   "source": [
    "df_head = df[df.query_bin == \"head\"]; print(df_head.shape)\n",
    "df_tail = df[df.query_bin == \"tail\"]; print(df_tail.shape)\n",
    "df_torso = df[df.query_bin == \"torso\"]; print(df_torso.shape)\n",
    "df_top1 = df[df.query_bin == \"top.1\"]; print(df_top1.shape)\n",
    "df_top01 = df[df.query_bin == \"top.01\"]; print(df_top01.shape)"
   ]
  },
  {
   "cell_type": "code",
   "execution_count": 14,
   "id": "6697988a",
   "metadata": {},
   "outputs": [],
   "source": [
    "def get_sim_scores(data_df):\n",
    "    all_scores = []\n",
    "    for i in tqdm(range(data_df.shape[0])):\n",
    "        d = int(np.sqrt(len(data_df.cosine_sim[i])))\n",
    "        sim_mat = np.reshape(np.copy(data_df.cosine_sim[i]), (d, d))\n",
    "        np.fill_diagonal(sim_mat, np.nan)\n",
    "        sim_scores = sim_mat.flatten()\n",
    "        all_scores.append(sim_scores[~np.isnan(sim_scores)])\n",
    "    return np.concatenate(all_scores)"
   ]
  },
  {
   "cell_type": "code",
   "execution_count": 15,
   "id": "043fadc4",
   "metadata": {},
   "outputs": [
    {
     "name": "stderr",
     "output_type": "stream",
     "text": [
      "100%|███████████████████████████████████| 10000/10000 [00:02<00:00, 4553.71it/s]\n",
      "100%|███████████████████████████████████| 10000/10000 [00:01<00:00, 9949.98it/s]\n",
      "100%|███████████████████████████████████| 10000/10000 [00:01<00:00, 8396.57it/s]\n",
      "100%|███████████████████████████████████| 10000/10000 [00:01<00:00, 7800.20it/s]\n",
      "100%|███████████████████████████████████| 10000/10000 [00:01<00:00, 8926.08it/s]\n"
     ]
    }
   ],
   "source": [
    "df_head_sub = df_head.sample(n=10000, replace=False).reset_index(inplace=False)\n",
    "head_scores = get_sim_scores(df_head_sub)\n",
    "\n",
    "df_tail_sub = df_tail.sample(n=10000, replace=False).reset_index(inplace=False)\n",
    "tail_scores = get_sim_scores(df_tail_sub)\n",
    "\n",
    "df_torso_sub = df_torso.sample(n=10000, replace=False).reset_index(inplace=False)\n",
    "torso_scores = get_sim_scores(df_torso_sub)\n",
    "\n",
    "df_top1_sub = df_top1.sample(n=10000, replace=False).reset_index(inplace=False)\n",
    "top1_scores = get_sim_scores(df_top1_sub)\n",
    "\n",
    "df_top01_sub = df_top01.sample(n=10000, replace=False).reset_index(inplace=False)\n",
    "top01_scores = get_sim_scores(df_top01_sub)"
   ]
  },
  {
   "cell_type": "code",
   "execution_count": 16,
   "id": "bfe71fab",
   "metadata": {},
   "outputs": [
    {
     "name": "stdout",
     "output_type": "stream",
     "text": [
      "0.19331520361651805\n",
      "1.0000000000000018\n"
     ]
    }
   ],
   "source": [
    "print(np.min(top01_scores)); print(np.max(top01_scores))"
   ]
  },
  {
   "cell_type": "code",
   "execution_count": 17,
   "id": "ceecf404",
   "metadata": {},
   "outputs": [
    {
     "name": "stdout",
     "output_type": "stream",
     "text": [
      "0.1615183480267172\n",
      "1.0000000000000018\n"
     ]
    }
   ],
   "source": [
    "print(np.min(head_scores)); print(np.max(head_scores))"
   ]
  },
  {
   "cell_type": "code",
   "execution_count": 18,
   "id": "47d76d58",
   "metadata": {},
   "outputs": [
    {
     "name": "stdout",
     "output_type": "stream",
     "text": [
      "0.18568483951855325\n",
      "1.0000000000000018\n"
     ]
    }
   ],
   "source": [
    "print(np.min(tail_scores)); print(np.max(tail_scores))"
   ]
  },
  {
   "cell_type": "code",
   "execution_count": 19,
   "id": "c3079c08",
   "metadata": {},
   "outputs": [
    {
     "data": {
      "image/png": "[encoded data removed]",
      "text/plain": [
       "<Figure size 1500x1000 with 6 Axes>"
      ]
     },
     "metadata": {},
     "output_type": "display_data"
    }
   ],
   "source": [
    "fig, axes = plt.subplots(2, 3, figsize=(15, 10), sharey=True)\n",
    "fig.suptitle('Cosine similarity score distribution by query bin')\n",
    "\n",
    "sns.histplot(ax=axes[0, 0], data=top01_scores)\n",
    "axes[0, 0].set_title(\"Top.01\")\n",
    "\n",
    "sns.histplot(ax=axes[0, 1], data=top1_scores)\n",
    "axes[0, 1].set_title(\"Top.1\")\n",
    "\n",
    "sns.histplot(ax=axes[1, 0], data=head_scores)\n",
    "axes[1, 0].set_title(\"Head\")\n",
    "\n",
    "sns.histplot(ax=axes[1, 1], data=torso_scores)\n",
    "axes[1, 1].set_title(\"Torso\")\n",
    "\n",
    "sns.histplot(ax=axes[1, 2], data=tail_scores)\n",
    "axes[1, 2].set_title(\"Tail\")\n",
    "\n",
    "plt.show()"
   ]
  },
  {
   "cell_type": "markdown",
   "id": "4639e0e9",
   "metadata": {},
   "source": [
    "# Threshold vs GMS"
   ]
  },
  {
   "cell_type": "code",
   "execution_count": 8,
   "id": "1b8d5f22",
   "metadata": {},
   "outputs": [],
   "source": [
    "df_gms = df[~df.gms.isna()]\n",
    "df_gms = df_gms[df_gms.gms > 0.]"
   ]
  },
  {
   "cell_type": "code",
   "execution_count": 9,
   "id": "6560c618",
   "metadata": {},
   "outputs": [
    {
     "data": {
      "text/plain": [
       "41707949.0"
      ]
     },
     "execution_count": 9,
     "metadata": {},
     "output_type": "execute_result"
    }
   ],
   "source": [
    "df_gms[[\"query_str\", \"gms\"]].drop_duplicates().gms.sum()"
   ]
  },
  {
   "cell_type": "code",
   "execution_count": 10,
   "id": "d9117a0d",
   "metadata": {},
   "outputs": [
    {
     "data": {
      "text/plain": [
       "(25996, 7)"
      ]
     },
     "execution_count": 10,
     "metadata": {},
     "output_type": "execute_result"
    }
   ],
   "source": [
    "df_gms.shape"
   ]
  },
  {
   "cell_type": "code",
   "execution_count": 11,
   "id": "cafea093",
   "metadata": {},
   "outputs": [],
   "source": [
    "df_gms.reset_index(inplace=True)"
   ]
  },
  {
   "cell_type": "code",
   "execution_count": 12,
   "id": "950d524a",
   "metadata": {},
   "outputs": [
    {
     "name": "stderr",
     "output_type": "stream",
     "text": [
      "100%|███████████████████████████████████| 25996/25996 [00:03<00:00, 6994.66it/s]\n"
     ]
    }
   ],
   "source": [
    "thresholds = [0.0001, 0.001, 0.01, 0.05, 0.1, 0.2]\n",
    "threshold_queries = {str(th): set() for th in thresholds}\n",
    "\n",
    "for i in tqdm(range(df_gms.shape[0])):\n",
    "    \n",
    "    d = int(np.sqrt(len(df_gms.cosine_sim[i])))\n",
    "    sim_mat = np.reshape(np.copy(df_gms.cosine_sim[i]), (d, d))\n",
    "    np.fill_diagonal(sim_mat, np.nan)\n",
    "    sim_scores = sim_mat.flatten()\n",
    "    offdiag_sim_scores = sim_scores[~np.isnan(sim_scores)]\n",
    "    \n",
    "    for k, v in threshold_queries.items():\n",
    "        if np.any(offdiag_sim_scores > (1. - float(k))):\n",
    "            threshold_queries[k].add(df_gms.query_str[i])"
   ]
  },
  {
   "cell_type": "code",
   "execution_count": 13,
   "id": "2cb0fab0",
   "metadata": {},
   "outputs": [],
   "source": [
    "query_gms_only = df_gms[[\"query_str\", \"gms\"]].drop_duplicates()"
   ]
  },
  {
   "cell_type": "code",
   "execution_count": 14,
   "id": "32564303",
   "metadata": {},
   "outputs": [
    {
     "data": {
      "text/plain": [
       "{'0.0001': 1421357.0,\n",
       " '0.001': 3294896.0,\n",
       " '0.01': 10451976.0,\n",
       " '0.05': 31166623.0,\n",
       " '0.1': 40900392.0,\n",
       " '0.2': 41668767.0}"
      ]
     },
     "execution_count": 14,
     "metadata": {},
     "output_type": "execute_result"
    }
   ],
   "source": [
    "threshold_gms = {k: query_gms_only[query_gms_only.query_str.isin(threshold_queries[k])].gms.sum() for k in threshold_queries.keys()}\n",
    "threshold_gms"
   ]
  },
  {
   "cell_type": "markdown",
   "id": "82f8eae6",
   "metadata": {},
   "source": [
    "# How discriminative are the scores"
   ]
  },
  {
   "cell_type": "markdown",
   "id": "73e63539",
   "metadata": {},
   "source": [
    "Sample 20 pairs of listings with sim score > thresholds"
   ]
  },
  {
   "cell_type": "code",
   "execution_count": 27,
   "id": "3abecaec",
   "metadata": {},
   "outputs": [],
   "source": [
    "df_sampled = df.sample(n=10000, replace=False).reset_index(inplace=False)"
   ]
  },
  {
   "cell_type": "code",
   "execution_count": 28,
   "id": "9c10da86",
   "metadata": {},
   "outputs": [
    {
     "name": "stderr",
     "output_type": "stream",
     "text": [
      "100%|████████████████████████████████████| 10000/10000 [00:22<00:00, 442.08it/s]\n"
     ]
    }
   ],
   "source": [
    "thresholds = [0.0001, 0.001, 0.01, 0.05, 0.1, 0.2]\n",
    "threshold_listings = {str(th): set() for th in thresholds}\n",
    "\n",
    "for i in tqdm(range(df_sampled.shape[0])):\n",
    "    d = int(np.sqrt(len(df_sampled.cosine_sim[i])))\n",
    "    sim_mat = np.reshape(np.copy(df_sampled.cosine_sim[i]), (d, d))\n",
    "    cand_listings = list(df_sampled.listing_ids[i])\n",
    "    np.fill_diagonal(sim_mat, np.nan)\n",
    "    \n",
    "    for j in range(d):\n",
    "        for k in range(j+1, d):\n",
    "            for key, val in threshold_gms.items():\n",
    "                if (sim_mat[j, k] > (1.0 - float(key))) and (cand_listings[j] != cand_listings[k]):\n",
    "                    threshold_listings[key].add((cand_listings[j], cand_listings[k]))"
   ]
  },
  {
   "cell_type": "code",
   "execution_count": 29,
   "id": "fd0ad654",
   "metadata": {},
   "outputs": [
    {
     "data": {
      "text/plain": [
       "[15, 306, 2224, 36953, 434482, 2990593]"
      ]
     },
     "execution_count": 29,
     "metadata": {},
     "output_type": "execute_result"
    }
   ],
   "source": [
    "[len(v) for v in threshold_listings.values()]"
   ]
  },
  {
   "cell_type": "code",
   "execution_count": 30,
   "id": "027d43ba",
   "metadata": {
    "scrolled": false
   },
   "outputs": [
    {
     "name": "stdout",
     "output_type": "stream",
     "text": [
      "0.0001\n",
      "https://atlas.etsycorp.com/recsys/listing_viewer.php?listing_ids=115910641,115911251\n",
      "https://atlas.etsycorp.com/recsys/listing_viewer.php?listing_ids=1471034634,1485228131\n",
      "https://atlas.etsycorp.com/recsys/listing_viewer.php?listing_ids=1379976073,625823365\n",
      "https://atlas.etsycorp.com/recsys/listing_viewer.php?listing_ids=1523311750,1537531311\n",
      "https://atlas.etsycorp.com/recsys/listing_viewer.php?listing_ids=1430033779,1436387872\n",
      "https://atlas.etsycorp.com/recsys/listing_viewer.php?listing_ids=1496868041,1482677686\n",
      "https://atlas.etsycorp.com/recsys/listing_viewer.php?listing_ids=839003025,840534231\n",
      "https://atlas.etsycorp.com/recsys/listing_viewer.php?listing_ids=1489019206,1489131436\n",
      "https://atlas.etsycorp.com/recsys/listing_viewer.php?listing_ids=1461708003,1447506566\n",
      "https://atlas.etsycorp.com/recsys/listing_viewer.php?listing_ids=1471034634,1485228131\n",
      "https://atlas.etsycorp.com/recsys/listing_viewer.php?listing_ids=1120268759,1120270757\n",
      "https://atlas.etsycorp.com/recsys/listing_viewer.php?listing_ids=1379976073,625823365\n",
      "https://atlas.etsycorp.com/recsys/listing_viewer.php?listing_ids=1523311750,1537531311\n",
      "https://atlas.etsycorp.com/recsys/listing_viewer.php?listing_ids=1120268759,1120270757\n",
      "https://atlas.etsycorp.com/recsys/listing_viewer.php?listing_ids=1430033779,1436387872\n",
      "https://atlas.etsycorp.com/recsys/listing_viewer.php?listing_ids=1244010217,1230078074\n",
      "https://atlas.etsycorp.com/recsys/listing_viewer.php?listing_ids=1120268759,1120270757\n",
      "https://atlas.etsycorp.com/recsys/listing_viewer.php?listing_ids=115910641,115911251\n",
      "https://atlas.etsycorp.com/recsys/listing_viewer.php?listing_ids=1279784855,1265650742\n",
      "https://atlas.etsycorp.com/recsys/listing_viewer.php?listing_ids=1471034634,1485228131\n",
      "0.001\n",
      "https://atlas.etsycorp.com/recsys/listing_viewer.php?listing_ids=74002079,76998098\n",
      "https://atlas.etsycorp.com/recsys/listing_viewer.php?listing_ids=1061248221,1287984642\n",
      "https://atlas.etsycorp.com/recsys/listing_viewer.php?listing_ids=267390603,287886543\n",
      "https://atlas.etsycorp.com/recsys/listing_viewer.php?listing_ids=917122028,917121552\n",
      "https://atlas.etsycorp.com/recsys/listing_viewer.php?listing_ids=805081254,1127308136\n",
      "https://atlas.etsycorp.com/recsys/listing_viewer.php?listing_ids=266326859,555042863\n",
      "https://atlas.etsycorp.com/recsys/listing_viewer.php?listing_ids=722559739,1180576307\n",
      "https://atlas.etsycorp.com/recsys/listing_viewer.php?listing_ids=1486936730,1488923942\n",
      "https://atlas.etsycorp.com/recsys/listing_viewer.php?listing_ids=1494224961,1493568225\n",
      "https://atlas.etsycorp.com/recsys/listing_viewer.php?listing_ids=649228455,635401806\n",
      "https://atlas.etsycorp.com/recsys/listing_viewer.php?listing_ids=530962491,530959487\n",
      "https://atlas.etsycorp.com/recsys/listing_viewer.php?listing_ids=884754313,818966368\n",
      "https://atlas.etsycorp.com/recsys/listing_viewer.php?listing_ids=64864715,93116402\n",
      "https://atlas.etsycorp.com/recsys/listing_viewer.php?listing_ids=839003025,826634190\n",
      "https://atlas.etsycorp.com/recsys/listing_viewer.php?listing_ids=1061248221,1287984642\n",
      "https://atlas.etsycorp.com/recsys/listing_viewer.php?listing_ids=1261151516,724418933\n",
      "https://atlas.etsycorp.com/recsys/listing_viewer.php?listing_ids=244661560,272336322\n",
      "https://atlas.etsycorp.com/recsys/listing_viewer.php?listing_ids=1528299981,1514122568\n",
      "https://atlas.etsycorp.com/recsys/listing_viewer.php?listing_ids=99498351,99498389\n",
      "https://atlas.etsycorp.com/recsys/listing_viewer.php?listing_ids=119790082,110531486\n",
      "0.01\n",
      "https://atlas.etsycorp.com/recsys/listing_viewer.php?listing_ids=1421480894,1078308064\n",
      "https://atlas.etsycorp.com/recsys/listing_viewer.php?listing_ids=121277791,211640544\n",
      "https://atlas.etsycorp.com/recsys/listing_viewer.php?listing_ids=1432633322,1432628804\n",
      "https://atlas.etsycorp.com/recsys/listing_viewer.php?listing_ids=926875717,1289538242\n",
      "https://atlas.etsycorp.com/recsys/listing_viewer.php?listing_ids=1049762695,1400185862\n",
      "https://atlas.etsycorp.com/recsys/listing_viewer.php?listing_ids=905691152,910222160\n",
      "https://atlas.etsycorp.com/recsys/listing_viewer.php?listing_ids=261306858,1514736094\n",
      "https://atlas.etsycorp.com/recsys/listing_viewer.php?listing_ids=1461945468,1444518126\n",
      "https://atlas.etsycorp.com/recsys/listing_viewer.php?listing_ids=1469525067,1455323534\n",
      "https://atlas.etsycorp.com/recsys/listing_viewer.php?listing_ids=1086263457,1246889851\n",
      "https://atlas.etsycorp.com/recsys/listing_viewer.php?listing_ids=1460295614,1476659247\n",
      "https://atlas.etsycorp.com/recsys/listing_viewer.php?listing_ids=1211165214,1105163663\n",
      "https://atlas.etsycorp.com/recsys/listing_viewer.php?listing_ids=1362447246,1127537047\n",
      "https://atlas.etsycorp.com/recsys/listing_viewer.php?listing_ids=1182062027,1164927540\n",
      "https://atlas.etsycorp.com/recsys/listing_viewer.php?listing_ids=254556466,492956149\n",
      "https://atlas.etsycorp.com/recsys/listing_viewer.php?listing_ids=938936019,1325154854\n",
      "https://atlas.etsycorp.com/recsys/listing_viewer.php?listing_ids=1051761728,963587150\n",
      "https://atlas.etsycorp.com/recsys/listing_viewer.php?listing_ids=1202335964,1216283531\n",
      "https://atlas.etsycorp.com/recsys/listing_viewer.php?listing_ids=159501305,159146047\n",
      "https://atlas.etsycorp.com/recsys/listing_viewer.php?listing_ids=1343313036,797723174\n",
      "0.05\n",
      "https://atlas.etsycorp.com/recsys/listing_viewer.php?listing_ids=665406065,649545858\n",
      "https://atlas.etsycorp.com/recsys/listing_viewer.php?listing_ids=1024737234,753041005\n",
      "https://atlas.etsycorp.com/recsys/listing_viewer.php?listing_ids=521042430,1211181865\n",
      "https://atlas.etsycorp.com/recsys/listing_viewer.php?listing_ids=1249394194,1249366150\n",
      "https://atlas.etsycorp.com/recsys/listing_viewer.php?listing_ids=1505040618,1300794723\n",
      "https://atlas.etsycorp.com/recsys/listing_viewer.php?listing_ids=1444447634,1344781601\n",
      "https://atlas.etsycorp.com/recsys/listing_viewer.php?listing_ids=1532571083,1532589341\n",
      "https://atlas.etsycorp.com/recsys/listing_viewer.php?listing_ids=1245788153,1245752053\n",
      "https://atlas.etsycorp.com/recsys/listing_viewer.php?listing_ids=1185121216,1188302971\n",
      "https://atlas.etsycorp.com/recsys/listing_viewer.php?listing_ids=1227828473,1210658881\n",
      "https://atlas.etsycorp.com/recsys/listing_viewer.php?listing_ids=1300987789,1326371784\n",
      "https://atlas.etsycorp.com/recsys/listing_viewer.php?listing_ids=1482590118,1474731978\n",
      "https://atlas.etsycorp.com/recsys/listing_viewer.php?listing_ids=260811025,62102925\n",
      "https://atlas.etsycorp.com/recsys/listing_viewer.php?listing_ids=1165529763,1176280918\n",
      "https://atlas.etsycorp.com/recsys/listing_viewer.php?listing_ids=1117636374,1319342128\n",
      "https://atlas.etsycorp.com/recsys/listing_viewer.php?listing_ids=1193901331,706295288\n",
      "https://atlas.etsycorp.com/recsys/listing_viewer.php?listing_ids=831896615,968154190\n",
      "https://atlas.etsycorp.com/recsys/listing_viewer.php?listing_ids=1086963160,947631257\n",
      "https://atlas.etsycorp.com/recsys/listing_viewer.php?listing_ids=1214212028,1216553862\n",
      "https://atlas.etsycorp.com/recsys/listing_viewer.php?listing_ids=1428011351,1428555007\n",
      "0.1\n",
      "https://atlas.etsycorp.com/recsys/listing_viewer.php?listing_ids=1453606148,1453601190\n",
      "https://atlas.etsycorp.com/recsys/listing_viewer.php?listing_ids=858010670,992338728\n",
      "https://atlas.etsycorp.com/recsys/listing_viewer.php?listing_ids=1267684335,1313992064\n",
      "https://atlas.etsycorp.com/recsys/listing_viewer.php?listing_ids=745108305,1420461606\n",
      "https://atlas.etsycorp.com/recsys/listing_viewer.php?listing_ids=1160923074,1081268157\n",
      "https://atlas.etsycorp.com/recsys/listing_viewer.php?listing_ids=1362289419,1429320003\n",
      "https://atlas.etsycorp.com/recsys/listing_viewer.php?listing_ids=594649764,1048565635\n",
      "https://atlas.etsycorp.com/recsys/listing_viewer.php?listing_ids=1001080547,1305731432\n",
      "https://atlas.etsycorp.com/recsys/listing_viewer.php?listing_ids=1423680021,1399941572\n",
      "https://atlas.etsycorp.com/recsys/listing_viewer.php?listing_ids=1483800074,1483801804\n",
      "https://atlas.etsycorp.com/recsys/listing_viewer.php?listing_ids=1407409868,1354355341\n",
      "https://atlas.etsycorp.com/recsys/listing_viewer.php?listing_ids=1045446537,542211641\n",
      "https://atlas.etsycorp.com/recsys/listing_viewer.php?listing_ids=1332513839,1350520633\n",
      "https://atlas.etsycorp.com/recsys/listing_viewer.php?listing_ids=496178064,264610791\n",
      "https://atlas.etsycorp.com/recsys/listing_viewer.php?listing_ids=1350511399,1365644973\n",
      "https://atlas.etsycorp.com/recsys/listing_viewer.php?listing_ids=514235696,1397191828\n",
      "https://atlas.etsycorp.com/recsys/listing_viewer.php?listing_ids=939546621,782603388\n",
      "https://atlas.etsycorp.com/recsys/listing_viewer.php?listing_ids=1440431246,1450754094\n",
      "https://atlas.etsycorp.com/recsys/listing_viewer.php?listing_ids=1432618949,1193397542\n",
      "https://atlas.etsycorp.com/recsys/listing_viewer.php?listing_ids=1442175790,1246605246\n",
      "0.2\n",
      "https://atlas.etsycorp.com/recsys/listing_viewer.php?listing_ids=1394003224,1176367911\n",
      "https://atlas.etsycorp.com/recsys/listing_viewer.php?listing_ids=1016365572,1201159462\n",
      "https://atlas.etsycorp.com/recsys/listing_viewer.php?listing_ids=1050616752,671231418\n",
      "https://atlas.etsycorp.com/recsys/listing_viewer.php?listing_ids=954758533,781084053\n",
      "https://atlas.etsycorp.com/recsys/listing_viewer.php?listing_ids=1322658656,1282175054\n",
      "https://atlas.etsycorp.com/recsys/listing_viewer.php?listing_ids=1486377124,1367964338\n",
      "https://atlas.etsycorp.com/recsys/listing_viewer.php?listing_ids=1496004767,962450806\n",
      "https://atlas.etsycorp.com/recsys/listing_viewer.php?listing_ids=1497760481,1507276983\n",
      "https://atlas.etsycorp.com/recsys/listing_viewer.php?listing_ids=1121632017,1250317325\n",
      "https://atlas.etsycorp.com/recsys/listing_viewer.php?listing_ids=265349826,865850436\n",
      "https://atlas.etsycorp.com/recsys/listing_viewer.php?listing_ids=1261793464,1344287079\n",
      "https://atlas.etsycorp.com/recsys/listing_viewer.php?listing_ids=1400549628,1221076654\n",
      "https://atlas.etsycorp.com/recsys/listing_viewer.php?listing_ids=237997349,243073716\n",
      "https://atlas.etsycorp.com/recsys/listing_viewer.php?listing_ids=464088692,1412154822\n",
      "https://atlas.etsycorp.com/recsys/listing_viewer.php?listing_ids=1220965118,1419141934\n",
      "https://atlas.etsycorp.com/recsys/listing_viewer.php?listing_ids=1449433273,1059607411\n",
      "https://atlas.etsycorp.com/recsys/listing_viewer.php?listing_ids=1123648333,1465374258\n",
      "https://atlas.etsycorp.com/recsys/listing_viewer.php?listing_ids=1415100963,1170363662\n",
      "https://atlas.etsycorp.com/recsys/listing_viewer.php?listing_ids=260017446,1348126423\n",
      "https://atlas.etsycorp.com/recsys/listing_viewer.php?listing_ids=1330808229,1260310570\n"
     ]
    }
   ],
   "source": [
    "for key, val in threshold_listings.items():\n",
    "    print(key)\n",
    "    val = list(val)\n",
    "    sampled_idx = np.random.choice(len(val),size=20)\n",
    "    sampled_val = [val[idx] for idx in sampled_idx]\n",
    "    for i in range(len(sampled_val)):\n",
    "        lid1 = sampled_val[i][0]\n",
    "        lid2 = sampled_val[i][1]\n",
    "        print(f\"https://atlas.etsycorp.com/recsys/listing_viewer.php?listing_ids={lid1},{lid2}\")"
   ]
  },
  {
   "cell_type": "code",
   "execution_count": null,
   "id": "89227245",
   "metadata": {},
   "outputs": [],
   "source": []
  }
 ],
 "metadata": {
  "kernelspec": {
   "display_name": "venv",
   "language": "python",
   "name": "venv"
  },
  "language_info": {
   "codemirror_mode": {
    "name": "ipython",
    "version": 3
   },
   "file_extension": ".py",
   "mimetype": "text/x-python",
   "name": "python",
   "nbconvert_exporter": "python",
   "pygments_lexer": "ipython3",
   "version": "3.8.9"
  }
 },
 "nbformat": 4,
 "nbformat_minor": 5
}
