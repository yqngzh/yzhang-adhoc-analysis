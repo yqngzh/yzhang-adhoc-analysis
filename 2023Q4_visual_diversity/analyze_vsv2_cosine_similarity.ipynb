{
 "cells": [
  {
   "cell_type": "code",
   "execution_count": 1,
   "id": "18bb53db",
   "metadata": {},
   "outputs": [
    {
     "name": "stdout",
     "output_type": "stream",
     "text": [
      "WARNING:  Python 3.5-3.7 will be deprecated on August 8th, 2023. Please use Python version 3.8 and up.\n",
      "\n",
      "If you have a compatible Python interpreter installed, you can use it by setting\n",
      "the CLOUDSDK_PYTHON environment variable to point to it.\n",
      "\n",
      "Updated property [core/project].\n"
     ]
    }
   ],
   "source": [
    "!gcloud config set project etsy-bigquery-adhoc-prod"
   ]
  },
  {
   "cell_type": "code",
   "execution_count": 2,
   "id": "81aa3431",
   "metadata": {},
   "outputs": [],
   "source": [
    "%load_ext google.cloud.bigquery"
   ]
  },
  {
   "cell_type": "code",
   "execution_count": 3,
   "id": "99a4dd7b",
   "metadata": {},
   "outputs": [],
   "source": [
    "import numpy as np\n",
    "import random\n",
    "import matplotlib.pyplot as plt\n",
    "import seaborn as sns\n",
    "from tqdm import tqdm"
   ]
  },
  {
   "cell_type": "markdown",
   "id": "4029061b",
   "metadata": {},
   "source": [
    "# Run the following in Bigquery\n",
    "```\n",
    "create table `etsy-sr-etl-prod.yzhang.visual_diversity_vsv2_embedding` as (\n",
    "  with train_data as (\n",
    "    select distinct\n",
    "        requestUUID, position, visitId,\n",
    "        ctx.docInfo.queryInfo.query as query_str,\n",
    "        ctx.docInfo.queryInfo.queryLevelMetrics.bin as query_bin,\n",
    "        candidateInfo.docInfo.listingInfo.listingId as listing_id,\n",
    "    from `etsy-ml-systems-prod.attributed_instance.query_pipeline_web_organic_2023_09_08`,\n",
    "        unnest(contextualInfo) as ctx\n",
    "    where ctx.docInfo.queryInfo.query is not null\n",
    "    and candidateInfo.docInfo.listingInfo.listingId is not null\n",
    "  ),\n",
    "  fb_data as (\n",
    "    select key as listing_id, VSV2Embeddings_vsv2Embedding512.list as embedding\n",
    "    from `etsy-ml-systems-prod.feature_bank_v2.listing_feature_bank_2023-09-08`\n",
    "    where key in (\n",
    "      select distinct listing_id from train_data\n",
    "    )\n",
    "  ),\n",
    "  results as (\n",
    "    select train_data.*, fb_data.embedding\n",
    "    from train_data\n",
    "    join fb_data\n",
    "    on train_data.listing_id = fb_data.listing_id\n",
    "  )\n",
    "  select * from results  \n",
    ")\n",
    "```"
   ]
  },
  {
   "cell_type": "markdown",
   "id": "fadb2e92",
   "metadata": {},
   "source": [
    "Run dataflow job to get cosine sim"
   ]
  },
  {
   "cell_type": "code",
   "execution_count": 7,
   "id": "2e314a3e",
   "metadata": {},
   "outputs": [
    {
     "name": "stderr",
     "output_type": "stream",
     "text": [
      "Query complete after 0.02s: 100%|██████████| 18/18 [00:00<00:00, 6493.29query/s]\n",
      "Downloading: 100%|██████████████████| 900000/900000 [04:47<00:00, 3133.03rows/s]\n"
     ]
    }
   ],
   "source": [
    "%%bigquery df\n",
    "with query_gms as (\n",
    "  select query, visit_id, sum(attributed_gms) as gms\n",
    "  from `etsy-data-warehouse-prod.search.query_sessions_new`\n",
    "  where _date = date('2023-09-08')\n",
    "  group by query, visit_id\n",
    ")\n",
    "select vsv2.*, gms\n",
    "from `etsy-sr-etl-prod.yzhang.explore_visual_diversity_vsv2` vsv2\n",
    "left join query_gms\n",
    "on vsv2.query_str = query_gms.query\n",
    "and vsv2.visitId = query_gms.visit_id\n",
    "limit 900000"
   ]
  },
  {
   "cell_type": "code",
   "execution_count": 8,
   "id": "17d8d13a",
   "metadata": {},
   "outputs": [
    {
     "data": {
      "text/html": [
       "<div>\n",
       "<style scoped>\n",
       "    .dataframe tbody tr th:only-of-type {\n",
       "        vertical-align: middle;\n",
       "    }\n",
       "\n",
       "    .dataframe tbody tr th {\n",
       "        vertical-align: top;\n",
       "    }\n",
       "\n",
       "    .dataframe thead th {\n",
       "        text-align: right;\n",
       "    }\n",
       "</style>\n",
       "<table border=\"1\" class=\"dataframe\">\n",
       "  <thead>\n",
       "    <tr style=\"text-align: right;\">\n",
       "      <th></th>\n",
       "      <th>requestUUID</th>\n",
       "      <th>visitId</th>\n",
       "      <th>query_str</th>\n",
       "      <th>query_bin</th>\n",
       "      <th>listing_ids</th>\n",
       "      <th>cosine_sim</th>\n",
       "      <th>gms</th>\n",
       "    </tr>\n",
       "  </thead>\n",
       "  <tbody>\n",
       "    <tr>\n",
       "      <th>0</th>\n",
       "      <td>d12a35a5-6a66-484d-96b9-d4c2e6b04100</td>\n",
       "      <td>pL8RH3l4fl97rtrxjiI2lYgR5CIC.1694140207674.2</td>\n",
       "      <td>بشت</td>\n",
       "      <td>None</td>\n",
       "      <td>[1524322224, 1537635034, 1493458710, 152432317...</td>\n",
       "      <td>[1.0, 0.2992900656546054, 0.05547862926272468,...</td>\n",
       "      <td>NaN</td>\n",
       "    </tr>\n",
       "    <tr>\n",
       "      <th>1</th>\n",
       "      <td>67591e7c-b8e6-46ce-82e8-133c984e20dc</td>\n",
       "      <td>dCoMPs67o_UzdwP9q79Er4Wk7MmS.1694208472573.1</td>\n",
       "      <td>graduate t shirt disney</td>\n",
       "      <td>None</td>\n",
       "      <td>[1482866657, 1454781273, 1446214328, 148133988...</td>\n",
       "      <td>[1.0000000000000004, 0.6175431332050376, 0.617...</td>\n",
       "      <td>NaN</td>\n",
       "    </tr>\n",
       "    <tr>\n",
       "      <th>2</th>\n",
       "      <td>f3533b74-bb85-4e0f-8395-32420e9ab08a</td>\n",
       "      <td>VjKDE_a6Py8qMxQldgYwWcUj93C8.1694206979054.1</td>\n",
       "      <td>his and hers earring</td>\n",
       "      <td>None</td>\n",
       "      <td>[1365253424, 1215856952, 1038900457, 132478197...</td>\n",
       "      <td>[1.0000000000000002, 0.36514584667406347, 0.45...</td>\n",
       "      <td>NaN</td>\n",
       "    </tr>\n",
       "  </tbody>\n",
       "</table>\n",
       "</div>"
      ],
      "text/plain": [
       "                            requestUUID  \\\n",
       "0  d12a35a5-6a66-484d-96b9-d4c2e6b04100   \n",
       "1  67591e7c-b8e6-46ce-82e8-133c984e20dc   \n",
       "2  f3533b74-bb85-4e0f-8395-32420e9ab08a   \n",
       "\n",
       "                                        visitId                query_str  \\\n",
       "0  pL8RH3l4fl97rtrxjiI2lYgR5CIC.1694140207674.2                      بشت   \n",
       "1  dCoMPs67o_UzdwP9q79Er4Wk7MmS.1694208472573.1  graduate t shirt disney   \n",
       "2  VjKDE_a6Py8qMxQldgYwWcUj93C8.1694206979054.1     his and hers earring   \n",
       "\n",
       "  query_bin                                        listing_ids  \\\n",
       "0      None  [1524322224, 1537635034, 1493458710, 152432317...   \n",
       "1      None  [1482866657, 1454781273, 1446214328, 148133988...   \n",
       "2      None  [1365253424, 1215856952, 1038900457, 132478197...   \n",
       "\n",
       "                                          cosine_sim  gms  \n",
       "0  [1.0, 0.2992900656546054, 0.05547862926272468,...  NaN  \n",
       "1  [1.0000000000000004, 0.6175431332050376, 0.617...  NaN  \n",
       "2  [1.0000000000000002, 0.36514584667406347, 0.45...  NaN  "
      ]
     },
     "execution_count": 8,
     "metadata": {},
     "output_type": "execute_result"
    }
   ],
   "source": [
    "df.head(n=3)"
   ]
  },
  {
   "cell_type": "code",
   "execution_count": 9,
   "id": "c9961ded",
   "metadata": {},
   "outputs": [
    {
     "data": {
      "text/plain": [
       "(900000, 7)"
      ]
     },
     "execution_count": 9,
     "metadata": {},
     "output_type": "execute_result"
    }
   ],
   "source": [
    "df.shape"
   ]
  },
  {
   "cell_type": "code",
   "execution_count": 10,
   "id": "7c1273e4",
   "metadata": {},
   "outputs": [
    {
     "data": {
      "text/plain": [
       "(488737, 7)"
      ]
     },
     "execution_count": 10,
     "metadata": {},
     "output_type": "execute_result"
    }
   ],
   "source": [
    "df[~df.gms.isna()].shape"
   ]
  },
  {
   "cell_type": "markdown",
   "id": "ccd95bc9",
   "metadata": {},
   "source": [
    "# Distribution of similarity scores"
   ]
  },
  {
   "cell_type": "code",
   "execution_count": 11,
   "id": "db82789c",
   "metadata": {},
   "outputs": [],
   "source": [
    "## Overall - sample 10000 requests\n",
    "df_sub = df.sample(n=10000, replace=False).reset_index(inplace=False)"
   ]
  },
  {
   "cell_type": "code",
   "execution_count": 12,
   "id": "66304739",
   "metadata": {},
   "outputs": [
    {
     "name": "stderr",
     "output_type": "stream",
     "text": [
      "100%|███████████████████████████████████| 10000/10000 [00:02<00:00, 4534.01it/s]\n"
     ]
    }
   ],
   "source": [
    "all_scores = []\n",
    "for i in tqdm(range(10000)):\n",
    "    d = int(np.sqrt(len(df_sub.cosine_sim[i])))\n",
    "    sim_mat = np.reshape(np.copy(df_sub.cosine_sim[i]), (d, d))\n",
    "    np.fill_diagonal(sim_mat, np.nan)\n",
    "    sim_scores = sim_mat.flatten()\n",
    "    all_scores.append(sim_scores)"
   ]
  },
  {
   "cell_type": "code",
   "execution_count": 13,
   "id": "08e71dfb",
   "metadata": {},
   "outputs": [
    {
     "data": {
      "text/plain": [
       "<Axes: ylabel='Count'>"
      ]
     },
     "execution_count": 13,
     "metadata": {},
     "output_type": "execute_result"
    },
    {
     "data": {
      "image/png": "[encoded data removed]",
      "text/plain": [
       "<Figure size 640x480 with 1 Axes>"
      ]
     },
     "metadata": {},
     "output_type": "display_data"
    }
   ],
   "source": [
    "all_scores_flatten = np.concatenate(all_scores)\n",
    "sns.histplot(all_scores_flatten)"
   ]
  },
  {
   "cell_type": "code",
   "execution_count": 14,
   "id": "43575661",
   "metadata": {},
   "outputs": [
    {
     "data": {
      "text/plain": [
       "array([None, 'head', 'tail', 'top.1', 'torso', 'top.01'], dtype=object)"
      ]
     },
     "execution_count": 14,
     "metadata": {},
     "output_type": "execute_result"
    }
   ],
   "source": [
    "## By query bin\n",
    "df.query_bin.unique()"
   ]
  },
  {
   "cell_type": "code",
   "execution_count": 15,
   "id": "c2add2c3",
   "metadata": {},
   "outputs": [
    {
     "name": "stdout",
     "output_type": "stream",
     "text": [
      "(264365, 7)\n",
      "(56111, 7)\n",
      "(74118, 7)\n",
      "(162676, 7)\n",
      "(190694, 7)\n"
     ]
    }
   ],
   "source": [
    "df_head = df[df.query_bin == \"head\"]; print(df_head.shape)\n",
    "df_tail = df[df.query_bin == \"tail\"]; print(df_tail.shape)\n",
    "df_torso = df[df.query_bin == \"torso\"]; print(df_torso.shape)\n",
    "df_top1 = df[df.query_bin == \"top.1\"]; print(df_top1.shape)\n",
    "df_top01 = df[df.query_bin == \"top.01\"]; print(df_top01.shape)"
   ]
  },
  {
   "cell_type": "code",
   "execution_count": 16,
   "id": "6697988a",
   "metadata": {},
   "outputs": [],
   "source": [
    "def get_sim_scores(data_df):\n",
    "    all_scores = []\n",
    "    for i in tqdm(range(data_df.shape[0])):\n",
    "        d = int(np.sqrt(len(data_df.cosine_sim[i])))\n",
    "        sim_mat = np.reshape(np.copy(data_df.cosine_sim[i]), (d, d))\n",
    "        np.fill_diagonal(sim_mat, np.nan)\n",
    "        sim_scores = sim_mat.flatten()\n",
    "        all_scores.append(sim_scores[~np.isnan(sim_scores)])\n",
    "    return np.concatenate(all_scores)"
   ]
  },
  {
   "cell_type": "code",
   "execution_count": 17,
   "id": "043fadc4",
   "metadata": {},
   "outputs": [
    {
     "name": "stderr",
     "output_type": "stream",
     "text": [
      "100%|███████████████████████████████████| 10000/10000 [00:02<00:00, 4205.07it/s]\n",
      "100%|███████████████████████████████████| 10000/10000 [00:01<00:00, 6259.35it/s]\n",
      "100%|███████████████████████████████████| 10000/10000 [00:01<00:00, 5004.63it/s]\n",
      "100%|███████████████████████████████████| 10000/10000 [00:02<00:00, 4875.11it/s]\n",
      "100%|███████████████████████████████████| 10000/10000 [00:02<00:00, 4747.93it/s]\n"
     ]
    }
   ],
   "source": [
    "df_head_sub = df_head.sample(n=10000, replace=False).reset_index(inplace=False)\n",
    "head_scores = get_sim_scores(df_head_sub)\n",
    "\n",
    "df_tail_sub = df_tail.sample(n=10000, replace=False).reset_index(inplace=False)\n",
    "tail_scores = get_sim_scores(df_tail_sub)\n",
    "\n",
    "df_torso_sub = df_torso.sample(n=10000, replace=False).reset_index(inplace=False)\n",
    "torso_scores = get_sim_scores(df_torso_sub)\n",
    "\n",
    "df_top1_sub = df_top1.sample(n=10000, replace=False).reset_index(inplace=False)\n",
    "top1_scores = get_sim_scores(df_top1_sub)\n",
    "\n",
    "df_top01_sub = df_top01.sample(n=10000, replace=False).reset_index(inplace=False)\n",
    "top01_scores = get_sim_scores(df_top01_sub)"
   ]
  },
  {
   "cell_type": "code",
   "execution_count": 18,
   "id": "bfe71fab",
   "metadata": {},
   "outputs": [
    {
     "name": "stdout",
     "output_type": "stream",
     "text": [
      "-0.2990471377509041\n",
      "1.0000000000000013\n"
     ]
    }
   ],
   "source": [
    "print(np.min(top01_scores)); print(np.max(top01_scores))"
   ]
  },
  {
   "cell_type": "code",
   "execution_count": 19,
   "id": "ceecf404",
   "metadata": {},
   "outputs": [
    {
     "name": "stdout",
     "output_type": "stream",
     "text": [
      "-0.26694806669701954\n",
      "1.0000000000000013\n"
     ]
    }
   ],
   "source": [
    "print(np.min(head_scores)); print(np.max(head_scores))"
   ]
  },
  {
   "cell_type": "code",
   "execution_count": 20,
   "id": "47d76d58",
   "metadata": {},
   "outputs": [
    {
     "name": "stdout",
     "output_type": "stream",
     "text": [
      "-0.26090362842985976\n",
      "1.000000000000001\n"
     ]
    }
   ],
   "source": [
    "print(np.min(tail_scores)); print(np.max(tail_scores))"
   ]
  },
  {
   "cell_type": "code",
   "execution_count": 21,
   "id": "c3079c08",
   "metadata": {},
   "outputs": [
    {
     "data": {
      "image/png": "[encoded data removed]",
      "text/plain": [
       "<Figure size 1500x1000 with 6 Axes>"
      ]
     },
     "metadata": {},
     "output_type": "display_data"
    }
   ],
   "source": [
    "fig, axes = plt.subplots(2, 3, figsize=(15, 10), sharey=True)\n",
    "fig.suptitle('Cosine similarity score distribution by query bin')\n",
    "\n",
    "sns.histplot(ax=axes[0, 0], data=top01_scores)\n",
    "axes[0, 0].set_title(\"Top.01\")\n",
    "\n",
    "sns.histplot(ax=axes[0, 1], data=top1_scores)\n",
    "axes[0, 1].set_title(\"Top.1\")\n",
    "\n",
    "sns.histplot(ax=axes[1, 0], data=head_scores)\n",
    "axes[1, 0].set_title(\"Head\")\n",
    "\n",
    "sns.histplot(ax=axes[1, 1], data=torso_scores)\n",
    "axes[1, 1].set_title(\"Torso\")\n",
    "\n",
    "sns.histplot(ax=axes[1, 2], data=tail_scores)\n",
    "axes[1, 2].set_title(\"Tail\")\n",
    "\n",
    "plt.show()"
   ]
  },
  {
   "cell_type": "markdown",
   "id": "4639e0e9",
   "metadata": {},
   "source": [
    "# Threshold vs GMS"
   ]
  },
  {
   "cell_type": "code",
   "execution_count": 23,
   "id": "1b8d5f22",
   "metadata": {},
   "outputs": [],
   "source": [
    "df_gms = df[~df.gms.isna()]\n",
    "df_gms = df_gms[df_gms.gms > 0.]"
   ]
  },
  {
   "cell_type": "code",
   "execution_count": 24,
   "id": "6560c618",
   "metadata": {},
   "outputs": [
    {
     "data": {
      "text/plain": [
       "57850142.0"
      ]
     },
     "execution_count": 24,
     "metadata": {},
     "output_type": "execute_result"
    }
   ],
   "source": [
    "df.gms.dropna().sum()"
   ]
  },
  {
   "cell_type": "code",
   "execution_count": 25,
   "id": "9682c0d2",
   "metadata": {},
   "outputs": [
    {
     "data": {
      "text/plain": [
       "57850142.0"
      ]
     },
     "execution_count": 25,
     "metadata": {},
     "output_type": "execute_result"
    }
   ],
   "source": [
    "df_gms.gms.sum()"
   ]
  },
  {
   "cell_type": "code",
   "execution_count": 26,
   "id": "d9117a0d",
   "metadata": {},
   "outputs": [
    {
     "data": {
      "text/plain": [
       "(26173, 7)"
      ]
     },
     "execution_count": 26,
     "metadata": {},
     "output_type": "execute_result"
    }
   ],
   "source": [
    "df_gms.shape"
   ]
  },
  {
   "cell_type": "code",
   "execution_count": 27,
   "id": "cafea093",
   "metadata": {},
   "outputs": [],
   "source": [
    "df_gms.reset_index(inplace=True)"
   ]
  },
  {
   "cell_type": "code",
   "execution_count": 28,
   "id": "950d524a",
   "metadata": {},
   "outputs": [
    {
     "name": "stderr",
     "output_type": "stream",
     "text": [
      "100%|███████████████████████████████████| 26173/26173 [00:10<00:00, 2612.88it/s]\n"
     ]
    }
   ],
   "source": [
    "thresholds = [0.0001, 0.001, 0.01, 0.05, 0.1, 0.2]\n",
    "threshold_gms = {str(th): 0.0 for th in thresholds}\n",
    "\n",
    "for i in tqdm(range(df_gms.shape[0])):\n",
    "    d = int(np.sqrt(len(df_gms.cosine_sim[i])))\n",
    "    sim_mat = np.reshape(np.copy(df_gms.cosine_sim[i]), (d, d))\n",
    "    np.fill_diagonal(sim_mat, np.nan)\n",
    "    sim_scores = sim_mat.flatten()\n",
    "    offdiag_sim_scores = sim_scores[~np.isnan(sim_scores)]\n",
    "    for k, v in threshold_gms.items():\n",
    "        if np.any(offdiag_sim_scores > (1. - float(k))):\n",
    "            threshold_gms[k] = v + df_gms.gms[i]"
   ]
  },
  {
   "cell_type": "code",
   "execution_count": 29,
   "id": "32564303",
   "metadata": {},
   "outputs": [
    {
     "data": {
      "text/plain": [
       "{'0.0001': 14433725.0,\n",
       " '0.001': 16017607.0,\n",
       " '0.01': 19458232.0,\n",
       " '0.05': 28408228.0,\n",
       " '0.1': 38808329.0,\n",
       " '0.2': 52165413.0}"
      ]
     },
     "execution_count": 29,
     "metadata": {},
     "output_type": "execute_result"
    }
   ],
   "source": [
    "threshold_gms"
   ]
  },
  {
   "cell_type": "markdown",
   "id": "82f8eae6",
   "metadata": {},
   "source": [
    "# How discriminative are the scores"
   ]
  },
  {
   "cell_type": "markdown",
   "id": "73e63539",
   "metadata": {},
   "source": [
    "Sample 20 pairs of listings with sim score > thresholds"
   ]
  },
  {
   "cell_type": "code",
   "execution_count": 30,
   "id": "3abecaec",
   "metadata": {},
   "outputs": [],
   "source": [
    "df_sampled = df.sample(n=10000, replace=False).reset_index(inplace=False)"
   ]
  },
  {
   "cell_type": "code",
   "execution_count": 31,
   "id": "9c10da86",
   "metadata": {},
   "outputs": [
    {
     "name": "stderr",
     "output_type": "stream",
     "text": [
      "100%|████████████████████████████████████| 10000/10000 [00:33<00:00, 298.60it/s]\n"
     ]
    }
   ],
   "source": [
    "thresholds = [0.0001, 0.001, 0.01, 0.05, 0.1, 0.2]\n",
    "threshold_listings = {str(th): set() for th in thresholds}\n",
    "\n",
    "for i in tqdm(range(df_sampled.shape[0])):\n",
    "    d = int(np.sqrt(len(df_sampled.cosine_sim[i])))\n",
    "    sim_mat = np.reshape(np.copy(df_sampled.cosine_sim[i]), (d, d))\n",
    "    cand_listings = list(df_sampled.listing_ids[i])\n",
    "    np.fill_diagonal(sim_mat, np.nan)\n",
    "    \n",
    "    for j in range(d):\n",
    "        for k in range(j+1, d):\n",
    "            for key, val in threshold_gms.items():\n",
    "                if (sim_mat[j, k] > (1.0 - float(key))) and (cand_listings[j] != cand_listings[k]):\n",
    "                    threshold_listings[key].add((cand_listings[j], cand_listings[k]))"
   ]
  },
  {
   "cell_type": "code",
   "execution_count": 32,
   "id": "fd0ad654",
   "metadata": {},
   "outputs": [
    {
     "data": {
      "text/plain": [
       "[3159, 3628, 4824, 11341, 31762, 168351]"
      ]
     },
     "execution_count": 32,
     "metadata": {},
     "output_type": "execute_result"
    }
   ],
   "source": [
    "[len(v) for v in threshold_listings.values()]"
   ]
  },
  {
   "cell_type": "code",
   "execution_count": 37,
   "id": "027d43ba",
   "metadata": {
    "scrolled": false
   },
   "outputs": [
    {
     "name": "stdout",
     "output_type": "stream",
     "text": [
      "0.0001\n",
      "https://atlas.etsycorp.com/recsys/listing_viewer.php?listing_ids=1499816149,1369661718\n",
      "https://atlas.etsycorp.com/recsys/listing_viewer.php?listing_ids=606568895,606569167\n",
      "https://atlas.etsycorp.com/recsys/listing_viewer.php?listing_ids=955946572,827648401\n",
      "https://atlas.etsycorp.com/recsys/listing_viewer.php?listing_ids=805159881,791281302\n",
      "https://atlas.etsycorp.com/recsys/listing_viewer.php?listing_ids=607234288,562953313\n",
      "https://atlas.etsycorp.com/recsys/listing_viewer.php?listing_ids=247609784,386172296\n",
      "https://atlas.etsycorp.com/recsys/listing_viewer.php?listing_ids=512738825,508438919\n",
      "https://atlas.etsycorp.com/recsys/listing_viewer.php?listing_ids=1252344944,1532734713\n",
      "https://atlas.etsycorp.com/recsys/listing_viewer.php?listing_ids=562121527,555058010\n",
      "https://atlas.etsycorp.com/recsys/listing_viewer.php?listing_ids=945649143,945648769\n",
      "https://atlas.etsycorp.com/recsys/listing_viewer.php?listing_ids=1065136823,1463984509\n",
      "https://atlas.etsycorp.com/recsys/listing_viewer.php?listing_ids=481233795,1283668696\n",
      "https://atlas.etsycorp.com/recsys/listing_viewer.php?listing_ids=1557121261,1557126683\n",
      "https://atlas.etsycorp.com/recsys/listing_viewer.php?listing_ids=1060272312,1064637882\n",
      "https://atlas.etsycorp.com/recsys/listing_viewer.php?listing_ids=1418048121,1529990863\n",
      "https://atlas.etsycorp.com/recsys/listing_viewer.php?listing_ids=1274519354,1295995352\n",
      "https://atlas.etsycorp.com/recsys/listing_viewer.php?listing_ids=559000505,802273793\n",
      "https://atlas.etsycorp.com/recsys/listing_viewer.php?listing_ids=557816324,287602245\n",
      "https://atlas.etsycorp.com/recsys/listing_viewer.php?listing_ids=947386581,1501472791\n",
      "https://atlas.etsycorp.com/recsys/listing_viewer.php?listing_ids=1082678816,1065256818\n",
      "0.001\n",
      "https://atlas.etsycorp.com/recsys/listing_viewer.php?listing_ids=1056346256,1286641763\n",
      "https://atlas.etsycorp.com/recsys/listing_viewer.php?listing_ids=818797973,804914972\n",
      "https://atlas.etsycorp.com/recsys/listing_viewer.php?listing_ids=1443024565,1544234404\n",
      "https://atlas.etsycorp.com/recsys/listing_viewer.php?listing_ids=399588161,957834113\n",
      "https://atlas.etsycorp.com/recsys/listing_viewer.php?listing_ids=1411941377,1249391426\n",
      "https://atlas.etsycorp.com/recsys/listing_viewer.php?listing_ids=700545712,800674249\n",
      "https://atlas.etsycorp.com/recsys/listing_viewer.php?listing_ids=1545204449,1534438122\n",
      "https://atlas.etsycorp.com/recsys/listing_viewer.php?listing_ids=454205976,497124203\n",
      "https://atlas.etsycorp.com/recsys/listing_viewer.php?listing_ids=964423419,1194524621\n",
      "https://atlas.etsycorp.com/recsys/listing_viewer.php?listing_ids=905544161,1446183209\n",
      "https://atlas.etsycorp.com/recsys/listing_viewer.php?listing_ids=1196604540,821457552\n",
      "https://atlas.etsycorp.com/recsys/listing_viewer.php?listing_ids=1516173602,1531173096\n",
      "https://atlas.etsycorp.com/recsys/listing_viewer.php?listing_ids=788398978,802273793\n",
      "https://atlas.etsycorp.com/recsys/listing_viewer.php?listing_ids=1479190372,863852355\n",
      "https://atlas.etsycorp.com/recsys/listing_viewer.php?listing_ids=726364447,649228455\n",
      "https://atlas.etsycorp.com/recsys/listing_viewer.php?listing_ids=178426063,1279904883\n",
      "https://atlas.etsycorp.com/recsys/listing_viewer.php?listing_ids=923993401,763189064\n",
      "https://atlas.etsycorp.com/recsys/listing_viewer.php?listing_ids=1517866305,1503687450\n",
      "https://atlas.etsycorp.com/recsys/listing_viewer.php?listing_ids=1097015161,1096904095\n",
      "https://atlas.etsycorp.com/recsys/listing_viewer.php?listing_ids=783541010,1084996903\n",
      "0.01\n",
      "https://atlas.etsycorp.com/recsys/listing_viewer.php?listing_ids=1025643846,1022734596\n",
      "https://atlas.etsycorp.com/recsys/listing_viewer.php?listing_ids=1430686431,1528367933\n",
      "https://atlas.etsycorp.com/recsys/listing_viewer.php?listing_ids=1114683352,1323287136\n",
      "https://atlas.etsycorp.com/recsys/listing_viewer.php?listing_ids=967373731,858668945\n",
      "https://atlas.etsycorp.com/recsys/listing_viewer.php?listing_ids=1539288667,1534438122\n",
      "https://atlas.etsycorp.com/recsys/listing_viewer.php?listing_ids=1528470827,1552151847\n",
      "https://atlas.etsycorp.com/recsys/listing_viewer.php?listing_ids=245074668,562953313\n",
      "https://atlas.etsycorp.com/recsys/listing_viewer.php?listing_ids=512995437,637588961\n",
      "https://atlas.etsycorp.com/recsys/listing_viewer.php?listing_ids=499248902,516486283\n",
      "https://atlas.etsycorp.com/recsys/listing_viewer.php?listing_ids=1503162542,1542876899\n",
      "https://atlas.etsycorp.com/recsys/listing_viewer.php?listing_ids=1305039422,1406028608\n",
      "https://atlas.etsycorp.com/recsys/listing_viewer.php?listing_ids=1272919965,277935676\n",
      "https://atlas.etsycorp.com/recsys/listing_viewer.php?listing_ids=287602691,287602165\n",
      "https://atlas.etsycorp.com/recsys/listing_viewer.php?listing_ids=1208909951,1208910399\n",
      "https://atlas.etsycorp.com/recsys/listing_viewer.php?listing_ids=499248902,635541996\n",
      "https://atlas.etsycorp.com/recsys/listing_viewer.php?listing_ids=1222596690,1454754968\n",
      "https://atlas.etsycorp.com/recsys/listing_viewer.php?listing_ids=574469900,1236129415\n",
      "https://atlas.etsycorp.com/recsys/listing_viewer.php?listing_ids=103523849,103524479\n",
      "https://atlas.etsycorp.com/recsys/listing_viewer.php?listing_ids=1190672521,1144142762\n",
      "https://atlas.etsycorp.com/recsys/listing_viewer.php?listing_ids=386769544,389034408\n",
      "0.05\n",
      "https://atlas.etsycorp.com/recsys/listing_viewer.php?listing_ids=728189833,728194441\n",
      "https://atlas.etsycorp.com/recsys/listing_viewer.php?listing_ids=512995437,507828425\n",
      "https://atlas.etsycorp.com/recsys/listing_viewer.php?listing_ids=1557113697,1555573009\n",
      "https://atlas.etsycorp.com/recsys/listing_viewer.php?listing_ids=461496488,474984759\n",
      "https://atlas.etsycorp.com/recsys/listing_viewer.php?listing_ids=1544846991,1507920879\n",
      "https://atlas.etsycorp.com/recsys/listing_viewer.php?listing_ids=1530212266,1530300894\n",
      "https://atlas.etsycorp.com/recsys/listing_viewer.php?listing_ids=961859249,181001343\n",
      "https://atlas.etsycorp.com/recsys/listing_viewer.php?listing_ids=1481367807,1481356897\n",
      "https://atlas.etsycorp.com/recsys/listing_viewer.php?listing_ids=1475251182,1491643557\n",
      "https://atlas.etsycorp.com/recsys/listing_viewer.php?listing_ids=1391589770,1480480726\n",
      "https://atlas.etsycorp.com/recsys/listing_viewer.php?listing_ids=1559298217,1540921090\n",
      "https://atlas.etsycorp.com/recsys/listing_viewer.php?listing_ids=1008152027,939145103\n",
      "https://atlas.etsycorp.com/recsys/listing_viewer.php?listing_ids=1412426688,1412437054\n",
      "https://atlas.etsycorp.com/recsys/listing_viewer.php?listing_ids=1523037596,1537220747\n",
      "https://atlas.etsycorp.com/recsys/listing_viewer.php?listing_ids=1480371199,1522733390\n",
      "https://atlas.etsycorp.com/recsys/listing_viewer.php?listing_ids=753443025,753433217\n",
      "https://atlas.etsycorp.com/recsys/listing_viewer.php?listing_ids=274091770,557816324\n",
      "https://atlas.etsycorp.com/recsys/listing_viewer.php?listing_ids=449133606,708919232\n",
      "https://atlas.etsycorp.com/recsys/listing_viewer.php?listing_ids=1391258298,1404630789\n",
      "https://atlas.etsycorp.com/recsys/listing_viewer.php?listing_ids=1131161816,1216808526\n",
      "0.1\n",
      "https://atlas.etsycorp.com/recsys/listing_viewer.php?listing_ids=1158083327,1144808926\n",
      "https://atlas.etsycorp.com/recsys/listing_viewer.php?listing_ids=1345889773,274091770\n",
      "https://atlas.etsycorp.com/recsys/listing_viewer.php?listing_ids=1502058426,1502060298\n",
      "https://atlas.etsycorp.com/recsys/listing_viewer.php?listing_ids=1538187107,1558049899\n",
      "https://atlas.etsycorp.com/recsys/listing_viewer.php?listing_ids=1468383961,98779641\n",
      "https://atlas.etsycorp.com/recsys/listing_viewer.php?listing_ids=1071351983,674619438\n",
      "https://atlas.etsycorp.com/recsys/listing_viewer.php?listing_ids=1529059707,1529062751\n",
      "https://atlas.etsycorp.com/recsys/listing_viewer.php?listing_ids=1329006455,1419340530\n",
      "https://atlas.etsycorp.com/recsys/listing_viewer.php?listing_ids=697669349,780651689\n",
      "https://atlas.etsycorp.com/recsys/listing_viewer.php?listing_ids=889611355,889619141\n",
      "https://atlas.etsycorp.com/recsys/listing_viewer.php?listing_ids=1546893725,1533210528\n",
      "https://atlas.etsycorp.com/recsys/listing_viewer.php?listing_ids=1494592780,1507477913\n",
      "https://atlas.etsycorp.com/recsys/listing_viewer.php?listing_ids=1076487383,716508529\n",
      "https://atlas.etsycorp.com/recsys/listing_viewer.php?listing_ids=1060204707,1059737471\n",
      "https://atlas.etsycorp.com/recsys/listing_viewer.php?listing_ids=1264110152,1479088543\n",
      "https://atlas.etsycorp.com/recsys/listing_viewer.php?listing_ids=1220288066,1222605716\n",
      "https://atlas.etsycorp.com/recsys/listing_viewer.php?listing_ids=1410774810,903973100\n",
      "https://atlas.etsycorp.com/recsys/listing_viewer.php?listing_ids=731055907,724308204\n",
      "https://atlas.etsycorp.com/recsys/listing_viewer.php?listing_ids=1505676791,1491428194\n",
      "https://atlas.etsycorp.com/recsys/listing_viewer.php?listing_ids=488958333,400820283\n",
      "0.2\n",
      "https://atlas.etsycorp.com/recsys/listing_viewer.php?listing_ids=777727506,743870634\n",
      "https://atlas.etsycorp.com/recsys/listing_viewer.php?listing_ids=1367554558,1366137150\n",
      "https://atlas.etsycorp.com/recsys/listing_viewer.php?listing_ids=1289558003,1514700804\n",
      "https://atlas.etsycorp.com/recsys/listing_viewer.php?listing_ids=1533916062,1558140093\n",
      "https://atlas.etsycorp.com/recsys/listing_viewer.php?listing_ids=1492166318,1295316557\n",
      "https://atlas.etsycorp.com/recsys/listing_viewer.php?listing_ids=1270096998,548562817\n",
      "https://atlas.etsycorp.com/recsys/listing_viewer.php?listing_ids=1169050043,1264589120\n",
      "https://atlas.etsycorp.com/recsys/listing_viewer.php?listing_ids=872807125,1342156840\n",
      "https://atlas.etsycorp.com/recsys/listing_viewer.php?listing_ids=1454652140,921595275\n",
      "https://atlas.etsycorp.com/recsys/listing_viewer.php?listing_ids=1495471276,1543317445\n",
      "https://atlas.etsycorp.com/recsys/listing_viewer.php?listing_ids=1188958393,1188964241\n",
      "https://atlas.etsycorp.com/recsys/listing_viewer.php?listing_ids=1469407975,1524011486\n",
      "https://atlas.etsycorp.com/recsys/listing_viewer.php?listing_ids=1430273702,1540642220\n",
      "https://atlas.etsycorp.com/recsys/listing_viewer.php?listing_ids=1048158846,1056888223\n",
      "https://atlas.etsycorp.com/recsys/listing_viewer.php?listing_ids=1041203025,693952490\n",
      "https://atlas.etsycorp.com/recsys/listing_viewer.php?listing_ids=1536677367,1483174857\n",
      "https://atlas.etsycorp.com/recsys/listing_viewer.php?listing_ids=784093701,612912676\n",
      "https://atlas.etsycorp.com/recsys/listing_viewer.php?listing_ids=1328447956,1394320811\n",
      "https://atlas.etsycorp.com/recsys/listing_viewer.php?listing_ids=1304422884,1535144988\n",
      "https://atlas.etsycorp.com/recsys/listing_viewer.php?listing_ids=1487118620,1521802928\n"
     ]
    }
   ],
   "source": [
    "for key, val in threshold_listings.items():\n",
    "    print(key)\n",
    "    val = list(val)\n",
    "    sampled_idx = np.random.choice(len(val),size=20)\n",
    "    sampled_val = [val[idx] for idx in sampled_idx]\n",
    "    for i in range(len(sampled_val)):\n",
    "        lid1 = sampled_val[i][0]\n",
    "        lid2 = sampled_val[i][1]\n",
    "        print(f\"https://atlas.etsycorp.com/recsys/listing_viewer.php?listing_ids={lid1},{lid2}\")"
   ]
  },
  {
   "cell_type": "code",
   "execution_count": null,
   "id": "89227245",
   "metadata": {},
   "outputs": [],
   "source": []
  }
 ],
 "metadata": {
  "kernelspec": {
   "display_name": "venv",
   "language": "python",
   "name": "venv"
  },
  "language_info": {
   "codemirror_mode": {
    "name": "ipython",
    "version": 3
   },
   "file_extension": ".py",
   "mimetype": "text/x-python",
   "name": "python",
   "nbconvert_exporter": "python",
   "pygments_lexer": "ipython3",
   "version": "3.8.9"
  }
 },
 "nbformat": 4,
 "nbformat_minor": 5
}
