{
 "cells": [
  {
   "cell_type": "code",
   "execution_count": 1,
   "id": "163c8276",
   "metadata": {
    "scrolled": true
   },
   "outputs": [
    {
     "name": "stderr",
     "output_type": "stream",
     "text": [
      "2024-01-08 15:41:32.242870: I tensorflow/core/platform/cpu_feature_guard.cc:182] This TensorFlow binary is optimized to use available CPU instructions in performance-critical operations.\n",
      "To enable the following instructions: AVX2 FMA, in other operations, rebuild TensorFlow with the appropriate compiler flags.\n"
     ]
    }
   ],
   "source": [
    "import tensorflow_transform as tft"
   ]
  },
  {
   "cell_type": "code",
   "execution_count": 2,
   "id": "df7652c8",
   "metadata": {},
   "outputs": [],
   "source": [
    "prod_model_root = \"gs://training-prod-search-data-jtzn/neural_ranking/third_pass/models/nr-third-pass-seg-power-loose\"\n",
    "pr_model_root = \"gs://training-dev-search-data-jtzn/neural_ranking/second_pass/nrv2-jg-third-pass-1d/model_root\"\n",
    "date = \"2024-01-01\""
   ]
  },
  {
   "cell_type": "code",
   "execution_count": 3,
   "id": "22509fa4",
   "metadata": {},
   "outputs": [],
   "source": [
    "prod_tft_path = f\"{prod_model_root}/preprocess_fit/{date}\"\n",
    "prod_tft = tft.TFTransformOutput(prod_tft_path)\n",
    "\n",
    "pr_tft_path = f\"{pr_model_root}/preprocess_fit/{date}\"\n",
    "pr_tft = tft.TFTransformOutput(pr_tft_path)"
   ]
  },
  {
   "cell_type": "code",
   "execution_count": 4,
   "id": "ba488284",
   "metadata": {},
   "outputs": [],
   "source": [
    "prod_raw_features = sorted(prod_tft.raw_feature_spec().keys())\n",
    "prod_eng_features = sorted(prod_tft.transformed_feature_spec().keys())\n",
    "\n",
    "pr_raw_features = sorted(pr_tft.raw_feature_spec().keys())\n",
    "pr_eng_features = sorted(pr_tft.transformed_feature_spec().keys())"
   ]
  },
  {
   "cell_type": "code",
   "execution_count": 5,
   "id": "1b2bb0a7",
   "metadata": {
    "scrolled": false
   },
   "outputs": [
    {
     "name": "stdout",
     "output_type": "stream",
     "text": [
      "76 77\n"
     ]
    }
   ],
   "source": [
    "print(len(prod_raw_features), len(pr_raw_features))"
   ]
  },
  {
   "cell_type": "code",
   "execution_count": 6,
   "id": "9c91a904",
   "metadata": {},
   "outputs": [
    {
     "data": {
      "text/plain": [
       "{'userCountry'}"
      ]
     },
     "execution_count": 6,
     "metadata": {},
     "output_type": "execute_result"
    }
   ],
   "source": [
    "set(pr_raw_features) - set(prod_raw_features)"
   ]
  },
  {
   "cell_type": "code",
   "execution_count": 7,
   "id": "4fe85a98",
   "metadata": {
    "scrolled": false
   },
   "outputs": [
    {
     "name": "stdout",
     "output_type": "stream",
     "text": [
      "90 119\n"
     ]
    }
   ],
   "source": [
    "print(len(prod_eng_features), len(pr_eng_features))"
   ]
  },
  {
   "cell_type": "code",
   "execution_count": 8,
   "id": "f919aad6",
   "metadata": {
    "scrolled": false
   },
   "outputs": [
    {
     "data": {
      "text/plain": [
       "{'candidateInfo.candidateInfo.avgPropensity_numCarts:prod_nan_log1p',\n",
       " 'candidateInfo.candidateInfo.avgPropensity_numClicks:prod_nan_log1p',\n",
       " 'candidateInfo.candidateInfo.avgPropensity_numImpressions:prod_nan_log1p',\n",
       " 'candidateInfo.candidateInfo.count_totalOrders:ratio_nan_log1p',\n",
       " 'candidateInfo.candidateInfo.domesticShipCost_priceUsd:ratio_nan_log1p',\n",
       " 'candidateInfo.candidateInfo.shopViews_shopImpressions:ratio_nan_log1p',\n",
       " 'candidateInfo.candidateInfo.smoothCartAdd_smoothCartAdd:diff_nan_log1p',\n",
       " 'candidateInfo.candidateInfo.smoothCartAdd_smoothCtr:ratio_nan_log1p',\n",
       " 'candidateInfo.candidateInfo.smoothCartAdd_smoothPurchase:ratio_nan_log1p',\n",
       " 'candidateInfo.candidateInfo.smoothCart_smoothCart:diff_nan_log1p',\n",
       " 'candidateInfo.candidateInfo.smoothPurchase_smoothCartAdd:ratio_nan_log1p',\n",
       " 'candidateInfo.candidateInfo.totalOrders_shopViews:ratio_nan_log1p',\n",
       " 'candidateInfo.candidateInfo.usShipCost_priceUsd:ratio_nan_log1p',\n",
       " 'candidateInfo.contextualInfo[name=target].priceUsd_avgClickPrice:diff_nan_log1p',\n",
       " 'candidateInfo.contextualInfo[name=target].priceUsd_avgClickPrice:ratio_nan_log1p',\n",
       " 'candidateInfo.contextualInfo[name=target].priceUsd_avgPurchasePrice:diff_nan_log1p',\n",
       " 'candidateInfo.contextualInfo[name=target].priceUsd_avgPurchasePrice:ratio_nan_log1p',\n",
       " 'candidateInfo.contextualInfo[name=user].originPostalCode_zip_max:abs_diff_log1p',\n",
       " 'candidateInfo.docInfo.listingInfo.activeListingBasics.daysSinceCreate_log1p',\n",
       " 'candidateInfo.docInfo.listingInfo.activeListingBasics.daysSinceOriginalCreate_log1p',\n",
       " 'candidateInfo.docInfo.listingInfo.activeListingBasics.gmsPercentile_log1p',\n",
       " 'candidateInfo.docInfo.listingInfo.activeListingBasics.imageCount_log1p',\n",
       " 'candidateInfo.docInfo.listingInfo.activeListingBasics.materialCount_log1p',\n",
       " 'candidateInfo.docInfo.listingInfo.activeListingBasics.maxPriceUsd_log1p',\n",
       " 'candidateInfo.docInfo.listingInfo.activeListingBasics.newListingFlag_log1p',\n",
       " 'candidateInfo.docInfo.listingInfo.activeListingBasics.normalizedDailyGms_log1p',\n",
       " 'candidateInfo.docInfo.listingInfo.activeListingBasics.normalizedDailyQuantity_log1p',\n",
       " 'candidateInfo.docInfo.listingInfo.activeListingBasics.pastDayGms_log1p',\n",
       " 'candidateInfo.docInfo.listingInfo.activeListingBasics.pastDayOrders_log1p',\n",
       " 'candidateInfo.docInfo.listingInfo.activeListingBasics.pastDayQuantitySold_log1p',\n",
       " 'candidateInfo.docInfo.listingInfo.activeListingBasics.quantity_log1p',\n",
       " 'candidateInfo.docInfo.listingInfo.activeListingBasics.totalFavoriteCount_log1p',\n",
       " 'candidateInfo.docInfo.listingInfo.activeListingBasics.totalGms_log1p',\n",
       " 'candidateInfo.docInfo.listingInfo.activeListingBasics.totalOrders_log1p',\n",
       " 'candidateInfo.docInfo.listingInfo.activeListingBasics.totalQuantitySold_log1p',\n",
       " 'candidateInfo.docInfo.listingInfo.activeListingBasics.totalViewCount_log1p',\n",
       " 'candidateInfo.docInfo.listingInfo.activeListingLocation.originCountryId:is_AU',\n",
       " 'candidateInfo.docInfo.listingInfo.activeListingLocation.originCountryId:is_CA',\n",
       " 'candidateInfo.docInfo.listingInfo.activeListingLocation.originCountryId:is_DE',\n",
       " 'candidateInfo.docInfo.listingInfo.activeListingLocation.originCountryId:is_FR',\n",
       " 'candidateInfo.docInfo.listingInfo.activeListingLocation.originCountryId:is_GB',\n",
       " 'candidateInfo.docInfo.listingInfo.activeListingLocation.originCountryId:is_JP',\n",
       " 'candidateInfo.docInfo.listingInfo.activeListingLocation.originCountryId:is_US',\n",
       " 'candidateInfo.docInfo.listingInfo.activeListingLocation.originPostalCode_log1p',\n",
       " 'candidateInfo.docInfo.listingInfo.activeListingShippingCosts.domesticShipCost_log1p',\n",
       " 'candidateInfo.docInfo.listingInfo.activeListingShippingCosts.hasProcessingTime_log1p',\n",
       " 'candidateInfo.docInfo.listingInfo.activeListingShippingCosts.maxProcessingDays_log1p',\n",
       " 'candidateInfo.docInfo.listingInfo.activeListingShippingCosts.minProcessingDays_log1p',\n",
       " 'candidateInfo.docInfo.listingInfo.activeListingShippingCosts.shipsFreeDomestic_log1p',\n",
       " 'candidateInfo.docInfo.listingInfo.activeListingShippingCosts.shipsFreeToUs_log1p',\n",
       " 'candidateInfo.docInfo.listingInfo.activeListingShippingCosts.shipsToUs_log1p',\n",
       " 'candidateInfo.docInfo.listingInfo.activeListingShippingCosts.usShipCost_log1p',\n",
       " 'candidateInfo.docInfo.listingInfo.dwellTime.pastWeekTotalDwellMs_log1p',\n",
       " 'candidateInfo.docInfo.listingInfo.imageQualityScore.imageQualityScore_log1p',\n",
       " 'candidateInfo.docInfo.listingInfo.listingSearchVisit14d.avgPosition_log1p',\n",
       " 'candidateInfo.docInfo.listingInfo.listingSearchVisit14d.avgPropensity_log1p',\n",
       " 'candidateInfo.docInfo.listingInfo.listingSearchVisit14d.numCarts_log1p',\n",
       " 'candidateInfo.docInfo.listingInfo.listingSearchVisit14d.numClicks_log1p',\n",
       " 'candidateInfo.docInfo.listingInfo.listingSearchVisit14d.numImpressions_log1p',\n",
       " 'candidateInfo.docInfo.listingInfo.listingSearchVisit14d.smoothCart_log1p',\n",
       " 'candidateInfo.docInfo.listingInfo.listingSearchVisit14d.smoothCtr_log1p',\n",
       " 'candidateInfo.docInfo.listingInfo.listingSmoothHistorical.smoothCartAdd_log1p',\n",
       " 'candidateInfo.docInfo.listingInfo.listingSmoothHistorical.smoothPurchase_log1p',\n",
       " 'candidateInfo.docInfo.listingInfo.listing_neural_ir_embedding',\n",
       " 'candidateInfo.docInfo.listingInfo.topQueryYear.clickTopQuery:size_log1p',\n",
       " 'candidateInfo.docInfo.listingInfo.topQueryYear.clickTopQuery_neural_ir_embedding',\n",
       " 'candidateInfo.docInfo.shopInfo.shopAvgRatings.avgRating_log1p',\n",
       " 'candidateInfo.docInfo.shopInfo.shopAvgRatings.count_log1p',\n",
       " 'candidateInfo.docInfo.shopInfo.shopProlistVisit30d.smoothCart_log1p',\n",
       " 'candidateInfo.docInfo.shopInfo.shopSmoothHistorical.smoothCartAdd_log1p',\n",
       " 'candidateInfo.docInfo.shopInfo.shopSmoothHistorical.smoothCtr_log1p',\n",
       " 'candidateInfo.docInfo.shopInfo.shopSmoothHistorical.smoothPurchase_log1p',\n",
       " 'candidateInfo.docInfo.shopInfo.verticaSellerBasics.pastYearQuantitySold_log1p',\n",
       " 'candidateInfo.docInfo.shopInfo.verticaSellerBasics.shopImpressions_log1p',\n",
       " 'candidateInfo.docInfo.shopInfo.verticaSellerBasics.shopName_neural_ir_embedding',\n",
       " 'candidateInfo.docInfo.shopInfo.verticaSellerBasics.shopViews_log1p',\n",
       " 'candidateInfo.docInfo.shopInfo.verticaSellerBasics.totalOrders_log1p',\n",
       " 'candidateInfo.docInfo.shopInfo.verticaSellerBasics.totalQuantitySold_log1p',\n",
       " 'contextualInfo[name=target].docInfo.queryInfo.queryLevelMetrics.totalPurchases_log1p',\n",
       " 'contextualInfo[name=target].docInfo.queryInfo.query_neural_ir_embedding',\n",
       " 'contextualInfo[name=target].docInfo.queryInfo.trebuchetQuery.avgClickPrice_log1p',\n",
       " 'contextualInfo[name=target].docInfo.queryInfo.trebuchetQuery.avgPurchasePrice_log1p',\n",
       " 'contextualInfo[name=user].candidateInfo.avgOrderValue_priceUsd:ratio_nan_log1p',\n",
       " 'contextualInfo[name=user].candidateInfo.countryId:is_AU_originCountryId:is_AU:is_identical',\n",
       " 'contextualInfo[name=user].candidateInfo.countryId:is_CA_originCountryId:is_CA:is_identical',\n",
       " 'contextualInfo[name=user].candidateInfo.countryId:is_DE_originCountryId:is_DE:is_identical',\n",
       " 'contextualInfo[name=user].candidateInfo.countryId:is_FR_originCountryId:is_FR:is_identical',\n",
       " 'contextualInfo[name=user].candidateInfo.countryId:is_GB_originCountryId:is_GB:is_identical',\n",
       " 'contextualInfo[name=user].candidateInfo.countryId:is_JP_originCountryId:is_JP:is_identical',\n",
       " 'contextualInfo[name=user].candidateInfo.countryId:is_US_originCountryId:is_US:is_identical',\n",
       " 'contextualInfo[name=user].userInfo.activeUserShipToLocations.countryId:is_AU',\n",
       " 'contextualInfo[name=user].userInfo.activeUserShipToLocations.countryId:is_CA',\n",
       " 'contextualInfo[name=user].userInfo.activeUserShipToLocations.countryId:is_DE',\n",
       " 'contextualInfo[name=user].userInfo.activeUserShipToLocations.countryId:is_FR',\n",
       " 'contextualInfo[name=user].userInfo.activeUserShipToLocations.countryId:is_GB',\n",
       " 'contextualInfo[name=user].userInfo.activeUserShipToLocations.countryId:is_JP',\n",
       " 'contextualInfo[name=user].userInfo.activeUserShipToLocations.countryId:is_US',\n",
       " 'contextualInfo[name=user].userInfo.activeUserShipToLocations.latitude_log1p',\n",
       " 'contextualInfo[name=user].userInfo.activeUserShipToLocations.longitude_log1p',\n",
       " 'contextualInfo[name=user].userInfo.activeUserShipToLocations.zip_max_log1p',\n",
       " 'contextualInfo[name=user].userInfo.purchaseLtd.avgOrderValue_log1p',\n",
       " 'position_log1p',\n",
       " 'userCountry'}"
      ]
     },
     "execution_count": 8,
     "metadata": {},
     "output_type": "execute_result"
    }
   ],
   "source": [
    "set(pr_eng_features) - set(prod_eng_features)"
   ]
  },
  {
   "cell_type": "code",
   "execution_count": 9,
   "id": "f57c57d6",
   "metadata": {},
   "outputs": [
    {
     "data": {
      "text/plain": [
       "['attributions_score',\n",
       " 'candidateInfo.candidateInfo.avgPropensity_numCarts:prod_nan_log1p_standardized',\n",
       " 'candidateInfo.candidateInfo.avgPropensity_numClicks:prod_nan_log1p_standardized',\n",
       " 'candidateInfo.candidateInfo.avgPropensity_numImpressions:prod_nan_log1p_standardized',\n",
       " 'candidateInfo.candidateInfo.count_totalOrders:ratio_nan_log1p_standardized',\n",
       " 'candidateInfo.candidateInfo.domesticShipCost_priceUsd:ratio_nan_log1p_standardized',\n",
       " 'candidateInfo.candidateInfo.shopViews_shopImpressions:ratio_nan_log1p_standardized',\n",
       " 'candidateInfo.candidateInfo.smoothCartAdd_smoothCartAdd:diff_nan_log1p_standardized',\n",
       " 'candidateInfo.candidateInfo.smoothCartAdd_smoothCtr:ratio_nan_log1p_standardized',\n",
       " 'candidateInfo.candidateInfo.smoothCartAdd_smoothPurchase:ratio_nan_log1p_standardized',\n",
       " 'candidateInfo.candidateInfo.smoothCart_smoothCart:diff_nan_log1p_standardized',\n",
       " 'candidateInfo.candidateInfo.smoothPurchase_smoothCartAdd:ratio_nan_log1p_standardized',\n",
       " 'candidateInfo.candidateInfo.totalOrders_shopViews:ratio_nan_log1p_standardized',\n",
       " 'candidateInfo.candidateInfo.usShipCost_priceUsd:ratio_nan_log1p_standardized',\n",
       " 'candidateInfo.contextualInfo[name=target].avgClickUsdPriceDiff_avgClickPrice:ratio_log1p_standardized',\n",
       " 'candidateInfo.contextualInfo[name=target].avgPurchaseUsdPriceDiff_avgClickPrice:ratio_log1p_standardized',\n",
       " 'candidateInfo.contextualInfo[name=target].clickTopQuery_neural_ir_embedding_query_neural_ir_embedding:cosine',\n",
       " 'candidateInfo.contextualInfo[name=target].listing_neural_ir_embedding_query_neural_ir_embedding:cosine',\n",
       " 'candidateInfo.contextualInfo[name=target].priceUsd_avgClickPrice:diff_nan_log1p_standardized',\n",
       " 'candidateInfo.contextualInfo[name=target].priceUsd_avgClickPrice:ratio_nan_log1p_standardized',\n",
       " 'candidateInfo.contextualInfo[name=target].priceUsd_avgPurchasePrice:diff_nan_log1p_standardized',\n",
       " 'candidateInfo.contextualInfo[name=target].priceUsd_avgPurchasePrice:ratio_nan_log1p_standardized',\n",
       " 'candidateInfo.contextualInfo[name=target].shopName_neural_ir_embedding_query_neural_ir_embedding:cosine',\n",
       " 'candidateInfo.contextualInfo[name=user].originPostalCode_zip_max:abs_diff_log1p_standardized',\n",
       " 'candidateInfo.docInfo.listingInfo.activeListingBasics.daysSinceCreate_truncated_standardized',\n",
       " 'candidateInfo.docInfo.listingInfo.activeListingBasics.daysSinceOriginalCreate_truncated_standardized',\n",
       " 'candidateInfo.docInfo.listingInfo.activeListingBasics.gmsPercentile_standardized',\n",
       " 'candidateInfo.docInfo.listingInfo.activeListingBasics.imageCount_standardized',\n",
       " 'candidateInfo.docInfo.listingInfo.activeListingBasics.materialCount_standardized',\n",
       " 'candidateInfo.docInfo.listingInfo.activeListingBasics.maxPriceUsd_truncated_standardized',\n",
       " 'candidateInfo.docInfo.listingInfo.activeListingBasics.newListingFlag',\n",
       " 'candidateInfo.docInfo.listingInfo.activeListingBasics.normalizedDailyGms_log1p_standardized',\n",
       " 'candidateInfo.docInfo.listingInfo.activeListingBasics.normalizedDailyQuantity_log1p_standardized',\n",
       " 'candidateInfo.docInfo.listingInfo.activeListingBasics.pastDayGms_log1p_standardized',\n",
       " 'candidateInfo.docInfo.listingInfo.activeListingBasics.pastDayOrders_log1p_standardized',\n",
       " 'candidateInfo.docInfo.listingInfo.activeListingBasics.pastDayQuantitySold_log1p_standardized',\n",
       " 'candidateInfo.docInfo.listingInfo.activeListingBasics.priceUsd_log1p',\n",
       " 'candidateInfo.docInfo.listingInfo.activeListingBasics.priceUsd_truncated_standardized',\n",
       " 'candidateInfo.docInfo.listingInfo.activeListingBasics.quantity_truncated_standardized',\n",
       " 'candidateInfo.docInfo.listingInfo.activeListingBasics.totalFavoriteCount_log1p_standardized',\n",
       " 'candidateInfo.docInfo.listingInfo.activeListingBasics.totalGms_log1p_standardized',\n",
       " 'candidateInfo.docInfo.listingInfo.activeListingBasics.totalOrders_log1p_standardized',\n",
       " 'candidateInfo.docInfo.listingInfo.activeListingBasics.totalQuantitySold_log1p_standardized',\n",
       " 'candidateInfo.docInfo.listingInfo.activeListingBasics.totalViewCount_log1p_standardized',\n",
       " 'candidateInfo.docInfo.listingInfo.activeListingLocation.latitude',\n",
       " 'candidateInfo.docInfo.listingInfo.activeListingLocation.longitude',\n",
       " 'candidateInfo.docInfo.listingInfo.activeListingLocation.originPostalCode_log1p_standardized',\n",
       " 'candidateInfo.docInfo.listingInfo.activeListingShippingCosts.hasProcessingTime',\n",
       " 'candidateInfo.docInfo.listingInfo.activeListingShippingCosts.maxProcessingDays_truncated_standardized',\n",
       " 'candidateInfo.docInfo.listingInfo.activeListingShippingCosts.minProcessingDays_truncated_standardized',\n",
       " 'candidateInfo.docInfo.listingInfo.activeListingShippingCosts.shipsFreeDomestic',\n",
       " 'candidateInfo.docInfo.listingInfo.activeListingShippingCosts.shipsFreeToUs',\n",
       " 'candidateInfo.docInfo.listingInfo.activeListingShippingCosts.shipsToUs',\n",
       " 'candidateInfo.docInfo.listingInfo.activeListingShippingCosts.usShipCost_truncated_standardized',\n",
       " 'candidateInfo.docInfo.listingInfo.dwellTime.pastWeekTotalDwellMs_log1p_standardized',\n",
       " 'candidateInfo.docInfo.listingInfo.imageQualityScore.imageQualityScore_standardized',\n",
       " 'candidateInfo.docInfo.listingInfo.listingSearchVisit14d.avgPosition_standardized',\n",
       " 'candidateInfo.docInfo.listingInfo.listingSearchVisit14d.avgPropensity_standardized',\n",
       " 'candidateInfo.docInfo.listingInfo.listingSearchVisit14d.numCarts_log1p_standardized',\n",
       " 'candidateInfo.docInfo.listingInfo.listingSearchVisit14d.numClicks_log1p_standardized',\n",
       " 'candidateInfo.docInfo.listingInfo.listingSearchVisit14d.numImpressions_log1p_standardized',\n",
       " 'candidateInfo.docInfo.listingInfo.listingSearchVisit14d.smoothCart_standardized',\n",
       " 'candidateInfo.docInfo.listingInfo.listingSearchVisit14d.smoothCtr_standardized',\n",
       " 'candidateInfo.docInfo.shopInfo.shopAvgRatings.avgRating_log1p_standardized',\n",
       " 'candidateInfo.docInfo.shopInfo.verticaSellerBasics.pastYearQuantitySold_log1p_standardized',\n",
       " 'candidateInfo.scores.score_sigmoid',\n",
       " 'candidateInfo.scores.score_truncated_centered',\n",
       " 'candidateInfo.scores.score_truncated_standardized',\n",
       " 'candidateInfo.scores.score_truncated_zscore',\n",
       " 'contextualInfo[name=target].candidateInfo.avgOrderValue_priceScaled:ratio_log1p_standardized',\n",
       " 'contextualInfo[name=target].docInfo.queryInfo.queryLevelMetrics.bin:EMPTY_STRING',\n",
       " 'contextualInfo[name=target].docInfo.queryInfo.queryLevelMetrics.bin:head',\n",
       " 'contextualInfo[name=target].docInfo.queryInfo.queryLevelMetrics.bin:tail',\n",
       " 'contextualInfo[name=target].docInfo.queryInfo.queryLevelMetrics.bin:top.01',\n",
       " 'contextualInfo[name=target].docInfo.queryInfo.queryLevelMetrics.bin:top.1',\n",
       " 'contextualInfo[name=target].docInfo.queryInfo.queryLevelMetrics.bin:torso',\n",
       " 'contextualInfo[name=target].docInfo.queryInfo.queryLevelMetrics.totalPurchases_log1p_standardized',\n",
       " 'contextualInfo[name=user].candidateInfo.avgOrderValue_priceUsd:ratio_nan_log1p_standardized',\n",
       " 'contextualInfo[name=user].candidateInfo.countryId:is_identical',\n",
       " 'contextualInfo[name=user].candidateInfo.euclidean_distance',\n",
       " 'contextualInfo[name=user].userInfo.activeUserShipToLocations.latitude',\n",
       " 'contextualInfo[name=user].userInfo.activeUserShipToLocations.longitude',\n",
       " 'contextualInfo[name=user].userInfo.activeUserShipToLocations.zip_max_log1p_standardized',\n",
       " 'contextualInfo[name=user].userInfo.userSegmentFeatures.buyerSegment:Active',\n",
       " 'contextualInfo[name=user].userInfo.userSegmentFeatures.buyerSegment:Habitual',\n",
       " 'contextualInfo[name=user].userInfo.userSegmentFeatures.buyerSegment:Not Active',\n",
       " 'contextualInfo[name=user].userInfo.userSegmentFeatures.buyerSegment:Repeat',\n",
       " 'position',\n",
       " 'requestUUID',\n",
       " 'sample_weight']"
      ]
     },
     "execution_count": 9,
     "metadata": {},
     "output_type": "execute_result"
    }
   ],
   "source": [
    "prod_eng_features"
   ]
  },
  {
   "cell_type": "code",
   "execution_count": null,
   "id": "f503b451",
   "metadata": {},
   "outputs": [],
   "source": []
  }
 ],
 "metadata": {
  "kernelspec": {
   "display_name": "venv",
   "language": "python",
   "name": "venv"
  },
  "language_info": {
   "codemirror_mode": {
    "name": "ipython",
    "version": 3
   },
   "file_extension": ".py",
   "mimetype": "text/x-python",
   "name": "python",
   "nbconvert_exporter": "python",
   "pygments_lexer": "ipython3",
   "version": "3.8.9"
  }
 },
 "nbformat": 4,
 "nbformat_minor": 5
}
