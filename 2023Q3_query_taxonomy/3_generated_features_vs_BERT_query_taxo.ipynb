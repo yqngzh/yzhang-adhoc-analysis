{
 "cells": [
  {
   "cell_type": "code",
   "execution_count": 1,
   "id": "00a35925",
   "metadata": {
    "scrolled": true
   },
   "outputs": [
    {
     "name": "stdout",
     "output_type": "stream",
     "text": [
      "WARNING:  Python 3.5-3.7 will be deprecated on August 8th, 2023. Please use Python version 3.8 and up.\n",
      "\n",
      "If you have a compatible Python interpreter installed, you can use it by setting\n",
      "the CLOUDSDK_PYTHON environment variable to point to it.\n",
      "\n",
      "Updated property [core/project].\n"
     ]
    }
   ],
   "source": [
    "!gcloud config set project etsy-bigquery-adhoc-prod"
   ]
  },
  {
   "cell_type": "code",
   "execution_count": 2,
   "id": "7a6d3771",
   "metadata": {},
   "outputs": [],
   "source": [
    "%load_ext google.cloud.bigquery"
   ]
  },
  {
   "cell_type": "code",
   "execution_count": 33,
   "id": "eb8c4e77",
   "metadata": {},
   "outputs": [],
   "source": [
    "import requests\n",
    "import json\n",
    "import numpy as np\n",
    "from typing import Dict\n",
    "import matplotlib.pyplot as plt"
   ]
  },
  {
   "cell_type": "code",
   "execution_count": 4,
   "id": "92207eaa",
   "metadata": {},
   "outputs": [],
   "source": [
    "AZ_URL = \"https://knowledge-base-api-dev.etsycloud.com/api/arizona/v1/datasets/query_classifier_prolist_search_purchases_6mo/rows/{:s}\""
   ]
  },
  {
   "cell_type": "code",
   "execution_count": 5,
   "id": "57ba7b51",
   "metadata": {},
   "outputs": [],
   "source": [
    "def format_taxonomy_to_second_level(taxo_path: str):\n",
    "    if \".\" in taxo_path:\n",
    "        return \".\".join(taxo_path.split(\".\")[:2])\n",
    "    else:\n",
    "        return taxo_path + \".\"    "
   ]
  },
  {
   "cell_type": "code",
   "execution_count": null,
   "id": "d19c8d61",
   "metadata": {},
   "outputs": [],
   "source": []
  },
  {
   "cell_type": "code",
   "execution_count": 6,
   "id": "b4004601",
   "metadata": {},
   "outputs": [
    {
     "name": "stderr",
     "output_type": "stream",
     "text": [
      "Query complete after 0.02s: 100%|█████████████| 1/1 [00:00<00:00, 499.44query/s]\n",
      "Downloading: 100%|█████████████████| 500000/500000 [00:10<00:00, 46897.34rows/s]\n"
     ]
    }
   ],
   "source": [
    "%%bigquery train_df\n",
    "select\n",
    "    ctx.docInfo.queryInfo.query, \n",
    "    ctx.docInfo.queryInfo.queryTaxoDemandFeatures.*,\n",
    "from `etsy-ml-systems-prod.attributed_instance.query_pipeline_web_organic_2023_08_18`, unnest(contextualInfo) as ctx\n",
    "where ctx.docInfo.queryInfo.query is not null\n",
    "and array_length(ctx.docInfo.queryInfo.queryTaxoDemandFeatures.purchaseLevel2TaxonomyPaths) > 0\n",
    "limit 500000"
   ]
  },
  {
   "cell_type": "code",
   "execution_count": 7,
   "id": "5f111f5b",
   "metadata": {},
   "outputs": [
    {
     "data": {
      "text/plain": [
       "10309"
      ]
     },
     "execution_count": 7,
     "metadata": {},
     "output_type": "execute_result"
    }
   ],
   "source": [
    "unique_queries = list(train_df[\"query\"].unique())\n",
    "len(unique_queries)"
   ]
  },
  {
   "cell_type": "code",
   "execution_count": 8,
   "id": "f2a9bb43",
   "metadata": {},
   "outputs": [
    {
     "data": {
      "text/plain": [
       "['friends poster',\n",
       " 'mailbox sign',\n",
       " 'briefkastenschild',\n",
       " 'louis vuitton box',\n",
       " 'earring and tikka set',\n",
       " 'wooden sign',\n",
       " 'holzschild',\n",
       " 'muscle suit',\n",
       " 'silver bead',\n",
       " 'channel orange']"
      ]
     },
     "execution_count": 8,
     "metadata": {},
     "output_type": "execute_result"
    }
   ],
   "source": [
    "unique_queries[:10]"
   ]
  },
  {
   "cell_type": "markdown",
   "id": "2120a7ce",
   "metadata": {},
   "source": [
    "Sanity check predicted probability sum to 1"
   ]
  },
  {
   "cell_type": "code",
   "execution_count": 9,
   "id": "b2e53471",
   "metadata": {},
   "outputs": [
    {
     "name": "stdout",
     "output_type": "stream",
     "text": [
      "0\n",
      "1000\n",
      "2000\n",
      "3000\n",
      "4000\n",
      "5000\n",
      "6000\n",
      "sewing\n",
      "0.9882387125053356\n",
      "7000\n",
      "8000\n",
      "9000\n",
      "10000\n"
     ]
    }
   ],
   "source": [
    "for i in range(len(unique_queries)):\n",
    "    if i % 1000 == 0:\n",
    "        print(i)\n",
    "    curr_query = unique_queries[i]\n",
    "    response = requests.get(AZ_URL.format(curr_query))\n",
    "    if response.ok:\n",
    "        payload = response.json()\n",
    "        if \"value\" in payload:\n",
    "            az_data = json.loads(payload[\"value\"])\n",
    "            \n",
    "            curr_sum = 0.\n",
    "            for item in az_data:\n",
    "                curr_sum += item[\"predicted_probability\"]\n",
    "                \n",
    "            if np.abs(curr_sum - 1.) >= 0.011:\n",
    "                # seeing max sum 0.9899\n",
    "                print(curr_query)\n",
    "                print(curr_sum)"
   ]
  },
  {
   "cell_type": "code",
   "execution_count": 17,
   "id": "2001db7a",
   "metadata": {},
   "outputs": [
    {
     "name": "stdout",
     "output_type": "stream",
     "text": [
      "0\n",
      "1000\n",
      "2000\n",
      "3000\n",
      "4000\n",
      "5000\n",
      "6000\n",
      "7000\n",
      "8000\n",
      "9000\n",
      "10000\n"
     ]
    }
   ],
   "source": [
    "query_taxo_data = {}\n",
    "\n",
    "for i in range(len(unique_queries)):\n",
    "    if i % 1000 == 0:\n",
    "        print(i)\n",
    "    curr_query = unique_queries[i]\n",
    "    response = requests.get(AZ_URL.format(curr_query))\n",
    "    if response.ok:\n",
    "        payload = response.json()\n",
    "        if \"value\" in payload:\n",
    "            az_data = json.loads(payload[\"value\"])\n",
    "            \n",
    "            ## process train features\n",
    "            feature_df = train_df[train_df[\"query\"] == curr_query][[\"purchaseLevel2TaxonomyPaths\", \"purchaseLevel2TaxonomyCounts\"]]\n",
    "            feature_df.reset_index(inplace=True)\n",
    "            feature_path = list(feature_df[\"purchaseLevel2TaxonomyPaths\"][0])\n",
    "            feature_counts = list(feature_df[\"purchaseLevel2TaxonomyCounts\"][0])\n",
    "            s_counts = np.float32(np.sum(feature_counts))\n",
    "            feature_score = [x / s_counts for x in feature_counts] \n",
    "            \n",
    "            ## process AZ dataset\n",
    "            agg_az_path_score = {}\n",
    "            for item in az_data:\n",
    "                az_path_formatted = format_taxonomy_to_second_level(item[\"taxonomy\"])\n",
    "                if az_path_formatted in agg_az_path_score:\n",
    "                    agg_az_path_score[az_path_formatted] += item[\"predicted_probability\"]\n",
    "                else:\n",
    "                    agg_az_path_score[az_path_formatted] = item[\"predicted_probability\"]\n",
    "             \n",
    "            agg_az_path_score_list = [(v, k) for k, v in agg_az_path_score.items()]\n",
    "            agg_az_path_score_list = sorted(agg_az_path_score_list, reverse=True)\n",
    "            az_path = [x[1] for x in agg_az_path_score_list]\n",
    "            az_score = [x[0] for x in agg_az_path_score_list]\n",
    "            \n",
    "            query_taxo_data[curr_query] = {\n",
    "                \"feature_path\": feature_path,\n",
    "                \"feature_score\": feature_score,\n",
    "                \"az_path\": az_path,\n",
    "                \"az_score\": az_score\n",
    "            }\n",
    "            \n",
    "#             if i % 500 == 0:\n",
    "#                 print(query_taxo_data[curr_query])"
   ]
  },
  {
   "cell_type": "code",
   "execution_count": 19,
   "id": "fabb4d59",
   "metadata": {},
   "outputs": [
    {
     "data": {
      "text/plain": [
       "5506"
      ]
     },
     "execution_count": 19,
     "metadata": {},
     "output_type": "execute_result"
    }
   ],
   "source": [
    "len(query_taxo_data)"
   ]
  },
  {
   "cell_type": "markdown",
   "id": "c35f3093",
   "metadata": {},
   "source": [
    "5506 / 10309 = 53% hit rate"
   ]
  },
  {
   "cell_type": "code",
   "execution_count": 21,
   "id": "e8ccb4fe",
   "metadata": {},
   "outputs": [
    {
     "name": "stdout",
     "output_type": "stream",
     "text": [
      "462\n",
      "5044\n"
     ]
    }
   ],
   "source": [
    "more_feature_taxo = 0\n",
    "more_az_taxo = 0\n",
    "\n",
    "for query_str, values in query_taxo_data.items():\n",
    "    if len(values[\"feature_path\"]) >= len(values[\"az_path\"]):\n",
    "        more_feature_taxo += 1\n",
    "    else:\n",
    "        more_az_taxo += 1\n",
    "        \n",
    "print(more_feature_taxo)\n",
    "print(more_az_taxo)"
   ]
  },
  {
   "cell_type": "code",
   "execution_count": 36,
   "id": "637ea69a",
   "metadata": {},
   "outputs": [
    {
     "name": "stderr",
     "output_type": "stream",
     "text": [
      "/Users/yzhang/development/yzhang-adhoc-analysis/venv/lib/python3.8/site-packages/numpy/lib/function_base.py:2829: RuntimeWarning: invalid value encountered in true_divide\n",
      "  c /= stddev[:, None]\n",
      "/Users/yzhang/development/yzhang-adhoc-analysis/venv/lib/python3.8/site-packages/numpy/lib/function_base.py:2830: RuntimeWarning: invalid value encountered in true_divide\n",
      "  c /= stddev[None, :]\n",
      "/Users/yzhang/development/yzhang-adhoc-analysis/venv/lib/python3.8/site-packages/numpy/lib/function_base.py:2821: RuntimeWarning: Degrees of freedom <= 0 for slice\n",
      "  c = cov(x, y, rowvar, dtype=dtype)\n",
      "/Users/yzhang/development/yzhang-adhoc-analysis/venv/lib/python3.8/site-packages/numpy/lib/function_base.py:2680: RuntimeWarning: divide by zero encountered in true_divide\n",
      "  c *= np.true_divide(1, fact)\n",
      "/Users/yzhang/development/yzhang-adhoc-analysis/venv/lib/python3.8/site-packages/numpy/lib/function_base.py:2680: RuntimeWarning: invalid value encountered in multiply\n",
      "  c *= np.true_divide(1, fact)\n",
      "/Users/yzhang/development/yzhang-adhoc-analysis/venv/lib/python3.8/site-packages/numpy/lib/function_base.py:495: RuntimeWarning: Mean of empty slice.\n",
      "  avg = a.mean(axis)\n",
      "/Users/yzhang/development/yzhang-adhoc-analysis/venv/lib/python3.8/site-packages/numpy/core/_methods.py:181: RuntimeWarning: invalid value encountered in true_divide\n",
      "  ret = um.true_divide(\n"
     ]
    }
   ],
   "source": [
    "iou_seq = []\n",
    "corr_seq = []\n",
    "\n",
    "for query_str, values in query_taxo_data.items():\n",
    "    curr_feature_path = values[\"feature_path\"]\n",
    "    curr_az_path = values[\"az_path\"]\n",
    "    curr_feature_score = values[\"feature_score\"]\n",
    "    curr_az_score = values[\"az_score\"]\n",
    "\n",
    "    f_path_set = set(curr_feature_path)\n",
    "    az_path_set = set(curr_az_path)\n",
    "\n",
    "    path_intersection = f_path_set.intersection(az_path_set)\n",
    "    path_union = f_path_set.union(az_path_set)\n",
    "    iou = len(path_intersection) / len(path_union)\n",
    "\n",
    "    f_score_ranked = []\n",
    "    az_score_ranked = []\n",
    "    for p in path_intersection:\n",
    "        if p in f_path_set:\n",
    "            f_score_ranked.append(curr_feature_score[curr_feature_path.index(p)])\n",
    "        else:\n",
    "            f_score_ranked.append(0.)\n",
    "\n",
    "        if p in az_path_set:\n",
    "            az_score_ranked.append(curr_az_score[curr_az_path.index(p)])\n",
    "        else:\n",
    "            az_score_ranked.append(0.)\n",
    "\n",
    "    curr_corr = np.corrcoef(f_score_ranked, az_score_ranked)[0, 1]\n",
    "    \n",
    "    iou_seq.append(iou)\n",
    "    corr_seq.append(curr_corr)"
   ]
  },
  {
   "cell_type": "code",
   "execution_count": 37,
   "id": "16a6b941",
   "metadata": {},
   "outputs": [
    {
     "data": {
      "image/png": "[encoded data removed]",
      "text/plain": [
       "<Figure size 640x480 with 1 Axes>"
      ]
     },
     "metadata": {},
     "output_type": "display_data"
    }
   ],
   "source": [
    "plt.hist(iou_seq)\n",
    "plt.show()"
   ]
  },
  {
   "cell_type": "code",
   "execution_count": 38,
   "id": "88c51783",
   "metadata": {},
   "outputs": [
    {
     "data": {
      "image/png": "[encoded data removed]",
      "text/plain": [
       "<Figure size 640x480 with 1 Axes>"
      ]
     },
     "metadata": {},
     "output_type": "display_data"
    }
   ],
   "source": [
    "plt.hist(corr_seq)\n",
    "plt.show()"
   ]
  },
  {
   "cell_type": "code",
   "execution_count": null,
   "id": "c747f48f",
   "metadata": {},
   "outputs": [],
   "source": []
  }
 ],
 "metadata": {
  "kernelspec": {
   "display_name": "venv",
   "language": "python",
   "name": "venv"
  },
  "language_info": {
   "codemirror_mode": {
    "name": "ipython",
    "version": 3
   },
   "file_extension": ".py",
   "mimetype": "text/x-python",
   "name": "python",
   "nbconvert_exporter": "python",
   "pygments_lexer": "ipython3",
   "version": "3.8.9"
  }
 },
 "nbformat": 4,
 "nbformat_minor": 5
}
