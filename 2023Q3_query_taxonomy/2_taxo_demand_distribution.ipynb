{
 "cells": [
  {
   "cell_type": "code",
   "execution_count": 1,
   "id": "97c2eb12",
   "metadata": {},
   "outputs": [
    {
     "name": "stdout",
     "output_type": "stream",
     "text": [
      "WARNING:  Python 3.5-3.7 will be deprecated on August 8th, 2023. Please use Python version 3.8 and up.\n",
      "\n",
      "If you have a compatible Python interpreter installed, you can use it by setting\n",
      "the CLOUDSDK_PYTHON environment variable to point to it.\n",
      "\n",
      "Updated property [core/project].\n"
     ]
    }
   ],
   "source": [
    "!gcloud config set project etsy-bigquery-adhoc-prod"
   ]
  },
  {
   "cell_type": "code",
   "execution_count": 2,
   "id": "eb54f7b2",
   "metadata": {},
   "outputs": [],
   "source": [
    "%load_ext google.cloud.bigquery"
   ]
  },
  {
   "cell_type": "code",
   "execution_count": 120,
   "id": "604cf6c7",
   "metadata": {},
   "outputs": [],
   "source": [
    "import sys\n",
    "import pickle\n",
    "import tensorflow as tf\n",
    "import numpy as np\n",
    "import matplotlib.pyplot as plt\n",
    "import seaborn as sns\n",
    "from collections import Counter\n",
    "from tqdm import tqdm\n",
    "from scipy.stats import pearsonr, ttest_1samp, ttest_ind, boxcox"
   ]
  },
  {
   "cell_type": "markdown",
   "id": "3df65bcb",
   "metadata": {},
   "source": [
    "# Taxonomy by GMS"
   ]
  },
  {
   "cell_type": "code",
   "execution_count": 4,
   "id": "50c81c7f",
   "metadata": {},
   "outputs": [
    {
     "name": "stderr",
     "output_type": "stream",
     "text": [
      "Query complete after 0.02s: 100%|██████████| 13/13 [00:00<00:00, 4093.23query/s]\n",
      "Downloading: 100%|████████████████████████████| 15/15 [00:02<00:00,  6.60rows/s]\n"
     ]
    },
    {
     "data": {
      "text/html": [
       "<div>\n",
       "<style scoped>\n",
       "    .dataframe tbody tr th:only-of-type {\n",
       "        vertical-align: middle;\n",
       "    }\n",
       "\n",
       "    .dataframe tbody tr th {\n",
       "        vertical-align: top;\n",
       "    }\n",
       "\n",
       "    .dataframe thead th {\n",
       "        text-align: right;\n",
       "    }\n",
       "</style>\n",
       "<table border=\"1\" class=\"dataframe\">\n",
       "  <thead>\n",
       "    <tr style=\"text-align: right;\">\n",
       "      <th></th>\n",
       "      <th>top_taxonomy</th>\n",
       "      <th>total_past_year_gms_millions</th>\n",
       "    </tr>\n",
       "  </thead>\n",
       "  <tbody>\n",
       "    <tr>\n",
       "      <th>0</th>\n",
       "      <td>home_and_living</td>\n",
       "      <td>2566.302077000</td>\n",
       "    </tr>\n",
       "    <tr>\n",
       "      <th>1</th>\n",
       "      <td>jewelry</td>\n",
       "      <td>1172.396129160</td>\n",
       "    </tr>\n",
       "    <tr>\n",
       "      <th>2</th>\n",
       "      <td>clothing</td>\n",
       "      <td>926.281021080</td>\n",
       "    </tr>\n",
       "    <tr>\n",
       "      <th>3</th>\n",
       "      <td>craft_supplies_and_tools</td>\n",
       "      <td>745.821054390</td>\n",
       "    </tr>\n",
       "    <tr>\n",
       "      <th>4</th>\n",
       "      <td>art_and_collectibles</td>\n",
       "      <td>543.660009860</td>\n",
       "    </tr>\n",
       "    <tr>\n",
       "      <th>5</th>\n",
       "      <td>paper_and_party_supplies</td>\n",
       "      <td>519.185670130</td>\n",
       "    </tr>\n",
       "    <tr>\n",
       "      <th>6</th>\n",
       "      <td>weddings</td>\n",
       "      <td>502.681163060</td>\n",
       "    </tr>\n",
       "    <tr>\n",
       "      <th>7</th>\n",
       "      <td>accessories</td>\n",
       "      <td>427.321447240</td>\n",
       "    </tr>\n",
       "    <tr>\n",
       "      <th>8</th>\n",
       "      <td>toys_and_games</td>\n",
       "      <td>301.717870530</td>\n",
       "    </tr>\n",
       "    <tr>\n",
       "      <th>9</th>\n",
       "      <td>bags_and_purses</td>\n",
       "      <td>192.104032910</td>\n",
       "    </tr>\n",
       "    <tr>\n",
       "      <th>10</th>\n",
       "      <td>bath_and_beauty</td>\n",
       "      <td>180.939594490</td>\n",
       "    </tr>\n",
       "    <tr>\n",
       "      <th>11</th>\n",
       "      <td>electronics_and_accessories</td>\n",
       "      <td>172.414059090</td>\n",
       "    </tr>\n",
       "    <tr>\n",
       "      <th>12</th>\n",
       "      <td>pet_supplies</td>\n",
       "      <td>141.649961040</td>\n",
       "    </tr>\n",
       "    <tr>\n",
       "      <th>13</th>\n",
       "      <td>books_movies_and_music</td>\n",
       "      <td>104.311042190</td>\n",
       "    </tr>\n",
       "    <tr>\n",
       "      <th>14</th>\n",
       "      <td>shoes</td>\n",
       "      <td>51.006033170</td>\n",
       "    </tr>\n",
       "  </tbody>\n",
       "</table>\n",
       "</div>"
      ],
      "text/plain": [
       "                   top_taxonomy total_past_year_gms_millions\n",
       "0               home_and_living               2566.302077000\n",
       "1                       jewelry               1172.396129160\n",
       "2                      clothing                926.281021080\n",
       "3      craft_supplies_and_tools                745.821054390\n",
       "4          art_and_collectibles                543.660009860\n",
       "5      paper_and_party_supplies                519.185670130\n",
       "6                      weddings                502.681163060\n",
       "7                   accessories                427.321447240\n",
       "8                toys_and_games                301.717870530\n",
       "9               bags_and_purses                192.104032910\n",
       "10              bath_and_beauty                180.939594490\n",
       "11  electronics_and_accessories                172.414059090\n",
       "12                 pet_supplies                141.649961040\n",
       "13       books_movies_and_music                104.311042190\n",
       "14                        shoes                 51.006033170"
      ]
     },
     "execution_count": 4,
     "metadata": {},
     "output_type": "execute_result"
    }
   ],
   "source": [
    "%%bigquery\n",
    "with listing_taxo_gms as (\n",
    "  SELECT \n",
    "    g.listing_id, \n",
    "    total_gms, past_year_gms,\n",
    "    full_path,\n",
    "    SPLIT(full_path, '.')[OFFSET(0)] as top_taxonomy,\n",
    "  FROM `etsy-data-warehouse-prod.listing_mart.listing_gms_active` g\n",
    "  JOIN `etsy-data-warehouse-prod.materialized.listing_taxonomy` taxo\n",
    "  ON g.listing_id = taxo.listing_id\n",
    ")\n",
    "select top_taxonomy, sum(past_year_gms) / 1000000 as total_past_year_gms_millions\n",
    "from listing_taxo_gms\n",
    "group by top_taxonomy\n",
    "order by total_past_year_gms_millions desc"
   ]
  },
  {
   "cell_type": "code",
   "execution_count": 5,
   "id": "f68181b7",
   "metadata": {},
   "outputs": [
    {
     "name": "stderr",
     "output_type": "stream",
     "text": [
      "Query complete after 0.00s: 100%|██████████| 13/13 [00:00<00:00, 8837.27query/s]\n",
      "Downloading: 100%|██████████████████████████| 181/181 [00:02<00:00, 86.03rows/s]\n"
     ]
    }
   ],
   "source": [
    "%%bigquery df \n",
    "with listing_taxo_gms as (\n",
    "  SELECT \n",
    "    g.listing_id, \n",
    "    total_gms, past_year_gms,\n",
    "    full_path,\n",
    "    SPLIT(full_path, '.')[OFFSET(0)] as top_taxonomy,\n",
    "    CASE\n",
    "      WHEN array_length(SPLIT(full_path, '.')) > 1 THEN SPLIT(full_path, '.')[OFFSET(1)]\n",
    "      else \"\"\n",
    "    END AS second_taxonomy,\n",
    "  FROM `etsy-data-warehouse-prod.listing_mart.listing_gms_active` g\n",
    "  JOIN `etsy-data-warehouse-prod.materialized.listing_taxonomy` taxo\n",
    "  ON g.listing_id = taxo.listing_id\n",
    "),\n",
    "listing_taxo_gms_cleaned as (\n",
    "  select \n",
    "    listing_id, \n",
    "    total_gms, past_year_gms,\n",
    "    case \n",
    "      when second_taxonomy != \"\" then CONCAT(top_taxonomy, '.', second_taxonomy)\n",
    "      else top_taxonomy\n",
    "    end as level2_taxonomy\n",
    "  from listing_taxo_gms\n",
    ")\n",
    "select level2_taxonomy, sum(past_year_gms) / 1000000 as total_past_year_gms_millions\n",
    "from listing_taxo_gms_cleaned\n",
    "group by level2_taxonomy\n",
    "order by total_past_year_gms_millions desc"
   ]
  },
  {
   "cell_type": "code",
   "execution_count": 7,
   "id": "534ea4bd",
   "metadata": {},
   "outputs": [
    {
     "data": {
      "text/html": [
       "<div>\n",
       "<style scoped>\n",
       "    .dataframe tbody tr th:only-of-type {\n",
       "        vertical-align: middle;\n",
       "    }\n",
       "\n",
       "    .dataframe tbody tr th {\n",
       "        vertical-align: top;\n",
       "    }\n",
       "\n",
       "    .dataframe thead th {\n",
       "        text-align: right;\n",
       "    }\n",
       "</style>\n",
       "<table border=\"1\" class=\"dataframe\">\n",
       "  <thead>\n",
       "    <tr style=\"text-align: right;\">\n",
       "      <th></th>\n",
       "      <th>level2_taxonomy</th>\n",
       "      <th>total_past_year_gms_millions</th>\n",
       "    </tr>\n",
       "  </thead>\n",
       "  <tbody>\n",
       "    <tr>\n",
       "      <th>0</th>\n",
       "      <td>home_and_living.home_decor</td>\n",
       "      <td>1013.785326200</td>\n",
       "    </tr>\n",
       "    <tr>\n",
       "      <th>1</th>\n",
       "      <td>clothing.gender_neutral_adult_clothing</td>\n",
       "      <td>465.623877230</td>\n",
       "    </tr>\n",
       "    <tr>\n",
       "      <th>2</th>\n",
       "      <td>home_and_living.kitchen_and_dining</td>\n",
       "      <td>387.658382380</td>\n",
       "    </tr>\n",
       "    <tr>\n",
       "      <th>3</th>\n",
       "      <td>jewelry.necklaces</td>\n",
       "      <td>364.505138170</td>\n",
       "    </tr>\n",
       "    <tr>\n",
       "      <th>4</th>\n",
       "      <td>paper_and_party_supplies.paper</td>\n",
       "      <td>308.390513390</td>\n",
       "    </tr>\n",
       "    <tr>\n",
       "      <th>5</th>\n",
       "      <td>jewelry.rings</td>\n",
       "      <td>304.937583070</td>\n",
       "    </tr>\n",
       "    <tr>\n",
       "      <th>6</th>\n",
       "      <td>weddings.gifts_and_mementos</td>\n",
       "      <td>253.439064220</td>\n",
       "    </tr>\n",
       "    <tr>\n",
       "      <th>7</th>\n",
       "      <td>clothing.womens_clothing</td>\n",
       "      <td>241.863066690</td>\n",
       "    </tr>\n",
       "    <tr>\n",
       "      <th>8</th>\n",
       "      <td>art_and_collectibles.prints</td>\n",
       "      <td>230.395509590</td>\n",
       "    </tr>\n",
       "    <tr>\n",
       "      <th>9</th>\n",
       "      <td>home_and_living.furniture</td>\n",
       "      <td>214.595747950</td>\n",
       "    </tr>\n",
       "    <tr>\n",
       "      <th>10</th>\n",
       "      <td>jewelry.earrings</td>\n",
       "      <td>210.654532480</td>\n",
       "    </tr>\n",
       "    <tr>\n",
       "      <th>11</th>\n",
       "      <td>paper_and_party_supplies.party_supplies</td>\n",
       "      <td>205.025237640</td>\n",
       "    </tr>\n",
       "    <tr>\n",
       "      <th>12</th>\n",
       "      <td>home_and_living.outdoor_and_garden</td>\n",
       "      <td>193.643105850</td>\n",
       "    </tr>\n",
       "    <tr>\n",
       "      <th>13</th>\n",
       "      <td>toys_and_games.toys</td>\n",
       "      <td>163.821668730</td>\n",
       "    </tr>\n",
       "    <tr>\n",
       "      <th>14</th>\n",
       "      <td>jewelry.bracelets</td>\n",
       "      <td>150.151225340</td>\n",
       "    </tr>\n",
       "    <tr>\n",
       "      <th>15</th>\n",
       "      <td>craft_supplies_and_tools.patterns_and_how_to</td>\n",
       "      <td>135.623189390</td>\n",
       "    </tr>\n",
       "    <tr>\n",
       "      <th>16</th>\n",
       "      <td>home_and_living.spirituality_and_religion</td>\n",
       "      <td>133.121983310</td>\n",
       "    </tr>\n",
       "    <tr>\n",
       "      <th>17</th>\n",
       "      <td>craft_supplies_and_tools.fabric_and_notions</td>\n",
       "      <td>114.458865850</td>\n",
       "    </tr>\n",
       "    <tr>\n",
       "      <th>18</th>\n",
       "      <td>home_and_living.storage_and_organization</td>\n",
       "      <td>110.310145520</td>\n",
       "    </tr>\n",
       "    <tr>\n",
       "      <th>19</th>\n",
       "      <td>craft_supplies_and_tools.beads_gems_and_cabochons</td>\n",
       "      <td>103.752941260</td>\n",
       "    </tr>\n",
       "  </tbody>\n",
       "</table>\n",
       "</div>"
      ],
      "text/plain": [
       "                                      level2_taxonomy  \\\n",
       "0                          home_and_living.home_decor   \n",
       "1              clothing.gender_neutral_adult_clothing   \n",
       "2                  home_and_living.kitchen_and_dining   \n",
       "3                                   jewelry.necklaces   \n",
       "4                      paper_and_party_supplies.paper   \n",
       "5                                       jewelry.rings   \n",
       "6                         weddings.gifts_and_mementos   \n",
       "7                            clothing.womens_clothing   \n",
       "8                         art_and_collectibles.prints   \n",
       "9                           home_and_living.furniture   \n",
       "10                                   jewelry.earrings   \n",
       "11            paper_and_party_supplies.party_supplies   \n",
       "12                 home_and_living.outdoor_and_garden   \n",
       "13                                toys_and_games.toys   \n",
       "14                                  jewelry.bracelets   \n",
       "15       craft_supplies_and_tools.patterns_and_how_to   \n",
       "16          home_and_living.spirituality_and_religion   \n",
       "17        craft_supplies_and_tools.fabric_and_notions   \n",
       "18           home_and_living.storage_and_organization   \n",
       "19  craft_supplies_and_tools.beads_gems_and_cabochons   \n",
       "\n",
       "   total_past_year_gms_millions  \n",
       "0                1013.785326200  \n",
       "1                 465.623877230  \n",
       "2                 387.658382380  \n",
       "3                 364.505138170  \n",
       "4                 308.390513390  \n",
       "5                 304.937583070  \n",
       "6                 253.439064220  \n",
       "7                 241.863066690  \n",
       "8                 230.395509590  \n",
       "9                 214.595747950  \n",
       "10                210.654532480  \n",
       "11                205.025237640  \n",
       "12                193.643105850  \n",
       "13                163.821668730  \n",
       "14                150.151225340  \n",
       "15                135.623189390  \n",
       "16                133.121983310  \n",
       "17                114.458865850  \n",
       "18                110.310145520  \n",
       "19                103.752941260  "
      ]
     },
     "execution_count": 7,
     "metadata": {},
     "output_type": "execute_result"
    }
   ],
   "source": [
    "df.head(n=20)"
   ]
  },
  {
   "cell_type": "code",
   "execution_count": 8,
   "id": "df72a3e2",
   "metadata": {},
   "outputs": [
    {
     "data": {
      "text/html": [
       "<div>\n",
       "<style scoped>\n",
       "    .dataframe tbody tr th:only-of-type {\n",
       "        vertical-align: middle;\n",
       "    }\n",
       "\n",
       "    .dataframe tbody tr th {\n",
       "        vertical-align: top;\n",
       "    }\n",
       "\n",
       "    .dataframe thead th {\n",
       "        text-align: right;\n",
       "    }\n",
       "</style>\n",
       "<table border=\"1\" class=\"dataframe\">\n",
       "  <thead>\n",
       "    <tr style=\"text-align: right;\">\n",
       "      <th></th>\n",
       "      <th>level2_taxonomy</th>\n",
       "      <th>total_past_year_gms_millions</th>\n",
       "    </tr>\n",
       "  </thead>\n",
       "  <tbody>\n",
       "    <tr>\n",
       "      <th>161</th>\n",
       "      <td>accessories.hand_fans</td>\n",
       "      <td>1.171161120</td>\n",
       "    </tr>\n",
       "    <tr>\n",
       "      <th>162</th>\n",
       "      <td>craft_supplies_and_tools.glue_and_adhesives</td>\n",
       "      <td>1.143414970</td>\n",
       "    </tr>\n",
       "    <tr>\n",
       "      <th>163</th>\n",
       "      <td>electronics_and_accessories.maker_supplies</td>\n",
       "      <td>1.141695950</td>\n",
       "    </tr>\n",
       "    <tr>\n",
       "      <th>164</th>\n",
       "      <td>bath_and_beauty.bath_accessories</td>\n",
       "      <td>0.894245780</td>\n",
       "    </tr>\n",
       "    <tr>\n",
       "      <th>165</th>\n",
       "      <td>craft_supplies_and_tools.brushes</td>\n",
       "      <td>0.699940020</td>\n",
       "    </tr>\n",
       "    <tr>\n",
       "      <th>166</th>\n",
       "      <td>pet_supplies.training</td>\n",
       "      <td>0.659369450</td>\n",
       "    </tr>\n",
       "    <tr>\n",
       "      <th>167</th>\n",
       "      <td>electronics_and_accessories.batteries_and_char...</td>\n",
       "      <td>0.651535310</td>\n",
       "    </tr>\n",
       "    <tr>\n",
       "      <th>168</th>\n",
       "      <td>craft_supplies_and_tools.imaging_and_lighting</td>\n",
       "      <td>0.610036460</td>\n",
       "    </tr>\n",
       "    <tr>\n",
       "      <th>169</th>\n",
       "      <td>electronics_and_accessories.tv_and_projection</td>\n",
       "      <td>0.589651330</td>\n",
       "    </tr>\n",
       "    <tr>\n",
       "      <th>170</th>\n",
       "      <td>accessories.umbrellas_and_rain_accessories</td>\n",
       "      <td>0.524890210</td>\n",
       "    </tr>\n",
       "    <tr>\n",
       "      <th>171</th>\n",
       "      <td>craft_supplies_and_tools.safety_and_cleaning_s...</td>\n",
       "      <td>0.510057350</td>\n",
       "    </tr>\n",
       "    <tr>\n",
       "      <th>172</th>\n",
       "      <td>pet_supplies.beekeeping</td>\n",
       "      <td>0.474344520</td>\n",
       "    </tr>\n",
       "    <tr>\n",
       "      <th>173</th>\n",
       "      <td>electronics_and_accessories.telephones_and_han...</td>\n",
       "      <td>0.408222870</td>\n",
       "    </tr>\n",
       "    <tr>\n",
       "      <th>174</th>\n",
       "      <td>shoes.boys_shoes</td>\n",
       "      <td>0.391595290</td>\n",
       "    </tr>\n",
       "    <tr>\n",
       "      <th>175</th>\n",
       "      <td>shoes</td>\n",
       "      <td>0.352935720</td>\n",
       "    </tr>\n",
       "    <tr>\n",
       "      <th>176</th>\n",
       "      <td>books_movies_and_music</td>\n",
       "      <td>0.344684070</td>\n",
       "    </tr>\n",
       "    <tr>\n",
       "      <th>177</th>\n",
       "      <td>bags_and_purses.clothing_and_shoe_bags</td>\n",
       "      <td>0.332066020</td>\n",
       "    </tr>\n",
       "    <tr>\n",
       "      <th>178</th>\n",
       "      <td>electronics_and_accessories.parts_and_electrical</td>\n",
       "      <td>0.244992670</td>\n",
       "    </tr>\n",
       "    <tr>\n",
       "      <th>179</th>\n",
       "      <td>books_movies_and_music.video_cases_and_tins</td>\n",
       "      <td>0.034135190</td>\n",
       "    </tr>\n",
       "    <tr>\n",
       "      <th>180</th>\n",
       "      <td>accessories.latkans</td>\n",
       "      <td>0.011836490</td>\n",
       "    </tr>\n",
       "  </tbody>\n",
       "</table>\n",
       "</div>"
      ],
      "text/plain": [
       "                                       level2_taxonomy  \\\n",
       "161                              accessories.hand_fans   \n",
       "162        craft_supplies_and_tools.glue_and_adhesives   \n",
       "163         electronics_and_accessories.maker_supplies   \n",
       "164                   bath_and_beauty.bath_accessories   \n",
       "165                   craft_supplies_and_tools.brushes   \n",
       "166                              pet_supplies.training   \n",
       "167  electronics_and_accessories.batteries_and_char...   \n",
       "168      craft_supplies_and_tools.imaging_and_lighting   \n",
       "169      electronics_and_accessories.tv_and_projection   \n",
       "170         accessories.umbrellas_and_rain_accessories   \n",
       "171  craft_supplies_and_tools.safety_and_cleaning_s...   \n",
       "172                            pet_supplies.beekeeping   \n",
       "173  electronics_and_accessories.telephones_and_han...   \n",
       "174                                   shoes.boys_shoes   \n",
       "175                                              shoes   \n",
       "176                             books_movies_and_music   \n",
       "177             bags_and_purses.clothing_and_shoe_bags   \n",
       "178   electronics_and_accessories.parts_and_electrical   \n",
       "179        books_movies_and_music.video_cases_and_tins   \n",
       "180                                accessories.latkans   \n",
       "\n",
       "    total_past_year_gms_millions  \n",
       "161                  1.171161120  \n",
       "162                  1.143414970  \n",
       "163                  1.141695950  \n",
       "164                  0.894245780  \n",
       "165                  0.699940020  \n",
       "166                  0.659369450  \n",
       "167                  0.651535310  \n",
       "168                  0.610036460  \n",
       "169                  0.589651330  \n",
       "170                  0.524890210  \n",
       "171                  0.510057350  \n",
       "172                  0.474344520  \n",
       "173                  0.408222870  \n",
       "174                  0.391595290  \n",
       "175                  0.352935720  \n",
       "176                  0.344684070  \n",
       "177                  0.332066020  \n",
       "178                  0.244992670  \n",
       "179                  0.034135190  \n",
       "180                  0.011836490  "
      ]
     },
     "execution_count": 8,
     "metadata": {},
     "output_type": "execute_result"
    }
   ],
   "source": [
    "df.tail(n=20)"
   ]
  },
  {
   "cell_type": "markdown",
   "id": "87a5a758",
   "metadata": {},
   "source": [
    "# Taxonomy consistency vs conversion rate"
   ]
  },
  {
   "cell_type": "code",
   "execution_count": 5,
   "id": "27127dd3",
   "metadata": {},
   "outputs": [
    {
     "name": "stderr",
     "output_type": "stream",
     "text": [
      "Query complete after 0.00s: 100%|████████████| 1/1 [00:00<00:00, 1108.43query/s]\n",
      "Downloading: 100%|██████████████| 3648778/3648778 [00:04<00:00, 775126.37rows/s]\n"
     ]
    }
   ],
   "source": [
    "%%bigquery qdf\n",
    "with query_data as (\n",
    "    select distinct query, sum(impressions) as impressions, sum(clicks) as clicks, sum(purchases) as purchases\n",
    "    from `etsy-data-warehouse-prod.search.visit_level_listing_impressions` \n",
    "    where _date = date(\"2023-07-18\") \n",
    "    and page = \"search\"\n",
    "    and query is not null\n",
    "    group by query\n",
    ")\n",
    "select \n",
    "    qd.*\n",
    "    , qd.clicks / (qd.impressions + 0.0001) as click_rate\n",
    "    , qd.purchases / (qd.clicks + 0.0001) as post_click_cvr\n",
    "from query_data qd"
   ]
  },
  {
   "cell_type": "code",
   "execution_count": 6,
   "id": "4e201eeb",
   "metadata": {},
   "outputs": [
    {
     "name": "stdout",
     "output_type": "stream",
     "text": [
      "(3647874, 6)\n",
      "3647874\n"
     ]
    }
   ],
   "source": [
    "qdf = qdf[np.logical_and(qdf.click_rate <= 1.0, qdf.post_click_cvr <= 1.0)]\n",
    "print(qdf.shape)\n",
    "print(len(qdf[\"query\"].unique()))"
   ]
  },
  {
   "cell_type": "code",
   "execution_count": 7,
   "id": "e9075ca7",
   "metadata": {},
   "outputs": [
    {
     "data": {
      "text/html": [
       "<div>\n",
       "<style scoped>\n",
       "    .dataframe tbody tr th:only-of-type {\n",
       "        vertical-align: middle;\n",
       "    }\n",
       "\n",
       "    .dataframe tbody tr th {\n",
       "        vertical-align: top;\n",
       "    }\n",
       "\n",
       "    .dataframe thead th {\n",
       "        text-align: right;\n",
       "    }\n",
       "</style>\n",
       "<table border=\"1\" class=\"dataframe\">\n",
       "  <thead>\n",
       "    <tr style=\"text-align: right;\">\n",
       "      <th></th>\n",
       "      <th>query</th>\n",
       "      <th>impressions</th>\n",
       "      <th>clicks</th>\n",
       "      <th>purchases</th>\n",
       "      <th>click_rate</th>\n",
       "      <th>post_click_cvr</th>\n",
       "    </tr>\n",
       "  </thead>\n",
       "  <tbody>\n",
       "    <tr>\n",
       "      <th>0</th>\n",
       "      <td>alert</td>\n",
       "      <td>468</td>\n",
       "      <td>2</td>\n",
       "      <td>0</td>\n",
       "      <td>0.004274</td>\n",
       "      <td>0.0000</td>\n",
       "    </tr>\n",
       "    <tr>\n",
       "      <th>1</th>\n",
       "      <td>compost</td>\n",
       "      <td>564</td>\n",
       "      <td>5</td>\n",
       "      <td>0</td>\n",
       "      <td>0.008865</td>\n",
       "      <td>0.0000</td>\n",
       "    </tr>\n",
       "    <tr>\n",
       "      <th>2</th>\n",
       "      <td>tshirt svg woman</td>\n",
       "      <td>366</td>\n",
       "      <td>1</td>\n",
       "      <td>1</td>\n",
       "      <td>0.002732</td>\n",
       "      <td>0.9999</td>\n",
       "    </tr>\n",
       "    <tr>\n",
       "      <th>3</th>\n",
       "      <td>kenenergy</td>\n",
       "      <td>42</td>\n",
       "      <td>2</td>\n",
       "      <td>0</td>\n",
       "      <td>0.047619</td>\n",
       "      <td>0.0000</td>\n",
       "    </tr>\n",
       "    <tr>\n",
       "      <th>4</th>\n",
       "      <td>fart embroidery</td>\n",
       "      <td>42</td>\n",
       "      <td>5</td>\n",
       "      <td>0</td>\n",
       "      <td>0.119047</td>\n",
       "      <td>0.0000</td>\n",
       "    </tr>\n",
       "  </tbody>\n",
       "</table>\n",
       "</div>"
      ],
      "text/plain": [
       "              query  impressions  clicks  purchases  click_rate  \\\n",
       "0             alert          468       2          0    0.004274   \n",
       "1           compost          564       5          0    0.008865   \n",
       "2  tshirt svg woman          366       1          1    0.002732   \n",
       "3         kenenergy           42       2          0    0.047619   \n",
       "4   fart embroidery           42       5          0    0.119047   \n",
       "\n",
       "   post_click_cvr  \n",
       "0          0.0000  \n",
       "1          0.0000  \n",
       "2          0.9999  \n",
       "3          0.0000  \n",
       "4          0.0000  "
      ]
     },
     "execution_count": 7,
     "metadata": {},
     "output_type": "execute_result"
    }
   ],
   "source": [
    "qdf.head()"
   ]
  },
  {
   "cell_type": "code",
   "execution_count": 8,
   "id": "264a3f85",
   "metadata": {},
   "outputs": [
    {
     "name": "stderr",
     "output_type": "stream",
     "text": [
      "Query complete after 0.00s: 100%|████████████| 9/9 [00:00<00:00, 4673.61query/s]\n",
      "Downloading: 100%|███████████████| 5000000/5000000 [01:48<00:00, 46220.45rows/s]\n"
     ]
    }
   ],
   "source": [
    "%%bigquery fdf\n",
    "with train_data as (\n",
    "    select\n",
    "        ctx.docInfo.queryInfo.query, \n",
    "        ctx.docInfo.queryInfo.queryTaxoDemandFeatures.*, \n",
    "    from `etsy-ml-systems-prod.attributed_instance.query_pipeline_web_organic_2023_07_18`, \n",
    "        unnest(contextualInfo) as ctx\n",
    "    where userCountry = \"US\"\n",
    "),\n",
    "query_data as (\n",
    "    select distinct query, sum(impressions) as impressions, sum(clicks) as clicks, sum(purchases) as purchases\n",
    "    from `etsy-data-warehouse-prod.search.visit_level_listing_impressions` \n",
    "    where _date = date(\"2023-07-18\") \n",
    "    and page = \"search\"\n",
    "    and query is not null\n",
    "    group by query\n",
    ")\n",
    "select * from train_data\n",
    "where query in (\n",
    "  select query from query_data\n",
    ")\n",
    "limit 5000000"
   ]
  },
  {
   "cell_type": "markdown",
   "id": "d21add73",
   "metadata": {},
   "source": [
    "Find queries with high conversion rate "
   ]
  },
  {
   "cell_type": "code",
   "execution_count": 21,
   "id": "62c3623f",
   "metadata": {},
   "outputs": [
    {
     "data": {
      "text/plain": [
       "0.023255800432674167"
      ]
     },
     "execution_count": 21,
     "metadata": {},
     "output_type": "execute_result"
    }
   ],
   "source": [
    "np.quantile(qdf.click_rate, 0.8)"
   ]
  },
  {
   "cell_type": "code",
   "execution_count": 68,
   "id": "39b9c551",
   "metadata": {},
   "outputs": [],
   "source": [
    "qdf[\"high_click\"] = (qdf.click_rate >= np.quantile(qdf.click_rate, 0.8)).apply(lambda x: \"high_click\" if x else \"others\")\n",
    "qdf[\"high_cvr\"] = (qdf.post_click_cvr >= 0.02).apply(lambda x: \"high_cvr\" if x else \"others\")"
   ]
  },
  {
   "cell_type": "code",
   "execution_count": 69,
   "id": "6bb1f88c",
   "metadata": {},
   "outputs": [
    {
     "data": {
      "text/plain": [
       "high_cvr\n",
       "others      3539086\n",
       "high_cvr     108788\n",
       "Name: count, dtype: int64"
      ]
     },
     "execution_count": 69,
     "metadata": {},
     "output_type": "execute_result"
    }
   ],
   "source": [
    "qdf.high_cvr.value_counts()"
   ]
  },
  {
   "cell_type": "code",
   "execution_count": 70,
   "id": "af975d7c",
   "metadata": {},
   "outputs": [
    {
     "data": {
      "text/plain": [
       "high_click\n",
       "others        2918079\n",
       "high_click     729795\n",
       "Name: count, dtype: int64"
      ]
     },
     "execution_count": 70,
     "metadata": {},
     "output_type": "execute_result"
    }
   ],
   "source": [
    "qdf.high_click.value_counts()"
   ]
  },
  {
   "cell_type": "code",
   "execution_count": 71,
   "id": "f6984750",
   "metadata": {},
   "outputs": [
    {
     "data": {
      "text/html": [
       "<div>\n",
       "<style scoped>\n",
       "    .dataframe tbody tr th:only-of-type {\n",
       "        vertical-align: middle;\n",
       "    }\n",
       "\n",
       "    .dataframe tbody tr th {\n",
       "        vertical-align: top;\n",
       "    }\n",
       "\n",
       "    .dataframe thead th {\n",
       "        text-align: right;\n",
       "    }\n",
       "</style>\n",
       "<table border=\"1\" class=\"dataframe\">\n",
       "  <thead>\n",
       "    <tr style=\"text-align: right;\">\n",
       "      <th></th>\n",
       "      <th>query</th>\n",
       "      <th>impressions</th>\n",
       "      <th>clicks</th>\n",
       "      <th>purchases</th>\n",
       "      <th>click_rate</th>\n",
       "      <th>post_click_cvr</th>\n",
       "      <th>high_click</th>\n",
       "      <th>high_cvr</th>\n",
       "    </tr>\n",
       "  </thead>\n",
       "  <tbody>\n",
       "    <tr>\n",
       "      <th>0</th>\n",
       "      <td>alert</td>\n",
       "      <td>468</td>\n",
       "      <td>2</td>\n",
       "      <td>0</td>\n",
       "      <td>0.004274</td>\n",
       "      <td>0.0000</td>\n",
       "      <td>others</td>\n",
       "      <td>others</td>\n",
       "    </tr>\n",
       "    <tr>\n",
       "      <th>1</th>\n",
       "      <td>compost</td>\n",
       "      <td>564</td>\n",
       "      <td>5</td>\n",
       "      <td>0</td>\n",
       "      <td>0.008865</td>\n",
       "      <td>0.0000</td>\n",
       "      <td>others</td>\n",
       "      <td>others</td>\n",
       "    </tr>\n",
       "    <tr>\n",
       "      <th>2</th>\n",
       "      <td>tshirt svg woman</td>\n",
       "      <td>366</td>\n",
       "      <td>1</td>\n",
       "      <td>1</td>\n",
       "      <td>0.002732</td>\n",
       "      <td>0.9999</td>\n",
       "      <td>others</td>\n",
       "      <td>high_cvr</td>\n",
       "    </tr>\n",
       "    <tr>\n",
       "      <th>3</th>\n",
       "      <td>kenenergy</td>\n",
       "      <td>42</td>\n",
       "      <td>2</td>\n",
       "      <td>0</td>\n",
       "      <td>0.047619</td>\n",
       "      <td>0.0000</td>\n",
       "      <td>high_click</td>\n",
       "      <td>others</td>\n",
       "    </tr>\n",
       "    <tr>\n",
       "      <th>4</th>\n",
       "      <td>fart embroidery</td>\n",
       "      <td>42</td>\n",
       "      <td>5</td>\n",
       "      <td>0</td>\n",
       "      <td>0.119047</td>\n",
       "      <td>0.0000</td>\n",
       "      <td>high_click</td>\n",
       "      <td>others</td>\n",
       "    </tr>\n",
       "  </tbody>\n",
       "</table>\n",
       "</div>"
      ],
      "text/plain": [
       "              query  impressions  clicks  purchases  click_rate  \\\n",
       "0             alert          468       2          0    0.004274   \n",
       "1           compost          564       5          0    0.008865   \n",
       "2  tshirt svg woman          366       1          1    0.002732   \n",
       "3         kenenergy           42       2          0    0.047619   \n",
       "4   fart embroidery           42       5          0    0.119047   \n",
       "\n",
       "   post_click_cvr  high_click  high_cvr  \n",
       "0          0.0000      others    others  \n",
       "1          0.0000      others    others  \n",
       "2          0.9999      others  high_cvr  \n",
       "3          0.0000  high_click    others  \n",
       "4          0.0000  high_click    others  "
      ]
     },
     "execution_count": 71,
     "metadata": {},
     "output_type": "execute_result"
    }
   ],
   "source": [
    "qdf.head()"
   ]
  },
  {
   "cell_type": "code",
   "execution_count": 72,
   "id": "97d22625",
   "metadata": {},
   "outputs": [
    {
     "data": {
      "text/html": [
       "<div>\n",
       "<style scoped>\n",
       "    .dataframe tbody tr th:only-of-type {\n",
       "        vertical-align: middle;\n",
       "    }\n",
       "\n",
       "    .dataframe tbody tr th {\n",
       "        vertical-align: top;\n",
       "    }\n",
       "\n",
       "    .dataframe thead th {\n",
       "        text-align: right;\n",
       "    }\n",
       "</style>\n",
       "<table border=\"1\" class=\"dataframe\">\n",
       "  <thead>\n",
       "    <tr style=\"text-align: right;\">\n",
       "      <th></th>\n",
       "      <th>query</th>\n",
       "      <th>impressionCount</th>\n",
       "      <th>clickCount</th>\n",
       "      <th>purchaseCount</th>\n",
       "      <th>impressionTopTaxonomyPaths</th>\n",
       "      <th>impressionTopTaxonomyCounts</th>\n",
       "      <th>impressionTopTaxonomyPrices</th>\n",
       "      <th>clickTopTaxonomyPaths</th>\n",
       "      <th>clickTopTaxonomyCounts</th>\n",
       "      <th>clickTopTaxonomyPrices</th>\n",
       "      <th>...</th>\n",
       "      <th>purchaseTopTaxonomyPrices</th>\n",
       "      <th>impressionLevel2TaxonomyPaths</th>\n",
       "      <th>impressionLevel2TaxonomyCounts</th>\n",
       "      <th>impressionLevel2TaxonomyPrices</th>\n",
       "      <th>clickLevel2TaxonomyPaths</th>\n",
       "      <th>clickLevel2TaxonomyCounts</th>\n",
       "      <th>clickLevel2TaxonomyPrices</th>\n",
       "      <th>purchaseLevel2TaxonomyPaths</th>\n",
       "      <th>purchaseLevel2TaxonomyCounts</th>\n",
       "      <th>purchaseLevel2TaxonomyPrices</th>\n",
       "    </tr>\n",
       "  </thead>\n",
       "  <tbody>\n",
       "    <tr>\n",
       "      <th>0</th>\n",
       "      <td>magnet</td>\n",
       "      <td>299973.0</td>\n",
       "      <td>5883.0</td>\n",
       "      <td>165.0</td>\n",
       "      <td>[home_and_living, art_and_collectibles, craft_...</td>\n",
       "      <td>[250303, 11071, 10623, 10356, 10219, 2627, 124...</td>\n",
       "      <td>[12.11, 44.34, 11.67, 12.56, 9.46, 8.54, 367.4...</td>\n",
       "      <td>[home_and_living, weddings, craft_supplies_and...</td>\n",
       "      <td>[5039, 246, 190, 176, 141, 38, 27, 26]</td>\n",
       "      <td>[10.65, 5.23, 6.69, 9.62, 8.47, 9.31, 96.39, 5...</td>\n",
       "      <td>...</td>\n",
       "      <td>[10.38, 6.7, 6.0, 8.5]</td>\n",
       "      <td>[home_and_living.kitchen_and_dining, weddings....</td>\n",
       "      <td>[234596, 9635, 8554, 8235, 7284, 4726, 4716, 2...</td>\n",
       "      <td>[10.88, 10.92, 10.0, 8.6, 9.16, 9.09, 27.11, 6...</td>\n",
       "      <td>[home_and_living.kitchen_and_dining, weddings....</td>\n",
       "      <td>[4834, 237, 127, 125, 116, 110, 41, 26, 25, 23...</td>\n",
       "      <td>[10.77, 5.39, 7.19, 8.63, 8.31, 7.38, 8.95, 7....</td>\n",
       "      <td>[home_and_living.kitchen_and_dining, home_and_...</td>\n",
       "      <td>[137, 11, 4, 4, 4, 3, 2, 2, 2]</td>\n",
       "      <td>[10.9, 4.83, 6.0, 8.5, 9.46, 4.47, 5.69, 1.53,...</td>\n",
       "    </tr>\n",
       "    <tr>\n",
       "      <th>1</th>\n",
       "      <td>national park print</td>\n",
       "      <td>21079.0</td>\n",
       "      <td>969.0</td>\n",
       "      <td>26.0</td>\n",
       "      <td>[art_and_collectibles, home_and_living, clothi...</td>\n",
       "      <td>[14225, 5802, 360, 325, 183, 102, 82]</td>\n",
       "      <td>[29.49, 37.02, 29.39, 8.96, 14.78, 26.68, 13.35]</td>\n",
       "      <td>[art_and_collectibles, home_and_living, craft_...</td>\n",
       "      <td>[787, 169, 7, 3, 3]</td>\n",
       "      <td>[41.76, 31.87, 22.73, 38.67, 5.45]</td>\n",
       "      <td>...</td>\n",
       "      <td>[28.54, 27.83]</td>\n",
       "      <td>[art_and_collectibles.prints, home_and_living....</td>\n",
       "      <td>[11932, 5551, 1010, 734, 351, 303, 283, 250, 1...</td>\n",
       "      <td>[27.38, 37.29, 37.79, 48.18, 29.41, 8.53, 19.2...</td>\n",
       "      <td>[art_and_collectibles.prints, home_and_living....</td>\n",
       "      <td>[616, 164, 100, 67, 5, 3, 3, 2, 2, 2, 2, 2]</td>\n",
       "      <td>[32.13, 31.88, 45.79, 72.76, 23.89, 28.33, 38....</td>\n",
       "      <td>[art_and_collectibles.prints, home_and_living....</td>\n",
       "      <td>[17, 6]</td>\n",
       "      <td>[28.87, 27.83]</td>\n",
       "    </tr>\n",
       "    <tr>\n",
       "      <th>2</th>\n",
       "      <td>crown</td>\n",
       "      <td>610184.0</td>\n",
       "      <td>6291.0</td>\n",
       "      <td>137.0</td>\n",
       "      <td>[weddings, accessories, paper_and_party_suppli...</td>\n",
       "      <td>[255057, 214139, 39682, 39153, 22696, 19192, 1...</td>\n",
       "      <td>[60.8, 63.96, 27.01, 122.0, 1064.19, 608.64, 2...</td>\n",
       "      <td>[accessories, weddings, craft_supplies_and_too...</td>\n",
       "      <td>[2596, 2464, 457, 307, 196, 162, 53, 39, 14, 3]</td>\n",
       "      <td>[65.02, 67.37, 4.9, 15.26, 1199.96, 890.1, 16....</td>\n",
       "      <td>...</td>\n",
       "      <td>[37.76, 42.84, 3.74]</td>\n",
       "      <td>[weddings.accessories, accessories.hair_access...</td>\n",
       "      <td>[249112, 163065, 47238, 31881, 16726, 10113, 8...</td>\n",
       "      <td>[54.16, 50.76, 111.69, 20.02, 3.72, 3.17, 1679...</td>\n",
       "      <td>[weddings.accessories, accessories.hair_access...</td>\n",
       "      <td>[2399, 2132, 453, 300, 242, 93, 76, 74, 61, 60...</td>\n",
       "      <td>[51.63, 51.92, 127.92, 3.7, 18.5, 4.35, 1.61, ...</td>\n",
       "      <td>[weddings.accessories, accessories.hair_access...</td>\n",
       "      <td>[42, 38, 31, 15, 14, 11, 10, 9, 7, 2, 2, 2]</td>\n",
       "      <td>[42.45, 43.53, 2.9, 23.14, 9.14, 1.44, 1.0, 5....</td>\n",
       "    </tr>\n",
       "    <tr>\n",
       "      <th>3</th>\n",
       "      <td>wedding guest book</td>\n",
       "      <td>1843982.0</td>\n",
       "      <td>28015.0</td>\n",
       "      <td>1299.0</td>\n",
       "      <td>[weddings, paper_and_party_supplies, home_and_...</td>\n",
       "      <td>[1691837, 91759, 43550, 7699, 5288, 3849]</td>\n",
       "      <td>[52.23, 28.48, 78.11, 24.38, 15.75, 50.38]</td>\n",
       "      <td>[weddings, paper_and_party_supplies, home_and_...</td>\n",
       "      <td>[26347, 1094, 504, 37, 33]</td>\n",
       "      <td>[47.04, 27.43, 78.34, 36.6, 16.02]</td>\n",
       "      <td>...</td>\n",
       "      <td>[44.65, 22.94, 76.22]</td>\n",
       "      <td>[weddings.gifts_and_mementos, weddings.decorat...</td>\n",
       "      <td>[1558498, 121385, 81968, 42201, 9431, 6348, 62...</td>\n",
       "      <td>[52.17, 50.95, 30.43, 77.26, 12.38, 126.0, 7.7...</td>\n",
       "      <td>[weddings.gifts_and_mementos, weddings.decorat...</td>\n",
       "      <td>[25231, 1032, 1019, 499, 75, 52, 35, 30, 27, 2...</td>\n",
       "      <td>[46.89, 47.01, 28.43, 77.72, 13.83, 145.39, 19...</td>\n",
       "      <td>[weddings.gifts_and_mementos, paper_and_party_...</td>\n",
       "      <td>[1198, 54, 25, 21]</td>\n",
       "      <td>[44.52, 22.94, 44.67, 76.22]</td>\n",
       "    </tr>\n",
       "    <tr>\n",
       "      <th>4</th>\n",
       "      <td>mario birthday</td>\n",
       "      <td>74972.0</td>\n",
       "      <td>1015.0</td>\n",
       "      <td>42.0</td>\n",
       "      <td>[paper_and_party_supplies, clothing, craft_sup...</td>\n",
       "      <td>[41357, 15770, 7460, 7233, 1987, 788, 377]</td>\n",
       "      <td>[11.65, 13.02, 7.22, 8.51, 16.38, 19.79, 3.23]</td>\n",
       "      <td>[paper_and_party_supplies, clothing, craft_sup...</td>\n",
       "      <td>[660, 131, 111, 70, 30, 13]</td>\n",
       "      <td>[14.26, 11.28, 9.09, 6.0, 24.18, 16.76]</td>\n",
       "      <td>...</td>\n",
       "      <td>[10.53, 9.12]</td>\n",
       "      <td>[paper_and_party_supplies.paper, paper_and_par...</td>\n",
       "      <td>[22660, 18613, 10764, 5608, 4508, 3038, 2752, ...</td>\n",
       "      <td>[7.59, 16.62, 12.68, 9.27, 13.2, 3.92, 13.46, ...</td>\n",
       "      <td>[paper_and_party_supplies.party_supplies, pape...</td>\n",
       "      <td>[421, 239, 101, 66, 53, 26, 23, 14, 12, 11, 11...</td>\n",
       "      <td>[17.35, 8.81, 10.79, 13.04, 5.89, 3.41, 10.99,...</td>\n",
       "      <td>[paper_and_party_supplies.paper, paper_and_par...</td>\n",
       "      <td>[24, 10]</td>\n",
       "      <td>[8.49, 15.44]</td>\n",
       "    </tr>\n",
       "  </tbody>\n",
       "</table>\n",
       "<p>5 rows × 22 columns</p>\n",
       "</div>"
      ],
      "text/plain": [
       "                 query  impressionCount  clickCount  purchaseCount  \\\n",
       "0               magnet         299973.0      5883.0          165.0   \n",
       "1  national park print          21079.0       969.0           26.0   \n",
       "2                crown         610184.0      6291.0          137.0   \n",
       "3   wedding guest book        1843982.0     28015.0         1299.0   \n",
       "4       mario birthday          74972.0      1015.0           42.0   \n",
       "\n",
       "                          impressionTopTaxonomyPaths  \\\n",
       "0  [home_and_living, art_and_collectibles, craft_...   \n",
       "1  [art_and_collectibles, home_and_living, clothi...   \n",
       "2  [weddings, accessories, paper_and_party_suppli...   \n",
       "3  [weddings, paper_and_party_supplies, home_and_...   \n",
       "4  [paper_and_party_supplies, clothing, craft_sup...   \n",
       "\n",
       "                         impressionTopTaxonomyCounts  \\\n",
       "0  [250303, 11071, 10623, 10356, 10219, 2627, 124...   \n",
       "1              [14225, 5802, 360, 325, 183, 102, 82]   \n",
       "2  [255057, 214139, 39682, 39153, 22696, 19192, 1...   \n",
       "3          [1691837, 91759, 43550, 7699, 5288, 3849]   \n",
       "4         [41357, 15770, 7460, 7233, 1987, 788, 377]   \n",
       "\n",
       "                         impressionTopTaxonomyPrices  \\\n",
       "0  [12.11, 44.34, 11.67, 12.56, 9.46, 8.54, 367.4...   \n",
       "1   [29.49, 37.02, 29.39, 8.96, 14.78, 26.68, 13.35]   \n",
       "2  [60.8, 63.96, 27.01, 122.0, 1064.19, 608.64, 2...   \n",
       "3         [52.23, 28.48, 78.11, 24.38, 15.75, 50.38]   \n",
       "4     [11.65, 13.02, 7.22, 8.51, 16.38, 19.79, 3.23]   \n",
       "\n",
       "                               clickTopTaxonomyPaths  \\\n",
       "0  [home_and_living, weddings, craft_supplies_and...   \n",
       "1  [art_and_collectibles, home_and_living, craft_...   \n",
       "2  [accessories, weddings, craft_supplies_and_too...   \n",
       "3  [weddings, paper_and_party_supplies, home_and_...   \n",
       "4  [paper_and_party_supplies, clothing, craft_sup...   \n",
       "\n",
       "                            clickTopTaxonomyCounts  \\\n",
       "0           [5039, 246, 190, 176, 141, 38, 27, 26]   \n",
       "1                              [787, 169, 7, 3, 3]   \n",
       "2  [2596, 2464, 457, 307, 196, 162, 53, 39, 14, 3]   \n",
       "3                       [26347, 1094, 504, 37, 33]   \n",
       "4                      [660, 131, 111, 70, 30, 13]   \n",
       "\n",
       "                              clickTopTaxonomyPrices  ...  \\\n",
       "0  [10.65, 5.23, 6.69, 9.62, 8.47, 9.31, 96.39, 5...  ...   \n",
       "1                 [41.76, 31.87, 22.73, 38.67, 5.45]  ...   \n",
       "2  [65.02, 67.37, 4.9, 15.26, 1199.96, 890.1, 16....  ...   \n",
       "3                 [47.04, 27.43, 78.34, 36.6, 16.02]  ...   \n",
       "4            [14.26, 11.28, 9.09, 6.0, 24.18, 16.76]  ...   \n",
       "\n",
       "  purchaseTopTaxonomyPrices  \\\n",
       "0    [10.38, 6.7, 6.0, 8.5]   \n",
       "1            [28.54, 27.83]   \n",
       "2      [37.76, 42.84, 3.74]   \n",
       "3     [44.65, 22.94, 76.22]   \n",
       "4             [10.53, 9.12]   \n",
       "\n",
       "                       impressionLevel2TaxonomyPaths  \\\n",
       "0  [home_and_living.kitchen_and_dining, weddings....   \n",
       "1  [art_and_collectibles.prints, home_and_living....   \n",
       "2  [weddings.accessories, accessories.hair_access...   \n",
       "3  [weddings.gifts_and_mementos, weddings.decorat...   \n",
       "4  [paper_and_party_supplies.paper, paper_and_par...   \n",
       "\n",
       "                      impressionLevel2TaxonomyCounts  \\\n",
       "0  [234596, 9635, 8554, 8235, 7284, 4726, 4716, 2...   \n",
       "1  [11932, 5551, 1010, 734, 351, 303, 283, 250, 1...   \n",
       "2  [249112, 163065, 47238, 31881, 16726, 10113, 8...   \n",
       "3  [1558498, 121385, 81968, 42201, 9431, 6348, 62...   \n",
       "4  [22660, 18613, 10764, 5608, 4508, 3038, 2752, ...   \n",
       "\n",
       "                      impressionLevel2TaxonomyPrices  \\\n",
       "0  [10.88, 10.92, 10.0, 8.6, 9.16, 9.09, 27.11, 6...   \n",
       "1  [27.38, 37.29, 37.79, 48.18, 29.41, 8.53, 19.2...   \n",
       "2  [54.16, 50.76, 111.69, 20.02, 3.72, 3.17, 1679...   \n",
       "3  [52.17, 50.95, 30.43, 77.26, 12.38, 126.0, 7.7...   \n",
       "4  [7.59, 16.62, 12.68, 9.27, 13.2, 3.92, 13.46, ...   \n",
       "\n",
       "                            clickLevel2TaxonomyPaths  \\\n",
       "0  [home_and_living.kitchen_and_dining, weddings....   \n",
       "1  [art_and_collectibles.prints, home_and_living....   \n",
       "2  [weddings.accessories, accessories.hair_access...   \n",
       "3  [weddings.gifts_and_mementos, weddings.decorat...   \n",
       "4  [paper_and_party_supplies.party_supplies, pape...   \n",
       "\n",
       "                           clickLevel2TaxonomyCounts  \\\n",
       "0  [4834, 237, 127, 125, 116, 110, 41, 26, 25, 23...   \n",
       "1        [616, 164, 100, 67, 5, 3, 3, 2, 2, 2, 2, 2]   \n",
       "2  [2399, 2132, 453, 300, 242, 93, 76, 74, 61, 60...   \n",
       "3  [25231, 1032, 1019, 499, 75, 52, 35, 30, 27, 2...   \n",
       "4  [421, 239, 101, 66, 53, 26, 23, 14, 12, 11, 11...   \n",
       "\n",
       "                           clickLevel2TaxonomyPrices  \\\n",
       "0  [10.77, 5.39, 7.19, 8.63, 8.31, 7.38, 8.95, 7....   \n",
       "1  [32.13, 31.88, 45.79, 72.76, 23.89, 28.33, 38....   \n",
       "2  [51.63, 51.92, 127.92, 3.7, 18.5, 4.35, 1.61, ...   \n",
       "3  [46.89, 47.01, 28.43, 77.72, 13.83, 145.39, 19...   \n",
       "4  [17.35, 8.81, 10.79, 13.04, 5.89, 3.41, 10.99,...   \n",
       "\n",
       "                         purchaseLevel2TaxonomyPaths  \\\n",
       "0  [home_and_living.kitchen_and_dining, home_and_...   \n",
       "1  [art_and_collectibles.prints, home_and_living....   \n",
       "2  [weddings.accessories, accessories.hair_access...   \n",
       "3  [weddings.gifts_and_mementos, paper_and_party_...   \n",
       "4  [paper_and_party_supplies.paper, paper_and_par...   \n",
       "\n",
       "                  purchaseLevel2TaxonomyCounts  \\\n",
       "0               [137, 11, 4, 4, 4, 3, 2, 2, 2]   \n",
       "1                                      [17, 6]   \n",
       "2  [42, 38, 31, 15, 14, 11, 10, 9, 7, 2, 2, 2]   \n",
       "3                           [1198, 54, 25, 21]   \n",
       "4                                     [24, 10]   \n",
       "\n",
       "                        purchaseLevel2TaxonomyPrices  \n",
       "0  [10.9, 4.83, 6.0, 8.5, 9.46, 4.47, 5.69, 1.53,...  \n",
       "1                                     [28.87, 27.83]  \n",
       "2  [42.45, 43.53, 2.9, 23.14, 9.14, 1.44, 1.0, 5....  \n",
       "3                       [44.52, 22.94, 44.67, 76.22]  \n",
       "4                                      [8.49, 15.44]  \n",
       "\n",
       "[5 rows x 22 columns]"
      ]
     },
     "execution_count": 72,
     "metadata": {},
     "output_type": "execute_result"
    }
   ],
   "source": [
    "fdf.head()"
   ]
  },
  {
   "cell_type": "code",
   "execution_count": 73,
   "id": "51f54864",
   "metadata": {},
   "outputs": [
    {
     "name": "stdout",
     "output_type": "stream",
     "text": [
      "88558\n"
     ]
    }
   ],
   "source": [
    "high_cvr_feature_data = []\n",
    "other_feature_data = []\n",
    "    \n",
    "unique_queries = fdf[\"query\"].unique()\n",
    "print(len(unique_queries))"
   ]
  },
  {
   "cell_type": "code",
   "execution_count": 74,
   "id": "0cb66f22",
   "metadata": {},
   "outputs": [
    {
     "data": {
      "text/plain": [
       "88549"
      ]
     },
     "execution_count": 74,
     "metadata": {},
     "output_type": "execute_result"
    }
   ],
   "source": [
    "qdf_query_set = set(qdf[\"query\"])\n",
    "fdf_query_set = set(fdf[\"query\"])\n",
    "len(qdf_query_set.intersection(fdf_query_set))"
   ]
  },
  {
   "cell_type": "code",
   "execution_count": 80,
   "id": "5c137087",
   "metadata": {},
   "outputs": [
    {
     "data": {
      "text/plain": [
       "12449"
      ]
     },
     "execution_count": 80,
     "metadata": {},
     "output_type": "execute_result"
    }
   ],
   "source": [
    "qdf_high_set = set(qdf[qdf[\"high_cvr\"] == \"high_cvr\"][\"query\"])\n",
    "len(qdf_high_set.intersection(fdf_query_set))"
   ]
  },
  {
   "cell_type": "code",
   "execution_count": 75,
   "id": "a21c2dba",
   "metadata": {},
   "outputs": [],
   "source": [
    "def l1norm(x):\n",
    "    if len(x) > 0 and np.sum(x) > 0:\n",
    "        return x / np.sum(x)\n",
    "    else:\n",
    "        return x"
   ]
  },
  {
   "cell_type": "code",
   "execution_count": 82,
   "id": "5fcbd856",
   "metadata": {},
   "outputs": [
    {
     "name": "stderr",
     "output_type": "stream",
     "text": [
      "100%|██████████████████████████████████| 88558/88558 [18:39:34<00:00,  1.32it/s]\n"
     ]
    }
   ],
   "source": [
    "for i in tqdm(range(len(unique_queries))):\n",
    "    curr_query = unique_queries[i]\n",
    "    if curr_query in qdf_query_set:\n",
    "        curr_qdf = qdf[qdf[\"query\"] == curr_query]\n",
    "        curr_fdf = fdf[fdf[\"query\"] == curr_query]\n",
    "        \n",
    "        # query stats\n",
    "        query_cvr_type = curr_qdf.high_cvr.values[0]\n",
    "        query_cvr = curr_qdf.post_click_cvr.values[0]\n",
    "        query_ctr = curr_qdf.click_rate.values[0]\n",
    "        \n",
    "        # top paths\n",
    "        curr_impression_top_paths = curr_fdf.impressionTopTaxonomyPaths.values[0]\n",
    "        curr_click_top_paths = curr_fdf.clickTopTaxonomyPaths.values[0]\n",
    "        curr_purchase_top_paths = curr_fdf.purchaseTopTaxonomyPaths.values[0]\n",
    "        \n",
    "        # top counts\n",
    "        curr_impression_top_counts = curr_fdf.impressionTopTaxonomyCounts.values[0]\n",
    "        curr_click_top_counts = curr_fdf.clickTopTaxonomyCounts.values[0]\n",
    "        curr_purchase_top_counts = curr_fdf.purchaseTopTaxonomyCounts.values[0]\n",
    "        \n",
    "        # level2 paths\n",
    "        curr_impression_level2_paths = curr_fdf.impressionLevel2TaxonomyPaths.values[0]\n",
    "        curr_click_level2_paths = curr_fdf.clickLevel2TaxonomyPaths.values[0]\n",
    "        curr_purchase_level2_paths = curr_fdf.purchaseLevel2TaxonomyPaths.values[0]\n",
    "        \n",
    "        # level2 counts\n",
    "        curr_impression_level2_counts = curr_fdf.impressionLevel2TaxonomyCounts.values[0]\n",
    "        curr_click_level2_counts = curr_fdf.clickLevel2TaxonomyCounts.values[0]\n",
    "        curr_purchase_level2_counts = curr_fdf.purchaseLevel2TaxonomyCounts.values[0]\n",
    "        \n",
    "        curr_res = {\n",
    "            \"query\": curr_query,\n",
    "            \"cvr\": query_cvr,\n",
    "            \"ctr\": query_ctr,\n",
    "            \"i_top_path\": curr_impression_top_paths,\n",
    "            \"i_top_counts\": curr_impression_top_counts,\n",
    "            \"i_top_counts_norm\": l1norm(curr_impression_top_counts),\n",
    "            \"c_top_path\": curr_click_top_paths,\n",
    "            \"c_top_counts\": curr_click_top_counts,\n",
    "            \"c_top_counts_norm\": l1norm(curr_click_top_counts),\n",
    "            \"p_top_path\": curr_purchase_top_paths,\n",
    "            \"p_top_counts\": curr_purchase_top_counts,\n",
    "            \"p_top_counts_norm\": l1norm(curr_purchase_top_counts),\n",
    "            \"i_level2_path\": curr_impression_level2_paths,\n",
    "            \"i_level2_counts\": curr_impression_level2_counts,\n",
    "            \"i_level2_counts_norm\": l1norm(curr_impression_level2_counts),\n",
    "            \"c_level2_path\": curr_click_level2_paths,\n",
    "            \"c_level2_counts\": curr_click_level2_counts,\n",
    "            \"c_level2_counts_norm\": l1norm(curr_click_level2_counts),\n",
    "            \"p_level2_path\": curr_purchase_level2_paths,\n",
    "            \"p_level2_counts\": curr_purchase_level2_counts,\n",
    "            \"p_level2_counts_norm\": l1norm(curr_purchase_level2_counts),\n",
    "        }\n",
    "        \n",
    "        if query_cvr_type == \"high_cvr\":\n",
    "            high_cvr_feature_data.append(curr_res)\n",
    "        else:\n",
    "            other_feature_data.append(curr_res)\n"
   ]
  },
  {
   "cell_type": "code",
   "execution_count": 83,
   "id": "a9aeae66",
   "metadata": {},
   "outputs": [
    {
     "name": "stdout",
     "output_type": "stream",
     "text": [
      "12815\n",
      "76424\n"
     ]
    }
   ],
   "source": [
    "print(len(high_cvr_feature_data))\n",
    "print(len(other_feature_data))"
   ]
  },
  {
   "cell_type": "code",
   "execution_count": 88,
   "id": "aea4f976",
   "metadata": {},
   "outputs": [],
   "source": [
    "with open(\"high_cvr_data.pkl\", \"wb\") as f1:\n",
    "    pickle.dump(high_cvr_feature_data, f1)\n",
    "    \n",
    "with open(\"other_cvr_data.pkl\", \"wb\") as f2:\n",
    "    pickle.dump(other_feature_data, f2)"
   ]
  },
  {
   "cell_type": "code",
   "execution_count": 89,
   "id": "731a3074",
   "metadata": {},
   "outputs": [],
   "source": [
    "# high purchase taxonomy entropy but low impression taxonomy entropy\n",
    "# low purchase taxonomy entropy but high impression taxonomy entropy\n",
    "# entropy: number of high-demand taxonomies\n",
    "\n",
    "high_cvr_purchase_entropy = [len(x[\"p_level2_path\"]) for x in high_cvr_feature_data]\n",
    "high_cvr_impression_entropy = [len(x[\"i_level2_path\"]) for x in high_cvr_feature_data]\n",
    "\n",
    "other_purchase_entropy = [len(x[\"p_level2_path\"]) for x in other_feature_data]\n",
    "other_impression_entropy = [len(x[\"i_level2_path\"]) for x in other_feature_data]"
   ]
  },
  {
   "cell_type": "code",
   "execution_count": 124,
   "id": "d7cbd61d",
   "metadata": {},
   "outputs": [
    {
     "data": {
      "text/plain": [
       "<matplotlib.collections.PathCollection at 0x3adf569d0>"
      ]
     },
     "execution_count": 124,
     "metadata": {},
     "output_type": "execute_result"
    },
    {
     "data": {
      "image/png": "[encoded data removed]",
      "text/plain": [
       "<Figure size 640x480 with 1 Axes>"
      ]
     },
     "metadata": {},
     "output_type": "display_data"
    }
   ],
   "source": [
    "plt.scatter(high_cvr_impression_entropy, high_cvr_purchase_entropy)"
   ]
  },
  {
   "cell_type": "code",
   "execution_count": 125,
   "id": "61e5515d",
   "metadata": {},
   "outputs": [
    {
     "data": {
      "text/plain": [
       "<matplotlib.collections.PathCollection at 0x3af2ca730>"
      ]
     },
     "execution_count": 125,
     "metadata": {},
     "output_type": "execute_result"
    },
    {
     "data": {
      "image/png": "[encoded data removed]",
      "text/plain": [
       "<Figure size 640x480 with 1 Axes>"
      ]
     },
     "metadata": {},
     "output_type": "display_data"
    }
   ],
   "source": [
    "plt.scatter(other_impression_entropy, other_purchase_entropy)"
   ]
  },
  {
   "cell_type": "code",
   "execution_count": 127,
   "id": "fd5ddad0",
   "metadata": {},
   "outputs": [
    {
     "data": {
      "text/plain": [
       "38.0"
      ]
     },
     "execution_count": 127,
     "metadata": {},
     "output_type": "execute_result"
    }
   ],
   "source": [
    "# queries with high impression & low purchase\n",
    "np.quantile(high_cvr_impression_entropy, 0.8)"
   ]
  },
  {
   "cell_type": "code",
   "execution_count": 129,
   "id": "71f462fe",
   "metadata": {},
   "outputs": [
    {
     "data": {
      "text/plain": [
       "3.0"
      ]
     },
     "execution_count": 129,
     "metadata": {},
     "output_type": "execute_result"
    }
   ],
   "source": [
    "np.quantile(high_cvr_purchase_entropy, 0.8)"
   ]
  },
  {
   "cell_type": "code",
   "execution_count": 130,
   "id": "53c1a210",
   "metadata": {},
   "outputs": [],
   "source": [
    "i = 0\n",
    "ppaths = high_cvr_feature_data[i][\"p_level2_path\"]\n",
    "pcounts = high_cvr_feature_data[i][\"p_level2_counts_norm\"]\n",
    "ipaths = high_cvr_feature_data[i][\"i_level2_path\"]\n",
    "icounts = high_cvr_feature_data[i][\"i_level2_counts_norm\"]\n",
    "\n",
    "union_paths = set(ppaths).intersection(set(ipaths))\n",
    "j = 0\n",
    "\n",
    "if union_paths[j] in ppaths:\n",
    "    curr_pcounts = pcounts[ppaths.index(union_paths[j])] if union_paths[j] in ppaths else 0.0\n",
    "    curr_icounts = icounts[ipaths.index(union_paths[j])] if union_paths[j] in ipaths else 0.0\n",
    "    distrib_dist = np.abs(curr_pcounts, curr_icounts)"
   ]
  },
  {
   "cell_type": "code",
   "execution_count": 138,
   "id": "728700d1",
   "metadata": {},
   "outputs": [
    {
     "data": {
      "text/plain": [
       "0.0650887573964497"
      ]
     },
     "execution_count": 138,
     "metadata": {},
     "output_type": "execute_result"
    }
   ],
   "source": [
    "pcounts[ppaths == union_paths[0]][0]"
   ]
  },
  {
   "cell_type": "code",
   "execution_count": 134,
   "id": "e495a274",
   "metadata": {},
   "outputs": [
    {
     "data": {
      "text/plain": [
       "array([7.84156165e-01, 3.22057693e-02, 2.85924391e-02, 2.75261557e-02,\n",
       "       2.43473610e-02, 1.57970385e-02, 1.57636127e-02, 6.96259652e-03,\n",
       "       5.85285958e-03, 5.33810208e-03, 4.72306715e-03, 3.77043153e-03,\n",
       "       3.66346893e-03, 3.52308052e-03, 2.95149915e-03, 2.91138817e-03,\n",
       "       2.82782365e-03, 2.42002875e-03, 2.23284420e-03, 2.18270549e-03,\n",
       "       2.01557643e-03, 1.74148477e-03, 1.64789250e-03, 1.51418926e-03,\n",
       "       1.34706020e-03, 1.31697697e-03, 1.17993114e-03, 1.12644984e-03,\n",
       "       9.76033693e-04, 8.72413678e-04, 7.88849149e-04, 7.58765919e-04,\n",
       "       6.95256877e-04, 6.68516228e-04, 6.21720092e-04, 5.98322024e-04,\n",
       "       5.58211051e-04, 4.37878129e-04, 4.37878129e-04, 4.17822643e-04,\n",
       "       3.84396831e-04, 3.07517465e-04, 2.64063910e-04, 2.64063910e-04,\n",
       "       2.54036167e-04, 2.40665842e-04, 2.20610355e-04, 2.17267774e-04,\n",
       "       2.03897450e-04, 1.73814219e-04])"
      ]
     },
     "execution_count": 134,
     "metadata": {},
     "output_type": "execute_result"
    }
   ],
   "source": [
    "union_paths = set(ppaths).intersection(set(ipaths))"
   ]
  },
  {
   "cell_type": "code",
   "execution_count": 142,
   "id": "7d94053f",
   "metadata": {},
   "outputs": [],
   "source": [
    "high_cvr_distrib_dist = []\n",
    "\n",
    "for i in range(len(high_cvr_feature_data)):\n",
    "    ppaths = high_cvr_feature_data[i][\"p_level2_path\"]\n",
    "    pcounts = high_cvr_feature_data[i][\"p_level2_counts_norm\"]\n",
    "    ipaths = high_cvr_feature_data[i][\"i_level2_path\"]\n",
    "    icounts = high_cvr_feature_data[i][\"i_level2_counts_norm\"]\n",
    "\n",
    "    union_paths = list(set(ppaths).union(set(ipaths)))\n",
    "    if len(union_paths) > 0:\n",
    "        distrib_dist = 0.\n",
    "        for j in range(len(union_paths)):\n",
    "            curr_pcounts = pcounts[ppaths == union_paths[j]][0] if union_paths[j] in ppaths else 0.0\n",
    "            curr_icounts = icounts[ipaths == union_paths[j]][0] if union_paths[j] in ipaths else 0.0\n",
    "            distrib_dist += np.abs(curr_pcounts - curr_icounts)\n",
    "\n",
    "        high_cvr_distrib_dist.append(distrib_dist / len(union_paths))"
   ]
  },
  {
   "cell_type": "code",
   "execution_count": 145,
   "id": "3a168f0e",
   "metadata": {},
   "outputs": [],
   "source": [
    "other_distrib_dist = []\n",
    "\n",
    "for i in range(len(other_feature_data)):\n",
    "    ppaths = other_feature_data[i][\"p_level2_path\"]\n",
    "    pcounts = other_feature_data[i][\"p_level2_counts_norm\"]\n",
    "    ipaths = other_feature_data[i][\"i_level2_path\"]\n",
    "    icounts = other_feature_data[i][\"i_level2_counts_norm\"]\n",
    "\n",
    "    union_paths = list(set(ppaths).union(set(ipaths)))\n",
    "    if len(union_paths) > 0:\n",
    "        distrib_dist = 0.\n",
    "        for j in range(len(union_paths)):\n",
    "            curr_pcounts = pcounts[ppaths == union_paths[j]][0] if union_paths[j] in ppaths else 0.0\n",
    "            curr_icounts = icounts[ipaths == union_paths[j]][0] if union_paths[j] in ipaths else 0.0\n",
    "            distrib_dist += np.abs(curr_pcounts - curr_icounts)\n",
    "\n",
    "        other_distrib_dist.append(distrib_dist / len(union_paths))"
   ]
  },
  {
   "cell_type": "code",
   "execution_count": null,
   "id": "5e4508ed",
   "metadata": {},
   "outputs": [],
   "source": []
  }
 ],
 "metadata": {
  "kernelspec": {
   "display_name": "venv",
   "language": "python",
   "name": "venv"
  },
  "language_info": {
   "codemirror_mode": {
    "name": "ipython",
    "version": 3
   },
   "file_extension": ".py",
   "mimetype": "text/x-python",
   "name": "python",
   "nbconvert_exporter": "python",
   "pygments_lexer": "ipython3",
   "version": "3.8.9"
  }
 },
 "nbformat": 4,
 "nbformat_minor": 5
}
