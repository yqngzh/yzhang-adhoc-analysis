{
 "cells": [
  {
   "cell_type": "code",
   "execution_count": 2,
   "id": "1722b15f",
   "metadata": {},
   "outputs": [
    {
     "name": "stdout",
     "output_type": "stream",
     "text": [
      "WARNING:  Python 3.5-3.7 will be deprecated on August 8th, 2023. Please use Python version 3.8 and up.\n",
      "\n",
      "If you have a compatible Python interpreter installed, you can use it by setting\n",
      "the CLOUDSDK_PYTHON environment variable to point to it.\n",
      "\n",
      "Updated property [core/project].\n",
      "\n",
      "\n",
      "Updates are available for some Google Cloud CLI components.  To install them,\n",
      "please run:\n",
      "  $ gcloud components update\n",
      "\n"
     ]
    }
   ],
   "source": [
    "!gcloud config set project etsy-bigquery-adhoc-prod"
   ]
  },
  {
   "cell_type": "code",
   "execution_count": 3,
   "id": "d60bf77e",
   "metadata": {},
   "outputs": [],
   "source": [
    "%load_ext google.cloud.bigquery"
   ]
  },
  {
   "cell_type": "code",
   "execution_count": 4,
   "id": "e3b380d3",
   "metadata": {},
   "outputs": [
    {
     "name": "stderr",
     "output_type": "stream",
     "text": [
      "2023-08-31 18:54:57.971139: I tensorflow/core/platform/cpu_feature_guard.cc:182] This TensorFlow binary is optimized to use available CPU instructions in performance-critical operations.\n",
      "To enable the following instructions: AVX2 FMA, in other operations, rebuild TensorFlow with the appropriate compiler flags.\n"
     ]
    }
   ],
   "source": [
    "import sys\n",
    "import tensorflow as tf\n",
    "import numpy as np\n",
    "import matplotlib.pyplot as plt\n",
    "import seaborn as sns\n",
    "from collections import Counter\n",
    "from tqdm import tqdm\n",
    "from scipy.stats import pearsonr, ttest_1samp, ttest_ind"
   ]
  },
  {
   "cell_type": "code",
   "execution_count": 5,
   "id": "f4b36d58",
   "metadata": {},
   "outputs": [],
   "source": [
    "sys.path.insert(0, '../utils')\n",
    "\n",
    "from utils import min_max_standardize"
   ]
  },
  {
   "cell_type": "markdown",
   "id": "5f78f207",
   "metadata": {},
   "source": [
    "First batch of features to look at\n",
    "+ {click, purchase}Level2TaxonomyPaths\n",
    "+ {click, purchase}Level2TaxonomyCounts\n",
    "+ {click, purchase}Level2TaxonomyPrices"
   ]
  },
  {
   "cell_type": "markdown",
   "id": "a6b7899e",
   "metadata": {},
   "source": [
    "# Training data"
   ]
  },
  {
   "cell_type": "markdown",
   "id": "c2d3c8dc",
   "metadata": {},
   "source": [
    "```sql\n",
    "create or replace table `etsy-search-ml-dev.yzhang.taxo_diversity_raw_train_web_07_03`\n",
    "as (\n",
    "    with fl as (\n",
    "        select\n",
    "            requestUUID, visitId, position, \n",
    "            candidateInfo.docInfo.listingInfo.listingId, \n",
    "            candidateInfo.scores,\n",
    "            candidateInfo.docInfo.listingInfo.activeListingBasics.priceUsd,\n",
    "            candidateInfo.docInfo.listingInfo.verticaListings.shopId,\n",
    "            candidateInfo.docInfo.listingInfo.verticaListings.taxonomyPath,\n",
    "            candidateInfo.docInfo.listingInfo.verticaListings.tags,\n",
    "            attributions,\n",
    "            ctx.docInfo.queryInfo.query, \n",
    "            ctx.docInfo.queryInfo.queryTaxoDemandFeatures.*,\n",
    "            \n",
    "         from `etsy-ml-systems-prod.attributed_instance.query_pipeline_web_organic_2023_07_03`, unnest(contextualInfo) as ctx\n",
    "         where ctx.docInfo.queryInfo.query is not null\n",
    "         order by requestUUID, position\n",
    "    ),\n",
    "    query_gms as (\n",
    "      select query, sum(attributed_gms) as gms\n",
    "      from `etsy-data-warehouse-prod.search.query_sessions_new`\n",
    "      where _date = date('2023-07-03')\n",
    "      group by query\n",
    "    )\n",
    "    select fl.*, gms\n",
    "    from fl\n",
    "    left join query_gms\n",
    "    on fl.query = query_gms.query\n",
    ")\n",
    "```"
   ]
  },
  {
   "cell_type": "markdown",
   "id": "3c632c16",
   "metadata": {},
   "source": [
    "```sql\n",
    "with query_with_taxoes as (\n",
    "  select *\n",
    "  from `etsy-search-ml-dev.yzhang.taxo_diversity_raw_train_web_07_03`\n",
    "  where array_length(purchaseLevel2TaxonomyPaths) > 0\n",
    "),\n",
    "query_gms as (\n",
    "  select distinct query, gms\n",
    "  from query_with_taxoes\n",
    ")\n",
    "select sum(gms) from query_gms\n",
    "```"
   ]
  },
  {
   "cell_type": "markdown",
   "id": "2c31ce49",
   "metadata": {},
   "source": [
    "queries with purchased taxonomies on one of the days in training data\n",
    "\n",
    "07/03  (90 day look back)\n",
    "+ total: 827734 queries, 99038566 GMS\n",
    "+ have purchase taxos: 290207 queries (35.1%), 62946653 GMS (63.6%)\n",
    "+ have more than 1 purchased taxoes: 75488 queries (9.1%), 30887075 GMS (31.2%)\n",
    "+ have click taxos: 535593 queries (64.7%), 81547957 GMS (82.3%)\n",
    "+ have more than 1 clicked taxoes: 301673 queries (36.4%), 59444566 GMS (60.0%)\n",
    "\n",
    "07/16  (120 day look back)\n",
    "+ total: 826779 queries, 93662392 GMS\n",
    "+ have purchase taxos: 294935 queries (35.7%), 60425515 GMS (64.5%)\n",
    "+ have more than 1 purchased taxoes: 87489 queries (10.6%), 32382506 GMS (34.6%)\n",
    "+ have click taxoes: 542367 queries (65.6%), 77603049 GMS (82.9%)\n",
    "+ have more than 1 clicked taxoes: 307312 queries (37.2%), 56676797 GMS (60.5%)"
   ]
  },
  {
   "cell_type": "code",
   "execution_count": 15,
   "id": "ae29383f",
   "metadata": {},
   "outputs": [
    {
     "name": "stderr",
     "output_type": "stream",
     "text": [
      "Query complete after 0.00s: 100%|████████████| 5/5 [00:00<00:00, 2635.28query/s]\n",
      "Downloading: 100%|████████████| 51158940/51158940 [02:08<00:00, 399468.70rows/s]\n"
     ]
    }
   ],
   "source": [
    "%%bigquery df\n",
    "select query, query_bin, attributions, purchaseLevel2TaxonomyPaths, purchaseLevel2TaxonomyCounts\n",
    "from `etsy-search-ml-dev.yzhang.taxo_diversity_raw_train_web_08_15`\n",
    "where array_length(purchaseLevel2TaxonomyPaths) > 0"
   ]
  },
  {
   "cell_type": "code",
   "execution_count": 16,
   "id": "b716ac25",
   "metadata": {},
   "outputs": [
    {
     "data": {
      "text/html": [
       "<div>\n",
       "<style scoped>\n",
       "    .dataframe tbody tr th:only-of-type {\n",
       "        vertical-align: middle;\n",
       "    }\n",
       "\n",
       "    .dataframe tbody tr th {\n",
       "        vertical-align: top;\n",
       "    }\n",
       "\n",
       "    .dataframe thead th {\n",
       "        text-align: right;\n",
       "    }\n",
       "</style>\n",
       "<table border=\"1\" class=\"dataframe\">\n",
       "  <thead>\n",
       "    <tr style=\"text-align: right;\">\n",
       "      <th></th>\n",
       "      <th>query</th>\n",
       "      <th>query_bin</th>\n",
       "      <th>attributions</th>\n",
       "      <th>purchaseLevel2TaxonomyPaths</th>\n",
       "      <th>purchaseLevel2TaxonomyCounts</th>\n",
       "    </tr>\n",
       "  </thead>\n",
       "  <tbody>\n",
       "    <tr>\n",
       "      <th>0</th>\n",
       "      <td>iron on label</td>\n",
       "      <td>None</td>\n",
       "      <td>[no_event]</td>\n",
       "      <td>[paper_and_party_supplies.paper, craft_supplie...</td>\n",
       "      <td>[134, 15, 8, 4, 4, 2, 1, 1, 1]</td>\n",
       "    </tr>\n",
       "    <tr>\n",
       "      <th>1</th>\n",
       "      <td>doctor who</td>\n",
       "      <td>None</td>\n",
       "      <td>[no_event]</td>\n",
       "      <td>[accessories.patches_and_pins, home_and_living...</td>\n",
       "      <td>[17, 16, 10, 7, 7, 5, 4, 4, 4, 4, 3, 3, 2, 2, ...</td>\n",
       "    </tr>\n",
       "    <tr>\n",
       "      <th>2</th>\n",
       "      <td>my aunt is cooler than my dad</td>\n",
       "      <td>None</td>\n",
       "      <td>[no_event]</td>\n",
       "      <td>[clothing.gender_neutral_kids_clothing, clothi...</td>\n",
       "      <td>[11, 4]</td>\n",
       "    </tr>\n",
       "    <tr>\n",
       "      <th>3</th>\n",
       "      <td>love reading in one hour</td>\n",
       "      <td>None</td>\n",
       "      <td>[no_event]</td>\n",
       "      <td>[home_and_living.spirituality_and_religion, ar...</td>\n",
       "      <td>[110, 5]</td>\n",
       "    </tr>\n",
       "    <tr>\n",
       "      <th>4</th>\n",
       "      <td>back to school svg</td>\n",
       "      <td>None</td>\n",
       "      <td>[no_event]</td>\n",
       "      <td>[craft_supplies_and_tools.canvas_and_surfaces,...</td>\n",
       "      <td>[134, 29, 22, 20, 10, 3]</td>\n",
       "    </tr>\n",
       "  </tbody>\n",
       "</table>\n",
       "</div>"
      ],
      "text/plain": [
       "                           query query_bin attributions  \\\n",
       "0                  iron on label      None   [no_event]   \n",
       "1                     doctor who      None   [no_event]   \n",
       "2  my aunt is cooler than my dad      None   [no_event]   \n",
       "3       love reading in one hour      None   [no_event]   \n",
       "4             back to school svg      None   [no_event]   \n",
       "\n",
       "                         purchaseLevel2TaxonomyPaths  \\\n",
       "0  [paper_and_party_supplies.paper, craft_supplie...   \n",
       "1  [accessories.patches_and_pins, home_and_living...   \n",
       "2  [clothing.gender_neutral_kids_clothing, clothi...   \n",
       "3  [home_and_living.spirituality_and_religion, ar...   \n",
       "4  [craft_supplies_and_tools.canvas_and_surfaces,...   \n",
       "\n",
       "                        purchaseLevel2TaxonomyCounts  \n",
       "0                     [134, 15, 8, 4, 4, 2, 1, 1, 1]  \n",
       "1  [17, 16, 10, 7, 7, 5, 4, 4, 4, 4, 3, 3, 2, 2, ...  \n",
       "2                                            [11, 4]  \n",
       "3                                           [110, 5]  \n",
       "4                           [134, 29, 22, 20, 10, 3]  "
      ]
     },
     "execution_count": 16,
     "metadata": {},
     "output_type": "execute_result"
    }
   ],
   "source": [
    "df.head()"
   ]
  },
  {
   "cell_type": "code",
   "execution_count": 15,
   "id": "fabd7475",
   "metadata": {},
   "outputs": [
    {
     "data": {
      "text/plain": [
       "array(['craft_supplies_and_tools.canvas_and_surfaces',\n",
       "       'art_and_collectibles.drawing_and_illustration',\n",
       "       'art_and_collectibles.prints',\n",
       "       'craft_supplies_and_tools.patterns_and_how_to',\n",
       "       'paper_and_party_supplies.paper',\n",
       "       'craft_supplies_and_tools.knives_and_cutting_tools',\n",
       "       'clothing.gender_neutral_adult_clothing',\n",
       "       'paper_and_party_supplies.party_supplies', ''], dtype=object)"
      ]
     },
     "execution_count": 15,
     "metadata": {},
     "output_type": "execute_result"
    }
   ],
   "source": [
    "df.purchaseLevel2TaxonomyPaths[0]"
   ]
  },
  {
   "cell_type": "code",
   "execution_count": 13,
   "id": "c89ac567",
   "metadata": {},
   "outputs": [
    {
     "data": {
      "text/plain": [
       "array([588, 367, 239, 178,   2,   1,   1,   1,   1])"
      ]
     },
     "execution_count": 13,
     "metadata": {},
     "output_type": "execute_result"
    }
   ],
   "source": [
    "df.purchaseLevel2TaxonomyCounts[0]"
   ]
  },
  {
   "cell_type": "code",
   "execution_count": 17,
   "id": "0b96d292",
   "metadata": {},
   "outputs": [
    {
     "name": "stdout",
     "output_type": "stream",
     "text": [
      "9\n",
      "9\n",
      "\n"
     ]
    }
   ],
   "source": [
    "print(len(df.purchaseLevel2TaxonomyPaths[0]))\n",
    "print(len(df.purchaseLevel2TaxonomyCounts[0]))\n",
    "print(df.purchaseLevel2TaxonomyPaths[0][-1])"
   ]
  },
  {
   "cell_type": "markdown",
   "id": "cb1c062e",
   "metadata": {},
   "source": [
    "Attributions"
   ]
  },
  {
   "cell_type": "markdown",
   "id": "9c2afc16",
   "metadata": {},
   "source": [
    "```sql\n",
    "with tmp as ( \n",
    "    select attr_strs\n",
    "    from `etsy-search-ml-dev.yzhang.taxo_diversity_raw_train_web_07_03`, unnest(attributions) as attr_strs\n",
    ")\n",
    "select attr_strs, count(*) as cnt\n",
    "from tmp\n",
    "group by attr_strs\n",
    "```"
   ]
  },
  {
   "cell_type": "code",
   "execution_count": 8,
   "id": "eaa0594f",
   "metadata": {
    "scrolled": true
   },
   "outputs": [],
   "source": [
    "tmp = list(df.attributions.values)\n",
    "labels = [item for sublist in tmp for item in sublist]"
   ]
  },
  {
   "cell_type": "code",
   "execution_count": 10,
   "id": "5dc18405",
   "metadata": {},
   "outputs": [
    {
     "data": {
      "text/plain": [
       "21407343"
      ]
     },
     "execution_count": 10,
     "metadata": {},
     "output_type": "execute_result"
    }
   ],
   "source": [
    "len(labels)"
   ]
  },
  {
   "cell_type": "code",
   "execution_count": 11,
   "id": "bfd47d11",
   "metadata": {},
   "outputs": [
    {
     "data": {
      "text/plain": [
       "Counter({'no_event': 20696937,\n",
       "         'click': 615718,\n",
       "         'fav': 6399,\n",
       "         'cart_add': 62463,\n",
       "         'purchase': 25826})"
      ]
     },
     "execution_count": 11,
     "metadata": {},
     "output_type": "execute_result"
    }
   ],
   "source": [
    "Counter(labels)"
   ]
  },
  {
   "cell_type": "markdown",
   "id": "fd80020d",
   "metadata": {},
   "source": [
    "Distribution of number of taxonomies per query"
   ]
  },
  {
   "cell_type": "code",
   "execution_count": 17,
   "id": "54c03d7c",
   "metadata": {},
   "outputs": [],
   "source": [
    "df['feature_length'] = df.purchaseLevel2TaxonomyPaths.apply(lambda x: len(x))"
   ]
  },
  {
   "cell_type": "code",
   "execution_count": 23,
   "id": "92df2bf6",
   "metadata": {},
   "outputs": [
    {
     "data": {
      "text/plain": [
       "(46160549, 6)"
      ]
     },
     "execution_count": 23,
     "metadata": {},
     "output_type": "execute_result"
    }
   ],
   "source": [
    "df.shape"
   ]
  },
  {
   "cell_type": "code",
   "execution_count": 19,
   "id": "60552750",
   "metadata": {},
   "outputs": [
    {
     "data": {
      "text/plain": [
       "Index(['query', 'query_bin', 'attributions', 'purchaseLevel2TaxonomyPaths',\n",
       "       'purchaseLevel2TaxonomyCounts', 'feature_length'],\n",
       "      dtype='object')"
      ]
     },
     "execution_count": 19,
     "metadata": {},
     "output_type": "execute_result"
    }
   ],
   "source": [
    "df.columns"
   ]
  },
  {
   "cell_type": "code",
   "execution_count": 22,
   "id": "67e68e4c",
   "metadata": {},
   "outputs": [],
   "source": [
    "df = df[~df.query_bin.isna()]"
   ]
  },
  {
   "cell_type": "code",
   "execution_count": 27,
   "id": "fd375ca8",
   "metadata": {},
   "outputs": [
    {
     "data": {
      "text/plain": [
       "<Axes: xlabel='query_bin', ylabel='feature_length'>"
      ]
     },
     "execution_count": 27,
     "metadata": {},
     "output_type": "execute_result"
    },
    {
     "data": {
      "image/png": "[encoded data removed]",
      "text/plain": [
       "<Figure size 640x480 with 1 Axes>"
      ]
     },
     "metadata": {},
     "output_type": "display_data"
    }
   ],
   "source": [
    "sns.boxplot(x = df.query_bin, y=np.log(df.feature_length), order=[\"top.01\", \"top.1\", \"head\", \"torso\", \"tail\"])"
   ]
  },
  {
   "cell_type": "code",
   "execution_count": 9,
   "id": "2345f329",
   "metadata": {},
   "outputs": [
    {
     "data": {
      "image/png": "[encoded data removed]",
      "text/plain": [
       "<Figure size 640x480 with 1 Axes>"
      ]
     },
     "metadata": {},
     "output_type": "display_data"
    }
   ],
   "source": [
    "bins = [2, 3, 4, 5, 6, 10, 20, 50, 100]\n",
    "bin_labels = [\"2\", \"3\", \"4\", \"5\", \"6-10\", \"10-20\", \"20-50\", \"50-100\"]\n",
    "\n",
    "hist_values = np.histogram(df.feature_length, bins = bins)[0]\n",
    "percentage = [\"{0:.0%}\".format(x) for x in np.round(hist_values / df.shape[0], 5)]\n",
    "\n",
    "ax = plt.bar(x=bin_labels, height=hist_values)\n",
    "for x, y, p in zip(bin_labels, hist_values, percentage):\n",
    "    plt.text(x, y, p)\n",
    "\n",
    "plt.show()"
   ]
  },
  {
   "cell_type": "code",
   "execution_count": 10,
   "id": "dbdc9228",
   "metadata": {
    "scrolled": true
   },
   "outputs": [
    {
     "data": {
      "text/plain": [
       "array([8987997, 4585246, 2951371, 1834099, 3447235, 2075896, 1035853,\n",
       "         74762])"
      ]
     },
     "execution_count": 10,
     "metadata": {},
     "output_type": "execute_result"
    }
   ],
   "source": [
    "hist_values"
   ]
  },
  {
   "cell_type": "code",
   "execution_count": null,
   "id": "023e0910",
   "metadata": {},
   "outputs": [],
   "source": []
  },
  {
   "cell_type": "code",
   "execution_count": 4,
   "id": "5a75c0c0",
   "metadata": {},
   "outputs": [
    {
     "name": "stderr",
     "output_type": "stream",
     "text": [
      "Query complete after 0.02s: 100%|██████████████████████████████████████████████████████████████████| 1/1 [00:00<00:00, 559.61query/s]\n",
      "Downloading: 100%|█████████████████████████████████████████████████████████████████| 46708584/46708584 [04:18<00:00, 180745.10rows/s]\n"
     ]
    }
   ],
   "source": [
    "%%bigquery df\n",
    "select query, clickLevel2TaxonomyPaths, clickLevel2TaxonomyCounts\n",
    "from `etsy-search-ml-dev.yzhang.taxo_diversity_raw_train_web_07_03`\n",
    "where array_length(clickLevel2TaxonomyPaths) > 1"
   ]
  },
  {
   "cell_type": "code",
   "execution_count": 5,
   "id": "082b8842",
   "metadata": {},
   "outputs": [
    {
     "data": {
      "text/html": [
       "<div>\n",
       "<style scoped>\n",
       "    .dataframe tbody tr th:only-of-type {\n",
       "        vertical-align: middle;\n",
       "    }\n",
       "\n",
       "    .dataframe tbody tr th {\n",
       "        vertical-align: top;\n",
       "    }\n",
       "\n",
       "    .dataframe thead th {\n",
       "        text-align: right;\n",
       "    }\n",
       "</style>\n",
       "<table border=\"1\" class=\"dataframe\">\n",
       "  <thead>\n",
       "    <tr style=\"text-align: right;\">\n",
       "      <th></th>\n",
       "      <th>query</th>\n",
       "      <th>clickLevel2TaxonomyPaths</th>\n",
       "      <th>clickLevel2TaxonomyCounts</th>\n",
       "    </tr>\n",
       "  </thead>\n",
       "  <tbody>\n",
       "    <tr>\n",
       "      <th>0</th>\n",
       "      <td>nirvana sweatshirt</td>\n",
       "      <td>[clothing.gender_neutral_adult_clothing, weddi...</td>\n",
       "      <td>[1938, 267, 144, 103, 15, 10, 4, 3, 2, 2, 1, 1...</td>\n",
       "    </tr>\n",
       "    <tr>\n",
       "      <th>1</th>\n",
       "      <td>beer shirt</td>\n",
       "      <td>[clothing.gender_neutral_adult_clothing, cloth...</td>\n",
       "      <td>[868, 128, 87, 34, 8, 5, 4, 3]</td>\n",
       "    </tr>\n",
       "    <tr>\n",
       "      <th>2</th>\n",
       "      <td>dxf</td>\n",
       "      <td>[craft_supplies_and_tools.patterns_and_how_to,...</td>\n",
       "      <td>[879, 433, 144, 118, 98, 75, 70, 28, 8, 7, 7, ...</td>\n",
       "    </tr>\n",
       "    <tr>\n",
       "      <th>3</th>\n",
       "      <td>invitation wedding</td>\n",
       "      <td>[weddings.invitations_and_paper, paper_and_par...</td>\n",
       "      <td>[932, 95, 12, 4, 2, 1, 1]</td>\n",
       "    </tr>\n",
       "    <tr>\n",
       "      <th>4</th>\n",
       "      <td>baptism</td>\n",
       "      <td>[home_and_living.home_decor, paper_and_party_s...</td>\n",
       "      <td>[240, 231, 208, 200, 147, 140, 99, 51, 45, 41,...</td>\n",
       "    </tr>\n",
       "  </tbody>\n",
       "</table>\n",
       "</div>"
      ],
      "text/plain": [
       "                query                           clickLevel2TaxonomyPaths  \\\n",
       "0  nirvana sweatshirt  [clothing.gender_neutral_adult_clothing, weddi...   \n",
       "1          beer shirt  [clothing.gender_neutral_adult_clothing, cloth...   \n",
       "2                 dxf  [craft_supplies_and_tools.patterns_and_how_to,...   \n",
       "3  invitation wedding  [weddings.invitations_and_paper, paper_and_par...   \n",
       "4             baptism  [home_and_living.home_decor, paper_and_party_s...   \n",
       "\n",
       "                           clickLevel2TaxonomyCounts  \n",
       "0  [1938, 267, 144, 103, 15, 10, 4, 3, 2, 2, 1, 1...  \n",
       "1                     [868, 128, 87, 34, 8, 5, 4, 3]  \n",
       "2  [879, 433, 144, 118, 98, 75, 70, 28, 8, 7, 7, ...  \n",
       "3                          [932, 95, 12, 4, 2, 1, 1]  \n",
       "4  [240, 231, 208, 200, 147, 140, 99, 51, 45, 41,...  "
      ]
     },
     "execution_count": 5,
     "metadata": {},
     "output_type": "execute_result"
    }
   ],
   "source": [
    "df.head()"
   ]
  },
  {
   "cell_type": "code",
   "execution_count": 6,
   "id": "f4cc21a0",
   "metadata": {},
   "outputs": [],
   "source": [
    "df['feature_length'] = df.clickLevel2TaxonomyPaths.apply(lambda x: len(x))"
   ]
  },
  {
   "cell_type": "code",
   "execution_count": 14,
   "id": "c041b81f",
   "metadata": {},
   "outputs": [
    {
     "data": {
      "text/plain": [
       "50"
      ]
     },
     "execution_count": 14,
     "metadata": {},
     "output_type": "execute_result"
    }
   ],
   "source": [
    "df.feature_length.max()"
   ]
  },
  {
   "cell_type": "code",
   "execution_count": 17,
   "id": "ce8de867",
   "metadata": {},
   "outputs": [
    {
     "data": {
      "image/png": "[encoded data removed]",
      "text/plain": [
       "<Figure size 640x480 with 1 Axes>"
      ]
     },
     "metadata": {},
     "output_type": "display_data"
    }
   ],
   "source": [
    "bins = [2, 5, 10, 20, 51]\n",
    "bin_labels = [\"[2-5)\", \"[5-10)\", \"[10-20)\", \"[20-51)\"]\n",
    "\n",
    "hist_values = np.histogram(df.feature_length, bins = bins)[0]\n",
    "percentage = [\"{0:.0%}\".format(x) for x in np.round(hist_values / df.shape[0], 5)]\n",
    "\n",
    "ax = plt.bar(x=bin_labels, height=hist_values)\n",
    "for x, y, p in zip(bin_labels, hist_values, percentage):\n",
    "    plt.text(x, y, p)\n",
    "\n",
    "plt.show()"
   ]
  },
  {
   "cell_type": "code",
   "execution_count": null,
   "id": "504910af",
   "metadata": {},
   "outputs": [],
   "source": []
  },
  {
   "cell_type": "markdown",
   "id": "2dcc97fc",
   "metadata": {},
   "source": [
    "# Counts vs Price "
   ]
  },
  {
   "cell_type": "code",
   "execution_count": 4,
   "id": "f1444bc6",
   "metadata": {},
   "outputs": [
    {
     "name": "stderr",
     "output_type": "stream",
     "text": [
      "Query complete after 0.02s: 100%|█████████████| 1/1 [00:00<00:00, 514.64query/s]\n",
      "Downloading: 100%|████████████| 21314469/21314469 [01:16<00:00, 277739.14rows/s]\n"
     ]
    }
   ],
   "source": [
    "%%bigquery df\n",
    "select \n",
    "    query, \n",
    "    purchaseLevel2TaxonomyPaths as taxo, \n",
    "    purchaseLevel2TaxonomyCounts as cnts,\n",
    "    purchaseLevel2TaxonomyPrices  as prices,\n",
    "from `etsy-search-ml-dev.yzhang.taxo_diversity_raw_train_web_07_03`\n",
    "where array_length(purchaseLevel2TaxonomyPaths) > 1"
   ]
  },
  {
   "cell_type": "code",
   "execution_count": 5,
   "id": "8d7cc9f3",
   "metadata": {},
   "outputs": [
    {
     "data": {
      "text/html": [
       "<div>\n",
       "<style scoped>\n",
       "    .dataframe tbody tr th:only-of-type {\n",
       "        vertical-align: middle;\n",
       "    }\n",
       "\n",
       "    .dataframe tbody tr th {\n",
       "        vertical-align: top;\n",
       "    }\n",
       "\n",
       "    .dataframe thead th {\n",
       "        text-align: right;\n",
       "    }\n",
       "</style>\n",
       "<table border=\"1\" class=\"dataframe\">\n",
       "  <thead>\n",
       "    <tr style=\"text-align: right;\">\n",
       "      <th></th>\n",
       "      <th>query</th>\n",
       "      <th>taxo</th>\n",
       "      <th>cnts</th>\n",
       "      <th>prices</th>\n",
       "    </tr>\n",
       "  </thead>\n",
       "  <tbody>\n",
       "    <tr>\n",
       "      <th>0</th>\n",
       "      <td>picture frames</td>\n",
       "      <td>[home_and_living.home_decor, weddings.gifts_an...</td>\n",
       "      <td>[219, 35, 5, 2]</td>\n",
       "      <td>[18.21, 17.69, 16.76, 8.07]</td>\n",
       "    </tr>\n",
       "    <tr>\n",
       "      <th>1</th>\n",
       "      <td>wedding welcome sign</td>\n",
       "      <td>[weddings.decorations, weddings.invitations_an...</td>\n",
       "      <td>[286, 166, 16, 13, 8, 3, 2, 1, 1, 1]</td>\n",
       "      <td>[42.54, 11.9, 13.19, 63.75, 42.18, 16.87, 2.08...</td>\n",
       "    </tr>\n",
       "    <tr>\n",
       "      <th>2</th>\n",
       "      <td>30th birthday gift for her</td>\n",
       "      <td>[paper_and_party_supplies.paper, clothing.gend...</td>\n",
       "      <td>[168, 112, 101, 88, 62, 61, 54, 47, 33, 27, 19...</td>\n",
       "      <td>[4.64, 20.7, 14.22, 16.56, 35.32, 21.25, 35.77...</td>\n",
       "    </tr>\n",
       "    <tr>\n",
       "      <th>3</th>\n",
       "      <td>tshirt</td>\n",
       "      <td>[clothing.gender_neutral_adult_clothing, , clo...</td>\n",
       "      <td>[138, 52, 23, 14, 10, 4, 2, 2, 2, 2, 2]</td>\n",
       "      <td>[19.74, 16.74, 17.04, 19.73, 10.32, 8.03, 30.0...</td>\n",
       "    </tr>\n",
       "    <tr>\n",
       "      <th>4</th>\n",
       "      <td>croc charm</td>\n",
       "      <td>[jewelry.brooches_pins_and_clips, craft_suppli...</td>\n",
       "      <td>[462, 329, 126, 39, 17]</td>\n",
       "      <td>[4.6, 2.52, 9.31, 3.44, 3.22]</td>\n",
       "    </tr>\n",
       "  </tbody>\n",
       "</table>\n",
       "</div>"
      ],
      "text/plain": [
       "                        query  \\\n",
       "0              picture frames   \n",
       "1        wedding welcome sign   \n",
       "2  30th birthday gift for her   \n",
       "3                      tshirt   \n",
       "4                  croc charm   \n",
       "\n",
       "                                                taxo  \\\n",
       "0  [home_and_living.home_decor, weddings.gifts_an...   \n",
       "1  [weddings.decorations, weddings.invitations_an...   \n",
       "2  [paper_and_party_supplies.paper, clothing.gend...   \n",
       "3  [clothing.gender_neutral_adult_clothing, , clo...   \n",
       "4  [jewelry.brooches_pins_and_clips, craft_suppli...   \n",
       "\n",
       "                                                cnts  \\\n",
       "0                                    [219, 35, 5, 2]   \n",
       "1               [286, 166, 16, 13, 8, 3, 2, 1, 1, 1]   \n",
       "2  [168, 112, 101, 88, 62, 61, 54, 47, 33, 27, 19...   \n",
       "3            [138, 52, 23, 14, 10, 4, 2, 2, 2, 2, 2]   \n",
       "4                            [462, 329, 126, 39, 17]   \n",
       "\n",
       "                                              prices  \n",
       "0                        [18.21, 17.69, 16.76, 8.07]  \n",
       "1  [42.54, 11.9, 13.19, 63.75, 42.18, 16.87, 2.08...  \n",
       "2  [4.64, 20.7, 14.22, 16.56, 35.32, 21.25, 35.77...  \n",
       "3  [19.74, 16.74, 17.04, 19.73, 10.32, 8.03, 30.0...  \n",
       "4                      [4.6, 2.52, 9.31, 3.44, 3.22]  "
      ]
     },
     "execution_count": 5,
     "metadata": {},
     "output_type": "execute_result"
    }
   ],
   "source": [
    "df.head()"
   ]
  },
  {
   "cell_type": "code",
   "execution_count": 7,
   "id": "793026be",
   "metadata": {},
   "outputs": [],
   "source": [
    "df_sub = df[110000:120000].reset_index(inplace=False)"
   ]
  },
  {
   "cell_type": "code",
   "execution_count": 8,
   "id": "6b1389c7",
   "metadata": {},
   "outputs": [],
   "source": [
    "std_counts = df_sub.cnts.apply(min_max_standardize)\n",
    "std_prices = df_sub.prices.apply(min_max_standardize)"
   ]
  },
  {
   "cell_type": "code",
   "execution_count": 9,
   "id": "1e265344",
   "metadata": {},
   "outputs": [
    {
     "name": "stdout",
     "output_type": "stream",
     "text": [
      "[nan nan nan nan nan nan nan nan]\n",
      "[nan nan nan]\n",
      "[nan nan nan nan nan]\n",
      "[nan nan nan nan]\n",
      "[nan nan nan nan nan]\n",
      "[nan nan nan nan]\n",
      "[nan nan nan nan]\n",
      "[nan nan nan]\n",
      "[nan nan nan nan nan]\n",
      "[nan nan nan nan]\n",
      "[nan nan nan]\n",
      "[nan nan nan]\n",
      "[nan nan nan nan]\n",
      "[nan nan nan nan]\n",
      "[nan nan nan nan nan]\n",
      "[nan nan nan nan]\n",
      "[nan nan nan nan]\n",
      "[nan nan nan]\n"
     ]
    }
   ],
   "source": [
    "corr_seq = []\n",
    "for i in range(df_sub.shape[0]):\n",
    "    curr_cnts = std_counts[i]\n",
    "    curr_prices = std_prices[i]\n",
    "    if len(curr_cnts) > 2:\n",
    "        try:\n",
    "            curr_corr, _ = pearsonr(curr_cnts, curr_prices)\n",
    "            corr_seq.append(curr_corr)\n",
    "        except:\n",
    "            print(curr_cnts)"
   ]
  },
  {
   "cell_type": "code",
   "execution_count": 10,
   "id": "bb297763",
   "metadata": {},
   "outputs": [
    {
     "data": {
      "text/plain": [
       "(array([ 243.,  181.,  386.,  764., 1609., 1362.,  877.,  701.,  665.,\n",
       "         776.]),\n",
       " array([-9.99996610e-01, -7.99996949e-01, -5.99997288e-01, -3.99997627e-01,\n",
       "        -1.99997966e-01,  1.69503361e-06,  2.00001356e-01,  4.00001017e-01,\n",
       "         6.00000678e-01,  8.00000339e-01,  1.00000000e+00]),\n",
       " <BarContainer object of 10 artists>)"
      ]
     },
     "execution_count": 10,
     "metadata": {},
     "output_type": "execute_result"
    },
    {
     "data": {
      "image/png": "[encoded data removed]",
      "text/plain": [
       "<Figure size 640x480 with 1 Axes>"
      ]
     },
     "metadata": {},
     "output_type": "display_data"
    }
   ],
   "source": [
    "plt.hist(corr_seq)"
   ]
  },
  {
   "cell_type": "code",
   "execution_count": 11,
   "id": "18a0697c",
   "metadata": {},
   "outputs": [
    {
     "name": "stdout",
     "output_type": "stream",
     "text": [
      "7564\n",
      "0.1336769848501378\n",
      "0.08317793250804395\n"
     ]
    }
   ],
   "source": [
    "print(len(corr_seq))\n",
    "print(np.mean(corr_seq))\n",
    "print(np.median(corr_seq))"
   ]
  },
  {
   "cell_type": "code",
   "execution_count": 12,
   "id": "47dd159c",
   "metadata": {},
   "outputs": [
    {
     "data": {
      "text/plain": [
       "TtestResult(statistic=25.20590130594515, pvalue=1.1089738037777045e-134, df=7563)"
      ]
     },
     "execution_count": 12,
     "metadata": {},
     "output_type": "execute_result"
    }
   ],
   "source": [
    "ttest_1samp(corr_seq, popmean=0.)"
   ]
  },
  {
   "cell_type": "markdown",
   "id": "dfc8c5a7",
   "metadata": {},
   "source": [
    "How about clicks"
   ]
  },
  {
   "cell_type": "code",
   "execution_count": 6,
   "id": "dd82e21f",
   "metadata": {},
   "outputs": [
    {
     "name": "stderr",
     "output_type": "stream",
     "text": [
      "Query complete after 0.02s: 100%|█████████████| 1/1 [00:00<00:00, 489.99query/s]\n",
      "Downloading: 100%|████████████| 46708584/46708584 [05:00<00:00, 155424.83rows/s]\n"
     ]
    }
   ],
   "source": [
    "%%bigquery clicks_df\n",
    "select\n",
    "    query, \n",
    "    clickLevel2TaxonomyPaths as taxo, \n",
    "    clickLevel2TaxonomyCounts as cnts,\n",
    "    clickLevel2TaxonomyPrices  as prices,\n",
    "from `etsy-search-ml-dev.yzhang.taxo_diversity_raw_train_web_07_03`\n",
    "where array_length(clickLevel2TaxonomyPaths) > 1"
   ]
  },
  {
   "cell_type": "code",
   "execution_count": 12,
   "id": "5e95b3ec",
   "metadata": {},
   "outputs": [],
   "source": [
    "df_sub = clicks_df[90000:100000].reset_index(inplace=False)\n",
    "std_counts = df_sub.cnts.apply(min_max_standardize)\n",
    "std_prices = df_sub.prices.apply(min_max_standardize)"
   ]
  },
  {
   "cell_type": "code",
   "execution_count": 13,
   "id": "13d0cf54",
   "metadata": {},
   "outputs": [
    {
     "name": "stdout",
     "output_type": "stream",
     "text": [
      "[nan nan nan]\n",
      "[nan nan nan nan]\n",
      "[nan nan nan]\n",
      "[nan nan nan]\n",
      "[nan nan nan nan]\n",
      "[nan nan nan nan nan]\n",
      "[nan nan nan nan nan]\n"
     ]
    }
   ],
   "source": [
    "corr_seq = []\n",
    "for i in range(df_sub.shape[0]):\n",
    "    curr_cnts = std_counts[i]\n",
    "    curr_prices = std_prices[i]\n",
    "    if len(curr_cnts) > 2:\n",
    "        try:\n",
    "            curr_corr, _ = pearsonr(curr_cnts, curr_prices)\n",
    "            corr_seq.append(curr_corr)\n",
    "        except:\n",
    "            print(curr_cnts)"
   ]
  },
  {
   "cell_type": "code",
   "execution_count": 14,
   "id": "4986bc87",
   "metadata": {},
   "outputs": [
    {
     "data": {
      "text/plain": [
       "(array([ 158.,  142.,  338.,  816., 3219., 1771.,  951.,  663.,  427.,\n",
       "         488.]),\n",
       " array([-9.99948289e-01, -7.99953697e-01, -5.99959105e-01, -3.99964514e-01,\n",
       "        -1.99969922e-01,  2.46694341e-05,  2.00019261e-01,  4.00013853e-01,\n",
       "         6.00008444e-01,  8.00003036e-01,  9.99997628e-01]),\n",
       " <BarContainer object of 10 artists>)"
      ]
     },
     "execution_count": 14,
     "metadata": {},
     "output_type": "execute_result"
    },
    {
     "data": {
      "image/png": "[encoded data removed]",
      "text/plain": [
       "<Figure size 640x480 with 1 Axes>"
      ]
     },
     "metadata": {},
     "output_type": "display_data"
    }
   ],
   "source": [
    "plt.hist(corr_seq)"
   ]
  },
  {
   "cell_type": "code",
   "execution_count": 15,
   "id": "19af82d4",
   "metadata": {},
   "outputs": [
    {
     "name": "stdout",
     "output_type": "stream",
     "text": [
      "8973\n",
      "0.06578197951081227\n",
      "-0.014023207404945365\n",
      "TtestResult(statistic=16.745261869510696, pvalue=5.325849979366155e-62, df=8972)\n"
     ]
    }
   ],
   "source": [
    "print(len(corr_seq))\n",
    "print(np.mean(corr_seq))\n",
    "print(np.median(corr_seq))\n",
    "print(ttest_1samp(corr_seq, popmean=0.))"
   ]
  },
  {
   "cell_type": "code",
   "execution_count": null,
   "id": "01c73dd2",
   "metadata": {},
   "outputs": [],
   "source": []
  },
  {
   "cell_type": "markdown",
   "id": "7b10f054",
   "metadata": {},
   "source": [
    "# Feature lengths & query type"
   ]
  },
  {
   "cell_type": "code",
   "execution_count": 5,
   "id": "bb8d86c5",
   "metadata": {},
   "outputs": [
    {
     "name": "stderr",
     "output_type": "stream",
     "text": [
      "Query complete after 0.02s: 100%|█████████████| 1/1 [00:00<00:00, 493.62query/s]\n",
      "Downloading: 100%|████████████| 38511144/38511144 [01:32<00:00, 415769.11rows/s]\n"
     ]
    }
   ],
   "source": [
    "%%bigquery qt_df\n",
    "with query_session as (\n",
    "  select distinct query, query_raw\n",
    "  from `etsy-data-warehouse-prod.search.query_sessions_new`\n",
    "  where _date = date('2023-07-03')\n",
    "),\n",
    "query_intent as (\n",
    "  select query_raw,\n",
    "    case\n",
    "      when abs(inference.confidence) > 0.8 then inference.label\n",
    "      else 'uncertain'\n",
    "    end as intent_label,\n",
    "    inference.confidence as score\n",
    "  from `etsy-data-warehouse-prod.arizona.query_intent_labels`\n",
    "),\n",
    "query_intent_table as (\n",
    "  select distinct query, qs.query_raw, intent_label\n",
    "  from query_session qs\n",
    "  join query_intent qi\n",
    "  on qs.query_raw = qi.query_raw\n",
    "  qualify row_number() over (partition by query order by score desc) = 1\n",
    "),\n",
    "fl as (\n",
    "  select\n",
    "      query, \n",
    "      purchaseLevel2TaxonomyPaths as taxo, \n",
    "      purchaseLevel2TaxonomyCounts as cnts,\n",
    "      purchaseLevel2TaxonomyPrices  as prices,\n",
    "  from `etsy-search-ml-dev.yzhang.taxo_diversity_raw_train_web_07_03`\n",
    ")\n",
    "select fl.*, qit.intent_label\n",
    "from fl\n",
    "join query_intent_table qit\n",
    "on fl.query = qit.query\n",
    "where array_length(taxo) > 0"
   ]
  },
  {
   "cell_type": "code",
   "execution_count": 6,
   "id": "9ad969ad",
   "metadata": {},
   "outputs": [
    {
     "data": {
      "text/html": [
       "<div>\n",
       "<style scoped>\n",
       "    .dataframe tbody tr th:only-of-type {\n",
       "        vertical-align: middle;\n",
       "    }\n",
       "\n",
       "    .dataframe tbody tr th {\n",
       "        vertical-align: top;\n",
       "    }\n",
       "\n",
       "    .dataframe thead th {\n",
       "        text-align: right;\n",
       "    }\n",
       "</style>\n",
       "<table border=\"1\" class=\"dataframe\">\n",
       "  <thead>\n",
       "    <tr style=\"text-align: right;\">\n",
       "      <th></th>\n",
       "      <th>query</th>\n",
       "      <th>taxo</th>\n",
       "      <th>cnts</th>\n",
       "      <th>prices</th>\n",
       "      <th>intent_label</th>\n",
       "      <th>feature_length</th>\n",
       "    </tr>\n",
       "  </thead>\n",
       "  <tbody>\n",
       "    <tr>\n",
       "      <th>0</th>\n",
       "      <td>custom portrait</td>\n",
       "      <td>[art_and_collectibles.prints, art_and_collecti...</td>\n",
       "      <td>[197, 50, 35, 15]</td>\n",
       "      <td>[22.31, 18.85, 21.7, 23.4]</td>\n",
       "      <td>Direct</td>\n",
       "      <td>4</td>\n",
       "    </tr>\n",
       "    <tr>\n",
       "      <th>1</th>\n",
       "      <td>bar sign</td>\n",
       "      <td>[home_and_living.home_decor, weddings.decorati...</td>\n",
       "      <td>[241, 66, 24, 7, 3]</td>\n",
       "      <td>[38.06, 16.96, 10.73, 43.77, 9.14]</td>\n",
       "      <td>Direct</td>\n",
       "      <td>5</td>\n",
       "    </tr>\n",
       "    <tr>\n",
       "      <th>2</th>\n",
       "      <td>bar sign</td>\n",
       "      <td>[home_and_living.home_decor, weddings.decorati...</td>\n",
       "      <td>[241, 66, 24, 7, 3]</td>\n",
       "      <td>[38.06, 16.96, 10.73, 43.77, 9.14]</td>\n",
       "      <td>Direct</td>\n",
       "      <td>5</td>\n",
       "    </tr>\n",
       "    <tr>\n",
       "      <th>3</th>\n",
       "      <td>cat earring</td>\n",
       "      <td>[jewelry.earrings]</td>\n",
       "      <td>[253]</td>\n",
       "      <td>[13.95]</td>\n",
       "      <td>Direct</td>\n",
       "      <td>1</td>\n",
       "    </tr>\n",
       "    <tr>\n",
       "      <th>4</th>\n",
       "      <td>crochet blanket pattern</td>\n",
       "      <td>[craft_supplies_and_tools.patterns_and_how_to, ]</td>\n",
       "      <td>[244, 9]</td>\n",
       "      <td>[4.74, 3.83]</td>\n",
       "      <td>Direct</td>\n",
       "      <td>2</td>\n",
       "    </tr>\n",
       "  </tbody>\n",
       "</table>\n",
       "</div>"
      ],
      "text/plain": [
       "                     query                                               taxo  \\\n",
       "0          custom portrait  [art_and_collectibles.prints, art_and_collecti...   \n",
       "1                 bar sign  [home_and_living.home_decor, weddings.decorati...   \n",
       "2                 bar sign  [home_and_living.home_decor, weddings.decorati...   \n",
       "3              cat earring                                 [jewelry.earrings]   \n",
       "4  crochet blanket pattern   [craft_supplies_and_tools.patterns_and_how_to, ]   \n",
       "\n",
       "                  cnts                              prices intent_label  \\\n",
       "0    [197, 50, 35, 15]          [22.31, 18.85, 21.7, 23.4]       Direct   \n",
       "1  [241, 66, 24, 7, 3]  [38.06, 16.96, 10.73, 43.77, 9.14]       Direct   \n",
       "2  [241, 66, 24, 7, 3]  [38.06, 16.96, 10.73, 43.77, 9.14]       Direct   \n",
       "3                [253]                             [13.95]       Direct   \n",
       "4             [244, 9]                        [4.74, 3.83]       Direct   \n",
       "\n",
       "   feature_length  \n",
       "0               4  \n",
       "1               5  \n",
       "2               5  \n",
       "3               1  \n",
       "4               2  "
      ]
     },
     "execution_count": 6,
     "metadata": {},
     "output_type": "execute_result"
    }
   ],
   "source": [
    "qt_df[\"feature_length\"] = qt_df.taxo.apply(len)\n",
    "qt_df.head()"
   ]
  },
  {
   "cell_type": "code",
   "execution_count": 9,
   "id": "cd4f3751",
   "metadata": {},
   "outputs": [
    {
     "data": {
      "text/plain": [
       "<Axes: xlabel='intent_label', ylabel='feature_length'>"
      ]
     },
     "execution_count": 9,
     "metadata": {},
     "output_type": "execute_result"
    },
    {
     "data": {
      "image/png": "[encoded data removed]",
      "text/plain": [
       "<Figure size 640x480 with 1 Axes>"
      ]
     },
     "metadata": {},
     "output_type": "display_data"
    }
   ],
   "source": [
    "sns.boxplot(x = qt_df.intent_label, y=np.log(qt_df.feature_length))"
   ]
  },
  {
   "cell_type": "code",
   "execution_count": 10,
   "id": "e31fc586",
   "metadata": {},
   "outputs": [
    {
     "data": {
      "text/plain": [
       "intent_label\n",
       "Direct       20658998\n",
       "Broad        11058952\n",
       "uncertain     6793194\n",
       "Name: count, dtype: int64"
      ]
     },
     "execution_count": 10,
     "metadata": {},
     "output_type": "execute_result"
    }
   ],
   "source": [
    "qt_df.intent_label.value_counts()"
   ]
  },
  {
   "cell_type": "code",
   "execution_count": 12,
   "id": "463a42ad",
   "metadata": {},
   "outputs": [],
   "source": [
    "feature_length_direct = qt_df[qt_df.intent_label == \"Direct\"].feature_length.values\n",
    "feature_length_broad = qt_df[qt_df.intent_label == \"Broad\"].feature_length.values"
   ]
  },
  {
   "cell_type": "code",
   "execution_count": 15,
   "id": "13e34f24",
   "metadata": {},
   "outputs": [
    {
     "data": {
      "text/plain": [
       "Ttest_indResult(statistic=-1321.0055614459802, pvalue=0.0)"
      ]
     },
     "execution_count": 15,
     "metadata": {},
     "output_type": "execute_result"
    }
   ],
   "source": [
    "ttest_ind(feature_length_direct, feature_length_broad, equal_var=False)"
   ]
  },
  {
   "cell_type": "code",
   "execution_count": 16,
   "id": "2aa6ddfc",
   "metadata": {},
   "outputs": [
    {
     "name": "stdout",
     "output_type": "stream",
     "text": [
      "1.0\n",
      "2.2431492079141497\n",
      "2.0\n",
      "5.4093466541856765\n"
     ]
    }
   ],
   "source": [
    "print(np.median(feature_length_direct))\n",
    "print(np.mean(feature_length_direct))\n",
    "print(np.median(feature_length_broad))\n",
    "print(np.mean(feature_length_broad))"
   ]
  },
  {
   "cell_type": "code",
   "execution_count": null,
   "id": "483dcdb3",
   "metadata": {},
   "outputs": [],
   "source": []
  },
  {
   "cell_type": "markdown",
   "id": "201ff7c3",
   "metadata": {},
   "source": [
    "# Empty strings in taxonomy"
   ]
  },
  {
   "cell_type": "markdown",
   "id": "02c57063",
   "metadata": {},
   "source": [
    "```sql\n",
    "with fl as (\n",
    "    select\n",
    "      attributions,\n",
    "      ctx.docInfo.queryInfo.query, \n",
    "      ctx.docInfo.queryInfo.queryTaxoDemandFeatures.*,\n",
    "    from `etsy-ml-systems-prod.attributed_instance.query_pipeline_web_organic_2023_07_16`, \n",
    "    unnest(contextualInfo) as ctx\n",
    "    where ctx.docInfo.queryInfo.query is not null\n",
    "    and (\n",
    "        \"\" in unnest(ctx.docInfo.queryInfo.queryTaxoDemandFeatures.purchaseLevel2TaxonomyPaths)\n",
    "        -- \"\" in unnest(ctx.docInfo.queryInfo.queryTaxoDemandFeatures.clickLevel2TaxonomyPaths)\n",
    "    )\n",
    "),\n",
    "query_gms as (\n",
    "  select query, sum(attributed_gms) as gms\n",
    "  from `etsy-data-warehouse-prod.search.query_sessions_new`\n",
    "  where _date = date('2023-07-16')\n",
    "  group by query\n",
    "),\n",
    "output_table as (\n",
    "  select fl.*, gms\n",
    "  from fl\n",
    "  left join query_gms\n",
    "  on fl.query = query_gms.query\n",
    "),\n",
    "tmp as (\n",
    "  select distinct query, gms\n",
    "  from output_table\n",
    ")\n",
    "select sum(gms) from tmp\n",
    "```"
   ]
  },
  {
   "cell_type": "markdown",
   "id": "222d5af0",
   "metadata": {},
   "source": [
    "+ total GMS 93662392\n",
    "+ queries with empty string in purchase taxos account for 7633958 GMS - 8.2%\n",
    "+ queries with empty string in click taxos account for 7633958 GMS - 27.0%\n",
    "+ union of purchase & click: 25728029 GMS - 27.5%"
   ]
  },
  {
   "cell_type": "code",
   "execution_count": 78,
   "id": "e1bbfa69",
   "metadata": {},
   "outputs": [
    {
     "name": "stderr",
     "output_type": "stream",
     "text": [
      "Query complete after 0.00s: 100%|████████████| 4/4 [00:00<00:00, 1945.41query/s]\n",
      "Downloading: 100%|█████████████████| 500000/500000 [00:10<00:00, 47017.02rows/s]\n"
     ]
    }
   ],
   "source": [
    "%%bigquery df\n",
    "select\n",
    "    attributions,\n",
    "    ctx.docInfo.queryInfo.query, \n",
    "    ctx.docInfo.queryInfo.queryTaxoDemandFeatures.*,\n",
    "from `etsy-ml-systems-prod.attributed_instance.query_pipeline_web_organic_2023_07_16`, \n",
    "unnest(contextualInfo) as ctx\n",
    "where ctx.docInfo.queryInfo.query is not null\n",
    "and array_length(ctx.docInfo.queryInfo.queryTaxoDemandFeatures.purchaseTopTaxonomyPaths) > 0\n",
    "# and (\n",
    "#     \"\" in unnest(ctx.docInfo.queryInfo.queryTaxoDemandFeatures.purchaseLevel2TaxonomyPaths)\n",
    "# #     or \"\" in unnest(ctx.docInfo.queryInfo.queryTaxoDemandFeatures.clickLevel2TaxonomyPaths)\n",
    "# )\n",
    "limit 500000"
   ]
  },
  {
   "cell_type": "code",
   "execution_count": 79,
   "id": "2aff56a0",
   "metadata": {},
   "outputs": [
    {
     "data": {
      "text/html": [
       "<div>\n",
       "<style scoped>\n",
       "    .dataframe tbody tr th:only-of-type {\n",
       "        vertical-align: middle;\n",
       "    }\n",
       "\n",
       "    .dataframe tbody tr th {\n",
       "        vertical-align: top;\n",
       "    }\n",
       "\n",
       "    .dataframe thead th {\n",
       "        text-align: right;\n",
       "    }\n",
       "</style>\n",
       "<table border=\"1\" class=\"dataframe\">\n",
       "  <thead>\n",
       "    <tr style=\"text-align: right;\">\n",
       "      <th></th>\n",
       "      <th>attributions</th>\n",
       "      <th>query</th>\n",
       "      <th>purchaseTopTaxonomyPaths</th>\n",
       "      <th>purchaseTopTaxonomyCounts</th>\n",
       "      <th>purchaseLevel2TaxonomyPaths</th>\n",
       "      <th>purchaseLevel2TaxonomyCounts</th>\n",
       "    </tr>\n",
       "  </thead>\n",
       "  <tbody>\n",
       "    <tr>\n",
       "      <th>58</th>\n",
       "      <td>[no_event]</td>\n",
       "      <td>girl backpack</td>\n",
       "      <td>[bags_and_purses]</td>\n",
       "      <td>[31]</td>\n",
       "      <td>[bags_and_purses.backpacks, ]</td>\n",
       "      <td>[30, 1]</td>\n",
       "    </tr>\n",
       "    <tr>\n",
       "      <th>59</th>\n",
       "      <td>[no_event]</td>\n",
       "      <td>girl backpack</td>\n",
       "      <td>[bags_and_purses]</td>\n",
       "      <td>[31]</td>\n",
       "      <td>[bags_and_purses.backpacks, ]</td>\n",
       "      <td>[30, 1]</td>\n",
       "    </tr>\n",
       "    <tr>\n",
       "      <th>60</th>\n",
       "      <td>[no_event]</td>\n",
       "      <td>girl backpack</td>\n",
       "      <td>[bags_and_purses]</td>\n",
       "      <td>[31]</td>\n",
       "      <td>[bags_and_purses.backpacks, ]</td>\n",
       "      <td>[30, 1]</td>\n",
       "    </tr>\n",
       "    <tr>\n",
       "      <th>102</th>\n",
       "      <td>[no_event]</td>\n",
       "      <td>birthday card</td>\n",
       "      <td>[paper_and_party_supplies]</td>\n",
       "      <td>[2236]</td>\n",
       "      <td>[paper_and_party_supplies.paper, , art_and_col...</td>\n",
       "      <td>[2231, 6, 6]</td>\n",
       "    </tr>\n",
       "    <tr>\n",
       "      <th>103</th>\n",
       "      <td>[no_event]</td>\n",
       "      <td>birthday card</td>\n",
       "      <td>[paper_and_party_supplies]</td>\n",
       "      <td>[2236]</td>\n",
       "      <td>[paper_and_party_supplies.paper, , art_and_col...</td>\n",
       "      <td>[2231, 6, 6]</td>\n",
       "    </tr>\n",
       "    <tr>\n",
       "      <th>...</th>\n",
       "      <td>...</td>\n",
       "      <td>...</td>\n",
       "      <td>...</td>\n",
       "      <td>...</td>\n",
       "      <td>...</td>\n",
       "      <td>...</td>\n",
       "    </tr>\n",
       "    <tr>\n",
       "      <th>499965</th>\n",
       "      <td>[no_event]</td>\n",
       "      <td>vespa</td>\n",
       "      <td>[accessories, clothing, paper_and_party_suppli...</td>\n",
       "      <td>[11, 8, 3, 3, 1, 1, 1, 1]</td>\n",
       "      <td>[accessories.keychains_and_lanyards, clothing....</td>\n",
       "      <td>[9, 6, 3, 2, 2, 1, 1, 1, 1, 1, 1, 1]</td>\n",
       "    </tr>\n",
       "    <tr>\n",
       "      <th>499966</th>\n",
       "      <td>[no_event]</td>\n",
       "      <td>vespa</td>\n",
       "      <td>[accessories, clothing, paper_and_party_suppli...</td>\n",
       "      <td>[11, 8, 3, 3, 1, 1, 1, 1]</td>\n",
       "      <td>[accessories.keychains_and_lanyards, clothing....</td>\n",
       "      <td>[9, 6, 3, 2, 2, 1, 1, 1, 1, 1, 1, 1]</td>\n",
       "    </tr>\n",
       "    <tr>\n",
       "      <th>499967</th>\n",
       "      <td>[no_event]</td>\n",
       "      <td>vespa</td>\n",
       "      <td>[accessories, clothing, paper_and_party_suppli...</td>\n",
       "      <td>[11, 8, 3, 3, 1, 1, 1, 1]</td>\n",
       "      <td>[accessories.keychains_and_lanyards, clothing....</td>\n",
       "      <td>[9, 6, 3, 2, 2, 1, 1, 1, 1, 1, 1, 1]</td>\n",
       "    </tr>\n",
       "    <tr>\n",
       "      <th>499968</th>\n",
       "      <td>[no_event]</td>\n",
       "      <td>vespa</td>\n",
       "      <td>[accessories, clothing, paper_and_party_suppli...</td>\n",
       "      <td>[11, 8, 3, 3, 1, 1, 1, 1]</td>\n",
       "      <td>[accessories.keychains_and_lanyards, clothing....</td>\n",
       "      <td>[9, 6, 3, 2, 2, 1, 1, 1, 1, 1, 1, 1]</td>\n",
       "    </tr>\n",
       "    <tr>\n",
       "      <th>499969</th>\n",
       "      <td>[no_event]</td>\n",
       "      <td>vespa</td>\n",
       "      <td>[accessories, clothing, paper_and_party_suppli...</td>\n",
       "      <td>[11, 8, 3, 3, 1, 1, 1, 1]</td>\n",
       "      <td>[accessories.keychains_and_lanyards, clothing....</td>\n",
       "      <td>[9, 6, 3, 2, 2, 1, 1, 1, 1, 1, 1, 1]</td>\n",
       "    </tr>\n",
       "  </tbody>\n",
       "</table>\n",
       "<p>48600 rows × 6 columns</p>\n",
       "</div>"
      ],
      "text/plain": [
       "       attributions          query  \\\n",
       "58       [no_event]  girl backpack   \n",
       "59       [no_event]  girl backpack   \n",
       "60       [no_event]  girl backpack   \n",
       "102      [no_event]  birthday card   \n",
       "103      [no_event]  birthday card   \n",
       "...             ...            ...   \n",
       "499965   [no_event]          vespa   \n",
       "499966   [no_event]          vespa   \n",
       "499967   [no_event]          vespa   \n",
       "499968   [no_event]          vespa   \n",
       "499969   [no_event]          vespa   \n",
       "\n",
       "                                 purchaseTopTaxonomyPaths  \\\n",
       "58                                      [bags_and_purses]   \n",
       "59                                      [bags_and_purses]   \n",
       "60                                      [bags_and_purses]   \n",
       "102                            [paper_and_party_supplies]   \n",
       "103                            [paper_and_party_supplies]   \n",
       "...                                                   ...   \n",
       "499965  [accessories, clothing, paper_and_party_suppli...   \n",
       "499966  [accessories, clothing, paper_and_party_suppli...   \n",
       "499967  [accessories, clothing, paper_and_party_suppli...   \n",
       "499968  [accessories, clothing, paper_and_party_suppli...   \n",
       "499969  [accessories, clothing, paper_and_party_suppli...   \n",
       "\n",
       "        purchaseTopTaxonomyCounts  \\\n",
       "58                           [31]   \n",
       "59                           [31]   \n",
       "60                           [31]   \n",
       "102                        [2236]   \n",
       "103                        [2236]   \n",
       "...                           ...   \n",
       "499965  [11, 8, 3, 3, 1, 1, 1, 1]   \n",
       "499966  [11, 8, 3, 3, 1, 1, 1, 1]   \n",
       "499967  [11, 8, 3, 3, 1, 1, 1, 1]   \n",
       "499968  [11, 8, 3, 3, 1, 1, 1, 1]   \n",
       "499969  [11, 8, 3, 3, 1, 1, 1, 1]   \n",
       "\n",
       "                              purchaseLevel2TaxonomyPaths  \\\n",
       "58                          [bags_and_purses.backpacks, ]   \n",
       "59                          [bags_and_purses.backpacks, ]   \n",
       "60                          [bags_and_purses.backpacks, ]   \n",
       "102     [paper_and_party_supplies.paper, , art_and_col...   \n",
       "103     [paper_and_party_supplies.paper, , art_and_col...   \n",
       "...                                                   ...   \n",
       "499965  [accessories.keychains_and_lanyards, clothing....   \n",
       "499966  [accessories.keychains_and_lanyards, clothing....   \n",
       "499967  [accessories.keychains_and_lanyards, clothing....   \n",
       "499968  [accessories.keychains_and_lanyards, clothing....   \n",
       "499969  [accessories.keychains_and_lanyards, clothing....   \n",
       "\n",
       "                purchaseLevel2TaxonomyCounts  \n",
       "58                                   [30, 1]  \n",
       "59                                   [30, 1]  \n",
       "60                                   [30, 1]  \n",
       "102                             [2231, 6, 6]  \n",
       "103                             [2231, 6, 6]  \n",
       "...                                      ...  \n",
       "499965  [9, 6, 3, 2, 2, 1, 1, 1, 1, 1, 1, 1]  \n",
       "499966  [9, 6, 3, 2, 2, 1, 1, 1, 1, 1, 1, 1]  \n",
       "499967  [9, 6, 3, 2, 2, 1, 1, 1, 1, 1, 1, 1]  \n",
       "499968  [9, 6, 3, 2, 2, 1, 1, 1, 1, 1, 1, 1]  \n",
       "499969  [9, 6, 3, 2, 2, 1, 1, 1, 1, 1, 1, 1]  \n",
       "\n",
       "[48600 rows x 6 columns]"
      ]
     },
     "execution_count": 79,
     "metadata": {},
     "output_type": "execute_result"
    }
   ],
   "source": [
    "df[df.purchaseLevel2TaxonomyPaths.apply(lambda x: \"\" in x)][\n",
    "    [\n",
    "        \"attributions\", \"query\", \n",
    "        \"purchaseTopTaxonomyPaths\", \"purchaseTopTaxonomyCounts\", \n",
    "        \"purchaseLevel2TaxonomyPaths\", \"purchaseLevel2TaxonomyCounts\"\n",
    "    ]\n",
    "]"
   ]
  },
  {
   "cell_type": "code",
   "execution_count": 80,
   "id": "dbe8dcfd",
   "metadata": {},
   "outputs": [
    {
     "data": {
      "text/plain": [
       "0"
      ]
     },
     "execution_count": 80,
     "metadata": {},
     "output_type": "execute_result"
    }
   ],
   "source": [
    "np.sum(df.purchaseTopTaxonomyPaths.apply(lambda x: len(x) == 1 and x[0] == \"\"))"
   ]
  },
  {
   "cell_type": "code",
   "execution_count": 72,
   "id": "337dfbbf",
   "metadata": {},
   "outputs": [
    {
     "data": {
      "text/html": [
       "<div>\n",
       "<style scoped>\n",
       "    .dataframe tbody tr th:only-of-type {\n",
       "        vertical-align: middle;\n",
       "    }\n",
       "\n",
       "    .dataframe tbody tr th {\n",
       "        vertical-align: top;\n",
       "    }\n",
       "\n",
       "    .dataframe thead th {\n",
       "        text-align: right;\n",
       "    }\n",
       "</style>\n",
       "<table border=\"1\" class=\"dataframe\">\n",
       "  <thead>\n",
       "    <tr style=\"text-align: right;\">\n",
       "      <th></th>\n",
       "      <th>attributions</th>\n",
       "      <th>query</th>\n",
       "      <th>clickTopTaxonomyPaths</th>\n",
       "      <th>clickTopTaxonomyCounts</th>\n",
       "      <th>clickLevel2TaxonomyPaths</th>\n",
       "      <th>clickLevel2TaxonomyCounts</th>\n",
       "    </tr>\n",
       "  </thead>\n",
       "  <tbody>\n",
       "  </tbody>\n",
       "</table>\n",
       "</div>"
      ],
      "text/plain": [
       "Empty DataFrame\n",
       "Columns: [attributions, query, clickTopTaxonomyPaths, clickTopTaxonomyCounts, clickLevel2TaxonomyPaths, clickLevel2TaxonomyCounts]\n",
       "Index: []"
      ]
     },
     "execution_count": 72,
     "metadata": {},
     "output_type": "execute_result"
    }
   ],
   "source": [
    "df[df.clickLevel2TaxonomyPaths.apply(lambda x: len(x)==1 and x[0] == \"\")][\n",
    "    [\n",
    "        \"attributions\", \"query\", \n",
    "        \"clickTopTaxonomyPaths\", \"clickTopTaxonomyCounts\", \n",
    "        \"clickLevel2TaxonomyPaths\", \"clickLevel2TaxonomyCounts\"\n",
    "    ]\n",
    "]"
   ]
  },
  {
   "cell_type": "code",
   "execution_count": 73,
   "id": "59d40c00",
   "metadata": {},
   "outputs": [
    {
     "name": "stdout",
     "output_type": "stream",
     "text": [
      "['no_event']\n",
      "['no_event']\n",
      "svg windrose\n",
      "svg windrose\n",
      "535\n",
      "535\n",
      "3\n",
      "3\n",
      "1\n",
      "1\n",
      "['craft_supplies_and_tools']\n",
      "['craft_supplies_and_tools']\n",
      "[535]\n",
      "[535]\n",
      "[2.9]\n",
      "[2.9]\n",
      "['craft_supplies_and_tools']\n",
      "['craft_supplies_and_tools']\n",
      "[3]\n",
      "[3]\n",
      "[3.09]\n",
      "[3.09]\n",
      "['art_and_collectibles']\n",
      "['art_and_collectibles']\n",
      "[1]\n",
      "[1]\n",
      "[0.99]\n",
      "[0.99]\n",
      "['craft_supplies_and_tools.canvas_and_surfaces'\n",
      " 'craft_supplies_and_tools.patterns_and_how_to'\n",
      " 'art_and_collectibles.drawing_and_illustration'\n",
      " 'art_and_collectibles.prints']\n",
      "['craft_supplies_and_tools.canvas_and_surfaces'\n",
      " 'craft_supplies_and_tools.patterns_and_how_to'\n",
      " 'art_and_collectibles.drawing_and_illustration'\n",
      " 'art_and_collectibles.prints']\n",
      "[322 199 186  66]\n",
      "[322 199 186  66]\n",
      "[2.78 3.13 2.36 2.44]\n",
      "[2.78 3.13 2.36 2.44]\n",
      "['craft_supplies_and_tools.canvas_and_surfaces'\n",
      " 'art_and_collectibles.prints'\n",
      " 'art_and_collectibles.drawing_and_illustration']\n",
      "['craft_supplies_and_tools.canvas_and_surfaces'\n",
      " 'art_and_collectibles.prints'\n",
      " 'art_and_collectibles.drawing_and_illustration']\n",
      "[3 1 1]\n",
      "[3 1 1]\n",
      "[3.09 0.61 0.99]\n",
      "[3.09 0.61 0.99]\n",
      "['art_and_collectibles.drawing_and_illustration']\n",
      "['art_and_collectibles.drawing_and_illustration']\n",
      "[1]\n",
      "[1]\n",
      "[0.99]\n",
      "[0.99]\n"
     ]
    }
   ],
   "source": [
    "for col_id in range(df.shape[1]):\n",
    "    print(df.iloc[224, col_id])\n",
    "    print(df.iloc[225, col_id])"
   ]
  },
  {
   "cell_type": "code",
   "execution_count": 74,
   "id": "a7d53f09",
   "metadata": {},
   "outputs": [],
   "source": [
    "def l1norm(x):\n",
    "    if len(x) > 0 and np.sum(x) > 0:\n",
    "        return x / np.sum(x)\n",
    "    else:\n",
    "        return x"
   ]
  },
  {
   "cell_type": "code",
   "execution_count": 75,
   "id": "bbf035f4",
   "metadata": {},
   "outputs": [],
   "source": [
    "df[\"purchaseLevel2CountsNorm\"] = df.purchaseLevel2TaxonomyCounts.apply(l1norm)\n",
    "df[\"clickLevel2CountsNorm\"] = df.clickLevel2TaxonomyCounts.apply(l1norm)"
   ]
  },
  {
   "cell_type": "code",
   "execution_count": 61,
   "id": "8904e325",
   "metadata": {},
   "outputs": [
    {
     "name": "stdout",
     "output_type": "stream",
     "text": [
      "[0.29761905 0.10714286 0.10714286 0.0952381  0.08333333 0.07142857\n",
      " 0.04761905 0.03571429 0.02380952 0.02380952 0.02380952 0.02380952\n",
      " 0.01190476 0.01190476 0.01190476 0.01190476 0.01190476]\n",
      "0.9999999999999999\n"
     ]
    }
   ],
   "source": [
    "print(df.purchaseLevel2CountsNorm[0])\n",
    "print(np.sum(df.purchaseLevel2CountsNorm[0]))"
   ]
  },
  {
   "cell_type": "code",
   "execution_count": 62,
   "id": "cc8d13d8",
   "metadata": {},
   "outputs": [
    {
     "name": "stderr",
     "output_type": "stream",
     "text": [
      "100%|████████████████████████████████| 500000/500000 [00:33<00:00, 15056.77it/s]\n"
     ]
    }
   ],
   "source": [
    "empty_purchase = []\n",
    "empty_purchase_index = []\n",
    "empty_click = []\n",
    "empty_click_index = []\n",
    "\n",
    "for i in tqdm(range(df.shape[0])):\n",
    "    # purchase\n",
    "    p_paths = df.purchaseLevel2TaxonomyPaths[i]\n",
    "    p_cnts_norm = df.purchaseLevel2CountsNorm[i]\n",
    "    assert p_paths.shape == p_cnts_norm.shape\n",
    "    if \"\" in p_paths:\n",
    "        p_empty_idx = np.where(p_paths==\"\")[0][0]\n",
    "        p_empty_normed_count = p_cnts_norm[p_empty_idx]\n",
    "        empty_purchase_index.append(p_empty_idx)\n",
    "        empty_purchase.append(p_empty_normed_count)\n",
    "        if p_empty_normed_count == 1.0:\n",
    "            assert len(p_paths) == 1.\n",
    "        \n",
    "    # click\n",
    "    c_paths = df.clickLevel2TaxonomyPaths[i]\n",
    "    c_cnts_norm = df.clickLevel2CountsNorm[i]\n",
    "    if \"\" in c_paths:\n",
    "        c_empty_idx = np.where(c_paths==\"\")[0][0]\n",
    "        c_empty_normed_count = c_cnts_norm[c_empty_idx]\n",
    "        empty_click_index.append(c_empty_idx)\n",
    "        empty_click.append(c_empty_normed_count)\n",
    "        if c_empty_normed_count == 1.0:\n",
    "            assert len(c_paths) == 1."
   ]
  },
  {
   "cell_type": "code",
   "execution_count": 63,
   "id": "678f8e7c",
   "metadata": {},
   "outputs": [
    {
     "data": {
      "text/plain": [
       "(array([8.8231e+04, 1.1913e+04, 4.6080e+03, 2.5000e+03, 3.3560e+03,\n",
       "        2.3800e+02, 3.5400e+02, 2.6000e+02, 8.2000e+01, 3.8080e+03]),\n",
       " array([2.13629566e-04, 1.00192267e-01, 2.00170904e-01, 3.00149541e-01,\n",
       "        4.00128178e-01, 5.00106815e-01, 6.00085452e-01, 7.00064089e-01,\n",
       "        8.00042726e-01, 9.00021363e-01, 1.00000000e+00]),\n",
       " <BarContainer object of 10 artists>)"
      ]
     },
     "execution_count": 63,
     "metadata": {},
     "output_type": "execute_result"
    },
    {
     "data": {
      "image/png": "[encoded data removed]",
      "text/plain": [
       "<Figure size 640x480 with 1 Axes>"
      ]
     },
     "metadata": {},
     "output_type": "display_data"
    }
   ],
   "source": [
    "plt.hist(empty_purchase)"
   ]
  },
  {
   "cell_type": "code",
   "execution_count": 64,
   "id": "6596307c",
   "metadata": {},
   "outputs": [
    {
     "name": "stdout",
     "output_type": "stream",
     "text": [
      "115350\n",
      "0.00021362956633198035\n",
      "1.0\n",
      "0.10381215034134701\n",
      "0.026246719160104987\n"
     ]
    }
   ],
   "source": [
    "print(len(empty_purchase))\n",
    "print(np.min(empty_purchase))\n",
    "print(np.max(empty_purchase))\n",
    "print(np.mean(empty_purchase))\n",
    "print(np.median(empty_purchase))"
   ]
  },
  {
   "cell_type": "code",
   "execution_count": 65,
   "id": "ee12eeb3",
   "metadata": {},
   "outputs": [
    {
     "data": {
      "text/plain": [
       "(array([4.69473e+05, 1.41680e+04, 3.91000e+03, 1.34900e+03, 7.78000e+02,\n",
       "        2.18000e+02, 3.40000e+01, 1.36000e+02, 0.00000e+00, 5.18000e+02]),\n",
       " array([5.11796919e-05, 1.00046062e-01, 2.00040944e-01, 3.00035826e-01,\n",
       "        4.00030708e-01, 5.00025590e-01, 6.00020472e-01, 7.00015354e-01,\n",
       "        8.00010236e-01, 9.00005118e-01, 1.00000000e+00]),\n",
       " <BarContainer object of 10 artists>)"
      ]
     },
     "execution_count": 65,
     "metadata": {},
     "output_type": "execute_result"
    },
    {
     "data": {
      "image/png": "[encoded data removed]",
      "text/plain": [
       "<Figure size 640x480 with 1 Axes>"
      ]
     },
     "metadata": {},
     "output_type": "display_data"
    }
   ],
   "source": [
    "plt.hist(empty_click)"
   ]
  },
  {
   "cell_type": "code",
   "execution_count": 66,
   "id": "7249e39d",
   "metadata": {},
   "outputs": [
    {
     "name": "stdout",
     "output_type": "stream",
     "text": [
      "490584\n",
      "5.1179691898254774e-05\n",
      "1.0\n",
      "0.02245753644914467\n",
      "0.007268951194184839\n"
     ]
    }
   ],
   "source": [
    "print(len(empty_click))\n",
    "print(np.min(empty_click))\n",
    "print(np.max(empty_click))\n",
    "print(np.mean(empty_click))\n",
    "print(np.median(empty_click))"
   ]
  },
  {
   "cell_type": "code",
   "execution_count": 69,
   "id": "f5148e21",
   "metadata": {},
   "outputs": [
    {
     "data": {
      "text/plain": [
       "(array([67473., 18227.,  8456.,  7372.,  5120.,  4900.,  2266.,   362.,\n",
       "         1078.,    96.]),\n",
       " array([ 0.,  4.,  8., 12., 16., 20., 24., 28., 32., 36., 40.]),\n",
       " <BarContainer object of 10 artists>)"
      ]
     },
     "execution_count": 69,
     "metadata": {},
     "output_type": "execute_result"
    },
    {
     "data": {
      "image/png": "[encoded data removed]",
      "text/plain": [
       "<Figure size 640x480 with 1 Axes>"
      ]
     },
     "metadata": {},
     "output_type": "display_data"
    }
   ],
   "source": [
    "plt.hist(empty_purchase_index)"
   ]
  },
  {
   "cell_type": "code",
   "execution_count": 67,
   "id": "870ab603",
   "metadata": {},
   "outputs": [
    {
     "name": "stdout",
     "output_type": "stream",
     "text": [
      "0\n",
      "40\n",
      "5.898318162115301\n",
      "3.0\n"
     ]
    }
   ],
   "source": [
    "print(np.min(empty_purchase_index))\n",
    "print(np.max(empty_purchase_index))\n",
    "print(np.mean(empty_purchase_index))\n",
    "print(np.median(empty_purchase_index))"
   ]
  },
  {
   "cell_type": "code",
   "execution_count": null,
   "id": "b429a8f0",
   "metadata": {},
   "outputs": [],
   "source": [
    "plt.hist()"
   ]
  },
  {
   "cell_type": "code",
   "execution_count": 68,
   "id": "378662e3",
   "metadata": {},
   "outputs": [
    {
     "name": "stdout",
     "output_type": "stream",
     "text": [
      "0\n",
      "49\n",
      "7.925013861030934\n",
      "6.0\n"
     ]
    }
   ],
   "source": [
    "print(np.min(empty_click_index))\n",
    "print(np.max(empty_click_index))\n",
    "print(np.mean(empty_click_index))\n",
    "print(np.median(empty_click_index))"
   ]
  },
  {
   "cell_type": "code",
   "execution_count": null,
   "id": "699dc33b",
   "metadata": {},
   "outputs": [],
   "source": []
  }
 ],
 "metadata": {
  "kernelspec": {
   "display_name": "venv",
   "language": "python",
   "name": "venv"
  },
  "language_info": {
   "codemirror_mode": {
    "name": "ipython",
    "version": 3
   },
   "file_extension": ".py",
   "mimetype": "text/x-python",
   "name": "python",
   "nbconvert_exporter": "python",
   "pygments_lexer": "ipython3",
   "version": "3.8.9"
  }
 },
 "nbformat": 4,
 "nbformat_minor": 5
}
