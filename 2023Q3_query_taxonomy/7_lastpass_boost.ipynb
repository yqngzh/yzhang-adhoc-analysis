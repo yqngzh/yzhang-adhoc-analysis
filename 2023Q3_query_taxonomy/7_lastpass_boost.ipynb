{
 "cells": [
  {
   "cell_type": "code",
   "execution_count": 1,
   "id": "c27e83c9",
   "metadata": {},
   "outputs": [
    {
     "name": "stdout",
     "output_type": "stream",
     "text": [
      "WARNING:  Python 3.5-3.7 will be deprecated on August 8th, 2023. Please use Python version 3.8 and up.\n",
      "\n",
      "If you have a compatible Python interpreter installed, you can use it by setting\n",
      "the CLOUDSDK_PYTHON environment variable to point to it.\n",
      "\n",
      "Updated property [core/project].\n"
     ]
    }
   ],
   "source": [
    "!gcloud config set project etsy-bigquery-adhoc-prod"
   ]
  },
  {
   "cell_type": "code",
   "execution_count": 3,
   "id": "0ce1dae8",
   "metadata": {},
   "outputs": [],
   "source": [
    "%load_ext google.cloud.bigquery"
   ]
  },
  {
   "cell_type": "code",
   "execution_count": 4,
   "id": "15d6cf91",
   "metadata": {},
   "outputs": [],
   "source": [
    "import matplotlib.pyplot as plt\n",
    "import seaborn as sns\n",
    "import scipy\n",
    "import pandas as pd\n",
    "import numpy as np"
   ]
  },
  {
   "cell_type": "code",
   "execution_count": 8,
   "id": "3279aa23",
   "metadata": {},
   "outputs": [
    {
     "name": "stderr",
     "output_type": "stream",
     "text": [
      "Query complete after 0.00s: 100%|████████████| 3/3 [00:00<00:00, 1618.80query/s]\n",
      "Downloading: 100%|██████████████| 5537174/5537174 [00:07<00:00, 711242.37rows/s]\n"
     ]
    }
   ],
   "source": [
    "%%bigquery df\n",
    "select \n",
    "    `key` as query_str,\n",
    "    queryLevelMetrics_bin as query_bin,\n",
    "    queryTaxoDemandFeatures_purchaseTopTaxonomyPaths,\n",
    "from `etsy-ml-systems-prod.feature_bank_v2.query_feature_bank_2023-10-25`\n",
    "where queryTaxoDemandFeatures_purchaseTopTaxonomyPaths is not null\n",
    "and array_length(queryTaxoDemandFeatures_purchaseTopTaxonomyPaths.list) > 0\n",
    "and queryTaxoDemandFeatures_purchaseTopTaxonomyPaths.list[0].element != \"\""
   ]
  },
  {
   "cell_type": "code",
   "execution_count": 9,
   "id": "72f32b79",
   "metadata": {},
   "outputs": [
    {
     "data": {
      "text/html": [
       "<div>\n",
       "<style scoped>\n",
       "    .dataframe tbody tr th:only-of-type {\n",
       "        vertical-align: middle;\n",
       "    }\n",
       "\n",
       "    .dataframe tbody tr th {\n",
       "        vertical-align: top;\n",
       "    }\n",
       "\n",
       "    .dataframe thead th {\n",
       "        text-align: right;\n",
       "    }\n",
       "</style>\n",
       "<table border=\"1\" class=\"dataframe\">\n",
       "  <thead>\n",
       "    <tr style=\"text-align: right;\">\n",
       "      <th></th>\n",
       "      <th>query_str</th>\n",
       "      <th>query_bin</th>\n",
       "      <th>queryTaxoDemandFeatures_purchaseTopTaxonomyPaths</th>\n",
       "    </tr>\n",
       "  </thead>\n",
       "  <tbody>\n",
       "    <tr>\n",
       "      <th>0</th>\n",
       "      <td>custom wooden spoon</td>\n",
       "      <td>top.1</td>\n",
       "      <td>{'list': [{'element': 'home_and_living'}, {'el...</td>\n",
       "    </tr>\n",
       "    <tr>\n",
       "      <th>1</th>\n",
       "      <td>postal truck tray</td>\n",
       "      <td>head</td>\n",
       "      <td>{'list': [{'element': 'electronics_and_accesso...</td>\n",
       "    </tr>\n",
       "    <tr>\n",
       "      <th>2</th>\n",
       "      <td>ipswich town</td>\n",
       "      <td>top.1</td>\n",
       "      <td>{'list': [{'element': 'art_and_collectibles'},...</td>\n",
       "    </tr>\n",
       "    <tr>\n",
       "      <th>3</th>\n",
       "      <td>jordan 1 low travi scott</td>\n",
       "      <td>top.1</td>\n",
       "      <td>{'list': [{'element': 'shoes'}]}</td>\n",
       "    </tr>\n",
       "    <tr>\n",
       "      <th>4</th>\n",
       "      <td>jordan 1 slipper</td>\n",
       "      <td>top.1</td>\n",
       "      <td>{'list': [{'element': 'shoes'}]}</td>\n",
       "    </tr>\n",
       "  </tbody>\n",
       "</table>\n",
       "</div>"
      ],
      "text/plain": [
       "                  query_str query_bin  \\\n",
       "0       custom wooden spoon     top.1   \n",
       "1         postal truck tray      head   \n",
       "2              ipswich town     top.1   \n",
       "3  jordan 1 low travi scott     top.1   \n",
       "4          jordan 1 slipper     top.1   \n",
       "\n",
       "    queryTaxoDemandFeatures_purchaseTopTaxonomyPaths  \n",
       "0  {'list': [{'element': 'home_and_living'}, {'el...  \n",
       "1  {'list': [{'element': 'electronics_and_accesso...  \n",
       "2  {'list': [{'element': 'art_and_collectibles'},...  \n",
       "3                   {'list': [{'element': 'shoes'}]}  \n",
       "4                   {'list': [{'element': 'shoes'}]}  "
      ]
     },
     "execution_count": 9,
     "metadata": {},
     "output_type": "execute_result"
    }
   ],
   "source": [
    "df.head()"
   ]
  },
  {
   "cell_type": "code",
   "execution_count": 10,
   "id": "f0632b5d",
   "metadata": {},
   "outputs": [],
   "source": [
    "df[\"n_top_paths\"] = df.queryTaxoDemandFeatures_purchaseTopTaxonomyPaths.apply(lambda x: len(x[\"list\"]))\n",
    "n_top_max = df.n_top_paths.max()"
   ]
  },
  {
   "cell_type": "code",
   "execution_count": 13,
   "id": "856f7028",
   "metadata": {},
   "outputs": [
    {
     "data": {
      "text/plain": [
       "15"
      ]
     },
     "execution_count": 13,
     "metadata": {},
     "output_type": "execute_result"
    }
   ],
   "source": [
    "n_top_max"
   ]
  },
  {
   "cell_type": "code",
   "execution_count": 11,
   "id": "4455747c",
   "metadata": {},
   "outputs": [],
   "source": [
    "bins = list(range(1, n_top_max + 1))\n",
    "hist_values = df.n_top_paths.value_counts()[bins]"
   ]
  },
  {
   "cell_type": "code",
   "execution_count": 12,
   "id": "e274e3f0",
   "metadata": {},
   "outputs": [
    {
     "data": {
      "image/png": "[encoded data removed]",
      "text/plain": [
       "<Figure size 640x480 with 1 Axes>"
      ]
     },
     "metadata": {},
     "output_type": "display_data"
    }
   ],
   "source": [
    "# bins = [1, 2, 3, 4, 5, 6, 10, 20, 50, 100]\n",
    "# bin_labels = [\"2\", \"3\", \"4\", \"5\", \"6-10\", \"10-20\", \"20-50\", \"50-100\"]\n",
    "\n",
    "bin_labels = [str(x) for x in bins]\n",
    "\n",
    "percentage = [\"{0:.0%}\".format(x) for x in np.round(hist_values / df.shape[0], 5)]\n",
    "\n",
    "ax = plt.bar(x=bins, height=hist_values.values)\n",
    "for x, y, p in zip(bins, hist_values.values, hist_values.values):\n",
    "    plt.text(x, y, p)\n",
    "\n",
    "plt.show()"
   ]
  },
  {
   "cell_type": "code",
   "execution_count": null,
   "id": "830b02a8",
   "metadata": {},
   "outputs": [],
   "source": []
  },
  {
   "cell_type": "code",
   "execution_count": 16,
   "id": "20514680",
   "metadata": {
    "scrolled": true
   },
   "outputs": [
    {
     "name": "stderr",
     "output_type": "stream",
     "text": [
      "Query complete after 0.00s: 100%|████████████| 1/1 [00:00<00:00, 1063.73query/s]\n",
      "Downloading: 100%|██████████████| 5458073/5458073 [00:07<00:00, 717738.47rows/s]\n"
     ]
    }
   ],
   "source": [
    "%%bigquery df\n",
    "select \n",
    "    `key` as query_str,\n",
    "    queryLevelMetrics_bin as query_bin,\n",
    "    queryTaxoDemandFeatures_purchaseLevel2TaxonomyPaths,\n",
    "from `etsy-ml-systems-prod.feature_bank_v2.query_feature_bank_2023-10-25`\n",
    "where queryTaxoDemandFeatures_purchaseLevel2TaxonomyPaths is not null\n",
    "and array_length(queryTaxoDemandFeatures_purchaseLevel2TaxonomyPaths.list) > 0\n",
    "and queryTaxoDemandFeatures_purchaseLevel2TaxonomyPaths.list[0].element != \"\""
   ]
  },
  {
   "cell_type": "code",
   "execution_count": 17,
   "id": "e9019e74",
   "metadata": {},
   "outputs": [
    {
     "data": {
      "text/html": [
       "<div>\n",
       "<style scoped>\n",
       "    .dataframe tbody tr th:only-of-type {\n",
       "        vertical-align: middle;\n",
       "    }\n",
       "\n",
       "    .dataframe tbody tr th {\n",
       "        vertical-align: top;\n",
       "    }\n",
       "\n",
       "    .dataframe thead th {\n",
       "        text-align: right;\n",
       "    }\n",
       "</style>\n",
       "<table border=\"1\" class=\"dataframe\">\n",
       "  <thead>\n",
       "    <tr style=\"text-align: right;\">\n",
       "      <th></th>\n",
       "      <th>query_str</th>\n",
       "      <th>query_bin</th>\n",
       "      <th>queryTaxoDemandFeatures_purchaseLevel2TaxonomyPaths</th>\n",
       "    </tr>\n",
       "  </thead>\n",
       "  <tbody>\n",
       "    <tr>\n",
       "      <th>0</th>\n",
       "      <td>jewelry for sewer</td>\n",
       "      <td>None</td>\n",
       "      <td>{'list': [{'element': 'home_and_living.home_de...</td>\n",
       "    </tr>\n",
       "    <tr>\n",
       "      <th>1</th>\n",
       "      <td>jewelry graduation dish</td>\n",
       "      <td>torso</td>\n",
       "      <td>{'list': [{'element': 'jewelry.jewelry_storage...</td>\n",
       "    </tr>\n",
       "    <tr>\n",
       "      <th>2</th>\n",
       "      <td>jewelry gift box</td>\n",
       "      <td>top.01</td>\n",
       "      <td>{'list': [{'element': 'jewelry.jewelry_storage...</td>\n",
       "    </tr>\n",
       "    <tr>\n",
       "      <th>3</th>\n",
       "      <td>mirror label</td>\n",
       "      <td>head</td>\n",
       "      <td>{'list': [{'element': 'paper_and_party_supplie...</td>\n",
       "    </tr>\n",
       "    <tr>\n",
       "      <th>4</th>\n",
       "      <td>jewelry gift box for woman</td>\n",
       "      <td>None</td>\n",
       "      <td>{'list': [{'element': 'jewelry.jewelry_storage...</td>\n",
       "    </tr>\n",
       "  </tbody>\n",
       "</table>\n",
       "</div>"
      ],
      "text/plain": [
       "                    query_str query_bin  \\\n",
       "0           jewelry for sewer      None   \n",
       "1     jewelry graduation dish     torso   \n",
       "2            jewelry gift box    top.01   \n",
       "3                mirror label      head   \n",
       "4  jewelry gift box for woman      None   \n",
       "\n",
       "  queryTaxoDemandFeatures_purchaseLevel2TaxonomyPaths  \n",
       "0  {'list': [{'element': 'home_and_living.home_de...   \n",
       "1  {'list': [{'element': 'jewelry.jewelry_storage...   \n",
       "2  {'list': [{'element': 'jewelry.jewelry_storage...   \n",
       "3  {'list': [{'element': 'paper_and_party_supplie...   \n",
       "4  {'list': [{'element': 'jewelry.jewelry_storage...   "
      ]
     },
     "execution_count": 17,
     "metadata": {},
     "output_type": "execute_result"
    }
   ],
   "source": [
    "df.head()"
   ]
  },
  {
   "cell_type": "code",
   "execution_count": 18,
   "id": "10908cae",
   "metadata": {},
   "outputs": [],
   "source": [
    "df[\"n_level2_paths\"] = df.queryTaxoDemandFeatures_purchaseLevel2TaxonomyPaths.apply(lambda x: len(x[\"list\"]))\n",
    "n_level2_max = df.n_level2_paths.max()"
   ]
  },
  {
   "cell_type": "code",
   "execution_count": 19,
   "id": "c7ff5b0e",
   "metadata": {},
   "outputs": [
    {
     "data": {
      "text/plain": [
       "50"
      ]
     },
     "execution_count": 19,
     "metadata": {},
     "output_type": "execute_result"
    }
   ],
   "source": [
    "n_level2_max"
   ]
  },
  {
   "cell_type": "code",
   "execution_count": 20,
   "id": "7be09f48",
   "metadata": {},
   "outputs": [
    {
     "data": {
      "text/plain": [
       "(15, 4)"
      ]
     },
     "execution_count": 20,
     "metadata": {},
     "output_type": "execute_result"
    }
   ],
   "source": [
    "df[df.n_level2_paths >= 40].shape"
   ]
  },
  {
   "cell_type": "code",
   "execution_count": 22,
   "id": "f8070b84",
   "metadata": {},
   "outputs": [
    {
     "data": {
      "image/png": "[encoded data removed]",
      "text/plain": [
       "<Figure size 640x480 with 1 Axes>"
      ]
     },
     "metadata": {},
     "output_type": "display_data"
    }
   ],
   "source": [
    "bins = list(range(1, 40))\n",
    "hist_values = df.n_level2_paths.value_counts()[bins]\n",
    "bins.append(40)\n",
    "hist_values = list(hist_values.values)\n",
    "hist_values.append(15)\n",
    "\n",
    "ax = plt.bar(x=bins, height=hist_values)\n",
    "for x, y, p in zip(bins, hist_values, hist_values):\n",
    "    plt.text(x, y, p)\n",
    "\n",
    "plt.show()"
   ]
  },
  {
   "cell_type": "code",
   "execution_count": null,
   "id": "2feb2da1",
   "metadata": {},
   "outputs": [],
   "source": []
  },
  {
   "cell_type": "markdown",
   "id": "aa9e9f17",
   "metadata": {},
   "source": [
    "# %GMS at risk"
   ]
  },
  {
   "cell_type": "code",
   "execution_count": 20,
   "id": "10e53a4b",
   "metadata": {},
   "outputs": [],
   "source": [
    "df_top = pd.DataFrame({\n",
    "    \"threshold\": list(range(0, 55, 5)),\n",
    "    \"percent_gms_at_risk\": [3.89, 4.83, 5.7, 7.28, 7.93, 8.67, 9.81, 11.87, 12.54, 13.11, 13.58]\n",
    "})\n",
    "\n",
    "df_level2 = pd.DataFrame({\n",
    "    \"threshold\": list(range(0, 55, 5)),\n",
    "    \"percent_gms_at_risk\": [5.67, 7.81, 9.95, 11.47, 13.13, 14.27, 16.07, 16.82, 17.68, 18.30, 18.76]\n",
    "})"
   ]
  },
  {
   "cell_type": "code",
   "execution_count": 19,
   "id": "a94c7ad0",
   "metadata": {},
   "outputs": [
    {
     "data": {
      "text/plain": [
       "<Axes: xlabel='threshold'>"
      ]
     },
     "execution_count": 19,
     "metadata": {},
     "output_type": "execute_result"
    },
    {
     "data": {
      "image/png": "[encoded data removed]",
      "text/plain": [
       "<Figure size 640x480 with 1 Axes>"
      ]
     },
     "metadata": {},
     "output_type": "display_data"
    }
   ],
   "source": [
    "df_top.plot(x=\"threshold\", y=\"percent_gms_at_risk\", kind=\"line\")"
   ]
  },
  {
   "cell_type": "code",
   "execution_count": 22,
   "id": "5479f049",
   "metadata": {},
   "outputs": [
    {
     "data": {
      "text/plain": [
       "<Axes: xlabel='threshold'>"
      ]
     },
     "execution_count": 22,
     "metadata": {},
     "output_type": "execute_result"
    },
    {
     "data": {
      "image/png": "[encoded data removed]",
      "text/plain": [
       "<Figure size 640x480 with 1 Axes>"
      ]
     },
     "metadata": {},
     "output_type": "display_data"
    }
   ],
   "source": [
    "df_level2.plot(x=\"threshold\", y=\"percent_gms_at_risk\", kind=\"line\")"
   ]
  },
  {
   "cell_type": "code",
   "execution_count": null,
   "id": "74a711a8",
   "metadata": {},
   "outputs": [],
   "source": []
  }
 ],
 "metadata": {
  "kernelspec": {
   "display_name": "venv",
   "language": "python",
   "name": "venv"
  },
  "language_info": {
   "codemirror_mode": {
    "name": "ipython",
    "version": 3
   },
   "file_extension": ".py",
   "mimetype": "text/x-python",
   "name": "python",
   "nbconvert_exporter": "python",
   "pygments_lexer": "ipython3",
   "version": "3.8.9"
  }
 },
 "nbformat": 4,
 "nbformat_minor": 5
}
