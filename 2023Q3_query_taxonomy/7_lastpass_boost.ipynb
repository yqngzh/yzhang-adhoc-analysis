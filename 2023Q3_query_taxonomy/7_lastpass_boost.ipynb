{
 "cells": [
  {
   "cell_type": "code",
   "execution_count": 3,
   "id": "c27e83c9",
   "metadata": {},
   "outputs": [
    {
     "name": "stdout",
     "output_type": "stream",
     "text": [
      "WARNING:  Python 3.5-3.7 will be deprecated on August 8th, 2023. Please use Python version 3.8 and up.\n",
      "\n",
      "If you have a compatible Python interpreter installed, you can use it by setting\n",
      "the CLOUDSDK_PYTHON environment variable to point to it.\n",
      "\n",
      "Updated property [core/project].\n"
     ]
    }
   ],
   "source": [
    "!gcloud config set project etsy-bigquery-adhoc-prod"
   ]
  },
  {
   "cell_type": "code",
   "execution_count": 4,
   "id": "0ce1dae8",
   "metadata": {},
   "outputs": [],
   "source": [
    "%load_ext google.cloud.bigquery"
   ]
  },
  {
   "cell_type": "code",
   "execution_count": 10,
   "id": "15d6cf91",
   "metadata": {},
   "outputs": [],
   "source": [
    "import matplotlib.pyplot as plt\n",
    "import seaborn as sns\n",
    "import scipy\n",
    "import pandas as pd\n",
    "import numpy as np"
   ]
  },
  {
   "cell_type": "code",
   "execution_count": 6,
   "id": "3279aa23",
   "metadata": {},
   "outputs": [
    {
     "name": "stderr",
     "output_type": "stream",
     "text": [
      "Query complete after 0.02s: 100%|████████████| 3/3 [00:00<00:00, 1345.19query/s]\n",
      "Downloading: 100%|██████████████| 4861275/4861275 [00:08<00:00, 573556.78rows/s]\n"
     ]
    }
   ],
   "source": [
    "%%bigquery df\n",
    "select \n",
    "    `key` as query_str,\n",
    "    queryLevelMetrics_bin as query_bin,\n",
    "    queryTaxoDemandFeatures_purchaseTopTaxonomyPaths,\n",
    "    queryTaxoDemandFeatures_purchaseLevel2TaxonomyPaths\n",
    "from `etsy-ml-systems-prod.feature_bank_v2.query_feature_bank_2023-10-01`\n",
    "where queryTaxoDemandFeatures_purchaseTopTaxonomyPaths is not null\n",
    "and queryTaxoDemandFeatures_purchaseTopTaxonomyPaths.list[0] is not null"
   ]
  },
  {
   "cell_type": "code",
   "execution_count": 7,
   "id": "72f32b79",
   "metadata": {},
   "outputs": [
    {
     "data": {
      "text/html": [
       "<div>\n",
       "<style scoped>\n",
       "    .dataframe tbody tr th:only-of-type {\n",
       "        vertical-align: middle;\n",
       "    }\n",
       "\n",
       "    .dataframe tbody tr th {\n",
       "        vertical-align: top;\n",
       "    }\n",
       "\n",
       "    .dataframe thead th {\n",
       "        text-align: right;\n",
       "    }\n",
       "</style>\n",
       "<table border=\"1\" class=\"dataframe\">\n",
       "  <thead>\n",
       "    <tr style=\"text-align: right;\">\n",
       "      <th></th>\n",
       "      <th>query_str</th>\n",
       "      <th>query_bin</th>\n",
       "      <th>queryTaxoDemandFeatures_purchaseTopTaxonomyPaths</th>\n",
       "      <th>queryTaxoDemandFeatures_purchaseLevel2TaxonomyPaths</th>\n",
       "    </tr>\n",
       "  </thead>\n",
       "  <tbody>\n",
       "    <tr>\n",
       "      <th>0</th>\n",
       "      <td>fruit of the loom ringer briefs small</td>\n",
       "      <td>None</td>\n",
       "      <td>{'list': [{'element': 'clothing'}]}</td>\n",
       "      <td>{'list': [{'element': 'clothing.mens_clothing'}]}</td>\n",
       "    </tr>\n",
       "    <tr>\n",
       "      <th>1</th>\n",
       "      <td>fruit of the spirit craft</td>\n",
       "      <td>None</td>\n",
       "      <td>{'list': [{'element': 'toys_and_games'}, {'ele...</td>\n",
       "      <td>{'list': [{'element': 'toys_and_games.toys'}, ...</td>\n",
       "    </tr>\n",
       "    <tr>\n",
       "      <th>2</th>\n",
       "      <td>fruit of the spirit colouring page</td>\n",
       "      <td>None</td>\n",
       "      <td>{'list': [{'element': 'art_and_collectibles'}]}</td>\n",
       "      <td>{'list': [{'element': 'art_and_collectibles.dr...</td>\n",
       "    </tr>\n",
       "    <tr>\n",
       "      <th>3</th>\n",
       "      <td>plantain herb salve</td>\n",
       "      <td>head</td>\n",
       "      <td>{'list': [{'element': 'bath_and_beauty'}]}</td>\n",
       "      <td>{'list': [{'element': 'bath_and_beauty.skin_ca...</td>\n",
       "    </tr>\n",
       "    <tr>\n",
       "      <th>4</th>\n",
       "      <td>plantain cream</td>\n",
       "      <td>head</td>\n",
       "      <td>{'list': [{'element': 'bath_and_beauty'}]}</td>\n",
       "      <td>{'list': [{'element': 'bath_and_beauty.skin_ca...</td>\n",
       "    </tr>\n",
       "  </tbody>\n",
       "</table>\n",
       "</div>"
      ],
      "text/plain": [
       "                               query_str query_bin  \\\n",
       "0  fruit of the loom ringer briefs small      None   \n",
       "1              fruit of the spirit craft      None   \n",
       "2     fruit of the spirit colouring page      None   \n",
       "3                    plantain herb salve      head   \n",
       "4                         plantain cream      head   \n",
       "\n",
       "    queryTaxoDemandFeatures_purchaseTopTaxonomyPaths  \\\n",
       "0                {'list': [{'element': 'clothing'}]}   \n",
       "1  {'list': [{'element': 'toys_and_games'}, {'ele...   \n",
       "2    {'list': [{'element': 'art_and_collectibles'}]}   \n",
       "3         {'list': [{'element': 'bath_and_beauty'}]}   \n",
       "4         {'list': [{'element': 'bath_and_beauty'}]}   \n",
       "\n",
       "  queryTaxoDemandFeatures_purchaseLevel2TaxonomyPaths  \n",
       "0  {'list': [{'element': 'clothing.mens_clothing'}]}   \n",
       "1  {'list': [{'element': 'toys_and_games.toys'}, ...   \n",
       "2  {'list': [{'element': 'art_and_collectibles.dr...   \n",
       "3  {'list': [{'element': 'bath_and_beauty.skin_ca...   \n",
       "4  {'list': [{'element': 'bath_and_beauty.skin_ca...   "
      ]
     },
     "execution_count": 7,
     "metadata": {},
     "output_type": "execute_result"
    }
   ],
   "source": [
    "df.head()"
   ]
  },
  {
   "cell_type": "code",
   "execution_count": 8,
   "id": "f0632b5d",
   "metadata": {},
   "outputs": [],
   "source": [
    "df[\"n_top_paths\"] = df.queryTaxoDemandFeatures_purchaseTopTaxonomyPaths.apply(lambda x: len(x[\"list\"]))\n",
    "df[\"n_level2_paths\"] = df.queryTaxoDemandFeatures_purchaseLevel2TaxonomyPaths.apply(lambda x: len(x[\"list\"]))"
   ]
  },
  {
   "cell_type": "code",
   "execution_count": 17,
   "id": "6a543f55",
   "metadata": {},
   "outputs": [],
   "source": [
    "n_top_max = df.n_top_paths.max()"
   ]
  },
  {
   "cell_type": "code",
   "execution_count": 18,
   "id": "10908cae",
   "metadata": {},
   "outputs": [],
   "source": [
    "n_level2_max = df.n_level2_paths.max()"
   ]
  },
  {
   "cell_type": "code",
   "execution_count": 32,
   "id": "4455747c",
   "metadata": {},
   "outputs": [],
   "source": [
    "bins = list(range(1, n_top_max + 1))\n",
    "hist_values = df.n_top_paths.value_counts()[bins]"
   ]
  },
  {
   "cell_type": "code",
   "execution_count": 35,
   "id": "e274e3f0",
   "metadata": {},
   "outputs": [
    {
     "data": {
      "image/png": "[encoded data removed]",
      "text/plain": [
       "<Figure size 640x480 with 1 Axes>"
      ]
     },
     "metadata": {},
     "output_type": "display_data"
    }
   ],
   "source": [
    "# bins = [1, 2, 3, 4, 5, 6, 10, 20, 50, 100]\n",
    "# bin_labels = [\"2\", \"3\", \"4\", \"5\", \"6-10\", \"10-20\", \"20-50\", \"50-100\"]\n",
    "\n",
    "bin_labels = [str(x) for x in bins]\n",
    "\n",
    "percentage = [\"{0:.0%}\".format(x) for x in np.round(hist_values / df.shape[0], 5)]\n",
    "\n",
    "ax = plt.bar(x=bins, height=hist_values.values)\n",
    "for x, y, p in zip(bins, hist_values.values, hist_values.values):\n",
    "    plt.text(x, y, p)\n",
    "\n",
    "plt.show()"
   ]
  },
  {
   "cell_type": "code",
   "execution_count": 37,
   "id": "b0192e64",
   "metadata": {},
   "outputs": [
    {
     "data": {
      "text/plain": [
       "1     4568585\n",
       "2      218252\n",
       "3       45663\n",
       "4       15142\n",
       "5        5841\n",
       "6        2711\n",
       "7        1500\n",
       "8         938\n",
       "9         601\n",
       "10        451\n",
       "11        372\n",
       "12        228\n",
       "13        192\n",
       "14        128\n",
       "15        115\n",
       "16         95\n",
       "17         93\n",
       "19         56\n",
       "18         51\n",
       "20         48\n",
       "22         36\n",
       "21         35\n",
       "23         22\n",
       "24         21\n",
       "25         14\n",
       "26         13\n",
       "28         11\n",
       "27          9\n",
       "29          7\n",
       "32          6\n",
       "50          4\n",
       "33          4\n",
       "39          3\n",
       "34          3\n",
       "31          3\n",
       "35          3\n",
       "42          3\n",
       "37          3\n",
       "30          2\n",
       "47          2\n",
       "38          2\n",
       "36          2\n",
       "49          2\n",
       "48          1\n",
       "46          1\n",
       "43          1\n",
       "Name: n_level2_paths, dtype: int64"
      ]
     },
     "execution_count": 37,
     "metadata": {},
     "output_type": "execute_result"
    }
   ],
   "source": [
    "df.n_level2_paths.value_counts()"
   ]
  },
  {
   "cell_type": "code",
   "execution_count": null,
   "id": "43c7c5ce",
   "metadata": {},
   "outputs": [],
   "source": [
    "bins = list(range(1, 41))\n",
    "hist_values = df.n_level2_paths.value_counts()[bins]\n",
    "bin_labels = [str(x) for x in bins]"
   ]
  },
  {
   "cell_type": "code",
   "execution_count": 42,
   "id": "7be09f48",
   "metadata": {},
   "outputs": [
    {
     "data": {
      "text/plain": [
       "(14, 6)"
      ]
     },
     "execution_count": 42,
     "metadata": {},
     "output_type": "execute_result"
    }
   ],
   "source": [
    "df[df.n_level2_paths >= 40].shape"
   ]
  },
  {
   "cell_type": "code",
   "execution_count": 46,
   "id": "f8070b84",
   "metadata": {},
   "outputs": [
    {
     "ename": "AttributeError",
     "evalue": "'list' object has no attribute 'values'",
     "output_type": "error",
     "traceback": [
      "\u001b[0;31m---------------------------------------------------------------------------\u001b[0m",
      "\u001b[0;31mAttributeError\u001b[0m                            Traceback (most recent call last)",
      "Cell \u001b[0;32mIn[46], line 7\u001b[0m\n\u001b[1;32m      4\u001b[0m hist_values \u001b[38;5;241m=\u001b[39m \u001b[38;5;28mlist\u001b[39m(hist_values\u001b[38;5;241m.\u001b[39mvalues)\n\u001b[1;32m      5\u001b[0m hist_values\u001b[38;5;241m.\u001b[39mappend(\u001b[38;5;241m40\u001b[39m)\n\u001b[0;32m----> 7\u001b[0m ax \u001b[38;5;241m=\u001b[39m plt\u001b[38;5;241m.\u001b[39mbar(x\u001b[38;5;241m=\u001b[39mbins, height\u001b[38;5;241m=\u001b[39m\u001b[43mhist_values\u001b[49m\u001b[38;5;241;43m.\u001b[39;49m\u001b[43mvalues\u001b[49m)\n\u001b[1;32m      8\u001b[0m \u001b[38;5;28;01mfor\u001b[39;00m x, y, p \u001b[38;5;129;01min\u001b[39;00m \u001b[38;5;28mzip\u001b[39m(bins, hist_values\u001b[38;5;241m.\u001b[39mvalues, hist_values\u001b[38;5;241m.\u001b[39mvalues):\n\u001b[1;32m      9\u001b[0m     plt\u001b[38;5;241m.\u001b[39mtext(x, y, p)\n",
      "\u001b[0;31mAttributeError\u001b[0m: 'list' object has no attribute 'values'"
     ]
    }
   ],
   "source": [
    "bins = list(range(1, 40))\n",
    "hist_values = df.n_level2_paths.value_counts()[bins]\n",
    "bins.append(40)\n",
    "hist_values = list(hist_values.values)\n",
    "hist_values.append(40)\n",
    "\n",
    "ax = plt.bar(x=bins, height=hist_values.values)\n",
    "for x, y, p in zip(bins, hist_values.values, hist_values.values):\n",
    "    plt.text(x, y, p)\n",
    "\n",
    "plt.show()"
   ]
  },
  {
   "cell_type": "code",
   "execution_count": null,
   "id": "2feb2da1",
   "metadata": {},
   "outputs": [],
   "source": []
  }
 ],
 "metadata": {
  "kernelspec": {
   "display_name": "venv",
   "language": "python",
   "name": "venv"
  },
  "language_info": {
   "codemirror_mode": {
    "name": "ipython",
    "version": 3
   },
   "file_extension": ".py",
   "mimetype": "text/x-python",
   "name": "python",
   "nbconvert_exporter": "python",
   "pygments_lexer": "ipython3",
   "version": "3.8.9"
  }
 },
 "nbformat": 4,
 "nbformat_minor": 5
}
