{
 "cells": [
  {
   "cell_type": "code",
   "execution_count": 1,
   "id": "552b55bd",
   "metadata": {},
   "outputs": [
    {
     "name": "stdout",
     "output_type": "stream",
     "text": [
      "WARNING:  Python 3.5-3.7 will be deprecated on August 8th, 2023. Please use Python version 3.8 and up.\n",
      "\n",
      "If you have a compatible Python interpreter installed, you can use it by setting\n",
      "the CLOUDSDK_PYTHON environment variable to point to it.\n",
      "\n",
      "Updated property [core/project].\n"
     ]
    }
   ],
   "source": [
    "!gcloud config set project etsy-bigquery-adhoc-prod"
   ]
  },
  {
   "cell_type": "code",
   "execution_count": 2,
   "id": "9d8a6b1d",
   "metadata": {},
   "outputs": [],
   "source": [
    "%load_ext google.cloud.bigquery"
   ]
  },
  {
   "cell_type": "code",
   "execution_count": 3,
   "id": "63bf6353",
   "metadata": {},
   "outputs": [],
   "source": [
    "import matplotlib.pyplot as plt\n",
    "import seaborn as sns\n",
    "import scipy\n",
    "import pandas as pd\n",
    "import numpy as np"
   ]
  },
  {
   "cell_type": "markdown",
   "id": "12da4e27",
   "metadata": {},
   "source": [
    "## Coverage in FBV2"
   ]
  },
  {
   "cell_type": "markdown",
   "id": "d41a9181",
   "metadata": {},
   "source": [
    "```sql\n",
    "select sum(queryLevelMetrics_gms)\n",
    "from `etsy-ml-systems-prod.feature_bank_v2.query_feature_bank_2023-10-01`\n",
    "where queryTaxoDemandFeatures_purchaseTopTaxonomyPaths is not null\n",
    "and queryTaxoDemandFeatures_purchaseTopTaxonomyPaths.list[0] is not null\n",
    "```"
   ]
  },
  {
   "cell_type": "markdown",
   "id": "debbf61a",
   "metadata": {},
   "source": [
    "```sql\n",
    "select sum(q.gms)\n",
    "from `etsy-ml-systems-prod.feature_bank_v2.query_feature_bank_2023-10-01` fb\n",
    "left join `etsy-data-warehouse-prod.rollups.query_level_metrics_raw` q\n",
    "on fb.key = q.query_raw\n",
    "```"
   ]
  },
  {
   "cell_type": "markdown",
   "id": "fc6f952d",
   "metadata": {},
   "source": [
    "## Coverage in a day of FL data"
   ]
  },
  {
   "cell_type": "markdown",
   "id": "9c6305e7",
   "metadata": {},
   "source": [
    "```sql\n",
    "create or replace table `etsy-sr-etl-prod.yzhang.web_fl_train_1002`\n",
    "as (\n",
    "    with fl as (\n",
    "      select\n",
    "          requestUUID, visitId, position, \n",
    "          candidateInfo.docInfo.listingInfo.listingId, \n",
    "          candidateInfo.docInfo.listingInfo.verticaListings.taxonomyPath,\n",
    "          ctx.docInfo.queryInfo.query,\n",
    "          ctx.docInfo.queryInfo.queryTaxoDemandFeatures.*,\n",
    "          attributions,\n",
    "      from `etsy-ml-systems-prod.attributed_instance.query_pipeline_web_organic_2023_10_02`, \n",
    "          unnest(contextualInfo) as ctx\n",
    "      where ctx.docInfo.queryInfo.query is not null\n",
    "      order by requestUUID, position\n",
    "    ),\n",
    "    query_gms as (\n",
    "      select query_raw, gms \n",
    "      from `etsy-data-warehouse-prod.rollups.query_level_metrics_raw` \n",
    "    )\n",
    "    select\n",
    "      fl.*, query_gms.gms\n",
    "    from fl  \n",
    "    left join query_gms \n",
    "    on fl.query = query_gms.query_raw\n",
    ")\n",
    "```"
   ]
  },
  {
   "cell_type": "markdown",
   "id": "9aa7be24",
   "metadata": {},
   "source": [
    "```sql\n",
    "SELECT count(distinct query)\n",
    "FROM `etsy-sr-etl-prod.yzhang.web_fl_train_1002`\n",
    "where array_length(purchaseTopTaxonomyPaths) > 0\n",
    "```"
   ]
  },
  {
   "cell_type": "markdown",
   "id": "19ba9622",
   "metadata": {},
   "source": [
    "+ Queries with purchased taxonomies: 331904 / 925234 (36%)\n",
    "+ Accounting for GMS 101571374484320 / 107290298625912 (94.7%)\n",
    "\n",
    "+ Queries with clicked taxonomies purchase: 593278 / 925234 (64%)\n",
    "+ accounting for GMS: 101857085524361 / 107290298625912 (94.9%)"
   ]
  },
  {
   "cell_type": "markdown",
   "id": "83bd043d",
   "metadata": {},
   "source": [
    "## Coverage in 3 days of RPC data"
   ]
  },
  {
   "cell_type": "markdown",
   "id": "d347767e",
   "metadata": {},
   "source": [
    "```sql\n",
    "with rpc_query as (\n",
    "  select distinct query\n",
    "  from `etsy-sr-etl-prod.yzhang.query_taxo_lastpass_rpc` rpc\n",
    "  where purchase_top_paths is not null\n",
    "  and purchase_top_paths.list[0] is not null\n",
    "),\n",
    "qgms as (\n",
    "  select query, q.gms\n",
    "  from rpc_query\n",
    "  left join `etsy-data-warehouse-prod.rollups.query_level_metrics_raw` q\n",
    "  on rpc_query.query = q.query_raw\n",
    ")\n",
    "select sum(gms) from qgms\n",
    "```"
   ]
  },
  {
   "cell_type": "markdown",
   "id": "bf5c1b14",
   "metadata": {},
   "source": [
    "## How positively correlated is query demand feature and queryBuyerTaxoDresden"
   ]
  },
  {
   "cell_type": "markdown",
   "id": "e843dcc4",
   "metadata": {},
   "source": [
    "+ Number of queries\n",
    "    + query demand purchase top taxo available: 4861275 / 1994917889 = 0.24%\n",
    "    + query buyer taxo dresden available: 734605469 / 1994917889 = 37%\n",
    "    + both available: 4652145 / 1994917889 = 0.23%\n",
    "\n",
    "+ query level GMS\n",
    "    + query demand purchase top taxo available: 123699245786 / 243526671508 = 51%\n",
    "    + query buyer taxo dresden available: 188767010402 / 243526671508 = 78%\n",
    "    + both available: 123289689477 / 243526671508 = 51%"
   ]
  },
  {
   "cell_type": "code",
   "execution_count": 4,
   "id": "51c3ff72",
   "metadata": {},
   "outputs": [
    {
     "name": "stderr",
     "output_type": "stream",
     "text": [
      "Query complete after 0.02s: 100%|█████████████| 3/3 [00:00<00:00, 922.23query/s]\n",
      "Downloading: 100%|██████████████| 4652145/4652145 [00:11<00:00, 414231.78rows/s]\n"
     ]
    }
   ],
   "source": [
    "%%bigquery df\n",
    "select \n",
    "    `key` as query_str,\n",
    "    queryLevelMetrics_gms as query_gms,\n",
    "    queryTaxoDemandFeatures_purchaseTopTaxonomyPaths as demand_top,\n",
    "    queryTaxoDemandFeatures_purchaseLevel2TaxonomyPaths as demand_level2,\n",
    "    queryBuyerTaxoDresden_taxoPath as dresden\n",
    "from `etsy-ml-systems-prod.feature_bank_v2.query_feature_bank_most_recent`\n",
    "where queryTaxoDemandFeatures_purchaseLevel2TaxonomyPaths is not null\n",
    "and array_length(queryTaxoDemandFeatures_purchaseLevel2TaxonomyPaths.list) > 0\n",
    "and queryBuyerTaxoDresden_taxoPath is not null"
   ]
  },
  {
   "cell_type": "code",
   "execution_count": 5,
   "id": "ca9125f9",
   "metadata": {},
   "outputs": [],
   "source": [
    "def process_full_path_top(taxo_path):\n",
    "    taxo_path_split = taxo_path.split(\".\")\n",
    "    return taxo_path_split[0]\n",
    "        \n",
    "def process_full_path_level2(taxo_path):\n",
    "    taxo_path_split = taxo_path.split(\".\")\n",
    "    if len(taxo_path_split) > 1:\n",
    "        return taxo_path_split[0] + '.' + taxo_path_split[1]\n",
    "    else:\n",
    "        return \"\""
   ]
  },
  {
   "cell_type": "code",
   "execution_count": 6,
   "id": "d30cdc2d",
   "metadata": {},
   "outputs": [],
   "source": [
    "df[\"demand_top_clean\"] = df.demand_top.apply(lambda x: [item[\"element\"] for item in x[\"list\"]])\n",
    "df[\"demand_level2_clean\"] = df.demand_level2.apply(lambda x: [item[\"element\"] for item in x[\"list\"]])\n",
    "df[\"dresden_top\"] = df.dresden.apply(process_full_path_top)\n",
    "df[\"dresden_level2\"] = df.dresden.apply(process_full_path_level2)"
   ]
  },
  {
   "cell_type": "code",
   "execution_count": 7,
   "id": "911d1eb7",
   "metadata": {},
   "outputs": [
    {
     "data": {
      "text/html": [
       "<div>\n",
       "<style scoped>\n",
       "    .dataframe tbody tr th:only-of-type {\n",
       "        vertical-align: middle;\n",
       "    }\n",
       "\n",
       "    .dataframe tbody tr th {\n",
       "        vertical-align: top;\n",
       "    }\n",
       "\n",
       "    .dataframe thead th {\n",
       "        text-align: right;\n",
       "    }\n",
       "</style>\n",
       "<table border=\"1\" class=\"dataframe\">\n",
       "  <thead>\n",
       "    <tr style=\"text-align: right;\">\n",
       "      <th></th>\n",
       "      <th>query_str</th>\n",
       "      <th>query_gms</th>\n",
       "      <th>demand_top</th>\n",
       "      <th>demand_level2</th>\n",
       "      <th>dresden</th>\n",
       "      <th>demand_top_clean</th>\n",
       "      <th>demand_level2_clean</th>\n",
       "      <th>dresden_top</th>\n",
       "      <th>dresden_level2</th>\n",
       "    </tr>\n",
       "  </thead>\n",
       "  <tbody>\n",
       "    <tr>\n",
       "      <th>0</th>\n",
       "      <td>mom lamp</td>\n",
       "      <td>26248.0</td>\n",
       "      <td>{'list': [{'element': 'home_and_living'}]}</td>\n",
       "      <td>{'list': [{'element': 'home_and_living.lightin...</td>\n",
       "      <td>home_and_living</td>\n",
       "      <td>[home_and_living]</td>\n",
       "      <td>[home_and_living.lighting]</td>\n",
       "      <td>home_and_living</td>\n",
       "      <td></td>\n",
       "    </tr>\n",
       "    <tr>\n",
       "      <th>1</th>\n",
       "      <td>mom letter blanket</td>\n",
       "      <td>39626.0</td>\n",
       "      <td>{'list': [{'element': 'home_and_living'}]}</td>\n",
       "      <td>{'list': [{'element': 'home_and_living.bedding...</td>\n",
       "      <td>home_and_living.bedding.blankets_and_throws</td>\n",
       "      <td>[home_and_living]</td>\n",
       "      <td>[home_and_living.bedding]</td>\n",
       "      <td>home_and_living</td>\n",
       "      <td>home_and_living.bedding</td>\n",
       "    </tr>\n",
       "    <tr>\n",
       "      <th>2</th>\n",
       "      <td>girl nutcracker dress</td>\n",
       "      <td>96467.0</td>\n",
       "      <td>{'list': [{'element': 'clothing'}]}</td>\n",
       "      <td>{'list': [{'element': 'clothing.girls_clothing...</td>\n",
       "      <td>clothing.girls_clothing.dresses</td>\n",
       "      <td>[clothing]</td>\n",
       "      <td>[clothing.girls_clothing]</td>\n",
       "      <td>clothing</td>\n",
       "      <td>clothing.girls_clothing</td>\n",
       "    </tr>\n",
       "    <tr>\n",
       "      <th>3</th>\n",
       "      <td>girl of now sample</td>\n",
       "      <td>NaN</td>\n",
       "      <td>{'list': [{'element': 'bath_and_beauty'}]}</td>\n",
       "      <td>{'list': [{'element': 'bath_and_beauty.fragran...</td>\n",
       "      <td>bath_and_beauty.fragrances</td>\n",
       "      <td>[bath_and_beauty]</td>\n",
       "      <td>[bath_and_beauty.fragrances]</td>\n",
       "      <td>bath_and_beauty</td>\n",
       "      <td>bath_and_beauty.fragrances</td>\n",
       "    </tr>\n",
       "    <tr>\n",
       "      <th>4</th>\n",
       "      <td>happy paw tag</td>\n",
       "      <td>9460.0</td>\n",
       "      <td>{'list': [{'element': 'pet_supplies'}]}</td>\n",
       "      <td>{'list': [{'element': 'pet_supplies.pet_collar...</td>\n",
       "      <td>pet_supplies.pet_collars_and_leashes.pet_id_tags</td>\n",
       "      <td>[pet_supplies]</td>\n",
       "      <td>[pet_supplies.pet_collars_and_leashes]</td>\n",
       "      <td>pet_supplies</td>\n",
       "      <td>pet_supplies.pet_collars_and_leashes</td>\n",
       "    </tr>\n",
       "  </tbody>\n",
       "</table>\n",
       "</div>"
      ],
      "text/plain": [
       "               query_str  query_gms  \\\n",
       "0               mom lamp    26248.0   \n",
       "1     mom letter blanket    39626.0   \n",
       "2  girl nutcracker dress    96467.0   \n",
       "3     girl of now sample        NaN   \n",
       "4          happy paw tag     9460.0   \n",
       "\n",
       "                                   demand_top  \\\n",
       "0  {'list': [{'element': 'home_and_living'}]}   \n",
       "1  {'list': [{'element': 'home_and_living'}]}   \n",
       "2         {'list': [{'element': 'clothing'}]}   \n",
       "3  {'list': [{'element': 'bath_and_beauty'}]}   \n",
       "4     {'list': [{'element': 'pet_supplies'}]}   \n",
       "\n",
       "                                       demand_level2  \\\n",
       "0  {'list': [{'element': 'home_and_living.lightin...   \n",
       "1  {'list': [{'element': 'home_and_living.bedding...   \n",
       "2  {'list': [{'element': 'clothing.girls_clothing...   \n",
       "3  {'list': [{'element': 'bath_and_beauty.fragran...   \n",
       "4  {'list': [{'element': 'pet_supplies.pet_collar...   \n",
       "\n",
       "                                            dresden   demand_top_clean  \\\n",
       "0                                   home_and_living  [home_and_living]   \n",
       "1       home_and_living.bedding.blankets_and_throws  [home_and_living]   \n",
       "2                   clothing.girls_clothing.dresses         [clothing]   \n",
       "3                        bath_and_beauty.fragrances  [bath_and_beauty]   \n",
       "4  pet_supplies.pet_collars_and_leashes.pet_id_tags     [pet_supplies]   \n",
       "\n",
       "                      demand_level2_clean      dresden_top  \\\n",
       "0              [home_and_living.lighting]  home_and_living   \n",
       "1               [home_and_living.bedding]  home_and_living   \n",
       "2               [clothing.girls_clothing]         clothing   \n",
       "3            [bath_and_beauty.fragrances]  bath_and_beauty   \n",
       "4  [pet_supplies.pet_collars_and_leashes]     pet_supplies   \n",
       "\n",
       "                         dresden_level2  \n",
       "0                                        \n",
       "1               home_and_living.bedding  \n",
       "2               clothing.girls_clothing  \n",
       "3            bath_and_beauty.fragrances  \n",
       "4  pet_supplies.pet_collars_and_leashes  "
      ]
     },
     "execution_count": 7,
     "metadata": {},
     "output_type": "execute_result"
    }
   ],
   "source": [
    "df.head()"
   ]
  },
  {
   "cell_type": "code",
   "execution_count": 8,
   "id": "0693503d",
   "metadata": {},
   "outputs": [],
   "source": [
    "def compare_taxo_top(row):\n",
    "    return float(row.demand_top_clean[0] == row.dresden_top)\n",
    "\n",
    "def compare_taxo_level2(row):\n",
    "    return float(row.demand_level2_clean[0] == row.dresden_level2)"
   ]
  },
  {
   "cell_type": "code",
   "execution_count": 9,
   "id": "cb1497b7",
   "metadata": {},
   "outputs": [],
   "source": [
    "df[\"top_same\"] = df.apply(compare_taxo_top, axis=1)\n",
    "df[\"level2_same\"] = df.apply(compare_taxo_level2, axis=1)"
   ]
  },
  {
   "cell_type": "code",
   "execution_count": 10,
   "id": "394a5351",
   "metadata": {},
   "outputs": [
    {
     "data": {
      "text/html": [
       "<div>\n",
       "<style scoped>\n",
       "    .dataframe tbody tr th:only-of-type {\n",
       "        vertical-align: middle;\n",
       "    }\n",
       "\n",
       "    .dataframe tbody tr th {\n",
       "        vertical-align: top;\n",
       "    }\n",
       "\n",
       "    .dataframe thead th {\n",
       "        text-align: right;\n",
       "    }\n",
       "</style>\n",
       "<table border=\"1\" class=\"dataframe\">\n",
       "  <thead>\n",
       "    <tr style=\"text-align: right;\">\n",
       "      <th></th>\n",
       "      <th>demand_top_clean</th>\n",
       "      <th>dresden_top</th>\n",
       "    </tr>\n",
       "  </thead>\n",
       "  <tbody>\n",
       "    <tr>\n",
       "      <th>0</th>\n",
       "      <td>[home_and_living]</td>\n",
       "      <td>home_and_living</td>\n",
       "    </tr>\n",
       "    <tr>\n",
       "      <th>1</th>\n",
       "      <td>[home_and_living]</td>\n",
       "      <td>home_and_living</td>\n",
       "    </tr>\n",
       "    <tr>\n",
       "      <th>2</th>\n",
       "      <td>[clothing]</td>\n",
       "      <td>clothing</td>\n",
       "    </tr>\n",
       "    <tr>\n",
       "      <th>3</th>\n",
       "      <td>[bath_and_beauty]</td>\n",
       "      <td>bath_and_beauty</td>\n",
       "    </tr>\n",
       "    <tr>\n",
       "      <th>4</th>\n",
       "      <td>[pet_supplies]</td>\n",
       "      <td>pet_supplies</td>\n",
       "    </tr>\n",
       "    <tr>\n",
       "      <th>5</th>\n",
       "      <td>[home_and_living]</td>\n",
       "      <td>home_and_living</td>\n",
       "    </tr>\n",
       "    <tr>\n",
       "      <th>6</th>\n",
       "      <td>[bags_and_purses]</td>\n",
       "      <td>bags_and_purses</td>\n",
       "    </tr>\n",
       "    <tr>\n",
       "      <th>7</th>\n",
       "      <td>[bags_and_purses, weddings]</td>\n",
       "      <td>bags_and_purses</td>\n",
       "    </tr>\n",
       "    <tr>\n",
       "      <th>8</th>\n",
       "      <td>[bags_and_purses]</td>\n",
       "      <td>bags_and_purses</td>\n",
       "    </tr>\n",
       "    <tr>\n",
       "      <th>9</th>\n",
       "      <td>[bags_and_purses]</td>\n",
       "      <td>bags_and_purses</td>\n",
       "    </tr>\n",
       "  </tbody>\n",
       "</table>\n",
       "</div>"
      ],
      "text/plain": [
       "              demand_top_clean      dresden_top\n",
       "0            [home_and_living]  home_and_living\n",
       "1            [home_and_living]  home_and_living\n",
       "2                   [clothing]         clothing\n",
       "3            [bath_and_beauty]  bath_and_beauty\n",
       "4               [pet_supplies]     pet_supplies\n",
       "5            [home_and_living]  home_and_living\n",
       "6            [bags_and_purses]  bags_and_purses\n",
       "7  [bags_and_purses, weddings]  bags_and_purses\n",
       "8            [bags_and_purses]  bags_and_purses\n",
       "9            [bags_and_purses]  bags_and_purses"
      ]
     },
     "execution_count": 10,
     "metadata": {},
     "output_type": "execute_result"
    }
   ],
   "source": [
    "df[df.top_same == 1][[\"demand_top_clean\", \"dresden_top\"]].head(n=10)"
   ]
  },
  {
   "cell_type": "code",
   "execution_count": 11,
   "id": "6f57afb0",
   "metadata": {},
   "outputs": [
    {
     "data": {
      "text/html": [
       "<div>\n",
       "<style scoped>\n",
       "    .dataframe tbody tr th:only-of-type {\n",
       "        vertical-align: middle;\n",
       "    }\n",
       "\n",
       "    .dataframe tbody tr th {\n",
       "        vertical-align: top;\n",
       "    }\n",
       "\n",
       "    .dataframe thead th {\n",
       "        text-align: right;\n",
       "    }\n",
       "</style>\n",
       "<table border=\"1\" class=\"dataframe\">\n",
       "  <thead>\n",
       "    <tr style=\"text-align: right;\">\n",
       "      <th></th>\n",
       "      <th>demand_level2_clean</th>\n",
       "      <th>dresden_level2</th>\n",
       "    </tr>\n",
       "  </thead>\n",
       "  <tbody>\n",
       "    <tr>\n",
       "      <th>1</th>\n",
       "      <td>[home_and_living.bedding]</td>\n",
       "      <td>home_and_living.bedding</td>\n",
       "    </tr>\n",
       "    <tr>\n",
       "      <th>2</th>\n",
       "      <td>[clothing.girls_clothing]</td>\n",
       "      <td>clothing.girls_clothing</td>\n",
       "    </tr>\n",
       "    <tr>\n",
       "      <th>3</th>\n",
       "      <td>[bath_and_beauty.fragrances]</td>\n",
       "      <td>bath_and_beauty.fragrances</td>\n",
       "    </tr>\n",
       "    <tr>\n",
       "      <th>4</th>\n",
       "      <td>[pet_supplies.pet_collars_and_leashes]</td>\n",
       "      <td>pet_supplies.pet_collars_and_leashes</td>\n",
       "    </tr>\n",
       "    <tr>\n",
       "      <th>6</th>\n",
       "      <td>[bags_and_purses.wallets_and_money_clips]</td>\n",
       "      <td>bags_and_purses.wallets_and_money_clips</td>\n",
       "    </tr>\n",
       "    <tr>\n",
       "      <th>7</th>\n",
       "      <td>[bags_and_purses.wallets_and_money_clips, wedd...</td>\n",
       "      <td>bags_and_purses.wallets_and_money_clips</td>\n",
       "    </tr>\n",
       "    <tr>\n",
       "      <th>8</th>\n",
       "      <td>[bags_and_purses.wallets_and_money_clips]</td>\n",
       "      <td>bags_and_purses.wallets_and_money_clips</td>\n",
       "    </tr>\n",
       "    <tr>\n",
       "      <th>9</th>\n",
       "      <td>[bags_and_purses.wallets_and_money_clips]</td>\n",
       "      <td>bags_and_purses.wallets_and_money_clips</td>\n",
       "    </tr>\n",
       "    <tr>\n",
       "      <th>12</th>\n",
       "      <td>[bags_and_purses.wallets_and_money_clips]</td>\n",
       "      <td>bags_and_purses.wallets_and_money_clips</td>\n",
       "    </tr>\n",
       "    <tr>\n",
       "      <th>14</th>\n",
       "      <td>[electronics_and_accessories.electronics_cases...</td>\n",
       "      <td>electronics_and_accessories.electronics_cases</td>\n",
       "    </tr>\n",
       "  </tbody>\n",
       "</table>\n",
       "</div>"
      ],
      "text/plain": [
       "                                  demand_level2_clean  \\\n",
       "1                           [home_and_living.bedding]   \n",
       "2                           [clothing.girls_clothing]   \n",
       "3                        [bath_and_beauty.fragrances]   \n",
       "4              [pet_supplies.pet_collars_and_leashes]   \n",
       "6           [bags_and_purses.wallets_and_money_clips]   \n",
       "7   [bags_and_purses.wallets_and_money_clips, wedd...   \n",
       "8           [bags_and_purses.wallets_and_money_clips]   \n",
       "9           [bags_and_purses.wallets_and_money_clips]   \n",
       "12          [bags_and_purses.wallets_and_money_clips]   \n",
       "14  [electronics_and_accessories.electronics_cases...   \n",
       "\n",
       "                                   dresden_level2  \n",
       "1                         home_and_living.bedding  \n",
       "2                         clothing.girls_clothing  \n",
       "3                      bath_and_beauty.fragrances  \n",
       "4            pet_supplies.pet_collars_and_leashes  \n",
       "6         bags_and_purses.wallets_and_money_clips  \n",
       "7         bags_and_purses.wallets_and_money_clips  \n",
       "8         bags_and_purses.wallets_and_money_clips  \n",
       "9         bags_and_purses.wallets_and_money_clips  \n",
       "12        bags_and_purses.wallets_and_money_clips  \n",
       "14  electronics_and_accessories.electronics_cases  "
      ]
     },
     "execution_count": 11,
     "metadata": {},
     "output_type": "execute_result"
    }
   ],
   "source": [
    "df[df.level2_same == 1][[\"demand_level2_clean\", \"dresden_level2\"]].head(n=10)"
   ]
  },
  {
   "cell_type": "code",
   "execution_count": 12,
   "id": "d473131c",
   "metadata": {},
   "outputs": [
    {
     "data": {
      "text/plain": [
       "2968801.0"
      ]
     },
     "execution_count": 12,
     "metadata": {},
     "output_type": "execute_result"
    }
   ],
   "source": [
    "df.top_same.sum()"
   ]
  },
  {
   "cell_type": "code",
   "execution_count": 13,
   "id": "569f74cd",
   "metadata": {},
   "outputs": [
    {
     "data": {
      "text/plain": [
       "1857121.0"
      ]
     },
     "execution_count": 13,
     "metadata": {},
     "output_type": "execute_result"
    }
   ],
   "source": [
    "df.level2_same.sum()"
   ]
  },
  {
   "cell_type": "code",
   "execution_count": 14,
   "id": "6cdccc72",
   "metadata": {
    "scrolled": true
   },
   "outputs": [
    {
     "data": {
      "text/plain": [
       "90752509244.0"
      ]
     },
     "execution_count": 14,
     "metadata": {},
     "output_type": "execute_result"
    }
   ],
   "source": [
    "df[df.top_same == 1].query_gms.sum()"
   ]
  },
  {
   "cell_type": "code",
   "execution_count": 15,
   "id": "91fc0a23",
   "metadata": {},
   "outputs": [
    {
     "data": {
      "text/plain": [
       "67168836483.0"
      ]
     },
     "execution_count": 15,
     "metadata": {},
     "output_type": "execute_result"
    }
   ],
   "source": [
    "df[df.level2_same == 1].query_gms.sum()"
   ]
  },
  {
   "cell_type": "markdown",
   "id": "381d36b7",
   "metadata": {},
   "source": [
    "+ 2968801 / 4652145 = 64% queries with both features have the same top level taxonomy, which account for 90752509244 / 243526671508 = 37% total query level GMS\n",
    "+ 1857121 / 4652145 = 40% queries with both features have the same level 2 taxonomy, which account for 67168836483 / 243526671508 = 28% total query level GMS"
   ]
  },
  {
   "cell_type": "markdown",
   "id": "115b705f",
   "metadata": {},
   "source": []
  },
  {
   "cell_type": "markdown",
   "id": "b801f3be",
   "metadata": {},
   "source": [
    "## Is it possible listing is purchased but not in query top taxonomy? If yes how often?"
   ]
  },
  {
   "cell_type": "code",
   "execution_count": null,
   "id": "c442409f",
   "metadata": {},
   "outputs": [],
   "source": []
  }
 ],
 "metadata": {
  "kernelspec": {
   "display_name": "venv",
   "language": "python",
   "name": "venv"
  },
  "language_info": {
   "codemirror_mode": {
    "name": "ipython",
    "version": 3
   },
   "file_extension": ".py",
   "mimetype": "text/x-python",
   "name": "python",
   "nbconvert_exporter": "python",
   "pygments_lexer": "ipython3",
   "version": "3.8.9"
  }
 },
 "nbformat": 4,
 "nbformat_minor": 5
}
