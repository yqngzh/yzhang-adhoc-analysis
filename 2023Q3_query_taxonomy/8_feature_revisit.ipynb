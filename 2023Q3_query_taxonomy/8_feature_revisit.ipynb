{
 "cells": [
  {
   "cell_type": "code",
   "execution_count": 1,
   "id": "552b55bd",
   "metadata": {},
   "outputs": [
    {
     "name": "stdout",
     "output_type": "stream",
     "text": [
      "WARNING:  Python 3.5-3.7 will be deprecated on August 8th, 2023. Please use Python version 3.8 and up.\n",
      "\n",
      "If you have a compatible Python interpreter installed, you can use it by setting\n",
      "the CLOUDSDK_PYTHON environment variable to point to it.\n",
      "\n",
      "Updated property [core/project].\n"
     ]
    }
   ],
   "source": [
    "!gcloud config set project etsy-bigquery-adhoc-prod"
   ]
  },
  {
   "cell_type": "code",
   "execution_count": 2,
   "id": "9d8a6b1d",
   "metadata": {},
   "outputs": [],
   "source": [
    "%load_ext google.cloud.bigquery"
   ]
  },
  {
   "cell_type": "code",
   "execution_count": 3,
   "id": "63bf6353",
   "metadata": {},
   "outputs": [],
   "source": [
    "import matplotlib.pyplot as plt\n",
    "import seaborn as sns\n",
    "import scipy\n",
    "import pandas as pd\n",
    "import numpy as np"
   ]
  },
  {
   "cell_type": "markdown",
   "id": "12da4e27",
   "metadata": {},
   "source": [
    "## Coverage in FBV2"
   ]
  },
  {
   "cell_type": "markdown",
   "id": "d41a9181",
   "metadata": {},
   "source": [
    "```sql\n",
    "select sum(queryLevelMetrics_gms)\n",
    "from `etsy-ml-systems-prod.feature_bank_v2.query_feature_bank_2023-10-01`\n",
    "where queryTaxoDemandFeatures_purchaseTopTaxonomyPaths is not null\n",
    "and queryTaxoDemandFeatures_purchaseTopTaxonomyPaths.list[0] is not null\n",
    "```"
   ]
  },
  {
   "cell_type": "markdown",
   "id": "debbf61a",
   "metadata": {},
   "source": [
    "```sql\n",
    "select sum(q.gms)\n",
    "from `etsy-ml-systems-prod.feature_bank_v2.query_feature_bank_2023-10-01` fb\n",
    "left join `etsy-data-warehouse-prod.rollups.query_level_metrics_raw` q\n",
    "on fb.key = q.query_raw\n",
    "```"
   ]
  },
  {
   "cell_type": "markdown",
   "id": "fc6f952d",
   "metadata": {},
   "source": [
    "## Coverage in a day of FL data"
   ]
  },
  {
   "cell_type": "markdown",
   "id": "9c6305e7",
   "metadata": {},
   "source": [
    "```sql\n",
    "create or replace table `etsy-sr-etl-prod.yzhang.web_fl_train_1002`\n",
    "as (\n",
    "    with fl as (\n",
    "      select\n",
    "          requestUUID, visitId, position, \n",
    "          candidateInfo.docInfo.listingInfo.listingId, \n",
    "          candidateInfo.docInfo.listingInfo.verticaListings.taxonomyPath,\n",
    "          ctx.docInfo.queryInfo.query,\n",
    "          ctx.docInfo.queryInfo.queryTaxoDemandFeatures.*,\n",
    "          attributions,\n",
    "      from `etsy-ml-systems-prod.attributed_instance.query_pipeline_web_organic_2023_10_02`, \n",
    "          unnest(contextualInfo) as ctx\n",
    "      where ctx.docInfo.queryInfo.query is not null\n",
    "      order by requestUUID, position\n",
    "    ),\n",
    "    query_gms as (\n",
    "      select query_raw, gms \n",
    "      from `etsy-data-warehouse-prod.rollups.query_level_metrics_raw` \n",
    "    )\n",
    "    select\n",
    "      fl.*, query_gms.gms\n",
    "    from fl  \n",
    "    left join query_gms \n",
    "    on fl.query = query_gms.query_raw\n",
    ")\n",
    "```"
   ]
  },
  {
   "cell_type": "markdown",
   "id": "9aa7be24",
   "metadata": {},
   "source": [
    "```sql\n",
    "SELECT count(distinct query)\n",
    "FROM `etsy-sr-etl-prod.yzhang.web_fl_train_1002`\n",
    "where array_length(purchaseTopTaxonomyPaths) > 0\n",
    "```"
   ]
  },
  {
   "cell_type": "markdown",
   "id": "19ba9622",
   "metadata": {},
   "source": [
    "+ Queries with purchased taxonomies: 331904 / 925234 (36%)\n",
    "+ Accounting for GMS 101571374484320 / 107290298625912 (94.7%)\n",
    "\n",
    "+ Queries with clicked taxonomies purchase: 593278 / 925234 (64%)\n",
    "+ accounting for GMS: 101857085524361 / 107290298625912 (94.9%)"
   ]
  },
  {
   "cell_type": "markdown",
   "id": "83bd043d",
   "metadata": {},
   "source": [
    "## Coverage in 3 days of RPC data"
   ]
  },
  {
   "cell_type": "markdown",
   "id": "d347767e",
   "metadata": {},
   "source": [
    "```sql\n",
    "with rpc_query as (\n",
    "  select distinct query\n",
    "  from `etsy-sr-etl-prod.yzhang.query_taxo_lastpass_rpc` rpc\n",
    "  where purchase_top_paths is not null\n",
    "  and purchase_top_paths.list[0] is not null\n",
    "),\n",
    "qgms as (\n",
    "  select query, q.gms\n",
    "  from rpc_query\n",
    "  left join `etsy-data-warehouse-prod.rollups.query_level_metrics_raw` q\n",
    "  on rpc_query.query = q.query_raw\n",
    ")\n",
    "select sum(gms) from qgms\n",
    "```"
   ]
  },
  {
   "cell_type": "markdown",
   "id": "b801f3be",
   "metadata": {},
   "source": [
    "## Is it possible listing is purchased but not in query top taxonomy? If yes how often?"
   ]
  },
  {
   "cell_type": "code",
   "execution_count": null,
   "id": "c442409f",
   "metadata": {},
   "outputs": [],
   "source": []
  }
 ],
 "metadata": {
  "kernelspec": {
   "display_name": "venv",
   "language": "python",
   "name": "venv"
  },
  "language_info": {
   "codemirror_mode": {
    "name": "ipython",
    "version": 3
   },
   "file_extension": ".py",
   "mimetype": "text/x-python",
   "name": "python",
   "nbconvert_exporter": "python",
   "pygments_lexer": "ipython3",
   "version": "3.8.9"
  }
 },
 "nbformat": 4,
 "nbformat_minor": 5
}
