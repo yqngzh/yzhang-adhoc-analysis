{
 "cells": [
  {
   "cell_type": "code",
   "execution_count": 1,
   "id": "2e2c66f2-1671-4a97-a26e-145f8a673bc9",
   "metadata": {},
   "outputs": [],
   "source": [
    "import pandas as pd\n",
    "import json\n",
    "import re"
   ]
  },
  {
   "cell_type": "markdown",
   "id": "6980535a-bcac-4c17-8c92-9cc200a9e01c",
   "metadata": {},
   "source": [
    "examples tracked under [google drive](https://drive.google.com/drive/folders/1Mux1v41ucF1zkp3V22N7UQ4AI336WFJ5?usp=drive_link)\n",
    "\n",
    "sources of examples\n",
    "- [False positives](https://docs.google.com/document/d/1ePngvSbSPy3jwZOMg09ubhVIhCDNkR_4T2aAUyKmEv0/edit?tab=t.y2z4czqwdlwf)\n",
    "- [Learnings from internal annotation](https://docs.google.com/document/d/1UyYeYX3aAfvSyXM1lQeh5Q7SZ0fVIA6r4hrKjMKlj4k/edit?tab=t.s80apu9k7nsg)"
   ]
  },
  {
   "cell_type": "code",
   "execution_count": 2,
   "id": "82cb6931-6c7b-42e2-ba04-c8d31b922321",
   "metadata": {},
   "outputs": [],
   "source": [
    "df = pd.read_excel(\"./data/few_shot_examples_v0_full.xlsx\")"
   ]
  },
  {
   "cell_type": "code",
   "execution_count": 3,
   "id": "0c881ee2-d701-4523-ad18-193ce86d56bd",
   "metadata": {},
   "outputs": [],
   "source": [
    "def clean_query_entities(qe_str):\n",
    "    # process json formatted strings into natual text strings\n",
    "    qe_data = json.loads(qe_str)\n",
    "    qe_output = \"\"\n",
    "    for k, v in qe_data.items():\n",
    "        if len(v) > 0:\n",
    "            qe_output += f\"{k}:{','.join(v)};\"\n",
    "    qe_output = qe_output.strip()\n",
    "    return qe_output\n",
    "\n",
    "\n",
    "def clean_tags(tag_str):\n",
    "    # remove leading dot\n",
    "    if tag_str.startswith(\".\"):\n",
    "        tag_str = tag_str[1:]\n",
    "    # replace dots with comma because dots cannot be saved to excel\n",
    "    output = tag_str.replace(\".\", \", \")\n",
    "    return output\n",
    "\n",
    "    \n",
    "def normalize_strings(s):\n",
    "    s = re.sub(r\"&gt;\", \">\", s)\n",
    "    s = re.sub(r\"&lt;\", \"<\", s)\n",
    "    s = re.sub(r\"&#39;|‘|’\", \"'\", s)\n",
    "    s = re.sub(r\"&quot;|“|”|''\", '\"', s)\n",
    "    s = re.sub(r\"\\x00\", \"\", s)\n",
    "    return s"
   ]
  },
  {
   "cell_type": "code",
   "execution_count": 4,
   "id": "03cfc154-2b72-41b9-9375-f4d1fa369226",
   "metadata": {},
   "outputs": [],
   "source": [
    "df.fillna(\"\", inplace=True)\n",
    "\n",
    "# clean query entities - transform json format into texts\n",
    "df[\"queryEntities\"] = df[\"queryEntities\"].apply(lambda x: \"\" if x == \"\" else clean_query_entities(x))\n",
    "# clean attributes - : for separator instead of #, to lower case\n",
    "df[\"listingAttributes\"] = df[\"listingAttributes\"].str.replace(\"#\",':').str.lower()\n",
    "# clean tags - replace . with ,\n",
    "df[\"listingTags\"] = df[\"listingTags\"].apply(clean_tags)\n",
    "\n",
    "# normalize strings\n",
    "df[\"listingTitle\"] = df[\"listingTitle\"].apply(normalize_strings)\n",
    "df[\"listingTags\"] = df[\"listingTags\"].apply(normalize_strings)\n",
    "df[\"listingDescription\"] = df[\"listingDescription\"].apply(normalize_strings)\n",
    "df[\"listingDescNgrams\"] = df[\"listingDescNgrams\"].apply(normalize_strings)\n",
    "df[\"listingVariations\"] = df[\"listingVariations\"].apply(normalize_strings)\n",
    "df[\"listingReviews\"] = df[\"listingReviews\"].apply(normalize_strings)\n",
    "\n",
    "# combine description keywords and tags\n",
    "df[\"desc\"] = df[\"listingDescNgrams\"] + \", \" + df[\"listingTags\"]"
   ]
  },
  {
   "cell_type": "code",
   "execution_count": 5,
   "id": "6eaecf15-0fb0-434b-b1b8-6c7eb43c0cff",
   "metadata": {},
   "outputs": [
    {
     "data": {
      "text/plain": [
       "'lovely, ring, feature, branch, finger, small, flower, perfect, lovely ring, ring feature, s finger, small flower, flower floral ring, jewelry women girls, forget me not petal, grandma aunt sister, mom mama mum mother, christmas present, birthday daughter 20, girlfriend wife gift, accessory band stud, nature branch vine, minimalistic midi, hypoallergenic boho, sterling silver tiny'"
      ]
     },
     "execution_count": 5,
     "metadata": {},
     "output_type": "execute_result"
    }
   ],
   "source": [
    "df.desc[0]"
   ]
  },
  {
   "cell_type": "code",
   "execution_count": null,
   "id": "4055b6f7-f9a8-44c1-9c58-01709da359b9",
   "metadata": {},
   "outputs": [],
   "source": []
  },
  {
   "cell_type": "markdown",
   "id": "563fa4ec-d315-4395-96e3-2403fdf44431",
   "metadata": {},
   "source": [
    "## Few shot v1"
   ]
  },
  {
   "cell_type": "code",
   "execution_count": 6,
   "id": "6bf46f5e-e6a3-49cd-9f04-91926778192b",
   "metadata": {},
   "outputs": [],
   "source": [
    "# human_template = \"\"\"Query: {}\n",
    "# - Possible rewrites for this query: {}\n",
    "# - Concepts in this query: {}\n",
    "\n",
    "# Product:\n",
    "# - Title: {}\n",
    "# - Shop name: {}\n",
    "# - Product image caption: {}\n",
    "# - Unigrams & bigrams from description: {}\n",
    "# - Category: {}\n",
    "# - Attributes: {}\n",
    "# - Tags: {}\n",
    "# - Custom options: {}\n",
    "# - Reviews: {}\n",
    "# \"\"\"\n",
    "\n",
    "human_template_2 = \"\"\"Query: {}\n",
    "- Concepts in this query: {}\n",
    "- Possible rewrites for this query: {}\n",
    "\n",
    "Product:\n",
    "- Title: {}\n",
    "- Shop name: {}\n",
    "- Image caption: {}\n",
    "- Description key words and terms: {}\n",
    "- Attributes: {}\n",
    "- Custom options: {}\n",
    "\"\"\""
   ]
  },
  {
   "cell_type": "code",
   "execution_count": 7,
   "id": "1d173588-3ffd-4fd4-9735-103579e061b7",
   "metadata": {},
   "outputs": [],
   "source": [
    "json_output = []\n",
    "for i in range(df.shape[0]):\n",
    "    curr_row = df.iloc[i, :]\n",
    "    curr_human = human_template_2.format(\n",
    "        curr_row[\"query\"],\n",
    "        curr_row[\"queryEntities\"] if curr_row[\"queryEntities\"] != \"\" else \"not available\",\n",
    "        curr_row[\"queryRewrites\"] if curr_row[\"queryRewrites\"] != \"\" else \"not available\",\n",
    "        curr_row[\"listingTitle\"] if curr_row[\"listingTitle\"] != \"\" else \"not available\",\n",
    "        curr_row[\"listingShopName\"] if curr_row[\"listingShopName\"] != \"\" else \"not available\",\n",
    "        curr_row[\"listingHeroImageCaption\"] if curr_row[\"listingHeroImageCaption\"] != \"\" else \"not available\",\n",
    "        curr_row[\"desc\"] if curr_row[\"desc\"] != \"\" else \"not available\",\n",
    "        curr_row[\"listingAttributes\"] if curr_row[\"listingAttributes\"] != \"\" else \"not available\",\n",
    "        curr_row[\"listingVariations\"] if curr_row[\"listingVariations\"] != \"\" else \"not available\",\n",
    "    )\n",
    "    curr_ai = {\"label\": f\"{curr_row['label']}\", \"reason\": f\"{curr_row['reason']}\"}\n",
    "    curr_ai = json.dumps(curr_ai)\n",
    "    curr_json = {\"input\": curr_human, \"output\": curr_ai}\n",
    "    json_output.append(curr_json)"
   ]
  },
  {
   "cell_type": "code",
   "execution_count": 8,
   "id": "40c37075-e5b3-4c63-9c75-f70ca0ab8942",
   "metadata": {},
   "outputs": [
    {
     "data": {
      "text/plain": [
       "{'input': 'Query: dainty silver flower ring\\n- Concepts in this query: not available\\n- Possible rewrites for this query: not available\\n\\nProduct:\\n- Title: Flower ring | .925 sterling silver | nature-inspired jewelry | minimalistic stacking ring | wedding jewelry | gift for her\\n- Shop name: 6daycreations2\\n- Image caption: A hand wearing silver ring with a flower design and a thin band\\n- Description key words and terms: lovely, ring, feature, branch, finger, small, flower, perfect, lovely ring, ring feature, s finger, small flower, flower floral ring, jewelry women girls, forget me not petal, grandma aunt sister, mom mama mum mother, christmas present, birthday daughter 20, girlfriend wife gift, accessory band stud, nature branch vine, minimalistic midi, hypoallergenic boho, sterling silver tiny\\n- Attributes: material multi:silver;primary color:silver;band color:silver\\n- Custom options: Ring size: 6, 8, 10, 7, 9\\n',\n",
       " 'output': '{\"label\": \"relevant\", \"reason\": \"Query requested product type is ring. Query requested product features include: dainty style, silver color and or material, flower motif. Product is ring. For dainty, title includes minimalist and image caption mentioning thin band confirms that product is dainty. For silver, product attributes match both material and color silver. For flower motif, title and description confirms that product has flower motif. Product type match, and all product features match, therefore label is relevant.\"}'}"
      ]
     },
     "execution_count": 8,
     "metadata": {},
     "output_type": "execute_result"
    }
   ],
   "source": [
    "json_output[0]"
   ]
  },
  {
   "cell_type": "code",
   "execution_count": 9,
   "id": "3d73115f-3d33-44d5-9001-64a7ff3d983d",
   "metadata": {},
   "outputs": [],
   "source": [
    "filename = \"./few_shot_examples/few_shot_examples_v1.jsonl\"\n",
    "\n",
    "with open(filename, 'w') as file:\n",
    "    for entry in json_output:\n",
    "        json.dump(entry, file)\n",
    "        file.write('\\n')"
   ]
  },
  {
   "cell_type": "code",
   "execution_count": null,
   "id": "c4d0cbaa-9d49-4b10-b3c0-15d64db81cce",
   "metadata": {},
   "outputs": [],
   "source": []
  },
  {
   "cell_type": "markdown",
   "id": "9d1672d3-0d33-41e8-9cb0-0b2d5b01c96a",
   "metadata": {},
   "source": [
    "### Few shot v2"
   ]
  },
  {
   "cell_type": "code",
   "execution_count": 6,
   "id": "8ed2af26-7e39-453d-84c4-3386f9153128",
   "metadata": {},
   "outputs": [],
   "source": [
    "human_template = \"\"\"Query: {}\n",
    "- Concepts in this query: {}\n",
    "\n",
    "Product:\n",
    "- Title: {}\n",
    "- Shop: {}\n",
    "- Image: {}\n",
    "- Description: {}\"\"\""
   ]
  },
  {
   "cell_type": "code",
   "execution_count": 7,
   "id": "b5104117-b094-4f22-b461-821e6751a798",
   "metadata": {},
   "outputs": [],
   "source": [
    "json_output = []\n",
    "for i in range(df.shape[0]):\n",
    "    curr_row = df.iloc[i, :]\n",
    "    \n",
    "    curr_human = human_template.format(\n",
    "        curr_row[\"query\"],\n",
    "        curr_row[\"queryEntities\"] if curr_row[\"queryEntities\"] != \"\" else \"not available\",\n",
    "        curr_row[\"listingTitle\"] if curr_row[\"listingTitle\"] != \"\" else \"not available\",\n",
    "        curr_row[\"listingShopName\"] if curr_row[\"listingShopName\"] != \"\" else \"not available\",\n",
    "        curr_row[\"listingHeroImageCaption\"] if curr_row[\"listingHeroImageCaption\"] != \"\" else \"not available\",\n",
    "        curr_row[\"listingDescNgrams\"] if curr_row[\"listingDescNgrams\"] != \"\" else \"not available\",\n",
    "    )\n",
    "    \n",
    "    curr_ai = {\"label\": f\"{curr_row['label']}\", \"reason\": f\"{curr_row['reason']}\"}\n",
    "    curr_ai = json.dumps(curr_ai)\n",
    "    curr_json = {\"input\": curr_human, \"output\": curr_ai}\n",
    "    json_output.append(curr_json)"
   ]
  },
  {
   "cell_type": "code",
   "execution_count": 8,
   "id": "e987b43e-467c-4c24-88b9-343436927262",
   "metadata": {},
   "outputs": [
    {
     "data": {
      "text/plain": [
       "{'input': 'Query: dainty silver flower ring\\n- Concepts in this query: not available\\n\\nProduct:\\n- Title: Flower ring | .925 sterling silver | nature-inspired jewelry | minimalistic stacking ring | wedding jewelry | gift for her\\n- Shop: 6daycreations2\\n- Image: A hand wearing silver ring with a flower design and a thin band\\n- Description: lovely, ring, feature, branch, finger, small, flower, perfect, lovely ring, ring feature, s finger, small flower',\n",
       " 'output': '{\"label\": \"relevant\", \"reason\": \"Query requested product type is ring. Query requested product features include: dainty style, silver color and or material, flower motif. Product is ring. For dainty, title includes minimalist and image caption mentioning thin band confirms that product is dainty. For silver, product attributes match both material and color silver. For flower motif, title and description confirms that product has flower motif. Product type match, and all product features match, therefore label is relevant.\"}'}"
      ]
     },
     "execution_count": 8,
     "metadata": {},
     "output_type": "execute_result"
    }
   ],
   "source": [
    "json_output[0]"
   ]
  },
  {
   "cell_type": "code",
   "execution_count": 9,
   "id": "0ad6fb32-2d1d-4b59-a1df-cfd4cd624d50",
   "metadata": {},
   "outputs": [],
   "source": [
    "filename = \"./few_shot_examples/few_shot_examples_v2.jsonl\"\n",
    "\n",
    "with open(filename, 'w') as file:\n",
    "    for entry in json_output:\n",
    "        json.dump(entry, file)\n",
    "        file.write('\\n')"
   ]
  },
  {
   "cell_type": "code",
   "execution_count": null,
   "id": "df757c09-cae8-4776-9dae-b7399508f768",
   "metadata": {},
   "outputs": [],
   "source": []
  },
  {
   "cell_type": "markdown",
   "id": "e31a2a57-a480-4328-ac0a-f5bb3ae59da6",
   "metadata": {},
   "source": [
    "## Few shot v3"
   ]
  },
  {
   "cell_type": "code",
   "execution_count": 15,
   "id": "ff05e1d2-f4cc-48c7-a1d8-5c2de5cdabaa",
   "metadata": {},
   "outputs": [],
   "source": [
    "human_template = \"\"\"Query: {}\n",
    "- Concepts in this query: {}\n",
    "\n",
    "Product:\n",
    "- Title: {}\n",
    "- Shop: {}\n",
    "- Image: {}\n",
    "- Description: {}\"\"\""
   ]
  },
  {
   "cell_type": "code",
   "execution_count": 16,
   "id": "5a80bc0a-a2bf-4bdb-9cae-3baa2554585c",
   "metadata": {},
   "outputs": [],
   "source": [
    "json_output = []\n",
    "for i in range(df.shape[0]):\n",
    "    curr_row = df.iloc[i, :]\n",
    "    \n",
    "    curr_human = human_template.format(\n",
    "        curr_row[\"query\"],\n",
    "        curr_row[\"queryEntities\"] if curr_row[\"queryEntities\"] != \"\" else \"not available\",\n",
    "        curr_row[\"listingTitle\"] if curr_row[\"listingTitle\"] != \"\" else \"not available\",\n",
    "        curr_row[\"listingShopName\"] if curr_row[\"listingShopName\"] != \"\" else \"not available\",\n",
    "        curr_row[\"listingHeroImageCaption\"] if curr_row[\"listingHeroImageCaption\"] != \"\" else \"not available\",\n",
    "        curr_row[\"listingDescNgrams\"] if curr_row[\"listingDescNgrams\"] != \"\" else \"not available\",\n",
    "    )\n",
    "    \n",
    "    # curr_ai = {\"label\": f\"{curr_row['label']}\"}\n",
    "    # curr_ai = json.dumps(curr_ai)\n",
    "    curr_json = {\"input\": curr_human, \"output\": curr_row['label']}\n",
    "    json_output.append(curr_json)"
   ]
  },
  {
   "cell_type": "code",
   "execution_count": 17,
   "id": "556c7457-f713-41fb-8839-8b459e4132a7",
   "metadata": {},
   "outputs": [
    {
     "data": {
      "text/plain": [
       "{'input': 'Query: dainty silver flower ring\\n- Concepts in this query: not available\\n\\nProduct:\\n- Title: Flower ring | .925 sterling silver | nature-inspired jewelry | minimalistic stacking ring | wedding jewelry | gift for her\\n- Shop: 6daycreations2\\n- Image: A hand wearing silver ring with a flower design and a thin band\\n- Description: lovely, ring, feature, branch, finger, small, flower, perfect, lovely ring, ring feature, s finger, small flower',\n",
       " 'output': 'relevant'}"
      ]
     },
     "execution_count": 17,
     "metadata": {},
     "output_type": "execute_result"
    }
   ],
   "source": [
    "json_output[0]"
   ]
  },
  {
   "cell_type": "code",
   "execution_count": 18,
   "id": "a8227b98-2fe5-4843-a44e-ef9a98255784",
   "metadata": {},
   "outputs": [],
   "source": [
    "filename = \"./few_shot_examples/few_shot_examples_v3.jsonl\"\n",
    "\n",
    "with open(filename, 'w') as file:\n",
    "    for entry in json_output:\n",
    "        json.dump(entry, file)\n",
    "        file.write('\\n')"
   ]
  },
  {
   "cell_type": "code",
   "execution_count": null,
   "id": "a294bf2e-cd55-4558-ba71-98079ce66bec",
   "metadata": {},
   "outputs": [],
   "source": []
  }
 ],
 "metadata": {
  "kernelspec": {
   "display_name": "Python 3 (ipykernel)",
   "language": "python",
   "name": "python3"
  },
  "language_info": {
   "codemirror_mode": {
    "name": "ipython",
    "version": 3
   },
   "file_extension": ".py",
   "mimetype": "text/x-python",
   "name": "python",
   "nbconvert_exporter": "python",
   "pygments_lexer": "ipython3",
   "version": "3.10.1"
  }
 },
 "nbformat": 4,
 "nbformat_minor": 5
}
