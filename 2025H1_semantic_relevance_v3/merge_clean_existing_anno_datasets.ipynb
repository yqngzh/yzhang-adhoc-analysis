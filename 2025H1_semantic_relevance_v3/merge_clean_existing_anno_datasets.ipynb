{
 "cells": [
  {
   "cell_type": "code",
   "execution_count": 1,
   "id": "035a5321-f880-4299-90f5-053a2a0ec35e",
   "metadata": {},
   "outputs": [],
   "source": [
    "import pandas as pd\n",
    "import numpy as np\n",
    "import json\n",
    "from collections import Counter\n",
    "\n",
    "from google.cloud import bigquery"
   ]
  },
  {
   "cell_type": "code",
   "execution_count": 2,
   "id": "f20e8fdf-96a9-43dd-896b-da5fe2b07848",
   "metadata": {},
   "outputs": [
    {
     "name": "stderr",
     "output_type": "stream",
     "text": [
      "/Users/yzhang/development/yzhang-adhoc-analysis/venv/lib/python3.10/site-packages/google/auth/_default.py:76: UserWarning: Your application has authenticated using end user credentials from Google Cloud SDK without a quota project. You might receive a \"quota exceeded\" or \"API not enabled\" error. See the following page for troubleshooting: https://cloud.google.com/docs/authentication/adc-troubleshooting/user-creds. \n",
      "  warnings.warn(_CLOUD_SDK_CREDENTIALS_WARNING)\n"
     ]
    }
   ],
   "source": [
    "bq_client = bigquery.Client(project=\"etsy-search-ml-dev\")"
   ]
  },
  {
   "cell_type": "markdown",
   "id": "27e61988-d62a-4414-8996-52e1a378cf1e",
   "metadata": {},
   "source": [
    "## US Annotation V2"
   ]
  },
  {
   "cell_type": "code",
   "execution_count": 3,
   "id": "82aaaeca-2b3b-462b-a205-03cb13aba20c",
   "metadata": {},
   "outputs": [],
   "source": [
    "us_v2_query = \"\"\"SELECT \n",
    "    query, \n",
    "    '' as queryEn,\n",
    "    listingId, \n",
    "    etsyUUID, \n",
    "    requestSource as platform,\n",
    "    userLanguage,\n",
    "    listingTitle as titleEn_vertica,\n",
    "    source as anno_data_source,\n",
    "    gold_label,\n",
    "    label_annotator_1,\n",
    "    label_annotator_2,\n",
    "    label_annotator_3\n",
    "FROM `etsy-sr-etl-prod.yzhang.sem_rel_human_annotation_v2`\"\"\"\n",
    "\n",
    "query_job = bq_client.query(us_v2_query)\n",
    "rows = query_job.result()\n",
    "us_v2 = rows.to_dataframe()"
   ]
  },
  {
   "cell_type": "code",
   "execution_count": 4,
   "id": "067b18a9-442b-4e41-b1b4-b2cd9f427f7c",
   "metadata": {},
   "outputs": [
    {
     "data": {
      "text/plain": [
       "us_v2-direct_specified      10500\n",
       "us_v2-direct_unspecified    10490\n",
       "us_v2-broad                  6000\n",
       "us_v2-gift                   3000\n",
       "Name: anno_data_source, dtype: int64"
      ]
     },
     "execution_count": 4,
     "metadata": {},
     "output_type": "execute_result"
    }
   ],
   "source": [
    "us_v2[\"anno_data_source\"] = us_v2[\"anno_data_source\"].apply(lambda x: f\"us_v2-{x}\")\n",
    "us_v2[\"anno_data_source\"].value_counts()"
   ]
  },
  {
   "cell_type": "code",
   "execution_count": 5,
   "id": "fe4836da-a66b-44b0-99c2-cefa1c8c7edd",
   "metadata": {},
   "outputs": [
    {
     "data": {
      "text/plain": [
       "relevant        16285\n",
       "partial          8889\n",
       "not_relevant     4663\n",
       "not_sure          153\n",
       "Name: label_annotator_3, dtype: int64"
      ]
     },
     "execution_count": 5,
     "metadata": {},
     "output_type": "execute_result"
    }
   ],
   "source": [
    "us_v2.label_annotator_3.value_counts()"
   ]
  },
  {
   "cell_type": "code",
   "execution_count": 6,
   "id": "9f5c169b-e7b6-417d-a909-9b55c69aea17",
   "metadata": {},
   "outputs": [
    {
     "data": {
      "text/plain": [
       "Index(['query', 'queryEn', 'listingId', 'etsyUUID', 'platform', 'userLanguage',\n",
       "       'titleEn_vertica', 'anno_data_source', 'gold_label',\n",
       "       'label_annotator_1', 'label_annotator_2', 'label_annotator_3'],\n",
       "      dtype='object')"
      ]
     },
     "execution_count": 6,
     "metadata": {},
     "output_type": "execute_result"
    }
   ],
   "source": [
    "us_v2.columns"
   ]
  },
  {
   "cell_type": "code",
   "execution_count": null,
   "id": "8d777a6d-fa1c-4302-a908-4d76f5e05180",
   "metadata": {},
   "outputs": [],
   "source": []
  },
  {
   "cell_type": "code",
   "execution_count": null,
   "id": "f2fb4cd1-6166-418a-a674-cbf282910faa",
   "metadata": {},
   "outputs": [],
   "source": []
  },
  {
   "cell_type": "markdown",
   "id": "d623b4db-fd32-4ec6-b3ab-bc26c8a7e15c",
   "metadata": {},
   "source": [
    "## US Annotation V1\n",
    "\n",
    "4-point scale, downloaded the excel file from repo: https://github.com/etsy/semantic-relevance/blob/main/notebooks/annotation_dataset_v1.xlsx"
   ]
  },
  {
   "cell_type": "code",
   "execution_count": 7,
   "id": "86bdd2f4-7575-4d32-8421-20f1b9334acd",
   "metadata": {},
   "outputs": [
    {
     "data": {
      "text/plain": [
       "Index(['Unnamed: 0', 'etsy_uuid', 'listingId', 'query', 'platform', 'bin',\n",
       "       'taxonomy', 'title', 'bordaRank', 'finalRank', 'description', 'label',\n",
       "       'taxonomyPath', 'tags', 'title_1',\n",
       "       'verticaListingTranslations_primaryLanguageTitle', 'labels',\n",
       "       'agreedLabel', 'majorityLabel'],\n",
       "      dtype='object')"
      ]
     },
     "execution_count": 7,
     "metadata": {},
     "output_type": "execute_result"
    }
   ],
   "source": [
    "us_v1 = pd.read_excel(\"./annotation_dataset_v1.xlsx\")\n",
    "us_v1.columns\n",
    "\n",
    "# us_v1[np.logical_and(us_v1.label != us_v1.majorityLabel, ~us_v1.majorityLabel.isna())][[\"label\", \"labels\", \"majorityLabel\"]].head()\n",
    "# label - first annotator label"
   ]
  },
  {
   "cell_type": "code",
   "execution_count": 8,
   "id": "6c850ef3-c689-41c3-8b6d-e85e420d711d",
   "metadata": {},
   "outputs": [],
   "source": [
    "us_v1 = us_v1[[\"query\", \"listingId\", \"etsy_uuid\", \"platform\", \"title\", \"majorityLabel\", \"labels\"]]"
   ]
  },
  {
   "cell_type": "code",
   "execution_count": 9,
   "id": "32eefb2b-3c83-4199-89c9-2460d420ae05",
   "metadata": {},
   "outputs": [],
   "source": [
    "# format individual labeler annotations\n",
    "us_v1[\"label_annotator_1\"] = us_v1.labels.apply(lambda labels_str: json.loads(labels_str)[0])\n",
    "us_v1[\"label_annotator_2\"] = us_v1.labels.apply(lambda labels_str: json.loads(labels_str)[1])\n",
    "us_v1[\"label_annotator_3\"] = us_v1.labels.apply(lambda labels_str: json.loads(labels_str)[2])"
   ]
  },
  {
   "cell_type": "code",
   "execution_count": 10,
   "id": "6a6e60af-7169-4e59-b5d3-40abbfda1f41",
   "metadata": {},
   "outputs": [
    {
     "data": {
      "text/html": [
       "<div>\n",
       "<style scoped>\n",
       "    .dataframe tbody tr th:only-of-type {\n",
       "        vertical-align: middle;\n",
       "    }\n",
       "\n",
       "    .dataframe tbody tr th {\n",
       "        vertical-align: top;\n",
       "    }\n",
       "\n",
       "    .dataframe thead th {\n",
       "        text-align: right;\n",
       "    }\n",
       "</style>\n",
       "<table border=\"1\" class=\"dataframe\">\n",
       "  <thead>\n",
       "    <tr style=\"text-align: right;\">\n",
       "      <th></th>\n",
       "      <th>query</th>\n",
       "      <th>listingId</th>\n",
       "      <th>etsy_uuid</th>\n",
       "      <th>platform</th>\n",
       "      <th>title</th>\n",
       "      <th>majorityLabel</th>\n",
       "      <th>labels</th>\n",
       "      <th>label_annotator_1</th>\n",
       "      <th>label_annotator_2</th>\n",
       "      <th>label_annotator_3</th>\n",
       "    </tr>\n",
       "  </thead>\n",
       "  <tbody>\n",
       "    <tr>\n",
       "      <th>24</th>\n",
       "      <td>maple seed necklace</td>\n",
       "      <td>631014318</td>\n",
       "      <td>Eu-2uUd5aNMLBJGRg_cQUKYTzl5f</td>\n",
       "      <td>web</td>\n",
       "      <td>Mini Samaras - Sterling Silver Seed Dangle Ear...</td>\n",
       "      <td>1.0</td>\n",
       "      <td>[1, 4, 1]</td>\n",
       "      <td>1</td>\n",
       "      <td>4</td>\n",
       "      <td>1</td>\n",
       "    </tr>\n",
       "    <tr>\n",
       "      <th>25</th>\n",
       "      <td>maple seed necklace</td>\n",
       "      <td>687908755</td>\n",
       "      <td>Eu-2uUd5aNMLBJGRg_cQUKYTzl5f</td>\n",
       "      <td>web</td>\n",
       "      <td>Mini Samara Bracelet - Maple Seed Helicopter -...</td>\n",
       "      <td>1.0</td>\n",
       "      <td>[1, 4, 1]</td>\n",
       "      <td>1</td>\n",
       "      <td>4</td>\n",
       "      <td>1</td>\n",
       "    </tr>\n",
       "    <tr>\n",
       "      <th>26</th>\n",
       "      <td>maple seed necklace</td>\n",
       "      <td>743987072</td>\n",
       "      <td>Eu-2uUd5aNMLBJGRg_cQUKYTzl5f</td>\n",
       "      <td>web</td>\n",
       "      <td>Mountain necklace - Sterling silver - Wanderlu...</td>\n",
       "      <td>0.0</td>\n",
       "      <td>[0, 0, 3]</td>\n",
       "      <td>0</td>\n",
       "      <td>0</td>\n",
       "      <td>3</td>\n",
       "    </tr>\n",
       "  </tbody>\n",
       "</table>\n",
       "</div>"
      ],
      "text/plain": [
       "                  query  listingId                     etsy_uuid platform  \\\n",
       "24  maple seed necklace  631014318  Eu-2uUd5aNMLBJGRg_cQUKYTzl5f      web   \n",
       "25  maple seed necklace  687908755  Eu-2uUd5aNMLBJGRg_cQUKYTzl5f      web   \n",
       "26  maple seed necklace  743987072  Eu-2uUd5aNMLBJGRg_cQUKYTzl5f      web   \n",
       "\n",
       "                                                title  majorityLabel  \\\n",
       "24  Mini Samaras - Sterling Silver Seed Dangle Ear...            1.0   \n",
       "25  Mini Samara Bracelet - Maple Seed Helicopter -...            1.0   \n",
       "26  Mountain necklace - Sterling silver - Wanderlu...            0.0   \n",
       "\n",
       "       labels  label_annotator_1  label_annotator_2  label_annotator_3  \n",
       "24  [1, 4, 1]                  1                  4                  1  \n",
       "25  [1, 4, 1]                  1                  4                  1  \n",
       "26  [0, 0, 3]                  0                  0                  3  "
      ]
     },
     "execution_count": 10,
     "metadata": {},
     "output_type": "execute_result"
    }
   ],
   "source": [
    "us_v1.iloc[24:27,:]"
   ]
  },
  {
   "cell_type": "code",
   "execution_count": 11,
   "id": "13848c1d-7d6a-415f-8361-68ae9cfbdee5",
   "metadata": {},
   "outputs": [],
   "source": [
    "# map 4-point scale to 3-point scale\n",
    "map_dict = {0: \"not_sure\", 1: \"not_relevant\", 2: \"partial\", 3: \"partial\", 4: \"relevant\"}\n",
    "\n",
    "us_v1[\"majorityLabel\"] = us_v1[\"majorityLabel\"].map(map_dict)"
   ]
  },
  {
   "cell_type": "code",
   "execution_count": 12,
   "id": "d6dba868-1517-42e4-825e-c87139f42052",
   "metadata": {},
   "outputs": [
    {
     "data": {
      "text/html": [
       "<div>\n",
       "<style scoped>\n",
       "    .dataframe tbody tr th:only-of-type {\n",
       "        vertical-align: middle;\n",
       "    }\n",
       "\n",
       "    .dataframe tbody tr th {\n",
       "        vertical-align: top;\n",
       "    }\n",
       "\n",
       "    .dataframe thead th {\n",
       "        text-align: right;\n",
       "    }\n",
       "</style>\n",
       "<table border=\"1\" class=\"dataframe\">\n",
       "  <thead>\n",
       "    <tr style=\"text-align: right;\">\n",
       "      <th></th>\n",
       "      <th>query</th>\n",
       "      <th>listingId</th>\n",
       "      <th>etsy_uuid</th>\n",
       "      <th>platform</th>\n",
       "      <th>title</th>\n",
       "      <th>majorityLabel</th>\n",
       "      <th>labels</th>\n",
       "      <th>label_annotator_1</th>\n",
       "      <th>label_annotator_2</th>\n",
       "      <th>label_annotator_3</th>\n",
       "    </tr>\n",
       "  </thead>\n",
       "  <tbody>\n",
       "    <tr>\n",
       "      <th>24</th>\n",
       "      <td>maple seed necklace</td>\n",
       "      <td>631014318</td>\n",
       "      <td>Eu-2uUd5aNMLBJGRg_cQUKYTzl5f</td>\n",
       "      <td>web</td>\n",
       "      <td>Mini Samaras - Sterling Silver Seed Dangle Ear...</td>\n",
       "      <td>not_relevant</td>\n",
       "      <td>[1, 4, 1]</td>\n",
       "      <td>1</td>\n",
       "      <td>4</td>\n",
       "      <td>1</td>\n",
       "    </tr>\n",
       "    <tr>\n",
       "      <th>25</th>\n",
       "      <td>maple seed necklace</td>\n",
       "      <td>687908755</td>\n",
       "      <td>Eu-2uUd5aNMLBJGRg_cQUKYTzl5f</td>\n",
       "      <td>web</td>\n",
       "      <td>Mini Samara Bracelet - Maple Seed Helicopter -...</td>\n",
       "      <td>not_relevant</td>\n",
       "      <td>[1, 4, 1]</td>\n",
       "      <td>1</td>\n",
       "      <td>4</td>\n",
       "      <td>1</td>\n",
       "    </tr>\n",
       "    <tr>\n",
       "      <th>26</th>\n",
       "      <td>maple seed necklace</td>\n",
       "      <td>743987072</td>\n",
       "      <td>Eu-2uUd5aNMLBJGRg_cQUKYTzl5f</td>\n",
       "      <td>web</td>\n",
       "      <td>Mountain necklace - Sterling silver - Wanderlu...</td>\n",
       "      <td>not_sure</td>\n",
       "      <td>[0, 0, 3]</td>\n",
       "      <td>0</td>\n",
       "      <td>0</td>\n",
       "      <td>3</td>\n",
       "    </tr>\n",
       "  </tbody>\n",
       "</table>\n",
       "</div>"
      ],
      "text/plain": [
       "                  query  listingId                     etsy_uuid platform  \\\n",
       "24  maple seed necklace  631014318  Eu-2uUd5aNMLBJGRg_cQUKYTzl5f      web   \n",
       "25  maple seed necklace  687908755  Eu-2uUd5aNMLBJGRg_cQUKYTzl5f      web   \n",
       "26  maple seed necklace  743987072  Eu-2uUd5aNMLBJGRg_cQUKYTzl5f      web   \n",
       "\n",
       "                                                title majorityLabel  \\\n",
       "24  Mini Samaras - Sterling Silver Seed Dangle Ear...  not_relevant   \n",
       "25  Mini Samara Bracelet - Maple Seed Helicopter -...  not_relevant   \n",
       "26  Mountain necklace - Sterling silver - Wanderlu...      not_sure   \n",
       "\n",
       "       labels  label_annotator_1  label_annotator_2  label_annotator_3  \n",
       "24  [1, 4, 1]                  1                  4                  1  \n",
       "25  [1, 4, 1]                  1                  4                  1  \n",
       "26  [0, 0, 3]                  0                  0                  3  "
      ]
     },
     "execution_count": 12,
     "metadata": {},
     "output_type": "execute_result"
    }
   ],
   "source": [
    "us_v1.iloc[24:27,:]"
   ]
  },
  {
   "cell_type": "code",
   "execution_count": 13,
   "id": "4dbb612b-4318-436f-8718-fee1168368c7",
   "metadata": {},
   "outputs": [],
   "source": [
    "us_v1[\"label_annotator_1\"] = us_v1[\"label_annotator_1\"].map(map_dict)\n",
    "us_v1[\"label_annotator_2\"] = us_v1[\"label_annotator_2\"].map(map_dict)\n",
    "us_v1[\"label_annotator_3\"] = us_v1[\"label_annotator_3\"].map(map_dict)"
   ]
  },
  {
   "cell_type": "code",
   "execution_count": 14,
   "id": "a4dcae14-feb4-426d-a493-c88a659c267f",
   "metadata": {},
   "outputs": [
    {
     "data": {
      "text/plain": [
       "relevant        19305\n",
       "partial          4502\n",
       "not_relevant     3981\n",
       "not_sure          237\n",
       "Name: label_annotator_3, dtype: int64"
      ]
     },
     "execution_count": 14,
     "metadata": {},
     "output_type": "execute_result"
    }
   ],
   "source": [
    "us_v1.label_annotator_3.value_counts()"
   ]
  },
  {
   "cell_type": "code",
   "execution_count": 15,
   "id": "b824cc97-bcbb-43bf-9ad6-555bb8fcc6b8",
   "metadata": {},
   "outputs": [],
   "source": [
    "# format columns to match with V2\n",
    "us_v1.drop('labels', axis=1, inplace=True) \n",
    "us_v1.rename(columns={\"majorityLabel\": \"gold_label\", \"etsy_uuid\": \"etsyUUID\", \"title\": \"titleEn_vertica\"}, inplace=True)\n",
    "us_v1[\"userLanguage\"] = \"\"\n",
    "us_v1[\"anno_data_source\"] = \"us_v1\"\n",
    "us_v1[\"queryEn\"] = \"\""
   ]
  },
  {
   "cell_type": "code",
   "execution_count": 16,
   "id": "3b08c7fa-0a99-4ce1-afb7-980b5e655aac",
   "metadata": {},
   "outputs": [
    {
     "data": {
      "text/html": [
       "<div>\n",
       "<style scoped>\n",
       "    .dataframe tbody tr th:only-of-type {\n",
       "        vertical-align: middle;\n",
       "    }\n",
       "\n",
       "    .dataframe tbody tr th {\n",
       "        vertical-align: top;\n",
       "    }\n",
       "\n",
       "    .dataframe thead th {\n",
       "        text-align: right;\n",
       "    }\n",
       "</style>\n",
       "<table border=\"1\" class=\"dataframe\">\n",
       "  <thead>\n",
       "    <tr style=\"text-align: right;\">\n",
       "      <th></th>\n",
       "      <th>query</th>\n",
       "      <th>listingId</th>\n",
       "      <th>etsyUUID</th>\n",
       "      <th>platform</th>\n",
       "      <th>titleEn_vertica</th>\n",
       "      <th>gold_label</th>\n",
       "      <th>label_annotator_1</th>\n",
       "      <th>label_annotator_2</th>\n",
       "      <th>label_annotator_3</th>\n",
       "      <th>userLanguage</th>\n",
       "      <th>anno_data_source</th>\n",
       "      <th>queryEn</th>\n",
       "    </tr>\n",
       "  </thead>\n",
       "  <tbody>\n",
       "    <tr>\n",
       "      <th>10</th>\n",
       "      <td>seedling cups</td>\n",
       "      <td>1117447411</td>\n",
       "      <td>Eu-2lSwjH_T8GmLOol51dyXuWk87</td>\n",
       "      <td>web</td>\n",
       "      <td>Southern Red Credar Seedling</td>\n",
       "      <td>not_relevant</td>\n",
       "      <td>not_relevant</td>\n",
       "      <td>not_relevant</td>\n",
       "      <td>not_relevant</td>\n",
       "      <td></td>\n",
       "      <td>us_v1</td>\n",
       "      <td></td>\n",
       "    </tr>\n",
       "    <tr>\n",
       "      <th>11</th>\n",
       "      <td>seedling cups</td>\n",
       "      <td>1146306150</td>\n",
       "      <td>Eu-2lSwjH_T8GmLOol51dyXuWk87</td>\n",
       "      <td>web</td>\n",
       "      <td>Nursery Flower Pots 3 Inch Square Heavy Duty 1...</td>\n",
       "      <td>relevant</td>\n",
       "      <td>relevant</td>\n",
       "      <td>relevant</td>\n",
       "      <td>partial</td>\n",
       "      <td></td>\n",
       "      <td>us_v1</td>\n",
       "      <td></td>\n",
       "    </tr>\n",
       "    <tr>\n",
       "      <th>12</th>\n",
       "      <td>seedling cups</td>\n",
       "      <td>1221549646</td>\n",
       "      <td>Eu-2lSwjH_T8GmLOol51dyXuWk87</td>\n",
       "      <td>web</td>\n",
       "      <td>Seed Starter | Seedling Tray | Genius Plant Hack</td>\n",
       "      <td>relevant</td>\n",
       "      <td>not_relevant</td>\n",
       "      <td>relevant</td>\n",
       "      <td>relevant</td>\n",
       "      <td></td>\n",
       "      <td>us_v1</td>\n",
       "      <td></td>\n",
       "    </tr>\n",
       "    <tr>\n",
       "      <th>13</th>\n",
       "      <td>seedling cups</td>\n",
       "      <td>1258868503</td>\n",
       "      <td>Eu-2lSwjH_T8GmLOol51dyXuWk87</td>\n",
       "      <td>web</td>\n",
       "      <td>Interior Live Oak | Medium Tree Seedling | The...</td>\n",
       "      <td>NaN</td>\n",
       "      <td>not_relevant</td>\n",
       "      <td>relevant</td>\n",
       "      <td>partial</td>\n",
       "      <td></td>\n",
       "      <td>us_v1</td>\n",
       "      <td></td>\n",
       "    </tr>\n",
       "    <tr>\n",
       "      <th>14</th>\n",
       "      <td>seedling cups</td>\n",
       "      <td>1405409965</td>\n",
       "      <td>Eu-2lSwjH_T8GmLOol51dyXuWk87</td>\n",
       "      <td>web</td>\n",
       "      <td>Coast Redwood tree seedling - Sequoia sempervi...</td>\n",
       "      <td>partial</td>\n",
       "      <td>partial</td>\n",
       "      <td>not_relevant</td>\n",
       "      <td>partial</td>\n",
       "      <td></td>\n",
       "      <td>us_v1</td>\n",
       "      <td></td>\n",
       "    </tr>\n",
       "  </tbody>\n",
       "</table>\n",
       "</div>"
      ],
      "text/plain": [
       "            query   listingId                      etsyUUID platform  \\\n",
       "10  seedling cups  1117447411  Eu-2lSwjH_T8GmLOol51dyXuWk87      web   \n",
       "11  seedling cups  1146306150  Eu-2lSwjH_T8GmLOol51dyXuWk87      web   \n",
       "12  seedling cups  1221549646  Eu-2lSwjH_T8GmLOol51dyXuWk87      web   \n",
       "13  seedling cups  1258868503  Eu-2lSwjH_T8GmLOol51dyXuWk87      web   \n",
       "14  seedling cups  1405409965  Eu-2lSwjH_T8GmLOol51dyXuWk87      web   \n",
       "\n",
       "                                      titleEn_vertica    gold_label  \\\n",
       "10                       Southern Red Credar Seedling  not_relevant   \n",
       "11  Nursery Flower Pots 3 Inch Square Heavy Duty 1...      relevant   \n",
       "12   Seed Starter | Seedling Tray | Genius Plant Hack      relevant   \n",
       "13  Interior Live Oak | Medium Tree Seedling | The...           NaN   \n",
       "14  Coast Redwood tree seedling - Sequoia sempervi...       partial   \n",
       "\n",
       "   label_annotator_1 label_annotator_2 label_annotator_3 userLanguage  \\\n",
       "10      not_relevant      not_relevant      not_relevant                \n",
       "11          relevant          relevant           partial                \n",
       "12      not_relevant          relevant          relevant                \n",
       "13      not_relevant          relevant           partial                \n",
       "14           partial      not_relevant           partial                \n",
       "\n",
       "   anno_data_source queryEn  \n",
       "10            us_v1          \n",
       "11            us_v1          \n",
       "12            us_v1          \n",
       "13            us_v1          \n",
       "14            us_v1          "
      ]
     },
     "execution_count": 16,
     "metadata": {},
     "output_type": "execute_result"
    }
   ],
   "source": [
    "us_v1.iloc[10:15,:]"
   ]
  },
  {
   "cell_type": "code",
   "execution_count": 17,
   "id": "c191e864-d1fe-47f7-a8e9-164cfc825d92",
   "metadata": {},
   "outputs": [
    {
     "data": {
      "text/plain": [
       "Index(['query', 'listingId', 'etsyUUID', 'platform', 'titleEn_vertica',\n",
       "       'gold_label', 'label_annotator_1', 'label_annotator_2',\n",
       "       'label_annotator_3', 'userLanguage', 'anno_data_source', 'queryEn'],\n",
       "      dtype='object')"
      ]
     },
     "execution_count": 17,
     "metadata": {},
     "output_type": "execute_result"
    }
   ],
   "source": [
    "us_v1.columns"
   ]
  },
  {
   "cell_type": "code",
   "execution_count": null,
   "id": "064191b7-c7db-4da3-b5ac-9f5df6474309",
   "metadata": {},
   "outputs": [],
   "source": []
  },
  {
   "cell_type": "code",
   "execution_count": null,
   "id": "4569895e-d263-4da2-be62-0d35bc929493",
   "metadata": {},
   "outputs": [],
   "source": []
  },
  {
   "cell_type": "markdown",
   "id": "c40039ed-b823-4e22-a07a-c056c0ff4ff7",
   "metadata": {},
   "source": [
    "## International"
   ]
  },
  {
   "cell_type": "code",
   "execution_count": 18,
   "id": "3ac78a01-d77c-46f4-8ebe-00468023f676",
   "metadata": {},
   "outputs": [],
   "source": [
    "intl_query = \"\"\"SELECT \n",
    "    query, \n",
    "    queryEn,\n",
    "    listingId, \n",
    "    etsyUUID, \n",
    "    requestSource as platform,\n",
    "    userLanguage,\n",
    "    listingTitleEn as titleEn_vertica,\n",
    "    source as anno_data_source,\n",
    "    gold_label,\n",
    "    label_annotator_1,\n",
    "    label_annotator_2,\n",
    "    label_annotator_3\n",
    "FROM `etsy-search-ml-dev.aclapp.semrel_human_annotation_v1`\"\"\"\n",
    "\n",
    "query_job = bq_client.query(intl_query)\n",
    "rows = query_job.result()\n",
    "intl_df = rows.to_dataframe()"
   ]
  },
  {
   "cell_type": "code",
   "execution_count": 19,
   "id": "f6deacc3-9860-42d5-ac46-5a2044f822be",
   "metadata": {},
   "outputs": [
    {
     "data": {
      "text/plain": [
       "(26803, 12)"
      ]
     },
     "execution_count": 19,
     "metadata": {},
     "output_type": "execute_result"
    }
   ],
   "source": [
    "intl_df.shape"
   ]
  },
  {
   "cell_type": "code",
   "execution_count": 20,
   "id": "195dd058-11e5-4985-bf66-113a598aa39d",
   "metadata": {},
   "outputs": [
    {
     "data": {
      "text/plain": [
       "relevant        16367\n",
       "partial          5353\n",
       "not_relevant     5019\n",
       "not_sure           64\n",
       "Name: label_annotator_2, dtype: int64"
      ]
     },
     "execution_count": 20,
     "metadata": {},
     "output_type": "execute_result"
    }
   ],
   "source": [
    "intl_df.label_annotator_2.value_counts()"
   ]
  },
  {
   "cell_type": "code",
   "execution_count": 21,
   "id": "4ca4ebcf-c3cd-4d03-943f-32bd187fe76a",
   "metadata": {},
   "outputs": [
    {
     "data": {
      "text/plain": [
       "intl-de    5698\n",
       "intl-fr    5687\n",
       "intl-es    5097\n",
       "intl-it    3944\n",
       "intl-nl    3375\n",
       "intl-pt     836\n",
       "intl-pl     808\n",
       "intl-ru     681\n",
       "intl-ja     677\n",
       "Name: anno_data_source, dtype: int64"
      ]
     },
     "execution_count": 21,
     "metadata": {},
     "output_type": "execute_result"
    }
   ],
   "source": [
    "intl_df[\"anno_data_source\"] = intl_df[\"anno_data_source\"].apply(lambda x: f\"intl-{x}\")\n",
    "intl_df.anno_data_source.value_counts()"
   ]
  },
  {
   "cell_type": "code",
   "execution_count": null,
   "id": "7e033179-4962-407b-9732-26be558c8db4",
   "metadata": {},
   "outputs": [],
   "source": []
  },
  {
   "cell_type": "code",
   "execution_count": null,
   "id": "bf727124-4571-4419-b399-ce3dd2954993",
   "metadata": {},
   "outputs": [],
   "source": []
  },
  {
   "cell_type": "markdown",
   "id": "fbe5b62e-57ba-4659-bf2a-baff928c0073",
   "metadata": {},
   "source": [
    "## Combine datasets"
   ]
  },
  {
   "cell_type": "code",
   "execution_count": 22,
   "id": "3d1d419d-9308-4aa6-bea4-bd22ceecf553",
   "metadata": {},
   "outputs": [],
   "source": [
    "joint_columns = [\n",
    "    'query', \n",
    "    'queryEn', \n",
    "    'listingId',\n",
    "    'etsyUUID', \n",
    "    'platform', \n",
    "    'userLanguage',\n",
    "    'titleEn_vertica', \n",
    "    'anno_data_source', \n",
    "    'gold_label',\n",
    "    'label_annotator_1', \n",
    "    'label_annotator_2', \n",
    "    'label_annotator_3'\n",
    "]"
   ]
  },
  {
   "cell_type": "code",
   "execution_count": 23,
   "id": "fa84d9a3-c297-4a1c-a53d-649580029531",
   "metadata": {},
   "outputs": [],
   "source": [
    "us_v1 = us_v1[joint_columns]\n",
    "us_v2 = us_v2[joint_columns]\n",
    "intl_df = intl_df[joint_columns]"
   ]
  },
  {
   "cell_type": "code",
   "execution_count": 24,
   "id": "1e7402f8-3527-44a6-b96c-80f38c191f63",
   "metadata": {},
   "outputs": [],
   "source": [
    "combined_df = pd.concat([us_v1, us_v2, intl_df])\n",
    "combined_df = combined_df.reset_index(drop=True)"
   ]
  },
  {
   "cell_type": "code",
   "execution_count": 25,
   "id": "8b9956c6-8b54-4bb2-9540-95858867e54f",
   "metadata": {},
   "outputs": [
    {
     "data": {
      "text/plain": [
       "(84818, 12)"
      ]
     },
     "execution_count": 25,
     "metadata": {},
     "output_type": "execute_result"
    }
   ],
   "source": [
    "combined_df.shape"
   ]
  },
  {
   "cell_type": "code",
   "execution_count": 26,
   "id": "ea84f368-bf13-4355-9a60-ba2384f3ef1f",
   "metadata": {},
   "outputs": [
    {
     "data": {
      "text/plain": [
       "25550"
      ]
     },
     "execution_count": 26,
     "metadata": {},
     "output_type": "execute_result"
    }
   ],
   "source": [
    "len(combined_df[\"query\"].unique())"
   ]
  },
  {
   "cell_type": "code",
   "execution_count": 27,
   "id": "e48c9a85-756f-4dc8-94bf-c8492ca8bd02",
   "metadata": {},
   "outputs": [],
   "source": [
    "# compute gold label again because we're merging 2 and 3 in US V1 data, which may lead to majority agreeing on partial\n",
    "# if no consensus, use no_consensus\n",
    "\n",
    "updated_gold_label = []\n",
    "\n",
    "for i in range(combined_df.shape[0]):\n",
    "    anno1 = combined_df[\"label_annotator_1\"][i]\n",
    "    anno2 = combined_df[\"label_annotator_2\"][i]\n",
    "    anno3 = combined_df[\"label_annotator_3\"][i]\n",
    "    ori_gold_label = combined_df[\"gold_label\"][i]\n",
    "    ds_source = combined_df[\"anno_data_source\"][i]\n",
    "\n",
    "    individual_annos = [anno1, anno2, anno3]\n",
    "    individual_counter = Counter(individual_annos)\n",
    "    most_common_element = individual_counter.most_common()[0]\n",
    "    \n",
    "    if most_common_element[1] == 1:\n",
    "        # no majority\n",
    "        if not pd.isnull(ori_gold_label):\n",
    "            assert ori_gold_label == \"no_consensus\"\n",
    "        updated_gold_label.append(\"no_consensus\")\n",
    "    else:\n",
    "        # there is a majority\n",
    "        majority_vote = most_common_element[0]\n",
    "        if ori_gold_label != majority_vote:\n",
    "            assert ds_source == \"us_v1\"\n",
    "        updated_gold_label.append(majority_vote)"
   ]
  },
  {
   "cell_type": "code",
   "execution_count": 28,
   "id": "7e745b6c-8e3a-4e68-a6c6-babb5289260d",
   "metadata": {},
   "outputs": [
    {
     "name": "stdout",
     "output_type": "stream",
     "text": [
      "1862\n",
      "1862\n"
     ]
    }
   ],
   "source": [
    "test_df = pd.DataFrame({\"old\": combined_df.gold_label, \"new\": updated_gold_label})\n",
    "print(sum(test_df.old != test_df.new))\n",
    "print(sum(test_df.old.isna()))"
   ]
  },
  {
   "cell_type": "code",
   "execution_count": 29,
   "id": "9fb63d90-0dcf-48dc-95d3-55e28189e859",
   "metadata": {},
   "outputs": [
    {
     "data": {
      "text/plain": [
       "no_consensus    1737\n",
       "partial          124\n",
       "not_sure           1\n",
       "Name: new, dtype: int64"
      ]
     },
     "execution_count": 29,
     "metadata": {},
     "output_type": "execute_result"
    }
   ],
   "source": [
    "test_df[test_df.old != test_df.new][\"new\"].value_counts()"
   ]
  },
  {
   "cell_type": "code",
   "execution_count": 30,
   "id": "b6b144cf-503a-42ef-9310-d557fb322cc1",
   "metadata": {},
   "outputs": [
    {
     "data": {
      "text/plain": [
       "relevant        53062\n",
       "partial         16707\n",
       "not_relevant    12291\n",
       "no_consensus     2607\n",
       "not_sure          151\n",
       "Name: gold_label, dtype: int64"
      ]
     },
     "execution_count": 30,
     "metadata": {},
     "output_type": "execute_result"
    }
   ],
   "source": [
    "combined_df[\"gold_label\"] = updated_gold_label\n",
    "combined_df.gold_label.value_counts()"
   ]
  },
  {
   "cell_type": "code",
   "execution_count": null,
   "id": "8e68911c-969b-4b75-bff3-ab57ad905086",
   "metadata": {},
   "outputs": [],
   "source": []
  },
  {
   "cell_type": "code",
   "execution_count": null,
   "id": "b00ea3bf-ce8d-4236-8ae0-cccfeb6fc0be",
   "metadata": {},
   "outputs": [],
   "source": []
  },
  {
   "cell_type": "markdown",
   "id": "a0099fdc-89da-41f8-b677-ca506e668a5c",
   "metadata": {},
   "source": [
    "## Deal with duplicated (query, listingId) pairs"
   ]
  },
  {
   "cell_type": "code",
   "execution_count": 31,
   "id": "51d2bd3b-dd8b-4fce-a83a-85e340075a75",
   "metadata": {},
   "outputs": [],
   "source": [
    "# keep distinct occurrences of query, listingId, gold_label\n",
    "combined_df = combined_df.drop_duplicates(subset=['query', 'listingId', 'gold_label'])"
   ]
  },
  {
   "cell_type": "code",
   "execution_count": 32,
   "id": "4ced83b0-2519-4ec6-9a5e-035699bd7b9a",
   "metadata": {},
   "outputs": [
    {
     "data": {
      "text/plain": [
       "{('unique gifts for her', 1275026920): 2,\n",
       " ('gifts for women', 1215794797): 2,\n",
       " ('gifts for women', 1017317699): 2}"
      ]
     },
     "execution_count": 32,
     "metadata": {},
     "output_type": "execute_result"
    }
   ],
   "source": [
    "# among them, if there is duplicated query, listingId, remove these pairs completely\n",
    "ql_pairs = combined_df.apply(lambda row: (row[\"query\"], row[\"listingId\"]), axis=1).values\n",
    "ql_counter = Counter(ql_pairs)\n",
    "{k: v for k,v in ql_counter.items() if v > 1}"
   ]
  },
  {
   "cell_type": "code",
   "execution_count": 33,
   "id": "a2b3007c-b9c9-430c-b0a5-76baac10fc28",
   "metadata": {},
   "outputs": [],
   "source": [
    "case1_inds = combined_df[np.logical_and(combined_df[\"query\"]==\"unique gifts for her\", combined_df.listingId==1275026920)].index\n",
    "case2_inds = combined_df[np.logical_and(combined_df[\"query\"]==\"gifts for women\", combined_df.listingId==1215794797)].index\n",
    "case3_inds = combined_df[np.logical_and(combined_df[\"query\"]==\"gifts for women\", combined_df.listingId==1017317699)].index"
   ]
  },
  {
   "cell_type": "code",
   "execution_count": 34,
   "id": "cb96c27d-8f63-4be1-a336-9b6eeb57985b",
   "metadata": {},
   "outputs": [
    {
     "data": {
      "text/html": [
       "<div>\n",
       "<style scoped>\n",
       "    .dataframe tbody tr th:only-of-type {\n",
       "        vertical-align: middle;\n",
       "    }\n",
       "\n",
       "    .dataframe tbody tr th {\n",
       "        vertical-align: top;\n",
       "    }\n",
       "\n",
       "    .dataframe thead th {\n",
       "        text-align: right;\n",
       "    }\n",
       "</style>\n",
       "<table border=\"1\" class=\"dataframe\">\n",
       "  <thead>\n",
       "    <tr style=\"text-align: right;\">\n",
       "      <th></th>\n",
       "      <th>query</th>\n",
       "      <th>queryEn</th>\n",
       "      <th>listingId</th>\n",
       "      <th>etsyUUID</th>\n",
       "      <th>platform</th>\n",
       "      <th>userLanguage</th>\n",
       "      <th>titleEn_vertica</th>\n",
       "      <th>anno_data_source</th>\n",
       "      <th>gold_label</th>\n",
       "      <th>label_annotator_1</th>\n",
       "      <th>label_annotator_2</th>\n",
       "      <th>label_annotator_3</th>\n",
       "    </tr>\n",
       "  </thead>\n",
       "  <tbody>\n",
       "    <tr>\n",
       "      <th>28525</th>\n",
       "      <td>leather photo album</td>\n",
       "      <td></td>\n",
       "      <td>1590258982</td>\n",
       "      <td>Euu6-2aQVOizToOdJOEohJILcz81</td>\n",
       "      <td>boe</td>\n",
       "      <td>en-US</td>\n",
       "      <td>Personalized Vintage Genuine Leather Journal, ...</td>\n",
       "      <td>us_v2-direct_specified</td>\n",
       "      <td>no_consensus</td>\n",
       "      <td>partial</td>\n",
       "      <td>relevant</td>\n",
       "      <td>not_relevant</td>\n",
       "    </tr>\n",
       "    <tr>\n",
       "      <th>79219</th>\n",
       "      <td>fiori giganti organza</td>\n",
       "      <td>giant organza flowers</td>\n",
       "      <td>1578241206</td>\n",
       "      <td>Euf_O1xMthWWDB417Y3HDxCz8mec</td>\n",
       "      <td>web</td>\n",
       "      <td>it</td>\n",
       "      <td>Giant Flowers for Gorgeous Backdrop Wedding Ev...</td>\n",
       "      <td>intl-it</td>\n",
       "      <td>relevant</td>\n",
       "      <td>relevant</td>\n",
       "      <td>relevant</td>\n",
       "      <td>relevant</td>\n",
       "    </tr>\n",
       "  </tbody>\n",
       "</table>\n",
       "</div>"
      ],
      "text/plain": [
       "                       query                queryEn   listingId  \\\n",
       "28525    leather photo album                         1590258982   \n",
       "79219  fiori giganti organza  giant organza flowers  1578241206   \n",
       "\n",
       "                           etsyUUID platform userLanguage  \\\n",
       "28525  Euu6-2aQVOizToOdJOEohJILcz81      boe        en-US   \n",
       "79219  Euf_O1xMthWWDB417Y3HDxCz8mec      web           it   \n",
       "\n",
       "                                         titleEn_vertica  \\\n",
       "28525  Personalized Vintage Genuine Leather Journal, ...   \n",
       "79219  Giant Flowers for Gorgeous Backdrop Wedding Ev...   \n",
       "\n",
       "             anno_data_source    gold_label label_annotator_1  \\\n",
       "28525  us_v2-direct_specified  no_consensus           partial   \n",
       "79219                 intl-it      relevant          relevant   \n",
       "\n",
       "      label_annotator_2 label_annotator_3  \n",
       "28525          relevant      not_relevant  \n",
       "79219          relevant          relevant  "
      ]
     },
     "execution_count": 34,
     "metadata": {},
     "output_type": "execute_result"
    }
   ],
   "source": [
    "combined_df.iloc[case1_inds, :]"
   ]
  },
  {
   "cell_type": "code",
   "execution_count": 35,
   "id": "aaa99382-804e-4548-afd6-f661a2c00351",
   "metadata": {},
   "outputs": [],
   "source": [
    "combined_df.drop(list(case1_inds) + list(case2_inds) + list(case3_inds), inplace=True)"
   ]
  },
  {
   "cell_type": "code",
   "execution_count": 36,
   "id": "6e6dda7a-945a-4bc0-8f8a-beb1009d54ca",
   "metadata": {},
   "outputs": [
    {
     "data": {
      "text/plain": [
       "(84453, 12)"
      ]
     },
     "execution_count": 36,
     "metadata": {},
     "output_type": "execute_result"
    }
   ],
   "source": [
    "combined_df.shape"
   ]
  },
  {
   "cell_type": "code",
   "execution_count": 37,
   "id": "3c826486-fca7-4fd4-8645-2aa96d3ded37",
   "metadata": {},
   "outputs": [
    {
     "data": {
      "text/plain": [
       "(84453, 2)"
      ]
     },
     "execution_count": 37,
     "metadata": {},
     "output_type": "execute_result"
    }
   ],
   "source": [
    "combined_df[[\"query\", \"listingId\"]].drop_duplicates().shape"
   ]
  },
  {
   "cell_type": "code",
   "execution_count": null,
   "id": "c77d160d-0aba-4e64-a477-164b80d37ce6",
   "metadata": {},
   "outputs": [],
   "source": []
  },
  {
   "cell_type": "code",
   "execution_count": null,
   "id": "94c3e614-c7a9-493c-b240-49e9a2a340f3",
   "metadata": {},
   "outputs": [],
   "source": []
  },
  {
   "cell_type": "markdown",
   "id": "444ffb3b-5d33-4511-8ec8-8bd2b255267a",
   "metadata": {},
   "source": [
    "## Set up train and evaluation split, separate by query"
   ]
  },
  {
   "cell_type": "code",
   "execution_count": 38,
   "id": "bca98c96-fc92-4080-8f41-532c7b45dd88",
   "metadata": {},
   "outputs": [
    {
     "name": "stdout",
     "output_type": "stream",
     "text": [
      "25550\n",
      "2555\n"
     ]
    }
   ],
   "source": [
    "unique_queries = combined_df[\"query\"].unique()\n",
    "n = len(unique_queries)\n",
    "print(n)\n",
    "\n",
    "np.random.seed(1234)\n",
    "test_queries = np.random.choice(unique_queries, size = int(n*0.1), replace=False)\n",
    "print(len(test_queries))"
   ]
  },
  {
   "cell_type": "code",
   "execution_count": 39,
   "id": "ef4bd554-16b5-46a9-a18d-c243bf668059",
   "metadata": {},
   "outputs": [
    {
     "data": {
      "text/plain": [
       "False    75753\n",
       "True      8700\n",
       "Name: is_eval_split, dtype: int64"
      ]
     },
     "execution_count": 39,
     "metadata": {},
     "output_type": "execute_result"
    }
   ],
   "source": [
    "combined_df[\"is_eval_split\"] = combined_df[\"query\"].isin(test_queries)\n",
    "combined_df[\"is_eval_split\"].value_counts()"
   ]
  },
  {
   "cell_type": "code",
   "execution_count": 40,
   "id": "ff0d2195-b45f-4349-99a6-4034d4c74db7",
   "metadata": {},
   "outputs": [
    {
     "data": {
      "text/plain": [
       "Index(['query', 'queryEn', 'listingId', 'etsyUUID', 'platform', 'userLanguage',\n",
       "       'titleEn_vertica', 'anno_data_source', 'gold_label',\n",
       "       'label_annotator_1', 'label_annotator_2', 'label_annotator_3',\n",
       "       'is_eval_split'],\n",
       "      dtype='object')"
      ]
     },
     "execution_count": 40,
     "metadata": {},
     "output_type": "execute_result"
    }
   ],
   "source": [
    "combined_df.columns"
   ]
  },
  {
   "cell_type": "code",
   "execution_count": null,
   "id": "09bf7b1b-5fe7-4a55-aac0-6b59782df05a",
   "metadata": {},
   "outputs": [],
   "source": []
  },
  {
   "cell_type": "code",
   "execution_count": null,
   "id": "b0ec3650-06b7-4725-9319-3ca7dcf3e1f0",
   "metadata": {},
   "outputs": [],
   "source": []
  },
  {
   "cell_type": "markdown",
   "id": "b47e0cf1-fad9-4054-9dee-464214eac14f",
   "metadata": {},
   "source": [
    "## Add in listing link columns, save to Excel"
   ]
  },
  {
   "cell_type": "code",
   "execution_count": 41,
   "id": "43b1f088-c527-472b-9e8d-ff44835ec881",
   "metadata": {},
   "outputs": [],
   "source": [
    "combined_df[\"etsy_url\"] = combined_df[\"listingId\"].apply(lambda x: f\"'https://www.etsy.com/listing/{x}\")\n",
    "combined_df[\"atlas_url\"] = combined_df[\"listingId\"].apply(lambda x: f\"'https://atlas.etsycorp.com/listing/{x}/lookup\")"
   ]
  },
  {
   "cell_type": "code",
   "execution_count": 42,
   "id": "a84da67a-ee74-4d69-b291-23c1efaa89fc",
   "metadata": {},
   "outputs": [],
   "source": [
    "combined_df = combined_df[[\n",
    "    'query', 'queryEn', 'listingId', 'etsy_url', 'atlas_url', 'titleEn_vertica', 'etsyUUID', 'platform', 'userLanguage',\n",
    "    'anno_data_source', 'is_eval_split', 'gold_label', 'label_annotator_1', 'label_annotator_2', 'label_annotator_3',\n",
    "]]"
   ]
  },
  {
   "cell_type": "code",
   "execution_count": 43,
   "id": "4c9b17e4-0871-41b2-bf6c-2ccacdd145ae",
   "metadata": {},
   "outputs": [],
   "source": [
    "combined_df.rename(columns={\"gold_label\": \"labelbox_majority_label\"}, inplace=True)"
   ]
  },
  {
   "cell_type": "code",
   "execution_count": 44,
   "id": "704c2949-08ee-4c80-8cc5-776ee9d8d794",
   "metadata": {},
   "outputs": [],
   "source": [
    "# write out full merged dataset\n",
    "combined_df.to_excel(\"./semrel_merged_human_annotation.xlsx\", index=False)"
   ]
  },
  {
   "cell_type": "code",
   "execution_count": null,
   "id": "8a449a64-df4b-4842-b6e6-43ceef64387d",
   "metadata": {},
   "outputs": [],
   "source": []
  },
  {
   "cell_type": "code",
   "execution_count": 45,
   "id": "a6e9fa28-80d3-400e-be36-07544edee836",
   "metadata": {},
   "outputs": [],
   "source": [
    "# get eval split and irrelevant labels in training split\n",
    "df_eval = combined_df[combined_df.is_eval_split]\n",
    "df_eval = df_eval.sample(frac=1)  #8700\n",
    "\n",
    "df_train_irrel = combined_df[np.logical_and(~combined_df.is_eval_split, combined_df.labelbox_majority_label == \"not_relevant\")]\n",
    "df_train_irrel = df_train_irrel.sample(frac=1)  #11010"
   ]
  },
  {
   "cell_type": "code",
   "execution_count": 46,
   "id": "6d761f2d-79d8-4143-b822-5ec9ed10af11",
   "metadata": {},
   "outputs": [],
   "source": [
    "df_eval.to_excel(\"./semrel_internal_label_eval.xlsx\", index=False)\n",
    "df_train_irrel.to_excel(\"./semrel_internal_label_train_irrel.xlsx\", index=False)"
   ]
  },
  {
   "cell_type": "code",
   "execution_count": null,
   "id": "e6f86343-9b32-41ce-a537-f59ddb673952",
   "metadata": {},
   "outputs": [],
   "source": []
  },
  {
   "cell_type": "markdown",
   "id": "72f1ad82-c15c-474b-8e42-49ec188e4680",
   "metadata": {},
   "source": [
    "## Analysis"
   ]
  },
  {
   "cell_type": "markdown",
   "id": "a6d0d5af-4cea-4fe3-bce0-dcf9b6ae778b",
   "metadata": {},
   "source": [
    "### N listings per query"
   ]
  },
  {
   "cell_type": "code",
   "execution_count": 47,
   "id": "e8e06506-d266-4cc4-b9b3-e0af15299c2b",
   "metadata": {},
   "outputs": [
    {
     "data": {
      "text/plain": [
       "count    25550.000000\n",
       "mean         3.305401\n",
       "std          8.988862\n",
       "min          1.000000\n",
       "25%          1.000000\n",
       "50%          1.000000\n",
       "75%          2.000000\n",
       "max        599.000000\n",
       "Name: query, dtype: float64"
      ]
     },
     "execution_count": 47,
     "metadata": {},
     "output_type": "execute_result"
    }
   ],
   "source": [
    "n_listings_per_query = combined_df[\"query\"].value_counts()\n",
    "n_listings_per_query.describe()"
   ]
  },
  {
   "cell_type": "code",
   "execution_count": 48,
   "id": "583b6582-3d9b-4002-9121-ae6e0de8805c",
   "metadata": {},
   "outputs": [
    {
     "name": "stdout",
     "output_type": "stream",
     "text": [
      "8.0\n",
      "20.0\n",
      "20.0\n"
     ]
    }
   ],
   "source": [
    "print(np.quantile(n_listings_per_query, 0.9))\n",
    "print(np.quantile(n_listings_per_query, 0.95))\n",
    "print(np.quantile(n_listings_per_query, 0.99))"
   ]
  },
  {
   "cell_type": "code",
   "execution_count": 49,
   "id": "dc596b9f-8def-4ab6-baf4-32032d8ca419",
   "metadata": {},
   "outputs": [
    {
     "data": {
      "text/plain": [
       "Find shirts                     599\n",
       "gifts for women                 340\n",
       "linen                           319\n",
       "personalized school supplies    297\n",
       "personalized gift               279\n",
       "personalized gifts for women    275\n",
       "unique gifts for her            248\n",
       "birthflower                     228\n",
       "travel accessories              222\n",
       "couple gift                     195\n",
       "Custom womens clothing          185\n",
       "handmade gift                   173\n",
       "anniversary gifts for women     168\n",
       "Custom kids clothing            166\n",
       "ohrringe                        164\n",
       "personalized party decor        159\n",
       "personalized gift for him       150\n",
       "vintage style                   147\n",
       "best gifts for him              139\n",
       "anniversary gifts for him       126\n",
       "back to college gift            114\n",
       "home gift                       113\n",
       "geburtstagsgeschenk frau        110\n",
       "personalized jewelry            109\n",
       "Womens spring dresses           107\n",
       "valentines day decor            103\n",
       "gifts for kids                  101\n",
       "college school supplies          99\n",
       "brautkleid                       93\n",
       "spring clothing                  91\n",
       "custom mens clothing             88\n",
       "tote bag                         84\n",
       "wedding gifts for the couple     82\n",
       "therian mask                     79\n",
       "wedding gift                     73\n",
       "bracelet personnalisé            70\n",
       "schnullerkette mit namen         68\n",
       "valentine gift                   65\n",
       "freundschaftsarmband             64\n",
       "wickelauflage                    61\n",
       "gift for cat                     61\n",
       "outdoor hosting                  60\n",
       "wedding card box                 60\n",
       "personalized home decor          60\n",
       "wedding cake topper              60\n",
       "wedding necklaces                59\n",
       "30. geburtstag frau              59\n",
       "gift for mom                     57\n",
       "disney                           56\n",
       "pet memorial gift                55\n",
       "Name: query, dtype: int64"
      ]
     },
     "execution_count": 49,
     "metadata": {},
     "output_type": "execute_result"
    }
   ],
   "source": [
    "n_listings_per_query.head(n=50)"
   ]
  },
  {
   "cell_type": "code",
   "execution_count": null,
   "id": "da5af20b-0595-483d-9789-802bf0bb04c4",
   "metadata": {},
   "outputs": [],
   "source": []
  },
  {
   "cell_type": "markdown",
   "id": "6b20f460-344e-48f3-94e3-0b254a041e76",
   "metadata": {},
   "source": [
    "### N queries per listing"
   ]
  },
  {
   "cell_type": "code",
   "execution_count": 50,
   "id": "f315ab53-0c5c-4e5f-b5fc-f169b4b580e4",
   "metadata": {},
   "outputs": [
    {
     "data": {
      "text/plain": [
       "count     82148.0\n",
       "mean     1.028059\n",
       "std       0.23644\n",
       "min           1.0\n",
       "25%           1.0\n",
       "50%           1.0\n",
       "75%           1.0\n",
       "max          14.0\n",
       "Name: listingId, dtype: Float64"
      ]
     },
     "execution_count": 50,
     "metadata": {},
     "output_type": "execute_result"
    }
   ],
   "source": [
    "n_queries_per_listing = combined_df[\"listingId\"].value_counts()\n",
    "n_queries_per_listing.describe()"
   ]
  },
  {
   "cell_type": "code",
   "execution_count": 51,
   "id": "3e50c351-a73f-4b42-a64d-a82629f565ba",
   "metadata": {},
   "outputs": [
    {
     "name": "stdout",
     "output_type": "stream",
     "text": [
      "1.0\n",
      "1.0\n",
      "2.0\n"
     ]
    }
   ],
   "source": [
    "print(np.quantile(n_queries_per_listing, 0.9))\n",
    "print(np.quantile(n_queries_per_listing, 0.95))\n",
    "print(np.quantile(n_queries_per_listing, 0.99))"
   ]
  },
  {
   "cell_type": "code",
   "execution_count": 52,
   "id": "c41bde38-cf3e-4fec-a4ea-f9da7383cb19",
   "metadata": {},
   "outputs": [
    {
     "data": {
      "text/plain": [
       "1267332404    14\n",
       "644199956     12\n",
       "1174657223    11\n",
       "1189955105    11\n",
       "1348928799    10\n",
       "1601632705     9\n",
       "1347295099     8\n",
       "1010384443     8\n",
       "1601633065     8\n",
       "1426958759     8\n",
       "1236331178     7\n",
       "1029698212     7\n",
       "1055846134     7\n",
       "1384459783     7\n",
       "1414472417     7\n",
       "965245133      7\n",
       "898008338      7\n",
       "1532612369     7\n",
       "1023099765     6\n",
       "694614053      6\n",
       "1559697371     6\n",
       "1035684640     6\n",
       "1384930469     6\n",
       "1338704568     6\n",
       "823311406      6\n",
       "1468526006     6\n",
       "1228586816     6\n",
       "932218890      6\n",
       "956119765      6\n",
       "1514410368     6\n",
       "861154494      5\n",
       "1060789662     5\n",
       "1213617116     5\n",
       "865636015      5\n",
       "1470954332     5\n",
       "1519654979     5\n",
       "1232974294     5\n",
       "1204433276     5\n",
       "1308248418     5\n",
       "1606106909     5\n",
       "1153444246     5\n",
       "1368416197     5\n",
       "1099780776     5\n",
       "1319609800     5\n",
       "1208309840     5\n",
       "1554919480     5\n",
       "1528412179     5\n",
       "1092252036     5\n",
       "624493147      5\n",
       "784553483      5\n",
       "Name: listingId, dtype: Int64"
      ]
     },
     "execution_count": 52,
     "metadata": {},
     "output_type": "execute_result"
    }
   ],
   "source": [
    "n_queries_per_listing.head(n=50)"
   ]
  },
  {
   "cell_type": "code",
   "execution_count": null,
   "id": "f840d986-2331-4719-8927-e29d4b02f05e",
   "metadata": {},
   "outputs": [],
   "source": []
  }
 ],
 "metadata": {
  "kernelspec": {
   "display_name": "Python 3 (ipykernel)",
   "language": "python",
   "name": "python3"
  },
  "language_info": {
   "codemirror_mode": {
    "name": "ipython",
    "version": 3
   },
   "file_extension": ".py",
   "mimetype": "text/x-python",
   "name": "python",
   "nbconvert_exporter": "python",
   "pygments_lexer": "ipython3",
   "version": "3.10.1"
  }
 },
 "nbformat": 4,
 "nbformat_minor": 5
}
