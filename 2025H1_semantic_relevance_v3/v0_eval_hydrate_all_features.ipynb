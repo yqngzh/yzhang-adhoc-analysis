{
 "cells": [
  {
   "cell_type": "markdown",
   "id": "06a4c847",
   "metadata": {},
   "source": [
    "This notebook reads GSL v0 with labels and BERT predictions, then hydrate with all query and listing features"
   ]
  },
  {
   "cell_type": "code",
   "execution_count": 1,
   "id": "ceec3648",
   "metadata": {},
   "outputs": [],
   "source": [
    "import pandas as pd\n",
    "import numpy as np\n",
    "import time\n",
    "import json\n",
    "import re\n",
    "from copy import deepcopy\n",
    "from google.cloud import bigquery"
   ]
  },
  {
   "cell_type": "code",
   "execution_count": 2,
   "id": "d4727771",
   "metadata": {},
   "outputs": [
    {
     "name": "stdout",
     "output_type": "stream",
     "text": [
      "(1200, 30)\n",
      "Index(['query', 'queryEn', 'listingId', 'titleEn_vertica', 'etsyUUID',\n",
      "       'platform', 'userLanguage', 'anno_data_source',\n",
      "       'labelbox_majority_label', 'label_annotator_1', 'label_annotator_2',\n",
      "       'label_annotator_3', 'is_gsl_v0_eval', 'v2_bert_pred_labels',\n",
      "       'v2_bert_score_not_relevant', 'v2_bert_score_prob_partial',\n",
      "       'v2_bert_score_relevant', 'label_etsy_1', 'label_etsy_2',\n",
      "       'label_etsy_3', 'etsy_person_1', 'etsy_person_2', 'etsy_person_3',\n",
      "       'etsy_notes', 'queryIsGift', 'labelbox_round_label',\n",
      "       'etsy_majority_label', 'etsy_round_label', 'etsy_unanimous',\n",
      "       'labelbox_unanimous'],\n",
      "      dtype='object')\n"
     ]
    }
   ],
   "source": [
    "df = pd.read_excel(\"./data/gsl_eval_v0_internal_label_bert_preds.xlsx\")\n",
    "\n",
    "print(df.shape)\n",
    "print(df.columns)"
   ]
  },
  {
   "cell_type": "code",
   "execution_count": 3,
   "id": "56b4e5d9",
   "metadata": {},
   "outputs": [
    {
     "name": "stderr",
     "output_type": "stream",
     "text": [
      "/Users/yzhang/development/etsy-llm/.venv/lib/python3.11/site-packages/google/auth/_default.py:76: UserWarning: Your application has authenticated using end user credentials from Google Cloud SDK without a quota project. You might receive a \"quota exceeded\" or \"API not enabled\" error. See the following page for troubleshooting: https://cloud.google.com/docs/authentication/adc-troubleshooting/user-creds. \n",
      "  warnings.warn(_CLOUD_SDK_CREDENTIALS_WARNING)\n",
      "WARNING: All log messages before absl::InitializeLog() is called are written to STDERR\n",
      "I0000 00:00:1740091737.482769 3128140 check_gcp_environment_no_op.cc:29] ALTS: Platforms other than Linux and Windows are not supported\n"
     ]
    }
   ],
   "source": [
    "client = bigquery.Client(project=\"etsy-search-ml-dev\")\n",
    "\n",
    "us_v2_query = \"\"\"WITH query_listing_pairs AS (\n",
    "  SELECT\n",
    "     etsyUUID, query, listingId, \n",
    "     listingTitle,\n",
    "     listingDescription,\n",
    "     listingTaxo,\n",
    "     listingImageUrls\n",
    "  FROM `etsy-sr-etl-prod.yzhang.sem_rel_human_annotation_v2`\n",
    "),\n",
    "listing_fb AS (\n",
    "  SELECT \n",
    "    key as listingId,\n",
    "    IFNULL(verticaListings_tags, \"\") listingTags,\n",
    "    (SELECT STRING_AGG(element, ';') FROM UNNEST(kbAttributesV2_sellerAttributesV2.list)) listingAttributes,\n",
    "    IFNULL(verticaSellerBasics_shopName, \"\") listingShopName,\n",
    "    (SELECT STRING_AGG(element, ', ') FROM UNNEST(descNgrams_ngrams.list)) listingDescNgrams,\n",
    "    IFNULL(listingLlmFeatures_llmHeroImageDescription, \"\") listingHeroImageCaption,\n",
    "  FROM `etsy-ml-systems-prod.feature_bank_v2.listing_feature_bank_2025-02-19`\n",
    "),\n",
    "grouped_variation_values AS (\n",
    "  SELECT \n",
    "    listing_id, \n",
    "    attribute_name,\n",
    "    STRING_AGG(attribute_value, ', ') AS grouped_attributes\n",
    "  FROM `etsy-data-warehouse-prod.listing_mart.listing_variation_attributes`\n",
    "  GROUP BY listing_id, attribute_name\n",
    "),\n",
    "listing_variations AS (\n",
    "  SELECT \n",
    "    listing_id as listingId,\n",
    "    STRING_AGG(CONCAT(attribute_name, ': ', grouped_attributes), '; ') AS listingVariations\n",
    "  FROM grouped_variation_values\n",
    "  GROUP BY listing_id\n",
    "),\n",
    "review_raw AS (\n",
    "  SELECT listing_id, review, DATE(TIMESTAMP_SECONDS(update_date)) review_last_update_date, \n",
    "  FROM `etsy-data-warehouse-prod.etsy_shard.listing_review`\n",
    "  WHERE review IS NOT null AND review != \"\"\n",
    "),\n",
    "recent_five_reviews AS (\n",
    "  SELECT *\n",
    "  FROM review_raw\n",
    "  QUALIFY ROW_NUMBER() OVER(PARTITION BY listing_id ORDER BY review_last_update_date DESC) <= 5\n",
    "),\n",
    "listing_reviews AS (\n",
    "  SELECT\n",
    "    listing_id AS listingId, \n",
    "    STRING_AGG(review, ' | ') listingReviews\n",
    "  FROM recent_five_reviews\n",
    "  GROUP BY listing_id\n",
    "),\n",
    "query_rewrites AS (\n",
    "  SELECT key AS query, STRING_AGG(unnested_value, \", \") AS queryRewrites\n",
    "  FROM `etsy-search-ml-dev.mission_understanding.smu_query_rewriting_v2_dpo_semrel`, \n",
    "    UNNEST(value) AS unnested_value\n",
    "  GROUP BY key\n",
    "),\n",
    "qe_raw AS (\n",
    "  SELECT DISTINCT\n",
    "    searchQuery AS query,\n",
    "    entities AS queryEntities\n",
    "  FROM `etsy-data-warehouse-prod.arizona.query_entity_features`\n",
    "),\n",
    "query_entities AS (\n",
    "  SELECT * \n",
    "  FROM qe_raw\n",
    "  QUALIFY ROW_NUMBER() OVER(PARTITION BY query ORDER BY rand()) = 1\n",
    ")\n",
    "SELECT \n",
    "  etsyUUID, \n",
    "  query, \n",
    "  listingId, \n",
    "  queryRewrites,\n",
    "  queryEntities,\n",
    "  listingTitle, \"\" AS listingTitleEn,\n",
    "  listingTaxo,\n",
    "  listingTags,\n",
    "  listingAttributes,\n",
    "  listingShopName,\n",
    "  listingDescription, \"\" AS listingDescriptionEn,\n",
    "  listingDescNgrams,\n",
    "  listingImageUrls,\n",
    "  listingHeroImageCaption,\n",
    "  listingVariations,\n",
    "  listingReviews,\n",
    "FROM query_listing_pairs\n",
    "LEFT JOIN listing_fb USING (listingId)\n",
    "LEFT JOIN listing_variations USING (listingId)\n",
    "LEFT JOIN listing_reviews USING (listingId)\n",
    "LEFT JOIN query_rewrites USING (query)\n",
    "LEFT JOIN query_entities USING (query)\n",
    "\"\"\"\n",
    "us_job = client.query(us_v2_query)\n",
    "us_features_df = us_job.result().to_dataframe()"
   ]
  },
  {
   "cell_type": "code",
   "execution_count": 4,
   "id": "0d4aa25e-5733-42ae-9ded-16dae82ffeed",
   "metadata": {},
   "outputs": [
    {
     "name": "stderr",
     "output_type": "stream",
     "text": [
      "I0000 00:00:1740091800.387238 3128140 check_gcp_environment_no_op.cc:29] ALTS: Platforms other than Linux and Windows are not supported\n"
     ]
    }
   ],
   "source": [
    "intl_query = \"\"\"WITH query_listing_pairs AS (\n",
    "  SELECT\n",
    "    etsyUUID, query, listingId, \n",
    "    queryEn,\n",
    "    listingTitle, listingTitleEn,\n",
    "    listingDescription, listingDescriptionEn,\n",
    "    listingAttributes,\n",
    "    listingShopName,\n",
    "    listingTaxo,\n",
    "    listingTags,\n",
    "  FROM `etsy-search-ml-dev.aclapp.isearch_semrel_surveyv1_teacherv2_features_w_primaryLang`\n",
    "),\n",
    "listing_fb AS (\n",
    "  SELECT \n",
    "    key as listingId,\n",
    "    (SELECT STRING_AGG(element, ', ') FROM UNNEST(descNgrams_ngrams.list)) listingDescNgrams,\n",
    "    IFNULL(listingLlmFeatures_llmHeroImageDescription, \"\") listingHeroImageCaption,\n",
    "  FROM `etsy-ml-systems-prod.feature_bank_v2.listing_feature_bank_2025-02-19`\n",
    "),\n",
    "grouped_variation_values AS (\n",
    "  SELECT \n",
    "    listing_id, \n",
    "    attribute_name,\n",
    "    STRING_AGG(attribute_value, ', ') AS grouped_attributes\n",
    "  FROM `etsy-data-warehouse-prod.listing_mart.listing_variation_attributes`\n",
    "  GROUP BY listing_id, attribute_name\n",
    "),\n",
    "listing_variations AS (\n",
    "  SELECT \n",
    "    listing_id as listingId,\n",
    "    STRING_AGG(CONCAT(attribute_name, ': ', grouped_attributes), '; ') AS listingVariations\n",
    "  FROM grouped_variation_values\n",
    "  GROUP BY listing_id\n",
    "),\n",
    "review_raw AS (\n",
    "  SELECT listing_id, review, DATE(TIMESTAMP_SECONDS(update_date)) review_last_update_date, \n",
    "  FROM `etsy-data-warehouse-prod.etsy_shard.listing_review`\n",
    "  WHERE review IS NOT null AND review != \"\"\n",
    "),\n",
    "recent_five_reviews AS (\n",
    "  SELECT *\n",
    "  FROM review_raw\n",
    "  QUALIFY ROW_NUMBER() OVER(PARTITION BY listing_id ORDER BY review_last_update_date DESC) <= 5\n",
    "),\n",
    "listing_reviews AS (\n",
    "  SELECT\n",
    "    listing_id AS listingId, \n",
    "    STRING_AGG(review, ' | ') listingReviews\n",
    "  FROM recent_five_reviews\n",
    "  GROUP BY listing_id\n",
    "),\n",
    "listing_images AS (\n",
    "  SELECT \n",
    "    listing_id listingId,\n",
    "    STRING_AGG(url, ';' ORDER BY img_rank ASC) listingImageUrls\n",
    "  FROM `etsy-data-warehouse-prod.computer_vision.listing_image_paths`\n",
    "  GROUP BY listing_id\n",
    "),\n",
    "query_rewrites AS (\n",
    "  SELECT key AS query, STRING_AGG(unnested_value, \", \") AS queryRewrites\n",
    "  FROM `etsy-search-ml-dev.mission_understanding.smu_query_rewriting_v2_dpo_semrel`, \n",
    "    UNNEST(value) AS unnested_value\n",
    "  GROUP BY key\n",
    "),\n",
    "qe_raw AS (\n",
    "  SELECT DISTINCT\n",
    "    searchQuery AS query,\n",
    "    entities AS queryEntities\n",
    "  FROM `etsy-data-warehouse-prod.arizona.query_entity_features`\n",
    "),\n",
    "query_entities AS (\n",
    "  SELECT * \n",
    "  FROM qe_raw\n",
    "  QUALIFY ROW_NUMBER() OVER(PARTITION BY query ORDER BY rand()) = 1\n",
    ")\n",
    "SELECT \n",
    "  etsyUUID, \n",
    "  query, \n",
    "  listingId, \n",
    "  queryRewrites,\n",
    "  queryEntities,\n",
    "  listingTitle, listingTitleEn,\n",
    "  listingTaxo,\n",
    "  listingTags,\n",
    "  listingAttributes,\n",
    "  listingShopName,\n",
    "  listingDescription, listingDescriptionEn,\n",
    "  listingDescNgrams,\n",
    "  listingImageUrls,\n",
    "  listingHeroImageCaption,\n",
    "  listingVariations,\n",
    "  listingReviews,\n",
    "FROM query_listing_pairs\n",
    "LEFT JOIN listing_fb USING (listingId)\n",
    "LEFT JOIN listing_variations USING (listingId)\n",
    "LEFT JOIN listing_reviews USING (listingId)\n",
    "LEFT JOIN listing_images USING (listingId)\n",
    "LEFT JOIN query_rewrites USING (query)\n",
    "LEFT JOIN query_entities USING (query)\n",
    "\"\"\" \n",
    "intl_job = client.query(intl_query)\n",
    "intl_features_df = intl_job.result().to_dataframe()"
   ]
  },
  {
   "cell_type": "code",
   "execution_count": 5,
   "id": "f4998d59-1155-49fb-9582-d95fbf19b353",
   "metadata": {},
   "outputs": [
    {
     "data": {
      "text/plain": [
       "(56793, 18)"
      ]
     },
     "execution_count": 5,
     "metadata": {},
     "output_type": "execute_result"
    }
   ],
   "source": [
    "features_df = pd.concat([us_features_df, intl_features_df], ignore_index=True)\n",
    "features_df.shape"
   ]
  },
  {
   "cell_type": "code",
   "execution_count": null,
   "id": "e0379a98-0205-4247-96fd-12c70a15d549",
   "metadata": {},
   "outputs": [],
   "source": []
  },
  {
   "cell_type": "markdown",
   "id": "a2fe972f-62d8-41a2-874d-ccb63d7b359f",
   "metadata": {},
   "source": [
    "### Cleaning"
   ]
  },
  {
   "cell_type": "code",
   "execution_count": 6,
   "id": "1e2f9d1a-05a7-48cc-8410-381b5ec095b4",
   "metadata": {},
   "outputs": [],
   "source": [
    "def clean_query_entities(qe_str):\n",
    "    # process json formatted strings into natual text strings\n",
    "    qe_data = json.loads(qe_str)\n",
    "    qe_output = \"\"\n",
    "    for k, v in qe_data.items():\n",
    "        if len(v) > 0:\n",
    "            qe_output += f\"{k}:{','.join(v)};\"\n",
    "    qe_output = qe_output.strip()\n",
    "    return qe_output\n",
    "\n",
    "\n",
    "def clean_tags(tag_str):\n",
    "    # remove leading dot\n",
    "    if tag_str.startswith(\".\"):\n",
    "        tag_str = tag_str[1:]\n",
    "    # replace dots with comma because dots cannot be saved to excel\n",
    "    output = tag_str.replace(\".\", \", \")\n",
    "    return output\n",
    "\n",
    "    \n",
    "def normalize_strings(s):\n",
    "    s = re.sub(r\"&gt;\", \">\", s)\n",
    "    s = re.sub(r\"&lt;\", \"<\", s)\n",
    "    s = re.sub(r\"&#39;|‘|’\", \"'\", s)\n",
    "    s = re.sub(r\"&quot;|“|”|''\", '\"', s)\n",
    "    s = re.sub(r\"\\x00\", \"\", s)\n",
    "    return s"
   ]
  },
  {
   "cell_type": "code",
   "execution_count": 7,
   "id": "d7730948-c820-4918-9e8f-c7f1cd9f5da6",
   "metadata": {},
   "outputs": [],
   "source": [
    "features_df.fillna(\"\", inplace=True)"
   ]
  },
  {
   "cell_type": "code",
   "execution_count": 8,
   "id": "5bbac71f-e9ea-4440-9624-b95ca6534725",
   "metadata": {},
   "outputs": [],
   "source": [
    "# clean query entities - transform json format into texts\n",
    "features_df[\"queryEntities\"] = features_df[\"queryEntities\"].apply(lambda x: \"\" if x == \"\" else clean_query_entities(x))\n",
    "# clean attributes - : for separator instead of #, to lower case\n",
    "features_df[\"listingAttributes\"] = features_df[\"listingAttributes\"].str.replace(\"#\",':').str.lower()\n",
    "# clean tags - replace . with ,\n",
    "features_df[\"listingTags\"] = features_df[\"listingTags\"].apply(clean_tags)"
   ]
  },
  {
   "cell_type": "code",
   "execution_count": 9,
   "id": "929f463c-8a93-4a21-ba80-8576bf118038",
   "metadata": {},
   "outputs": [],
   "source": [
    "features_df[\"listingTitle\"] = features_df[\"listingTitle\"].apply(normalize_strings)\n",
    "features_df[\"listingTitleEn\"] = features_df[\"listingTitleEn\"].apply(normalize_strings)\n",
    "features_df[\"listingTags\"] = features_df[\"listingTags\"].apply(normalize_strings)\n",
    "features_df[\"listingDescription\"] = features_df[\"listingDescription\"].apply(normalize_strings)\n",
    "features_df[\"listingDescriptionEn\"] = features_df[\"listingDescriptionEn\"].apply(normalize_strings)\n",
    "features_df[\"listingDescNgrams\"] = features_df[\"listingDescNgrams\"].apply(normalize_strings)\n",
    "features_df[\"listingVariations\"] = features_df[\"listingVariations\"].apply(normalize_strings)\n",
    "features_df[\"listingReviews\"] = features_df[\"listingReviews\"].apply(normalize_strings)"
   ]
  },
  {
   "cell_type": "code",
   "execution_count": null,
   "id": "b55b0932-2209-492d-add0-4b4bdce6ecbe",
   "metadata": {},
   "outputs": [],
   "source": []
  },
  {
   "cell_type": "code",
   "execution_count": null,
   "id": "1034087a-3b3a-4a04-9b22-b0d370a1f4f1",
   "metadata": {},
   "outputs": [],
   "source": []
  },
  {
   "cell_type": "markdown",
   "id": "e413bf73-cf02-468a-ab81-56ea98aea451",
   "metadata": {},
   "source": [
    "### Join features with query listing pairs"
   ]
  },
  {
   "cell_type": "code",
   "execution_count": 10,
   "id": "b48cfeda",
   "metadata": {},
   "outputs": [],
   "source": [
    "merged_df = pd.merge(df, features_df, on=[\"etsyUUID\", \"query\", \"listingId\"], how=\"left\")"
   ]
  },
  {
   "cell_type": "code",
   "execution_count": 11,
   "id": "a80dd425-2870-4331-8695-d5466f8497e9",
   "metadata": {},
   "outputs": [
    {
     "name": "stdout",
     "output_type": "stream",
     "text": [
      "<class 'pandas.core.frame.DataFrame'>\n",
      "RangeIndex: 1200 entries, 0 to 1199\n",
      "Data columns (total 45 columns):\n",
      " #   Column                      Non-Null Count  Dtype  \n",
      "---  ------                      --------------  -----  \n",
      " 0   query                       1200 non-null   object \n",
      " 1   queryEn                     544 non-null    object \n",
      " 2   listingId                   1200 non-null   int64  \n",
      " 3   titleEn_vertica             1200 non-null   object \n",
      " 4   etsyUUID                    1200 non-null   object \n",
      " 5   platform                    1200 non-null   object \n",
      " 6   userLanguage                1200 non-null   object \n",
      " 7   anno_data_source            1200 non-null   object \n",
      " 8   labelbox_majority_label     1200 non-null   object \n",
      " 9   label_annotator_1           1200 non-null   object \n",
      " 10  label_annotator_2           1200 non-null   object \n",
      " 11  label_annotator_3           1200 non-null   object \n",
      " 12  is_gsl_v0_eval              1200 non-null   bool   \n",
      " 13  v2_bert_pred_labels         1200 non-null   int64  \n",
      " 14  v2_bert_score_not_relevant  1200 non-null   float64\n",
      " 15  v2_bert_score_prob_partial  1200 non-null   float64\n",
      " 16  v2_bert_score_relevant      1200 non-null   float64\n",
      " 17  label_etsy_1                1200 non-null   object \n",
      " 18  label_etsy_2                1200 non-null   object \n",
      " 19  label_etsy_3                1200 non-null   object \n",
      " 20  etsy_person_1               1200 non-null   object \n",
      " 21  etsy_person_2               1200 non-null   object \n",
      " 22  etsy_person_3               1200 non-null   object \n",
      " 23  etsy_notes                  458 non-null    object \n",
      " 24  queryIsGift                 1200 non-null   bool   \n",
      " 25  labelbox_round_label        1200 non-null   object \n",
      " 26  etsy_majority_label         1200 non-null   object \n",
      " 27  etsy_round_label            1200 non-null   object \n",
      " 28  etsy_unanimous              1200 non-null   bool   \n",
      " 29  labelbox_unanimous          1200 non-null   bool   \n",
      " 30  queryRewrites               1200 non-null   object \n",
      " 31  queryEntities               1200 non-null   object \n",
      " 32  listingTitle                1200 non-null   object \n",
      " 33  listingTitleEn              1200 non-null   object \n",
      " 34  listingTaxo                 1200 non-null   object \n",
      " 35  listingTags                 1200 non-null   object \n",
      " 36  listingAttributes           1200 non-null   object \n",
      " 37  listingShopName             1200 non-null   object \n",
      " 38  listingDescription          1200 non-null   object \n",
      " 39  listingDescriptionEn        1200 non-null   object \n",
      " 40  listingDescNgrams           1200 non-null   object \n",
      " 41  listingImageUrls            1200 non-null   object \n",
      " 42  listingHeroImageCaption     1200 non-null   object \n",
      " 43  listingVariations           1200 non-null   object \n",
      " 44  listingReviews              1200 non-null   object \n",
      "dtypes: bool(4), float64(3), int64(2), object(36)\n",
      "memory usage: 389.2+ KB\n"
     ]
    }
   ],
   "source": [
    "merged_df.info()"
   ]
  },
  {
   "cell_type": "code",
   "execution_count": 12,
   "id": "3f2bea6f-f480-4ae8-905c-1a08678047c6",
   "metadata": {},
   "outputs": [],
   "source": [
    "merged_df.fillna(\"\", inplace=True)"
   ]
  },
  {
   "cell_type": "code",
   "execution_count": 25,
   "id": "7537c2fa-3c33-45e8-9a43-d2d6301ce722",
   "metadata": {},
   "outputs": [],
   "source": [
    "merged_df.to_excel(\"./data/gsl_eval_v0_all_except_llm.xlsx\", index=False)"
   ]
  },
  {
   "cell_type": "code",
   "execution_count": null,
   "id": "7f28a818-4ae8-4634-86dd-c717817ebf0d",
   "metadata": {},
   "outputs": [],
   "source": []
  },
  {
   "cell_type": "code",
   "execution_count": null,
   "id": "b90211c0-727a-4324-bc28-0e1fd3c2a84d",
   "metadata": {},
   "outputs": [],
   "source": []
  }
 ],
 "metadata": {
  "kernelspec": {
   "display_name": "Python 3 (ipykernel)",
   "language": "python",
   "name": "python3"
  },
  "language_info": {
   "codemirror_mode": {
    "name": "ipython",
    "version": 3
   },
   "file_extension": ".py",
   "mimetype": "text/x-python",
   "name": "python",
   "nbconvert_exporter": "python",
   "pygments_lexer": "ipython3",
   "version": "3.10.1"
  }
 },
 "nbformat": 4,
 "nbformat_minor": 5
}
