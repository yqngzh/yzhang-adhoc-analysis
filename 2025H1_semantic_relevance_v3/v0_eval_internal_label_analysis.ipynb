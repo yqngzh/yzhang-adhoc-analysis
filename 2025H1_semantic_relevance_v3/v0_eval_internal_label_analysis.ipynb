{
 "cells": [
  {
   "cell_type": "markdown",
   "id": "43f118d9-0895-470d-8aa8-0d1ee846ee84",
   "metadata": {},
   "source": [
    "## Read data, clean, and merge"
   ]
  },
  {
   "cell_type": "code",
   "execution_count": 1,
   "id": "7dfc87b5-a0e6-48a1-b42f-d37a3daaf562",
   "metadata": {},
   "outputs": [],
   "source": [
    "import pandas as pd\n",
    "import numpy as np\n",
    "import re\n",
    "from collections import Counter\n",
    "from sklearn.metrics import f1_score, confusion_matrix, classification_report"
   ]
  },
  {
   "cell_type": "code",
   "execution_count": 2,
   "id": "a876e140-90ae-4221-8e85-d0cb0c430cf3",
   "metadata": {},
   "outputs": [],
   "source": [
    "df = pd.read_excel(\"./data/gsl_eval_v0.xlsx\")\n",
    "\n",
    "# bert_preds from this notebook https://gist.github.com/yqngzh/cc38e60d8fcfa37059bf9271a07cc312\n",
    "# which was ran on a GPU workbench\n",
    "bert_preds_df = pd.read_excel(\"./data/gsl_eval_v0_bert_preds.xlsx\")\n",
    "\n",
    "yuqing_df = pd.read_excel(\"./data/yuqing_labels.xlsx\")\n",
    "argie_df = pd.read_excel(\"./data/argie_labels.xlsx\")\n",
    "congzhe_df = pd.read_excel(\"./data/congzhe_labels.xlsx\")\n",
    "willy_df = pd.read_excel(\"./data/willy_labels.xlsx\")\n",
    "emy_df = pd.read_excel(\"./data/emy_labels.xlsx\")"
   ]
  },
  {
   "cell_type": "code",
   "execution_count": 3,
   "id": "345a66f7-b90f-41d7-a471-00fd72895abe",
   "metadata": {},
   "outputs": [],
   "source": [
    "bert_preds_df = bert_preds_df[[\n",
    "    \"listingId\", \"etsyUUID\", \"v2_bert_pred_labels\", \n",
    "    \"v2_bert_score_not_relevant\", \"v2_bert_score_prob_partial\", \"v2_bert_score_relevant\"\n",
    "]]"
   ]
  },
  {
   "cell_type": "code",
   "execution_count": 4,
   "id": "10e3bc21-3d81-47db-95f1-5fce9c255773",
   "metadata": {},
   "outputs": [
    {
     "data": {
      "text/plain": [
       "partial         288\n",
       "relevant        267\n",
       "not_relevant    139\n",
       "not_sure         26\n",
       "Name: yuqing_label, dtype: int64"
      ]
     },
     "execution_count": 4,
     "metadata": {},
     "output_type": "execute_result"
    }
   ],
   "source": [
    "yuqing_df = yuqing_df[[\"listingId\", \"etsyUUID\", \"etsy_label\", \"notes\"]]\n",
    "yuqing_df.rename(columns={\"etsy_label\": \"yuqing_label\", \"notes\": \"yuqing_notes\"}, inplace=True)\n",
    "yuqing_df.yuqing_label.value_counts()"
   ]
  },
  {
   "cell_type": "code",
   "execution_count": 5,
   "id": "a8763e2a-a69d-414c-802b-9ea59f0ee777",
   "metadata": {},
   "outputs": [
    {
     "data": {
      "text/plain": [
       "relevant        400\n",
       "partial         173\n",
       "not_relevant    128\n",
       "not_sure         19\n",
       "Name: argie_label, dtype: int64"
      ]
     },
     "execution_count": 5,
     "metadata": {},
     "output_type": "execute_result"
    }
   ],
   "source": [
    "argie_df = argie_df[[\"listingId\", \"etsyUUID\", \"etsy_label\", \"notes\"]]\n",
    "argie_df.rename(columns={\"etsy_label\": \"argie_label\", \"notes\": \"argie_notes\"}, inplace=True)\n",
    "\n",
    "argie_df.fillna({\"argie_label\": \"not_sure\"}, inplace=True)\n",
    "argie_df[\"argie_label\"] = argie_df.argie_label.apply(lambda x: x.replace(\"not sure\", \"not_sure\").lower())\n",
    "argie_df.argie_label.value_counts()"
   ]
  },
  {
   "cell_type": "code",
   "execution_count": 6,
   "id": "cbaeeaf6-c390-4145-b093-284e2738e97d",
   "metadata": {},
   "outputs": [
    {
     "data": {
      "text/plain": [
       "relevant        363\n",
       "not_relevant    171\n",
       "partial         158\n",
       "not_sure         28\n",
       "Name: willy_label, dtype: int64"
      ]
     },
     "execution_count": 6,
     "metadata": {},
     "output_type": "execute_result"
    }
   ],
   "source": [
    "willy_df = willy_df[[\"listingId\", \"etsyUUID\", \"etsy_label\", \"notes\"]]\n",
    "willy_df.rename(columns={\"etsy_label\": \"willy_label\", \"notes\": \"willy_notes\"}, inplace=True)\n",
    "\n",
    "willy_df.fillna({\"willy_label\": \"not_sure\"}, inplace=True)\n",
    "willy_df[\"willy_label\"] = willy_df.willy_label.apply(\n",
    "    lambda x: x.replace(\"irrelevant\", \"not_relevant\").replace(\"partially relevant\", \"partial\").replace(\"not sure\", \"not_sure\").replace(\"shop query\", \"not_sure\").replace(\"navigation query\", \"not_sure\")\n",
    ")\n",
    "willy_df.willy_label.value_counts()"
   ]
  },
  {
   "cell_type": "code",
   "execution_count": 7,
   "id": "41bc504f-1f7e-4a19-bf7d-84397f8f6cc3",
   "metadata": {},
   "outputs": [
    {
     "data": {
      "text/plain": [
       "relevant        368\n",
       "not_relevant    182\n",
       "partial         155\n",
       "not_sure         15\n",
       "Name: congzhe_label, dtype: int64"
      ]
     },
     "execution_count": 7,
     "metadata": {},
     "output_type": "execute_result"
    }
   ],
   "source": [
    "congzhe_df = congzhe_df[[\"listingId\", \"etsyUUID\", \"etsy_label\", \"notes\"]]\n",
    "congzhe_df.rename(columns={\"etsy_label\": \"congzhe_label\", \"notes\": \"congzhe_notes\"}, inplace=True)\n",
    "\n",
    "congzhe_df[\"congzhe_label\"] = congzhe_df.congzhe_label.apply(\n",
    "    lambda x: x.replace(\"not relevant\", \"not_relevant\").replace(\"not sure\", \"not_sure\")\n",
    ")\n",
    "congzhe_df.congzhe_label.value_counts()"
   ]
  },
  {
   "cell_type": "code",
   "execution_count": 8,
   "id": "545220b3-bd4d-4bde-bc32-3a21384642cf",
   "metadata": {},
   "outputs": [
    {
     "data": {
      "text/plain": [
       "relevant        266\n",
       "partial         262\n",
       "not_relevant    160\n",
       "not_sure         32\n",
       "Name: emy_label, dtype: int64"
      ]
     },
     "execution_count": 8,
     "metadata": {},
     "output_type": "execute_result"
    }
   ],
   "source": [
    "emy_df = emy_df[[\"listingId\", \"etsyUUID\", \"etsy_label\", \"notes\"]]\n",
    "emy_df.rename(columns={\"etsy_label\": \"emy_label\", \"notes\": \"emy_notes\"}, inplace=True)\n",
    "emy_df.emy_label.value_counts()"
   ]
  },
  {
   "cell_type": "code",
   "execution_count": 9,
   "id": "44071585-ac6e-4b79-9dbc-947dae4a6bac",
   "metadata": {},
   "outputs": [],
   "source": [
    "merged_df = pd.merge(df, bert_preds_df, on=[\"etsyUUID\", \"listingId\"], how=\"left\")\n",
    "merged_df = pd.merge(merged_df, yuqing_df, on=[\"etsyUUID\", \"listingId\"], how=\"left\")\n",
    "merged_df = pd.merge(merged_df, argie_df, on=[\"etsyUUID\", \"listingId\"], how=\"left\")\n",
    "merged_df = pd.merge(merged_df, willy_df, on=[\"etsyUUID\", \"listingId\"], how=\"left\")\n",
    "merged_df = pd.merge(merged_df, congzhe_df, on=[\"etsyUUID\", \"listingId\"], how=\"left\")\n",
    "merged_df = pd.merge(merged_df, emy_df, on=[\"etsyUUID\", \"listingId\"], how=\"left\")"
   ]
  },
  {
   "cell_type": "code",
   "execution_count": 10,
   "id": "fc29fc36-dcee-43e8-a7af-46c5865cba29",
   "metadata": {},
   "outputs": [
    {
     "name": "stdout",
     "output_type": "stream",
     "text": [
      "<class 'pandas.core.frame.DataFrame'>\n",
      "Int64Index: 1200 entries, 0 to 1199\n",
      "Data columns (total 5 columns):\n",
      " #   Column         Non-Null Count  Dtype \n",
      "---  ------         --------------  ----- \n",
      " 0   yuqing_label   720 non-null    object\n",
      " 1   argie_label    720 non-null    object\n",
      " 2   willy_label    720 non-null    object\n",
      " 3   congzhe_label  720 non-null    object\n",
      " 4   emy_label      720 non-null    object\n",
      "dtypes: object(5)\n",
      "memory usage: 56.2+ KB\n"
     ]
    }
   ],
   "source": [
    "merged_df[[\"yuqing_label\", \"argie_label\", \"willy_label\", \"congzhe_label\", \"emy_label\"]].info()"
   ]
  },
  {
   "cell_type": "code",
   "execution_count": 11,
   "id": "a975aaba-2dab-4467-8ac7-41691fe32677",
   "metadata": {},
   "outputs": [],
   "source": [
    "label_etsy_1, label_etsy_2, label_etsy_3 = [], [], []\n",
    "etsy_person_1, etsy_person_2, etsy_person_3 = [], [], []\n",
    "merged_notes = []\n",
    "\n",
    "for i in range(merged_df.shape[0]):\n",
    "    curr_row = merged_df.iloc[i, :]\n",
    "    curr_persons = []\n",
    "    curr_labels = []\n",
    "    curr_notes = []\n",
    "\n",
    "    if not pd.isnull(curr_row[\"yuqing_label\"]):\n",
    "        curr_persons.append(\"yuqing\")\n",
    "        curr_labels.append(curr_row[\"yuqing_label\"])\n",
    "        if not pd.isnull(curr_row[\"yuqing_notes\"]):\n",
    "            curr_notes.append(f'consideration for <{curr_row[\"yuqing_label\"]}> label: {curr_row[\"yuqing_notes\"]}')\n",
    "\n",
    "    if not pd.isnull(curr_row[\"argie_label\"]):\n",
    "        curr_persons.append(\"argie\")\n",
    "        curr_labels.append(curr_row[\"argie_label\"])\n",
    "        if not pd.isnull(curr_row[\"argie_notes\"]):\n",
    "            curr_notes.append(f'consideration for <{curr_row[\"argie_label\"]}> label: {curr_row[\"argie_notes\"]}')\n",
    "    \n",
    "    if not pd.isnull(curr_row[\"willy_label\"]):\n",
    "        curr_persons.append(\"willy\")\n",
    "        curr_labels.append(curr_row[\"willy_label\"])\n",
    "        if not pd.isnull(curr_row[\"willy_notes\"]):\n",
    "            curr_notes.append(f'consideration for <{curr_row[\"willy_label\"]}> label: {curr_row[\"willy_notes\"]}')\n",
    "\n",
    "    if not pd.isnull(curr_row[\"congzhe_label\"]):\n",
    "        curr_persons.append(\"congzhe\")\n",
    "        curr_labels.append(curr_row[\"congzhe_label\"])\n",
    "        if not pd.isnull(curr_row[\"congzhe_notes\"]):\n",
    "            curr_notes.append(f'consideration for <{curr_row[\"congzhe_label\"]}> label: {curr_row[\"congzhe_notes\"]}')\n",
    "\n",
    "    if not pd.isnull(curr_row[\"emy_label\"]):\n",
    "        curr_persons.append(\"emy\")\n",
    "        curr_labels.append(curr_row[\"emy_label\"])\n",
    "        if not pd.isnull(curr_row[\"emy_notes\"]):\n",
    "            curr_notes.append(f'consideration for <{curr_row[\"emy_label\"]}> label: {curr_row[\"emy_notes\"]}')\n",
    "\n",
    "    assert len(curr_persons) == 3\n",
    "    assert len(curr_labels) == 3\n",
    "\n",
    "    etsy_person_1.append(curr_persons[0])\n",
    "    etsy_person_2.append(curr_persons[1])\n",
    "    etsy_person_3.append(curr_persons[2])\n",
    "\n",
    "    label_etsy_1.append(curr_labels[0])\n",
    "    label_etsy_2.append(curr_labels[1])\n",
    "    label_etsy_3.append(curr_labels[2])\n",
    "    \n",
    "    curr_notes = \"|\".join(curr_notes)\n",
    "    merged_notes.append(curr_notes)"
   ]
  },
  {
   "cell_type": "code",
   "execution_count": 12,
   "id": "43dbf255-9e38-49a8-8dc2-189d08f15806",
   "metadata": {},
   "outputs": [],
   "source": [
    "merged_df[\"label_etsy_1\"] = label_etsy_1\n",
    "merged_df[\"label_etsy_2\"] = label_etsy_2\n",
    "merged_df[\"label_etsy_3\"] = label_etsy_3\n",
    "\n",
    "merged_df[\"etsy_person_1\"] = etsy_person_1\n",
    "merged_df[\"etsy_person_2\"] = etsy_person_2\n",
    "merged_df[\"etsy_person_3\"] = etsy_person_3\n",
    "\n",
    "merged_df[\"etsy_notes\"] = merged_notes"
   ]
  },
  {
   "cell_type": "code",
   "execution_count": 13,
   "id": "3625c1e5-0575-4f31-94cd-8891ba4abbe7",
   "metadata": {},
   "outputs": [
    {
     "data": {
      "text/plain": [
       "Index(['query', 'queryEn', 'listingId', 'etsy_url', 'atlas_url',\n",
       "       'titleEn_vertica', 'etsyUUID', 'platform', 'userLanguage',\n",
       "       'anno_data_source', 'is_test', 'labelbox_majority_label',\n",
       "       'label_annotator_1', 'label_annotator_2', 'label_annotator_3',\n",
       "       'is_gsl_v0_eval', 'v2_bert_pred_labels', 'v2_bert_score_not_relevant',\n",
       "       'v2_bert_score_prob_partial', 'v2_bert_score_relevant', 'yuqing_label',\n",
       "       'yuqing_notes', 'argie_label', 'argie_notes', 'willy_label',\n",
       "       'willy_notes', 'congzhe_label', 'congzhe_notes', 'emy_label',\n",
       "       'emy_notes', 'label_etsy_1', 'label_etsy_2', 'label_etsy_3',\n",
       "       'etsy_person_1', 'etsy_person_2', 'etsy_person_3', 'etsy_notes'],\n",
       "      dtype='object')"
      ]
     },
     "execution_count": 13,
     "metadata": {},
     "output_type": "execute_result"
    }
   ],
   "source": [
    "merged_df.columns"
   ]
  },
  {
   "cell_type": "code",
   "execution_count": 14,
   "id": "54203dda-2006-410a-8088-3c38071c7a8c",
   "metadata": {},
   "outputs": [
    {
     "data": {
      "text/plain": [
       "relevant        444\n",
       "partial         389\n",
       "not_relevant    364\n",
       "not_sure          3\n",
       "Name: label_annotator_3, dtype: int64"
      ]
     },
     "execution_count": 14,
     "metadata": {},
     "output_type": "execute_result"
    }
   ],
   "source": [
    "merged_df.label_annotator_3.value_counts()"
   ]
  },
  {
   "cell_type": "code",
   "execution_count": null,
   "id": "766a02c9-64d5-45c2-ae53-ffd3f5fb3313",
   "metadata": {},
   "outputs": [],
   "source": []
  },
  {
   "cell_type": "code",
   "execution_count": null,
   "id": "9496d711-6194-4615-b6d2-1110c0d679fa",
   "metadata": {},
   "outputs": [],
   "source": []
  },
  {
   "cell_type": "markdown",
   "id": "6685aa60-c114-4f94-a33a-ae4e63811c60",
   "metadata": {},
   "source": [
    "## Aggregate labels"
   ]
  },
  {
   "cell_type": "code",
   "execution_count": 15,
   "id": "e000e9e5-fa20-4cae-8d75-1ee200ec5c47",
   "metadata": {},
   "outputs": [],
   "source": [
    "def checkIsGiftQuery(query_str):\n",
    "    pattern = r\"(?i)\\bgift|\\bfor (\\bhim|\\bher|\\bmom|\\bdad|\\bmother|\\bfather|\\bdaughter|\\bson|\\bwife|\\bhusband|\\bpartner|\\baunt|\\buncle|\\bniece|\\bnephew|\\bfiance|\\bcousin|\\bin law|\\bboyfriend|\\bgirlfriend|\\bgrand|\\bfriend|\\bbest friend)\"\n",
    "    result = re.search(pattern, query_str) \n",
    "    is_gift = result is not None\n",
    "    return is_gift\n",
    "\n",
    "def checkIsGiftInDF(row):\n",
    "    if row[\"anno_data_source\"].startswith(\"us\"):\n",
    "        return checkIsGiftQuery(row[\"query\"])\n",
    "    else:\n",
    "        return checkIsGiftQuery(row[\"queryEn\"])"
   ]
  },
  {
   "cell_type": "code",
   "execution_count": 16,
   "id": "6c67e993-69d0-4244-8d82-904035d442e6",
   "metadata": {},
   "outputs": [],
   "source": [
    "merged_df[\"queryIsGift\"] = merged_df.apply(checkIsGiftInDF, axis=1)"
   ]
  },
  {
   "cell_type": "code",
   "execution_count": 17,
   "id": "f57f6eb7-a64e-4e9d-8f71-c4454e16ce4d",
   "metadata": {},
   "outputs": [
    {
     "data": {
      "text/plain": [
       "partial         400\n",
       "not_relevant    400\n",
       "relevant        400\n",
       "Name: labelbox_majority_label, dtype: int64"
      ]
     },
     "execution_count": 17,
     "metadata": {},
     "output_type": "execute_result"
    }
   ],
   "source": [
    "merged_df.labelbox_majority_label.value_counts()"
   ]
  },
  {
   "cell_type": "code",
   "execution_count": 18,
   "id": "56e8eb0e-45ea-48f1-bb94-cb9897147614",
   "metadata": {},
   "outputs": [],
   "source": [
    "def round_to_partial(label_vec):\n",
    "    \"\"\" given a vector (length 3) of labels, generate the round label\n",
    "    \"\"\"\n",
    "    if any(x == \"not_sure\" for x in label_vec):\n",
    "        return \"not_sure\"\n",
    "    if all(x == \"not_relevant\" for x in label_vec):\n",
    "        return \"not_relevant\"\n",
    "    if all(x == \"relevant\" for x in label_vec):\n",
    "        return \"relevant\"\n",
    "    return \"partial\""
   ]
  },
  {
   "cell_type": "code",
   "execution_count": 19,
   "id": "28e41d32-1a84-4a1b-8bdb-50452c6209e7",
   "metadata": {},
   "outputs": [],
   "source": [
    "etsy_majority, etsy_round, labelbox_round = [], [], []\n",
    "etsy_unanimous, labelbox_unanimous = [], []\n",
    "\n",
    "for i in range(merged_df.shape[0]):\n",
    "    curr_row = merged_df.iloc[i, :]\n",
    "    etsy_labels = [\n",
    "        curr_row[\"label_etsy_1\"],\n",
    "        curr_row[\"label_etsy_2\"],  \n",
    "        curr_row[\"label_etsy_3\"],  \n",
    "    ]\n",
    "    labelbox_labels = [\n",
    "        curr_row[\"label_annotator_1\"],\n",
    "        curr_row[\"label_annotator_2\"],\n",
    "        curr_row[\"label_annotator_3\"],\n",
    "    ]\n",
    "    \n",
    "    etsy_counter = Counter(etsy_labels)\n",
    "    etsy_most_common = etsy_counter.most_common()[0]\n",
    "\n",
    "    labelbox_counter = Counter(labelbox_labels)\n",
    "    labelbox_most_common = labelbox_counter.most_common()[0]\n",
    "    assert labelbox_most_common[1] >= 2\n",
    "    assert labelbox_most_common[0] == curr_row[\"labelbox_majority_label\"]\n",
    "\n",
    "    if len(etsy_counter) == 1 and etsy_most_common[0] != \"not_sure\":\n",
    "        etsy_unanimous.append(True)\n",
    "    else:\n",
    "        etsy_unanimous.append(False)\n",
    "    if len(labelbox_counter) == 1 and labelbox_most_common[0] != \"not_sure\":\n",
    "        labelbox_unanimous.append(True)\n",
    "    else:\n",
    "        labelbox_unanimous.append(False)\n",
    "\n",
    "    # etsy majority label\n",
    "    if etsy_most_common[1] >= 2 and etsy_most_common[0] != \"not_sure\":\n",
    "        etsy_majority.append(etsy_most_common[0])\n",
    "    else:\n",
    "        etsy_majority.append(\"not_sure\")\n",
    "    \n",
    "    # labelbox round to partial label\n",
    "    etsy_round.append(round_to_partial(etsy_labels))\n",
    "\n",
    "    # etsy round to partial label\n",
    "    labelbox_round.append(round_to_partial(labelbox_labels))"
   ]
  },
  {
   "cell_type": "code",
   "execution_count": 20,
   "id": "48e5d478-0721-49d0-b678-443d269ef71d",
   "metadata": {},
   "outputs": [],
   "source": [
    "merged_df[\"labelbox_round_label\"] = labelbox_round\n",
    "merged_df[\"etsy_majority_label\"] = etsy_majority\n",
    "merged_df[\"etsy_round_label\"] = etsy_round\n",
    "merged_df[\"etsy_unanimous\"] = etsy_unanimous\n",
    "merged_df[\"labelbox_unanimous\"] = labelbox_unanimous"
   ]
  },
  {
   "cell_type": "code",
   "execution_count": 21,
   "id": "c5934d1b-a3db-4f8e-8a6a-a47102d6835b",
   "metadata": {},
   "outputs": [
    {
     "data": {
      "text/plain": [
       "False    606\n",
       "True     594\n",
       "Name: etsy_unanimous, dtype: int64"
      ]
     },
     "execution_count": 21,
     "metadata": {},
     "output_type": "execute_result"
    }
   ],
   "source": [
    "merged_df.etsy_unanimous.value_counts()"
   ]
  },
  {
   "cell_type": "code",
   "execution_count": 22,
   "id": "bb4380ee-22c1-4850-a7cd-9437d9263c6e",
   "metadata": {},
   "outputs": [
    {
     "data": {
      "text/plain": [
       "True     696\n",
       "False    504\n",
       "Name: labelbox_unanimous, dtype: int64"
      ]
     },
     "execution_count": 22,
     "metadata": {},
     "output_type": "execute_result"
    }
   ],
   "source": [
    "merged_df.labelbox_unanimous.value_counts()"
   ]
  },
  {
   "cell_type": "code",
   "execution_count": 23,
   "id": "a100367c-0450-47bc-84e1-77b57ab49de5",
   "metadata": {},
   "outputs": [
    {
     "data": {
      "text/plain": [
       "True     68\n",
       "False    39\n",
       "Name: etsy_unanimous, dtype: int64"
      ]
     },
     "execution_count": 23,
     "metadata": {},
     "output_type": "execute_result"
    }
   ],
   "source": [
    "merged_df[merged_df.queryIsGift].etsy_unanimous.value_counts()"
   ]
  },
  {
   "cell_type": "code",
   "execution_count": 24,
   "id": "ad5a17f3-7149-47ec-96e5-cb41491b73e8",
   "metadata": {},
   "outputs": [
    {
     "data": {
      "text/plain": [
       "True     64\n",
       "False    43\n",
       "Name: labelbox_unanimous, dtype: int64"
      ]
     },
     "execution_count": 24,
     "metadata": {},
     "output_type": "execute_result"
    }
   ],
   "source": [
    "merged_df[merged_df.queryIsGift].labelbox_unanimous.value_counts()"
   ]
  },
  {
   "cell_type": "code",
   "execution_count": null,
   "id": "bd13cf42-9029-4a02-ae32-6b0991c80dd4",
   "metadata": {},
   "outputs": [],
   "source": []
  },
  {
   "cell_type": "code",
   "execution_count": 25,
   "id": "3275e95f-590b-4553-998c-d3b9bc4790f9",
   "metadata": {},
   "outputs": [
    {
     "data": {
      "text/plain": [
       "partial         672\n",
       "relevant        301\n",
       "not_relevant    217\n",
       "not_sure         10\n",
       "Name: labelbox_round_label, dtype: int64"
      ]
     },
     "execution_count": 25,
     "metadata": {},
     "output_type": "execute_result"
    }
   ],
   "source": [
    "merged_df.labelbox_round_label.value_counts()"
   ]
  },
  {
   "cell_type": "code",
   "execution_count": 26,
   "id": "e9f96ff6-9c97-48cd-ae43-cceacad8e470",
   "metadata": {},
   "outputs": [
    {
     "data": {
      "text/plain": [
       "relevant        539\n",
       "partial         312\n",
       "not_relevant    247\n",
       "not_sure        102\n",
       "Name: etsy_majority_label, dtype: int64"
      ]
     },
     "execution_count": 26,
     "metadata": {},
     "output_type": "execute_result"
    }
   ],
   "source": [
    "merged_df.etsy_majority_label.value_counts()"
   ]
  },
  {
   "cell_type": "code",
   "execution_count": 27,
   "id": "6c3c3968-a7de-496d-95eb-3c97a666128f",
   "metadata": {},
   "outputs": [
    {
     "data": {
      "text/plain": [
       "partial         620\n",
       "relevant        361\n",
       "not_relevant    114\n",
       "not_sure        105\n",
       "Name: etsy_round_label, dtype: int64"
      ]
     },
     "execution_count": 27,
     "metadata": {},
     "output_type": "execute_result"
    }
   ],
   "source": [
    "merged_df.etsy_round_label.value_counts()"
   ]
  },
  {
   "cell_type": "code",
   "execution_count": null,
   "id": "4cb618f8-25e6-4dd3-948e-531095f3b193",
   "metadata": {},
   "outputs": [],
   "source": []
  },
  {
   "cell_type": "code",
   "execution_count": null,
   "id": "6132cfea-80fd-4650-8b61-0e8c211c1c46",
   "metadata": {},
   "outputs": [],
   "source": []
  },
  {
   "cell_type": "markdown",
   "id": "c41b7e4f-ebe2-4570-bae4-4d30cd61f752",
   "metadata": {},
   "source": [
    "## Confusion matrices"
   ]
  },
  {
   "cell_type": "code",
   "execution_count": 28,
   "id": "d849e877-278e-4c45-b51c-2a2409987cd5",
   "metadata": {},
   "outputs": [
    {
     "data": {
      "text/plain": [
       "array([[358,  25,   6,  11],\n",
       "       [128, 199,  36,  37],\n",
       "       [ 53,  88, 205,  54],\n",
       "       [  0,   0,   0,   0]])"
      ]
     },
     "execution_count": 28,
     "metadata": {},
     "output_type": "execute_result"
    }
   ],
   "source": [
    "confusion_matrix(merged_df.labelbox_majority_label, merged_df.etsy_majority_label, labels=[\"relevant\", \"partial\", \"not_relevant\", \"not_sure\"])"
   ]
  },
  {
   "cell_type": "code",
   "execution_count": 29,
   "id": "9ba8a0af-46ee-4a14-bc9e-d5a61ac4e2b0",
   "metadata": {},
   "outputs": [
    {
     "data": {
      "text/plain": [
       "array([[240,  47,   1,  13],\n",
       "       [112, 468,  37,  55],\n",
       "       [  9, 102,  74,  32],\n",
       "       [  0,   3,   2,   5]])"
      ]
     },
     "execution_count": 29,
     "metadata": {},
     "output_type": "execute_result"
    }
   ],
   "source": [
    "confusion_matrix(merged_df.labelbox_round_label, merged_df.etsy_round_label, labels=[\"relevant\", \"partial\", \"not_relevant\", \"not_sure\"])"
   ]
  },
  {
   "cell_type": "code",
   "execution_count": null,
   "id": "ca279446-fc4f-41c5-9ea1-a12d697f2364",
   "metadata": {},
   "outputs": [],
   "source": []
  },
  {
   "cell_type": "code",
   "execution_count": null,
   "id": "6b0b42e8-d33b-4e96-b8ea-74966afe71f4",
   "metadata": {},
   "outputs": [],
   "source": []
  },
  {
   "cell_type": "markdown",
   "id": "cecb58ff-9bd8-46b2-bf45-3fb4791898a3",
   "metadata": {},
   "source": [
    "## Individual VS etsy majority"
   ]
  },
  {
   "cell_type": "code",
   "execution_count": 30,
   "id": "e2bac3b6-2f30-4510-bd6c-0d91e3e3a2c1",
   "metadata": {},
   "outputs": [],
   "source": [
    "yuqing_sub_df = merged_df[~pd.isnull(merged_df.yuqing_label)]\n",
    "argie_sub_df = merged_df[~pd.isnull(merged_df.argie_label)]\n",
    "willy_sub_df = merged_df[~pd.isnull(merged_df.willy_label)]\n",
    "congzhe_sub_df = merged_df[~pd.isnull(merged_df.congzhe_label)]\n",
    "emy_sub_df = merged_df[~pd.isnull(merged_df.emy_label)]"
   ]
  },
  {
   "cell_type": "code",
   "execution_count": 31,
   "id": "c67ddce5-a74d-4a21-99e2-8388287a5406",
   "metadata": {},
   "outputs": [],
   "source": [
    "def compute_fpr(y_true, y_pred):\n",
    "    tn = np.sum((y_true == 0) & (y_pred == 0))\n",
    "    fp = np.sum((y_true == 0) & (y_pred == 1))\n",
    "    fpr = fp / (fp + tn)\n",
    "    return fpr\n",
    "\n",
    "\n",
    "def compare_individual_to_majority(df, label_field, majority_field=\"etsy_majority_label\"):\n",
    "    df_sub = df[np.logical_and(df[majority_field] != \"not_sure\", df[label_field] != \"not_sure\")]\n",
    "    \n",
    "    f1 = f1_score(df_sub[majority_field], df_sub[label_field], average=\"macro\")\n",
    "    print(f\"{f1=}\")\n",
    "    \n",
    "    irrel_binary_true = df_sub[majority_field].apply(lambda x: 0 if x == \"not_relevant\" else 1)\n",
    "    irrel_binary_pred = df_sub[label_field].apply(lambda x: 0 if x == \"not_relevant\" else 1)\n",
    "    irrel_fpr = compute_fpr(irrel_binary_true, irrel_binary_pred)\n",
    "    print(f\"{irrel_fpr=}\")\n",
    "\n",
    "    rel_binary_true = df_sub[majority_field].apply(lambda x: 1 if x == \"relevant\" else 0)\n",
    "    rel_binary_pred = df_sub[label_field].apply(lambda x: 1 if x == \"relevant\" else 0)\n",
    "    rel_fpr = compute_fpr(rel_binary_true, rel_binary_pred)\n",
    "    print(f\"{rel_fpr=}\")\n",
    "\n",
    "    cls_report = classification_report(df_sub[majority_field], df_sub[label_field], digits=4)\n",
    "    print(cls_report)\n",
    "    \n",
    "    conf_mat = confusion_matrix(df_sub[majority_field], df_sub[label_field])\n",
    "    print(conf_mat)"
   ]
  },
  {
   "cell_type": "code",
   "execution_count": 32,
   "id": "b58c61ee-5b90-4f13-b838-f8f1e91b4e85",
   "metadata": {},
   "outputs": [
    {
     "name": "stdout",
     "output_type": "stream",
     "text": [
      "f1=0.8817506522602002\n",
      "irrel_fpr=0.14893617021276595\n",
      "rel_fpr=0.020527859237536656\n",
      "              precision    recall  f1-score   support\n",
      "\n",
      "not_relevant     0.9449    0.8511    0.8955       141\n",
      "     partial     0.7559    0.9600    0.8458       200\n",
      "    relevant     0.9732    0.8439    0.9039       301\n",
      "\n",
      "    accuracy                         0.8816       642\n",
      "   macro avg     0.8913    0.8850    0.8818       642\n",
      "weighted avg     0.8993    0.8816    0.8840       642\n",
      "\n",
      "[[120  20   1]\n",
      " [  2 192   6]\n",
      " [  5  42 254]]\n"
     ]
    }
   ],
   "source": [
    "compare_individual_to_majority(yuqing_sub_df, \"yuqing_label\")"
   ]
  },
  {
   "cell_type": "code",
   "execution_count": 33,
   "id": "8a68d93e-2d2f-4cea-a8b9-4198bdefbbaa",
   "metadata": {},
   "outputs": [
    {
     "name": "stdout",
     "output_type": "stream",
     "text": [
      "f1=0.8271816103513158\n",
      "irrel_fpr=0.23404255319148937\n",
      "rel_fpr=0.15705128205128205\n",
      "              precision    recall  f1-score   support\n",
      "\n",
      "not_relevant     0.9076    0.7660    0.8308       141\n",
      "     partial     0.7654    0.7251    0.7447       171\n",
      "    relevant     0.8683    0.9472    0.9060       341\n",
      "\n",
      "    accuracy                         0.8499       653\n",
      "   macro avg     0.8471    0.8128    0.8272       653\n",
      "weighted avg     0.8498    0.8499    0.8475       653\n",
      "\n",
      "[[108  25   8]\n",
      " [  6 124  41]\n",
      " [  5  13 323]]\n"
     ]
    }
   ],
   "source": [
    "compare_individual_to_majority(argie_sub_df, \"argie_label\")"
   ]
  },
  {
   "cell_type": "code",
   "execution_count": 34,
   "id": "5c279157-7c56-460e-a6ca-d0ce4a38708a",
   "metadata": {},
   "outputs": [
    {
     "name": "stdout",
     "output_type": "stream",
     "text": [
      "f1=0.8294841495776439\n",
      "irrel_fpr=0.11643835616438356\n",
      "rel_fpr=0.11838006230529595\n",
      "              precision    recall  f1-score   support\n",
      "\n",
      "not_relevant     0.8269    0.8836    0.8543       146\n",
      "     partial     0.7867    0.6743    0.7262       175\n",
      "    relevant     0.8879    0.9290    0.9080       324\n",
      "\n",
      "    accuracy                         0.8496       645\n",
      "   macro avg     0.8338    0.8290    0.8295       645\n",
      "weighted avg     0.8466    0.8496    0.8465       645\n",
      "\n",
      "[[129  11   6]\n",
      " [ 25 118  32]\n",
      " [  2  21 301]]\n"
     ]
    }
   ],
   "source": [
    "compare_individual_to_majority(willy_sub_df, \"willy_label\")"
   ]
  },
  {
   "cell_type": "code",
   "execution_count": 35,
   "id": "219827b3-f0f2-4a30-a802-aa4b032486fe",
   "metadata": {},
   "outputs": [
    {
     "name": "stdout",
     "output_type": "stream",
     "text": [
      "f1=0.8261547266403779\n",
      "irrel_fpr=0.1342281879194631\n",
      "rel_fpr=0.1476923076923077\n",
      "              precision    recall  f1-score   support\n",
      "\n",
      "not_relevant     0.8431    0.8658    0.8543       149\n",
      "     partial     0.7987    0.6761    0.7323       176\n",
      "    relevant     0.8625    0.9233    0.8919       326\n",
      "\n",
      "    accuracy                         0.8433       651\n",
      "   macro avg     0.8348    0.8217    0.8262       651\n",
      "weighted avg     0.8408    0.8433    0.8401       651\n",
      "\n",
      "[[129  12   8]\n",
      " [ 17 119  40]\n",
      " [  7  18 301]]\n"
     ]
    }
   ],
   "source": [
    "compare_individual_to_majority(congzhe_sub_df, \"congzhe_label\")"
   ]
  },
  {
   "cell_type": "code",
   "execution_count": 36,
   "id": "bc74cf92-d5d2-45e7-83c8-5979807f67dd",
   "metadata": {},
   "outputs": [
    {
     "name": "stdout",
     "output_type": "stream",
     "text": [
      "f1=0.8762269925874889\n",
      "irrel_fpr=0.11594202898550725\n",
      "rel_fpr=0.011560693641618497\n",
      "              precision    recall  f1-score   support\n",
      "\n",
      "not_relevant     0.8472    0.8841    0.8652       138\n",
      "     partial     0.7884    0.9135    0.8463       208\n",
      "    relevant     0.9848    0.8581    0.9171       303\n",
      "\n",
      "    accuracy                         0.8814       649\n",
      "   macro avg     0.8735    0.8852    0.8762       649\n",
      "weighted avg     0.8926    0.8814    0.8834       649\n",
      "\n",
      "[[122  14   2]\n",
      " [ 16 190   2]\n",
      " [  6  37 260]]\n"
     ]
    }
   ],
   "source": [
    "compare_individual_to_majority(emy_sub_df, \"emy_label\")"
   ]
  },
  {
   "cell_type": "code",
   "execution_count": null,
   "id": "6f01aad6-a42e-493f-a10e-db3666a46ca0",
   "metadata": {},
   "outputs": [],
   "source": []
  },
  {
   "cell_type": "code",
   "execution_count": 37,
   "id": "aa07e3df-ea39-4dd9-b57f-577323b28e86",
   "metadata": {},
   "outputs": [
    {
     "name": "stdout",
     "output_type": "stream",
     "text": [
      "f1=0.6639790791594181\n",
      "irrel_fpr=0.25102880658436216\n",
      "rel_fpr=0.11711711711711711\n",
      "              precision    recall  f1-score   support\n",
      "\n",
      "not_relevant     0.5796    0.7490    0.6535       243\n",
      "     partial     0.5552    0.6282    0.5895       312\n",
      "    relevant     0.8474    0.6710    0.7490       538\n",
      "\n",
      "    accuracy                         0.6761      1093\n",
      "   macro avg     0.6608    0.6827    0.6640      1093\n",
      "weighted avg     0.7045    0.6761    0.6822      1093\n",
      "\n",
      "[[182  38  23]\n",
      " [ 74 196  42]\n",
      " [ 58 119 361]]\n"
     ]
    }
   ],
   "source": [
    "compare_individual_to_majority(merged_df, \"label_annotator_1\")"
   ]
  },
  {
   "cell_type": "code",
   "execution_count": 38,
   "id": "1905dc5c-22fa-4aa8-91a4-45b905c9d80c",
   "metadata": {},
   "outputs": [
    {
     "name": "stdout",
     "output_type": "stream",
     "text": [
      "f1=0.664723692176609\n",
      "irrel_fpr=0.2145748987854251\n",
      "rel_fpr=0.0913978494623656\n",
      "              precision    recall  f1-score   support\n",
      "\n",
      "not_relevant     0.5861    0.7854    0.6713       247\n",
      "     partial     0.5284    0.5981    0.5611       311\n",
      "    relevant     0.8768    0.6735    0.7618       539\n",
      "\n",
      "    accuracy                         0.6773      1097\n",
      "   macro avg     0.6638    0.6857    0.6647      1097\n",
      "weighted avg     0.7126    0.6773    0.6845      1097\n",
      "\n",
      "[[194  42  11]\n",
      " [ 85 186  40]\n",
      " [ 52 124 363]]\n"
     ]
    }
   ],
   "source": [
    "compare_individual_to_majority(merged_df, \"label_annotator_2\")"
   ]
  },
  {
   "cell_type": "code",
   "execution_count": 39,
   "id": "b3188d6a-4dad-40cf-add6-7e8e16bc2c22",
   "metadata": {},
   "outputs": [
    {
     "name": "stdout",
     "output_type": "stream",
     "text": [
      "f1=0.669414095304614\n",
      "irrel_fpr=0.21721311475409835\n",
      "rel_fpr=0.1079136690647482\n",
      "              precision    recall  f1-score   support\n",
      "\n",
      "not_relevant     0.6044    0.7828    0.6821       244\n",
      "     partial     0.5341    0.6026    0.5663       312\n",
      "    relevant     0.8595    0.6809    0.7598       539\n",
      "\n",
      "    accuracy                         0.6813      1095\n",
      "   macro avg     0.6660    0.6887    0.6694      1095\n",
      "weighted avg     0.7099    0.6813    0.6874      1095\n",
      "\n",
      "[[191  40  13]\n",
      " [ 77 188  47]\n",
      " [ 48 124 367]]\n"
     ]
    }
   ],
   "source": [
    "compare_individual_to_majority(merged_df, \"label_annotator_3\")"
   ]
  },
  {
   "cell_type": "code",
   "execution_count": null,
   "id": "5a0355f5-a3e5-4517-af31-88c6e6660829",
   "metadata": {},
   "outputs": [],
   "source": []
  },
  {
   "cell_type": "markdown",
   "id": "c14df8c1-ad65-450a-8feb-f8c43bbee6fe",
   "metadata": {},
   "source": [
    "## Individual VS etsy RTP"
   ]
  },
  {
   "cell_type": "code",
   "execution_count": 32,
   "id": "a9f50235-746a-46bf-aeac-31d45e2e9d53",
   "metadata": {},
   "outputs": [
    {
     "name": "stdout",
     "output_type": "stream",
     "text": [
      "f1=0.8310787449180985\n",
      "irrel_fpr=0.0\n",
      "rel_fpr=0.10738255033557047\n",
      "              precision    recall  f1-score   support\n",
      "\n",
      "not_relevant     0.5917    1.0000    0.7435        71\n",
      "     partial     1.0000    0.7420    0.8519       376\n",
      "    relevant     0.8147    1.0000    0.8979       211\n",
      "\n",
      "    accuracy                         0.8526       658\n",
      "   macro avg     0.8021    0.9140    0.8311       658\n",
      "weighted avg     0.8965    0.8526    0.8549       658\n",
      "\n",
      "[[ 71   0   0]\n",
      " [ 49 279  48]\n",
      " [  0   0 211]]\n"
     ]
    }
   ],
   "source": [
    "compare_individual_to_majority(yuqing_sub_df, \"yuqing_label\", majority_field=\"etsy_round_label\")"
   ]
  },
  {
   "cell_type": "code",
   "execution_count": 34,
   "id": "8798cc72-d5ef-4031-b516-c9365418b870",
   "metadata": {},
   "outputs": [
    {
     "name": "stdout",
     "output_type": "stream",
     "text": [
      "f1=0.6987451946732622\n",
      "irrel_fpr=0.0\n",
      "rel_fpr=0.36425339366515835\n",
      "              precision    recall  f1-score   support\n",
      "\n",
      "not_relevant     0.5983    1.0000    0.7487        70\n",
      "     partial     1.0000    0.4409    0.6119       372\n",
      "    relevant     0.5818    1.0000    0.7356       224\n",
      "\n",
      "    accuracy                         0.6877       666\n",
      "   macro avg     0.7267    0.8136    0.6987       666\n",
      "weighted avg     0.8171    0.6877    0.6679       666\n",
      "\n",
      "[[ 70   0   0]\n",
      " [ 47 164 161]\n",
      " [  0   0 224]]\n"
     ]
    }
   ],
   "source": [
    "compare_individual_to_majority(argie_sub_df, \"argie_label\", majority_field=\"etsy_round_label\")"
   ]
  },
  {
   "cell_type": "code",
   "execution_count": 35,
   "id": "f31e7178-a067-4d01-850c-4176ab5bdb34",
   "metadata": {},
   "outputs": [
    {
     "name": "stdout",
     "output_type": "stream",
     "text": [
      "f1=0.6534880069366434\n",
      "irrel_fpr=0.0\n",
      "rel_fpr=0.28703703703703703\n",
      "              precision    recall  f1-score   support\n",
      "\n",
      "not_relevant     0.4268    1.0000    0.5982        67\n",
      "     partial     1.0000    0.4137    0.5853       365\n",
      "    relevant     0.6353    1.0000    0.7770       216\n",
      "\n",
      "    accuracy                         0.6698       648\n",
      "   macro avg     0.6873    0.8046    0.6535       648\n",
      "weighted avg     0.8192    0.6698    0.6505       648\n",
      "\n",
      "[[ 67   0   0]\n",
      " [ 90 151 124]\n",
      " [  0   0 216]]\n"
     ]
    }
   ],
   "source": [
    "compare_individual_to_majority(willy_sub_df, \"willy_label\", majority_field=\"etsy_round_label\")"
   ]
  },
  {
   "cell_type": "code",
   "execution_count": 36,
   "id": "3a3dc335-977c-4a06-9ea0-98801f035479",
   "metadata": {},
   "outputs": [
    {
     "name": "stdout",
     "output_type": "stream",
     "text": [
      "f1=0.6521984539778134\n",
      "irrel_fpr=0.0\n",
      "rel_fpr=0.2974828375286041\n",
      "              precision    recall  f1-score   support\n",
      "\n",
      "not_relevant     0.4359    1.0000    0.6071        68\n",
      "     partial     1.0000    0.4092    0.5808       369\n",
      "    relevant     0.6243    1.0000    0.7687       216\n",
      "\n",
      "    accuracy                         0.6662       653\n",
      "   macro avg     0.6867    0.8031    0.6522       653\n",
      "weighted avg     0.8170    0.6662    0.6457       653\n",
      "\n",
      "[[ 68   0   0]\n",
      " [ 88 151 130]\n",
      " [  0   0 216]]\n"
     ]
    }
   ],
   "source": [
    "compare_individual_to_majority(congzhe_sub_df, \"congzhe_label\", majority_field=\"etsy_round_label\")"
   ]
  },
  {
   "cell_type": "code",
   "execution_count": 38,
   "id": "37aa8a57-42f7-4135-a04b-7a37530398ba",
   "metadata": {},
   "outputs": [
    {
     "name": "stdout",
     "output_type": "stream",
     "text": [
      "f1=0.7722554880773852\n",
      "irrel_fpr=0.0\n",
      "rel_fpr=0.1036036036036036\n",
      "              precision    recall  f1-score   support\n",
      "\n",
      "not_relevant     0.4459    1.0000    0.6168        66\n",
      "     partial     1.0000    0.6614    0.7962       378\n",
      "    relevant     0.8244    1.0000    0.9038       216\n",
      "\n",
      "    accuracy                         0.8061       660\n",
      "   macro avg     0.7568    0.8871    0.7723       660\n",
      "weighted avg     0.8871    0.8061    0.8135       660\n",
      "\n",
      "[[ 66   0   0]\n",
      " [ 82 250  46]\n",
      " [  0   0 216]]\n"
     ]
    }
   ],
   "source": [
    "compare_individual_to_majority(emy_sub_df, \"emy_label\", majority_field=\"etsy_round_label\")"
   ]
  },
  {
   "cell_type": "code",
   "execution_count": 39,
   "id": "85481755-9fd3-4677-be25-20fa517979f6",
   "metadata": {},
   "outputs": [
    {
     "name": "stdout",
     "output_type": "stream",
     "text": [
      "f1=0.5922826778810552\n",
      "irrel_fpr=0.18584070796460178\n",
      "rel_fpr=0.18442622950819673\n",
      "              precision    recall  f1-score   support\n",
      "\n",
      "not_relevant     0.2997    0.8142    0.4381       113\n",
      "     partial     0.8202    0.4863    0.6105       619\n",
      "    relevant     0.6778    0.7867    0.7282       361\n",
      "\n",
      "    accuracy                         0.6194      1093\n",
      "   macro avg     0.5992    0.6957    0.5923      1093\n",
      "weighted avg     0.7193    0.6194    0.6316      1093\n",
      "\n",
      "[[ 92  12   9]\n",
      " [192 301 126]\n",
      " [ 23  54 284]]\n"
     ]
    }
   ],
   "source": [
    "compare_individual_to_majority(merged_df, \"label_annotator_1\", majority_field=\"etsy_round_label\")"
   ]
  },
  {
   "cell_type": "code",
   "execution_count": 40,
   "id": "b15d9806-69c9-413f-8707-e469237f0385",
   "metadata": {},
   "outputs": [
    {
     "name": "stdout",
     "output_type": "stream",
     "text": [
      "f1=0.6044612663301915\n",
      "irrel_fpr=0.11403508771929824\n",
      "rel_fpr=0.16371077762619374\n",
      "              precision    recall  f1-score   support\n",
      "\n",
      "not_relevant     0.3079    0.8860    0.4570       114\n",
      "     partial     0.8310    0.4847    0.6122       619\n",
      "    relevant     0.7037    0.7895    0.7441       361\n",
      "\n",
      "    accuracy                         0.6271      1094\n",
      "   macro avg     0.6142    0.7200    0.6045      1094\n",
      "weighted avg     0.7345    0.6271    0.6396      1094\n",
      "\n",
      "[[101   9   4]\n",
      " [203 300 116]\n",
      " [ 24  52 285]]\n"
     ]
    }
   ],
   "source": [
    "compare_individual_to_majority(merged_df, \"label_annotator_2\", majority_field=\"etsy_round_label\")"
   ]
  },
  {
   "cell_type": "code",
   "execution_count": 41,
   "id": "d088871a-7dc8-49c3-a983-09a2fc816d3b",
   "metadata": {},
   "outputs": [
    {
     "name": "stdout",
     "output_type": "stream",
     "text": [
      "f1=0.5943064564327023\n",
      "irrel_fpr=0.1504424778761062\n",
      "rel_fpr=0.17486338797814208\n",
      "              precision    recall  f1-score   support\n",
      "\n",
      "not_relevant     0.3009    0.8496    0.4444       113\n",
      "     partial     0.8172    0.4766    0.6020       619\n",
      "    relevant     0.6901    0.7895    0.7364       361\n",
      "\n",
      "    accuracy                         0.6185      1093\n",
      "   macro avg     0.6027    0.7052    0.5943      1093\n",
      "weighted avg     0.7218    0.6185    0.6301      1093\n",
      "\n",
      "[[ 96  13   4]\n",
      " [200 295 124]\n",
      " [ 23  53 285]]\n"
     ]
    }
   ],
   "source": [
    "compare_individual_to_majority(merged_df, \"label_annotator_3\", majority_field=\"etsy_round_label\")"
   ]
  },
  {
   "cell_type": "code",
   "execution_count": null,
   "id": "652cbe03-ac26-49a4-94d0-0c3cc40def26",
   "metadata": {},
   "outputs": [],
   "source": []
  },
  {
   "cell_type": "code",
   "execution_count": null,
   "id": "1f4f9fc6-c46a-4a2f-9aa7-f4224b2d431f",
   "metadata": {},
   "outputs": [],
   "source": []
  },
  {
   "cell_type": "markdown",
   "id": "65ca2022-0a65-436e-8590-c3daff913835",
   "metadata": {},
   "source": [
    "### Write out data with aggregated labels"
   ]
  },
  {
   "cell_type": "code",
   "execution_count": 40,
   "id": "44b1e6f1-bd26-4ef7-848c-2cb02089fa06",
   "metadata": {},
   "outputs": [],
   "source": [
    "merged_df.drop(columns=[\n",
    "    \"etsy_url\", \"atlas_url\", \"is_test\", \"yuqing_label\", \"yuqing_notes\",\n",
    "    \"argie_label\", \"argie_notes\", \"willy_label\", \"willy_notes\", \n",
    "    \"congzhe_label\", \"congzhe_notes\", \"emy_label\", \"emy_notes\"\n",
    "], inplace=True)"
   ]
  },
  {
   "cell_type": "code",
   "execution_count": 41,
   "id": "74af3910-69ee-4c98-8bb4-31b32b87a53c",
   "metadata": {},
   "outputs": [],
   "source": [
    "merged_df.to_excel(\"./data/gsl_eval_v0_internal_label_bert_preds.xlsx\", index=False)"
   ]
  },
  {
   "cell_type": "code",
   "execution_count": null,
   "id": "69021776-2c3c-4387-bac9-db6997f0f854",
   "metadata": {},
   "outputs": [],
   "source": []
  },
  {
   "cell_type": "code",
   "execution_count": null,
   "id": "515ec090-9933-41d2-8a8b-f0e6a99517f7",
   "metadata": {},
   "outputs": [],
   "source": []
  }
 ],
 "metadata": {
  "kernelspec": {
   "display_name": "Python 3 (ipykernel)",
   "language": "python",
   "name": "python3"
  },
  "language_info": {
   "codemirror_mode": {
    "name": "ipython",
    "version": 3
   },
   "file_extension": ".py",
   "mimetype": "text/x-python",
   "name": "python",
   "nbconvert_exporter": "python",
   "pygments_lexer": "ipython3",
   "version": "3.10.1"
  }
 },
 "nbformat": 4,
 "nbformat_minor": 5
}
