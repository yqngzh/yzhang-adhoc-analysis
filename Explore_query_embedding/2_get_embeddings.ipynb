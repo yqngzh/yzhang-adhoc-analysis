{
 "cells": [
  {
   "cell_type": "code",
   "execution_count": 1,
   "id": "1d6822a3",
   "metadata": {},
   "outputs": [],
   "source": [
    "import pickle\n",
    "from utils import run_query_df"
   ]
  },
  {
   "cell_type": "code",
   "execution_count": 2,
   "id": "9e756b2f",
   "metadata": {},
   "outputs": [],
   "source": [
    "file = open(\"./data/sample_data.pkl\", 'rb')\n",
    "data_dic = pickle.load(file)\n",
    "file.close()"
   ]
  },
  {
   "cell_type": "code",
   "execution_count": 3,
   "id": "0e496bf0",
   "metadata": {},
   "outputs": [
    {
     "name": "stdout",
     "output_type": "stream",
     "text": [
      "830\n"
     ]
    }
   ],
   "source": [
    "all_listings = set()\n",
    "for v in data_dic.values():\n",
    "    all_listings = all_listings.union(set(v[\"purchased_listings\"]))\n",
    "all_listings = list(all_listings)\n",
    "print(len(all_listings))"
   ]
  },
  {
   "cell_type": "markdown",
   "id": "f192fcea",
   "metadata": {},
   "source": [
    "# VSV2"
   ]
  },
  {
   "cell_type": "code",
   "execution_count": 5,
   "id": "5857f519",
   "metadata": {},
   "outputs": [],
   "source": [
    "vsv2_query_str = f\"\"\"\n",
    "select * \n",
    "from `etsy-data-warehouse-dev.computer_vision.vsv2_512_embeddings`\n",
    "where listing_id in ({','.join([str(x) for x in all_listings])})\n",
    "\"\"\"\n",
    "\n",
    "vsv2_df = run_query_df(vsv2_query_str, project_id=\"etsy-bigquery-adhoc-prod\")"
   ]
  },
  {
   "cell_type": "code",
   "execution_count": null,
   "id": "4f2de8c3",
   "metadata": {},
   "outputs": [],
   "source": []
  },
  {
   "cell_type": "markdown",
   "id": "1d07b28b",
   "metadata": {},
   "source": [
    "# CLIP Image only"
   ]
  },
  {
   "cell_type": "code",
   "execution_count": null,
   "id": "42fc8da2",
   "metadata": {},
   "outputs": [],
   "source": []
  },
  {
   "cell_type": "markdown",
   "id": "bba6a4a9",
   "metadata": {},
   "source": [
    "# NIR"
   ]
  },
  {
   "cell_type": "code",
   "execution_count": null,
   "id": "265ba6c5",
   "metadata": {},
   "outputs": [],
   "source": []
  },
  {
   "cell_type": "markdown",
   "id": "18605158",
   "metadata": {},
   "source": [
    "# CLIP Joint"
   ]
  },
  {
   "cell_type": "code",
   "execution_count": null,
   "id": "c803b920",
   "metadata": {},
   "outputs": [],
   "source": []
  }
 ],
 "metadata": {
  "kernelspec": {
   "display_name": "venv",
   "language": "python",
   "name": "venv"
  },
  "language_info": {
   "codemirror_mode": {
    "name": "ipython",
    "version": 3
   },
   "file_extension": ".py",
   "mimetype": "text/x-python",
   "name": "python",
   "nbconvert_exporter": "python",
   "pygments_lexer": "ipython3",
   "version": "3.8.9"
  }
 },
 "nbformat": 4,
 "nbformat_minor": 5
}
