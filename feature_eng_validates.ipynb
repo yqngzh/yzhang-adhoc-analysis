{
 "cells": [
  {
   "cell_type": "code",
   "execution_count": 18,
   "id": "e0779006",
   "metadata": {},
   "outputs": [],
   "source": [
    "import tensorflow as tf\n",
    "import tensorflow_transform as tft\n",
    "import json\n",
    "import pandas as pd\n",
    "import numpy as np\n",
    "from utils.third_pass_utils import *"
   ]
  },
  {
   "cell_type": "code",
   "execution_count": 17,
   "id": "4ee22909",
   "metadata": {},
   "outputs": [],
   "source": [
    "# data paths\n",
    "end_date = \"2023-10-18\"\n",
    "data_filename_suffix = \"part-00000-of-00881\"\n",
    "data_filename = f\"gs://etldata-prod-search-ranking-data-hkwv8r/feature_logging_training_data_purchase_with_predicted_score/query_pipeline_web_organic/{end_date}/results/{data_filename_suffix}\"\n",
    "\n",
    "# model & tft paths\n",
    "model_root = \"gs://training-dev-search-data-jtzn/neural_ranking/third_pass/third-pass-perso-add-noscore-web-18/model_root\"\n",
    "tft_output_path = f\"{model_root}/preprocess_fit/{end_date}\"\n",
    "\n",
    "# generated data paths\n",
    "examples_output_dir = \"gs://training-dev-search-data-jtzn/neural_ranking/third_pass/temp/1698974462187/908724743918/third-pass-perso-add-noscore-web-18-development-1698974462187/beam-generate_-4350830870467182592/examples_output_dir\"\n",
    "gen_example_suffix = \"train/part-08694-of-08695.tfrecord\"\n",
    "example_data_tfr_filename = f\"{examples_output_dir}/{gen_example_suffix}\""
   ]
  },
  {
   "cell_type": "code",
   "execution_count": null,
   "id": "2200a9b1",
   "metadata": {},
   "outputs": [],
   "source": []
  },
  {
   "cell_type": "code",
   "execution_count": 3,
   "id": "03ea2a5f",
   "metadata": {},
   "outputs": [],
   "source": [
    "# load only one line\n",
    "with tf.io.gfile.GFile(data_filename) as f:\n",
    "    for line in f:\n",
    "        grouped_docs = json.loads(line)\n",
    "        break"
   ]
  },
  {
   "cell_type": "code",
   "execution_count": 4,
   "id": "f11dc723",
   "metadata": {},
   "outputs": [
    {
     "name": "stdout",
     "output_type": "stream",
     "text": [
      "INFO:tensorflow:struct2tensor is not available.\n"
     ]
    },
    {
     "name": "stderr",
     "output_type": "stream",
     "text": [
      "INFO:tensorflow:struct2tensor is not available.\n"
     ]
    },
    {
     "name": "stdout",
     "output_type": "stream",
     "text": [
      "INFO:tensorflow:tensorflow_decision_forests is not available.\n"
     ]
    },
    {
     "name": "stderr",
     "output_type": "stream",
     "text": [
      "INFO:tensorflow:tensorflow_decision_forests is not available.\n"
     ]
    },
    {
     "name": "stdout",
     "output_type": "stream",
     "text": [
      "INFO:tensorflow:tensorflow_text is not available.\n"
     ]
    },
    {
     "name": "stderr",
     "output_type": "stream",
     "text": [
      "INFO:tensorflow:tensorflow_text is not available.\n"
     ]
    }
   ],
   "source": [
    "tft_output = tft.TFTransformOutput(tft_output_path)\n",
    "tft_layer = tft_output.transform_features_layer()\n",
    "raw_feature_spec = tft_output.raw_feature_spec()\n",
    "transformed_feature_spec = tft_output.transformed_feature_spec()"
   ]
  },
  {
   "cell_type": "code",
   "execution_count": 5,
   "id": "b80bcf79",
   "metadata": {},
   "outputs": [],
   "source": [
    "transformed_data = process(grouped_docs, raw_feature_spec, tft_layer)"
   ]
  },
  {
   "cell_type": "code",
   "execution_count": 7,
   "id": "7e867894",
   "metadata": {},
   "outputs": [
    {
     "data": {
      "text/plain": [
       "126"
      ]
     },
     "execution_count": 7,
     "metadata": {},
     "output_type": "execute_result"
    }
   ],
   "source": [
    "len(transformed_data[0].keys())"
   ]
  },
  {
   "cell_type": "code",
   "execution_count": 11,
   "id": "1d2d7d71",
   "metadata": {
    "scrolled": false
   },
   "outputs": [
    {
     "data": {
      "text/plain": [
       "dict_keys(['candidateInfo.contextualInfo[name=user].shopId_recentlyViewedShopIds50FV1#shopId:overlap', 'candidateInfo.docInfo.listingInfo.listingSearchVisit14d.numCarts_log1p_standardized', 'candidateInfo.contextualInfo[name=user].shopId_recentlyViewedListingShopIds50FV1#shopId:overlap', 'candidateInfo.docInfo.listingInfo.activeListingBasics.totalOrders_log1p_standardized', 'contextualInfo[name=browser].candidateInfo.recentlyCartaddedListingIds50FV1#listingId_listingIdCartsVPCG#keys:overlap_log1p_standardized', 'sample_weight', 'candidateInfo.contextualInfo[name=user].listingId_recentlyCartaddedListingIds50FV1#listingId:overlap', 'contextualInfo[name=user].candidateInfo.recentlyPurchasedListingIds50FV1#listingId_listingIdCartsVPCG#keys:overlap_log1p_standardized', 'candidateInfo.candidateInfo.favoriteCountPT24hFV1_purchaseCountPT168hFV1:ratio_log1p_standardized', 'candidateInfo.candidateInfo.usShipCost_priceUsd:ratio_nan_log1p_standardized', 'contextualInfo[name=user].candidateInfo.recentlyViewedListingIds50FV1#listingId_listingIdCartsVPCG#keys:overlap_log1p_standardized', 'candidateInfo.contextualInfo[name=browser].shopName_neural_ir_embedding_recentlySearchedQueries50FV1#searchQuery_lastk_neural_ir_embedding:cosine', 'contextualInfo[name=user].rivuletUserInfo.timeseries.recentlySearchedQueries50FV1#searchQuery:size_log1p_standardized', 'candidateInfo.contextualInfo[name=target].avgClickUsdPriceDiff_avgClickPrice:ratio_log1p_standardized', 'candidateInfo.contextualInfo[name=target].priceUsd_avgClickPrice:diff_nan_log1p_standardized', 'candidateInfo.docInfo.listingInfo.activeListingBasics.imageCount_standardized', 'candidateInfo.docInfo.rivuletListingInfo.counts.purchaseCountPT168hFV1_log1p_standardized', 'candidateInfo.contextualInfo[name=target].avgPurchaseUsdPriceDiff_avgClickPrice:ratio_log1p_standardized', 'candidateInfo.candidateInfo.smoothCartAdd_smoothPurchase:ratio_nan_log1p_standardized', 'candidateInfo.candidateInfo.avgPropensity_numClicks:prod_nan_log1p_standardized', 'candidateInfo.docInfo.shopInfo.verticaSellerBasics.pastYearQuantitySold_log1p_standardized', 'candidateInfo.docInfo.listingInfo.imageQualityScore.imageQualityScore_standardized', 'candidateInfo.contextualInfo[name=browser].clickTopQuery_recentlySearchedQueries50FV1#searchQuery_lastk:overlap:binary', 'requestUUID', 'contextualInfo[name=user].candidateInfo.recentlyCartaddedListingIds50FV1#listingId_listingIdCartsVPCG#keys:overlap_log1p_standardized', 'candidateInfo.contextualInfo[name=user].listing_neural_ir_embedding_recentlySearchedQueries50FV1#searchQuery_lastk_neural_ir_embedding:cosine', 'candidateInfo.docInfo.listingInfo.activeListingBasics.pastDayQuantitySold_log1p_standardized', 'candidateInfo.docInfo.listingInfo.activeListingBasics.priceUsd_truncated_standardized', 'candidateInfo.docInfo.listingInfo.activeListingLocation.originPostalCode_log1p_standardized', 'candidateInfo.docInfo.listingInfo.activeListingShippingCosts.usShipCost_truncated_standardized', 'candidateInfo.docInfo.listingInfo.activeListingShippingCosts.shipsToUs', 'candidateInfo.contextualInfo[name=user].listingId_recentlyFavoritedListingIds50FV1#listingId:overlap', 'contextualInfo[name=user].candidateInfo.recentlyViewedListingIds50FV1#listingId_listingIdCartsVPCG#keys:overlap:binary', 'candidateInfo.docInfo.listingInfo.activeListingBasics.totalGms_log1p_standardized', 'candidateInfo.docInfo.listingInfo.dwellTime.pastWeekTotalDwellMs_log1p_standardized', 'candidateInfo.contextualInfo[name=user].clickTopQuery_neural_ir_embedding_recentlySearchedQueries50FV1#searchQuery_lastk_neural_ir_embedding:cosine', 'candidateInfo.contextualInfo[name=user].shopName_neural_ir_embedding_recentlySearchedQueries50FV1#searchQuery_lastk_neural_ir_embedding:cosine', 'contextualInfo[name=user].candidateInfo.recentlyPurchasedListingIds50FV1#listingId_listingIdCartsVPCG#keys:overlap:binary', 'candidateInfo.contextualInfo[name=browser].clickTopQuery_recentlySearchedQueries50FV1#searchQuery_lastk:overlap_log1p_standardized', 'candidateInfo.candidateInfo.avgPropensity_numImpressions:prod_nan_log1p_standardized', 'candidateInfo.docInfo.listingInfo.activeListingBasics.quantity_truncated_standardized', 'candidateInfo.candidateInfo.cartAddCountPT24hFV1_favoriteCountPT24hFV1:ratio_log1p_standardized', 'candidateInfo.contextualInfo[name=user].listingId_recentlyPurchasedListingIds50FV1#listingId:overlap', 'candidateInfo.docInfo.listingInfo.listingSearchVisit14d.avgPosition_standardized', 'candidateInfo.docInfo.listingInfo.listingSearchVisit14d.smoothCtr_standardized', 'contextualInfo[name=target].candidateInfo.avgOrderValue_priceScaled:ratio_log1p_standardized', 'candidateInfo.contextualInfo[name=target].shopName_neural_ir_embedding_query_neural_ir_embedding:cosine', 'candidateInfo.contextualInfo[name=user].taxonomyId_recentlyCartaddedTaxoIds50FV1#taxoId:overlap', 'candidateInfo.contextualInfo[name=browser].listingId_recentlyCartaddedListingIds50FV1#listingId:overlap', 'candidateInfo.docInfo.listingInfo.activeListingBasics.totalQuantitySold_log1p_standardized', 'candidateInfo.contextualInfo[name=browser].listingId_recentlyViewedListingIds50FV1#listingId:overlap', 'candidateInfo.candidateInfo.viewCountPT24hFV1_purchaseCountPT168hFV1:ratio_log1p_standardized', 'candidateInfo.docInfo.listingInfo.activeListingBasics.daysSinceOriginalCreate_truncated_standardized', 'candidateInfo.candidateInfo.cartAddCountPT24hFV1_viewCountPT24hFV1:ratio_log1p_standardized', 'candidateInfo.docInfo.rivuletListingInfo.counts.favoriteCountPT24hFV1_log1p_standardized', 'candidateInfo.contextualInfo[name=user].taxonomyId_recentlyFavoritedTaxoIds50FV1#taxoId:overlap', 'candidateInfo.docInfo.listingInfo.activeListingBasics.daysSinceCreate_truncated_standardized', 'candidateInfo.contextualInfo[name=user].clickTopQuery_recentlySearchedQueries50FV1#searchQuery_lastk:overlap:binary', 'candidateInfo.candidateInfo.domesticShipCost_priceUsd:ratio_nan_log1p_standardized', 'candidateInfo.docInfo.listingInfo.activeListingShippingCosts.shipsFreeDomestic', 'candidateInfo.contextualInfo[name=user].listingId_recentlyViewedListingIds50FV1#listingId:overlap', 'candidateInfo.candidateInfo.smoothCartAdd_smoothCtr:ratio_nan_log1p_standardized', 'candidateInfo.docInfo.listingInfo.listingSearchVisit14d.numClicks_log1p_standardized', 'contextualInfo[name=user].userInfo.activeUserShipToLocations.zip_max_log1p_standardized', 'candidateInfo.docInfo.listingInfo.activeListingLocation.longitude', 'candidateInfo.docInfo.listingInfo.activeListingBasics.normalizedDailyQuantity_log1p_standardized', 'candidateInfo.docInfo.listingInfo.activeListingBasics.normalizedDailyGms_log1p_standardized', 'candidateInfo.candidateInfo.count_totalOrders:ratio_nan_log1p_standardized', 'contextualInfo[name=user].candidateInfo.euclidean_distance', 'candidateInfo.contextualInfo[name=target].priceUsd_avgPurchasePrice:diff_nan_log1p_standardized', 'contextualInfo[name=user].candidateInfo.countryId:is_identical', 'contextualInfo[name=user].candidateInfo.userId_recentlyPurchasedUserIds50FV1#userId:overlap', 'candidateInfo.docInfo.listingInfo.activeListingBasics.pastDayOrders_log1p_standardized', 'contextualInfo[name=user].candidateInfo.recentlyFavoritedListingIds50FV1#listingId_listingIdCartsVPCG#keys:overlap:binary', 'candidateInfo.contextualInfo[name=user].clickTopQuery_recentlySearchedQueries50FV1#searchQuery_lastk:overlap_log1p_standardized', 'contextualInfo[name=target].docInfo.queryInfo.queryLevelMetrics.totalPurchases_log1p_standardized', 'candidateInfo.docInfo.listingInfo.activeListingBasics.pastDayGms_log1p_standardized', 'candidateInfo.docInfo.listingInfo.activeListingBasics.totalViewCount_log1p_standardized', 'contextualInfo[name=user].candidateInfo.userId_recentlyCartaddedUserIds50FV1#userId:overlap', 'candidateInfo.docInfo.listingInfo.activeListingShippingCosts.shipsFreeToUs', 'candidateInfo.candidateInfo.totalOrders_shopViews:ratio_nan_log1p_standardized', 'candidateInfo.candidateInfo.smoothPurchase_smoothCartAdd:ratio_nan_log1p_standardized', 'candidateInfo.contextualInfo[name=browser].clickTopQuery_neural_ir_embedding_recentlySearchedQueries50FV1#searchQuery_lastk_neural_ir_embedding:cosine', 'candidateInfo.contextualInfo[name=target].clickTopQuery_neural_ir_embedding_query_neural_ir_embedding:cosine', 'candidateInfo.contextualInfo[name=user].originPostalCode_zip_max:abs_diff_log1p_standardized', 'candidateInfo.candidateInfo.shopViews_shopImpressions:ratio_nan_log1p_standardized', 'candidateInfo.docInfo.listingInfo.activeListingBasics.gmsPercentile_standardized', 'candidateInfo.docInfo.listingInfo.activeListingBasics.materialCount_standardized', 'candidateInfo.candidateInfo.favoriteCountPT24hFV1_viewCountPT24hFV1:ratio_log1p_standardized', 'candidateInfo.candidateInfo.smoothCartAdd_smoothCartAdd:diff_nan_log1p_standardized', 'candidateInfo.docInfo.listingInfo.listingSearchVisit14d.numImpressions_log1p_standardized', 'candidateInfo.docInfo.listingInfo.activeListingShippingCosts.hasProcessingTime', 'contextualInfo[name=user].candidateInfo.userId_recentlyFavoritedUserIds50FV1#userId:overlap', 'candidateInfo.docInfo.listingInfo.activeListingShippingCosts.maxProcessingDays_truncated_standardized', 'attributions_score', 'candidateInfo.docInfo.listingInfo.listingSearchVisit14d.avgPropensity_standardized', 'contextualInfo[name=browser].candidateInfo.recentlyViewedListingIds50FV1#listingId_listingIdCartsVPCG#keys:overlap:binary', 'candidateInfo.docInfo.listingInfo.activeListingBasics.newListingFlag', 'candidateInfo.contextualInfo[name=user].shopId_recentlyPurchasedFromShopIds50FV1#shopId:overlap', 'candidateInfo.candidateInfo.smoothCart_smoothCart:diff_nan_log1p_standardized', 'contextualInfo[name=browser].rivuletBrowserInfo.timeseries.recentlySearchedQueries50FV1#searchQuery:size_log1p_standardized', 'candidateInfo.docInfo.rivuletListingInfo.counts.cartAddCountPT24hFV1_log1p_standardized', 'candidateInfo.contextualInfo[name=browser].listing_neural_ir_embedding_recentlySearchedQueries50FV1#searchQuery_lastk_neural_ir_embedding:cosine', 'contextualInfo[name=user].userInfo.activeUserShipToLocations.longitude', 'candidateInfo.docInfo.listingInfo.listingSearchVisit14d.smoothCart_standardized', 'candidateInfo.contextualInfo[name=target].priceUsd_avgPurchasePrice:ratio_nan_log1p_standardized', 'candidateInfo.docInfo.rivuletListingInfo.counts.viewCountPT24hFV1_log1p_standardized', 'candidateInfo.docInfo.listingInfo.activeListingBasics.totalFavoriteCount_log1p_standardized', 'candidateInfo.contextualInfo[name=target].listing_neural_ir_embedding_query_neural_ir_embedding:cosine', 'candidateInfo.contextualInfo[name=user].taxonomyId_recentlyViewedTaxoIds50FV1#taxoId:overlap', 'contextualInfo[name=user].candidateInfo.recentlyCartaddedListingIds50FV1#listingId_listingIdCartsVPCG#keys:overlap:binary', 'contextualInfo[name=user].candidateInfo.recentlyFavoritedListingIds50FV1#listingId_listingIdCartsVPCG#keys:overlap_log1p_standardized', 'contextualInfo[name=user].candidateInfo.avgOrderValue_priceUsd:ratio_nan_log1p_standardized', 'candidateInfo.docInfo.listingInfo.activeListingShippingCosts.minProcessingDays_truncated_standardized', 'candidateInfo.contextualInfo[name=target].priceUsd_avgClickPrice:ratio_nan_log1p_standardized', 'contextualInfo[name=browser].candidateInfo.recentlyCartaddedListingIds50FV1#listingId_listingIdCartsVPCG#keys:overlap:binary', 'contextualInfo[name=browser].candidateInfo.recentlyViewedListingIds50FV1#listingId_listingIdCartsVPCG#keys:overlap_log1p_standardized', 'candidateInfo.docInfo.listingInfo.activeListingLocation.latitude', 'candidateInfo.docInfo.shopInfo.shopAvgRatings.avgRating_log1p_standardized', 'candidateInfo.candidateInfo.cartAddCountPT24hFV1_purchaseCountPT168hFV1:ratio_log1p_standardized', 'candidateInfo.docInfo.listingInfo.activeListingBasics.maxPriceUsd_truncated_standardized', 'candidateInfo.contextualInfo[name=user].taxonomyId_recentlySearchedTaxoIds50FV1#taxoId:overlap', 'contextualInfo[name=user].userInfo.activeUserShipToLocations.latitude', 'candidateInfo.candidateInfo.avgPropensity_numCarts:prod_nan_log1p_standardized', 'contextualInfo[name=user].candidateInfo.userId_recentlyViewedUserIds50FV1#userId:overlap', 'candidateInfo.docInfo.listingInfo.activeListingBasics.priceUsd_log1p'])"
      ]
     },
     "execution_count": 11,
     "metadata": {},
     "output_type": "execute_result"
    }
   ],
   "source": [
    "transformed_data[0].keys()"
   ]
  },
  {
   "cell_type": "code",
   "execution_count": 9,
   "id": "fa7b7e1b",
   "metadata": {
    "scrolled": false
   },
   "outputs": [
    {
     "data": {
      "text/plain": [
       "<tf.Tensor: shape=(34,), dtype=float32, numpy=\n",
       "array([1.      , 1.      , 1.      , 1.      , 1.      , 1.      ,\n",
       "       1.      , 1.      , 1.      , 1.      , 1.      , 1.      ,\n",
       "       1.      , 1.      , 1.      , 1.      , 1.      , 1.      ,\n",
       "       1.      , 1.      , 1.      , 1.      , 1.      , 1.      ,\n",
       "       1.      , 1.      , 3.252265, 1.      , 1.      , 1.      ,\n",
       "       1.      , 1.      , 1.      , 1.      ], dtype=float32)>"
      ]
     },
     "execution_count": 9,
     "metadata": {},
     "output_type": "execute_result"
    }
   ],
   "source": [
    "transformed_data[0]['sample_weight']"
   ]
  },
  {
   "cell_type": "code",
   "execution_count": 12,
   "id": "6ce81e0a",
   "metadata": {},
   "outputs": [
    {
     "data": {
      "text/plain": [
       "<tf.Tensor: shape=(34,), dtype=float32, numpy=\n",
       "array([ 0.,  0.,  0.,  0.,  0.,  0.,  0.,  0.,  0.,  0.,  0.,  0.,  0.,\n",
       "        0.,  0.,  0.,  0.,  0.,  0.,  0.,  0.,  0.,  0.,  0.,  0.,  0.,\n",
       "       50.,  0.,  0.,  0.,  0.,  0.,  0.,  0.], dtype=float32)>"
      ]
     },
     "execution_count": 12,
     "metadata": {},
     "output_type": "execute_result"
    }
   ],
   "source": [
    "transformed_data[0]['attributions_score']"
   ]
  },
  {
   "cell_type": "code",
   "execution_count": 13,
   "id": "ea04e2f3",
   "metadata": {
    "scrolled": true
   },
   "outputs": [
    {
     "data": {
      "text/plain": [
       "126"
      ]
     },
     "execution_count": 13,
     "metadata": {},
     "output_type": "execute_result"
    }
   ],
   "source": [
    "len(transformed_feature_spec)"
   ]
  },
  {
   "cell_type": "code",
   "execution_count": null,
   "id": "8b9c3d8b",
   "metadata": {},
   "outputs": [],
   "source": []
  },
  {
   "cell_type": "code",
   "execution_count": 20,
   "id": "d39126a4",
   "metadata": {},
   "outputs": [],
   "source": [
    "example_data = tf.data.TFRecordDataset(example_data_tfr_filename)"
   ]
  },
  {
   "cell_type": "code",
   "execution_count": 22,
   "id": "5729ad6e",
   "metadata": {},
   "outputs": [
    {
     "data": {
      "text/plain": [
       "FixedLenFeature(shape=[], dtype=tf.float32, default_value=None)"
      ]
     },
     "execution_count": 22,
     "metadata": {},
     "output_type": "execute_result"
    }
   ],
   "source": [
    "transformed_feature_spec.pop(\"attributions_score\")"
   ]
  },
  {
   "cell_type": "code",
   "execution_count": 23,
   "id": "1dad0320",
   "metadata": {},
   "outputs": [
    {
     "name": "stderr",
     "output_type": "stream",
     "text": [
      "2023-11-06 10:03:36.973388: W tensorflow/core/framework/op_kernel.cc:1828] OP_REQUIRES failed at example_parsing_ops.cc:98 : INVALID_ARGUMENT: Feature: candidateInfo.candidateInfo.avgPropensity_numCarts:prod_nan_log1p_standardized (data type: float) is required but could not be found.\n"
     ]
    },
    {
     "ename": "InvalidArgumentError",
     "evalue": "{{function_node __wrapped__ParseExampleV2_Tdense_125_num_sparse_0_ragged_split_types_0_ragged_value_types_0_sparse_types_0_device_/job:localhost/replica:0/task:0/device:CPU:0}} Feature: candidateInfo.candidateInfo.avgPropensity_numCarts:prod_nan_log1p_standardized (data type: float) is required but could not be found. [Op:ParseExampleV2]",
     "output_type": "error",
     "traceback": [
      "\u001b[0;31m---------------------------------------------------------------------------\u001b[0m",
      "\u001b[0;31mInvalidArgumentError\u001b[0m                      Traceback (most recent call last)",
      "Cell \u001b[0;32mIn[23], line 3\u001b[0m\n\u001b[1;32m      1\u001b[0m df_list \u001b[38;5;241m=\u001b[39m []\n\u001b[1;32m      2\u001b[0m \u001b[38;5;28;01mfor\u001b[39;00m record \u001b[38;5;129;01min\u001b[39;00m example_data:\n\u001b[0;32m----> 3\u001b[0m     result \u001b[38;5;241m=\u001b[39m \u001b[43mtf\u001b[49m\u001b[38;5;241;43m.\u001b[39;49m\u001b[43mio\u001b[49m\u001b[38;5;241;43m.\u001b[39;49m\u001b[43mparse_single_example\u001b[49m\u001b[43m(\u001b[49m\u001b[43mrecord\u001b[49m\u001b[43m,\u001b[49m\u001b[43m \u001b[49m\u001b[43mtransformed_feature_spec\u001b[49m\u001b[43m)\u001b[49m\n\u001b[1;32m      4\u001b[0m     curr_res \u001b[38;5;241m=\u001b[39m {\n\u001b[1;32m      5\u001b[0m         \u001b[38;5;124m\"\u001b[39m\u001b[38;5;124msample_weight\u001b[39m\u001b[38;5;124m\"\u001b[39m: result[\u001b[38;5;124m'\u001b[39m\u001b[38;5;124msample_weight\u001b[39m\u001b[38;5;124m'\u001b[39m]\u001b[38;5;241m.\u001b[39mnumpy(),\n\u001b[1;32m      6\u001b[0m \u001b[38;5;66;03m#         \"attributions_score\": result['attributions_score'].numpy(),\u001b[39;00m\n\u001b[1;32m      7\u001b[0m     }\n\u001b[1;32m      8\u001b[0m     df_list\u001b[38;5;241m.\u001b[39mappend(curr_res)\n",
      "File \u001b[0;32m~/development/yzhang-adhoc-analysis/venv/lib/python3.8/site-packages/tensorflow/python/util/traceback_utils.py:153\u001b[0m, in \u001b[0;36mfilter_traceback.<locals>.error_handler\u001b[0;34m(*args, **kwargs)\u001b[0m\n\u001b[1;32m    151\u001b[0m \u001b[38;5;28;01mexcept\u001b[39;00m \u001b[38;5;167;01mException\u001b[39;00m \u001b[38;5;28;01mas\u001b[39;00m e:\n\u001b[1;32m    152\u001b[0m   filtered_tb \u001b[38;5;241m=\u001b[39m _process_traceback_frames(e\u001b[38;5;241m.\u001b[39m__traceback__)\n\u001b[0;32m--> 153\u001b[0m   \u001b[38;5;28;01mraise\u001b[39;00m e\u001b[38;5;241m.\u001b[39mwith_traceback(filtered_tb) \u001b[38;5;28;01mfrom\u001b[39;00m \u001b[38;5;28;01mNone\u001b[39;00m\n\u001b[1;32m    154\u001b[0m \u001b[38;5;28;01mfinally\u001b[39;00m:\n\u001b[1;32m    155\u001b[0m   \u001b[38;5;28;01mdel\u001b[39;00m filtered_tb\n",
      "File \u001b[0;32m~/development/yzhang-adhoc-analysis/venv/lib/python3.8/site-packages/tensorflow/python/eager/execute.py:53\u001b[0m, in \u001b[0;36mquick_execute\u001b[0;34m(op_name, num_outputs, inputs, attrs, ctx, name)\u001b[0m\n\u001b[1;32m     51\u001b[0m \u001b[38;5;28;01mtry\u001b[39;00m:\n\u001b[1;32m     52\u001b[0m   ctx\u001b[38;5;241m.\u001b[39mensure_initialized()\n\u001b[0;32m---> 53\u001b[0m   tensors \u001b[38;5;241m=\u001b[39m pywrap_tfe\u001b[38;5;241m.\u001b[39mTFE_Py_Execute(ctx\u001b[38;5;241m.\u001b[39m_handle, device_name, op_name,\n\u001b[1;32m     54\u001b[0m                                       inputs, attrs, num_outputs)\n\u001b[1;32m     55\u001b[0m \u001b[38;5;28;01mexcept\u001b[39;00m core\u001b[38;5;241m.\u001b[39m_NotOkStatusException \u001b[38;5;28;01mas\u001b[39;00m e:\n\u001b[1;32m     56\u001b[0m   \u001b[38;5;28;01mif\u001b[39;00m name \u001b[38;5;129;01mis\u001b[39;00m \u001b[38;5;129;01mnot\u001b[39;00m \u001b[38;5;28;01mNone\u001b[39;00m:\n",
      "\u001b[0;31mInvalidArgumentError\u001b[0m: {{function_node __wrapped__ParseExampleV2_Tdense_125_num_sparse_0_ragged_split_types_0_ragged_value_types_0_sparse_types_0_device_/job:localhost/replica:0/task:0/device:CPU:0}} Feature: candidateInfo.candidateInfo.avgPropensity_numCarts:prod_nan_log1p_standardized (data type: float) is required but could not be found. [Op:ParseExampleV2]"
     ]
    }
   ],
   "source": [
    "df_list = []\n",
    "for record in example_data:\n",
    "    result = tf.io.parse_single_example(record, transformed_feature_spec)\n",
    "    curr_res = {\n",
    "        \"sample_weight\": result['sample_weight'].numpy(),\n",
    "#         \"attributions_score\": result['attributions_score'].numpy(),\n",
    "    }\n",
    "    df_list.append(curr_res)"
   ]
  },
  {
   "cell_type": "code",
   "execution_count": null,
   "id": "bf9f3329",
   "metadata": {},
   "outputs": [],
   "source": [
    "# df_tfrecord = pd.json_normalize(df_list)"
   ]
  }
 ],
 "metadata": {
  "kernelspec": {
   "display_name": "venv",
   "language": "python",
   "name": "venv"
  },
  "language_info": {
   "codemirror_mode": {
    "name": "ipython",
    "version": 3
   },
   "file_extension": ".py",
   "mimetype": "text/x-python",
   "name": "python",
   "nbconvert_exporter": "python",
   "pygments_lexer": "ipython3",
   "version": "3.8.9"
  }
 },
 "nbformat": 4,
 "nbformat_minor": 5
}
