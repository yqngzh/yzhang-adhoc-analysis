{
 "cells": [
  {
   "cell_type": "code",
   "execution_count": 1,
   "id": "80bbcaae",
   "metadata": {},
   "outputs": [
    {
     "name": "stdout",
     "output_type": "stream",
     "text": [
      "WARNING:  Python 3.5-3.7 will be deprecated on August 8th, 2023. Please use Python version 3.8 and up.\n",
      "\n",
      "If you have a compatible Python interpreter installed, you can use it by setting\n",
      "the CLOUDSDK_PYTHON environment variable to point to it.\n",
      "\n",
      "Updated property [core/project].\n"
     ]
    }
   ],
   "source": [
    "!gcloud config set project etsy-bigquery-adhoc-prod"
   ]
  },
  {
   "cell_type": "code",
   "execution_count": 2,
   "id": "d17c82fe",
   "metadata": {
    "scrolled": true
   },
   "outputs": [],
   "source": [
    "%load_ext google.cloud.bigquery"
   ]
  },
  {
   "cell_type": "code",
   "execution_count": 58,
   "id": "f3c12e9c",
   "metadata": {},
   "outputs": [
    {
     "name": "stderr",
     "output_type": "stream",
     "text": [
      "/Users/yzhang/development/yzhang-adhoc-analysis/venv/lib/python3.8/site-packages/google/auth/_default.py:78: UserWarning: Your application has authenticated using end user credentials from Google Cloud SDK without a quota project. You might receive a \"quota exceeded\" or \"API not enabled\" error. See the following page for troubleshooting: https://cloud.google.com/docs/authentication/adc-troubleshooting/user-creds. \n",
      "  warnings.warn(_CLOUD_SDK_CREDENTIALS_WARNING)\n",
      "/Users/yzhang/development/yzhang-adhoc-analysis/venv/lib/python3.8/site-packages/google/auth/_default.py:78: UserWarning: Your application has authenticated using end user credentials from Google Cloud SDK without a quota project. You might receive a \"quota exceeded\" or \"API not enabled\" error. See the following page for troubleshooting: https://cloud.google.com/docs/authentication/adc-troubleshooting/user-creds. \n",
      "  warnings.warn(_CLOUD_SDK_CREDENTIALS_WARNING)\n"
     ]
    }
   ],
   "source": [
    "from google.cloud import bigquery\n",
    "import numpy as np\n",
    "import pandas as pd\n",
    "import matplotlib.pyplot as plt\n",
    "from tqdm import tqdm\n",
    "import pickle\n",
    "\n",
    "client = bigquery.Client()"
   ]
  },
  {
   "cell_type": "markdown",
   "id": "da58691a",
   "metadata": {},
   "source": [
    "# Get top purchased listings for each query, aggregating 1 month data"
   ]
  },
  {
   "cell_type": "code",
   "execution_count": 4,
   "id": "962f5098",
   "metadata": {},
   "outputs": [
    {
     "data": {
      "application/vnd.jupyter.widget-view+json": {
       "model_id": "37c5466e9f5a4db5b68eb248ca72f378",
       "version_major": 2,
       "version_minor": 0
      },
      "text/plain": [
       "Query is running:   0%|          |"
      ]
     },
     "metadata": {},
     "output_type": "display_data"
    },
    {
     "data": {
      "application/vnd.jupyter.widget-view+json": {
       "model_id": "c4542b6aacfe41649f01d2557d270579",
       "version_major": 2,
       "version_minor": 0
      },
      "text/plain": [
       "Downloading:   0%|          |"
      ]
     },
     "metadata": {},
     "output_type": "display_data"
    }
   ],
   "source": [
    "%%bigquery query_df\n",
    "with query_with_purchased_listing as (\n",
    "    select distinct query, listing_id, purchases\n",
    "    from `etsy-data-warehouse-prod.search.visit_level_listing_impressions`\n",
    "    where _date between date('2023-05-01') and date('2023-05-31')\n",
    "    and page in ('search', 'market')\n",
    "    and purchases > 0\n",
    ")\n",
    "select query, listing_id, sum(purchases) as purchases\n",
    "from query_with_purchased_listing\n",
    "group by query, listing_id\n",
    "order by query, purchases desc"
   ]
  },
  {
   "cell_type": "code",
   "execution_count": 5,
   "id": "7314012f",
   "metadata": {},
   "outputs": [
    {
     "data": {
      "text/html": [
       "<div>\n",
       "<style scoped>\n",
       "    .dataframe tbody tr th:only-of-type {\n",
       "        vertical-align: middle;\n",
       "    }\n",
       "\n",
       "    .dataframe tbody tr th {\n",
       "        vertical-align: top;\n",
       "    }\n",
       "\n",
       "    .dataframe thead th {\n",
       "        text-align: right;\n",
       "    }\n",
       "</style>\n",
       "<table border=\"1\" class=\"dataframe\">\n",
       "  <thead>\n",
       "    <tr style=\"text-align: right;\">\n",
       "      <th></th>\n",
       "      <th>query</th>\n",
       "      <th>listing_id</th>\n",
       "      <th>purchases</th>\n",
       "    </tr>\n",
       "  </thead>\n",
       "  <tbody>\n",
       "    <tr>\n",
       "      <th>0</th>\n",
       "      <td>!*i20</td>\n",
       "      <td>1458746513</td>\n",
       "      <td>1</td>\n",
       "    </tr>\n",
       "    <tr>\n",
       "      <th>1</th>\n",
       "      <td>\"\"</td>\n",
       "      <td>513278436</td>\n",
       "      <td>56</td>\n",
       "    </tr>\n",
       "    <tr>\n",
       "      <th>2</th>\n",
       "      <td>\"\"</td>\n",
       "      <td>978590693</td>\n",
       "      <td>47</td>\n",
       "    </tr>\n",
       "    <tr>\n",
       "      <th>3</th>\n",
       "      <td>\"\"</td>\n",
       "      <td>1343525011</td>\n",
       "      <td>37</td>\n",
       "    </tr>\n",
       "    <tr>\n",
       "      <th>4</th>\n",
       "      <td>\"\"</td>\n",
       "      <td>1453421847</td>\n",
       "      <td>37</td>\n",
       "    </tr>\n",
       "  </tbody>\n",
       "</table>\n",
       "</div>"
      ],
      "text/plain": [
       "   query  listing_id  purchases\n",
       "0  !*i20  1458746513          1\n",
       "1     \"\"   513278436         56\n",
       "2     \"\"   978590693         47\n",
       "3     \"\"  1343525011         37\n",
       "4     \"\"  1453421847         37"
      ]
     },
     "execution_count": 5,
     "metadata": {},
     "output_type": "execute_result"
    }
   ],
   "source": [
    "query_df.head()"
   ]
  },
  {
   "cell_type": "code",
   "execution_count": 6,
   "id": "76ec710b",
   "metadata": {},
   "outputs": [
    {
     "name": "stdout",
     "output_type": "stream",
     "text": [
      "query_df.shape[0]: 4449687\n",
      "Number of distinct queries: 2171464\n"
     ]
    }
   ],
   "source": [
    "print(f\"query_df.shape[0]: {query_df.shape[0]}\")\n",
    "print(f\"Number of distinct queries: {len(query_df['query'].unique())}\")"
   ]
  },
  {
   "cell_type": "code",
   "execution_count": 8,
   "id": "1973aa36",
   "metadata": {},
   "outputs": [
    {
     "name": "stdout",
     "output_type": "stream",
     "text": [
      "Number of purchased listing for each query\n"
     ]
    },
    {
     "data": {
      "text/plain": [
       "query\n",
       "\"\"                           569885\n",
       "mother day gift                1624\n",
       "father day gift                1592\n",
       "svg                            1164\n",
       "sticker                        1035\n",
       "father day                      916\n",
       "gift                            859\n",
       "mother day                      816\n",
       "birthday card                   795\n",
       "father day card                 778\n",
       "card                            777\n",
       "graduation gift                 758\n",
       "necklace                        695\n",
       "sign                            662\n",
       "cake topper                     603\n",
       "crochet pattern                 600\n",
       "teacher appreciation gift       591\n",
       "earring                         587\n",
       "teacher gift                    571\n",
       "wedding gift                    569\n",
       "Name: count, dtype: int64"
      ]
     },
     "execution_count": 8,
     "metadata": {},
     "output_type": "execute_result"
    }
   ],
   "source": [
    "print(\"Number of purchased listing for each query\")\n",
    "n_purchased_listings_by_query = query_df[\"query\"].value_counts()\n",
    "n_purchased_listings_by_query.head(n=20)"
   ]
  },
  {
   "cell_type": "code",
   "execution_count": 45,
   "id": "7ad73515",
   "metadata": {},
   "outputs": [
    {
     "name": "stdout",
     "output_type": "stream",
     "text": [
      "Average #listings purchased: 2.0491645267893\n",
      "Median #listings purchased: 1.0\n"
     ]
    }
   ],
   "source": [
    "n_distinct_queries = len(query_df['query'].unique())\n",
    "n_purchased_median = np.median(n_purchased_listings_by_query)\n",
    "\n",
    "print(f\"\"\"Average #listings purchased: {np.mean(n_purchased_listings_by_query)}\n",
    "Median #listings purchased: {n_purchased_median}\"\"\")"
   ]
  },
  {
   "cell_type": "code",
   "execution_count": 10,
   "id": "1766e3d2",
   "metadata": {},
   "outputs": [
    {
     "data": {
      "image/png": "[encoded data removed]",
      "text/plain": [
       "<Figure size 640x480 with 1 Axes>"
      ]
     },
     "metadata": {},
     "output_type": "display_data"
    }
   ],
   "source": [
    "bins = [1, 2, 5, 10, 20, 50, 100, 1000]\n",
    "bin_labels = [\"1\", \"2-5\", \"5-10\", \"10-20\", \"20-50\", \"50-100\", \"100-1000\"]\n",
    "\n",
    "hist_values = np.histogram(n_purchased_listings_by_query, bins = bins)[0]\n",
    "percentage = [\"{0:.0%}\".format(x) for x in np.round(hist_values / n_distinct_queries, 5)]\n",
    "\n",
    "ax = plt.bar(x=bin_labels, height=hist_values)\n",
    "for x, y, p in zip(bin_labels, hist_values, percentage):\n",
    "    plt.text(x, y, p)\n",
    "plt.ylabel(\"Count of queries\")\n",
    "plt.xlabel(\"N puchased listings\")\n",
    "plt.title(\"Count and % of queries with N purchased listings\")\n",
    "plt.show()"
   ]
  },
  {
   "cell_type": "markdown",
   "id": "9ec2bdc7",
   "metadata": {},
   "source": [
    "# Generate sample data\n",
    "\n",
    "Assume we use top 1 purchased listing embedding to represent query embedding"
   ]
  },
  {
   "cell_type": "code",
   "execution_count": 33,
   "id": "a7ada964",
   "metadata": {},
   "outputs": [],
   "source": [
    "from utils import run_query_df"
   ]
  },
  {
   "cell_type": "code",
   "execution_count": 40,
   "id": "736f9786",
   "metadata": {
    "scrolled": true
   },
   "outputs": [
    {
     "name": "stdout",
     "output_type": "stream",
     "text": [
      "#queries with 5-20 purchased listings: 90196\n"
     ]
    }
   ],
   "source": [
    "queries_subset = n_purchased_listings_by_query[np.logical_and(\n",
    "    n_purchased_listings_by_query >= 5, \n",
    "    n_purchased_listings_by_query <= 20\n",
    ")].index\n",
    "queries_subset = set(queries_subset)\n",
    "print(f\"#queries with 5-20 purchased listings: {len(queries_subset)}\")"
   ]
  },
  {
   "cell_type": "code",
   "execution_count": 41,
   "id": "b86cd75a",
   "metadata": {},
   "outputs": [
    {
     "data": {
      "text/plain": [
       "100"
      ]
     },
     "execution_count": 41,
     "metadata": {},
     "output_type": "execute_result"
    }
   ],
   "source": [
    "selected_queries = np.random.choice(list(queries_subset), size=100, replace=False)\n",
    "len(selected_queries)"
   ]
  },
  {
   "cell_type": "markdown",
   "id": "149b95c3",
   "metadata": {},
   "source": [
    "100 random queries with 5-20 purchased listings"
   ]
  },
  {
   "cell_type": "code",
   "execution_count": 42,
   "id": "84d19499",
   "metadata": {},
   "outputs": [
    {
     "name": "stdout",
     "output_type": "stream",
     "text": [
      "(830, 3)\n",
      "100\n",
      "830\n"
     ]
    }
   ],
   "source": [
    "query_sub_df = query_df[query_df[\"query\"].isin(selected_queries)]\n",
    "all_relevant_listings = list(query_sub_df.listing_id.unique())\n",
    "\n",
    "print(query_sub_df.shape)\n",
    "print(len(query_sub_df[\"query\"].unique()))\n",
    "print(len(all_relevant_listings))"
   ]
  },
  {
   "cell_type": "code",
   "execution_count": 43,
   "id": "19a0f6ea",
   "metadata": {},
   "outputs": [
    {
     "name": "stderr",
     "output_type": "stream",
     "text": [
      "/Users/yzhang/development/yzhang-adhoc-analysis/venv/lib/python3.8/site-packages/google/auth/_default.py:78: UserWarning: Your application has authenticated using end user credentials from Google Cloud SDK without a quota project. You might receive a \"quota exceeded\" or \"API not enabled\" error. See the following page for troubleshooting: https://cloud.google.com/docs/authentication/adc-troubleshooting/user-creds. \n",
      "  warnings.warn(_CLOUD_SDK_CREDENTIALS_WARNING)\n"
     ]
    },
    {
     "data": {
      "text/plain": [
       "(830, 4)"
      ]
     },
     "execution_count": 43,
     "metadata": {},
     "output_type": "execute_result"
    }
   ],
   "source": [
    "## listing taxonomy\n",
    "taxo_query_str = f\"\"\"\n",
    "select listing_id, full_path\n",
    "from `etsy-data-warehouse-prod.materialized.listing_taxonomy`\n",
    "where listing_id in ({\",\".join([str(x) for x in all_relevant_listings])})\n",
    "\"\"\"\n",
    "all_taxo_df = run_query_df(taxo_query_str, project_id=\"etsy-bigquery-adhoc-prod\")\n",
    "all_taxo_df[\"tax_top1_node\"] = all_taxo_df.full_path.apply(lambda x: x.split(\".\")[0] if len(x.split(\".\")) > 1 else x)\n",
    "all_taxo_df[\"tax_top2_node\"] = all_taxo_df.full_path.apply(lambda x: x.split(\".\")[1] if len(x.split(\".\")) > 1 else None)"
   ]
  },
  {
   "cell_type": "code",
   "execution_count": 46,
   "id": "3b2f5eeb",
   "metadata": {},
   "outputs": [
    {
     "data": {
      "text/html": [
       "<div>\n",
       "<style scoped>\n",
       "    .dataframe tbody tr th:only-of-type {\n",
       "        vertical-align: middle;\n",
       "    }\n",
       "\n",
       "    .dataframe tbody tr th {\n",
       "        vertical-align: top;\n",
       "    }\n",
       "\n",
       "    .dataframe thead th {\n",
       "        text-align: right;\n",
       "    }\n",
       "</style>\n",
       "<table border=\"1\" class=\"dataframe\">\n",
       "  <thead>\n",
       "    <tr style=\"text-align: right;\">\n",
       "      <th></th>\n",
       "      <th>listing_id</th>\n",
       "      <th>full_path</th>\n",
       "      <th>tax_top1_node</th>\n",
       "      <th>tax_top2_node</th>\n",
       "    </tr>\n",
       "  </thead>\n",
       "  <tbody>\n",
       "    <tr>\n",
       "      <th>0</th>\n",
       "      <td>1160161686</td>\n",
       "      <td>home_and_living.storage_and_organization.toy_s...</td>\n",
       "      <td>home_and_living</td>\n",
       "      <td>storage_and_organization</td>\n",
       "    </tr>\n",
       "    <tr>\n",
       "      <th>1</th>\n",
       "      <td>1445395357</td>\n",
       "      <td>clothing.mens_clothing.pants</td>\n",
       "      <td>clothing</td>\n",
       "      <td>mens_clothing</td>\n",
       "    </tr>\n",
       "    <tr>\n",
       "      <th>2</th>\n",
       "      <td>1262962812</td>\n",
       "      <td>craft_supplies_and_tools.blanks.jewelry.rings</td>\n",
       "      <td>craft_supplies_and_tools</td>\n",
       "      <td>blanks</td>\n",
       "    </tr>\n",
       "    <tr>\n",
       "      <th>3</th>\n",
       "      <td>1462902454</td>\n",
       "      <td>art_and_collectibles.prints.digital_prints</td>\n",
       "      <td>art_and_collectibles</td>\n",
       "      <td>prints</td>\n",
       "    </tr>\n",
       "    <tr>\n",
       "      <th>4</th>\n",
       "      <td>962275370</td>\n",
       "      <td>craft_supplies_and_tools.patterns_and_how_to.p...</td>\n",
       "      <td>craft_supplies_and_tools</td>\n",
       "      <td>patterns_and_how_to</td>\n",
       "    </tr>\n",
       "  </tbody>\n",
       "</table>\n",
       "</div>"
      ],
      "text/plain": [
       "   listing_id                                          full_path  \\\n",
       "0  1160161686  home_and_living.storage_and_organization.toy_s...   \n",
       "1  1445395357                       clothing.mens_clothing.pants   \n",
       "2  1262962812      craft_supplies_and_tools.blanks.jewelry.rings   \n",
       "3  1462902454         art_and_collectibles.prints.digital_prints   \n",
       "4   962275370  craft_supplies_and_tools.patterns_and_how_to.p...   \n",
       "\n",
       "              tax_top1_node             tax_top2_node  \n",
       "0           home_and_living  storage_and_organization  \n",
       "1                  clothing             mens_clothing  \n",
       "2  craft_supplies_and_tools                    blanks  \n",
       "3      art_and_collectibles                    prints  \n",
       "4  craft_supplies_and_tools       patterns_and_how_to  "
      ]
     },
     "execution_count": 46,
     "metadata": {},
     "output_type": "execute_result"
    }
   ],
   "source": [
    "all_taxo_df.head()"
   ]
  },
  {
   "cell_type": "code",
   "execution_count": 47,
   "id": "a226c55d",
   "metadata": {},
   "outputs": [
    {
     "data": {
      "text/plain": [
       "(830, 4)"
      ]
     },
     "execution_count": 47,
     "metadata": {},
     "output_type": "execute_result"
    }
   ],
   "source": [
    "all_taxo_df.shape"
   ]
  },
  {
   "cell_type": "code",
   "execution_count": 53,
   "id": "1433f4fc",
   "metadata": {},
   "outputs": [
    {
     "data": {
      "text/html": [
       "<div>\n",
       "<style scoped>\n",
       "    .dataframe tbody tr th:only-of-type {\n",
       "        vertical-align: middle;\n",
       "    }\n",
       "\n",
       "    .dataframe tbody tr th {\n",
       "        vertical-align: top;\n",
       "    }\n",
       "\n",
       "    .dataframe thead th {\n",
       "        text-align: right;\n",
       "    }\n",
       "</style>\n",
       "<table border=\"1\" class=\"dataframe\">\n",
       "  <thead>\n",
       "    <tr style=\"text-align: right;\">\n",
       "      <th></th>\n",
       "      <th>query</th>\n",
       "      <th>listing_id</th>\n",
       "      <th>purchases</th>\n",
       "      <th>full_path</th>\n",
       "      <th>tax_top1_node</th>\n",
       "      <th>tax_top2_node</th>\n",
       "    </tr>\n",
       "  </thead>\n",
       "  <tbody>\n",
       "    <tr>\n",
       "      <th>0</th>\n",
       "      <td>sloth card</td>\n",
       "      <td>847140468</td>\n",
       "      <td>9</td>\n",
       "      <td>paper_and_party_supplies.paper.invitations_and...</td>\n",
       "      <td>paper_and_party_supplies</td>\n",
       "      <td>paper</td>\n",
       "    </tr>\n",
       "    <tr>\n",
       "      <th>1</th>\n",
       "      <td>sloth card</td>\n",
       "      <td>802421415</td>\n",
       "      <td>3</td>\n",
       "      <td>paper_and_party_supplies.paper.greeting_cards....</td>\n",
       "      <td>paper_and_party_supplies</td>\n",
       "      <td>paper</td>\n",
       "    </tr>\n",
       "    <tr>\n",
       "      <th>2</th>\n",
       "      <td>sloth card</td>\n",
       "      <td>691409103</td>\n",
       "      <td>2</td>\n",
       "      <td>paper_and_party_supplies.paper.greeting_cards....</td>\n",
       "      <td>paper_and_party_supplies</td>\n",
       "      <td>paper</td>\n",
       "    </tr>\n",
       "    <tr>\n",
       "      <th>3</th>\n",
       "      <td>sloth card</td>\n",
       "      <td>986011011</td>\n",
       "      <td>1</td>\n",
       "      <td>paper_and_party_supplies.paper.greeting_cards....</td>\n",
       "      <td>paper_and_party_supplies</td>\n",
       "      <td>paper</td>\n",
       "    </tr>\n",
       "    <tr>\n",
       "      <th>4</th>\n",
       "      <td>sloth card</td>\n",
       "      <td>1474020328</td>\n",
       "      <td>1</td>\n",
       "      <td>paper_and_party_supplies.paper.greeting_cards....</td>\n",
       "      <td>paper_and_party_supplies</td>\n",
       "      <td>paper</td>\n",
       "    </tr>\n",
       "    <tr>\n",
       "      <th>5</th>\n",
       "      <td>sloth card</td>\n",
       "      <td>841061383</td>\n",
       "      <td>1</td>\n",
       "      <td>paper_and_party_supplies.paper.greeting_cards....</td>\n",
       "      <td>paper_and_party_supplies</td>\n",
       "      <td>paper</td>\n",
       "    </tr>\n",
       "  </tbody>\n",
       "</table>\n",
       "</div>"
      ],
      "text/plain": [
       "        query  listing_id  purchases  \\\n",
       "0  sloth card   847140468          9   \n",
       "1  sloth card   802421415          3   \n",
       "2  sloth card   691409103          2   \n",
       "3  sloth card   986011011          1   \n",
       "4  sloth card  1474020328          1   \n",
       "5  sloth card   841061383          1   \n",
       "\n",
       "                                           full_path  \\\n",
       "0  paper_and_party_supplies.paper.invitations_and...   \n",
       "1  paper_and_party_supplies.paper.greeting_cards....   \n",
       "2  paper_and_party_supplies.paper.greeting_cards....   \n",
       "3  paper_and_party_supplies.paper.greeting_cards....   \n",
       "4  paper_and_party_supplies.paper.greeting_cards....   \n",
       "5  paper_and_party_supplies.paper.greeting_cards....   \n",
       "\n",
       "              tax_top1_node tax_top2_node  \n",
       "0  paper_and_party_supplies         paper  \n",
       "1  paper_and_party_supplies         paper  \n",
       "2  paper_and_party_supplies         paper  \n",
       "3  paper_and_party_supplies         paper  \n",
       "4  paper_and_party_supplies         paper  \n",
       "5  paper_and_party_supplies         paper  "
      ]
     },
     "execution_count": 53,
     "metadata": {},
     "output_type": "execute_result"
    }
   ],
   "source": [
    "curr_df_with_taxo = pd.merge(curr_df, all_taxo_df, on=\"listing_id\")\n",
    "curr_df_with_taxo.sort_values(\"purchases\", ascending=False, inplace=True)\n",
    "curr_df_with_taxo"
   ]
  },
  {
   "cell_type": "code",
   "execution_count": 62,
   "id": "380c21b7",
   "metadata": {},
   "outputs": [
    {
     "name": "stderr",
     "output_type": "stream",
     "text": [
      "100%|██████████████████████████████████████████████████| 100/100 [00:00<00:00, 451.99it/s]\n"
     ]
    }
   ],
   "source": [
    "data_dic = {}\n",
    "\n",
    "for qstr in tqdm(selected_queries):\n",
    "    curr_df = query_sub_df[query_sub_df[\"query\"] == qstr]\n",
    "    curr_df_with_taxo = pd.merge(curr_df, all_taxo_df, on=\"listing_id\")\n",
    "    curr_df_with_taxo.sort_values(\"purchases\", ascending=False, inplace=True)\n",
    "    \n",
    "    purchased_listings = list(curr_df_with_taxo.listing_id.values)\n",
    "    \n",
    "    try:\n",
    "        assert(len(purchased_listings) == len(np.unique(purchased_listings)))\n",
    "    except:\n",
    "        print(qstr)\n",
    "    \n",
    "    data_dic[qstr] = {\n",
    "        \"query_embedding_lid\": str(purchased_listings[0]),  # ordered by purchase desc in bigquery\n",
    "        \"purchased_listings\": purchased_listings,\n",
    "        \"n_purchases\": list(curr_df_with_taxo.purchases.values),\n",
    "        \"top_level_taxo\": list(curr_df_with_taxo.tax_top1_node.values),\n",
    "        \"2nd_level_taxo\": list(curr_df_with_taxo.tax_top2_node.values),\n",
    "    }"
   ]
  },
  {
   "cell_type": "code",
   "execution_count": 69,
   "id": "a0e705ee",
   "metadata": {},
   "outputs": [],
   "source": [
    "with open('./data/sample_data.pkl', 'wb') as f:\n",
    "    pickle.dump(data_dic, f, protocol=pickle.HIGHEST_PROTOCOL)"
   ]
  },
  {
   "cell_type": "code",
   "execution_count": 75,
   "id": "9f3a1fe9",
   "metadata": {},
   "outputs": [
    {
     "data": {
      "image/png": "[encoded data removed]",
      "text/plain": [
       "<Figure size 640x480 with 1 Axes>"
      ]
     },
     "metadata": {},
     "output_type": "display_data"
    }
   ],
   "source": [
    "top_level_distrib = [len(set(v[\"top_level_taxo\"])) / len(v[\"top_level_taxo\"])  for v in data_dic.values()]\n",
    "plt.hist(top_level_distrib)\n",
    "plt.show()"
   ]
  },
  {
   "cell_type": "markdown",
   "id": "377ee2f7",
   "metadata": {},
   "source": [
    "For every query, purchased listings tend to come from the same top level taxonomy"
   ]
  },
  {
   "cell_type": "code",
   "execution_count": 85,
   "id": "0d09f817",
   "metadata": {},
   "outputs": [
    {
     "name": "stdout",
     "output_type": "stream",
     "text": [
      "15\n"
     ]
    }
   ],
   "source": [
    "all_spanned_taxo = set()\n",
    "for v in data_dic.values():\n",
    "#     print(set(v[\"top_level_taxo\"]))\n",
    "    all_spanned_taxo = all_spanned_taxo.union(set(v[\"top_level_taxo\"]))\n",
    "print(len(all_spanned_taxo))"
   ]
  },
  {
   "cell_type": "code",
   "execution_count": 87,
   "id": "d8f0ddaa",
   "metadata": {},
   "outputs": [
    {
     "data": {
      "image/png": "[encoded data removed]",
      "text/plain": [
       "<Figure size 640x480 with 1 Axes>"
      ]
     },
     "metadata": {},
     "output_type": "display_data"
    }
   ],
   "source": [
    "second_level_distrib = [len(set(v[\"2nd_level_taxo\"])) / len(v[\"2nd_level_taxo\"])  for v in data_dic.values()]\n",
    "plt.hist(second_level_distrib)\n",
    "plt.show()"
   ]
  },
  {
   "cell_type": "markdown",
   "id": "1ffe0210",
   "metadata": {},
   "source": [
    "**Observations**\n",
    "+ Majority (80%) queries have only 1 purchased listing, 95% have less than 5 purchased listings\n",
    "+ For every query, purchased listings tend to come from the same top-level & second-level taxonomy\n",
    "\n",
    "**Questions**\n",
    "+ `_date` means date when data is collected?\n",
    "+ Queries without purchased listings? Find the most \"similar\" query in the query pool with purchased listings\n",
    "+ What does value \"\" mean? - Market visits don't have a query associated, but search page also has it?"
   ]
  },
  {
   "cell_type": "code",
   "execution_count": null,
   "id": "2f909b02",
   "metadata": {},
   "outputs": [],
   "source": []
  }
 ],
 "metadata": {
  "kernelspec": {
   "display_name": "venv",
   "language": "python",
   "name": "venv"
  },
  "language_info": {
   "codemirror_mode": {
    "name": "ipython",
    "version": 3
   },
   "file_extension": ".py",
   "mimetype": "text/x-python",
   "name": "python",
   "nbconvert_exporter": "python",
   "pygments_lexer": "ipython3",
   "version": "3.8.9"
  }
 },
 "nbformat": 4,
 "nbformat_minor": 5
}
