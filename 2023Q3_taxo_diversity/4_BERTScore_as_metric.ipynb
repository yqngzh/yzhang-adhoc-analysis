{
 "cells": [
  {
   "cell_type": "code",
   "execution_count": 1,
   "id": "860713af",
   "metadata": {},
   "outputs": [
    {
     "data": {
      "text/plain": [
       "'0.3.12'"
      ]
     },
     "execution_count": 1,
     "metadata": {},
     "output_type": "execute_result"
    }
   ],
   "source": [
    "import bert_score\n",
    "bert_score.__version__"
   ]
  },
  {
   "cell_type": "markdown",
   "id": "8e2f0905",
   "metadata": {},
   "source": [
    "Relevance: product matches the search query semantically"
   ]
  },
  {
   "cell_type": "markdown",
   "id": "7c990fa5",
   "metadata": {},
   "source": [
    "# Wedding dress"
   ]
  },
  {
   "cell_type": "markdown",
   "id": "1faa657a",
   "metadata": {},
   "source": [
    "Relevant: \n",
    "+ 1420225689\n",
    "+ \n",
    "+ \n",
    "\n",
    "Not relevant:\n",
    "+ "
   ]
  },
  {
   "cell_type": "code",
   "execution_count": 6,
   "id": "900ca6b7",
   "metadata": {},
   "outputs": [],
   "source": [
    "listings = [\n",
    "    \"The mermaid pearl lace wedding dress is luxurious and elegant. This will be the perfect wedding dress for the bride.\",\n",
    "    \"Personalized Mrs Sweatshirt, Custom Wedding Gift, Anniversary Gift for Her, Mrs Neckline Embossed Sweater, Wedding Date Sleeve, Bride To Be\",\n",
    "    \"Bride dress hanger,Personalized Hanger,Bride hanger,Wedding Hanger,Bridesmaid hangers,Wedding Dress hanger,bridesmaid gifts,Bridal gift\"\n",
    "]\n",
    "\n",
    "query = [\"wedding dress\"] * len(listings)"
   ]
  },
  {
   "cell_type": "code",
   "execution_count": 7,
   "id": "ea79357e",
   "metadata": {},
   "outputs": [],
   "source": [
    "from bert_score import score"
   ]
  },
  {
   "cell_type": "code",
   "execution_count": 8,
   "id": "8e59dbdc",
   "metadata": {},
   "outputs": [
    {
     "data": {
      "application/vnd.jupyter.widget-view+json": {
       "model_id": "761260c004fb4ee8b106f1b0c2b2b4c7",
       "version_major": 2,
       "version_minor": 0
      },
      "text/plain": [
       "Downloading (…)lve/main/config.json:   0%|          | 0.00/482 [00:00<?, ?B/s]"
      ]
     },
     "metadata": {},
     "output_type": "display_data"
    },
    {
     "data": {
      "application/vnd.jupyter.widget-view+json": {
       "model_id": "313ec24587464d4497fb625191bbca3d",
       "version_major": 2,
       "version_minor": 0
      },
      "text/plain": [
       "Downloading (…)olve/main/vocab.json:   0%|          | 0.00/899k [00:00<?, ?B/s]"
      ]
     },
     "metadata": {},
     "output_type": "display_data"
    },
    {
     "data": {
      "application/vnd.jupyter.widget-view+json": {
       "model_id": "b76aca9e52f64786a9d59d4852dbb848",
       "version_major": 2,
       "version_minor": 0
      },
      "text/plain": [
       "Downloading (…)olve/main/merges.txt:   0%|          | 0.00/456k [00:00<?, ?B/s]"
      ]
     },
     "metadata": {},
     "output_type": "display_data"
    },
    {
     "data": {
      "application/vnd.jupyter.widget-view+json": {
       "model_id": "c9ec5f48273648288204b42a6e083bf0",
       "version_major": 2,
       "version_minor": 0
      },
      "text/plain": [
       "Downloading model.safetensors:   0%|          | 0.00/1.42G [00:00<?, ?B/s]"
      ]
     },
     "metadata": {},
     "output_type": "display_data"
    },
    {
     "name": "stderr",
     "output_type": "stream",
     "text": [
      "Some weights of RobertaModel were not initialized from the model checkpoint at roberta-large and are newly initialized: ['roberta.pooler.dense.weight', 'roberta.pooler.dense.bias']\n",
      "You should probably TRAIN this model on a down-stream task to be able to use it for predictions and inference.\n"
     ]
    },
    {
     "name": "stdout",
     "output_type": "stream",
     "text": [
      "calculating scores...\n",
      "computing bert embedding.\n"
     ]
    },
    {
     "data": {
      "application/vnd.jupyter.widget-view+json": {
       "model_id": "d971721bb23448408c183f48dc3cc523",
       "version_major": 2,
       "version_minor": 0
      },
      "text/plain": [
       "  0%|          | 0/1 [00:00<?, ?it/s]"
      ]
     },
     "metadata": {},
     "output_type": "display_data"
    },
    {
     "name": "stdout",
     "output_type": "stream",
     "text": [
      "computing greedy matching.\n"
     ]
    },
    {
     "data": {
      "application/vnd.jupyter.widget-view+json": {
       "model_id": "034ba820edd24fd191c98100fab371e2",
       "version_major": 2,
       "version_minor": 0
      },
      "text/plain": [
       "  0%|          | 0/1 [00:00<?, ?it/s]"
      ]
     },
     "metadata": {},
     "output_type": "display_data"
    },
    {
     "name": "stdout",
     "output_type": "stream",
     "text": [
      "done in 0.99 seconds, 3.04 sentences/sec\n"
     ]
    }
   ],
   "source": [
    "P, R, F1 = score(listings, query, lang='en', verbose=True)"
   ]
  },
  {
   "cell_type": "code",
   "execution_count": 9,
   "id": "ad5dabaf",
   "metadata": {},
   "outputs": [
    {
     "data": {
      "text/plain": [
       "tensor([0.8703, 0.8057, 0.8333])"
      ]
     },
     "execution_count": 9,
     "metadata": {},
     "output_type": "execute_result"
    }
   ],
   "source": [
    "F1"
   ]
  },
  {
   "cell_type": "markdown",
   "id": "5ff70ec1",
   "metadata": {},
   "source": [
    "# Wedding guest dress"
   ]
  },
  {
   "cell_type": "code",
   "execution_count": null,
   "id": "87996e75",
   "metadata": {},
   "outputs": [],
   "source": []
  }
 ],
 "metadata": {
  "kernelspec": {
   "display_name": "venv",
   "language": "python",
   "name": "venv"
  },
  "language_info": {
   "codemirror_mode": {
    "name": "ipython",
    "version": 3
   },
   "file_extension": ".py",
   "mimetype": "text/x-python",
   "name": "python",
   "nbconvert_exporter": "python",
   "pygments_lexer": "ipython3",
   "version": "3.8.9"
  }
 },
 "nbformat": 4,
 "nbformat_minor": 5
}
