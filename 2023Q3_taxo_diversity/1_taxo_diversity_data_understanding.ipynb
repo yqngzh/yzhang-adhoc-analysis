{
 "cells": [
  {
   "cell_type": "code",
   "execution_count": 1,
   "id": "1722b15f",
   "metadata": {},
   "outputs": [
    {
     "name": "stdout",
     "output_type": "stream",
     "text": [
      "WARNING:  Python 3.5-3.7 will be deprecated on August 8th, 2023. Please use Python version 3.8 and up.\n",
      "\n",
      "If you have a compatible Python interpreter installed, you can use it by setting\n",
      "the CLOUDSDK_PYTHON environment variable to point to it.\n",
      "\n",
      "Updated property [core/project].\n"
     ]
    }
   ],
   "source": [
    "!gcloud config set project etsy-bigquery-adhoc-prod"
   ]
  },
  {
   "cell_type": "code",
   "execution_count": 2,
   "id": "d60bf77e",
   "metadata": {},
   "outputs": [],
   "source": [
    "%load_ext google.cloud.bigquery"
   ]
  },
  {
   "cell_type": "code",
   "execution_count": 20,
   "id": "e3b380d3",
   "metadata": {},
   "outputs": [],
   "source": [
    "import tensorflow as tf\n",
    "import numpy as np\n",
    "import matplotlib.pyplot as plt\n",
    "from collections import Counter"
   ]
  },
  {
   "cell_type": "markdown",
   "id": "5f78f207",
   "metadata": {},
   "source": [
    "First batch of features to look at\n",
    "+ {click, purchase}Level2TaxonomyPaths\n",
    "+ {click, purchase}Level2TaxonomyCounts\n",
    "+ {click, purchase}Level2TaxonomyPrices"
   ]
  },
  {
   "cell_type": "markdown",
   "id": "a6b7899e",
   "metadata": {},
   "source": [
    "# Training data"
   ]
  },
  {
   "cell_type": "markdown",
   "id": "c2d3c8dc",
   "metadata": {},
   "source": [
    "```sql\n",
    "create or replace table `etsy-search-ml-dev.yzhang.taxo_diversity_raw_train_web_07_03`\n",
    "as (\n",
    "    with fl as (\n",
    "        select\n",
    "            requestUUID, visitId, position, \n",
    "            candidateInfo.docInfo.listingInfo.listingId, \n",
    "            candidateInfo.scores,\n",
    "            candidateInfo.docInfo.listingInfo.activeListingBasics.priceUsd,\n",
    "            candidateInfo.docInfo.listingInfo.verticaListings.shopId,\n",
    "            candidateInfo.docInfo.listingInfo.verticaListings.taxonomyPath,\n",
    "            candidateInfo.docInfo.listingInfo.verticaListings.tags,\n",
    "            attributions,\n",
    "            ctx.docInfo.queryInfo.query, \n",
    "            ctx.docInfo.queryInfo.queryTaxoDemandFeatures.*,\n",
    "         from `etsy-ml-systems-prod.attributed_instance.query_pipeline_web_organic_2023_07_03`, unnest(contextualInfo) as ctx\n",
    "         where ctx.docInfo.queryInfo.query is not null\n",
    "         order by requestUUID, position\n",
    "    ),\n",
    "    query_gms as (\n",
    "      select query, sum(attributed_gms) as gms\n",
    "      from `etsy-data-warehouse-prod.search.query_sessions_new`\n",
    "      where _date = date('2023-07-03')\n",
    "      group by query\n",
    "    )\n",
    "    select fl.*, gms\n",
    "    from fl\n",
    "    left join query_gms\n",
    "    on fl.query = query_gms.query\n",
    ")\n",
    "```"
   ]
  },
  {
   "cell_type": "markdown",
   "id": "5f0fd5b1",
   "metadata": {},
   "source": [
    "```sql\n",
    "with query_with_taxoes as (\n",
    "  select *\n",
    "  from `etsy-search-ml-dev.yzhang.taxo_diversity_raw_train_web_07_03`\n",
    "  where array_length(purchaseLevel2TaxonomyPaths) > 0\n",
    "),\n",
    "query_gms as (\n",
    "  select distinct query, gms\n",
    "  from query_with_taxoes\n",
    ")\n",
    "select sum(gms) from query_gms\n",
    "```"
   ]
  },
  {
   "cell_type": "markdown",
   "id": "2c31ce49",
   "metadata": {},
   "source": [
    "queries with purchased taxonomies on one of the days in training data\n",
    "\n",
    "+ total: 827734 queries, 99038566 GMS\n",
    "+ have purchase taxos: 290207 queries (35%), 62946653 GMS (64%)\n",
    "+ have more than 1 purchased taxoes: 75488 queries (9%), 30887075 GMS (31%)"
   ]
  },
  {
   "cell_type": "code",
   "execution_count": 4,
   "id": "ae29383f",
   "metadata": {},
   "outputs": [
    {
     "name": "stderr",
     "output_type": "stream",
     "text": [
      "Query complete after 0.02s: 100%|█████████████████████████████████████████████████████████████████| 4/4 [00:00<00:00, 1053.78query/s]\n",
      "Downloading: 100%|█████████████████████████████████████████████████████████████████| 21314469/21314469 [01:16<00:00, 280189.96rows/s]\n"
     ]
    }
   ],
   "source": [
    "%%bigquery df\n",
    "select query, attributions, purchaseLevel2TaxonomyPaths, purchaseLevel2TaxonomyCounts\n",
    "from `etsy-search-ml-dev.yzhang.taxo_diversity_raw_train_web_07_03`\n",
    "where array_length(purchaseLevel2TaxonomyPaths) > 1"
   ]
  },
  {
   "cell_type": "code",
   "execution_count": 5,
   "id": "b716ac25",
   "metadata": {},
   "outputs": [
    {
     "data": {
      "text/html": [
       "<div>\n",
       "<style scoped>\n",
       "    .dataframe tbody tr th:only-of-type {\n",
       "        vertical-align: middle;\n",
       "    }\n",
       "\n",
       "    .dataframe tbody tr th {\n",
       "        vertical-align: top;\n",
       "    }\n",
       "\n",
       "    .dataframe thead th {\n",
       "        text-align: right;\n",
       "    }\n",
       "</style>\n",
       "<table border=\"1\" class=\"dataframe\">\n",
       "  <thead>\n",
       "    <tr style=\"text-align: right;\">\n",
       "      <th></th>\n",
       "      <th>query</th>\n",
       "      <th>attributions</th>\n",
       "      <th>purchaseLevel2TaxonomyPaths</th>\n",
       "      <th>purchaseLevel2TaxonomyCounts</th>\n",
       "    </tr>\n",
       "  </thead>\n",
       "  <tbody>\n",
       "    <tr>\n",
       "      <th>0</th>\n",
       "      <td>barbie svg</td>\n",
       "      <td>[no_event]</td>\n",
       "      <td>[craft_supplies_and_tools.canvas_and_surfaces,...</td>\n",
       "      <td>[588, 367, 239, 178, 2, 1, 1, 1, 1]</td>\n",
       "    </tr>\n",
       "    <tr>\n",
       "      <th>1</th>\n",
       "      <td>cribbage board</td>\n",
       "      <td>[no_event]</td>\n",
       "      <td>[toys_and_games.games_and_puzzles, weddings.gi...</td>\n",
       "      <td>[157, 13, 4, 1]</td>\n",
       "    </tr>\n",
       "    <tr>\n",
       "      <th>2</th>\n",
       "      <td>bucket hat</td>\n",
       "      <td>[no_event]</td>\n",
       "      <td>[accessories.hats_and_caps, craft_supplies_and...</td>\n",
       "      <td>[177, 23, 20, 1, 1]</td>\n",
       "    </tr>\n",
       "    <tr>\n",
       "      <th>3</th>\n",
       "      <td>wall art</td>\n",
       "      <td>[no_event]</td>\n",
       "      <td>[art_and_collectibles.prints, home_and_living....</td>\n",
       "      <td>[185, 120, 28, 3, 2, 2]</td>\n",
       "    </tr>\n",
       "    <tr>\n",
       "      <th>4</th>\n",
       "      <td>engagement ring</td>\n",
       "      <td>[no_event]</td>\n",
       "      <td>[jewelry.rings, craft_supplies_and_tools.tools...</td>\n",
       "      <td>[204, 2, 1]</td>\n",
       "    </tr>\n",
       "  </tbody>\n",
       "</table>\n",
       "</div>"
      ],
      "text/plain": [
       "             query attributions  \\\n",
       "0       barbie svg   [no_event]   \n",
       "1   cribbage board   [no_event]   \n",
       "2       bucket hat   [no_event]   \n",
       "3         wall art   [no_event]   \n",
       "4  engagement ring   [no_event]   \n",
       "\n",
       "                         purchaseLevel2TaxonomyPaths  \\\n",
       "0  [craft_supplies_and_tools.canvas_and_surfaces,...   \n",
       "1  [toys_and_games.games_and_puzzles, weddings.gi...   \n",
       "2  [accessories.hats_and_caps, craft_supplies_and...   \n",
       "3  [art_and_collectibles.prints, home_and_living....   \n",
       "4  [jewelry.rings, craft_supplies_and_tools.tools...   \n",
       "\n",
       "          purchaseLevel2TaxonomyCounts  \n",
       "0  [588, 367, 239, 178, 2, 1, 1, 1, 1]  \n",
       "1                      [157, 13, 4, 1]  \n",
       "2                  [177, 23, 20, 1, 1]  \n",
       "3              [185, 120, 28, 3, 2, 2]  \n",
       "4                          [204, 2, 1]  "
      ]
     },
     "execution_count": 5,
     "metadata": {},
     "output_type": "execute_result"
    }
   ],
   "source": [
    "df.head()"
   ]
  },
  {
   "cell_type": "code",
   "execution_count": 15,
   "id": "fd9e9102",
   "metadata": {},
   "outputs": [
    {
     "data": {
      "text/plain": [
       "array(['craft_supplies_and_tools.canvas_and_surfaces',\n",
       "       'art_and_collectibles.drawing_and_illustration',\n",
       "       'art_and_collectibles.prints',\n",
       "       'craft_supplies_and_tools.patterns_and_how_to',\n",
       "       'paper_and_party_supplies.paper',\n",
       "       'craft_supplies_and_tools.knives_and_cutting_tools',\n",
       "       'clothing.gender_neutral_adult_clothing',\n",
       "       'paper_and_party_supplies.party_supplies', ''], dtype=object)"
      ]
     },
     "execution_count": 15,
     "metadata": {},
     "output_type": "execute_result"
    }
   ],
   "source": [
    "df.purchaseLevel2TaxonomyPaths[0]"
   ]
  },
  {
   "cell_type": "code",
   "execution_count": 13,
   "id": "ed8db2a7",
   "metadata": {},
   "outputs": [
    {
     "data": {
      "text/plain": [
       "array([588, 367, 239, 178,   2,   1,   1,   1,   1])"
      ]
     },
     "execution_count": 13,
     "metadata": {},
     "output_type": "execute_result"
    }
   ],
   "source": [
    "df.purchaseLevel2TaxonomyCounts[0]"
   ]
  },
  {
   "cell_type": "code",
   "execution_count": 17,
   "id": "8cdffc1e",
   "metadata": {},
   "outputs": [
    {
     "name": "stdout",
     "output_type": "stream",
     "text": [
      "9\n",
      "9\n",
      "\n"
     ]
    }
   ],
   "source": [
    "print(len(df.purchaseLevel2TaxonomyPaths[0]))\n",
    "print(len(df.purchaseLevel2TaxonomyCounts[0]))\n",
    "print(df.purchaseLevel2TaxonomyPaths[0][-1])"
   ]
  },
  {
   "cell_type": "markdown",
   "id": "87a5782a",
   "metadata": {},
   "source": [
    "Attributions"
   ]
  },
  {
   "cell_type": "code",
   "execution_count": 8,
   "id": "eaa0594f",
   "metadata": {
    "scrolled": true
   },
   "outputs": [],
   "source": [
    "tmp = list(df.attributions.values)\n",
    "labels = [item for sublist in tmp for item in sublist]"
   ]
  },
  {
   "cell_type": "code",
   "execution_count": 10,
   "id": "7bd47db3",
   "metadata": {},
   "outputs": [
    {
     "data": {
      "text/plain": [
       "21407343"
      ]
     },
     "execution_count": 10,
     "metadata": {},
     "output_type": "execute_result"
    }
   ],
   "source": [
    "len(labels)"
   ]
  },
  {
   "cell_type": "code",
   "execution_count": 11,
   "id": "322f2906",
   "metadata": {},
   "outputs": [
    {
     "data": {
      "text/plain": [
       "Counter({'no_event': 20696937,\n",
       "         'click': 615718,\n",
       "         'fav': 6399,\n",
       "         'cart_add': 62463,\n",
       "         'purchase': 25826})"
      ]
     },
     "execution_count": 11,
     "metadata": {},
     "output_type": "execute_result"
    }
   ],
   "source": [
    "Counter(labels)"
   ]
  },
  {
   "cell_type": "markdown",
   "id": "177f8b58",
   "metadata": {},
   "source": [
    "Distribution of number of taxonomies per query"
   ]
  },
  {
   "cell_type": "code",
   "execution_count": 18,
   "id": "54c03d7c",
   "metadata": {},
   "outputs": [],
   "source": [
    "df['feature_length'] = df.purchaseLevel2TaxonomyPaths.apply(lambda x: len(x))"
   ]
  },
  {
   "cell_type": "code",
   "execution_count": 19,
   "id": "2dfa4973",
   "metadata": {},
   "outputs": [
    {
     "ename": "AttributeError",
     "evalue": "'Series' object has no attribute 'plt'",
     "output_type": "error",
     "traceback": [
      "\u001b[0;31m---------------------------------------------------------------------------\u001b[0m",
      "\u001b[0;31mAttributeError\u001b[0m                            Traceback (most recent call last)",
      "\u001b[0;32m/var/folders/gn/nsnv1hf9035bqfv9srt9s6kh0000gp/T/ipykernel_96683/3125704437.py\u001b[0m in \u001b[0;36m?\u001b[0;34m()\u001b[0m\n\u001b[0;32m----> 1\u001b[0;31m \u001b[0mdf\u001b[0m\u001b[0;34m.\u001b[0m\u001b[0mfeature_length\u001b[0m\u001b[0;34m.\u001b[0m\u001b[0mplt\u001b[0m\u001b[0;34m(\u001b[0m\u001b[0mkind\u001b[0m\u001b[0;34m=\u001b[0m\u001b[0;34m'hist'\u001b[0m\u001b[0;34m)\u001b[0m\u001b[0;34m\u001b[0m\u001b[0;34m\u001b[0m\u001b[0m\n\u001b[0m",
      "\u001b[0;32m~/development/yzhang-adhoc-analysis/venv/lib/python3.8/site-packages/pandas/core/generic.py\u001b[0m in \u001b[0;36m?\u001b[0;34m(self, name)\u001b[0m\n\u001b[1;32m   5985\u001b[0m             \u001b[0;32mand\u001b[0m \u001b[0mname\u001b[0m \u001b[0;32mnot\u001b[0m \u001b[0;32min\u001b[0m \u001b[0mself\u001b[0m\u001b[0;34m.\u001b[0m\u001b[0m_accessors\u001b[0m\u001b[0;34m\u001b[0m\u001b[0;34m\u001b[0m\u001b[0m\n\u001b[1;32m   5986\u001b[0m             \u001b[0;32mand\u001b[0m \u001b[0mself\u001b[0m\u001b[0;34m.\u001b[0m\u001b[0m_info_axis\u001b[0m\u001b[0;34m.\u001b[0m\u001b[0m_can_hold_identifiers_and_holds_name\u001b[0m\u001b[0;34m(\u001b[0m\u001b[0mname\u001b[0m\u001b[0;34m)\u001b[0m\u001b[0;34m\u001b[0m\u001b[0;34m\u001b[0m\u001b[0m\n\u001b[1;32m   5987\u001b[0m         ):\n\u001b[1;32m   5988\u001b[0m             \u001b[0;32mreturn\u001b[0m \u001b[0mself\u001b[0m\u001b[0;34m[\u001b[0m\u001b[0mname\u001b[0m\u001b[0;34m]\u001b[0m\u001b[0;34m\u001b[0m\u001b[0;34m\u001b[0m\u001b[0m\n\u001b[0;32m-> 5989\u001b[0;31m         \u001b[0;32mreturn\u001b[0m \u001b[0mobject\u001b[0m\u001b[0;34m.\u001b[0m\u001b[0m__getattribute__\u001b[0m\u001b[0;34m(\u001b[0m\u001b[0mself\u001b[0m\u001b[0;34m,\u001b[0m \u001b[0mname\u001b[0m\u001b[0;34m)\u001b[0m\u001b[0;34m\u001b[0m\u001b[0;34m\u001b[0m\u001b[0m\n\u001b[0m",
      "\u001b[0;31mAttributeError\u001b[0m: 'Series' object has no attribute 'plt'"
     ]
    }
   ],
   "source": [
    "df.feature_length.plt(kind='hist')"
   ]
  },
  {
   "cell_type": "code",
   "execution_count": 48,
   "id": "248822a1",
   "metadata": {},
   "outputs": [],
   "source": [
    "df_diverse = df[df.feature_length >= 3]\n",
    "df_others = df[df.feature_length < 3]"
   ]
  },
  {
   "cell_type": "code",
   "execution_count": 44,
   "id": "942ee5d8",
   "metadata": {},
   "outputs": [
    {
     "name": "stdout",
     "output_type": "stream",
     "text": [
      "367642\n",
      "28893\n"
     ]
    }
   ],
   "source": [
    "print(len(df['query'].unique()))\n",
    "print(len(df_diverse['query'].unique()))"
   ]
  },
  {
   "cell_type": "code",
   "execution_count": 46,
   "id": "f1615792",
   "metadata": {},
   "outputs": [
    {
     "name": "stdout",
     "output_type": "stream",
     "text": [
      "70549707\n",
      "17684844\n"
     ]
    }
   ],
   "source": [
    "print(df.gms.sum())\n",
    "print(df_diverse.gms.sum())"
   ]
  },
  {
   "cell_type": "code",
   "execution_count": 50,
   "id": "b53d23c5",
   "metadata": {},
   "outputs": [
    {
     "data": {
      "text/plain": [
       "28716140"
      ]
     },
     "execution_count": 50,
     "metadata": {},
     "output_type": "execute_result"
    }
   ],
   "source": [
    "df[df.feature_length >= 2].gms.sum()"
   ]
  },
  {
   "cell_type": "markdown",
   "id": "be53e82c",
   "metadata": {},
   "source": [
    "+ 20% queries have at least 2 purchased taxoes, account for 40% GMS\n",
    "+ 8% queries have at least 3 purchased taxoes, account for 25% GMS\n",
    "+ queries with more high-demand taxonomies appear to account for larger percent of GMS / query"
   ]
  },
  {
   "cell_type": "code",
   "execution_count": 56,
   "id": "328f7c09",
   "metadata": {},
   "outputs": [],
   "source": [
    "diverse_query_length = df_diverse[\"query\"].apply(lambda x: len(x.split(\" \")))\n",
    "others_query_length = df_others[\"query\"].apply(lambda x: len(x.split(\" \")))"
   ]
  },
  {
   "cell_type": "code",
   "execution_count": 59,
   "id": "1290f990",
   "metadata": {},
   "outputs": [
    {
     "data": {
      "text/plain": [
       "query\n",
       "2    13867\n",
       "3     8688\n",
       "1     4607\n",
       "4     1556\n",
       "5      163\n",
       "6        8\n",
       "8        4\n",
       "Name: count, dtype: int64"
      ]
     },
     "execution_count": 59,
     "metadata": {},
     "output_type": "execute_result"
    }
   ],
   "source": [
    "diverse_query_length.value_counts()"
   ]
  },
  {
   "cell_type": "code",
   "execution_count": 60,
   "id": "00acf2b1",
   "metadata": {},
   "outputs": [
    {
     "data": {
      "text/plain": [
       "query\n",
       "2     142453\n",
       "3     129735\n",
       "4      32969\n",
       "1      29180\n",
       "5       4013\n",
       "6        356\n",
       "7         29\n",
       "9          8\n",
       "8          4\n",
       "11         1\n",
       "10         1\n",
       "Name: count, dtype: int64"
      ]
     },
     "execution_count": 60,
     "metadata": {},
     "output_type": "execute_result"
    }
   ],
   "source": [
    "others_query_length.value_counts()"
   ]
  },
  {
   "cell_type": "code",
   "execution_count": 62,
   "id": "3f03ac23",
   "metadata": {},
   "outputs": [
    {
     "data": {
      "text/plain": [
       "0               playboy wallet\n",
       "1                      playdoh\n",
       "3            playboy tooth gem\n",
       "8                  playdoh mat\n",
       "9                     playdate\n",
       "                  ...         \n",
       "367637     3 pin anderson plug\n",
       "367638    kuromi car accessory\n",
       "367639        vin number plate\n",
       "367640               vin plate\n",
       "367641      chevy black emblem\n",
       "Name: query, Length: 338749, dtype: object"
      ]
     },
     "execution_count": 62,
     "metadata": {},
     "output_type": "execute_result"
    }
   ],
   "source": [
    "df_others[\"query\"]"
   ]
  },
  {
   "cell_type": "code",
   "execution_count": null,
   "id": "5a75c0c0",
   "metadata": {},
   "outputs": [],
   "source": []
  },
  {
   "cell_type": "markdown",
   "id": "7552bba0",
   "metadata": {},
   "source": [
    "# Generated attribution scores"
   ]
  },
  {
   "cell_type": "code",
   "execution_count": null,
   "id": "d5de6c81",
   "metadata": {},
   "outputs": [],
   "source": [
    "path_file = \"gs://training-dev-search-data-jtzn/neural_ranking/third_pass/temp/1689139587703/908724743918/nr-third-pass-taxo-diversity-exp4-development-1689139587703/beam-generate_3598403727498674176/examples_output_dir\"\n",
    "path_file = f\"{path_file}/train/part-00000-of-15624.tfrecord\"\n",
    "dataset = tf.data.TFRecordDataset(path_file)\n",
    "\n",
    "for raw_record in train_dataset.take(1000):\n",
    "    example = tf.train.Example().FromString(raw_record.numpy())\n",
    "    \n",
    "    for feature_i in example.features.feature:\n",
    "        print(feature_i)\n",
    "        if 'attributions_score' in feature_i or 'TaxonomyPaths' in feature_i:\n",
    "            print(example.features.feature)\n",
    "            length = len(example.features.feature[feature_i].feature)\n",
    "            for k in range(length):\n",
    "                feature_value = example.features.feature[feature_i].feature[k].float_list.value\n",
    "                if 'attributions_score' in feature_i:\n",
    "                    values_score.extend(feature_value)\n",
    "                if 'purchaseLevel2TaxonomyPaths:overlap' in feature_i:\n",
    "                    level2_purchase_overlap.extend(feature_value)\n",
    "                if 'clickLevel2TaxonomyPaths:overlap' in feature_i:\n",
    "                    level2_click_overlap.extend(feature_value)\n",
    "                if 'clickLevel2TaxonomyPaths:cosine' in feature_i:\n",
    "                    level2_click_cosine.extend(feature_value)"
   ]
  },
  {
   "cell_type": "code",
   "execution_count": null,
   "id": "be749f4e",
   "metadata": {},
   "outputs": [],
   "source": [
    "values_score = []\n",
    "top_purchase_overlap = []\n",
    "top_click_overlap = []\n",
    "level2_purchase_overlap = []\n",
    "level2_click_overlap = []\n",
    "level2_click_cosine = []"
   ]
  }
 ],
 "metadata": {
  "kernelspec": {
   "display_name": "venv",
   "language": "python",
   "name": "venv"
  },
  "language_info": {
   "codemirror_mode": {
    "name": "ipython",
    "version": 3
   },
   "file_extension": ".py",
   "mimetype": "text/x-python",
   "name": "python",
   "nbconvert_exporter": "python",
   "pygments_lexer": "ipython3",
   "version": "3.8.9"
  }
 },
 "nbformat": 4,
 "nbformat_minor": 5
}
