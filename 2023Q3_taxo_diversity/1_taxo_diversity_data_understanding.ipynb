{
 "cells": [
  {
   "cell_type": "code",
   "execution_count": 1,
   "id": "1722b15f",
   "metadata": {},
   "outputs": [
    {
     "name": "stdout",
     "output_type": "stream",
     "text": [
      "WARNING:  Python 3.5-3.7 will be deprecated on August 8th, 2023. Please use Python version 3.8 and up.\n",
      "\n",
      "If you have a compatible Python interpreter installed, you can use it by setting\n",
      "the CLOUDSDK_PYTHON environment variable to point to it.\n",
      "\n",
      "Updated property [core/project].\n"
     ]
    }
   ],
   "source": [
    "!gcloud config set project etsy-bigquery-adhoc-prod"
   ]
  },
  {
   "cell_type": "code",
   "execution_count": 2,
   "id": "d60bf77e",
   "metadata": {},
   "outputs": [],
   "source": [
    "%load_ext google.cloud.bigquery"
   ]
  },
  {
   "cell_type": "code",
   "execution_count": 3,
   "id": "e3b380d3",
   "metadata": {},
   "outputs": [
    {
     "name": "stderr",
     "output_type": "stream",
     "text": [
      "2023-07-17 12:50:23.671301: I tensorflow/core/platform/cpu_feature_guard.cc:182] This TensorFlow binary is optimized to use available CPU instructions in performance-critical operations.\n",
      "To enable the following instructions: AVX2 FMA, in other operations, rebuild TensorFlow with the appropriate compiler flags.\n"
     ]
    }
   ],
   "source": [
    "import sys\n",
    "import tensorflow as tf\n",
    "import numpy as np\n",
    "import matplotlib.pyplot as plt\n",
    "import seaborn as sns\n",
    "from collections import Counter\n",
    "from scipy.stats import pearsonr, ttest_1samp, ttest_ind"
   ]
  },
  {
   "cell_type": "code",
   "execution_count": 4,
   "id": "f4b36d58",
   "metadata": {},
   "outputs": [],
   "source": [
    "sys.path.insert(0, '../utils')\n",
    "\n",
    "from utils import min_max_standardize"
   ]
  },
  {
   "cell_type": "markdown",
   "id": "5f78f207",
   "metadata": {},
   "source": [
    "First batch of features to look at\n",
    "+ {click, purchase}Level2TaxonomyPaths\n",
    "+ {click, purchase}Level2TaxonomyCounts\n",
    "+ {click, purchase}Level2TaxonomyPrices"
   ]
  },
  {
   "cell_type": "markdown",
   "id": "a6b7899e",
   "metadata": {},
   "source": [
    "# Training data"
   ]
  },
  {
   "cell_type": "markdown",
   "id": "c2d3c8dc",
   "metadata": {},
   "source": [
    "```sql\n",
    "create or replace table `etsy-search-ml-dev.yzhang.taxo_diversity_raw_train_web_07_03`\n",
    "as (\n",
    "    with fl as (\n",
    "        select\n",
    "            requestUUID, visitId, position, \n",
    "            candidateInfo.docInfo.listingInfo.listingId, \n",
    "            candidateInfo.scores,\n",
    "            candidateInfo.docInfo.listingInfo.activeListingBasics.priceUsd,\n",
    "            candidateInfo.docInfo.listingInfo.verticaListings.shopId,\n",
    "            candidateInfo.docInfo.listingInfo.verticaListings.taxonomyPath,\n",
    "            candidateInfo.docInfo.listingInfo.verticaListings.tags,\n",
    "            attributions,\n",
    "            ctx.docInfo.queryInfo.query, \n",
    "            ctx.docInfo.queryInfo.queryTaxoDemandFeatures.*,\n",
    "         from `etsy-ml-systems-prod.attributed_instance.query_pipeline_web_organic_2023_07_03`, unnest(contextualInfo) as ctx\n",
    "         where ctx.docInfo.queryInfo.query is not null\n",
    "         order by requestUUID, position\n",
    "    ),\n",
    "    query_gms as (\n",
    "      select query, sum(attributed_gms) as gms\n",
    "      from `etsy-data-warehouse-prod.search.query_sessions_new`\n",
    "      where _date = date('2023-07-03')\n",
    "      group by query\n",
    "    )\n",
    "    select fl.*, gms\n",
    "    from fl\n",
    "    left join query_gms\n",
    "    on fl.query = query_gms.query\n",
    ")\n",
    "```"
   ]
  },
  {
   "cell_type": "markdown",
   "id": "3c632c16",
   "metadata": {},
   "source": [
    "```sql\n",
    "with query_with_taxoes as (\n",
    "  select *\n",
    "  from `etsy-search-ml-dev.yzhang.taxo_diversity_raw_train_web_07_03`\n",
    "  where array_length(purchaseLevel2TaxonomyPaths) > 0\n",
    "),\n",
    "query_gms as (\n",
    "  select distinct query, gms\n",
    "  from query_with_taxoes\n",
    ")\n",
    "select sum(gms) from query_gms\n",
    "```"
   ]
  },
  {
   "cell_type": "markdown",
   "id": "2c31ce49",
   "metadata": {},
   "source": [
    "queries with purchased taxonomies on one of the days in training data\n",
    "\n",
    "07/03  (90 day look back)\n",
    "+ total: 827734 queries, 99038566 GMS\n",
    "+ have purchase taxos: 290207 queries (35.1%), 62946653 GMS (63.6%)\n",
    "+ have more than 1 purchased taxoes: 75488 queries (9.1%), 30887075 GMS (31.2%)\n",
    "+ have click taxos: 535593 queries (64.7%), 81547957 GMS (82.3%)\n",
    "+ have more than 1 clicked taxoes: 301673 queries (36.4%), 59444566 GMS (60.0%)\n",
    "\n",
    "07/16  (120 day look back)\n",
    "+ total: 826779 queries, 93662392 GMS\n",
    "+ have purchase taxos: 294935 queries (35.7%), 60425515 GMS (64.5%)\n",
    "+ have more than 1 purchased taxoes: 87489 queries (10.6%), 32382506 GMS (34.6%)\n",
    "+ have click taxoes: 542367 queries (65.6%), 77603049 GMS (82.9%)\n",
    "+ have more than 1 clicked taxoes: 307312 queries (37.2%), 56676797 GMS (60.5%)"
   ]
  },
  {
   "cell_type": "code",
   "execution_count": 4,
   "id": "ae29383f",
   "metadata": {},
   "outputs": [
    {
     "name": "stderr",
     "output_type": "stream",
     "text": [
      "Query complete after 0.02s: 100%|█████████████████████████████████████████████████████████████████| 4/4 [00:00<00:00, 1053.78query/s]\n",
      "Downloading: 100%|█████████████████████████████████████████████████████████████████| 21314469/21314469 [01:16<00:00, 280189.96rows/s]\n"
     ]
    }
   ],
   "source": [
    "%%bigquery df\n",
    "select query, attributions, purchaseLevel2TaxonomyPaths, purchaseLevel2TaxonomyCounts\n",
    "from `etsy-search-ml-dev.yzhang.taxo_diversity_raw_train_web_07_03`\n",
    "where array_length(purchaseLevel2TaxonomyPaths) > 1"
   ]
  },
  {
   "cell_type": "code",
   "execution_count": 5,
   "id": "b716ac25",
   "metadata": {},
   "outputs": [
    {
     "data": {
      "text/html": [
       "<div>\n",
       "<style scoped>\n",
       "    .dataframe tbody tr th:only-of-type {\n",
       "        vertical-align: middle;\n",
       "    }\n",
       "\n",
       "    .dataframe tbody tr th {\n",
       "        vertical-align: top;\n",
       "    }\n",
       "\n",
       "    .dataframe thead th {\n",
       "        text-align: right;\n",
       "    }\n",
       "</style>\n",
       "<table border=\"1\" class=\"dataframe\">\n",
       "  <thead>\n",
       "    <tr style=\"text-align: right;\">\n",
       "      <th></th>\n",
       "      <th>query</th>\n",
       "      <th>attributions</th>\n",
       "      <th>purchaseLevel2TaxonomyPaths</th>\n",
       "      <th>purchaseLevel2TaxonomyCounts</th>\n",
       "    </tr>\n",
       "  </thead>\n",
       "  <tbody>\n",
       "    <tr>\n",
       "      <th>0</th>\n",
       "      <td>barbie svg</td>\n",
       "      <td>[no_event]</td>\n",
       "      <td>[craft_supplies_and_tools.canvas_and_surfaces,...</td>\n",
       "      <td>[588, 367, 239, 178, 2, 1, 1, 1, 1]</td>\n",
       "    </tr>\n",
       "    <tr>\n",
       "      <th>1</th>\n",
       "      <td>cribbage board</td>\n",
       "      <td>[no_event]</td>\n",
       "      <td>[toys_and_games.games_and_puzzles, weddings.gi...</td>\n",
       "      <td>[157, 13, 4, 1]</td>\n",
       "    </tr>\n",
       "    <tr>\n",
       "      <th>2</th>\n",
       "      <td>bucket hat</td>\n",
       "      <td>[no_event]</td>\n",
       "      <td>[accessories.hats_and_caps, craft_supplies_and...</td>\n",
       "      <td>[177, 23, 20, 1, 1]</td>\n",
       "    </tr>\n",
       "    <tr>\n",
       "      <th>3</th>\n",
       "      <td>wall art</td>\n",
       "      <td>[no_event]</td>\n",
       "      <td>[art_and_collectibles.prints, home_and_living....</td>\n",
       "      <td>[185, 120, 28, 3, 2, 2]</td>\n",
       "    </tr>\n",
       "    <tr>\n",
       "      <th>4</th>\n",
       "      <td>engagement ring</td>\n",
       "      <td>[no_event]</td>\n",
       "      <td>[jewelry.rings, craft_supplies_and_tools.tools...</td>\n",
       "      <td>[204, 2, 1]</td>\n",
       "    </tr>\n",
       "  </tbody>\n",
       "</table>\n",
       "</div>"
      ],
      "text/plain": [
       "             query attributions  \\\n",
       "0       barbie svg   [no_event]   \n",
       "1   cribbage board   [no_event]   \n",
       "2       bucket hat   [no_event]   \n",
       "3         wall art   [no_event]   \n",
       "4  engagement ring   [no_event]   \n",
       "\n",
       "                         purchaseLevel2TaxonomyPaths  \\\n",
       "0  [craft_supplies_and_tools.canvas_and_surfaces,...   \n",
       "1  [toys_and_games.games_and_puzzles, weddings.gi...   \n",
       "2  [accessories.hats_and_caps, craft_supplies_and...   \n",
       "3  [art_and_collectibles.prints, home_and_living....   \n",
       "4  [jewelry.rings, craft_supplies_and_tools.tools...   \n",
       "\n",
       "          purchaseLevel2TaxonomyCounts  \n",
       "0  [588, 367, 239, 178, 2, 1, 1, 1, 1]  \n",
       "1                      [157, 13, 4, 1]  \n",
       "2                  [177, 23, 20, 1, 1]  \n",
       "3              [185, 120, 28, 3, 2, 2]  \n",
       "4                          [204, 2, 1]  "
      ]
     },
     "execution_count": 5,
     "metadata": {},
     "output_type": "execute_result"
    }
   ],
   "source": [
    "df.head()"
   ]
  },
  {
   "cell_type": "code",
   "execution_count": 15,
   "id": "fabd7475",
   "metadata": {},
   "outputs": [
    {
     "data": {
      "text/plain": [
       "array(['craft_supplies_and_tools.canvas_and_surfaces',\n",
       "       'art_and_collectibles.drawing_and_illustration',\n",
       "       'art_and_collectibles.prints',\n",
       "       'craft_supplies_and_tools.patterns_and_how_to',\n",
       "       'paper_and_party_supplies.paper',\n",
       "       'craft_supplies_and_tools.knives_and_cutting_tools',\n",
       "       'clothing.gender_neutral_adult_clothing',\n",
       "       'paper_and_party_supplies.party_supplies', ''], dtype=object)"
      ]
     },
     "execution_count": 15,
     "metadata": {},
     "output_type": "execute_result"
    }
   ],
   "source": [
    "df.purchaseLevel2TaxonomyPaths[0]"
   ]
  },
  {
   "cell_type": "code",
   "execution_count": 13,
   "id": "c89ac567",
   "metadata": {},
   "outputs": [
    {
     "data": {
      "text/plain": [
       "array([588, 367, 239, 178,   2,   1,   1,   1,   1])"
      ]
     },
     "execution_count": 13,
     "metadata": {},
     "output_type": "execute_result"
    }
   ],
   "source": [
    "df.purchaseLevel2TaxonomyCounts[0]"
   ]
  },
  {
   "cell_type": "code",
   "execution_count": 17,
   "id": "0b96d292",
   "metadata": {},
   "outputs": [
    {
     "name": "stdout",
     "output_type": "stream",
     "text": [
      "9\n",
      "9\n",
      "\n"
     ]
    }
   ],
   "source": [
    "print(len(df.purchaseLevel2TaxonomyPaths[0]))\n",
    "print(len(df.purchaseLevel2TaxonomyCounts[0]))\n",
    "print(df.purchaseLevel2TaxonomyPaths[0][-1])"
   ]
  },
  {
   "cell_type": "markdown",
   "id": "cb1c062e",
   "metadata": {},
   "source": [
    "Attributions"
   ]
  },
  {
   "cell_type": "markdown",
   "id": "9c2afc16",
   "metadata": {},
   "source": [
    "```sql\n",
    "with tmp as ( \n",
    "    select attr_strs\n",
    "    from `etsy-search-ml-dev.yzhang.taxo_diversity_raw_train_web_07_03`, unnest(attributions) as attr_strs\n",
    ")\n",
    "select attr_strs, count(*) as cnt\n",
    "from tmp\n",
    "group by attr_strs\n",
    "```"
   ]
  },
  {
   "cell_type": "code",
   "execution_count": 8,
   "id": "eaa0594f",
   "metadata": {
    "scrolled": true
   },
   "outputs": [],
   "source": [
    "tmp = list(df.attributions.values)\n",
    "labels = [item for sublist in tmp for item in sublist]"
   ]
  },
  {
   "cell_type": "code",
   "execution_count": 10,
   "id": "5dc18405",
   "metadata": {},
   "outputs": [
    {
     "data": {
      "text/plain": [
       "21407343"
      ]
     },
     "execution_count": 10,
     "metadata": {},
     "output_type": "execute_result"
    }
   ],
   "source": [
    "len(labels)"
   ]
  },
  {
   "cell_type": "code",
   "execution_count": 11,
   "id": "bfd47d11",
   "metadata": {},
   "outputs": [
    {
     "data": {
      "text/plain": [
       "Counter({'no_event': 20696937,\n",
       "         'click': 615718,\n",
       "         'fav': 6399,\n",
       "         'cart_add': 62463,\n",
       "         'purchase': 25826})"
      ]
     },
     "execution_count": 11,
     "metadata": {},
     "output_type": "execute_result"
    }
   ],
   "source": [
    "Counter(labels)"
   ]
  },
  {
   "cell_type": "markdown",
   "id": "fd80020d",
   "metadata": {},
   "source": [
    "Distribution of number of taxonomies per query"
   ]
  },
  {
   "cell_type": "code",
   "execution_count": 22,
   "id": "54c03d7c",
   "metadata": {},
   "outputs": [],
   "source": [
    "df['feature_length'] = df.purchaseLevel2TaxonomyPaths.apply(lambda x: len(x))"
   ]
  },
  {
   "cell_type": "code",
   "execution_count": 28,
   "id": "2345f329",
   "metadata": {},
   "outputs": [
    {
     "data": {
      "image/png": "[encoded data removed]",
      "text/plain": [
       "<Figure size 640x480 with 1 Axes>"
      ]
     },
     "metadata": {},
     "output_type": "display_data"
    }
   ],
   "source": [
    "bins = [2, 3, 4, 5, 6, 10, 20, 50, 100]\n",
    "bin_labels = [\"2\", \"3\", \"4\", \"5\", \"6-10\", \"10-20\", \"20-50\", \"50-100\"]\n",
    "\n",
    "hist_values = np.histogram(df.feature_length, bins = bins)[0]\n",
    "percentage = [\"{0:.0%}\".format(x) for x in np.round(hist_values / df.shape[0], 5)]\n",
    "\n",
    "ax = plt.bar(x=bin_labels, height=hist_values)\n",
    "for x, y, p in zip(bin_labels, hist_values, percentage):\n",
    "    plt.text(x, y, p)\n",
    "\n",
    "plt.show()"
   ]
  },
  {
   "cell_type": "code",
   "execution_count": 25,
   "id": "dbdc9228",
   "metadata": {
    "scrolled": true
   },
   "outputs": [
    {
     "data": {
      "text/plain": [
       "array([       0, 14145401,  4406487,  1850747,   822954,    88880,\n",
       "              0])"
      ]
     },
     "execution_count": 25,
     "metadata": {},
     "output_type": "execute_result"
    }
   ],
   "source": [
    "hist_values"
   ]
  },
  {
   "cell_type": "code",
   "execution_count": null,
   "id": "023e0910",
   "metadata": {},
   "outputs": [],
   "source": []
  },
  {
   "cell_type": "code",
   "execution_count": 4,
   "id": "5a75c0c0",
   "metadata": {},
   "outputs": [
    {
     "name": "stderr",
     "output_type": "stream",
     "text": [
      "Query complete after 0.02s: 100%|██████████████████████████████████████████████████████████████████| 1/1 [00:00<00:00, 559.61query/s]\n",
      "Downloading: 100%|█████████████████████████████████████████████████████████████████| 46708584/46708584 [04:18<00:00, 180745.10rows/s]\n"
     ]
    }
   ],
   "source": [
    "%%bigquery df\n",
    "select query, clickLevel2TaxonomyPaths, clickLevel2TaxonomyCounts\n",
    "from `etsy-search-ml-dev.yzhang.taxo_diversity_raw_train_web_07_03`\n",
    "where array_length(clickLevel2TaxonomyPaths) > 1"
   ]
  },
  {
   "cell_type": "code",
   "execution_count": 5,
   "id": "082b8842",
   "metadata": {},
   "outputs": [
    {
     "data": {
      "text/html": [
       "<div>\n",
       "<style scoped>\n",
       "    .dataframe tbody tr th:only-of-type {\n",
       "        vertical-align: middle;\n",
       "    }\n",
       "\n",
       "    .dataframe tbody tr th {\n",
       "        vertical-align: top;\n",
       "    }\n",
       "\n",
       "    .dataframe thead th {\n",
       "        text-align: right;\n",
       "    }\n",
       "</style>\n",
       "<table border=\"1\" class=\"dataframe\">\n",
       "  <thead>\n",
       "    <tr style=\"text-align: right;\">\n",
       "      <th></th>\n",
       "      <th>query</th>\n",
       "      <th>clickLevel2TaxonomyPaths</th>\n",
       "      <th>clickLevel2TaxonomyCounts</th>\n",
       "    </tr>\n",
       "  </thead>\n",
       "  <tbody>\n",
       "    <tr>\n",
       "      <th>0</th>\n",
       "      <td>nirvana sweatshirt</td>\n",
       "      <td>[clothing.gender_neutral_adult_clothing, weddi...</td>\n",
       "      <td>[1938, 267, 144, 103, 15, 10, 4, 3, 2, 2, 1, 1...</td>\n",
       "    </tr>\n",
       "    <tr>\n",
       "      <th>1</th>\n",
       "      <td>beer shirt</td>\n",
       "      <td>[clothing.gender_neutral_adult_clothing, cloth...</td>\n",
       "      <td>[868, 128, 87, 34, 8, 5, 4, 3]</td>\n",
       "    </tr>\n",
       "    <tr>\n",
       "      <th>2</th>\n",
       "      <td>dxf</td>\n",
       "      <td>[craft_supplies_and_tools.patterns_and_how_to,...</td>\n",
       "      <td>[879, 433, 144, 118, 98, 75, 70, 28, 8, 7, 7, ...</td>\n",
       "    </tr>\n",
       "    <tr>\n",
       "      <th>3</th>\n",
       "      <td>invitation wedding</td>\n",
       "      <td>[weddings.invitations_and_paper, paper_and_par...</td>\n",
       "      <td>[932, 95, 12, 4, 2, 1, 1]</td>\n",
       "    </tr>\n",
       "    <tr>\n",
       "      <th>4</th>\n",
       "      <td>baptism</td>\n",
       "      <td>[home_and_living.home_decor, paper_and_party_s...</td>\n",
       "      <td>[240, 231, 208, 200, 147, 140, 99, 51, 45, 41,...</td>\n",
       "    </tr>\n",
       "  </tbody>\n",
       "</table>\n",
       "</div>"
      ],
      "text/plain": [
       "                query                           clickLevel2TaxonomyPaths  \\\n",
       "0  nirvana sweatshirt  [clothing.gender_neutral_adult_clothing, weddi...   \n",
       "1          beer shirt  [clothing.gender_neutral_adult_clothing, cloth...   \n",
       "2                 dxf  [craft_supplies_and_tools.patterns_and_how_to,...   \n",
       "3  invitation wedding  [weddings.invitations_and_paper, paper_and_par...   \n",
       "4             baptism  [home_and_living.home_decor, paper_and_party_s...   \n",
       "\n",
       "                           clickLevel2TaxonomyCounts  \n",
       "0  [1938, 267, 144, 103, 15, 10, 4, 3, 2, 2, 1, 1...  \n",
       "1                     [868, 128, 87, 34, 8, 5, 4, 3]  \n",
       "2  [879, 433, 144, 118, 98, 75, 70, 28, 8, 7, 7, ...  \n",
       "3                          [932, 95, 12, 4, 2, 1, 1]  \n",
       "4  [240, 231, 208, 200, 147, 140, 99, 51, 45, 41,...  "
      ]
     },
     "execution_count": 5,
     "metadata": {},
     "output_type": "execute_result"
    }
   ],
   "source": [
    "df.head()"
   ]
  },
  {
   "cell_type": "code",
   "execution_count": 6,
   "id": "f4cc21a0",
   "metadata": {},
   "outputs": [],
   "source": [
    "df['feature_length'] = df.clickLevel2TaxonomyPaths.apply(lambda x: len(x))"
   ]
  },
  {
   "cell_type": "code",
   "execution_count": 14,
   "id": "c041b81f",
   "metadata": {},
   "outputs": [
    {
     "data": {
      "text/plain": [
       "50"
      ]
     },
     "execution_count": 14,
     "metadata": {},
     "output_type": "execute_result"
    }
   ],
   "source": [
    "df.feature_length.max()"
   ]
  },
  {
   "cell_type": "code",
   "execution_count": 17,
   "id": "ce8de867",
   "metadata": {},
   "outputs": [
    {
     "data": {
      "image/png": "[encoded data removed]",
      "text/plain": [
       "<Figure size 640x480 with 1 Axes>"
      ]
     },
     "metadata": {},
     "output_type": "display_data"
    }
   ],
   "source": [
    "bins = [2, 5, 10, 20, 51]\n",
    "bin_labels = [\"[2-5)\", \"[5-10)\", \"[10-20)\", \"[20-51)\"]\n",
    "\n",
    "hist_values = np.histogram(df.feature_length, bins = bins)[0]\n",
    "percentage = [\"{0:.0%}\".format(x) for x in np.round(hist_values / df.shape[0], 5)]\n",
    "\n",
    "ax = plt.bar(x=bin_labels, height=hist_values)\n",
    "for x, y, p in zip(bin_labels, hist_values, percentage):\n",
    "    plt.text(x, y, p)\n",
    "\n",
    "plt.show()"
   ]
  },
  {
   "cell_type": "code",
   "execution_count": null,
   "id": "504910af",
   "metadata": {},
   "outputs": [],
   "source": []
  },
  {
   "cell_type": "markdown",
   "id": "2dcc97fc",
   "metadata": {},
   "source": [
    "# Counts vs Price "
   ]
  },
  {
   "cell_type": "code",
   "execution_count": 4,
   "id": "f1444bc6",
   "metadata": {},
   "outputs": [
    {
     "name": "stderr",
     "output_type": "stream",
     "text": [
      "Query complete after 0.02s: 100%|█████████████| 1/1 [00:00<00:00, 514.64query/s]\n",
      "Downloading: 100%|████████████| 21314469/21314469 [01:16<00:00, 277739.14rows/s]\n"
     ]
    }
   ],
   "source": [
    "%%bigquery df\n",
    "select \n",
    "    query, \n",
    "    purchaseLevel2TaxonomyPaths as taxo, \n",
    "    purchaseLevel2TaxonomyCounts as cnts,\n",
    "    purchaseLevel2TaxonomyPrices  as prices,\n",
    "from `etsy-search-ml-dev.yzhang.taxo_diversity_raw_train_web_07_03`\n",
    "where array_length(purchaseLevel2TaxonomyPaths) > 1"
   ]
  },
  {
   "cell_type": "code",
   "execution_count": 5,
   "id": "8d7cc9f3",
   "metadata": {},
   "outputs": [
    {
     "data": {
      "text/html": [
       "<div>\n",
       "<style scoped>\n",
       "    .dataframe tbody tr th:only-of-type {\n",
       "        vertical-align: middle;\n",
       "    }\n",
       "\n",
       "    .dataframe tbody tr th {\n",
       "        vertical-align: top;\n",
       "    }\n",
       "\n",
       "    .dataframe thead th {\n",
       "        text-align: right;\n",
       "    }\n",
       "</style>\n",
       "<table border=\"1\" class=\"dataframe\">\n",
       "  <thead>\n",
       "    <tr style=\"text-align: right;\">\n",
       "      <th></th>\n",
       "      <th>query</th>\n",
       "      <th>taxo</th>\n",
       "      <th>cnts</th>\n",
       "      <th>prices</th>\n",
       "    </tr>\n",
       "  </thead>\n",
       "  <tbody>\n",
       "    <tr>\n",
       "      <th>0</th>\n",
       "      <td>picture frames</td>\n",
       "      <td>[home_and_living.home_decor, weddings.gifts_an...</td>\n",
       "      <td>[219, 35, 5, 2]</td>\n",
       "      <td>[18.21, 17.69, 16.76, 8.07]</td>\n",
       "    </tr>\n",
       "    <tr>\n",
       "      <th>1</th>\n",
       "      <td>wedding welcome sign</td>\n",
       "      <td>[weddings.decorations, weddings.invitations_an...</td>\n",
       "      <td>[286, 166, 16, 13, 8, 3, 2, 1, 1, 1]</td>\n",
       "      <td>[42.54, 11.9, 13.19, 63.75, 42.18, 16.87, 2.08...</td>\n",
       "    </tr>\n",
       "    <tr>\n",
       "      <th>2</th>\n",
       "      <td>30th birthday gift for her</td>\n",
       "      <td>[paper_and_party_supplies.paper, clothing.gend...</td>\n",
       "      <td>[168, 112, 101, 88, 62, 61, 54, 47, 33, 27, 19...</td>\n",
       "      <td>[4.64, 20.7, 14.22, 16.56, 35.32, 21.25, 35.77...</td>\n",
       "    </tr>\n",
       "    <tr>\n",
       "      <th>3</th>\n",
       "      <td>tshirt</td>\n",
       "      <td>[clothing.gender_neutral_adult_clothing, , clo...</td>\n",
       "      <td>[138, 52, 23, 14, 10, 4, 2, 2, 2, 2, 2]</td>\n",
       "      <td>[19.74, 16.74, 17.04, 19.73, 10.32, 8.03, 30.0...</td>\n",
       "    </tr>\n",
       "    <tr>\n",
       "      <th>4</th>\n",
       "      <td>croc charm</td>\n",
       "      <td>[jewelry.brooches_pins_and_clips, craft_suppli...</td>\n",
       "      <td>[462, 329, 126, 39, 17]</td>\n",
       "      <td>[4.6, 2.52, 9.31, 3.44, 3.22]</td>\n",
       "    </tr>\n",
       "  </tbody>\n",
       "</table>\n",
       "</div>"
      ],
      "text/plain": [
       "                        query  \\\n",
       "0              picture frames   \n",
       "1        wedding welcome sign   \n",
       "2  30th birthday gift for her   \n",
       "3                      tshirt   \n",
       "4                  croc charm   \n",
       "\n",
       "                                                taxo  \\\n",
       "0  [home_and_living.home_decor, weddings.gifts_an...   \n",
       "1  [weddings.decorations, weddings.invitations_an...   \n",
       "2  [paper_and_party_supplies.paper, clothing.gend...   \n",
       "3  [clothing.gender_neutral_adult_clothing, , clo...   \n",
       "4  [jewelry.brooches_pins_and_clips, craft_suppli...   \n",
       "\n",
       "                                                cnts  \\\n",
       "0                                    [219, 35, 5, 2]   \n",
       "1               [286, 166, 16, 13, 8, 3, 2, 1, 1, 1]   \n",
       "2  [168, 112, 101, 88, 62, 61, 54, 47, 33, 27, 19...   \n",
       "3            [138, 52, 23, 14, 10, 4, 2, 2, 2, 2, 2]   \n",
       "4                            [462, 329, 126, 39, 17]   \n",
       "\n",
       "                                              prices  \n",
       "0                        [18.21, 17.69, 16.76, 8.07]  \n",
       "1  [42.54, 11.9, 13.19, 63.75, 42.18, 16.87, 2.08...  \n",
       "2  [4.64, 20.7, 14.22, 16.56, 35.32, 21.25, 35.77...  \n",
       "3  [19.74, 16.74, 17.04, 19.73, 10.32, 8.03, 30.0...  \n",
       "4                      [4.6, 2.52, 9.31, 3.44, 3.22]  "
      ]
     },
     "execution_count": 5,
     "metadata": {},
     "output_type": "execute_result"
    }
   ],
   "source": [
    "df.head()"
   ]
  },
  {
   "cell_type": "code",
   "execution_count": 7,
   "id": "793026be",
   "metadata": {},
   "outputs": [],
   "source": [
    "df_sub = df[110000:120000].reset_index(inplace=False)"
   ]
  },
  {
   "cell_type": "code",
   "execution_count": 8,
   "id": "6b1389c7",
   "metadata": {},
   "outputs": [],
   "source": [
    "std_counts = df_sub.cnts.apply(min_max_standardize)\n",
    "std_prices = df_sub.prices.apply(min_max_standardize)"
   ]
  },
  {
   "cell_type": "code",
   "execution_count": 9,
   "id": "1e265344",
   "metadata": {},
   "outputs": [
    {
     "name": "stdout",
     "output_type": "stream",
     "text": [
      "[nan nan nan nan nan nan nan nan]\n",
      "[nan nan nan]\n",
      "[nan nan nan nan nan]\n",
      "[nan nan nan nan]\n",
      "[nan nan nan nan nan]\n",
      "[nan nan nan nan]\n",
      "[nan nan nan nan]\n",
      "[nan nan nan]\n",
      "[nan nan nan nan nan]\n",
      "[nan nan nan nan]\n",
      "[nan nan nan]\n",
      "[nan nan nan]\n",
      "[nan nan nan nan]\n",
      "[nan nan nan nan]\n",
      "[nan nan nan nan nan]\n",
      "[nan nan nan nan]\n",
      "[nan nan nan nan]\n",
      "[nan nan nan]\n"
     ]
    }
   ],
   "source": [
    "corr_seq = []\n",
    "for i in range(df_sub.shape[0]):\n",
    "    curr_cnts = std_counts[i]\n",
    "    curr_prices = std_prices[i]\n",
    "    if len(curr_cnts) > 2:\n",
    "        try:\n",
    "            curr_corr, _ = pearsonr(curr_cnts, curr_prices)\n",
    "            corr_seq.append(curr_corr)\n",
    "        except:\n",
    "            print(curr_cnts)"
   ]
  },
  {
   "cell_type": "code",
   "execution_count": 10,
   "id": "bb297763",
   "metadata": {},
   "outputs": [
    {
     "data": {
      "text/plain": [
       "(array([ 243.,  181.,  386.,  764., 1609., 1362.,  877.,  701.,  665.,\n",
       "         776.]),\n",
       " array([-9.99996610e-01, -7.99996949e-01, -5.99997288e-01, -3.99997627e-01,\n",
       "        -1.99997966e-01,  1.69503361e-06,  2.00001356e-01,  4.00001017e-01,\n",
       "         6.00000678e-01,  8.00000339e-01,  1.00000000e+00]),\n",
       " <BarContainer object of 10 artists>)"
      ]
     },
     "execution_count": 10,
     "metadata": {},
     "output_type": "execute_result"
    },
    {
     "data": {
      "image/png": "[encoded data removed]",
      "text/plain": [
       "<Figure size 640x480 with 1 Axes>"
      ]
     },
     "metadata": {},
     "output_type": "display_data"
    }
   ],
   "source": [
    "plt.hist(corr_seq)"
   ]
  },
  {
   "cell_type": "code",
   "execution_count": 11,
   "id": "18a0697c",
   "metadata": {},
   "outputs": [
    {
     "name": "stdout",
     "output_type": "stream",
     "text": [
      "7564\n",
      "0.1336769848501378\n",
      "0.08317793250804395\n"
     ]
    }
   ],
   "source": [
    "print(len(corr_seq))\n",
    "print(np.mean(corr_seq))\n",
    "print(np.median(corr_seq))"
   ]
  },
  {
   "cell_type": "code",
   "execution_count": 12,
   "id": "47dd159c",
   "metadata": {},
   "outputs": [
    {
     "data": {
      "text/plain": [
       "TtestResult(statistic=25.20590130594515, pvalue=1.1089738037777045e-134, df=7563)"
      ]
     },
     "execution_count": 12,
     "metadata": {},
     "output_type": "execute_result"
    }
   ],
   "source": [
    "ttest_1samp(corr_seq, popmean=0.)"
   ]
  },
  {
   "cell_type": "markdown",
   "id": "dfc8c5a7",
   "metadata": {},
   "source": [
    "How about clicks"
   ]
  },
  {
   "cell_type": "code",
   "execution_count": 6,
   "id": "dd82e21f",
   "metadata": {},
   "outputs": [
    {
     "name": "stderr",
     "output_type": "stream",
     "text": [
      "Query complete after 0.02s: 100%|█████████████| 1/1 [00:00<00:00, 489.99query/s]\n",
      "Downloading: 100%|████████████| 46708584/46708584 [05:00<00:00, 155424.83rows/s]\n"
     ]
    }
   ],
   "source": [
    "%%bigquery clicks_df\n",
    "select\n",
    "    query, \n",
    "    clickLevel2TaxonomyPaths as taxo, \n",
    "    clickLevel2TaxonomyCounts as cnts,\n",
    "    clickLevel2TaxonomyPrices  as prices,\n",
    "from `etsy-search-ml-dev.yzhang.taxo_diversity_raw_train_web_07_03`\n",
    "where array_length(clickLevel2TaxonomyPaths) > 1"
   ]
  },
  {
   "cell_type": "code",
   "execution_count": 12,
   "id": "5e95b3ec",
   "metadata": {},
   "outputs": [],
   "source": [
    "df_sub = clicks_df[90000:100000].reset_index(inplace=False)\n",
    "std_counts = df_sub.cnts.apply(min_max_standardize)\n",
    "std_prices = df_sub.prices.apply(min_max_standardize)"
   ]
  },
  {
   "cell_type": "code",
   "execution_count": 13,
   "id": "13d0cf54",
   "metadata": {},
   "outputs": [
    {
     "name": "stdout",
     "output_type": "stream",
     "text": [
      "[nan nan nan]\n",
      "[nan nan nan nan]\n",
      "[nan nan nan]\n",
      "[nan nan nan]\n",
      "[nan nan nan nan]\n",
      "[nan nan nan nan nan]\n",
      "[nan nan nan nan nan]\n"
     ]
    }
   ],
   "source": [
    "corr_seq = []\n",
    "for i in range(df_sub.shape[0]):\n",
    "    curr_cnts = std_counts[i]\n",
    "    curr_prices = std_prices[i]\n",
    "    if len(curr_cnts) > 2:\n",
    "        try:\n",
    "            curr_corr, _ = pearsonr(curr_cnts, curr_prices)\n",
    "            corr_seq.append(curr_corr)\n",
    "        except:\n",
    "            print(curr_cnts)"
   ]
  },
  {
   "cell_type": "code",
   "execution_count": 14,
   "id": "4986bc87",
   "metadata": {},
   "outputs": [
    {
     "data": {
      "text/plain": [
       "(array([ 158.,  142.,  338.,  816., 3219., 1771.,  951.,  663.,  427.,\n",
       "         488.]),\n",
       " array([-9.99948289e-01, -7.99953697e-01, -5.99959105e-01, -3.99964514e-01,\n",
       "        -1.99969922e-01,  2.46694341e-05,  2.00019261e-01,  4.00013853e-01,\n",
       "         6.00008444e-01,  8.00003036e-01,  9.99997628e-01]),\n",
       " <BarContainer object of 10 artists>)"
      ]
     },
     "execution_count": 14,
     "metadata": {},
     "output_type": "execute_result"
    },
    {
     "data": {
      "image/png": "[encoded data removed]",
      "text/plain": [
       "<Figure size 640x480 with 1 Axes>"
      ]
     },
     "metadata": {},
     "output_type": "display_data"
    }
   ],
   "source": [
    "plt.hist(corr_seq)"
   ]
  },
  {
   "cell_type": "code",
   "execution_count": 15,
   "id": "19af82d4",
   "metadata": {},
   "outputs": [
    {
     "name": "stdout",
     "output_type": "stream",
     "text": [
      "8973\n",
      "0.06578197951081227\n",
      "-0.014023207404945365\n",
      "TtestResult(statistic=16.745261869510696, pvalue=5.325849979366155e-62, df=8972)\n"
     ]
    }
   ],
   "source": [
    "print(len(corr_seq))\n",
    "print(np.mean(corr_seq))\n",
    "print(np.median(corr_seq))\n",
    "print(ttest_1samp(corr_seq, popmean=0.))"
   ]
  },
  {
   "cell_type": "code",
   "execution_count": null,
   "id": "01c73dd2",
   "metadata": {},
   "outputs": [],
   "source": []
  },
  {
   "cell_type": "markdown",
   "id": "7b10f054",
   "metadata": {},
   "source": [
    "# Feature lengths & query type"
   ]
  },
  {
   "cell_type": "code",
   "execution_count": 5,
   "id": "bb8d86c5",
   "metadata": {},
   "outputs": [
    {
     "name": "stderr",
     "output_type": "stream",
     "text": [
      "Query complete after 0.02s: 100%|█████████████| 1/1 [00:00<00:00, 493.62query/s]\n",
      "Downloading: 100%|████████████| 38511144/38511144 [01:32<00:00, 415769.11rows/s]\n"
     ]
    }
   ],
   "source": [
    "%%bigquery qt_df\n",
    "with query_session as (\n",
    "  select distinct query, query_raw\n",
    "  from `etsy-data-warehouse-prod.search.query_sessions_new`\n",
    "  where _date = date('2023-07-03')\n",
    "),\n",
    "query_intent as (\n",
    "  select query_raw,\n",
    "    case\n",
    "      when abs(inference.confidence) > 0.8 then inference.label\n",
    "      else 'uncertain'\n",
    "    end as intent_label,\n",
    "    inference.confidence as score\n",
    "  from `etsy-data-warehouse-prod.arizona.query_intent_labels`\n",
    "),\n",
    "query_intent_table as (\n",
    "  select distinct query, qs.query_raw, intent_label\n",
    "  from query_session qs\n",
    "  join query_intent qi\n",
    "  on qs.query_raw = qi.query_raw\n",
    "  qualify row_number() over (partition by query order by score desc) = 1\n",
    "),\n",
    "fl as (\n",
    "  select\n",
    "      query, \n",
    "      purchaseLevel2TaxonomyPaths as taxo, \n",
    "      purchaseLevel2TaxonomyCounts as cnts,\n",
    "      purchaseLevel2TaxonomyPrices  as prices,\n",
    "  from `etsy-search-ml-dev.yzhang.taxo_diversity_raw_train_web_07_03`\n",
    ")\n",
    "select fl.*, qit.intent_label\n",
    "from fl\n",
    "join query_intent_table qit\n",
    "on fl.query = qit.query\n",
    "where array_length(taxo) > 0"
   ]
  },
  {
   "cell_type": "code",
   "execution_count": 6,
   "id": "9ad969ad",
   "metadata": {},
   "outputs": [
    {
     "data": {
      "text/html": [
       "<div>\n",
       "<style scoped>\n",
       "    .dataframe tbody tr th:only-of-type {\n",
       "        vertical-align: middle;\n",
       "    }\n",
       "\n",
       "    .dataframe tbody tr th {\n",
       "        vertical-align: top;\n",
       "    }\n",
       "\n",
       "    .dataframe thead th {\n",
       "        text-align: right;\n",
       "    }\n",
       "</style>\n",
       "<table border=\"1\" class=\"dataframe\">\n",
       "  <thead>\n",
       "    <tr style=\"text-align: right;\">\n",
       "      <th></th>\n",
       "      <th>query</th>\n",
       "      <th>taxo</th>\n",
       "      <th>cnts</th>\n",
       "      <th>prices</th>\n",
       "      <th>intent_label</th>\n",
       "      <th>feature_length</th>\n",
       "    </tr>\n",
       "  </thead>\n",
       "  <tbody>\n",
       "    <tr>\n",
       "      <th>0</th>\n",
       "      <td>custom portrait</td>\n",
       "      <td>[art_and_collectibles.prints, art_and_collecti...</td>\n",
       "      <td>[197, 50, 35, 15]</td>\n",
       "      <td>[22.31, 18.85, 21.7, 23.4]</td>\n",
       "      <td>Direct</td>\n",
       "      <td>4</td>\n",
       "    </tr>\n",
       "    <tr>\n",
       "      <th>1</th>\n",
       "      <td>bar sign</td>\n",
       "      <td>[home_and_living.home_decor, weddings.decorati...</td>\n",
       "      <td>[241, 66, 24, 7, 3]</td>\n",
       "      <td>[38.06, 16.96, 10.73, 43.77, 9.14]</td>\n",
       "      <td>Direct</td>\n",
       "      <td>5</td>\n",
       "    </tr>\n",
       "    <tr>\n",
       "      <th>2</th>\n",
       "      <td>bar sign</td>\n",
       "      <td>[home_and_living.home_decor, weddings.decorati...</td>\n",
       "      <td>[241, 66, 24, 7, 3]</td>\n",
       "      <td>[38.06, 16.96, 10.73, 43.77, 9.14]</td>\n",
       "      <td>Direct</td>\n",
       "      <td>5</td>\n",
       "    </tr>\n",
       "    <tr>\n",
       "      <th>3</th>\n",
       "      <td>cat earring</td>\n",
       "      <td>[jewelry.earrings]</td>\n",
       "      <td>[253]</td>\n",
       "      <td>[13.95]</td>\n",
       "      <td>Direct</td>\n",
       "      <td>1</td>\n",
       "    </tr>\n",
       "    <tr>\n",
       "      <th>4</th>\n",
       "      <td>crochet blanket pattern</td>\n",
       "      <td>[craft_supplies_and_tools.patterns_and_how_to, ]</td>\n",
       "      <td>[244, 9]</td>\n",
       "      <td>[4.74, 3.83]</td>\n",
       "      <td>Direct</td>\n",
       "      <td>2</td>\n",
       "    </tr>\n",
       "  </tbody>\n",
       "</table>\n",
       "</div>"
      ],
      "text/plain": [
       "                     query                                               taxo  \\\n",
       "0          custom portrait  [art_and_collectibles.prints, art_and_collecti...   \n",
       "1                 bar sign  [home_and_living.home_decor, weddings.decorati...   \n",
       "2                 bar sign  [home_and_living.home_decor, weddings.decorati...   \n",
       "3              cat earring                                 [jewelry.earrings]   \n",
       "4  crochet blanket pattern   [craft_supplies_and_tools.patterns_and_how_to, ]   \n",
       "\n",
       "                  cnts                              prices intent_label  \\\n",
       "0    [197, 50, 35, 15]          [22.31, 18.85, 21.7, 23.4]       Direct   \n",
       "1  [241, 66, 24, 7, 3]  [38.06, 16.96, 10.73, 43.77, 9.14]       Direct   \n",
       "2  [241, 66, 24, 7, 3]  [38.06, 16.96, 10.73, 43.77, 9.14]       Direct   \n",
       "3                [253]                             [13.95]       Direct   \n",
       "4             [244, 9]                        [4.74, 3.83]       Direct   \n",
       "\n",
       "   feature_length  \n",
       "0               4  \n",
       "1               5  \n",
       "2               5  \n",
       "3               1  \n",
       "4               2  "
      ]
     },
     "execution_count": 6,
     "metadata": {},
     "output_type": "execute_result"
    }
   ],
   "source": [
    "qt_df[\"feature_length\"] = qt_df.taxo.apply(len)\n",
    "qt_df.head()"
   ]
  },
  {
   "cell_type": "code",
   "execution_count": 9,
   "id": "cd4f3751",
   "metadata": {},
   "outputs": [
    {
     "data": {
      "text/plain": [
       "<Axes: xlabel='intent_label', ylabel='feature_length'>"
      ]
     },
     "execution_count": 9,
     "metadata": {},
     "output_type": "execute_result"
    },
    {
     "data": {
      "image/png": "[encoded data removed]",
      "text/plain": [
       "<Figure size 640x480 with 1 Axes>"
      ]
     },
     "metadata": {},
     "output_type": "display_data"
    }
   ],
   "source": [
    "sns.boxplot(x = qt_df.intent_label, y=np.log(qt_df.feature_length))"
   ]
  },
  {
   "cell_type": "code",
   "execution_count": 10,
   "id": "e31fc586",
   "metadata": {},
   "outputs": [
    {
     "data": {
      "text/plain": [
       "intent_label\n",
       "Direct       20658998\n",
       "Broad        11058952\n",
       "uncertain     6793194\n",
       "Name: count, dtype: int64"
      ]
     },
     "execution_count": 10,
     "metadata": {},
     "output_type": "execute_result"
    }
   ],
   "source": [
    "qt_df.intent_label.value_counts()"
   ]
  },
  {
   "cell_type": "code",
   "execution_count": 12,
   "id": "463a42ad",
   "metadata": {},
   "outputs": [],
   "source": [
    "feature_length_direct = qt_df[qt_df.intent_label == \"Direct\"].feature_length.values\n",
    "feature_length_broad = qt_df[qt_df.intent_label == \"Broad\"].feature_length.values"
   ]
  },
  {
   "cell_type": "code",
   "execution_count": 15,
   "id": "13e34f24",
   "metadata": {},
   "outputs": [
    {
     "data": {
      "text/plain": [
       "Ttest_indResult(statistic=-1321.0055614459802, pvalue=0.0)"
      ]
     },
     "execution_count": 15,
     "metadata": {},
     "output_type": "execute_result"
    }
   ],
   "source": [
    "ttest_ind(feature_length_direct, feature_length_broad, equal_var=False)"
   ]
  },
  {
   "cell_type": "code",
   "execution_count": 16,
   "id": "2aa6ddfc",
   "metadata": {},
   "outputs": [
    {
     "name": "stdout",
     "output_type": "stream",
     "text": [
      "1.0\n",
      "2.2431492079141497\n",
      "2.0\n",
      "5.4093466541856765\n"
     ]
    }
   ],
   "source": [
    "print(np.median(feature_length_direct))\n",
    "print(np.mean(feature_length_direct))\n",
    "print(np.median(feature_length_broad))\n",
    "print(np.mean(feature_length_broad))"
   ]
  },
  {
   "cell_type": "code",
   "execution_count": null,
   "id": "483dcdb3",
   "metadata": {},
   "outputs": [],
   "source": []
  },
  {
   "cell_type": "markdown",
   "id": "201ff7c3",
   "metadata": {},
   "source": [
    "# Empty strings in taxonomy"
   ]
  },
  {
   "cell_type": "markdown",
   "id": "02c57063",
   "metadata": {},
   "source": [
    "```sql\n",
    "with fl as (\n",
    "    select\n",
    "      attributions,\n",
    "      ctx.docInfo.queryInfo.query, \n",
    "      ctx.docInfo.queryInfo.queryTaxoDemandFeatures.*,\n",
    "    from `etsy-ml-systems-prod.attributed_instance.query_pipeline_web_organic_2023_07_16`, \n",
    "    unnest(contextualInfo) as ctx\n",
    "    where ctx.docInfo.queryInfo.query is not null\n",
    "    and (\n",
    "        \"\" in unnest(ctx.docInfo.queryInfo.queryTaxoDemandFeatures.purchaseLevel2TaxonomyPaths)\n",
    "        -- \"\" in unnest(ctx.docInfo.queryInfo.queryTaxoDemandFeatures.clickLevel2TaxonomyPaths)\n",
    "    )\n",
    "),\n",
    "query_gms as (\n",
    "  select query, sum(attributed_gms) as gms\n",
    "  from `etsy-data-warehouse-prod.search.query_sessions_new`\n",
    "  where _date = date('2023-07-16')\n",
    "  group by query\n",
    "),\n",
    "output_table as (\n",
    "  select fl.*, gms\n",
    "  from fl\n",
    "  left join query_gms\n",
    "  on fl.query = query_gms.query\n",
    "),\n",
    "tmp as (\n",
    "  select distinct query, gms\n",
    "  from output_table\n",
    ")\n",
    "select sum(gms) from tmp\n",
    "```"
   ]
  },
  {
   "cell_type": "markdown",
   "id": "222d5af0",
   "metadata": {},
   "source": [
    "+ total GMS 93662392\n",
    "+ queries with empty string in purchase taxos account for 7633958 GMS - 8.2%\n",
    "+ queries with empty string in click taxos account for 7633958 GMS - 27.0%\n",
    "+ union of purchase & click: 25728029 GMS - 27.5%"
   ]
  },
  {
   "cell_type": "code",
   "execution_count": null,
   "id": "e1bbfa69",
   "metadata": {},
   "outputs": [
    {
     "name": "stderr",
     "output_type": "stream",
     "text": [
      "Query complete after 0.02s: 100%|████████████| 5/5 [00:00<00:00, 1769.30query/s]\n",
      "Downloading:   0%|               | 27776/19662208 [00:47<4:23:24, 1242.30rows/s]IOStream.flush timed out\n",
      "Downloading:   0%|               | 30464/19662208 [01:05<21:20:01, 255.62rows/s]IOStream.flush timed out\n",
      "Downloading:   0%|               | 30464/19662208 [01:29<21:20:01, 255.62rows/s]IOStream.flush timed out\n",
      "IOStream.flush timed out\n"
     ]
    }
   ],
   "source": [
    "%%bigquery df\n",
    "select\n",
    "    attributions,\n",
    "    ctx.docInfo.queryInfo.query, \n",
    "    ctx.docInfo.queryInfo.queryTaxoDemandFeatures.*,\n",
    "from `etsy-ml-systems-prod.attributed_instance.query_pipeline_web_organic_2023_07_16`, \n",
    "unnest(contextualInfo) as ctx\n",
    "where ctx.docInfo.queryInfo.query is not null\n",
    "and (\n",
    "    \"\" in unnest(ctx.docInfo.queryInfo.queryTaxoDemandFeatures.purchaseLevel2TaxonomyPaths)\n",
    "    or \"\" in unnest(ctx.docInfo.queryInfo.queryTaxoDemandFeatures.clickLevel2TaxonomyPaths)\n",
    ")"
   ]
  },
  {
   "cell_type": "code",
   "execution_count": null,
   "id": "2aff56a0",
   "metadata": {},
   "outputs": [],
   "source": [
    "df.head()"
   ]
  },
  {
   "cell_type": "code",
   "execution_count": null,
   "id": "bbf035f4",
   "metadata": {},
   "outputs": [],
   "source": [
    "print(df.purchaseLevel2TaxonomyPaths[127])\n",
    "print(df.clickLevel2TaxonomyPaths[127])"
   ]
  },
  {
   "cell_type": "code",
   "execution_count": null,
   "id": "8904e325",
   "metadata": {},
   "outputs": [],
   "source": []
  }
 ],
 "metadata": {
  "kernelspec": {
   "display_name": "venv",
   "language": "python",
   "name": "venv"
  },
  "language_info": {
   "codemirror_mode": {
    "name": "ipython",
    "version": 3
   },
   "file_extension": ".py",
   "mimetype": "text/x-python",
   "name": "python",
   "nbconvert_exporter": "python",
   "pygments_lexer": "ipython3",
   "version": "3.8.9"
  }
 },
 "nbformat": 4,
 "nbformat_minor": 5
}
