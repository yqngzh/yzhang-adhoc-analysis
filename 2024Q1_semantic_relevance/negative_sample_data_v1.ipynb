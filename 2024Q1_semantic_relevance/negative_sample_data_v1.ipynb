{
 "cells": [
  {
   "cell_type": "code",
   "execution_count": 1,
   "id": "f6e45378-07c6-4ea5-b29c-2a933e86f200",
   "metadata": {},
   "outputs": [
    {
     "name": "stdout",
     "output_type": "stream",
     "text": [
      "WARNING:  Python 3.5-3.7 will be deprecated on August 8th, 2023. Please use Python version 3.8 and up.\n",
      "\n",
      "If you have a compatible Python interpreter installed, you can use it by setting\n",
      "the CLOUDSDK_PYTHON environment variable to point to it.\n",
      "\n",
      "Updated property [core/project].\n"
     ]
    }
   ],
   "source": [
    "!gcloud config set project etsy-bigquery-adhoc-prod"
   ]
  },
  {
   "cell_type": "code",
   "execution_count": 2,
   "id": "fed0caa8-41b4-44ed-aae8-a4e100f03491",
   "metadata": {},
   "outputs": [],
   "source": [
    "%load_ext google.cloud.bigquery"
   ]
  },
  {
   "cell_type": "code",
   "execution_count": 3,
   "id": "a70f8d98-19dd-4465-8aba-959b68673dc8",
   "metadata": {},
   "outputs": [],
   "source": [
    "import pandas as pd"
   ]
  },
  {
   "cell_type": "code",
   "execution_count": 4,
   "id": "0d37a22f-5d3e-469e-a81d-c7e06b75360d",
   "metadata": {},
   "outputs": [],
   "source": [
    "df = pd.read_csv(\"explicit_negatives.csv\")"
   ]
  },
  {
   "cell_type": "code",
   "execution_count": 5,
   "id": "99b76727-767b-41a0-a7cf-98e1e915e24e",
   "metadata": {},
   "outputs": [
    {
     "data": {
      "text/html": [
       "<div>\n",
       "<style scoped>\n",
       "    .dataframe tbody tr th:only-of-type {\n",
       "        vertical-align: middle;\n",
       "    }\n",
       "\n",
       "    .dataframe tbody tr th {\n",
       "        vertical-align: top;\n",
       "    }\n",
       "\n",
       "    .dataframe thead th {\n",
       "        text-align: right;\n",
       "    }\n",
       "</style>\n",
       "<table border=\"1\" class=\"dataframe\">\n",
       "  <thead>\n",
       "    <tr style=\"text-align: right;\">\n",
       "      <th></th>\n",
       "      <th>Unnamed: 0</th>\n",
       "      <th>Unnamed: 1</th>\n",
       "      <th>Unnamed: 2</th>\n",
       "      <th>Unnamed: 3</th>\n",
       "      <th>Unnamed: 4</th>\n",
       "    </tr>\n",
       "  </thead>\n",
       "  <tbody>\n",
       "    <tr>\n",
       "      <th>0</th>\n",
       "      <td>Gold Query Set</td>\n",
       "      <td>NaN</td>\n",
       "      <td>NaN</td>\n",
       "      <td>NaN</td>\n",
       "      <td>NaN</td>\n",
       "    </tr>\n",
       "    <tr>\n",
       "      <th>1</th>\n",
       "      <td>07/28/2023</td>\n",
       "      <td>Congzhe Su</td>\n",
       "      <td>travi scott rug</td>\n",
       "      <td>1.398464e+09</td>\n",
       "      <td>5677224.0</td>\n",
       "    </tr>\n",
       "    <tr>\n",
       "      <th>2</th>\n",
       "      <td>07/28/2023</td>\n",
       "      <td>Congzhe Su</td>\n",
       "      <td>wall art</td>\n",
       "      <td>7.501822e+08</td>\n",
       "      <td>6055794.0</td>\n",
       "    </tr>\n",
       "    <tr>\n",
       "      <th>3</th>\n",
       "      <td>07/28/2023</td>\n",
       "      <td>Congzhe Su</td>\n",
       "      <td>preppy</td>\n",
       "      <td>1.072823e+09</td>\n",
       "      <td>6901827.0</td>\n",
       "    </tr>\n",
       "    <tr>\n",
       "      <th>4</th>\n",
       "      <td>07/28/2023</td>\n",
       "      <td>Congzhe Su</td>\n",
       "      <td>rug</td>\n",
       "      <td>1.184896e+09</td>\n",
       "      <td>7803638.0</td>\n",
       "    </tr>\n",
       "  </tbody>\n",
       "</table>\n",
       "</div>"
      ],
      "text/plain": [
       "       Unnamed: 0  Unnamed: 1       Unnamed: 2    Unnamed: 3  Unnamed: 4\n",
       "0  Gold Query Set         NaN              NaN           NaN         NaN\n",
       "1      07/28/2023  Congzhe Su  travi scott rug  1.398464e+09   5677224.0\n",
       "2      07/28/2023  Congzhe Su         wall art  7.501822e+08   6055794.0\n",
       "3      07/28/2023  Congzhe Su           preppy  1.072823e+09   6901827.0\n",
       "4      07/28/2023  Congzhe Su              rug  1.184896e+09   7803638.0"
      ]
     },
     "execution_count": 5,
     "metadata": {},
     "output_type": "execute_result"
    }
   ],
   "source": [
    "df.head()"
   ]
  },
  {
   "cell_type": "code",
   "execution_count": 6,
   "id": "e1d01e2c-92fe-45e2-a265-8d5d7b69c39e",
   "metadata": {},
   "outputs": [],
   "source": [
    "df = df.drop(0)\n",
    "df.columns = [\"date\", \"reporter\", \"query\", \"listing_id\", \"shop_id\"]"
   ]
  },
  {
   "cell_type": "code",
   "execution_count": 7,
   "id": "1cfe1e27-22e4-4f84-9f54-739ca66aa5e3",
   "metadata": {},
   "outputs": [],
   "source": [
    "df = df[[\"query\", \"listing_id\"]]\n",
    "df.listing_id = df.listing_id.astype(int)"
   ]
  },
  {
   "cell_type": "code",
   "execution_count": 14,
   "id": "70daf4cd-3311-4bf4-9be8-0d1a6f1d1253",
   "metadata": {},
   "outputs": [
    {
     "data": {
      "text/html": [
       "<div>\n",
       "<style scoped>\n",
       "    .dataframe tbody tr th:only-of-type {\n",
       "        vertical-align: middle;\n",
       "    }\n",
       "\n",
       "    .dataframe tbody tr th {\n",
       "        vertical-align: top;\n",
       "    }\n",
       "\n",
       "    .dataframe thead th {\n",
       "        text-align: right;\n",
       "    }\n",
       "</style>\n",
       "<table border=\"1\" class=\"dataframe\">\n",
       "  <thead>\n",
       "    <tr style=\"text-align: right;\">\n",
       "      <th></th>\n",
       "      <th>query</th>\n",
       "      <th>listing_id</th>\n",
       "    </tr>\n",
       "  </thead>\n",
       "  <tbody>\n",
       "    <tr>\n",
       "      <th>1</th>\n",
       "      <td>travi scott rug</td>\n",
       "      <td>1398463810</td>\n",
       "    </tr>\n",
       "    <tr>\n",
       "      <th>2</th>\n",
       "      <td>wall art</td>\n",
       "      <td>750182200</td>\n",
       "    </tr>\n",
       "    <tr>\n",
       "      <th>3</th>\n",
       "      <td>preppy</td>\n",
       "      <td>1072822761</td>\n",
       "    </tr>\n",
       "    <tr>\n",
       "      <th>4</th>\n",
       "      <td>rug</td>\n",
       "      <td>1184895686</td>\n",
       "    </tr>\n",
       "    <tr>\n",
       "      <th>5</th>\n",
       "      <td>wall art</td>\n",
       "      <td>1184895686</td>\n",
       "    </tr>\n",
       "  </tbody>\n",
       "</table>\n",
       "</div>"
      ],
      "text/plain": [
       "             query  listing_id\n",
       "1  travi scott rug  1398463810\n",
       "2         wall art   750182200\n",
       "3           preppy  1072822761\n",
       "4              rug  1184895686\n",
       "5         wall art  1184895686"
      ]
     },
     "execution_count": 14,
     "metadata": {},
     "output_type": "execute_result"
    }
   ],
   "source": [
    "df.head()"
   ]
  },
  {
   "cell_type": "code",
   "execution_count": 19,
   "id": "8b168386-b4de-4587-b43a-9b2b50ebb3eb",
   "metadata": {},
   "outputs": [
    {
     "data": {
      "text/plain": [
       "(4601, 2)"
      ]
     },
     "execution_count": 19,
     "metadata": {},
     "output_type": "execute_result"
    }
   ],
   "source": [
    "df.shape"
   ]
  },
  {
   "cell_type": "code",
   "execution_count": 9,
   "id": "e1862df1-cb50-4766-80c8-3fb034a67c68",
   "metadata": {},
   "outputs": [
    {
     "data": {
      "text/html": [
       "<div>\n",
       "<style scoped>\n",
       "    .dataframe tbody tr th:only-of-type {\n",
       "        vertical-align: middle;\n",
       "    }\n",
       "\n",
       "    .dataframe tbody tr th {\n",
       "        vertical-align: top;\n",
       "    }\n",
       "\n",
       "    .dataframe thead th {\n",
       "        text-align: right;\n",
       "    }\n",
       "</style>\n",
       "<table border=\"1\" class=\"dataframe\">\n",
       "  <thead>\n",
       "    <tr style=\"text-align: right;\">\n",
       "      <th></th>\n",
       "      <th>query</th>\n",
       "    </tr>\n",
       "    <tr>\n",
       "      <th>listing_id</th>\n",
       "      <th></th>\n",
       "    </tr>\n",
       "  </thead>\n",
       "  <tbody>\n",
       "    <tr>\n",
       "      <th>1189955105</th>\n",
       "      <td>1090</td>\n",
       "    </tr>\n",
       "    <tr>\n",
       "      <th>1430225274</th>\n",
       "      <td>583</td>\n",
       "    </tr>\n",
       "    <tr>\n",
       "      <th>1347295099</th>\n",
       "      <td>460</td>\n",
       "    </tr>\n",
       "    <tr>\n",
       "      <th>1023099765</th>\n",
       "      <td>431</td>\n",
       "    </tr>\n",
       "    <tr>\n",
       "      <th>1420407748</th>\n",
       "      <td>250</td>\n",
       "    </tr>\n",
       "    <tr>\n",
       "      <th>1418810594</th>\n",
       "      <td>137</td>\n",
       "    </tr>\n",
       "    <tr>\n",
       "      <th>1503671388</th>\n",
       "      <td>74</td>\n",
       "    </tr>\n",
       "    <tr>\n",
       "      <th>1203360316</th>\n",
       "      <td>67</td>\n",
       "    </tr>\n",
       "    <tr>\n",
       "      <th>1430837875</th>\n",
       "      <td>61</td>\n",
       "    </tr>\n",
       "    <tr>\n",
       "      <th>1101251216</th>\n",
       "      <td>53</td>\n",
       "    </tr>\n",
       "    <tr>\n",
       "      <th>1222776723</th>\n",
       "      <td>50</td>\n",
       "    </tr>\n",
       "    <tr>\n",
       "      <th>1430096165</th>\n",
       "      <td>48</td>\n",
       "    </tr>\n",
       "    <tr>\n",
       "      <th>1209425910</th>\n",
       "      <td>46</td>\n",
       "    </tr>\n",
       "    <tr>\n",
       "      <th>1372390868</th>\n",
       "      <td>44</td>\n",
       "    </tr>\n",
       "    <tr>\n",
       "      <th>745699350</th>\n",
       "      <td>34</td>\n",
       "    </tr>\n",
       "    <tr>\n",
       "      <th>1325402338</th>\n",
       "      <td>34</td>\n",
       "    </tr>\n",
       "    <tr>\n",
       "      <th>1247427236</th>\n",
       "      <td>33</td>\n",
       "    </tr>\n",
       "    <tr>\n",
       "      <th>1306170838</th>\n",
       "      <td>31</td>\n",
       "    </tr>\n",
       "    <tr>\n",
       "      <th>1446932352</th>\n",
       "      <td>27</td>\n",
       "    </tr>\n",
       "    <tr>\n",
       "      <th>1480658679</th>\n",
       "      <td>24</td>\n",
       "    </tr>\n",
       "  </tbody>\n",
       "</table>\n",
       "</div>"
      ],
      "text/plain": [
       "            query\n",
       "listing_id       \n",
       "1189955105   1090\n",
       "1430225274    583\n",
       "1347295099    460\n",
       "1023099765    431\n",
       "1420407748    250\n",
       "1418810594    137\n",
       "1503671388     74\n",
       "1203360316     67\n",
       "1430837875     61\n",
       "1101251216     53\n",
       "1222776723     50\n",
       "1430096165     48\n",
       "1209425910     46\n",
       "1372390868     44\n",
       "745699350      34\n",
       "1325402338     34\n",
       "1247427236     33\n",
       "1306170838     31\n",
       "1446932352     27\n",
       "1480658679     24"
      ]
     },
     "execution_count": 9,
     "metadata": {},
     "output_type": "execute_result"
    }
   ],
   "source": [
    "df.groupby(\"listing_id\").count().sort_values(\"query\", ascending=False).head(n=20)"
   ]
  },
  {
   "cell_type": "code",
   "execution_count": 13,
   "id": "956e27a5-f1b1-4736-92da-3af7c2d26b9c",
   "metadata": {},
   "outputs": [],
   "source": [
    "queries = list(set([\n",
    "    \"lemon eye\",\n",
    "    \"sourdough starter\",\n",
    "    \"cyberpunk 2077\",\n",
    "    \"apollo statue\",\n",
    "    \"door harp\",\n",
    "    \"goblin slayer armor\",\n",
    "    \"sailor jupiter\",\n",
    "    \"tin fish plate\",\n",
    "    \"dream catcher\",\n",
    "    \"moon phase wall art\",\n",
    "    \"short curtains\",\n",
    "    \"Mindfulness Creative Kits\",\n",
    "    \"crystals and herbs\",\n",
    "    \"norse jewelry\",\n",
    "    \"laufey photocards\",\n",
    "    \"boho skirts\",\n",
    "    \"maximalist decor\",\n",
    "    \"oil lamp\",\n",
    "    \"vanity shelf\",\n",
    "    \"reading lamp\",\n",
    "    \"spice rack\",\n",
    "    \"carnelian\",\n",
    "    \"paramore tshirt\",\n",
    "    \"wall tapestry\",\n",
    "    \"safety keychain set\",\n",
    "    \"moonstone\",\n",
    "    \"butter dish\",\n",
    "    \"linen skirt\",\n",
    "    \"vampire\",\n",
    "    \"candle stick holders\",\n",
    "    \"skull necklace\",\n",
    "    \"mushroom shelf\",\n",
    "    \"furniture\",\n",
    "    \"vase\",\n",
    "    \"dome chandelier\",\n",
    "    \"80s prom\",\n",
    "    \"mid century modern furniture\",\n",
    "    \"pizza\",\n",
    "]))\n",
    "\n",
    "listings = [\n",
    "    1532898330,\n",
    "    1581863927\n",
    "]"
   ]
  },
  {
   "cell_type": "markdown",
   "id": "b0bca584-739f-4a5c-8dc8-fda53a3f2f77",
   "metadata": {},
   "source": [
    "How I picked queries above: \n",
    "- print out 3-days of search training data query listing pairs, get queries if listing is one of the three-witches listings\n",
    "- limit to queries that are not relevant to witch\n",
    "- verify on etsy search results to see if I observe the listing\n",
    "- add examples from search-feedback"
   ]
  },
  {
   "cell_type": "code",
   "execution_count": 15,
   "id": "9b3a82b9-4f17-4e61-b1f4-e5f6ea79923d",
   "metadata": {},
   "outputs": [],
   "source": [
    "full_queries = queries + queries\n",
    "full_listings = [1532898330] * len(queries) + [1581863927] * len(queries)\n",
    "three_witches_df = pd.DataFrame({\"query\": full_queries, \"listing_id\": full_listings})"
   ]
  },
  {
   "cell_type": "code",
   "execution_count": 16,
   "id": "896b645c-58c7-4874-99be-e2037445beae",
   "metadata": {},
   "outputs": [
    {
     "data": {
      "text/html": [
       "<div>\n",
       "<style scoped>\n",
       "    .dataframe tbody tr th:only-of-type {\n",
       "        vertical-align: middle;\n",
       "    }\n",
       "\n",
       "    .dataframe tbody tr th {\n",
       "        vertical-align: top;\n",
       "    }\n",
       "\n",
       "    .dataframe thead th {\n",
       "        text-align: right;\n",
       "    }\n",
       "</style>\n",
       "<table border=\"1\" class=\"dataframe\">\n",
       "  <thead>\n",
       "    <tr style=\"text-align: right;\">\n",
       "      <th></th>\n",
       "      <th>query</th>\n",
       "      <th>listing_id</th>\n",
       "    </tr>\n",
       "  </thead>\n",
       "  <tbody>\n",
       "    <tr>\n",
       "      <th>0</th>\n",
       "      <td>candle stick holders</td>\n",
       "      <td>1532898330</td>\n",
       "    </tr>\n",
       "    <tr>\n",
       "      <th>1</th>\n",
       "      <td>Mindfulness Creative Kits</td>\n",
       "      <td>1532898330</td>\n",
       "    </tr>\n",
       "    <tr>\n",
       "      <th>2</th>\n",
       "      <td>oil lamp</td>\n",
       "      <td>1532898330</td>\n",
       "    </tr>\n",
       "    <tr>\n",
       "      <th>3</th>\n",
       "      <td>reading lamp</td>\n",
       "      <td>1532898330</td>\n",
       "    </tr>\n",
       "    <tr>\n",
       "      <th>4</th>\n",
       "      <td>skull necklace</td>\n",
       "      <td>1532898330</td>\n",
       "    </tr>\n",
       "  </tbody>\n",
       "</table>\n",
       "</div>"
      ],
      "text/plain": [
       "                       query  listing_id\n",
       "0       candle stick holders  1532898330\n",
       "1  Mindfulness Creative Kits  1532898330\n",
       "2                   oil lamp  1532898330\n",
       "3               reading lamp  1532898330\n",
       "4             skull necklace  1532898330"
      ]
     },
     "execution_count": 16,
     "metadata": {},
     "output_type": "execute_result"
    }
   ],
   "source": [
    "three_witches_df.head()"
   ]
  },
  {
   "cell_type": "code",
   "execution_count": 18,
   "id": "52e01fe7-2ec6-4e4c-b0ef-0dd521715975",
   "metadata": {},
   "outputs": [
    {
     "data": {
      "text/plain": [
       "(76, 2)"
      ]
     },
     "execution_count": 18,
     "metadata": {},
     "output_type": "execute_result"
    }
   ],
   "source": [
    "three_witches_df.shape"
   ]
  },
  {
   "cell_type": "code",
   "execution_count": 17,
   "id": "d12607e2-492b-47cf-9350-ff1df458e62f",
   "metadata": {},
   "outputs": [],
   "source": [
    "negative_df = pd.concat([df, three_witches_df])"
   ]
  },
  {
   "cell_type": "code",
   "execution_count": 20,
   "id": "23f6e8c3-3b0c-4f14-a75f-cd177b18f940",
   "metadata": {},
   "outputs": [
    {
     "data": {
      "text/plain": [
       "(4677, 2)"
      ]
     },
     "execution_count": 20,
     "metadata": {},
     "output_type": "execute_result"
    }
   ],
   "source": [
    "negative_df.shape"
   ]
  },
  {
   "cell_type": "code",
   "execution_count": 21,
   "id": "b52f3819-eef7-452c-be74-549ecd86a206",
   "metadata": {},
   "outputs": [],
   "source": [
    "negative_df.to_csv(\"semantic_relevance_negatives.csv\")"
   ]
  },
  {
   "cell_type": "code",
   "execution_count": null,
   "id": "fc1d06b4-0189-4bd1-b413-323e6c5e512a",
   "metadata": {},
   "outputs": [],
   "source": []
  }
 ],
 "metadata": {
  "kernelspec": {
   "display_name": "venv",
   "language": "python",
   "name": "venv"
  },
  "language_info": {
   "codemirror_mode": {
    "name": "ipython",
    "version": 3
   },
   "file_extension": ".py",
   "mimetype": "text/x-python",
   "name": "python",
   "nbconvert_exporter": "python",
   "pygments_lexer": "ipython3",
   "version": "3.10.1"
  }
 },
 "nbformat": 4,
 "nbformat_minor": 5
}
