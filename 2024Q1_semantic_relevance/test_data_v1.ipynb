{
 "cells": [
  {
   "cell_type": "code",
   "execution_count": 1,
   "id": "c803a169-89ca-4900-baed-dc5f3eb8ffc0",
   "metadata": {},
   "outputs": [],
   "source": [
    "import pandas as pd"
   ]
  },
  {
   "cell_type": "code",
   "execution_count": 2,
   "id": "64f36322-98fb-464f-bbe9-2d8485e90c4e",
   "metadata": {},
   "outputs": [],
   "source": [
    "human_anno_test = pd.read_excel(\"./annotation_dataset_test_v1.xlsx\")"
   ]
  },
  {
   "cell_type": "code",
   "execution_count": 3,
   "id": "aeba0ae0-6562-4b78-9cbd-749738d5ca45",
   "metadata": {},
   "outputs": [
    {
     "data": {
      "text/plain": [
       "(2905, 23)"
      ]
     },
     "execution_count": 3,
     "metadata": {},
     "output_type": "execute_result"
    }
   ],
   "source": [
    "human_anno_test.shape"
   ]
  },
  {
   "cell_type": "code",
   "execution_count": 4,
   "id": "5f661659-ee2b-4e70-a5a3-76446f0e896b",
   "metadata": {},
   "outputs": [
    {
     "data": {
      "text/html": [
       "<div>\n",
       "<style scoped>\n",
       "    .dataframe tbody tr th:only-of-type {\n",
       "        vertical-align: middle;\n",
       "    }\n",
       "\n",
       "    .dataframe tbody tr th {\n",
       "        vertical-align: top;\n",
       "    }\n",
       "\n",
       "    .dataframe thead th {\n",
       "        text-align: right;\n",
       "    }\n",
       "</style>\n",
       "<table border=\"1\" class=\"dataframe\">\n",
       "  <thead>\n",
       "    <tr style=\"text-align: right;\">\n",
       "      <th></th>\n",
       "      <th>Unnamed: 0</th>\n",
       "      <th>etsy_uuid</th>\n",
       "      <th>listingId</th>\n",
       "      <th>query</th>\n",
       "      <th>platform</th>\n",
       "      <th>bin</th>\n",
       "      <th>taxonomy</th>\n",
       "      <th>title</th>\n",
       "      <th>bordaRank</th>\n",
       "      <th>finalRank</th>\n",
       "      <th>...</th>\n",
       "      <th>tags</th>\n",
       "      <th>title_1</th>\n",
       "      <th>verticaListingTranslations_primaryLanguageTitle</th>\n",
       "      <th>labels</th>\n",
       "      <th>agreedLabel</th>\n",
       "      <th>majorityLabel</th>\n",
       "      <th>etsy_label</th>\n",
       "      <th>gold_label</th>\n",
       "      <th>is_test</th>\n",
       "      <th>is_ranking_uuid</th>\n",
       "    </tr>\n",
       "  </thead>\n",
       "  <tbody>\n",
       "    <tr>\n",
       "      <th>0</th>\n",
       "      <td>180</td>\n",
       "      <td>Eu-S4SRvKeFp7_iq6o5vj--oTff7</td>\n",
       "      <td>184185194</td>\n",
       "      <td>royal purple</td>\n",
       "      <td>boe</td>\n",
       "      <td>head</td>\n",
       "      <td>weddings.clothing.dresses</td>\n",
       "      <td>10 Pcs 8-10&amp;quot; 10-12&amp;quot; 12-14&amp;quot; 14-1...</td>\n",
       "      <td>27</td>\n",
       "      <td>601</td>\n",
       "      <td>...</td>\n",
       "      <td>.centerpieces.bridal.wedding.feathers.ostrich....</td>\n",
       "      <td>10 Pcs 8-10&amp;quot; 10-12&amp;quot; 12-14&amp;quot; 14-1...</td>\n",
       "      <td>NaN</td>\n",
       "      <td>[1, 1, 1]</td>\n",
       "      <td>1.0</td>\n",
       "      <td>1.0</td>\n",
       "      <td>NaN</td>\n",
       "      <td>1</td>\n",
       "      <td>True</td>\n",
       "      <td>True</td>\n",
       "    </tr>\n",
       "    <tr>\n",
       "      <th>1</th>\n",
       "      <td>181</td>\n",
       "      <td>Eu-S4SRvKeFp7_iq6o5vj--oTff7</td>\n",
       "      <td>227662738</td>\n",
       "      <td>royal purple</td>\n",
       "      <td>boe</td>\n",
       "      <td>head</td>\n",
       "      <td>weddings.clothing.dresses</td>\n",
       "      <td>100 pcs purple ostrich feather plumes for wedd...</td>\n",
       "      <td>121</td>\n",
       "      <td>254</td>\n",
       "      <td>...</td>\n",
       "      <td>.wedding centerpiece.wedding deocr.table cente...</td>\n",
       "      <td>100 pcs purple ostrich feather plumes for wedd...</td>\n",
       "      <td>NaN</td>\n",
       "      <td>[4, 4, 1]</td>\n",
       "      <td>NaN</td>\n",
       "      <td>4.0</td>\n",
       "      <td>NaN</td>\n",
       "      <td>4</td>\n",
       "      <td>True</td>\n",
       "      <td>True</td>\n",
       "    </tr>\n",
       "    <tr>\n",
       "      <th>2</th>\n",
       "      <td>182</td>\n",
       "      <td>Eu-S4SRvKeFp7_iq6o5vj--oTff7</td>\n",
       "      <td>651859700</td>\n",
       "      <td>royal purple</td>\n",
       "      <td>boe</td>\n",
       "      <td>head</td>\n",
       "      <td>weddings.clothing.dresses</td>\n",
       "      <td>Royal Purple Hand Spun Merino Wool, DK / Worst...</td>\n",
       "      <td>77</td>\n",
       "      <td>44</td>\n",
       "      <td>...</td>\n",
       "      <td>.Handspun Yarn.Hand Spun Yarn.Purple Hand Spun...</td>\n",
       "      <td>Royal Purple Hand Spun Merino Wool, DK / Worst...</td>\n",
       "      <td>NaN</td>\n",
       "      <td>[4, 4, 4]</td>\n",
       "      <td>4.0</td>\n",
       "      <td>4.0</td>\n",
       "      <td>NaN</td>\n",
       "      <td>4</td>\n",
       "      <td>True</td>\n",
       "      <td>True</td>\n",
       "    </tr>\n",
       "    <tr>\n",
       "      <th>3</th>\n",
       "      <td>183</td>\n",
       "      <td>Eu-S4SRvKeFp7_iq6o5vj--oTff7</td>\n",
       "      <td>731666840</td>\n",
       "      <td>royal purple</td>\n",
       "      <td>boe</td>\n",
       "      <td>head</td>\n",
       "      <td>weddings.clothing.dresses</td>\n",
       "      <td>TRICORN &amp;quot;BATHORY&amp;quot; Royal Purple Hat f...</td>\n",
       "      <td>132</td>\n",
       "      <td>271</td>\n",
       "      <td>...</td>\n",
       "      <td>.tricorne hat.purple hat.steampunk hat.purple ...</td>\n",
       "      <td>TRICORN &amp;quot;BATHORY&amp;quot; Royal Purple Hat f...</td>\n",
       "      <td>NaN</td>\n",
       "      <td>[4, 4, 4]</td>\n",
       "      <td>4.0</td>\n",
       "      <td>4.0</td>\n",
       "      <td>NaN</td>\n",
       "      <td>4</td>\n",
       "      <td>True</td>\n",
       "      <td>True</td>\n",
       "    </tr>\n",
       "    <tr>\n",
       "      <th>4</th>\n",
       "      <td>185</td>\n",
       "      <td>Eu-S4SRvKeFp7_iq6o5vj--oTff7</td>\n",
       "      <td>881161512</td>\n",
       "      <td>royal purple</td>\n",
       "      <td>boe</td>\n",
       "      <td>head</td>\n",
       "      <td>weddings.clothing.dresses</td>\n",
       "      <td>Fanya Kaftan Dress ( Royal Dark purple )// kaf...</td>\n",
       "      <td>0</td>\n",
       "      <td>643</td>\n",
       "      <td>...</td>\n",
       "      <td>.Kaftan.Wedding.Babyshower.Bridal.Bridesmaids....</td>\n",
       "      <td>Fanya Kaftan Dress ( Royal Dark purple )// kaf...</td>\n",
       "      <td>NaN</td>\n",
       "      <td>[4, 4, 4]</td>\n",
       "      <td>4.0</td>\n",
       "      <td>4.0</td>\n",
       "      <td>NaN</td>\n",
       "      <td>4</td>\n",
       "      <td>True</td>\n",
       "      <td>True</td>\n",
       "    </tr>\n",
       "  </tbody>\n",
       "</table>\n",
       "<p>5 rows × 23 columns</p>\n",
       "</div>"
      ],
      "text/plain": [
       "   Unnamed: 0                     etsy_uuid  listingId         query platform  \\\n",
       "0         180  Eu-S4SRvKeFp7_iq6o5vj--oTff7  184185194  royal purple      boe   \n",
       "1         181  Eu-S4SRvKeFp7_iq6o5vj--oTff7  227662738  royal purple      boe   \n",
       "2         182  Eu-S4SRvKeFp7_iq6o5vj--oTff7  651859700  royal purple      boe   \n",
       "3         183  Eu-S4SRvKeFp7_iq6o5vj--oTff7  731666840  royal purple      boe   \n",
       "4         185  Eu-S4SRvKeFp7_iq6o5vj--oTff7  881161512  royal purple      boe   \n",
       "\n",
       "    bin                   taxonomy  \\\n",
       "0  head  weddings.clothing.dresses   \n",
       "1  head  weddings.clothing.dresses   \n",
       "2  head  weddings.clothing.dresses   \n",
       "3  head  weddings.clothing.dresses   \n",
       "4  head  weddings.clothing.dresses   \n",
       "\n",
       "                                               title  bordaRank  finalRank  \\\n",
       "0  10 Pcs 8-10&quot; 10-12&quot; 12-14&quot; 14-1...         27        601   \n",
       "1  100 pcs purple ostrich feather plumes for wedd...        121        254   \n",
       "2  Royal Purple Hand Spun Merino Wool, DK / Worst...         77         44   \n",
       "3  TRICORN &quot;BATHORY&quot; Royal Purple Hat f...        132        271   \n",
       "4  Fanya Kaftan Dress ( Royal Dark purple )// kaf...          0        643   \n",
       "\n",
       "   ...                                               tags  \\\n",
       "0  ...  .centerpieces.bridal.wedding.feathers.ostrich....   \n",
       "1  ...  .wedding centerpiece.wedding deocr.table cente...   \n",
       "2  ...  .Handspun Yarn.Hand Spun Yarn.Purple Hand Spun...   \n",
       "3  ...  .tricorne hat.purple hat.steampunk hat.purple ...   \n",
       "4  ...  .Kaftan.Wedding.Babyshower.Bridal.Bridesmaids....   \n",
       "\n",
       "                                             title_1  \\\n",
       "0  10 Pcs 8-10&quot; 10-12&quot; 12-14&quot; 14-1...   \n",
       "1  100 pcs purple ostrich feather plumes for wedd...   \n",
       "2  Royal Purple Hand Spun Merino Wool, DK / Worst...   \n",
       "3  TRICORN &quot;BATHORY&quot; Royal Purple Hat f...   \n",
       "4  Fanya Kaftan Dress ( Royal Dark purple )// kaf...   \n",
       "\n",
       "  verticaListingTranslations_primaryLanguageTitle     labels agreedLabel  \\\n",
       "0                                             NaN  [1, 1, 1]         1.0   \n",
       "1                                             NaN  [4, 4, 1]         NaN   \n",
       "2                                             NaN  [4, 4, 4]         4.0   \n",
       "3                                             NaN  [4, 4, 4]         4.0   \n",
       "4                                             NaN  [4, 4, 4]         4.0   \n",
       "\n",
       "  majorityLabel etsy_label  gold_label  is_test  is_ranking_uuid  \n",
       "0           1.0        NaN           1     True             True  \n",
       "1           4.0        NaN           4     True             True  \n",
       "2           4.0        NaN           4     True             True  \n",
       "3           4.0        NaN           4     True             True  \n",
       "4           4.0        NaN           4     True             True  \n",
       "\n",
       "[5 rows x 23 columns]"
      ]
     },
     "execution_count": 4,
     "metadata": {},
     "output_type": "execute_result"
    }
   ],
   "source": [
    "human_anno_test.head()"
   ]
  },
  {
   "cell_type": "code",
   "execution_count": 5,
   "id": "8c2e579e-1352-4ad0-aaff-5ef3240d84a5",
   "metadata": {},
   "outputs": [
    {
     "data": {
      "text/plain": [
       "True     2357\n",
       "False     548\n",
       "Name: is_ranking_uuid, dtype: int64"
      ]
     },
     "execution_count": 5,
     "metadata": {},
     "output_type": "execute_result"
    }
   ],
   "source": [
    "human_anno_test.is_ranking_uuid.value_counts()"
   ]
  },
  {
   "cell_type": "code",
   "execution_count": 6,
   "id": "5c27493a-de9b-4935-9837-2e53d2cd941a",
   "metadata": {},
   "outputs": [],
   "source": [
    "uuid_df = human_anno_test[[\"etsy_uuid\", \"is_ranking_uuid\"]].drop_duplicates()"
   ]
  },
  {
   "cell_type": "code",
   "execution_count": 7,
   "id": "56106e01-9c72-4062-82cf-56f763fa079a",
   "metadata": {},
   "outputs": [
    {
     "data": {
      "text/plain": [
       "(151, 2)"
      ]
     },
     "execution_count": 7,
     "metadata": {},
     "output_type": "execute_result"
    }
   ],
   "source": [
    "uuid_df.shape"
   ]
  },
  {
   "cell_type": "code",
   "execution_count": 8,
   "id": "d63c1919-e755-4e6d-8fe5-820d779c53a7",
   "metadata": {},
   "outputs": [
    {
     "data": {
      "text/plain": [
       "151"
      ]
     },
     "execution_count": 8,
     "metadata": {},
     "output_type": "execute_result"
    }
   ],
   "source": [
    "len(uuid_df.etsy_uuid.unique())"
   ]
  },
  {
   "cell_type": "code",
   "execution_count": 9,
   "id": "ac1ffd5c-35e4-4c32-87d5-d660c986a192",
   "metadata": {},
   "outputs": [
    {
     "data": {
      "text/plain": [
       "True     123\n",
       "False     28\n",
       "Name: is_ranking_uuid, dtype: int64"
      ]
     },
     "execution_count": 9,
     "metadata": {},
     "output_type": "execute_result"
    }
   ],
   "source": [
    "uuid_df.is_ranking_uuid.value_counts()"
   ]
  },
  {
   "cell_type": "code",
   "execution_count": 12,
   "id": "0cf43470-3939-4679-a643-d24190ffb974",
   "metadata": {},
   "outputs": [],
   "source": [
    "test_data = human_anno_test[human_anno_test.is_ranking_uuid][[\"etsy_uuid\", \"query\", \"listingId\", \"gold_label\", \"labels\", \"agreedLabel\",\t\"majorityLabel\", \"etsy_label\"]]"
   ]
  },
  {
   "cell_type": "code",
   "execution_count": 13,
   "id": "ab4f9780-4490-4637-bdff-e1b4b151cc61",
   "metadata": {},
   "outputs": [
    {
     "data": {
      "text/html": [
       "<div>\n",
       "<style scoped>\n",
       "    .dataframe tbody tr th:only-of-type {\n",
       "        vertical-align: middle;\n",
       "    }\n",
       "\n",
       "    .dataframe tbody tr th {\n",
       "        vertical-align: top;\n",
       "    }\n",
       "\n",
       "    .dataframe thead th {\n",
       "        text-align: right;\n",
       "    }\n",
       "</style>\n",
       "<table border=\"1\" class=\"dataframe\">\n",
       "  <thead>\n",
       "    <tr style=\"text-align: right;\">\n",
       "      <th></th>\n",
       "      <th>etsy_uuid</th>\n",
       "      <th>query</th>\n",
       "      <th>listingId</th>\n",
       "      <th>gold_label</th>\n",
       "      <th>labels</th>\n",
       "      <th>agreedLabel</th>\n",
       "      <th>majorityLabel</th>\n",
       "      <th>etsy_label</th>\n",
       "    </tr>\n",
       "  </thead>\n",
       "  <tbody>\n",
       "    <tr>\n",
       "      <th>0</th>\n",
       "      <td>Eu-S4SRvKeFp7_iq6o5vj--oTff7</td>\n",
       "      <td>royal purple</td>\n",
       "      <td>184185194</td>\n",
       "      <td>1</td>\n",
       "      <td>[1, 1, 1]</td>\n",
       "      <td>1.0</td>\n",
       "      <td>1.0</td>\n",
       "      <td>NaN</td>\n",
       "    </tr>\n",
       "    <tr>\n",
       "      <th>1</th>\n",
       "      <td>Eu-S4SRvKeFp7_iq6o5vj--oTff7</td>\n",
       "      <td>royal purple</td>\n",
       "      <td>227662738</td>\n",
       "      <td>4</td>\n",
       "      <td>[4, 4, 1]</td>\n",
       "      <td>NaN</td>\n",
       "      <td>4.0</td>\n",
       "      <td>NaN</td>\n",
       "    </tr>\n",
       "    <tr>\n",
       "      <th>2</th>\n",
       "      <td>Eu-S4SRvKeFp7_iq6o5vj--oTff7</td>\n",
       "      <td>royal purple</td>\n",
       "      <td>651859700</td>\n",
       "      <td>4</td>\n",
       "      <td>[4, 4, 4]</td>\n",
       "      <td>4.0</td>\n",
       "      <td>4.0</td>\n",
       "      <td>NaN</td>\n",
       "    </tr>\n",
       "    <tr>\n",
       "      <th>3</th>\n",
       "      <td>Eu-S4SRvKeFp7_iq6o5vj--oTff7</td>\n",
       "      <td>royal purple</td>\n",
       "      <td>731666840</td>\n",
       "      <td>4</td>\n",
       "      <td>[4, 4, 4]</td>\n",
       "      <td>4.0</td>\n",
       "      <td>4.0</td>\n",
       "      <td>NaN</td>\n",
       "    </tr>\n",
       "    <tr>\n",
       "      <th>4</th>\n",
       "      <td>Eu-S4SRvKeFp7_iq6o5vj--oTff7</td>\n",
       "      <td>royal purple</td>\n",
       "      <td>881161512</td>\n",
       "      <td>4</td>\n",
       "      <td>[4, 4, 4]</td>\n",
       "      <td>4.0</td>\n",
       "      <td>4.0</td>\n",
       "      <td>NaN</td>\n",
       "    </tr>\n",
       "  </tbody>\n",
       "</table>\n",
       "</div>"
      ],
      "text/plain": [
       "                      etsy_uuid         query  listingId  gold_label  \\\n",
       "0  Eu-S4SRvKeFp7_iq6o5vj--oTff7  royal purple  184185194           1   \n",
       "1  Eu-S4SRvKeFp7_iq6o5vj--oTff7  royal purple  227662738           4   \n",
       "2  Eu-S4SRvKeFp7_iq6o5vj--oTff7  royal purple  651859700           4   \n",
       "3  Eu-S4SRvKeFp7_iq6o5vj--oTff7  royal purple  731666840           4   \n",
       "4  Eu-S4SRvKeFp7_iq6o5vj--oTff7  royal purple  881161512           4   \n",
       "\n",
       "      labels  agreedLabel  majorityLabel  etsy_label  \n",
       "0  [1, 1, 1]          1.0            1.0         NaN  \n",
       "1  [4, 4, 1]          NaN            4.0         NaN  \n",
       "2  [4, 4, 4]          4.0            4.0         NaN  \n",
       "3  [4, 4, 4]          4.0            4.0         NaN  \n",
       "4  [4, 4, 4]          4.0            4.0         NaN  "
      ]
     },
     "execution_count": 13,
     "metadata": {},
     "output_type": "execute_result"
    }
   ],
   "source": [
    "test_data.head()"
   ]
  },
  {
   "cell_type": "code",
   "execution_count": 14,
   "id": "03049197-47f1-49ed-b1d5-06dbf82a0606",
   "metadata": {},
   "outputs": [
    {
     "data": {
      "text/plain": [
       "(2357, 8)"
      ]
     },
     "execution_count": 14,
     "metadata": {},
     "output_type": "execute_result"
    }
   ],
   "source": [
    "test_data.shape"
   ]
  },
  {
   "cell_type": "code",
   "execution_count": 15,
   "id": "126633aa-fb63-46a1-8984-d0d71b66bf2d",
   "metadata": {},
   "outputs": [],
   "source": [
    "query_listing_df = test_data[[\"query\", \"listingId\"]].drop_duplicates()"
   ]
  },
  {
   "cell_type": "code",
   "execution_count": 16,
   "id": "a9abe59f-5951-46a9-8382-6b11440cf57d",
   "metadata": {},
   "outputs": [
    {
     "data": {
      "text/plain": [
       "(2357, 2)"
      ]
     },
     "execution_count": 16,
     "metadata": {},
     "output_type": "execute_result"
    }
   ],
   "source": [
    "query_listing_df.shape"
   ]
  },
  {
   "cell_type": "code",
   "execution_count": 18,
   "id": "09fce597-77c7-4dbf-a463-7c961682234d",
   "metadata": {},
   "outputs": [
    {
     "data": {
      "text/plain": [
       "123"
      ]
     },
     "execution_count": 18,
     "metadata": {},
     "output_type": "execute_result"
    }
   ],
   "source": [
    "len(test_data[\"query\"].unique())"
   ]
  },
  {
   "cell_type": "code",
   "execution_count": 19,
   "id": "d155c731-8aba-4eb3-8d01-668726ce7cd6",
   "metadata": {},
   "outputs": [
    {
     "data": {
      "text/plain": [
       "2353"
      ]
     },
     "execution_count": 19,
     "metadata": {},
     "output_type": "execute_result"
    }
   ],
   "source": [
    "len(test_data[\"listingId\"].unique())"
   ]
  },
  {
   "cell_type": "code",
   "execution_count": 20,
   "id": "a39ff64a-c1fb-4a7b-9143-23b46d39b4c5",
   "metadata": {},
   "outputs": [],
   "source": [
    "test_data.to_csv(\"./semantic_relevance_v1_test.csv\")"
   ]
  },
  {
   "cell_type": "code",
   "execution_count": null,
   "id": "62c25cd1-d8d6-4cd3-9895-33080529069e",
   "metadata": {},
   "outputs": [],
   "source": []
  }
 ],
 "metadata": {
  "kernelspec": {
   "display_name": "venv",
   "language": "python",
   "name": "venv"
  },
  "language_info": {
   "codemirror_mode": {
    "name": "ipython",
    "version": 3
   },
   "file_extension": ".py",
   "mimetype": "text/x-python",
   "name": "python",
   "nbconvert_exporter": "python",
   "pygments_lexer": "ipython3",
   "version": "3.10.1"
  }
 },
 "nbformat": 4,
 "nbformat_minor": 5
}
