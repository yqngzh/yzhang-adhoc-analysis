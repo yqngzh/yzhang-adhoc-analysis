{
 "cells": [
  {
   "cell_type": "code",
   "execution_count": 1,
   "id": "9156fa1e-164a-4665-859e-818b2cc3453c",
   "metadata": {},
   "outputs": [
    {
     "name": "stderr",
     "output_type": "stream",
     "text": [
      "2024-08-07 18:52:52.954560: I tensorflow/core/platform/cpu_feature_guard.cc:210] This TensorFlow binary is optimized to use available CPU instructions in performance-critical operations.\n",
      "To enable the following instructions: AVX2 FMA, in other operations, rebuild TensorFlow with the appropriate compiler flags.\n"
     ]
    }
   ],
   "source": [
    "import os\n",
    "from tqdm import tqdm\n",
    "import matplotlib.pyplot as plt\n",
    "\n",
    "import tensorflow as tf\n",
    "import tensorflow_hub as hub\n",
    "import tensorflow_models as tfm\n",
    "import tensorflow_text  # noqa"
   ]
  },
  {
   "cell_type": "code",
   "execution_count": 2,
   "id": "f5e6e25b-90fc-4727-987a-051a0a14bbc6",
   "metadata": {},
   "outputs": [],
   "source": [
    "%matplotlib inline"
   ]
  },
  {
   "cell_type": "code",
   "execution_count": 3,
   "id": "596329e0-de9b-4eaa-af30-32a5736ca8b2",
   "metadata": {},
   "outputs": [],
   "source": [
    "%load_ext google.cloud.bigquery"
   ]
  },
  {
   "cell_type": "code",
   "execution_count": 4,
   "id": "2d1fd1bb-8d7b-4908-80ce-777a07709166",
   "metadata": {},
   "outputs": [],
   "source": [
    "preprocessor_url = \"https://www.kaggle.com/models/tensorflow/bert/frameworks/TensorFlow2/variations/en-uncased-preprocess/versions/3\"\n",
    "\n",
    "preprocessor_dir = hub.compressed_module_resolver.HttpCompressedFileResolver()(preprocessor_url)\n",
    "tokenizer = tfm.nlp.layers.FastWordpieceBertTokenizer(\n",
    "    vocab_file=os.path.join(preprocessor_dir, \"assets/vocab.txt\"),\n",
    "    lower_case=True,\n",
    ")"
   ]
  },
  {
   "cell_type": "markdown",
   "id": "ebe68d49-d68e-4899-aafa-b03da7934319",
   "metadata": {},
   "source": [
    "# Title only"
   ]
  },
  {
   "cell_type": "code",
   "execution_count": 4,
   "id": "b04caae4-0f2d-4f07-968c-65a64dae530b",
   "metadata": {},
   "outputs": [
    {
     "data": {
      "application/vnd.jupyter.widget-view+json": {
       "model_id": "8482c09822644c66a938c9cc93b0cb04",
       "version_major": 2,
       "version_minor": 0
      },
      "text/plain": [
       "Query is running:   0%|          |"
      ]
     },
     "metadata": {},
     "output_type": "display_data"
    },
    {
     "data": {
      "application/vnd.jupyter.widget-view+json": {
       "model_id": "86b5df7b55de4832a01d024c463eb30d",
       "version_major": 2,
       "version_minor": 0
      },
      "text/plain": [
       "Downloading:   0%|          |"
      ]
     },
     "metadata": {},
     "output_type": "display_data"
    }
   ],
   "source": [
    "%%bigquery df\n",
    "with active_listing_titles as (\n",
    "  select distinct key as listing_id, verticaListings_title as titles \n",
    "  from `etsy-data-warehouse-prod.listing_mart.active_listing_vw`\n",
    "  join `etsy-ml-systems-prod.feature_bank_v2.listing_feature_bank_most_recent`\n",
    "  on key = listing_id\n",
    ")\n",
    "select * \n",
    "from active_listing_titles\n",
    "where titles is not null\n",
    "and titles != ''\n",
    "and rand() > 0.9\n",
    "limit 1000000"
   ]
  },
  {
   "cell_type": "code",
   "execution_count": 5,
   "id": "6a6f33ff-e11d-4805-9be0-e6a4a25f40b2",
   "metadata": {},
   "outputs": [
    {
     "data": {
      "text/plain": [
       "976"
      ]
     },
     "execution_count": 5,
     "metadata": {},
     "output_type": "execute_result"
    }
   ],
   "source": [
    "batch_size = 1024\n",
    "N_batches = df.shape[0] // batch_size\n",
    "N_batches"
   ]
  },
  {
   "cell_type": "code",
   "execution_count": 6,
   "id": "d26558db-8e45-4e99-aa15-dfbc6af5c0fc",
   "metadata": {},
   "outputs": [],
   "source": [
    "curr_titles = df[\"titles\"].values[0:3]\n",
    "tokens = tokenizer(tf.constant(curr_titles))"
   ]
  },
  {
   "cell_type": "code",
   "execution_count": 7,
   "id": "9d826bd7-bd9a-4c78-941e-fd16a70984da",
   "metadata": {},
   "outputs": [
    {
     "data": {
      "text/plain": [
       "'Surfing Lettering Wallart Orange Pink Surfboard Boho Surf Décoration Gift Decorative Art Boarding Wallart Typographic Poster Handpainted'"
      ]
     },
     "execution_count": 7,
     "metadata": {},
     "output_type": "execute_result"
    }
   ],
   "source": [
    "curr_titles[1]"
   ]
  },
  {
   "cell_type": "code",
   "execution_count": 8,
   "id": "ddc20141-7bed-458a-85ec-ff38314a95ad",
   "metadata": {},
   "outputs": [
    {
     "data": {
      "text/plain": [
       "<tf.RaggedTensor [[19967], [25782], [2813, 8445], [4589], [5061], [14175, 6277],\n",
       " [8945, 6806], [14175], [11446], [5592], [11584], [2396], [9405],\n",
       " [2813, 8445], [5939, 6873, 14773], [13082], [2192, 4502, 18447, 2098]]>"
      ]
     },
     "execution_count": 8,
     "metadata": {},
     "output_type": "execute_result"
    }
   ],
   "source": [
    "tokens[1,:,:]"
   ]
  },
  {
   "cell_type": "code",
   "execution_count": 9,
   "id": "29c2d9e4-0bcf-4f28-8fec-6e9ef328c83f",
   "metadata": {},
   "outputs": [
    {
     "data": {
      "text/plain": [
       "<tf.Tensor: shape=(26,), dtype=int32, numpy=\n",
       "array([19967, 25782,  2813,  8445,  4589,  5061, 14175,  6277,  8945,\n",
       "        6806, 14175, 11446,  5592, 11584,  2396,  9405,  2813,  8445,\n",
       "        5939,  6873, 14773, 13082,  2192,  4502, 18447,  2098],\n",
       "      dtype=int32)>"
      ]
     },
     "execution_count": 9,
     "metadata": {},
     "output_type": "execute_result"
    }
   ],
   "source": [
    "tf.reshape(tokens[1,:,:], [-1])"
   ]
  },
  {
   "cell_type": "code",
   "execution_count": 10,
   "id": "f4242cb3-9a95-43a1-8fe7-a02bc76b0e4d",
   "metadata": {},
   "outputs": [
    {
     "name": "stderr",
     "output_type": "stream",
     "text": [
      "100%|████████████████████████████████████████████████████████████████████████████████████████████████████████████████| 977/977 [12:36<00:00,  1.29it/s]\n"
     ]
    }
   ],
   "source": [
    "token_lengths_seq = []\n",
    "\n",
    "for i in tqdm(range(N_batches+1)):\n",
    "    start_idx = i * batch_size\n",
    "    end_idx = min((i+1) * batch_size, df.shape[0])\n",
    "    curr_titles = df[\"titles\"].values[start_idx:end_idx]\n",
    "    tokens = tokenizer(tf.constant(curr_titles))\n",
    "    token_lengths = tf.map_fn(\n",
    "        lambda x: tf.reshape(x, [-1]).shape[0], \n",
    "        tokens, \n",
    "        fn_output_signature=tf.int32\n",
    "    )\n",
    "    token_lengths_seq.extend(token_lengths.numpy())"
   ]
  },
  {
   "cell_type": "code",
   "execution_count": 14,
   "id": "57f32b93-dd37-4d3d-b191-b4cc82cc734f",
   "metadata": {},
   "outputs": [
    {
     "data": {
      "text/plain": [
       "1000000"
      ]
     },
     "execution_count": 14,
     "metadata": {},
     "output_type": "execute_result"
    }
   ],
   "source": [
    "len(token_lengths_seq)"
   ]
  },
  {
   "cell_type": "code",
   "execution_count": 15,
   "id": "40cdbbcb-bb94-411d-8b13-a9a09448345d",
   "metadata": {},
   "outputs": [],
   "source": [
    "df[\"seq_length\"] = token_lengths_seq"
   ]
  },
  {
   "cell_type": "code",
   "execution_count": 6,
   "id": "60284b14-3412-4fb4-afde-c8685df31853",
   "metadata": {},
   "outputs": [
    {
     "data": {
      "text/plain": [
       "count    1000000.000000\n",
       "mean          21.555826\n",
       "std           10.205466\n",
       "min            1.000000\n",
       "25%           13.000000\n",
       "50%           23.000000\n",
       "75%           29.000000\n",
       "max          151.000000\n",
       "Name: seq_length, dtype: float64"
      ]
     },
     "execution_count": 6,
     "metadata": {},
     "output_type": "execute_result"
    }
   ],
   "source": [
    "df.seq_length.describe()"
   ]
  },
  {
   "cell_type": "code",
   "execution_count": 7,
   "id": "e38c5db0-8663-4414-9d4e-144d09060257",
   "metadata": {},
   "outputs": [
    {
     "data": {
      "image/png": "[encoded data removed]",
      "text/plain": [
       "<Figure size 640x480 with 1 Axes>"
      ]
     },
     "metadata": {},
     "output_type": "display_data"
    }
   ],
   "source": [
    "plt.hist(df.seq_length, bins=50)\n",
    "plt.show()"
   ]
  },
  {
   "cell_type": "code",
   "execution_count": 14,
   "id": "8eb861dd-2305-4f9a-973c-4f4f9467ec67",
   "metadata": {},
   "outputs": [
    {
     "data": {
      "text/plain": [
       "'Rutile Quartz Necklace, Genuine Tourmaline Quartz, Black Clear, Silver Tourmaline Pendant, Tourmaline in Quartz, Gemstone Appeal'"
      ]
     },
     "execution_count": 14,
     "metadata": {},
     "output_type": "execute_result"
    }
   ],
   "source": [
    "df[df.seq_length == 29].titles.values[2]"
   ]
  },
  {
   "cell_type": "code",
   "execution_count": null,
   "id": "65c154c8-9d26-4aed-b251-aefc085388a9",
   "metadata": {},
   "outputs": [],
   "source": []
  }
 ],
 "metadata": {
  "kernelspec": {
   "display_name": "venv",
   "language": "python",
   "name": "venv"
  },
  "language_info": {
   "codemirror_mode": {
    "name": "ipython",
    "version": 3
   },
   "file_extension": ".py",
   "mimetype": "text/x-python",
   "name": "python",
   "nbconvert_exporter": "python",
   "pygments_lexer": "ipython3",
   "version": "3.10.1"
  }
 },
 "nbformat": 4,
 "nbformat_minor": 5
}
