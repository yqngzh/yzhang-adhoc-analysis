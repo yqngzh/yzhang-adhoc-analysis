{
 "cells": [
  {
   "cell_type": "code",
   "execution_count": 1,
   "id": "5fbc4b21-1755-4052-8cb2-cde3a761488b",
   "metadata": {},
   "outputs": [],
   "source": [
    "from datasets import load_dataset, Dataset, DatasetDict\n",
    "from google.cloud import bigquery\n",
    "import numpy as np\n",
    "import pandas as pd\n",
    "import re\n",
    "from transformers import AutoTokenizer"
   ]
  },
  {
   "cell_type": "code",
   "execution_count": 2,
   "id": "785da6e4-04f6-41fd-9e1f-bdff205142b3",
   "metadata": {},
   "outputs": [],
   "source": [
    "bert_checkpoints = [\n",
    "    \"microsoft/deberta-v3-large\"\n",
    "]"
   ]
  },
  {
   "cell_type": "code",
   "execution_count": 3,
   "id": "71cbed81-11d8-47b5-b11b-1024061c4c24",
   "metadata": {},
   "outputs": [
    {
     "name": "stderr",
     "output_type": "stream",
     "text": [
      "/Users/yzhang/development/yzhang-adhoc-analysis/venv/lib/python3.10/site-packages/google/auth/_default.py:76: UserWarning: Your application has authenticated using end user credentials from Google Cloud SDK without a quota project. You might receive a \"quota exceeded\" or \"API not enabled\" error. See the following page for troubleshooting: https://cloud.google.com/docs/authentication/adc-troubleshooting/user-creds. \n",
      "  warnings.warn(_CLOUD_SDK_CREDENTIALS_WARNING)\n"
     ]
    }
   ],
   "source": [
    "# Load in the raw data\n",
    "v2_data_base_path = \"gs://training-dev-search-data-jtzn/semantic_relevance/datasets/human_annotation_v2_split\"\n",
    "v2_train_path = f\"{v2_data_base_path}/annotation_dataset_train_v2.pq\"\n",
    "v2_test_path = f\"{v2_data_base_path}/annotation_dataset_test_v2.pq\"\n",
    "\n",
    "# gold_label is either not_sure / not_relevant / partial / relevant\n",
    "# it is null in some of train but none of test\n",
    "# other relevant columns are: query, listingTitle ... listingTaxo, listingDescription\n",
    "v2_full_train_df = pd.read_parquet(v2_train_path)\n",
    "\n",
    "v2_dfs = {}\n",
    "# retain data with known labels which are not not_sure\n",
    "v2_dfs['train'] = v2_full_train_df.query(\"gold_label.notnull() and gold_label != 'not_sure'\").sample(frac=1.0, random_state=42).copy()\n",
    "\n",
    "v2_test_df = pd.read_parquet(v2_test_path)\n",
    "v2_dfs['test'] = v2_test_df.query(\"gold_label != 'not_sure'\").copy()\n",
    "\n",
    "# Create integer v2 label\n",
    "for _, df in v2_dfs.items():\n",
    "    df['etsy_v2_label'] = df.gold_label.map({'not_relevant': 0, 'partial': 1, 'relevant': 2})"
   ]
  },
  {
   "cell_type": "code",
   "execution_count": 14,
   "id": "db3c0cae-9de6-4125-808e-51e00537b020",
   "metadata": {},
   "outputs": [],
   "source": [
    "def get_extra_listing_features(listing_ids: list[int]) -> pd.DataFrame:\n",
    "    # Initialize BigQuery client\n",
    "    client = bigquery.Client()\n",
    "\n",
    "    # Construct the query with a parameter\n",
    "    query = f\"\"\"\n",
    "    SELECT \n",
    "        key AS listingId,\n",
    "        (SELECT STRING_AGG(element, ';') FROM UNNEST(kbAttributesV2_sellerAttributesV2.list)) AS listingAttributes,\n",
    "        (SELECT STRING_AGG(element, ';') FROM UNNEST(kbMaterials_materialListingTags.list)) AS listingMaterialTags,\n",
    "        IFNULL(lfb.verticaListings_tags, \"\") listingTags\n",
    "    FROM\n",
    "        `etsy-ml-systems-prod.feature_bank_v2.listing_feature_bank_most_recent` lfb\n",
    "    WHERE \n",
    "        key IN ({','.join([str(x) for x in listing_ids])})\n",
    "    \"\"\"\n",
    "\n",
    "    # Run the query and return results as a DataFrame\n",
    "    df = client.query(query).to_dataframe().fillna(\"\")\n",
    "    return df"
   ]
  },
  {
   "cell_type": "code",
   "execution_count": 15,
   "id": "c3a5bf30-0483-4943-afca-cf9c3cb5efdd",
   "metadata": {},
   "outputs": [
    {
     "name": "stderr",
     "output_type": "stream",
     "text": [
      "/Users/yzhang/development/yzhang-adhoc-analysis/venv/lib/python3.10/site-packages/google/auth/_default.py:76: UserWarning: Your application has authenticated using end user credentials from Google Cloud SDK without a quota project. You might receive a \"quota exceeded\" or \"API not enabled\" error. See the following page for troubleshooting: https://cloud.google.com/docs/authentication/adc-troubleshooting/user-creds. \n",
      "  warnings.warn(_CLOUD_SDK_CREDENTIALS_WARNING)\n",
      "/Users/yzhang/development/yzhang-adhoc-analysis/venv/lib/python3.10/site-packages/google/auth/_default.py:76: UserWarning: Your application has authenticated using end user credentials from Google Cloud SDK without a quota project. You might receive a \"quota exceeded\" or \"API not enabled\" error. See the following page for troubleshooting: https://cloud.google.com/docs/authentication/adc-troubleshooting/user-creds. \n",
      "  warnings.warn(_CLOUD_SDK_CREDENTIALS_WARNING)\n"
     ]
    }
   ],
   "source": [
    "full_df = pd.concat(list(v2_dfs.values()))\n",
    "extra_listing_features = get_extra_listing_features(full_df.listingId.tolist())\n",
    "extra_listing_features.to_parquet(\"./v2_extra_listing_features.pq\")"
   ]
  },
  {
   "cell_type": "code",
   "execution_count": null,
   "id": "bcbe5e5c-ea6d-4fcf-a8a2-a9a139df82ea",
   "metadata": {},
   "outputs": [],
   "source": []
  }
 ],
 "metadata": {
  "kernelspec": {
   "display_name": "venv",
   "language": "python",
   "name": "venv"
  },
  "language_info": {
   "codemirror_mode": {
    "name": "ipython",
    "version": 3
   },
   "file_extension": ".py",
   "mimetype": "text/x-python",
   "name": "python",
   "nbconvert_exporter": "python",
   "pygments_lexer": "ipython3",
   "version": "3.10.1"
  }
 },
 "nbformat": 4,
 "nbformat_minor": 5
}
