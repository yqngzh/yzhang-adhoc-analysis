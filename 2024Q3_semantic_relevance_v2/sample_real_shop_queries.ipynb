{
 "cells": [
  {
   "cell_type": "code",
   "execution_count": 1,
   "id": "d61e2052-1a50-4aba-8cd4-f582e71c5c38",
   "metadata": {},
   "outputs": [
    {
     "name": "stderr",
     "output_type": "stream",
     "text": [
      "2024-09-16 13:40:42.924995: I tensorflow/core/platform/cpu_feature_guard.cc:210] This TensorFlow binary is optimized to use available CPU instructions in performance-critical operations.\n",
      "To enable the following instructions: AVX2 FMA, in other operations, rebuild TensorFlow with the appropriate compiler flags.\n"
     ]
    }
   ],
   "source": [
    "import copy\n",
    "from tqdm.notebook import tqdm\n",
    "import pandas as pd\n",
    "import numpy as np\n",
    "import tensorflow as tf\n",
    "from google.cloud import bigquery"
   ]
  },
  {
   "cell_type": "code",
   "execution_count": 2,
   "id": "8615ea2c-73b7-4719-86f6-822c9ae4797b",
   "metadata": {},
   "outputs": [],
   "source": [
    "NIR_PATH = \"gs://etldata-prod-search-ranking-data-hkwv8r/data/shared/neural_ir/30d/large_voc_huge_hidden_assym/models/2024_09_14/training_dir/checkpoints/saved_model\"\n",
    "nir_model = tf.saved_model.load(NIR_PATH)"
   ]
  },
  {
   "cell_type": "code",
   "execution_count": 3,
   "id": "dd419cb0-4da8-401b-9fb9-bae8cba10a4f",
   "metadata": {},
   "outputs": [],
   "source": [
    "def sample_pairs_from_date(date_str):\n",
    "    query_str = f\"\"\"with lfb_clean as (\n",
    "      SELECT \n",
    "        key AS listingId,\n",
    "        IFNULL(verticaSellerBasics_shopName, \"\") shopName,\n",
    "      FROM `etsy-ml-systems-prod.feature_bank_v2.listing_feature_bank_2024-09-16`\n",
    "      where verticaSellerBasics_shopName is not null\n",
    "      and verticaSellerBasics_shopName != \"\"\n",
    "    ),\n",
    "    results_pair as(\n",
    "        SELECT distinct _date, query, listingId, requestUUID, target, 'web' rpSource \n",
    "        FROM `etsy-search-kubeflow-dev.behavioral_data.results_pair_fl_web`\n",
    "        where _date = date('{date_str}')\n",
    "        UNION ALL\n",
    "        SELECT distinct _date, query, listingId, requestUUID, target, 'boe' rpSource \n",
    "        FROM `etsy-search-kubeflow-dev.behavioral_data.results_pair_fl_boe`\n",
    "        where _date = date('{date_str}')\n",
    "    )\n",
    "    select \n",
    "      _date, query, requestUUID, target, rpSource,\n",
    "      lfb_clean.*\n",
    "    from results_pair\n",
    "    join lfb_clean\n",
    "    using (listingId)\n",
    "    where query is not null\n",
    "    and rand() > 0.9\n",
    "    limit 50000\n",
    "    \"\"\"\n",
    "\n",
    "    client = bigquery.Client(project=\"etsy-bigquery-adhoc-prod\")\n",
    "    query_job = client.query(query_str)\n",
    "    rows = query_job.result()\n",
    "    df = rows.to_dataframe()\n",
    "\n",
    "    return df\n",
    "\n",
    "\n",
    "def compute_nir_cosine_score(df, nir_model, batch_size=256):\n",
    "    n_batches = df.shape[0] // batch_size + 1\n",
    "\n",
    "    all_cos_scores = None\n",
    "    \n",
    "    for i in range(n_batches):\n",
    "        start_idx = i * batch_size\n",
    "        end_idx = min( (i+1) * batch_size, df.shape[0] )\n",
    "        curr_df = df.iloc[start_idx:end_idx, :]\n",
    "\n",
    "        query_embeddings = nir_model.signatures[\"embed_raw_queries\"](\n",
    "            tf.constant(list(curr_df['query']), tf.string)\n",
    "        )[\"embedding\"]\n",
    "\n",
    "        shop_name_embeddings = nir_model.signatures[\"embed_raw_queries\"](\n",
    "            tf.constant(list(curr_df['shopName']), tf.string)\n",
    "        )[\"embedding\"]\n",
    "\n",
    "        normalize_query = tf.math.l2_normalize(query_embeddings, axis=1)\n",
    "        normalize_shop = tf.math.l2_normalize(shop_name_embeddings, axis=1)\n",
    "        cos_score = tf.math.reduce_sum(tf.multiply(normalize_query, normalize_shop), axis=1)\n",
    "        cos_score = tf.reshape(cos_score, [-1]).numpy()\n",
    "\n",
    "        if all_cos_scores is None:\n",
    "            all_cos_scores = cos_score\n",
    "        else:\n",
    "            all_cos_scores = np.concatenate((all_cos_scores, cos_score), axis=None)\n",
    "\n",
    "    new_df = copy.deepcopy(df)\n",
    "    new_df['query_shop_cosine'] = all_cos_scores\n",
    "    return new_df\n",
    "\n",
    "\n",
    "def get_shop_name_queries_examples(date_list, nir_model, threshold=0.8):\n",
    "    output_df = None\n",
    "    \n",
    "    for date_str in tqdm(date_list):\n",
    "        df = sample_pairs_from_date(date_str)\n",
    "        new_df = compute_nir_cosine_score(df, nir_model, batch_size=512)\n",
    "        new_df = new_df[new_df.query_shop_cosine >= threshold]\n",
    "\n",
    "        if output_df is None:\n",
    "            output_df = new_df\n",
    "        else:\n",
    "            output_df = pd.concat([output_df, new_df], ignore_index=True)\n",
    "\n",
    "    return output_df"
   ]
  },
  {
   "cell_type": "code",
   "execution_count": 4,
   "id": "8afb218c-79a5-4b2c-870d-762c9ea966b3",
   "metadata": {},
   "outputs": [],
   "source": [
    "DATE_LIST = [d.strftime('%Y-%m-%d') for d in pd.date_range('2024-09-01','2024-09-10')]"
   ]
  },
  {
   "cell_type": "code",
   "execution_count": 5,
   "id": "3fe5c6e2-aaf6-4e8a-a0ce-e8197bdc2b81",
   "metadata": {},
   "outputs": [
    {
     "data": {
      "application/vnd.jupyter.widget-view+json": {
       "model_id": "208305f7e7e044a7bf5e3352a1ce8a0e",
       "version_major": 2,
       "version_minor": 0
      },
      "text/plain": [
       "  0%|          | 0/10 [00:00<?, ?it/s]"
      ]
     },
     "metadata": {},
     "output_type": "display_data"
    },
    {
     "name": "stderr",
     "output_type": "stream",
     "text": [
      "/Users/yzhang/development/yzhang-adhoc-analysis/venv/lib/python3.10/site-packages/google/auth/_default.py:76: UserWarning: Your application has authenticated using end user credentials from Google Cloud SDK without a quota project. You might receive a \"quota exceeded\" or \"API not enabled\" error. See the following page for troubleshooting: https://cloud.google.com/docs/authentication/adc-troubleshooting/user-creds. \n",
      "  warnings.warn(_CLOUD_SDK_CREDENTIALS_WARNING)\n",
      "/Users/yzhang/development/yzhang-adhoc-analysis/venv/lib/python3.10/site-packages/google/auth/_default.py:76: UserWarning: Your application has authenticated using end user credentials from Google Cloud SDK without a quota project. You might receive a \"quota exceeded\" or \"API not enabled\" error. See the following page for troubleshooting: https://cloud.google.com/docs/authentication/adc-troubleshooting/user-creds. \n",
      "  warnings.warn(_CLOUD_SDK_CREDENTIALS_WARNING)\n",
      "/Users/yzhang/development/yzhang-adhoc-analysis/venv/lib/python3.10/site-packages/google/auth/_default.py:76: UserWarning: Your application has authenticated using end user credentials from Google Cloud SDK without a quota project. You might receive a \"quota exceeded\" or \"API not enabled\" error. See the following page for troubleshooting: https://cloud.google.com/docs/authentication/adc-troubleshooting/user-creds. \n",
      "  warnings.warn(_CLOUD_SDK_CREDENTIALS_WARNING)\n",
      "/Users/yzhang/development/yzhang-adhoc-analysis/venv/lib/python3.10/site-packages/google/auth/_default.py:76: UserWarning: Your application has authenticated using end user credentials from Google Cloud SDK without a quota project. You might receive a \"quota exceeded\" or \"API not enabled\" error. See the following page for troubleshooting: https://cloud.google.com/docs/authentication/adc-troubleshooting/user-creds. \n",
      "  warnings.warn(_CLOUD_SDK_CREDENTIALS_WARNING)\n",
      "/Users/yzhang/development/yzhang-adhoc-analysis/venv/lib/python3.10/site-packages/google/auth/_default.py:76: UserWarning: Your application has authenticated using end user credentials from Google Cloud SDK without a quota project. You might receive a \"quota exceeded\" or \"API not enabled\" error. See the following page for troubleshooting: https://cloud.google.com/docs/authentication/adc-troubleshooting/user-creds. \n",
      "  warnings.warn(_CLOUD_SDK_CREDENTIALS_WARNING)\n",
      "/Users/yzhang/development/yzhang-adhoc-analysis/venv/lib/python3.10/site-packages/google/auth/_default.py:76: UserWarning: Your application has authenticated using end user credentials from Google Cloud SDK without a quota project. You might receive a \"quota exceeded\" or \"API not enabled\" error. See the following page for troubleshooting: https://cloud.google.com/docs/authentication/adc-troubleshooting/user-creds. \n",
      "  warnings.warn(_CLOUD_SDK_CREDENTIALS_WARNING)\n",
      "/Users/yzhang/development/yzhang-adhoc-analysis/venv/lib/python3.10/site-packages/google/auth/_default.py:76: UserWarning: Your application has authenticated using end user credentials from Google Cloud SDK without a quota project. You might receive a \"quota exceeded\" or \"API not enabled\" error. See the following page for troubleshooting: https://cloud.google.com/docs/authentication/adc-troubleshooting/user-creds. \n",
      "  warnings.warn(_CLOUD_SDK_CREDENTIALS_WARNING)\n",
      "/Users/yzhang/development/yzhang-adhoc-analysis/venv/lib/python3.10/site-packages/google/auth/_default.py:76: UserWarning: Your application has authenticated using end user credentials from Google Cloud SDK without a quota project. You might receive a \"quota exceeded\" or \"API not enabled\" error. See the following page for troubleshooting: https://cloud.google.com/docs/authentication/adc-troubleshooting/user-creds. \n",
      "  warnings.warn(_CLOUD_SDK_CREDENTIALS_WARNING)\n",
      "/Users/yzhang/development/yzhang-adhoc-analysis/venv/lib/python3.10/site-packages/google/auth/_default.py:76: UserWarning: Your application has authenticated using end user credentials from Google Cloud SDK without a quota project. You might receive a \"quota exceeded\" or \"API not enabled\" error. See the following page for troubleshooting: https://cloud.google.com/docs/authentication/adc-troubleshooting/user-creds. \n",
      "  warnings.warn(_CLOUD_SDK_CREDENTIALS_WARNING)\n",
      "/Users/yzhang/development/yzhang-adhoc-analysis/venv/lib/python3.10/site-packages/google/auth/_default.py:76: UserWarning: Your application has authenticated using end user credentials from Google Cloud SDK without a quota project. You might receive a \"quota exceeded\" or \"API not enabled\" error. See the following page for troubleshooting: https://cloud.google.com/docs/authentication/adc-troubleshooting/user-creds. \n",
      "  warnings.warn(_CLOUD_SDK_CREDENTIALS_WARNING)\n"
     ]
    }
   ],
   "source": [
    "df = get_shop_name_queries_examples(DATE_LIST, nir_model)"
   ]
  },
  {
   "cell_type": "code",
   "execution_count": 6,
   "id": "7385941e-eab5-432c-9575-be0c38953c6b",
   "metadata": {},
   "outputs": [
    {
     "data": {
      "text/plain": [
       "(2007, 8)"
      ]
     },
     "execution_count": 6,
     "metadata": {},
     "output_type": "execute_result"
    }
   ],
   "source": [
    "df.shape"
   ]
  },
  {
   "cell_type": "code",
   "execution_count": 8,
   "id": "6122a117-9e11-48bc-8b2a-4de463447137",
   "metadata": {},
   "outputs": [
    {
     "data": {
      "text/html": [
       "<div>\n",
       "<style scoped>\n",
       "    .dataframe tbody tr th:only-of-type {\n",
       "        vertical-align: middle;\n",
       "    }\n",
       "\n",
       "    .dataframe tbody tr th {\n",
       "        vertical-align: top;\n",
       "    }\n",
       "\n",
       "    .dataframe thead th {\n",
       "        text-align: right;\n",
       "    }\n",
       "</style>\n",
       "<table border=\"1\" class=\"dataframe\">\n",
       "  <thead>\n",
       "    <tr style=\"text-align: right;\">\n",
       "      <th></th>\n",
       "      <th>query</th>\n",
       "      <th>shopName</th>\n",
       "    </tr>\n",
       "  </thead>\n",
       "  <tbody>\n",
       "    <tr>\n",
       "      <th>0</th>\n",
       "      <td>cutnsewsimply</td>\n",
       "      <td>cutnsewsimply</td>\n",
       "    </tr>\n",
       "    <tr>\n",
       "      <th>1</th>\n",
       "      <td>gruhomevn</td>\n",
       "      <td>GruhomeVN</td>\n",
       "    </tr>\n",
       "    <tr>\n",
       "      <th>2</th>\n",
       "      <td>LordsandLabradors</td>\n",
       "      <td>LordsandLabradors</td>\n",
       "    </tr>\n",
       "    <tr>\n",
       "      <th>3</th>\n",
       "      <td>klinehoneybeefarm</td>\n",
       "      <td>KlineHoneyBeeFarm</td>\n",
       "    </tr>\n",
       "    <tr>\n",
       "      <th>4</th>\n",
       "      <td>beerenapfel</td>\n",
       "      <td>Beerenapfel</td>\n",
       "    </tr>\n",
       "    <tr>\n",
       "      <th>5</th>\n",
       "      <td>jtrimming</td>\n",
       "      <td>Jtrimming</td>\n",
       "    </tr>\n",
       "    <tr>\n",
       "      <th>6</th>\n",
       "      <td>xoxokristen</td>\n",
       "      <td>XOXOKristen</td>\n",
       "    </tr>\n",
       "    <tr>\n",
       "      <th>7</th>\n",
       "      <td>oxosilver</td>\n",
       "      <td>OxoSilver</td>\n",
       "    </tr>\n",
       "    <tr>\n",
       "      <th>8</th>\n",
       "      <td>lausbub</td>\n",
       "      <td>Lausbub</td>\n",
       "    </tr>\n",
       "    <tr>\n",
       "      <th>9</th>\n",
       "      <td>jennfeli</td>\n",
       "      <td>JennFeli</td>\n",
       "    </tr>\n",
       "    <tr>\n",
       "      <th>10</th>\n",
       "      <td>vivalucysvintage</td>\n",
       "      <td>VivaLucysVintage</td>\n",
       "    </tr>\n",
       "    <tr>\n",
       "      <th>11</th>\n",
       "      <td>taracpaints</td>\n",
       "      <td>TaraCPaints</td>\n",
       "    </tr>\n",
       "    <tr>\n",
       "      <th>12</th>\n",
       "      <td>curiousplantkiller</td>\n",
       "      <td>CuriousPlantKiller</td>\n",
       "    </tr>\n",
       "    <tr>\n",
       "      <th>13</th>\n",
       "      <td>drunkgirldesigns</td>\n",
       "      <td>DrunkGirlDesigns</td>\n",
       "    </tr>\n",
       "    <tr>\n",
       "      <th>14</th>\n",
       "      <td>taracpaints</td>\n",
       "      <td>TaraCPaints</td>\n",
       "    </tr>\n",
       "    <tr>\n",
       "      <th>15</th>\n",
       "      <td>puffstitch1</td>\n",
       "      <td>puffstitch1</td>\n",
       "    </tr>\n",
       "    <tr>\n",
       "      <th>16</th>\n",
       "      <td>rukeknits</td>\n",
       "      <td>rukeknit</td>\n",
       "    </tr>\n",
       "    <tr>\n",
       "      <th>17</th>\n",
       "      <td>mandowla</td>\n",
       "      <td>mandowla</td>\n",
       "    </tr>\n",
       "    <tr>\n",
       "      <th>18</th>\n",
       "      <td>grownradiance</td>\n",
       "      <td>GrownRadiance</td>\n",
       "    </tr>\n",
       "    <tr>\n",
       "      <th>19</th>\n",
       "      <td>maystorm</td>\n",
       "      <td>Maystorm</td>\n",
       "    </tr>\n",
       "  </tbody>\n",
       "</table>\n",
       "</div>"
      ],
      "text/plain": [
       "                 query            shopName\n",
       "0        cutnsewsimply       cutnsewsimply\n",
       "1            gruhomevn           GruhomeVN\n",
       "2    LordsandLabradors   LordsandLabradors\n",
       "3    klinehoneybeefarm   KlineHoneyBeeFarm\n",
       "4          beerenapfel         Beerenapfel\n",
       "5            jtrimming           Jtrimming\n",
       "6          xoxokristen         XOXOKristen\n",
       "7            oxosilver           OxoSilver\n",
       "8              lausbub             Lausbub\n",
       "9             jennfeli            JennFeli\n",
       "10    vivalucysvintage    VivaLucysVintage\n",
       "11         taracpaints         TaraCPaints\n",
       "12  curiousplantkiller  CuriousPlantKiller\n",
       "13    drunkgirldesigns    DrunkGirlDesigns\n",
       "14         taracpaints         TaraCPaints\n",
       "15         puffstitch1         puffstitch1\n",
       "16           rukeknits            rukeknit\n",
       "17            mandowla            mandowla\n",
       "18       grownradiance       GrownRadiance\n",
       "19            maystorm            Maystorm"
      ]
     },
     "execution_count": 8,
     "metadata": {},
     "output_type": "execute_result"
    }
   ],
   "source": [
    "df[[\"query\", \"shopName\"]].head(n=20)"
   ]
  },
  {
   "cell_type": "code",
   "execution_count": 9,
   "id": "24c1838e-d7f6-4e76-a926-835ce0721578",
   "metadata": {},
   "outputs": [
    {
     "data": {
      "text/plain": [
       "1670"
      ]
     },
     "execution_count": 9,
     "metadata": {},
     "output_type": "execute_result"
    }
   ],
   "source": [
    "len(df.shopName.unique())"
   ]
  },
  {
   "cell_type": "code",
   "execution_count": 10,
   "id": "74c28eb2-9e21-4fa9-aa9b-33e48e430a78",
   "metadata": {},
   "outputs": [
    {
     "data": {
      "text/plain": [
       "1832"
      ]
     },
     "execution_count": 10,
     "metadata": {},
     "output_type": "execute_result"
    }
   ],
   "source": [
    "unique_listing_ids = list(df.listingId.unique())\n",
    "len(unique_listing_ids)"
   ]
  },
  {
   "cell_type": "code",
   "execution_count": 11,
   "id": "c61e698c-54a0-4921-9d1c-ac859f339a92",
   "metadata": {},
   "outputs": [
    {
     "name": "stderr",
     "output_type": "stream",
     "text": [
      "/Users/yzhang/development/yzhang-adhoc-analysis/venv/lib/python3.10/site-packages/google/auth/_default.py:76: UserWarning: Your application has authenticated using end user credentials from Google Cloud SDK without a quota project. You might receive a \"quota exceeded\" or \"API not enabled\" error. See the following page for troubleshooting: https://cloud.google.com/docs/authentication/adc-troubleshooting/user-creds. \n",
      "  warnings.warn(_CLOUD_SDK_CREDENTIALS_WARNING)\n"
     ]
    }
   ],
   "source": [
    "query_str = f\"\"\"with lfb as (\n",
    "    select\n",
    "        key AS listingId,\n",
    "        IFNULL(verticaListings_title, \"\") listingTitle,\n",
    "        IFNULL(verticaListings_description, \"\") listingDescription,\n",
    "        IFNULL(verticaListings_taxonomyPath, \"\") listingTaxo,\n",
    "        (SELECT STRING_AGG(element, ';') FROM UNNEST(kbAttributesV2_sellerAttributesV2.list)) AS listingAttributes,\n",
    "        (SELECT STRING_AGG(element, ';') FROM UNNEST(kbMaterials_materialListingTags.list)) AS listingMaterialTags,\n",
    "        IFNULL(verticaListings_tags, \"\") listingTags,\n",
    "        IFNULL(verticaSellerBasics_shopName, \"\") shopName,\n",
    "    FROM `etsy-ml-systems-prod.feature_bank_v2.listing_feature_bank_2024-09-16`\n",
    "),\n",
    "lfb_clean as (\n",
    "    select *\n",
    "    from lfb\n",
    "    where listingTitle != \"\"\n",
    "    and listingDescription != \"\"\n",
    "    and listingAttributes != \"\"\n",
    "    and shopName != \"\"\n",
    ")\n",
    "select *\n",
    "from lfb_clean\n",
    "where listingId in ({\",\".join([str(x) for x in unique_listing_ids])})\n",
    "\"\"\"\n",
    "\n",
    "client = bigquery.Client(project=\"etsy-bigquery-adhoc-prod\")\n",
    "query_job = client.query(query_str)\n",
    "rows = query_job.result()\n",
    "fb_df = rows.to_dataframe()"
   ]
  },
  {
   "cell_type": "code",
   "execution_count": 12,
   "id": "ab654e0e-f365-4b57-8c18-32b0081fb6f6",
   "metadata": {},
   "outputs": [],
   "source": [
    "merged_df = pd.merge(df, fb_df, on=\"listingId\", how=\"inner\")"
   ]
  },
  {
   "cell_type": "code",
   "execution_count": 13,
   "id": "c58b1efe-12f3-4c34-ba9c-305e7ab6ab9e",
   "metadata": {},
   "outputs": [
    {
     "data": {
      "text/plain": [
       "(1280, 15)"
      ]
     },
     "execution_count": 13,
     "metadata": {},
     "output_type": "execute_result"
    }
   ],
   "source": [
    "merged_df.shape"
   ]
  },
  {
   "cell_type": "code",
   "execution_count": 14,
   "id": "f324b95f-6cb2-47f4-b5f4-7a26909b5a40",
   "metadata": {},
   "outputs": [],
   "source": [
    "merged_df.to_csv(\"shop_name_query_real.csv\")"
   ]
  },
  {
   "cell_type": "code",
   "execution_count": null,
   "id": "665456f1-1d01-41d1-8782-dc398db11719",
   "metadata": {},
   "outputs": [],
   "source": []
  }
 ],
 "metadata": {
  "kernelspec": {
   "display_name": "venv",
   "language": "python",
   "name": "venv"
  },
  "language_info": {
   "codemirror_mode": {
    "name": "ipython",
    "version": 3
   },
   "file_extension": ".py",
   "mimetype": "text/x-python",
   "name": "python",
   "nbconvert_exporter": "python",
   "pygments_lexer": "ipython3",
   "version": "3.10.1"
  }
 },
 "nbformat": 4,
 "nbformat_minor": 5
}
