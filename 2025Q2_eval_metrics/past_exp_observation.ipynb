{
 "cells": [
  {
   "cell_type": "code",
   "execution_count": 1,
   "id": "0b918979",
   "metadata": {},
   "outputs": [],
   "source": [
    "import pandas as pd\n",
    "import numpy as np"
   ]
  },
  {
   "cell_type": "code",
   "execution_count": 2,
   "id": "9fb5bcd1",
   "metadata": {},
   "outputs": [],
   "source": [
    "df = pd.read_csv(\"./past_exp_metrics.csv\")"
   ]
  },
  {
   "cell_type": "code",
   "execution_count": 3,
   "id": "92fa9097",
   "metadata": {},
   "outputs": [],
   "source": [
    "df_on = df.dropna()"
   ]
  },
  {
   "cell_type": "code",
   "execution_count": 4,
   "id": "7ce75f9a",
   "metadata": {},
   "outputs": [
    {
     "data": {
      "text/html": [
       "<div>\n",
       "<style scoped>\n",
       "    .dataframe tbody tr th:only-of-type {\n",
       "        vertical-align: middle;\n",
       "    }\n",
       "\n",
       "    .dataframe tbody tr th {\n",
       "        vertical-align: top;\n",
       "    }\n",
       "\n",
       "    .dataframe thead th {\n",
       "        text-align: right;\n",
       "    }\n",
       "</style>\n",
       "<table border=\"1\" class=\"dataframe\">\n",
       "  <thead>\n",
       "    <tr style=\"text-align: right;\">\n",
       "      <th></th>\n",
       "      <th>on_CVR</th>\n",
       "      <th>on_ACBV</th>\n",
       "      <th>on_pNDCG_48</th>\n",
       "      <th>off_pNDCG_48</th>\n",
       "      <th>off_pNDCG_10</th>\n",
       "    </tr>\n",
       "  </thead>\n",
       "  <tbody>\n",
       "    <tr>\n",
       "      <th>1</th>\n",
       "      <td>-0.35</td>\n",
       "      <td>0.26</td>\n",
       "      <td>2.82</td>\n",
       "      <td>-0.33</td>\n",
       "      <td>-0.46</td>\n",
       "    </tr>\n",
       "    <tr>\n",
       "      <th>2</th>\n",
       "      <td>0.07</td>\n",
       "      <td>-1.10</td>\n",
       "      <td>0.32</td>\n",
       "      <td>0.71</td>\n",
       "      <td>1.16</td>\n",
       "    </tr>\n",
       "    <tr>\n",
       "      <th>3</th>\n",
       "      <td>-0.65</td>\n",
       "      <td>-1.02</td>\n",
       "      <td>2.73</td>\n",
       "      <td>1.56</td>\n",
       "      <td>2.26</td>\n",
       "    </tr>\n",
       "    <tr>\n",
       "      <th>5</th>\n",
       "      <td>-0.91</td>\n",
       "      <td>1.09</td>\n",
       "      <td>3.05</td>\n",
       "      <td>-0.52</td>\n",
       "      <td>-0.81</td>\n",
       "    </tr>\n",
       "    <tr>\n",
       "      <th>6</th>\n",
       "      <td>-0.64</td>\n",
       "      <td>0.57</td>\n",
       "      <td>-0.20</td>\n",
       "      <td>-0.40</td>\n",
       "      <td>-0.56</td>\n",
       "    </tr>\n",
       "  </tbody>\n",
       "</table>\n",
       "</div>"
      ],
      "text/plain": [
       "   on_CVR  on_ACBV  on_pNDCG_48  off_pNDCG_48  off_pNDCG_10\n",
       "1   -0.35     0.26         2.82         -0.33         -0.46\n",
       "2    0.07    -1.10         0.32          0.71          1.16\n",
       "3   -0.65    -1.02         2.73          1.56          2.26\n",
       "5   -0.91     1.09         3.05         -0.52         -0.81\n",
       "6   -0.64     0.57        -0.20         -0.40         -0.56"
      ]
     },
     "execution_count": 4,
     "metadata": {},
     "output_type": "execute_result"
    }
   ],
   "source": [
    "df_on.head()"
   ]
  },
  {
   "cell_type": "code",
   "execution_count": 5,
   "id": "e26a1b20",
   "metadata": {},
   "outputs": [
    {
     "data": {
      "text/plain": [
       "22"
      ]
     },
     "execution_count": 5,
     "metadata": {},
     "output_type": "execute_result"
    }
   ],
   "source": [
    "df_on.shape[0]"
   ]
  },
  {
   "cell_type": "code",
   "execution_count": 6,
   "id": "95a5d6ca",
   "metadata": {},
   "outputs": [
    {
     "data": {
      "text/plain": [
       "14"
      ]
     },
     "execution_count": 6,
     "metadata": {},
     "output_type": "execute_result"
    }
   ],
   "source": [
    "np.sum(df_on.on_CVR * df_on.off_pNDCG_48 > 0)"
   ]
  },
  {
   "cell_type": "code",
   "execution_count": 7,
   "id": "54d89870",
   "metadata": {},
   "outputs": [
    {
     "data": {
      "text/plain": [
       "22"
      ]
     },
     "execution_count": 7,
     "metadata": {},
     "output_type": "execute_result"
    }
   ],
   "source": [
    "np.sum(df_on.off_pNDCG_10 * df_on.off_pNDCG_48 > 0)"
   ]
  },
  {
   "cell_type": "code",
   "execution_count": 8,
   "id": "68c78667",
   "metadata": {},
   "outputs": [
    {
     "data": {
      "text/plain": [
       "13"
      ]
     },
     "execution_count": 8,
     "metadata": {},
     "output_type": "execute_result"
    }
   ],
   "source": [
    "np.sum(df_on.off_pNDCG_48 * df_on.on_pNDCG_48 > 0)"
   ]
  },
  {
   "cell_type": "code",
   "execution_count": 10,
   "id": "2ef011d4",
   "metadata": {},
   "outputs": [
    {
     "name": "stdout",
     "output_type": "stream",
     "text": [
      "                on_CVR  off_pNDCG_10\n",
      "on_CVR        1.000000     -0.054188\n",
      "off_pNDCG_10 -0.054188      1.000000\n",
      "                on_CVR  off_pNDCG_10\n",
      "on_CVR        1.000000      0.198361\n",
      "off_pNDCG_10  0.198361      1.000000\n"
     ]
    }
   ],
   "source": [
    "print(df_on[[\"on_CVR\", \"off_pNDCG_10\"]].corr(method='pearson'))\n",
    "print(df_on[[\"on_CVR\", \"off_pNDCG_10\"]].corr(method='spearman'))"
   ]
  },
  {
   "cell_type": "code",
   "execution_count": 11,
   "id": "fe5fa9a1",
   "metadata": {},
   "outputs": [
    {
     "data": {
      "text/plain": [
       "27"
      ]
     },
     "execution_count": 11,
     "metadata": {},
     "output_type": "execute_result"
    }
   ],
   "source": [
    "df.shape[0]"
   ]
  },
  {
   "cell_type": "code",
   "execution_count": 12,
   "id": "8422114b",
   "metadata": {},
   "outputs": [
    {
     "data": {
      "text/plain": [
       "8"
      ]
     },
     "execution_count": 12,
     "metadata": {},
     "output_type": "execute_result"
    }
   ],
   "source": [
    "np.sum(df.on_pNDCG_48 * df.on_CVR > 0)"
   ]
  },
  {
   "cell_type": "code",
   "execution_count": null,
   "id": "42ddbc68",
   "metadata": {},
   "outputs": [],
   "source": []
  },
  {
   "cell_type": "code",
   "execution_count": 1,
   "id": "69b116a9",
   "metadata": {},
   "outputs": [],
   "source": [
    "import pandas as pd\n",
    "import numpy as np"
   ]
  },
  {
   "cell_type": "code",
   "execution_count": 2,
   "id": "fb725dc5",
   "metadata": {},
   "outputs": [],
   "source": [
    "online_raw_df = pd.read_csv(\"./online_metrics.csv\")\n",
    "offline_raw_df = pd.read_csv(\"./offline_metrics.csv\")"
   ]
  },
  {
   "cell_type": "code",
   "execution_count": 3,
   "id": "9dadbb54",
   "metadata": {},
   "outputs": [
    {
     "data": {
      "text/plain": [
       "Index(['config_flag', 'start_date', 'end_date', 'variant_id', 'metric',\n",
       "       'relative_change', 'p_value', 'is_significant'],\n",
       "      dtype='object')"
      ]
     },
     "execution_count": 3,
     "metadata": {},
     "output_type": "execute_result"
    }
   ],
   "source": [
    "online_raw_df.columns"
   ]
  },
  {
   "cell_type": "code",
   "execution_count": 4,
   "id": "06e11b72",
   "metadata": {},
   "outputs": [],
   "source": [
    "online_raw_df[\"res\"] = online_raw_df.apply(lambda row: (np.round(row[\"relative_change\"], 2), row[\"is_significant\"]), axis=1)"
   ]
  },
  {
   "cell_type": "code",
   "execution_count": 5,
   "id": "b7dda111",
   "metadata": {},
   "outputs": [
    {
     "data": {
      "text/html": [
       "<div>\n",
       "<style scoped>\n",
       "    .dataframe tbody tr th:only-of-type {\n",
       "        vertical-align: middle;\n",
       "    }\n",
       "\n",
       "    .dataframe tbody tr th {\n",
       "        vertical-align: top;\n",
       "    }\n",
       "\n",
       "    .dataframe thead th {\n",
       "        text-align: right;\n",
       "    }\n",
       "</style>\n",
       "<table border=\"1\" class=\"dataframe\">\n",
       "  <thead>\n",
       "    <tr style=\"text-align: right;\">\n",
       "      <th></th>\n",
       "      <th>config_flag</th>\n",
       "      <th>start_date</th>\n",
       "      <th>end_date</th>\n",
       "      <th>variant_id</th>\n",
       "      <th>metric</th>\n",
       "      <th>relative_change</th>\n",
       "      <th>p_value</th>\n",
       "      <th>is_significant</th>\n",
       "      <th>res</th>\n",
       "    </tr>\n",
       "  </thead>\n",
       "  <tbody>\n",
       "    <tr>\n",
       "      <th>0</th>\n",
       "      <td>ranking/search.mmx.2025_q2.nrv2_clip_push_air_...</td>\n",
       "      <td>2025-06-09</td>\n",
       "      <td>2025-06-11</td>\n",
       "      <td>nrv2_clip_push_air_unified</td>\n",
       "      <td>Conversion Rate</td>\n",
       "      <td>-0.781254</td>\n",
       "      <td>0.018783</td>\n",
       "      <td>True</td>\n",
       "      <td>(-0.78, True)</td>\n",
       "    </tr>\n",
       "    <tr>\n",
       "      <th>1</th>\n",
       "      <td>ranking/search.mmx.2025_q2.nrv2_clip_push_air_...</td>\n",
       "      <td>2025-06-09</td>\n",
       "      <td>2025-06-11</td>\n",
       "      <td>nrv2_clip_push_air_unified</td>\n",
       "      <td>GMS per Unit</td>\n",
       "      <td>-0.849155</td>\n",
       "      <td>0.211644</td>\n",
       "      <td>False</td>\n",
       "      <td>(-0.85, False)</td>\n",
       "    </tr>\n",
       "    <tr>\n",
       "      <th>2</th>\n",
       "      <td>ranking/search.mmx.2025_q2.nrv2_clip_push_air_...</td>\n",
       "      <td>2025-06-09</td>\n",
       "      <td>2025-06-11</td>\n",
       "      <td>nrv2_clip_push_air_unified_sw</td>\n",
       "      <td>Conversion Rate</td>\n",
       "      <td>-1.204569</td>\n",
       "      <td>0.000290</td>\n",
       "      <td>True</td>\n",
       "      <td>(-1.2, True)</td>\n",
       "    </tr>\n",
       "    <tr>\n",
       "      <th>3</th>\n",
       "      <td>ranking/search.mmx.2025_q2.nrv2_clip_push_air_...</td>\n",
       "      <td>2025-06-09</td>\n",
       "      <td>2025-06-11</td>\n",
       "      <td>nrv2_clip_push_air_unified_sw</td>\n",
       "      <td>GMS per Unit</td>\n",
       "      <td>-0.401354</td>\n",
       "      <td>0.553345</td>\n",
       "      <td>False</td>\n",
       "      <td>(-0.4, False)</td>\n",
       "    </tr>\n",
       "    <tr>\n",
       "      <th>4</th>\n",
       "      <td>ranking/search.mmx.2025_q2.nrv2_unified_rankin...</td>\n",
       "      <td>2025-05-23</td>\n",
       "      <td>2025-06-08</td>\n",
       "      <td>on</td>\n",
       "      <td>Conversion Rate</td>\n",
       "      <td>-0.185243</td>\n",
       "      <td>0.043404</td>\n",
       "      <td>True</td>\n",
       "      <td>(-0.19, True)</td>\n",
       "    </tr>\n",
       "  </tbody>\n",
       "</table>\n",
       "</div>"
      ],
      "text/plain": [
       "                                         config_flag  start_date    end_date  \\\n",
       "0  ranking/search.mmx.2025_q2.nrv2_clip_push_air_...  2025-06-09  2025-06-11   \n",
       "1  ranking/search.mmx.2025_q2.nrv2_clip_push_air_...  2025-06-09  2025-06-11   \n",
       "2  ranking/search.mmx.2025_q2.nrv2_clip_push_air_...  2025-06-09  2025-06-11   \n",
       "3  ranking/search.mmx.2025_q2.nrv2_clip_push_air_...  2025-06-09  2025-06-11   \n",
       "4  ranking/search.mmx.2025_q2.nrv2_unified_rankin...  2025-05-23  2025-06-08   \n",
       "\n",
       "                      variant_id           metric  relative_change   p_value  \\\n",
       "0     nrv2_clip_push_air_unified  Conversion Rate        -0.781254  0.018783   \n",
       "1     nrv2_clip_push_air_unified     GMS per Unit        -0.849155  0.211644   \n",
       "2  nrv2_clip_push_air_unified_sw  Conversion Rate        -1.204569  0.000290   \n",
       "3  nrv2_clip_push_air_unified_sw     GMS per Unit        -0.401354  0.553345   \n",
       "4                             on  Conversion Rate        -0.185243  0.043404   \n",
       "\n",
       "   is_significant             res  \n",
       "0            True   (-0.78, True)  \n",
       "1           False  (-0.85, False)  \n",
       "2            True    (-1.2, True)  \n",
       "3           False   (-0.4, False)  \n",
       "4            True   (-0.19, True)  "
      ]
     },
     "execution_count": 5,
     "metadata": {},
     "output_type": "execute_result"
    }
   ],
   "source": [
    "online_raw_df.head()"
   ]
  },
  {
   "cell_type": "code",
   "execution_count": 6,
   "id": "f84e4cd8",
   "metadata": {},
   "outputs": [],
   "source": [
    "online_df = online_raw_df.pivot(index=['config_flag', 'start_date', 'end_date', \"variant_id\"], columns='metric', values='res')\n",
    "online_df = online_df.reset_index()"
   ]
  },
  {
   "cell_type": "code",
   "execution_count": 7,
   "id": "3703839d",
   "metadata": {},
   "outputs": [
    {
     "data": {
      "text/html": [
       "<div>\n",
       "<style scoped>\n",
       "    .dataframe tbody tr th:only-of-type {\n",
       "        vertical-align: middle;\n",
       "    }\n",
       "\n",
       "    .dataframe tbody tr th {\n",
       "        vertical-align: top;\n",
       "    }\n",
       "\n",
       "    .dataframe thead th {\n",
       "        text-align: right;\n",
       "    }\n",
       "</style>\n",
       "<table border=\"1\" class=\"dataframe\">\n",
       "  <thead>\n",
       "    <tr style=\"text-align: right;\">\n",
       "      <th>metric</th>\n",
       "      <th>config_flag</th>\n",
       "      <th>start_date</th>\n",
       "      <th>end_date</th>\n",
       "      <th>variant_id</th>\n",
       "      <th>Conversion Rate</th>\n",
       "      <th>GMS per Unit</th>\n",
       "      <th>purchase NDCG</th>\n",
       "    </tr>\n",
       "  </thead>\n",
       "  <tbody>\n",
       "    <tr>\n",
       "      <th>0</th>\n",
       "      <td>ranking/isearch.listing_diversity_mmr</td>\n",
       "      <td>2025-01-16</td>\n",
       "      <td>2025-01-20</td>\n",
       "      <td>on</td>\n",
       "      <td>(-1.53, True)</td>\n",
       "      <td>(-2.06, True)</td>\n",
       "      <td>(1.87, True)</td>\n",
       "    </tr>\n",
       "    <tr>\n",
       "      <th>1</th>\n",
       "      <td>ranking/isearch.listing_diversity_mmr_v2_0p7</td>\n",
       "      <td>2025-02-14</td>\n",
       "      <td>2025-02-26</td>\n",
       "      <td>on</td>\n",
       "      <td>(-0.41, False)</td>\n",
       "      <td>(-1.12, True)</td>\n",
       "      <td>NaN</td>\n",
       "    </tr>\n",
       "    <tr>\n",
       "      <th>2</th>\n",
       "      <td>ranking/isearch.listing_diversity_mmr_v2_0p9</td>\n",
       "      <td>2025-02-14</td>\n",
       "      <td>2025-02-26</td>\n",
       "      <td>on</td>\n",
       "      <td>(-0.38, False)</td>\n",
       "      <td>(-0.89, False)</td>\n",
       "      <td>NaN</td>\n",
       "    </tr>\n",
       "    <tr>\n",
       "      <th>3</th>\n",
       "      <td>ranking/search.mmx.2024_q2.nrv2_multitask_boe</td>\n",
       "      <td>2024-06-17</td>\n",
       "      <td>2024-06-26</td>\n",
       "      <td>on</td>\n",
       "      <td>(-0.34, False)</td>\n",
       "      <td>NaN</td>\n",
       "      <td>(5.97, False)</td>\n",
       "    </tr>\n",
       "    <tr>\n",
       "      <th>4</th>\n",
       "      <td>ranking/search.mmx.2024_q2.nrv2_multitask_web</td>\n",
       "      <td>2024-06-17</td>\n",
       "      <td>2024-06-26</td>\n",
       "      <td>on</td>\n",
       "      <td>(0.12, False)</td>\n",
       "      <td>NaN</td>\n",
       "      <td>(-0.18, False)</td>\n",
       "    </tr>\n",
       "    <tr>\n",
       "      <th>...</th>\n",
       "      <td>...</td>\n",
       "      <td>...</td>\n",
       "      <td>...</td>\n",
       "      <td>...</td>\n",
       "      <td>...</td>\n",
       "      <td>...</td>\n",
       "      <td>...</td>\n",
       "    </tr>\n",
       "    <tr>\n",
       "      <th>64</th>\n",
       "      <td>ranking/search.mmx.2025_q2.nrv2_unif_emb_b360_si</td>\n",
       "      <td>2025-04-08</td>\n",
       "      <td>2025-04-22</td>\n",
       "      <td>unified_embedding</td>\n",
       "      <td>(0.14, False)</td>\n",
       "      <td>(-0.15, False)</td>\n",
       "      <td>(0.3, False)</td>\n",
       "    </tr>\n",
       "    <tr>\n",
       "      <th>65</th>\n",
       "      <td>ranking/search.mmx.2025_q2.nrv2_unif_emb_so</td>\n",
       "      <td>2025-04-08</td>\n",
       "      <td>2025-04-22</td>\n",
       "      <td>on</td>\n",
       "      <td>(-0.65, True)</td>\n",
       "      <td>(-0.11, False)</td>\n",
       "      <td>(0.5, True)</td>\n",
       "    </tr>\n",
       "    <tr>\n",
       "      <th>66</th>\n",
       "      <td>ranking/search.mmx.2025_q2.nrv2_unified_ranking</td>\n",
       "      <td>2025-05-07</td>\n",
       "      <td>2025-05-15</td>\n",
       "      <td>nrv2_us_intl_v2_digital_si</td>\n",
       "      <td>(-0.21, False)</td>\n",
       "      <td>(0.04, False)</td>\n",
       "      <td>(1.42, True)</td>\n",
       "    </tr>\n",
       "    <tr>\n",
       "      <th>67</th>\n",
       "      <td>ranking/search.mmx.2025_q2.nrv2_unified_ranking</td>\n",
       "      <td>2025-05-07</td>\n",
       "      <td>2025-05-15</td>\n",
       "      <td>nrv2_us_intl_v2_si</td>\n",
       "      <td>(0.01, False)</td>\n",
       "      <td>(0.07, False)</td>\n",
       "      <td>(1.75, True)</td>\n",
       "    </tr>\n",
       "    <tr>\n",
       "      <th>68</th>\n",
       "      <td>ranking/search.mmx.2025_q2.nrv2_unified_rankin...</td>\n",
       "      <td>2025-05-23</td>\n",
       "      <td>2025-06-08</td>\n",
       "      <td>on</td>\n",
       "      <td>(-0.19, True)</td>\n",
       "      <td>(-0.33, False)</td>\n",
       "      <td>(1.51, True)</td>\n",
       "    </tr>\n",
       "  </tbody>\n",
       "</table>\n",
       "<p>69 rows × 7 columns</p>\n",
       "</div>"
      ],
      "text/plain": [
       "metric                                        config_flag  start_date  \\\n",
       "0                   ranking/isearch.listing_diversity_mmr  2025-01-16   \n",
       "1            ranking/isearch.listing_diversity_mmr_v2_0p7  2025-02-14   \n",
       "2            ranking/isearch.listing_diversity_mmr_v2_0p9  2025-02-14   \n",
       "3           ranking/search.mmx.2024_q2.nrv2_multitask_boe  2024-06-17   \n",
       "4           ranking/search.mmx.2024_q2.nrv2_multitask_web  2024-06-17   \n",
       "..                                                    ...         ...   \n",
       "64       ranking/search.mmx.2025_q2.nrv2_unif_emb_b360_si  2025-04-08   \n",
       "65            ranking/search.mmx.2025_q2.nrv2_unif_emb_so  2025-04-08   \n",
       "66        ranking/search.mmx.2025_q2.nrv2_unified_ranking  2025-05-07   \n",
       "67        ranking/search.mmx.2025_q2.nrv2_unified_ranking  2025-05-07   \n",
       "68      ranking/search.mmx.2025_q2.nrv2_unified_rankin...  2025-05-23   \n",
       "\n",
       "metric    end_date                  variant_id Conversion Rate  \\\n",
       "0       2025-01-20                          on   (-1.53, True)   \n",
       "1       2025-02-26                          on  (-0.41, False)   \n",
       "2       2025-02-26                          on  (-0.38, False)   \n",
       "3       2024-06-26                          on  (-0.34, False)   \n",
       "4       2024-06-26                          on   (0.12, False)   \n",
       "..             ...                         ...             ...   \n",
       "64      2025-04-22           unified_embedding   (0.14, False)   \n",
       "65      2025-04-22                          on   (-0.65, True)   \n",
       "66      2025-05-15  nrv2_us_intl_v2_digital_si  (-0.21, False)   \n",
       "67      2025-05-15          nrv2_us_intl_v2_si   (0.01, False)   \n",
       "68      2025-06-08                          on   (-0.19, True)   \n",
       "\n",
       "metric    GMS per Unit   purchase NDCG  \n",
       "0        (-2.06, True)    (1.87, True)  \n",
       "1        (-1.12, True)             NaN  \n",
       "2       (-0.89, False)             NaN  \n",
       "3                  NaN   (5.97, False)  \n",
       "4                  NaN  (-0.18, False)  \n",
       "..                 ...             ...  \n",
       "64      (-0.15, False)    (0.3, False)  \n",
       "65      (-0.11, False)     (0.5, True)  \n",
       "66       (0.04, False)    (1.42, True)  \n",
       "67       (0.07, False)    (1.75, True)  \n",
       "68      (-0.33, False)    (1.51, True)  \n",
       "\n",
       "[69 rows x 7 columns]"
      ]
     },
     "execution_count": 7,
     "metadata": {},
     "output_type": "execute_result"
    }
   ],
   "source": [
    "online_df"
   ]
  },
  {
   "cell_type": "code",
   "execution_count": 8,
   "id": "5a873e47",
   "metadata": {},
   "outputs": [],
   "source": [
    "online_df[\"cvr\"] = online_df[\"Conversion Rate\"].apply(lambda x: x if pd.isnull(x) else x[0])\n",
    "online_df[\"gms_per_unit\"] = online_df[\"GMS per Unit\"].apply(lambda x: x if pd.isnull(x) else x[0])\n",
    "online_df[\"pndcg\"] = online_df[\"purchase NDCG\"].apply(lambda x: x if pd.isnull(x) else x[0])\n",
    "\n",
    "online_df[\"cvr_sig\"] = online_df[\"Conversion Rate\"].apply(lambda x: x if pd.isnull(x) else x[1])\n",
    "online_df[\"gms_per_unit_sig\"] = online_df[\"GMS per Unit\"].apply(lambda x: x if pd.isnull(x) else x[1])\n",
    "online_df[\"pndcg_sig\"] = online_df[\"purchase NDCG\"].apply(lambda x: x if pd.isnull(x) else x[1])"
   ]
  },
  {
   "cell_type": "code",
   "execution_count": 9,
   "id": "0fd9077b",
   "metadata": {},
   "outputs": [],
   "source": [
    "online_df = online_df.sort_values(by=['start_date', 'variant_id'], ascending=[False, True])"
   ]
  },
  {
   "cell_type": "code",
   "execution_count": 10,
   "id": "196d5e2a",
   "metadata": {},
   "outputs": [],
   "source": [
    "online_df.to_csv(\"online_metrics_clean.csv\")"
   ]
  },
  {
   "cell_type": "code",
   "execution_count": null,
   "id": "e8f2f1c4",
   "metadata": {},
   "outputs": [],
   "source": []
  }
 ],
 "metadata": {
  "kernelspec": {
   "display_name": "venv",
   "language": "python",
   "name": "venv"
  },
  "language_info": {
   "codemirror_mode": {
    "name": "ipython",
    "version": 3
   },
   "file_extension": ".py",
   "mimetype": "text/x-python",
   "name": "python",
   "nbconvert_exporter": "python",
   "pygments_lexer": "ipython3",
   "version": "3.10.1"
  }
 },
 "nbformat": 4,
 "nbformat_minor": 5
}
