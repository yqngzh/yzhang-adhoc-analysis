{
 "cells": [
  {
   "cell_type": "code",
   "execution_count": 4,
   "id": "db6e946c",
   "metadata": {},
   "outputs": [],
   "source": [
    "from typing import Dict\n",
    "import numpy as np\n",
    "from google.cloud import bigquery"
   ]
  },
  {
   "cell_type": "code",
   "execution_count": 22,
   "id": "05afaa7b",
   "metadata": {},
   "outputs": [],
   "source": [
    "def run_query(\n",
    "    start_date: str, \n",
    "    end_date: str, \n",
    "    siso: str, \n",
    "    model_names: Dict[str, str], \n",
    "    source\n",
    "):\n",
    "    client = bigquery.Client(project=\"etsy-search-ml-dev\")\n",
    "    \n",
    "    if source == \"web\":\n",
    "        source_clause = \"source = 'web_purchase'\"\n",
    "    elif source == \"boe\":\n",
    "        source_clause = \"source = 'boe_purchase'\"\n",
    "    elif source == \"both\":\n",
    "        source_clause = \"source in ('web_purchase', 'boe_purchase')\"\n",
    "        \n",
    "    if siso == \"si\":\n",
    "        siso_clause = \"tags.userId > 0\"\n",
    "    elif siso == \"so\":\n",
    "        siso_clause = \"(tags.userId = 0 or tags.userId is null)\"\n",
    "    elif siso == \"all\":\n",
    "        siso_clause = \"True\"\n",
    "    \n",
    "    model_name_clause = list(model_names.values())\n",
    "    model_name_clause = \",\".join([f\"'{x}'\" for x in model_name_clause])\n",
    "    \n",
    "#     print(f\"{source_clause=}\")\n",
    "#     print(f\"{siso_clause=}\")\n",
    "#     print(f\"{model_name_clause=}\")\n",
    "    \n",
    "    query_str = f\"\"\"select \n",
    "      modelName,\n",
    "      avg(metrics.purchase.ndcg48) as avg_pndcg48,  \n",
    "      avg(metrics.purchase.ndcg10) as avg_pndcg10, \n",
    "      avg(metrics.purchase.dcgAttributedPrice10) as avg_ppdcg10\n",
    "    from `etsy-search-ml-prod.search_ranking.second_pass_eval`\n",
    "    where evalDate between date('{start_date}') and date('{end_date}')\n",
    "    and {source_clause}\n",
    "    and {siso_clause}\n",
    "    and modelName in (\n",
    "      {model_name_clause}\n",
    "    )\n",
    "    group by modelName\n",
    "    order by modelName\"\"\"\n",
    "    \n",
    "    print(query_str)\n",
    "    print(\"\\n\")\n",
    "    \n",
    "    query_job = client.query(query_str)\n",
    "    rows = query_job.result()\n",
    "    df = rows.to_dataframe()   \n",
    "    \n",
    "    ndcg48_ctrl = df[df.modelName == model_names[\"control\"]][\"avg_pndcg48\"].values[0]\n",
    "    ndcg48_variant = df[df.modelName == model_names[\"variant\"]][\"avg_pndcg48\"].values[0]\n",
    "    ndcg48_rel_diff = (ndcg48_variant - ndcg48_ctrl) / ndcg48_ctrl\n",
    "    print(f\"ndcg48: {ndcg48_rel_diff:.2%}\")\n",
    "    \n",
    "    ndcg10_ctrl = df[df.modelName == model_names[\"control\"]][\"avg_pndcg10\"].values[0]\n",
    "    ndcg10_variant = df[df.modelName == model_names[\"variant\"]][\"avg_pndcg10\"].values[0]\n",
    "    ndcg10_rel_diff = (ndcg10_variant - ndcg10_ctrl) / ndcg10_ctrl\n",
    "    print(f\"ndcg10: {ndcg10_rel_diff:.2%}\")\n",
    "    \n",
    "    ppdcg10_ctrl = df[df.modelName == model_names[\"control\"]][\"avg_ppdcg10\"].values[0]\n",
    "    ppdcg10_variant = df[df.modelName == model_names[\"variant\"]][\"avg_ppdcg10\"].values[0]\n",
    "    ppdcg10_rel_diff = (ppdcg10_variant - ppdcg10_ctrl) / ppdcg10_ctrl\n",
    "    print(f\"ppdcg10: {ppdcg10_rel_diff:.2%}\")\n",
    "    \n",
    "    return df"
   ]
  },
  {
   "cell_type": "code",
   "execution_count": 35,
   "id": "98461299",
   "metadata": {},
   "outputs": [],
   "source": [
    "start_date = \"2025-04-23\"\n",
    "end_date = \"2025-05-06\"\n",
    "siso = \"so\"\n",
    "source = \"both\"\n",
    "model_names = {\n",
    "    \"control\": \"nrv2-semrel-uni-serve-tm-so\",\n",
    "    \"variant\": \"nrv2-query-volume-so\"\n",
    "}"
   ]
  },
  {
   "cell_type": "code",
   "execution_count": 36,
   "id": "7632bb18",
   "metadata": {},
   "outputs": [
    {
     "name": "stderr",
     "output_type": "stream",
     "text": [
      "/Users/yzhang/development/yzhang-adhoc-analysis/venv/lib/python3.10/site-packages/google/auth/_default.py:76: UserWarning: Your application has authenticated using end user credentials from Google Cloud SDK without a quota project. You might receive a \"quota exceeded\" or \"API not enabled\" error. See the following page for troubleshooting: https://cloud.google.com/docs/authentication/adc-troubleshooting/user-creds. \n",
      "  warnings.warn(_CLOUD_SDK_CREDENTIALS_WARNING)\n"
     ]
    },
    {
     "name": "stdout",
     "output_type": "stream",
     "text": [
      "select \n",
      "      modelName,\n",
      "      avg(metrics.purchase.ndcg48) as avg_pndcg48,  \n",
      "      avg(metrics.purchase.ndcg10) as avg_pndcg10, \n",
      "      avg(metrics.purchase.dcgAttributedPrice10) as avg_ppdcg10\n",
      "    from `etsy-search-ml-prod.search_ranking.second_pass_eval`\n",
      "    where evalDate between date('2025-04-23') and date('2025-05-06')\n",
      "    and source in ('web_purchase', 'boe_purchase')\n",
      "    and (tags.userId = 0 or tags.userId is null)\n",
      "    and modelName in (\n",
      "      'nrv2-semrel-uni-serve-tm-so','nrv2-query-volume-so'\n",
      "    )\n",
      "    group by modelName\n",
      "    order by modelName\n",
      "\n",
      "\n",
      "ndcg48: -0.13%\n",
      "ndcg10: -0.18%\n",
      "ppdcg10: -0.32%\n"
     ]
    }
   ],
   "source": [
    "df = run_query(\n",
    "    start_date=start_date,\n",
    "    end_date=end_date, \n",
    "    siso=siso, \n",
    "    model_names=model_names, \n",
    "    source=source\n",
    ")"
   ]
  },
  {
   "cell_type": "code",
   "execution_count": null,
   "id": "33a22617",
   "metadata": {},
   "outputs": [],
   "source": []
  },
  {
   "cell_type": "code",
   "execution_count": null,
   "id": "b8d5c1fd",
   "metadata": {},
   "outputs": [],
   "source": []
  }
 ],
 "metadata": {
  "kernelspec": {
   "display_name": "venv",
   "language": "python",
   "name": "venv"
  },
  "language_info": {
   "codemirror_mode": {
    "name": "ipython",
    "version": 3
   },
   "file_extension": ".py",
   "mimetype": "text/x-python",
   "name": "python",
   "nbconvert_exporter": "python",
   "pygments_lexer": "ipython3",
   "version": "3.10.1"
  }
 },
 "nbformat": 4,
 "nbformat_minor": 5
}
