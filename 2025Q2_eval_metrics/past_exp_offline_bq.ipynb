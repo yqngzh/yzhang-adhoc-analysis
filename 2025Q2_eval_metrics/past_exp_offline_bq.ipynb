{
 "cells": [
  {
   "cell_type": "code",
   "execution_count": 3,
   "id": "db6e946c",
   "metadata": {},
   "outputs": [],
   "source": [
    "from typing import Dict\n",
    "import numpy as np\n",
    "from google.cloud import bigquery"
   ]
  },
  {
   "cell_type": "code",
   "execution_count": 4,
   "id": "05afaa7b",
   "metadata": {},
   "outputs": [],
   "source": [
    "def run_query(\n",
    "    start_date: str, \n",
    "    end_date: str, \n",
    "    siso: str, \n",
    "    model_names: Dict[str, str], \n",
    "    source: str,\n",
    "    us_only: bool = True,\n",
    "    intl_only: bool = False,\n",
    "):\n",
    "    client = bigquery.Client(project=\"etsy-search-ml-dev\")\n",
    "    \n",
    "    if source == \"web\":\n",
    "        source_clause = \"source = 'web_purchase'\"\n",
    "    elif source == \"boe\":\n",
    "        source_clause = \"source = 'boe_purchase'\"\n",
    "    elif source == \"both\":\n",
    "        source_clause = \"source in ('web_purchase', 'boe_purchase')\"\n",
    "        \n",
    "    if siso == \"si\":\n",
    "        siso_clause = \"tags.userId > 0\"\n",
    "    elif siso == \"so\":\n",
    "        siso_clause = \"(tags.userId = 0 or tags.userId is null)\"\n",
    "    elif siso == \"both\":\n",
    "        siso_clause = \"True\"\n",
    "        \n",
    "    if us_only:\n",
    "        traffic_clause = \"(tags.userCountry='US')\"\n",
    "    elif intl_only:\n",
    "        traffic_clause = \"(tags.userCountry!='US')\"\n",
    "    else:\n",
    "        traffic_clause = \"True\"\n",
    "    \n",
    "    model_name_clause = list(model_names.values())\n",
    "    model_name_clause = \",\".join([f\"'{x}'\" for x in model_name_clause])\n",
    "    \n",
    "#     print(f\"{source_clause=}\")\n",
    "#     print(f\"{siso_clause=}\")\n",
    "#     print(f\"{model_name_clause=}\")\n",
    "    \n",
    "    query_str = f\"\"\"select \n",
    "      modelName,\n",
    "      avg(metrics.purchase.ndcg48) as avg_pndcg48,  \n",
    "      avg(metrics.purchase.ndcg10) as avg_pndcg10, \n",
    "      avg(metrics.purchase.dcgAttributedPrice10) as avg_ppdcg10\n",
    "    from `etsy-search-ml-prod.search_ranking.second_pass_eval`\n",
    "    where evalDate between date('{start_date}') and date('{end_date}')\n",
    "    and {source_clause}\n",
    "    and {siso_clause}\n",
    "    and {traffic_clause}\n",
    "    and modelName in (\n",
    "      {model_name_clause}\n",
    "    )\n",
    "    group by modelName\n",
    "    order by modelName\"\"\"\n",
    "    \n",
    "    print(query_str)\n",
    "    print(\"\\n\")\n",
    "    \n",
    "    query_job = client.query(query_str)\n",
    "    rows = query_job.result()\n",
    "    df = rows.to_dataframe()   \n",
    "    \n",
    "    ndcg48_ctrl = df[df.modelName == model_names[\"control\"]][\"avg_pndcg48\"].values[0]\n",
    "    ndcg48_variant = df[df.modelName == model_names[\"variant\"]][\"avg_pndcg48\"].values[0]\n",
    "    ndcg48_rel_diff = (ndcg48_variant - ndcg48_ctrl) / ndcg48_ctrl\n",
    "    print(f\"ndcg48: {ndcg48_rel_diff:.2%}\")\n",
    "    \n",
    "    ndcg10_ctrl = df[df.modelName == model_names[\"control\"]][\"avg_pndcg10\"].values[0]\n",
    "    ndcg10_variant = df[df.modelName == model_names[\"variant\"]][\"avg_pndcg10\"].values[0]\n",
    "    ndcg10_rel_diff = (ndcg10_variant - ndcg10_ctrl) / ndcg10_ctrl\n",
    "    print(f\"ndcg10: {ndcg10_rel_diff:.2%}\")\n",
    "    \n",
    "    ppdcg10_ctrl = df[df.modelName == model_names[\"control\"]][\"avg_ppdcg10\"].values[0]\n",
    "    ppdcg10_variant = df[df.modelName == model_names[\"variant\"]][\"avg_ppdcg10\"].values[0]\n",
    "    ppdcg10_rel_diff = (ppdcg10_variant - ppdcg10_ctrl) / ppdcg10_ctrl\n",
    "    print(f\"ppdcg10: {ppdcg10_rel_diff:.2%}\")\n",
    "    \n",
    "    return df"
   ]
  },
  {
   "cell_type": "code",
   "execution_count": null,
   "id": "83fca6d2",
   "metadata": {},
   "outputs": [],
   "source": []
  },
  {
   "cell_type": "code",
   "execution_count": 3,
   "id": "7632bb18",
   "metadata": {},
   "outputs": [
    {
     "name": "stderr",
     "output_type": "stream",
     "text": [
      "/Users/yzhang/development/yzhang-adhoc-analysis/venv/lib/python3.10/site-packages/google/auth/_default.py:76: UserWarning: Your application has authenticated using end user credentials from Google Cloud SDK without a quota project. You might receive a \"quota exceeded\" or \"API not enabled\" error. See the following page for troubleshooting: https://cloud.google.com/docs/authentication/adc-troubleshooting/user-creds. \n",
      "  warnings.warn(_CLOUD_SDK_CREDENTIALS_WARNING)\n"
     ]
    },
    {
     "name": "stdout",
     "output_type": "stream",
     "text": [
      "select \n",
      "      modelName,\n",
      "      avg(metrics.purchase.ndcg48) as avg_pndcg48,  \n",
      "      avg(metrics.purchase.ndcg10) as avg_pndcg10, \n",
      "      avg(metrics.purchase.dcgAttributedPrice10) as avg_ppdcg10\n",
      "    from `etsy-search-ml-prod.search_ranking.second_pass_eval`\n",
      "    where evalDate between date('2025-03-12') and date('2025-03-27')\n",
      "    and source in ('web_purchase', 'boe_purchase')\n",
      "    and tags.userId > 0\n",
      "    and (tags.userCountry='US')\n",
      "    and modelName in (\n",
      "      'nrv2-no-borda-tm-si','nrv2-us-intl-si'\n",
      "    )\n",
      "    group by modelName\n",
      "    order by modelName\n",
      "\n",
      "\n",
      "ndcg48: 0.80%\n",
      "ndcg10: 1.25%\n",
      "ppdcg10: 1.37%\n"
     ]
    }
   ],
   "source": [
    "# US model w/ added intl features (SI)\n",
    "df = run_query(\n",
    "    start_date=\"2025-03-12\",\n",
    "    end_date=\"2025-03-27\", \n",
    "    siso=\"si\", \n",
    "    model_names={\n",
    "        \"control\": \"nrv2-no-borda-tm-si\",\n",
    "        \"variant\": \"nrv2-us-intl-si\"\n",
    "    }, \n",
    "    source=\"both\",\n",
    "    us_only=True,\n",
    "    intl_only=False,\n",
    ")"
   ]
  },
  {
   "cell_type": "code",
   "execution_count": 4,
   "id": "33a22617",
   "metadata": {},
   "outputs": [
    {
     "name": "stderr",
     "output_type": "stream",
     "text": [
      "/Users/yzhang/development/yzhang-adhoc-analysis/venv/lib/python3.10/site-packages/google/auth/_default.py:76: UserWarning: Your application has authenticated using end user credentials from Google Cloud SDK without a quota project. You might receive a \"quota exceeded\" or \"API not enabled\" error. See the following page for troubleshooting: https://cloud.google.com/docs/authentication/adc-troubleshooting/user-creds. \n",
      "  warnings.warn(_CLOUD_SDK_CREDENTIALS_WARNING)\n"
     ]
    },
    {
     "name": "stdout",
     "output_type": "stream",
     "text": [
      "select \n",
      "      modelName,\n",
      "      avg(metrics.purchase.ndcg48) as avg_pndcg48,  \n",
      "      avg(metrics.purchase.ndcg10) as avg_pndcg10, \n",
      "      avg(metrics.purchase.dcgAttributedPrice10) as avg_ppdcg10\n",
      "    from `etsy-search-ml-prod.search_ranking.second_pass_eval`\n",
      "    where evalDate between date('2025-03-12') and date('2025-03-27')\n",
      "    and source in ('web_purchase', 'boe_purchase')\n",
      "    and (tags.userId = 0 or tags.userId is null)\n",
      "    and (tags.userCountry='US')\n",
      "    and modelName in (\n",
      "      'nrv2-semrel-uni-serve-tm-so','nrv2-us-intl-so'\n",
      "    )\n",
      "    group by modelName\n",
      "    order by modelName\n",
      "\n",
      "\n",
      "ndcg48: 0.28%\n",
      "ndcg10: 0.40%\n",
      "ppdcg10: 0.56%\n"
     ]
    }
   ],
   "source": [
    "# US model w/ added intl features (SO)\n",
    "df = run_query(\n",
    "    start_date=\"2025-03-12\",\n",
    "    end_date=\"2025-03-27\", \n",
    "    siso=\"so\", \n",
    "    model_names={\n",
    "        \"control\": \"nrv2-semrel-uni-serve-tm-so\",\n",
    "        \"variant\": \"nrv2-us-intl-so\"\n",
    "    }, \n",
    "    source=\"both\",\n",
    "    us_only=True,\n",
    "    intl_only=False,\n",
    ")"
   ]
  },
  {
   "cell_type": "code",
   "execution_count": 5,
   "id": "b8d5c1fd",
   "metadata": {},
   "outputs": [
    {
     "name": "stderr",
     "output_type": "stream",
     "text": [
      "/Users/yzhang/development/yzhang-adhoc-analysis/venv/lib/python3.10/site-packages/google/auth/_default.py:76: UserWarning: Your application has authenticated using end user credentials from Google Cloud SDK without a quota project. You might receive a \"quota exceeded\" or \"API not enabled\" error. See the following page for troubleshooting: https://cloud.google.com/docs/authentication/adc-troubleshooting/user-creds. \n",
      "  warnings.warn(_CLOUD_SDK_CREDENTIALS_WARNING)\n"
     ]
    },
    {
     "name": "stdout",
     "output_type": "stream",
     "text": [
      "select \n",
      "      modelName,\n",
      "      avg(metrics.purchase.ndcg48) as avg_pndcg48,  \n",
      "      avg(metrics.purchase.ndcg10) as avg_pndcg10, \n",
      "      avg(metrics.purchase.dcgAttributedPrice10) as avg_ppdcg10\n",
      "    from `etsy-search-ml-prod.search_ranking.second_pass_eval`\n",
      "    where evalDate between date('2025-04-08') and date('2025-04-22')\n",
      "    and source in ('web_purchase', 'boe_purchase')\n",
      "    and tags.userId > 0\n",
      "    and (tags.userCountry='US')\n",
      "    and modelName in (\n",
      "      'nrv2-us-intl-si','nrv2-unif-emb-si'\n",
      "    )\n",
      "    group by modelName\n",
      "    order by modelName\n",
      "\n",
      "\n",
      "ndcg48: 0.08%\n",
      "ndcg10: 0.20%\n",
      "ppdcg10: 0.10%\n"
     ]
    }
   ],
   "source": [
    "# Categorical Embeddings + Buyer360 SI\n",
    "df = run_query(\n",
    "    start_date=\"2025-04-08\",\n",
    "    end_date=\"2025-04-22\", \n",
    "    siso=\"si\", \n",
    "    model_names={\n",
    "        \"control\": \"nrv2-us-intl-si\",\n",
    "        \"variant\": \"nrv2-unif-emb-si\"\n",
    "    }, \n",
    "    source=\"both\",\n",
    "    us_only=True,\n",
    "    intl_only=False,\n",
    ")"
   ]
  },
  {
   "cell_type": "code",
   "execution_count": 6,
   "id": "a27715ac",
   "metadata": {},
   "outputs": [
    {
     "name": "stderr",
     "output_type": "stream",
     "text": [
      "/Users/yzhang/development/yzhang-adhoc-analysis/venv/lib/python3.10/site-packages/google/auth/_default.py:76: UserWarning: Your application has authenticated using end user credentials from Google Cloud SDK without a quota project. You might receive a \"quota exceeded\" or \"API not enabled\" error. See the following page for troubleshooting: https://cloud.google.com/docs/authentication/adc-troubleshooting/user-creds. \n",
      "  warnings.warn(_CLOUD_SDK_CREDENTIALS_WARNING)\n"
     ]
    },
    {
     "name": "stdout",
     "output_type": "stream",
     "text": [
      "select \n",
      "      modelName,\n",
      "      avg(metrics.purchase.ndcg48) as avg_pndcg48,  \n",
      "      avg(metrics.purchase.ndcg10) as avg_pndcg10, \n",
      "      avg(metrics.purchase.dcgAttributedPrice10) as avg_ppdcg10\n",
      "    from `etsy-search-ml-prod.search_ranking.second_pass_eval`\n",
      "    where evalDate between date('2025-04-08') and date('2025-04-22')\n",
      "    and source in ('web_purchase', 'boe_purchase')\n",
      "    and tags.userId > 0\n",
      "    and (tags.userCountry='US')\n",
      "    and modelName in (\n",
      "      'nrv2-us-intl-si','nrv2-unif-emb-b360-si'\n",
      "    )\n",
      "    group by modelName\n",
      "    order by modelName\n",
      "\n",
      "\n",
      "ndcg48: 0.17%\n",
      "ndcg10: 0.35%\n",
      "ppdcg10: 0.74%\n"
     ]
    }
   ],
   "source": [
    "# Categorical Embeddings + Buyer360 SI\n",
    "df = run_query(\n",
    "    start_date=\"2025-04-08\",\n",
    "    end_date=\"2025-04-22\", \n",
    "    siso=\"si\", \n",
    "    model_names={\n",
    "        \"control\": \"nrv2-us-intl-si\",\n",
    "        \"variant\": \"nrv2-unif-emb-b360-si\"\n",
    "    }, \n",
    "    source=\"both\",\n",
    "    us_only=True,\n",
    "    intl_only=False,\n",
    ")"
   ]
  },
  {
   "cell_type": "code",
   "execution_count": 7,
   "id": "894d2653",
   "metadata": {},
   "outputs": [
    {
     "name": "stderr",
     "output_type": "stream",
     "text": [
      "/Users/yzhang/development/yzhang-adhoc-analysis/venv/lib/python3.10/site-packages/google/auth/_default.py:76: UserWarning: Your application has authenticated using end user credentials from Google Cloud SDK without a quota project. You might receive a \"quota exceeded\" or \"API not enabled\" error. See the following page for troubleshooting: https://cloud.google.com/docs/authentication/adc-troubleshooting/user-creds. \n",
      "  warnings.warn(_CLOUD_SDK_CREDENTIALS_WARNING)\n"
     ]
    },
    {
     "name": "stdout",
     "output_type": "stream",
     "text": [
      "select \n",
      "      modelName,\n",
      "      avg(metrics.purchase.ndcg48) as avg_pndcg48,  \n",
      "      avg(metrics.purchase.ndcg10) as avg_pndcg10, \n",
      "      avg(metrics.purchase.dcgAttributedPrice10) as avg_ppdcg10\n",
      "    from `etsy-search-ml-prod.search_ranking.second_pass_eval`\n",
      "    where evalDate between date('2025-04-08') and date('2025-04-22')\n",
      "    and source in ('web_purchase', 'boe_purchase')\n",
      "    and (tags.userId = 0 or tags.userId is null)\n",
      "    and (tags.userCountry='US')\n",
      "    and modelName in (\n",
      "      'nrv2-semrel-uni-serve-tm-so','nrv2-unif-emb-so'\n",
      "    )\n",
      "    group by modelName\n",
      "    order by modelName\n",
      "\n",
      "\n",
      "ndcg48: -0.16%\n",
      "ndcg10: -0.33%\n",
      "ppdcg10: 0.10%\n"
     ]
    }
   ],
   "source": [
    "# Categorical Embeddings SO\n",
    "df = run_query(\n",
    "    start_date=\"2025-04-08\",\n",
    "    end_date=\"2025-04-22\", \n",
    "    siso=\"so\", \n",
    "    model_names={\n",
    "        \"control\": \"nrv2-semrel-uni-serve-tm-so\",\n",
    "        \"variant\": \"nrv2-unif-emb-so\"\n",
    "    }, \n",
    "    source=\"both\",\n",
    "    us_only=True,\n",
    "    intl_only=False,\n",
    ")"
   ]
  },
  {
   "cell_type": "code",
   "execution_count": 8,
   "id": "40a5859f",
   "metadata": {},
   "outputs": [
    {
     "name": "stderr",
     "output_type": "stream",
     "text": [
      "/Users/yzhang/development/yzhang-adhoc-analysis/venv/lib/python3.10/site-packages/google/auth/_default.py:76: UserWarning: Your application has authenticated using end user credentials from Google Cloud SDK without a quota project. You might receive a \"quota exceeded\" or \"API not enabled\" error. See the following page for troubleshooting: https://cloud.google.com/docs/authentication/adc-troubleshooting/user-creds. \n",
      "  warnings.warn(_CLOUD_SDK_CREDENTIALS_WARNING)\n"
     ]
    },
    {
     "name": "stdout",
     "output_type": "stream",
     "text": [
      "select \n",
      "      modelName,\n",
      "      avg(metrics.purchase.ndcg48) as avg_pndcg48,  \n",
      "      avg(metrics.purchase.ndcg10) as avg_pndcg10, \n",
      "      avg(metrics.purchase.dcgAttributedPrice10) as avg_ppdcg10\n",
      "    from `etsy-search-ml-prod.search_ranking.second_pass_eval`\n",
      "    where evalDate between date('2025-04-23') and date('2025-05-06')\n",
      "    and source in ('web_purchase', 'boe_purchase')\n",
      "    and tags.userId > 0\n",
      "    and (tags.userCountry='US')\n",
      "    and modelName in (\n",
      "      'nrv2-us-intl-si','nrv2-query-volume-si'\n",
      "    )\n",
      "    group by modelName\n",
      "    order by modelName\n",
      "\n",
      "\n",
      "ndcg48: -0.08%\n",
      "ndcg10: -0.14%\n",
      "ppdcg10: -0.13%\n"
     ]
    }
   ],
   "source": [
    "# Query Volume Weighting SI\n",
    "df = run_query(\n",
    "    start_date=\"2025-04-23\",\n",
    "    end_date=\"2025-05-06\", \n",
    "    siso=\"si\", \n",
    "    model_names={\n",
    "        \"control\": \"nrv2-us-intl-si\",\n",
    "        \"variant\": \"nrv2-query-volume-si\"\n",
    "    }, \n",
    "    source=\"both\",\n",
    "    us_only=True,\n",
    "    intl_only=False,\n",
    ")"
   ]
  },
  {
   "cell_type": "code",
   "execution_count": 9,
   "id": "ce05f100",
   "metadata": {},
   "outputs": [
    {
     "name": "stderr",
     "output_type": "stream",
     "text": [
      "/Users/yzhang/development/yzhang-adhoc-analysis/venv/lib/python3.10/site-packages/google/auth/_default.py:76: UserWarning: Your application has authenticated using end user credentials from Google Cloud SDK without a quota project. You might receive a \"quota exceeded\" or \"API not enabled\" error. See the following page for troubleshooting: https://cloud.google.com/docs/authentication/adc-troubleshooting/user-creds. \n",
      "  warnings.warn(_CLOUD_SDK_CREDENTIALS_WARNING)\n"
     ]
    },
    {
     "name": "stdout",
     "output_type": "stream",
     "text": [
      "select \n",
      "      modelName,\n",
      "      avg(metrics.purchase.ndcg48) as avg_pndcg48,  \n",
      "      avg(metrics.purchase.ndcg10) as avg_pndcg10, \n",
      "      avg(metrics.purchase.dcgAttributedPrice10) as avg_ppdcg10\n",
      "    from `etsy-search-ml-prod.search_ranking.second_pass_eval`\n",
      "    where evalDate between date('2025-04-23') and date('2025-05-06')\n",
      "    and source in ('web_purchase', 'boe_purchase')\n",
      "    and (tags.userId = 0 or tags.userId is null)\n",
      "    and (tags.userCountry='US')\n",
      "    and modelName in (\n",
      "      'nrv2-semrel-uni-serve-tm-so','nrv2-query-volume-so'\n",
      "    )\n",
      "    group by modelName\n",
      "    order by modelName\n",
      "\n",
      "\n",
      "ndcg48: -0.17%\n",
      "ndcg10: -0.24%\n",
      "ppdcg10: -0.41%\n"
     ]
    }
   ],
   "source": [
    "# Query Volume Weighting SO\n",
    "df = run_query(\n",
    "    start_date=\"2025-04-23\",\n",
    "    end_date=\"2025-05-06\", \n",
    "    siso=\"so\", \n",
    "    model_names={\n",
    "        \"control\": \"nrv2-semrel-uni-serve-tm-so\",\n",
    "        \"variant\": \"nrv2-query-volume-so\"\n",
    "    }, \n",
    "    source=\"both\",\n",
    "    us_only=True,\n",
    "    intl_only=False,\n",
    ")"
   ]
  },
  {
   "cell_type": "code",
   "execution_count": null,
   "id": "084b0bf6",
   "metadata": {},
   "outputs": [],
   "source": []
  },
  {
   "cell_type": "markdown",
   "id": "5fedb921",
   "metadata": {},
   "source": [
    "Unified model try 1 - nrv2_us_intl_v2_si"
   ]
  },
  {
   "cell_type": "code",
   "execution_count": 10,
   "id": "b5349866",
   "metadata": {},
   "outputs": [
    {
     "name": "stderr",
     "output_type": "stream",
     "text": [
      "/Users/yzhang/development/yzhang-adhoc-analysis/venv/lib/python3.10/site-packages/google/auth/_default.py:76: UserWarning: Your application has authenticated using end user credentials from Google Cloud SDK without a quota project. You might receive a \"quota exceeded\" or \"API not enabled\" error. See the following page for troubleshooting: https://cloud.google.com/docs/authentication/adc-troubleshooting/user-creds. \n",
      "  warnings.warn(_CLOUD_SDK_CREDENTIALS_WARNING)\n"
     ]
    },
    {
     "name": "stdout",
     "output_type": "stream",
     "text": [
      "select \n",
      "      modelName,\n",
      "      avg(metrics.purchase.ndcg48) as avg_pndcg48,  \n",
      "      avg(metrics.purchase.ndcg10) as avg_pndcg10, \n",
      "      avg(metrics.purchase.dcgAttributedPrice10) as avg_ppdcg10\n",
      "    from `etsy-search-ml-prod.search_ranking.second_pass_eval`\n",
      "    where evalDate between date('2025-05-07') and date('2025-05-15')\n",
      "    and source in ('web_purchase', 'boe_purchase')\n",
      "    and (tags.userId = 0 or tags.userId is null)\n",
      "    and (tags.userCountry='US')\n",
      "    and modelName in (\n",
      "      'nrv2-semrel-uni-serve-tm-so','nrv2-us-intl-v2-si'\n",
      "    )\n",
      "    group by modelName\n",
      "    order by modelName\n",
      "\n",
      "\n",
      "ndcg48: -0.15%\n",
      "ndcg10: -0.31%\n",
      "ppdcg10: -1.85%\n"
     ]
    }
   ],
   "source": [
    "# US SO\n",
    "df = run_query(\n",
    "    start_date=\"2025-05-07\",\n",
    "    end_date=\"2025-05-15\", \n",
    "    siso=\"so\", \n",
    "    model_names={\n",
    "        \"control\": \"nrv2-semrel-uni-serve-tm-so\",\n",
    "        \"variant\": \"nrv2-us-intl-v2-si\"\n",
    "    }, \n",
    "    source=\"both\",\n",
    "    us_only=True,\n",
    "    intl_only=False,\n",
    ")"
   ]
  },
  {
   "cell_type": "code",
   "execution_count": 11,
   "id": "c2834c2c",
   "metadata": {},
   "outputs": [
    {
     "name": "stderr",
     "output_type": "stream",
     "text": [
      "/Users/yzhang/development/yzhang-adhoc-analysis/venv/lib/python3.10/site-packages/google/auth/_default.py:76: UserWarning: Your application has authenticated using end user credentials from Google Cloud SDK without a quota project. You might receive a \"quota exceeded\" or \"API not enabled\" error. See the following page for troubleshooting: https://cloud.google.com/docs/authentication/adc-troubleshooting/user-creds. \n",
      "  warnings.warn(_CLOUD_SDK_CREDENTIALS_WARNING)\n"
     ]
    },
    {
     "name": "stdout",
     "output_type": "stream",
     "text": [
      "select \n",
      "      modelName,\n",
      "      avg(metrics.purchase.ndcg48) as avg_pndcg48,  \n",
      "      avg(metrics.purchase.ndcg10) as avg_pndcg10, \n",
      "      avg(metrics.purchase.dcgAttributedPrice10) as avg_ppdcg10\n",
      "    from `etsy-search-ml-prod.search_ranking.second_pass_eval`\n",
      "    where evalDate between date('2025-05-07') and date('2025-05-15')\n",
      "    and source in ('web_purchase', 'boe_purchase')\n",
      "    and tags.userId > 0\n",
      "    and (tags.userCountry='US')\n",
      "    and modelName in (\n",
      "      'nrv2-us-intl-si','nrv2-us-intl-v2-si'\n",
      "    )\n",
      "    group by modelName\n",
      "    order by modelName\n",
      "\n",
      "\n",
      "ndcg48: 0.07%\n",
      "ndcg10: 0.11%\n",
      "ppdcg10: 0.30%\n"
     ]
    }
   ],
   "source": [
    "# US SI\n",
    "df = run_query(\n",
    "    start_date=\"2025-05-07\",\n",
    "    end_date=\"2025-05-15\", \n",
    "    siso=\"si\", \n",
    "    model_names={\n",
    "        \"control\": \"nrv2-us-intl-si\",\n",
    "        \"variant\": \"nrv2-us-intl-v2-si\"\n",
    "    }, \n",
    "    source=\"both\",\n",
    "    us_only=True,\n",
    "    intl_only=False,\n",
    ")"
   ]
  },
  {
   "cell_type": "code",
   "execution_count": 14,
   "id": "d9952bdd",
   "metadata": {},
   "outputs": [
    {
     "name": "stderr",
     "output_type": "stream",
     "text": [
      "/Users/yzhang/development/yzhang-adhoc-analysis/venv/lib/python3.10/site-packages/google/auth/_default.py:76: UserWarning: Your application has authenticated using end user credentials from Google Cloud SDK without a quota project. You might receive a \"quota exceeded\" or \"API not enabled\" error. See the following page for troubleshooting: https://cloud.google.com/docs/authentication/adc-troubleshooting/user-creds. \n",
      "  warnings.warn(_CLOUD_SDK_CREDENTIALS_WARNING)\n"
     ]
    },
    {
     "name": "stdout",
     "output_type": "stream",
     "text": [
      "select \n",
      "      modelName,\n",
      "      avg(metrics.purchase.ndcg48) as avg_pndcg48,  \n",
      "      avg(metrics.purchase.ndcg10) as avg_pndcg10, \n",
      "      avg(metrics.purchase.dcgAttributedPrice10) as avg_ppdcg10\n",
      "    from `etsy-search-ml-prod.search_ranking.second_pass_eval`\n",
      "    where evalDate between date('2025-05-07') and date('2025-05-15')\n",
      "    and source in ('web_purchase', 'boe_purchase')\n",
      "    and True\n",
      "    and (tags.userCountry!='US')\n",
      "    and modelName in (\n",
      "      'nr-loc-no-xwalk-56d','nrv2-us-intl-v2-si'\n",
      "    )\n",
      "    group by modelName\n",
      "    order by modelName\n",
      "\n",
      "\n",
      "ndcg48: 0.66%\n",
      "ndcg10: 0.78%\n",
      "ppdcg10: 1.25%\n"
     ]
    }
   ],
   "source": [
    "# INTL\n",
    "df = run_query(\n",
    "    start_date=\"2025-05-07\",\n",
    "    end_date=\"2025-05-15\", \n",
    "    siso=\"both\", \n",
    "    model_names={\n",
    "        \"control\": \"nr-loc-no-xwalk-56d\",\n",
    "        \"variant\": \"nrv2-us-intl-v2-si\"\n",
    "    }, \n",
    "    source=\"both\",\n",
    "    us_only=False,\n",
    "    intl_only=True,\n",
    ")"
   ]
  },
  {
   "cell_type": "code",
   "execution_count": null,
   "id": "98487108",
   "metadata": {},
   "outputs": [],
   "source": []
  },
  {
   "cell_type": "markdown",
   "id": "f618a480",
   "metadata": {},
   "source": [
    "Unified model try 1 - nrv2_us_intl_v2_digital_si"
   ]
  },
  {
   "cell_type": "code",
   "execution_count": 15,
   "id": "bac6965d",
   "metadata": {},
   "outputs": [
    {
     "name": "stderr",
     "output_type": "stream",
     "text": [
      "/Users/yzhang/development/yzhang-adhoc-analysis/venv/lib/python3.10/site-packages/google/auth/_default.py:76: UserWarning: Your application has authenticated using end user credentials from Google Cloud SDK without a quota project. You might receive a \"quota exceeded\" or \"API not enabled\" error. See the following page for troubleshooting: https://cloud.google.com/docs/authentication/adc-troubleshooting/user-creds. \n",
      "  warnings.warn(_CLOUD_SDK_CREDENTIALS_WARNING)\n"
     ]
    },
    {
     "name": "stdout",
     "output_type": "stream",
     "text": [
      "select \n",
      "      modelName,\n",
      "      avg(metrics.purchase.ndcg48) as avg_pndcg48,  \n",
      "      avg(metrics.purchase.ndcg10) as avg_pndcg10, \n",
      "      avg(metrics.purchase.dcgAttributedPrice10) as avg_ppdcg10\n",
      "    from `etsy-search-ml-prod.search_ranking.second_pass_eval`\n",
      "    where evalDate between date('2025-05-07') and date('2025-05-15')\n",
      "    and source in ('web_purchase', 'boe_purchase')\n",
      "    and (tags.userId = 0 or tags.userId is null)\n",
      "    and (tags.userCountry='US')\n",
      "    and modelName in (\n",
      "      'nrv2-semrel-uni-serve-tm-so','nrv2-us-intl-v2-digital-si'\n",
      "    )\n",
      "    group by modelName\n",
      "    order by modelName\n",
      "\n",
      "\n",
      "ndcg48: -0.63%\n",
      "ndcg10: -1.03%\n",
      "ppdcg10: -2.19%\n"
     ]
    }
   ],
   "source": [
    "# US SO\n",
    "df = run_query(\n",
    "    start_date=\"2025-05-07\",\n",
    "    end_date=\"2025-05-15\", \n",
    "    siso=\"so\", \n",
    "    model_names={\n",
    "        \"control\": \"nrv2-semrel-uni-serve-tm-so\",\n",
    "        \"variant\": \"nrv2-us-intl-v2-digital-si\"\n",
    "    }, \n",
    "    source=\"both\",\n",
    "    us_only=True,\n",
    "    intl_only=False,\n",
    ")"
   ]
  },
  {
   "cell_type": "code",
   "execution_count": 16,
   "id": "0081eaad",
   "metadata": {},
   "outputs": [
    {
     "name": "stderr",
     "output_type": "stream",
     "text": [
      "/Users/yzhang/development/yzhang-adhoc-analysis/venv/lib/python3.10/site-packages/google/auth/_default.py:76: UserWarning: Your application has authenticated using end user credentials from Google Cloud SDK without a quota project. You might receive a \"quota exceeded\" or \"API not enabled\" error. See the following page for troubleshooting: https://cloud.google.com/docs/authentication/adc-troubleshooting/user-creds. \n",
      "  warnings.warn(_CLOUD_SDK_CREDENTIALS_WARNING)\n"
     ]
    },
    {
     "name": "stdout",
     "output_type": "stream",
     "text": [
      "select \n",
      "      modelName,\n",
      "      avg(metrics.purchase.ndcg48) as avg_pndcg48,  \n",
      "      avg(metrics.purchase.ndcg10) as avg_pndcg10, \n",
      "      avg(metrics.purchase.dcgAttributedPrice10) as avg_ppdcg10\n",
      "    from `etsy-search-ml-prod.search_ranking.second_pass_eval`\n",
      "    where evalDate between date('2025-05-07') and date('2025-05-15')\n",
      "    and source in ('web_purchase', 'boe_purchase')\n",
      "    and tags.userId > 0\n",
      "    and (tags.userCountry='US')\n",
      "    and modelName in (\n",
      "      'nrv2-us-intl-si','nrv2-us-intl-v2-digital-si'\n",
      "    )\n",
      "    group by modelName\n",
      "    order by modelName\n",
      "\n",
      "\n",
      "ndcg48: -0.39%\n",
      "ndcg10: -0.57%\n",
      "ppdcg10: -0.02%\n"
     ]
    }
   ],
   "source": [
    "# US SI\n",
    "df = run_query(\n",
    "    start_date=\"2025-05-07\",\n",
    "    end_date=\"2025-05-15\", \n",
    "    siso=\"si\", \n",
    "    model_names={\n",
    "        \"control\": \"nrv2-us-intl-si\",\n",
    "        \"variant\": \"nrv2-us-intl-v2-digital-si\"\n",
    "    }, \n",
    "    source=\"both\",\n",
    "    us_only=True,\n",
    "    intl_only=False,\n",
    ")"
   ]
  },
  {
   "cell_type": "code",
   "execution_count": 17,
   "id": "e92bf609",
   "metadata": {},
   "outputs": [
    {
     "name": "stderr",
     "output_type": "stream",
     "text": [
      "/Users/yzhang/development/yzhang-adhoc-analysis/venv/lib/python3.10/site-packages/google/auth/_default.py:76: UserWarning: Your application has authenticated using end user credentials from Google Cloud SDK without a quota project. You might receive a \"quota exceeded\" or \"API not enabled\" error. See the following page for troubleshooting: https://cloud.google.com/docs/authentication/adc-troubleshooting/user-creds. \n",
      "  warnings.warn(_CLOUD_SDK_CREDENTIALS_WARNING)\n"
     ]
    },
    {
     "name": "stdout",
     "output_type": "stream",
     "text": [
      "select \n",
      "      modelName,\n",
      "      avg(metrics.purchase.ndcg48) as avg_pndcg48,  \n",
      "      avg(metrics.purchase.ndcg10) as avg_pndcg10, \n",
      "      avg(metrics.purchase.dcgAttributedPrice10) as avg_ppdcg10\n",
      "    from `etsy-search-ml-prod.search_ranking.second_pass_eval`\n",
      "    where evalDate between date('2025-05-07') and date('2025-05-15')\n",
      "    and source in ('web_purchase', 'boe_purchase')\n",
      "    and True\n",
      "    and (tags.userCountry!='US')\n",
      "    and modelName in (\n",
      "      'nr-loc-no-xwalk-56d','nrv2-us-intl-v2-digital-si'\n",
      "    )\n",
      "    group by modelName\n",
      "    order by modelName\n",
      "\n",
      "\n",
      "ndcg48: 0.35%\n",
      "ndcg10: 0.32%\n",
      "ppdcg10: 1.24%\n"
     ]
    }
   ],
   "source": [
    "# INTL\n",
    "df = run_query(\n",
    "    start_date=\"2025-05-07\",\n",
    "    end_date=\"2025-05-15\", \n",
    "    siso=\"both\", \n",
    "    model_names={\n",
    "        \"control\": \"nr-loc-no-xwalk-56d\",\n",
    "        \"variant\": \"nrv2-us-intl-v2-digital-si\"\n",
    "    }, \n",
    "    source=\"both\",\n",
    "    us_only=False,\n",
    "    intl_only=True,\n",
    ")"
   ]
  },
  {
   "cell_type": "code",
   "execution_count": null,
   "id": "84c3fa11",
   "metadata": {},
   "outputs": [],
   "source": []
  },
  {
   "cell_type": "markdown",
   "id": "6cf56999",
   "metadata": {},
   "source": [
    "Unified model try 2"
   ]
  },
  {
   "cell_type": "code",
   "execution_count": 18,
   "id": "aeee71e7",
   "metadata": {},
   "outputs": [
    {
     "name": "stderr",
     "output_type": "stream",
     "text": [
      "/Users/yzhang/development/yzhang-adhoc-analysis/venv/lib/python3.10/site-packages/google/auth/_default.py:76: UserWarning: Your application has authenticated using end user credentials from Google Cloud SDK without a quota project. You might receive a \"quota exceeded\" or \"API not enabled\" error. See the following page for troubleshooting: https://cloud.google.com/docs/authentication/adc-troubleshooting/user-creds. \n",
      "  warnings.warn(_CLOUD_SDK_CREDENTIALS_WARNING)\n"
     ]
    },
    {
     "name": "stdout",
     "output_type": "stream",
     "text": [
      "select \n",
      "      modelName,\n",
      "      avg(metrics.purchase.ndcg48) as avg_pndcg48,  \n",
      "      avg(metrics.purchase.ndcg10) as avg_pndcg10, \n",
      "      avg(metrics.purchase.dcgAttributedPrice10) as avg_ppdcg10\n",
      "    from `etsy-search-ml-prod.search_ranking.second_pass_eval`\n",
      "    where evalDate between date('2025-05-23') and date('2025-06-08')\n",
      "    and source in ('web_purchase', 'boe_purchase')\n",
      "    and (tags.userId = 0 or tags.userId is null)\n",
      "    and (tags.userCountry='US')\n",
      "    and modelName in (\n",
      "      'nrv2-semrel-uni-serve-tm-so','nrv2-us-intl-v2-si'\n",
      "    )\n",
      "    group by modelName\n",
      "    order by modelName\n",
      "\n",
      "\n",
      "ndcg48: -0.26%\n",
      "ndcg10: -0.44%\n",
      "ppdcg10: -2.31%\n"
     ]
    }
   ],
   "source": [
    "# US SO\n",
    "df = run_query(\n",
    "    start_date=\"2025-05-23\",\n",
    "    end_date=\"2025-06-08\", \n",
    "    siso=\"so\", \n",
    "    model_names={\n",
    "        \"control\": \"nrv2-semrel-uni-serve-tm-so\",\n",
    "        \"variant\": \"nrv2-us-intl-v2-si\"\n",
    "    }, \n",
    "    source=\"both\",\n",
    "    us_only=True,\n",
    "    intl_only=False,\n",
    ")"
   ]
  },
  {
   "cell_type": "code",
   "execution_count": 19,
   "id": "2a9aadc2",
   "metadata": {},
   "outputs": [
    {
     "name": "stderr",
     "output_type": "stream",
     "text": [
      "/Users/yzhang/development/yzhang-adhoc-analysis/venv/lib/python3.10/site-packages/google/auth/_default.py:76: UserWarning: Your application has authenticated using end user credentials from Google Cloud SDK without a quota project. You might receive a \"quota exceeded\" or \"API not enabled\" error. See the following page for troubleshooting: https://cloud.google.com/docs/authentication/adc-troubleshooting/user-creds. \n",
      "  warnings.warn(_CLOUD_SDK_CREDENTIALS_WARNING)\n"
     ]
    },
    {
     "name": "stdout",
     "output_type": "stream",
     "text": [
      "select \n",
      "      modelName,\n",
      "      avg(metrics.purchase.ndcg48) as avg_pndcg48,  \n",
      "      avg(metrics.purchase.ndcg10) as avg_pndcg10, \n",
      "      avg(metrics.purchase.dcgAttributedPrice10) as avg_ppdcg10\n",
      "    from `etsy-search-ml-prod.search_ranking.second_pass_eval`\n",
      "    where evalDate between date('2025-05-23') and date('2025-06-08')\n",
      "    and source in ('web_purchase', 'boe_purchase')\n",
      "    and tags.userId > 0\n",
      "    and (tags.userCountry='US')\n",
      "    and modelName in (\n",
      "      'nrv2-us-intl-si','nrv2-us-intl-v2-si'\n",
      "    )\n",
      "    group by modelName\n",
      "    order by modelName\n",
      "\n",
      "\n",
      "ndcg48: -0.13%\n",
      "ndcg10: -0.22%\n",
      "ppdcg10: -0.21%\n"
     ]
    }
   ],
   "source": [
    "# US SI\n",
    "df = run_query(\n",
    "    start_date=\"2025-05-23\",\n",
    "    end_date=\"2025-06-08\", \n",
    "    siso=\"si\", \n",
    "    model_names={\n",
    "        \"control\": \"nrv2-us-intl-si\",\n",
    "        \"variant\": \"nrv2-us-intl-v2-si\"\n",
    "    }, \n",
    "    source=\"both\",\n",
    "    us_only=True,\n",
    "    intl_only=False,\n",
    ")"
   ]
  },
  {
   "cell_type": "code",
   "execution_count": 20,
   "id": "cf12cd6e",
   "metadata": {},
   "outputs": [
    {
     "name": "stderr",
     "output_type": "stream",
     "text": [
      "/Users/yzhang/development/yzhang-adhoc-analysis/venv/lib/python3.10/site-packages/google/auth/_default.py:76: UserWarning: Your application has authenticated using end user credentials from Google Cloud SDK without a quota project. You might receive a \"quota exceeded\" or \"API not enabled\" error. See the following page for troubleshooting: https://cloud.google.com/docs/authentication/adc-troubleshooting/user-creds. \n",
      "  warnings.warn(_CLOUD_SDK_CREDENTIALS_WARNING)\n"
     ]
    },
    {
     "name": "stdout",
     "output_type": "stream",
     "text": [
      "select \n",
      "      modelName,\n",
      "      avg(metrics.purchase.ndcg48) as avg_pndcg48,  \n",
      "      avg(metrics.purchase.ndcg10) as avg_pndcg10, \n",
      "      avg(metrics.purchase.dcgAttributedPrice10) as avg_ppdcg10\n",
      "    from `etsy-search-ml-prod.search_ranking.second_pass_eval`\n",
      "    where evalDate between date('2025-05-23') and date('2025-06-08')\n",
      "    and source in ('web_purchase', 'boe_purchase')\n",
      "    and True\n",
      "    and (tags.userCountry!='US')\n",
      "    and modelName in (\n",
      "      'nr-loc-no-xwalk-56d','nrv2-us-intl-v2-si'\n",
      "    )\n",
      "    group by modelName\n",
      "    order by modelName\n",
      "\n",
      "\n",
      "ndcg48: 0.91%\n",
      "ndcg10: 1.22%\n",
      "ppdcg10: 1.78%\n"
     ]
    }
   ],
   "source": [
    "# INTL\n",
    "df = run_query(\n",
    "    start_date=\"2025-05-23\",\n",
    "    end_date=\"2025-06-08\", \n",
    "    siso=\"both\", \n",
    "    model_names={\n",
    "        \"control\": \"nr-loc-no-xwalk-56d\",\n",
    "        \"variant\": \"nrv2-us-intl-v2-si\"\n",
    "    }, \n",
    "    source=\"both\",\n",
    "    us_only=False,\n",
    "    intl_only=True,\n",
    ")"
   ]
  },
  {
   "cell_type": "code",
   "execution_count": null,
   "id": "d3254060",
   "metadata": {},
   "outputs": [],
   "source": []
  },
  {
   "cell_type": "markdown",
   "id": "03617bed",
   "metadata": {},
   "source": [
    "CLIP PUSH AIR"
   ]
  },
  {
   "cell_type": "code",
   "execution_count": 5,
   "id": "0bd02bd2",
   "metadata": {},
   "outputs": [
    {
     "name": "stderr",
     "output_type": "stream",
     "text": [
      "/Users/yzhang/development/yzhang-adhoc-analysis/venv/lib/python3.10/site-packages/google/auth/_default.py:76: UserWarning: Your application has authenticated using end user credentials from Google Cloud SDK without a quota project. You might receive a \"quota exceeded\" or \"API not enabled\" error. See the following page for troubleshooting: https://cloud.google.com/docs/authentication/adc-troubleshooting/user-creds. \n",
      "  warnings.warn(_CLOUD_SDK_CREDENTIALS_WARNING)\n"
     ]
    },
    {
     "name": "stdout",
     "output_type": "stream",
     "text": [
      "select \n",
      "      modelName,\n",
      "      avg(metrics.purchase.ndcg48) as avg_pndcg48,  \n",
      "      avg(metrics.purchase.ndcg10) as avg_pndcg10, \n",
      "      avg(metrics.purchase.dcgAttributedPrice10) as avg_ppdcg10\n",
      "    from `etsy-search-ml-prod.search_ranking.second_pass_eval`\n",
      "    where evalDate between date('2025-06-09') and date('2025-06-16')\n",
      "    and source in ('web_purchase', 'boe_purchase')\n",
      "    and (tags.userId = 0 or tags.userId is null)\n",
      "    and (tags.userCountry='US')\n",
      "    and modelName in (\n",
      "      'nrv2-semrel-uni-serve-tm-so','nrv2-clip-push-air-unified'\n",
      "    )\n",
      "    group by modelName\n",
      "    order by modelName\n",
      "\n",
      "\n",
      "ndcg48: -0.33%\n",
      "ndcg10: -0.46%\n",
      "ppdcg10: -18.53%\n"
     ]
    },
    {
     "name": "stderr",
     "output_type": "stream",
     "text": [
      "/Users/yzhang/development/yzhang-adhoc-analysis/venv/lib/python3.10/site-packages/google/auth/_default.py:76: UserWarning: Your application has authenticated using end user credentials from Google Cloud SDK without a quota project. You might receive a \"quota exceeded\" or \"API not enabled\" error. See the following page for troubleshooting: https://cloud.google.com/docs/authentication/adc-troubleshooting/user-creds. \n",
      "  warnings.warn(_CLOUD_SDK_CREDENTIALS_WARNING)\n"
     ]
    },
    {
     "name": "stdout",
     "output_type": "stream",
     "text": [
      "select \n",
      "      modelName,\n",
      "      avg(metrics.purchase.ndcg48) as avg_pndcg48,  \n",
      "      avg(metrics.purchase.ndcg10) as avg_pndcg10, \n",
      "      avg(metrics.purchase.dcgAttributedPrice10) as avg_ppdcg10\n",
      "    from `etsy-search-ml-prod.search_ranking.second_pass_eval`\n",
      "    where evalDate between date('2025-06-09') and date('2025-06-16')\n",
      "    and source in ('web_purchase', 'boe_purchase')\n",
      "    and tags.userId > 0\n",
      "    and (tags.userCountry='US')\n",
      "    and modelName in (\n",
      "      'nrv2-us-intl-si','nrv2-clip-push-air-unified'\n",
      "    )\n",
      "    group by modelName\n",
      "    order by modelName\n",
      "\n",
      "\n",
      "ndcg48: 0.71%\n",
      "ndcg10: 1.16%\n",
      "ppdcg10: -17.05%\n"
     ]
    },
    {
     "name": "stderr",
     "output_type": "stream",
     "text": [
      "/Users/yzhang/development/yzhang-adhoc-analysis/venv/lib/python3.10/site-packages/google/auth/_default.py:76: UserWarning: Your application has authenticated using end user credentials from Google Cloud SDK without a quota project. You might receive a \"quota exceeded\" or \"API not enabled\" error. See the following page for troubleshooting: https://cloud.google.com/docs/authentication/adc-troubleshooting/user-creds. \n",
      "  warnings.warn(_CLOUD_SDK_CREDENTIALS_WARNING)\n"
     ]
    },
    {
     "name": "stdout",
     "output_type": "stream",
     "text": [
      "select \n",
      "      modelName,\n",
      "      avg(metrics.purchase.ndcg48) as avg_pndcg48,  \n",
      "      avg(metrics.purchase.ndcg10) as avg_pndcg10, \n",
      "      avg(metrics.purchase.dcgAttributedPrice10) as avg_ppdcg10\n",
      "    from `etsy-search-ml-prod.search_ranking.second_pass_eval`\n",
      "    where evalDate between date('2025-06-09') and date('2025-06-16')\n",
      "    and source in ('web_purchase', 'boe_purchase')\n",
      "    and True\n",
      "    and (tags.userCountry!='US')\n",
      "    and modelName in (\n",
      "      'nr-loc-no-xwalk-56d','nrv2-clip-push-air-unified'\n",
      "    )\n",
      "    group by modelName\n",
      "    order by modelName\n",
      "\n",
      "\n",
      "ndcg48: 1.56%\n",
      "ndcg10: 2.26%\n",
      "ppdcg10: -5.72%\n"
     ]
    }
   ],
   "source": [
    "# US SO\n",
    "df = run_query(\n",
    "    start_date=\"2025-06-09\",\n",
    "    end_date=\"2025-06-16\", \n",
    "    siso=\"so\", \n",
    "    model_names={\n",
    "        \"control\": \"nrv2-semrel-uni-serve-tm-so\",\n",
    "        \"variant\": \"nrv2-clip-push-air-unified\"\n",
    "    }, \n",
    "    source=\"both\",\n",
    "    us_only=True,\n",
    "    intl_only=False,\n",
    ")\n",
    "\n",
    "\n",
    "# US SI\n",
    "df = run_query(\n",
    "    start_date=\"2025-06-09\",\n",
    "    end_date=\"2025-06-16\",  \n",
    "    siso=\"si\", \n",
    "    model_names={\n",
    "        \"control\": \"nrv2-us-intl-si\",\n",
    "        \"variant\": \"nrv2-clip-push-air-unified\"\n",
    "    }, \n",
    "    source=\"both\",\n",
    "    us_only=True,\n",
    "    intl_only=False,\n",
    ")\n",
    "\n",
    "# INTL\n",
    "df = run_query(\n",
    "    start_date=\"2025-06-09\",\n",
    "    end_date=\"2025-06-16\", \n",
    "    siso=\"both\", \n",
    "    model_names={\n",
    "        \"control\": \"nr-loc-no-xwalk-56d\",\n",
    "        \"variant\": \"nrv2-clip-push-air-unified\"\n",
    "    }, \n",
    "    source=\"both\",\n",
    "    us_only=False,\n",
    "    intl_only=True,\n",
    ")"
   ]
  },
  {
   "cell_type": "markdown",
   "id": "131fa800",
   "metadata": {},
   "source": [
    "CLIP PUSH AIR - SW"
   ]
  },
  {
   "cell_type": "code",
   "execution_count": 6,
   "id": "ee887e48",
   "metadata": {},
   "outputs": [
    {
     "name": "stderr",
     "output_type": "stream",
     "text": [
      "/Users/yzhang/development/yzhang-adhoc-analysis/venv/lib/python3.10/site-packages/google/auth/_default.py:76: UserWarning: Your application has authenticated using end user credentials from Google Cloud SDK without a quota project. You might receive a \"quota exceeded\" or \"API not enabled\" error. See the following page for troubleshooting: https://cloud.google.com/docs/authentication/adc-troubleshooting/user-creds. \n",
      "  warnings.warn(_CLOUD_SDK_CREDENTIALS_WARNING)\n"
     ]
    },
    {
     "name": "stdout",
     "output_type": "stream",
     "text": [
      "select \n",
      "      modelName,\n",
      "      avg(metrics.purchase.ndcg48) as avg_pndcg48,  \n",
      "      avg(metrics.purchase.ndcg10) as avg_pndcg10, \n",
      "      avg(metrics.purchase.dcgAttributedPrice10) as avg_ppdcg10\n",
      "    from `etsy-search-ml-prod.search_ranking.second_pass_eval`\n",
      "    where evalDate between date('2025-06-09') and date('2025-06-16')\n",
      "    and source in ('web_purchase', 'boe_purchase')\n",
      "    and (tags.userId = 0 or tags.userId is null)\n",
      "    and (tags.userCountry='US')\n",
      "    and modelName in (\n",
      "      'nrv2-semrel-uni-serve-tm-so','nrv2-clip-push-air-unified-sw'\n",
      "    )\n",
      "    group by modelName\n",
      "    order by modelName\n",
      "\n",
      "\n",
      "ndcg48: -0.52%\n",
      "ndcg10: -0.81%\n",
      "ppdcg10: -17.11%\n"
     ]
    },
    {
     "name": "stderr",
     "output_type": "stream",
     "text": [
      "/Users/yzhang/development/yzhang-adhoc-analysis/venv/lib/python3.10/site-packages/google/auth/_default.py:76: UserWarning: Your application has authenticated using end user credentials from Google Cloud SDK without a quota project. You might receive a \"quota exceeded\" or \"API not enabled\" error. See the following page for troubleshooting: https://cloud.google.com/docs/authentication/adc-troubleshooting/user-creds. \n",
      "  warnings.warn(_CLOUD_SDK_CREDENTIALS_WARNING)\n"
     ]
    },
    {
     "name": "stdout",
     "output_type": "stream",
     "text": [
      "select \n",
      "      modelName,\n",
      "      avg(metrics.purchase.ndcg48) as avg_pndcg48,  \n",
      "      avg(metrics.purchase.ndcg10) as avg_pndcg10, \n",
      "      avg(metrics.purchase.dcgAttributedPrice10) as avg_ppdcg10\n",
      "    from `etsy-search-ml-prod.search_ranking.second_pass_eval`\n",
      "    where evalDate between date('2025-06-09') and date('2025-06-16')\n",
      "    and source in ('web_purchase', 'boe_purchase')\n",
      "    and tags.userId > 0\n",
      "    and (tags.userCountry='US')\n",
      "    and modelName in (\n",
      "      'nrv2-us-intl-si','nrv2-clip-push-air-unified-sw'\n",
      "    )\n",
      "    group by modelName\n",
      "    order by modelName\n",
      "\n",
      "\n",
      "ndcg48: -0.40%\n",
      "ndcg10: -0.56%\n",
      "ppdcg10: -15.51%\n"
     ]
    },
    {
     "name": "stderr",
     "output_type": "stream",
     "text": [
      "/Users/yzhang/development/yzhang-adhoc-analysis/venv/lib/python3.10/site-packages/google/auth/_default.py:76: UserWarning: Your application has authenticated using end user credentials from Google Cloud SDK without a quota project. You might receive a \"quota exceeded\" or \"API not enabled\" error. See the following page for troubleshooting: https://cloud.google.com/docs/authentication/adc-troubleshooting/user-creds. \n",
      "  warnings.warn(_CLOUD_SDK_CREDENTIALS_WARNING)\n"
     ]
    },
    {
     "name": "stdout",
     "output_type": "stream",
     "text": [
      "select \n",
      "      modelName,\n",
      "      avg(metrics.purchase.ndcg48) as avg_pndcg48,  \n",
      "      avg(metrics.purchase.ndcg10) as avg_pndcg10, \n",
      "      avg(metrics.purchase.dcgAttributedPrice10) as avg_ppdcg10\n",
      "    from `etsy-search-ml-prod.search_ranking.second_pass_eval`\n",
      "    where evalDate between date('2025-06-09') and date('2025-06-16')\n",
      "    and source in ('web_purchase', 'boe_purchase')\n",
      "    and True\n",
      "    and (tags.userCountry!='US')\n",
      "    and modelName in (\n",
      "      'nr-loc-no-xwalk-56d','nrv2-clip-push-air-unified-sw'\n",
      "    )\n",
      "    group by modelName\n",
      "    order by modelName\n",
      "\n",
      "\n",
      "ndcg48: 0.86%\n",
      "ndcg10: 1.15%\n",
      "ppdcg10: -4.06%\n"
     ]
    }
   ],
   "source": [
    "# US SO\n",
    "df = run_query(\n",
    "    start_date=\"2025-06-09\",\n",
    "    end_date=\"2025-06-16\", \n",
    "    siso=\"so\", \n",
    "    model_names={\n",
    "        \"control\": \"nrv2-semrel-uni-serve-tm-so\",\n",
    "        \"variant\": \"nrv2-clip-push-air-unified-sw\"\n",
    "    }, \n",
    "    source=\"both\",\n",
    "    us_only=True,\n",
    "    intl_only=False,\n",
    ")\n",
    "\n",
    "\n",
    "# US SI\n",
    "df = run_query(\n",
    "    start_date=\"2025-06-09\",\n",
    "    end_date=\"2025-06-16\",  \n",
    "    siso=\"si\", \n",
    "    model_names={\n",
    "        \"control\": \"nrv2-us-intl-si\",\n",
    "        \"variant\": \"nrv2-clip-push-air-unified-sw\"\n",
    "    }, \n",
    "    source=\"both\",\n",
    "    us_only=True,\n",
    "    intl_only=False,\n",
    ")\n",
    "\n",
    "# INTL\n",
    "df = run_query(\n",
    "    start_date=\"2025-06-09\",\n",
    "    end_date=\"2025-06-16\", \n",
    "    siso=\"both\", \n",
    "    model_names={\n",
    "        \"control\": \"nr-loc-no-xwalk-56d\",\n",
    "        \"variant\": \"nrv2-clip-push-air-unified-sw\"\n",
    "    }, \n",
    "    source=\"both\",\n",
    "    us_only=False,\n",
    "    intl_only=True,\n",
    ")"
   ]
  },
  {
   "cell_type": "code",
   "execution_count": null,
   "id": "7b7c4ebe",
   "metadata": {},
   "outputs": [],
   "source": []
  },
  {
   "cell_type": "code",
   "execution_count": null,
   "id": "33a5a4ff",
   "metadata": {},
   "outputs": [],
   "source": []
  },
  {
   "cell_type": "markdown",
   "id": "2ead6d54",
   "metadata": {},
   "source": [
    "Get segmented metrics from unified experiments\n",
    "\n",
    "```sql\n",
    "DECLARE start_date DATE DEFAULT \"2025-05-23\";\n",
    "DECLARE end_date DATE DEFAULT \"2025-06-08\";\n",
    "DECLARE config_flag_param STRING DEFAULT \"ranking/search.mmx.2025_q2.nrv2_unified_ranking_try2\";\n",
    "\n",
    "create or replace table `etsy-search-ml-dev.yzhang.segmented_catapult_unified_try2` as (\n",
    "    with ab_first_bucket as (\n",
    "        SELECT \n",
    "            bucketing_id, bucketing_id_type, variant_id, bucketing_ts\n",
    "        FROM `etsy-data-warehouse-prod.catapult_unified.bucketing_period`\n",
    "        WHERE _date = end_date\n",
    "        AND experiment_id = config_flag_param\n",
    "    ),\n",
    "    first_bucket_segments_unpivoted as (\n",
    "        SELECT \n",
    "            bucketing_id, variant_id, event_id, event_value\n",
    "        FROM `etsy-data-warehouse-prod.catapult_unified.aggregated_segment_event`\n",
    "        WHERE _date = end_date\n",
    "        AND experiment_id = config_flag_param\n",
    "        AND event_id IN (\n",
    "            \"buyer_segment\",\n",
    "            \"canonical_region\"\n",
    "        )\n",
    "    ),\n",
    "    first_bucket_segments as (\n",
    "        SELECT *\n",
    "        FROM first_bucket_segments_unpivoted\n",
    "        PIVOT(\n",
    "            MAX(event_value)\n",
    "            FOR event_id IN (\n",
    "                \"buyer_segment\",\n",
    "                \"canonical_region\"\n",
    "            )\n",
    "        )\n",
    "    ),\n",
    "    events as (\n",
    "        SELECT *\n",
    "        FROM UNNEST([\n",
    "            \"backend_cart_payment\", -- conversion rate\n",
    "            \"total_winsorized_gms\", -- winsorized acbv\n",
    "            \"purchase_NDCG\",\n",
    "            \"rich_search_events_w_purchase\"\n",
    "        ]) AS event_id\n",
    "    ),\n",
    "    events_per_unit as (\n",
    "        SELECT\n",
    "            bucketing_id, variant_id, event_id, event_value\n",
    "        FROM `etsy-data-warehouse-prod.catapult_unified.aggregated_event_func`(start_date, end_date)\n",
    "        JOIN events USING (event_id)\n",
    "        WHERE experiment_id = config_flag_param   \n",
    "    )\n",
    "    SELECT\n",
    "        bucketing_id,\n",
    "        variant_id,\n",
    "        event_id,\n",
    "        COALESCE(event_value, 0) AS event_count,\n",
    "        buyer_segment,\n",
    "        canonical_region,\n",
    "    FROM ab_first_bucket\n",
    "    CROSS JOIN events\n",
    "    LEFT JOIN events_per_unit\n",
    "    USING(bucketing_id, variant_id, event_id)\n",
    "    JOIN first_bucket_segments\n",
    "    USING(bucketing_id, variant_id)\n",
    ");\n",
    "\n",
    "\n",
    "-- CVR \n",
    "SELECT\n",
    "    variant_id,\n",
    "    AVG(IF(event_count = 0, 0, 1)) AS percent_units_with_event,\n",
    "FROM `etsy-search-ml-dev.yzhang.segmented_catapult_unified_try2`\n",
    "where event_id = \"backend_cart_payment\"\n",
    "GROUP BY variant_id\n",
    "ORDER BY variant_id;\n",
    "\n",
    "-- ACBV\n",
    "SELECT\n",
    "    variant_id,\n",
    "    AVG(IF(event_count = 0, NULL, event_count)) AS avg_events_per_unit_with_event\n",
    "FROM `etsy-search-ml-dev.yzhang.segmented_catapult_unified_try2`\n",
    "where event_id = \"total_winsorized_gms\"\n",
    "GROUP BY variant_id\n",
    "ORDER BY variant_id;\n",
    "\n",
    "-- pNDCG\n",
    "with pNDCG_data as (\n",
    "    SELECT\n",
    "        variant_id,\n",
    "        SUM(IF(event_count = 0, NULL, event_count)) AS pNDCG_sum\n",
    "    FROM `etsy-search-ml-dev.yzhang.segmented_catapult_unified_try2`\n",
    "    where event_id = \"purchase_NDCG\"\n",
    "    GROUP BY variant_id\n",
    "    ORDER BY variant_id\n",
    "),\n",
    "purchase_events_data as (\n",
    "    SELECT\n",
    "        variant_id,\n",
    "        SUM(IF(event_count = 0, NULL, event_count)) AS nPurch_sum\n",
    "    FROM `etsy-search-ml-dev.yzhang.segmented_catapult_unified_try2`\n",
    "    where event_id = \"rich_search_events_w_purchase\"\n",
    "    GROUP BY variant_id\n",
    "    ORDER BY variant_id\n",
    ")\n",
    "select variant_id, pNDCG_sum / nPurch_sum\n",
    "from pNDCG_data\n",
    "join purchase_events_data\n",
    "using (variant_id)\n",
    "```"
   ]
  },
  {
   "cell_type": "code",
   "execution_count": null,
   "id": "d35d6a95",
   "metadata": {},
   "outputs": [],
   "source": []
  }
 ],
 "metadata": {
  "kernelspec": {
   "display_name": "venv",
   "language": "python",
   "name": "venv"
  },
  "language_info": {
   "codemirror_mode": {
    "name": "ipython",
    "version": 3
   },
   "file_extension": ".py",
   "mimetype": "text/x-python",
   "name": "python",
   "nbconvert_exporter": "python",
   "pygments_lexer": "ipython3",
   "version": "3.10.1"
  }
 },
 "nbformat": 4,
 "nbformat_minor": 5
}
