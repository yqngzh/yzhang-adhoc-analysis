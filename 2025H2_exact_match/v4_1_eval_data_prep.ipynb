{
 "cells": [
  {
   "cell_type": "markdown",
   "id": "180b88bf",
   "metadata": {},
   "source": [
    "# V4.1 golden dataset\n",
    "\n",
    "- Version \n",
    "    - 4 stands for \"evaluation data for V4 semrel teacher and student models\"\n",
    "    - 4.1 Because we may continue to add in more annotation data, so there can be 4.2, 4.3 ...\n",
    "- Consists of \n",
    "    - V3 golden dataset\n",
    "    - Purchased pairs which V3 teacher predicted as partial, internally annotated in July 2025\n",
    "        - [excel sheet uploaded to BQ](https://github.com/etsy/etsy-llm/blob/4b2f6b38dd27910d3fcb693df18be116d517d918/projects/semrel_annotation/notebooks/prep_v3_evaluation_data.ipynb)\n",
    "        - [how it was sampled](https://console.cloud.google.com/bigquery?ws=!1m7!1m6!12m5!1m3!1setsy-bigquery-adhoc-prod!2sus-central1!3s405d7a9a-be79-4b6c-8d44-4f6826428965!2e1)\n",
    "- [Schema and info](https://docs.google.com/spreadsheets/d/1pniqtO8wJM9ZZSGw_bbN2sDS9kpo2WNcbytqFmFtRYw/edit?usp=sharing)"
   ]
  },
  {
   "cell_type": "markdown",
   "id": "4e7e2a8e",
   "metadata": {},
   "source": [
    "## Create partial purchase dataset in BQ UI"
   ]
  },
  {
   "cell_type": "markdown",
   "id": "138b9644",
   "metadata": {},
   "source": [
    "- [SQL script](https://github.com/yqngzh/yzhang-adhoc-analysis/blob/master/2025H2_exact_match/create_v4_1_eval_data.sql)\n",
    "- output table `etsy-search-ml-dev.yzhang.exact_matches_hydrated_data_v4_1`"
   ]
  },
  {
   "cell_type": "markdown",
   "id": "8def9f0d",
   "metadata": {},
   "source": [
    "##  Combine v3 data with partial purchases"
   ]
  },
  {
   "cell_type": "code",
   "execution_count": 1,
   "id": "7be09326",
   "metadata": {},
   "outputs": [],
   "source": [
    "import pandas as pd\n",
    "import numpy as np\n",
    "import hashlib\n",
    "\n",
    "from google.cloud import bigquery"
   ]
  },
  {
   "cell_type": "code",
   "execution_count": 2,
   "id": "d65a621c",
   "metadata": {},
   "outputs": [],
   "source": [
    "v3_df = pd.read_excel(\n",
    "    \"gs://training-dev-search-data-jtzn/semantic_relevance/datasets/v3_eval_golden_standard_labels/gsl_eval_v0_output.xlsx\"\n",
    ")"
   ]
  },
  {
   "cell_type": "code",
   "execution_count": 3,
   "id": "f8cb6366",
   "metadata": {},
   "outputs": [],
   "source": [
    "client = bigquery.Client(project=\"etsy-search-ml-dev\")\n",
    "query_job = client.query(\"select * from `etsy-search-ml-dev.yzhang.exact_matches_hydrated_data_v4_1`\")\n",
    "rows = query_job.result()\n",
    "v4_raw_df = rows.to_dataframe()"
   ]
  },
  {
   "cell_type": "code",
   "execution_count": 4,
   "id": "4d290666",
   "metadata": {
    "scrolled": true
   },
   "outputs": [],
   "source": [
    "# clean up V3 to match V4\n",
    "v3_df[\"gt_label\"] = v3_df[\"etsy_round_label\"]\n",
    "\n",
    "v3_df[\"product_type_in_query\"] = None\n",
    "v3_df[\"product_type_in_listing_if_mismatch\"] = None\n",
    "v3_df[\"subsitute_complementary\"] = None\n",
    "v3_df[\"descriptor_mismatch\"] = None"
   ]
  },
  {
   "cell_type": "code",
   "execution_count": 5,
   "id": "9fe63264",
   "metadata": {},
   "outputs": [],
   "source": [
    "# make row_id in V3\n",
    "def generate_hash(row):\n",
    "    data = row[\"etsyUUID\"] + row[\"query\"] + str(row[\"listingId\"])\n",
    "    if isinstance(data, str):\n",
    "        data = data.encode('utf-8')\n",
    "    return hashlib.sha256(data).hexdigest()\n",
    "\n",
    "\n",
    "v3_df[\"row_id\"] = v3_df.apply(generate_hash, axis=1)"
   ]
  },
  {
   "cell_type": "code",
   "execution_count": 6,
   "id": "9fa9c522",
   "metadata": {},
   "outputs": [
    {
     "data": {
      "text/plain": [
       "relevant        265\n",
       "partial         128\n",
       "not_relevant     10\n",
       "Name: gt_label, dtype: int64"
      ]
     },
     "execution_count": 6,
     "metadata": {},
     "output_type": "execute_result"
    }
   ],
   "source": [
    "# clean up V4\n",
    "v4_raw_df = v4_raw_df[np.logical_and(~pd.isnull(v4_raw_df.gt_label), v4_raw_df.gt_label != \"Not Sure\")]\n",
    "v4_raw_df[\"gt_label\"] = v4_raw_df.gt_label.map({\n",
    "    \"Fully Relevant\": \"relevant\", \n",
    "    \"Partially Relevant\": \"partial\",\n",
    "    \"Irrelevant\": \"not_relevant\"\n",
    "})\n",
    "v4_raw_df.gt_label.value_counts()"
   ]
  },
  {
   "cell_type": "code",
   "execution_count": 7,
   "id": "481ba798",
   "metadata": {},
   "outputs": [],
   "source": [
    "desired_columns = [\n",
    "    # request\n",
    "    \"row_id\", \"etsyUUID\", \"platform\", \"userCountry\", \"userLanguage\",\n",
    "    # query\n",
    "    \"query\", \"queryEn\", \"seg_queryBin\", \"seg_qisClass\", \"seg_queryTaxoFullPath\", \"seg_queryTaxoTop\", \n",
    "    \"tangibleItem\", \"fandom\", \"motif\", \"style\", \"material\", \"color\", \"technique\", \"size\", \"occasion\", \n",
    "    \"customization\", \"age\", \"price\", \"quantity\", \"recipient\", \"queryEntities\", \"queryRewrites\", \"queryIsGift\",\n",
    "    # listing\n",
    "    \"listingId\", \"listingCountry\", \"shop_primaryLanguage\", \"listingTitle\", \"listingTitleEn\",\n",
    "    \"listingTaxo\", \"listingTags\", \"listingAttributes\", \"listingShopName\", \n",
    "    \"listingDescription\", \"listingDescriptionEn\", \"listingDescNgrams\",\n",
    "    \"listingImageUrls\", \"listingHeroImageCaption\", \"listingVariations\", \"listingReviews\",\n",
    "    # annotation\n",
    "    \"anno_data_source\", \"gt_label\", \n",
    "    \"product_type_in_query\",\n",
    "    \"product_type_in_listing_if_mismatch\",\n",
    "    \"subsitute_complementary\",\n",
    "    \"descriptor_mismatch\"\n",
    "]"
   ]
  },
  {
   "cell_type": "code",
   "execution_count": 8,
   "id": "c0f93ee2",
   "metadata": {},
   "outputs": [],
   "source": [
    "v3_df = v3_df[desired_columns]\n",
    "v4_raw_df = v4_raw_df[desired_columns]"
   ]
  },
  {
   "cell_type": "code",
   "execution_count": 9,
   "id": "a7e9f345",
   "metadata": {},
   "outputs": [],
   "source": [
    "v4_1 = pd.concat([v3_df, v4_raw_df])"
   ]
  },
  {
   "cell_type": "code",
   "execution_count": 10,
   "id": "60ba01cd",
   "metadata": {},
   "outputs": [],
   "source": [
    "v4_1.to_json(\n",
    "    \"gs://training-dev-search-data-jtzn/semantic_relevance/datasets/v4_eval_golden_data/eval_data_v4-1.jsonl\", \n",
    "    orient=\"records\", lines=True\n",
    ")"
   ]
  },
  {
   "cell_type": "code",
   "execution_count": null,
   "id": "c2dcf96f",
   "metadata": {},
   "outputs": [],
   "source": []
  },
  {
   "cell_type": "code",
   "execution_count": 11,
   "id": "b0bb740e",
   "metadata": {},
   "outputs": [
    {
     "data": {
      "text/plain": [
       "(1498, 50)"
      ]
     },
     "execution_count": 11,
     "metadata": {},
     "output_type": "execute_result"
    }
   ],
   "source": [
    "v4_1.shape"
   ]
  },
  {
   "cell_type": "code",
   "execution_count": 12,
   "id": "b11886cd",
   "metadata": {},
   "outputs": [
    {
     "name": "stdout",
     "output_type": "stream",
     "text": [
      "(1498, 50)\n",
      "1498\n"
     ]
    }
   ],
   "source": [
    "print(v4_1.shape)\n",
    "print(len(v4_1.row_id.unique()))"
   ]
  },
  {
   "cell_type": "code",
   "execution_count": 13,
   "id": "d10cc553",
   "metadata": {},
   "outputs": [
    {
     "data": {
      "text/plain": [
       "partial         748\n",
       "relevant        626\n",
       "not_relevant    124\n",
       "Name: gt_label, dtype: int64"
      ]
     },
     "execution_count": 13,
     "metadata": {},
     "output_type": "execute_result"
    }
   ],
   "source": [
    "v4_1.gt_label.value_counts()"
   ]
  },
  {
   "cell_type": "code",
   "execution_count": 14,
   "id": "af784742",
   "metadata": {},
   "outputs": [
    {
     "data": {
      "text/plain": [
       "partial_purchases           403\n",
       "us_v2-direct_specified      227\n",
       "us_v2-direct_unspecified    208\n",
       "intl-fr                     118\n",
       "us_v2-broad                 109\n",
       "intl-es                     102\n",
       "intl-de                      97\n",
       "intl-it                      67\n",
       "intl-nl                      61\n",
       "us_v2-gift                   59\n",
       "intl-pt                      22\n",
       "intl-ja                      10\n",
       "intl-pl                       9\n",
       "intl-ru                       6\n",
       "Name: anno_data_source, dtype: int64"
      ]
     },
     "execution_count": 14,
     "metadata": {},
     "output_type": "execute_result"
    }
   ],
   "source": [
    "v4_1.anno_data_source.value_counts()"
   ]
  },
  {
   "cell_type": "code",
   "execution_count": null,
   "id": "3a9e0d8a",
   "metadata": {},
   "outputs": [],
   "source": []
  }
 ],
 "metadata": {
  "kernelspec": {
   "display_name": "venv",
   "language": "python",
   "name": "venv"
  },
  "language_info": {
   "codemirror_mode": {
    "name": "ipython",
    "version": 3
   },
   "file_extension": ".py",
   "mimetype": "text/x-python",
   "name": "python",
   "nbconvert_exporter": "python",
   "pygments_lexer": "ipython3",
   "version": "3.10.1"
  }
 },
 "nbformat": 4,
 "nbformat_minor": 5
}
