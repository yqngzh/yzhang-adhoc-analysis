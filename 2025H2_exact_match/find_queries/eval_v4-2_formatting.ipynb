{
 "cells": [
  {
   "cell_type": "code",
   "execution_count": 1,
   "id": "b20d9a74",
   "metadata": {},
   "outputs": [],
   "source": [
    "from google.cloud import bigquery\n",
    "import pandas as pd\n",
    "import numpy as np\n",
    "import uuid"
   ]
  },
  {
   "cell_type": "markdown",
   "id": "6b72a842-0f83-495d-b74f-8394f1b186ef",
   "metadata": {},
   "source": [
    "## Read new problematic query data"
   ]
  },
  {
   "cell_type": "code",
   "execution_count": 2,
   "id": "2ffbf558-3a62-4cfc-b683-4c1e98a98dbf",
   "metadata": {},
   "outputs": [],
   "source": [
    "client = bigquery.Client(project=\"etsy-search-ml-dev\")"
   ]
  },
  {
   "cell_type": "code",
   "execution_count": 3,
   "id": "3263b22d-3994-4e9c-8135-6ae04426d298",
   "metadata": {},
   "outputs": [
    {
     "name": "stderr",
     "output_type": "stream",
     "text": [
      "/Users/yzhang/.pyenv/versions/3.12.9/lib/python3.12/site-packages/google/cloud/bigquery/table.py:1994: UserWarning: BigQuery Storage module not found, fetch data with the REST endpoint instead.\n",
      "  warnings.warn(\n"
     ]
    }
   ],
   "source": [
    "# human annotation data \n",
    "query_str = \"\"\"select \n",
    "    GENERATE_UUID() as row_id,\n",
    "    raw_query as query,\n",
    "    listing_id as listingId,\n",
    "    final_label as gt_label_5grade\n",
    "from `etsy-search-ml-dev.search.exact_match_key_queries_for_v4_2_init_labelled`\n",
    "\"\"\"\n",
    "\n",
    "query_job = client.query(query_str)\n",
    "rows = query_job.result()\n",
    "human_anno_df = rows.to_dataframe()"
   ]
  },
  {
   "cell_type": "code",
   "execution_count": 4,
   "id": "a845edb6",
   "metadata": {},
   "outputs": [],
   "source": [
    "# full dataset before sampling\n",
    "query_str = \"\"\"select\n",
    "    platform,\n",
    "    userCountry,\n",
    "    userLanguage,\n",
    "    query,\n",
    "    queryEn,\n",
    "    queryBin as seg_queryBin,\n",
    "    qisClass as seg_qisClass,\n",
    "    queryTaxoFullPath as seg_queryTaxoFullPath,\n",
    "    queryTaxoTop as seg_queryTaxoTop,\n",
    "    queryEntities_tangibleItem as tangibleItem,\n",
    "    queryEntities_fandom as fandom,\n",
    "    queryEntities_motif as motif,\n",
    "    queryEntities_style as style,\n",
    "    queryEntities_material as material,\n",
    "    queryEntities_color as color,\n",
    "    queryEntities_technique as technique,\n",
    "    queryEntities_size as size,\n",
    "    queryEntities_occasion as occasion,\n",
    "    queryEntities_customization as customization,\n",
    "    queryEntities_age as age,\n",
    "    queryEntities_price as price,\n",
    "    queryEntities_quantity as quantity,\n",
    "    queryEntities_recipient as recipient,\n",
    "    queryEntities,\n",
    "    queryRewrites,\n",
    "    queryIsGift,\n",
    "    listingId,\n",
    "    listingCountry,\n",
    "    shop_primaryLanguage,\n",
    "    listingTitle,\n",
    "    listingTitleEn,\n",
    "    listingTaxo,\n",
    "    listingTags,\n",
    "    listingAttributes,\n",
    "    listingShopName,\n",
    "    listingDescription,\n",
    "    listingDescriptionEn,\n",
    "    listingDescNgrams,\n",
    "    listingImageUrls,\n",
    "    listingHeroImageCaption,\n",
    "    listingVariations,\n",
    "    listingReviews\n",
    "from `etsy-search-ml-dev.search.yzhang_emqueries_issue_problem_requests_full`\n",
    "\"\"\"\n",
    "\n",
    "query_job = client.query(query_str)\n",
    "rows = query_job.result()\n",
    "full_df = rows.to_dataframe()"
   ]
  },
  {
   "cell_type": "code",
   "execution_count": 5,
   "id": "d3dcbe4c-cfb1-46f6-a9e3-ae939aab22b9",
   "metadata": {},
   "outputs": [],
   "source": [
    "merged_df = pd.merge(human_anno_df, full_df, on=[\"query\", \"listingId\"], how=\"left\")"
   ]
  },
  {
   "cell_type": "code",
   "execution_count": 6,
   "id": "0f7c52cf-275d-4038-9fd6-53a86ce7ce7b",
   "metadata": {},
   "outputs": [
    {
     "name": "stdout",
     "output_type": "stream",
     "text": [
      "(300, 44)\n",
      "gt_label_5grade\n",
      "partially_relevant_substitute    101\n",
      "relevant                          98\n",
      "partially_relevant_complement     69\n",
      "partially_relevant_neither        20\n",
      "irrelevant                         9\n",
      "not_sure                           3\n",
      "Name: count, dtype: int64\n"
     ]
    }
   ],
   "source": [
    "print(merged_df.shape)\n",
    "print(merged_df.gt_label_5grade.value_counts())"
   ]
  },
  {
   "cell_type": "code",
   "execution_count": null,
   "id": "8c4bed63-d825-493f-aaa5-5276c5f5bd47",
   "metadata": {},
   "outputs": [],
   "source": []
  },
  {
   "cell_type": "markdown",
   "id": "5a1c1860-11bf-419d-8c2e-97b719392c29",
   "metadata": {},
   "source": [
    "## Clean new data"
   ]
  },
  {
   "cell_type": "code",
   "execution_count": 7,
   "id": "4c50ebdc-8b4c-4de3-ad87-8fc92bbb92d6",
   "metadata": {},
   "outputs": [],
   "source": [
    "# remove records with unsure label from golden eval\n",
    "merged_df = merged_df[merged_df.gt_label_5grade != \"not_sure\"]"
   ]
  },
  {
   "cell_type": "code",
   "execution_count": 8,
   "id": "24204761-3b7f-44fb-968b-de4596520547",
   "metadata": {},
   "outputs": [],
   "source": [
    "merged_df.loc[merged_df.gt_label_5grade == \"irrelevant\", \"gt_label_5grade\"] = \"not_relevant\""
   ]
  },
  {
   "cell_type": "code",
   "execution_count": 9,
   "id": "65d1a718-a86d-4df8-885d-bb5e7fdb26e8",
   "metadata": {},
   "outputs": [
    {
     "name": "stdout",
     "output_type": "stream",
     "text": [
      "(297, 44)\n",
      "gt_label_5grade\n",
      "partially_relevant_substitute    101\n",
      "relevant                          98\n",
      "partially_relevant_complement     69\n",
      "partially_relevant_neither        20\n",
      "not_relevant                       9\n",
      "Name: count, dtype: int64\n"
     ]
    }
   ],
   "source": [
    "print(merged_df.shape)\n",
    "print(merged_df.gt_label_5grade.value_counts())"
   ]
  },
  {
   "cell_type": "code",
   "execution_count": 10,
   "id": "b583f561-cd26-4072-b3c9-0673c27cecb2",
   "metadata": {},
   "outputs": [],
   "source": [
    "# add anno_data_source and gt_label\n",
    "merged_df[\"anno_data_source\"] = \"problematic_queries_99\"\n",
    "merged_df[\"gt_label\"] = merged_df[\"gt_label_5grade\"]\n",
    "\n",
    "# add missing columns\n",
    "merged_df[\"etsyUUID\"] = \"\"\n",
    "merged_df[\"product_type_in_query\"] = \"\"\n",
    "merged_df[\"product_type_in_listing_if_mismatch\"] = \"\"\n",
    "merged_df[\"subsitute_complementary\"] = \"\"\n",
    "merged_df[\"descriptor_mismatch\"] = \"\""
   ]
  },
  {
   "cell_type": "code",
   "execution_count": 11,
   "id": "7c3e65a0-bb0d-4f62-a543-4f78abf477eb",
   "metadata": {},
   "outputs": [],
   "source": [
    "# 3-grade vs 5-grade gt label conversion\n",
    "merged_df.loc[\n",
    "    merged_df.gt_label_5grade.isin([\n",
    "        \"partially_relevant_substitute\", \n",
    "        \"partially_relevant_complement\",\n",
    "        \"partially_relevant_neither\"]), \n",
    "    \"gt_label\"\n",
    "] = \"partial\"\n",
    "\n",
    "merged_df.loc[merged_df.gt_label_5grade == \"partially_relevant_substitute\", \"subsitute_complementary\"] = \"Substitute\"\n",
    "merged_df.loc[merged_df.gt_label_5grade == \"partially_relevant_complement\", \"subsitute_complementary\"] = \"Complement\"\n",
    "merged_df.loc[merged_df.gt_label_5grade == \"partially_relevant_neither\", \"subsitute_complementary\"] = \"Other\""
   ]
  },
  {
   "cell_type": "code",
   "execution_count": 12,
   "id": "ec0dab9f-80ba-4910-a7ca-369c66e26a0e",
   "metadata": {},
   "outputs": [
    {
     "data": {
      "text/plain": [
       "gt_label\n",
       "partial         190\n",
       "relevant         98\n",
       "not_relevant      9\n",
       "Name: count, dtype: int64"
      ]
     },
     "execution_count": 12,
     "metadata": {},
     "output_type": "execute_result"
    }
   ],
   "source": [
    "merged_df.gt_label.value_counts()"
   ]
  },
  {
   "cell_type": "code",
   "execution_count": null,
   "id": "964166ad-5526-44d5-b912-bab1456c93f7",
   "metadata": {},
   "outputs": [],
   "source": []
  },
  {
   "cell_type": "markdown",
   "id": "2c0a2881-c8a2-4c7b-87a4-90207edd4ee3",
   "metadata": {},
   "source": [
    "## Make 5-grade gt label for partial purchases"
   ]
  },
  {
   "cell_type": "code",
   "execution_count": 13,
   "id": "6ed61746-c005-4f85-a594-d626821f67c0",
   "metadata": {},
   "outputs": [],
   "source": [
    "# V4.1 eval data\n",
    "old_df = pd.read_json(\n",
    "    \"gs://training-dev-search-data-jtzn/semantic_relevance/datasets/v4_eval_golden_data/eval_data_v4-1_majority.jsonl\", \n",
    "    lines=True\n",
    ")"
   ]
  },
  {
   "cell_type": "code",
   "execution_count": 14,
   "id": "b529b04b-d742-4bce-aaed-3fe20437b02e",
   "metadata": {},
   "outputs": [],
   "source": [
    "old_df[\"gt_label_5grade\"] = \"\"\n",
    "\n",
    "pp_mask = old_df[\"anno_data_source\"] == \"partial_purchases\"\n",
    "gt_rel_mask = old_df[\"gt_label\"] == \"relevant\"\n",
    "gt_par_mask = old_df[\"gt_label\"] == \"partial\"\n",
    "gt_irr_mask = old_df[\"gt_label\"] == \"not_relevant\"\n",
    "\n",
    "old_df.loc[np.logical_and(pp_mask, gt_rel_mask), \"gt_label_5grade\"] = \"relevant\"\n",
    "old_df.loc[np.logical_and(pp_mask, gt_par_mask), \"gt_label_5grade\"] = \"partially_relevant_neither\"\n",
    "old_df.loc[np.logical_and(pp_mask, gt_irr_mask), \"gt_label_5grade\"] = \"not_relevant\"\n",
    "\n",
    "old_df.loc[np.logical_and(\n",
    "    np.logical_and(pp_mask, gt_par_mask), \n",
    "    old_df.subsitute_complementary == \"Substitute\"\n",
    "), \"gt_label_5grade\"] = \"partially_relevant_substitute\"\n",
    "\n",
    "old_df.loc[np.logical_and(\n",
    "    np.logical_and(pp_mask, gt_par_mask), \n",
    "    old_df.subsitute_complementary == \"Complement\"\n",
    "), \"gt_label_5grade\"] = \"partially_relevant_complement\""
   ]
  },
  {
   "cell_type": "code",
   "execution_count": 15,
   "id": "1d12842f-f1e7-4c9b-9407-146cc0dc51af",
   "metadata": {},
   "outputs": [
    {
     "name": "stdout",
     "output_type": "stream",
     "text": [
      "gt_label\n",
      "relevant        249\n",
      "partial         152\n",
      "not_relevant      2\n",
      "Name: count, dtype: int64\n",
      "gt_label_5grade\n",
      "relevant                         249\n",
      "partially_relevant_neither        68\n",
      "partially_relevant_substitute     67\n",
      "partially_relevant_complement     17\n",
      "not_relevant                       2\n",
      "Name: count, dtype: int64\n"
     ]
    }
   ],
   "source": [
    "pp_df = old_df[old_df.anno_data_source == \"partial_purchases\"]\n",
    "print(pp_df.gt_label.value_counts())\n",
    "print(pp_df.gt_label_5grade.value_counts())"
   ]
  },
  {
   "cell_type": "code",
   "execution_count": 16,
   "id": "1ffea2fe-c86c-4867-9e82-eae610b9e81f",
   "metadata": {},
   "outputs": [
    {
     "data": {
      "text/html": [
       "<div>\n",
       "<style scoped>\n",
       "    .dataframe tbody tr th:only-of-type {\n",
       "        vertical-align: middle;\n",
       "    }\n",
       "\n",
       "    .dataframe tbody tr th {\n",
       "        vertical-align: top;\n",
       "    }\n",
       "\n",
       "    .dataframe thead th {\n",
       "        text-align: right;\n",
       "    }\n",
       "</style>\n",
       "<table border=\"1\" class=\"dataframe\">\n",
       "  <thead>\n",
       "    <tr style=\"text-align: right;\">\n",
       "      <th>gt_label</th>\n",
       "      <th>not_relevant</th>\n",
       "      <th>partial</th>\n",
       "      <th>relevant</th>\n",
       "    </tr>\n",
       "    <tr>\n",
       "      <th>subsitute_complementary</th>\n",
       "      <th></th>\n",
       "      <th></th>\n",
       "      <th></th>\n",
       "    </tr>\n",
       "  </thead>\n",
       "  <tbody>\n",
       "    <tr>\n",
       "      <th>Complement</th>\n",
       "      <td>0</td>\n",
       "      <td>17</td>\n",
       "      <td>5</td>\n",
       "    </tr>\n",
       "    <tr>\n",
       "      <th>Not Sure</th>\n",
       "      <td>0</td>\n",
       "      <td>5</td>\n",
       "      <td>0</td>\n",
       "    </tr>\n",
       "    <tr>\n",
       "      <th>Other</th>\n",
       "      <td>1</td>\n",
       "      <td>4</td>\n",
       "      <td>1</td>\n",
       "    </tr>\n",
       "    <tr>\n",
       "      <th>Substitute</th>\n",
       "      <td>1</td>\n",
       "      <td>67</td>\n",
       "      <td>11</td>\n",
       "    </tr>\n",
       "  </tbody>\n",
       "</table>\n",
       "</div>"
      ],
      "text/plain": [
       "gt_label                 not_relevant  partial  relevant\n",
       "subsitute_complementary                                 \n",
       "Complement                          0       17         5\n",
       "Not Sure                            0        5         0\n",
       "Other                               1        4         1\n",
       "Substitute                          1       67        11"
      ]
     },
     "execution_count": 16,
     "metadata": {},
     "output_type": "execute_result"
    }
   ],
   "source": [
    "pd.crosstab(pp_df.subsitute_complementary, pp_df.gt_label)"
   ]
  },
  {
   "cell_type": "code",
   "execution_count": null,
   "id": "618ab5f6-a149-40ff-a0af-45af7c912f91",
   "metadata": {},
   "outputs": [],
   "source": []
  },
  {
   "cell_type": "markdown",
   "id": "e1ae6323-ab45-4a53-bcea-7d48a634a467",
   "metadata": {},
   "source": [
    "## Output"
   ]
  },
  {
   "cell_type": "code",
   "execution_count": 17,
   "id": "21b51f3a-fec9-4d4e-b6f8-234e78cd9717",
   "metadata": {},
   "outputs": [],
   "source": [
    "df = pd.concat([old_df, merged_df])"
   ]
  },
  {
   "cell_type": "code",
   "execution_count": 18,
   "id": "68fac59a-cd7b-4874-b70d-4edab808eb03",
   "metadata": {},
   "outputs": [],
   "source": [
    "df = df[[\n",
    "    \"row_id\", \"etsyUUID\", \"platform\", \"userCountry\", \"userLanguage\", \n",
    "    # query\n",
    "    \"query\", \"queryEn\", \"seg_queryBin\", \"seg_qisClass\", \"seg_queryTaxoFullPath\", \"seg_queryTaxoTop\", \n",
    "    \"tangibleItem\", \"fandom\", \"motif\", \"style\", \"material\", \"color\", \"technique\", \"size\", \"occasion\", \n",
    "    \"customization\", \"age\", \"price\", \"quantity\", \"recipient\", \"queryEntities\", \"queryRewrites\", \"queryIsGift\", \n",
    "    # listing\n",
    "    \"listingId\", \"listingCountry\", \"shop_primaryLanguage\", \"listingTitle\", \"listingTitleEn\", \"listingTaxo\", \n",
    "    \"listingTags\", \"listingAttributes\", \"listingShopName\", \"listingDescription\", \"listingDescriptionEn\", \n",
    "    \"listingDescNgrams\", \"listingImageUrls\", \"listingHeroImageCaption\", \"listingVariations\", \"listingReviews\",\n",
    "    # annotation\n",
    "    \"anno_data_source\", \"gt_label\", \"gt_label_5grade\",\n",
    "    \"product_type_in_query\", \"product_type_in_listing_if_mismatch\", \n",
    "    \"subsitute_complementary\", \"descriptor_mismatch\", \n",
    "]]"
   ]
  },
  {
   "cell_type": "code",
   "execution_count": 19,
   "id": "83e6803e-c461-4375-8750-2b1480d8aefd",
   "metadata": {},
   "outputs": [],
   "source": [
    "df = df.groupby('row_id').sample(n=1, random_state=42)"
   ]
  },
  {
   "cell_type": "code",
   "execution_count": 20,
   "id": "2ef2b70f-1d08-4c2f-8eab-a8648ad07073",
   "metadata": {},
   "outputs": [
    {
     "data": {
      "text/plain": [
       "(1792, 51)"
      ]
     },
     "execution_count": 20,
     "metadata": {},
     "output_type": "execute_result"
    }
   ],
   "source": [
    "df.shape"
   ]
  },
  {
   "cell_type": "code",
   "execution_count": 21,
   "id": "dd12b11e",
   "metadata": {},
   "outputs": [],
   "source": [
    "df.to_json(\n",
    "    \"gs://training-dev-search-data-jtzn/semantic_relevance/datasets/v4_eval_golden_data/eval_data_v4-2.jsonl\", \n",
    "    orient=\"records\", lines=True\n",
    ")"
   ]
  },
  {
   "cell_type": "code",
   "execution_count": null,
   "id": "780e7a72-da4e-4d60-8ddd-f46a96a74c57",
   "metadata": {},
   "outputs": [],
   "source": []
  },
  {
   "cell_type": "code",
   "execution_count": null,
   "id": "722d24c8-c8d8-4d4d-bc12-70e827f98a6e",
   "metadata": {},
   "outputs": [],
   "source": []
  }
 ],
 "metadata": {
  "kernelspec": {
   "display_name": "myenv",
   "language": "python",
   "name": "myenv"
  },
  "language_info": {
   "codemirror_mode": {
    "name": "ipython",
    "version": 3
   },
   "file_extension": ".py",
   "mimetype": "text/x-python",
   "name": "python",
   "nbconvert_exporter": "python",
   "pygments_lexer": "ipython3",
   "version": "3.12.9"
  }
 },
 "nbformat": 4,
 "nbformat_minor": 5
}
