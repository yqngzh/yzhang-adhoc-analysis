{
 "cells": [
  {
   "cell_type": "code",
   "execution_count": 1,
   "id": "b20d9a74",
   "metadata": {},
   "outputs": [],
   "source": [
    "from google.cloud import bigquery\n",
    "import pandas as pd\n",
    "import numpy as np\n",
    "import uuid"
   ]
  },
  {
   "cell_type": "markdown",
   "id": "6b72a842-0f83-495d-b74f-8394f1b186ef",
   "metadata": {},
   "source": [
    "## Read V4.1 data"
   ]
  },
  {
   "cell_type": "code",
   "execution_count": null,
   "id": "bec3de9d-fa68-4814-879e-7c60fea96a37",
   "metadata": {},
   "outputs": [],
   "source": [
    "old_df = pd.read_jsonl(\"\")"
   ]
  },
  {
   "cell_type": "code",
   "execution_count": 2,
   "id": "a845edb6",
   "metadata": {},
   "outputs": [],
   "source": [
    "# full dataset before sampling\n",
    "query_str = \"\"\"select *\n",
    "from `etsy-search-ml-dev.search.yzhang_emqueries_issue_problem_requests_full`\n",
    "order by query, mmxRequestUUID, listingRank\n",
    "\"\"\"\n",
    "\n",
    "client = bigquery.Client(project=\"etsy-search-ml-dev\")\n",
    "query_job = client.query(query_str)\n",
    "rows = query_job.result()\n",
    "full_df = rows.to_dataframe()"
   ]
  },
  {
   "cell_type": "markdown",
   "id": "e1ae6323-ab45-4a53-bcea-7d48a634a467",
   "metadata": {},
   "source": [
    "## Output"
   ]
  },
  {
   "cell_type": "code",
   "execution_count": null,
   "id": "dd12b11e",
   "metadata": {},
   "outputs": [],
   "source": [
    "v4_1.to_json(\n",
    "    \"gs://training-dev-search-data-jtzn/semantic_relevance/datasets/v4_eval_golden_data/eval_data_v4-1.jsonl\", \n",
    "    orient=\"records\", lines=True\n",
    ")"
   ]
  }
 ],
 "metadata": {
  "kernelspec": {
   "display_name": "myenv",
   "language": "python",
   "name": "myenv"
  },
  "language_info": {
   "codemirror_mode": {
    "name": "ipython",
    "version": 3
   },
   "file_extension": ".py",
   "mimetype": "text/x-python",
   "name": "python",
   "nbconvert_exporter": "python",
   "pygments_lexer": "ipython3",
   "version": "3.12.9"
  }
 },
 "nbformat": 4,
 "nbformat_minor": 5
}
