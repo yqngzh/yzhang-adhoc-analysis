{
 "cells": [
  {
   "cell_type": "code",
   "execution_count": 1,
   "id": "b20d9a74",
   "metadata": {},
   "outputs": [],
   "source": [
    "from google.cloud import bigquery\n",
    "import pandas as pd\n",
    "import numpy as np\n",
    "import uuid"
   ]
  },
  {
   "cell_type": "code",
   "execution_count": 2,
   "id": "a845edb6",
   "metadata": {},
   "outputs": [],
   "source": [
    "# full dataset before sampling\n",
    "query_str = \"\"\"select *\n",
    "from `etsy-search-ml-dev.search.yzhang_emqueries_issue_problem_requests_full`\n",
    "order by query, mmxRequestUUID, listingRank\n",
    "\"\"\"\n",
    "\n",
    "client = bigquery.Client(project=\"etsy-search-ml-dev\")\n",
    "query_job = client.query(query_str)\n",
    "rows = query_job.result()\n",
    "full_df = rows.to_dataframe()\n",
    "\n",
    "\n",
    "# final selected list\n",
    "with open(\"./exact_match_key_queries_prototype.txt\", \"r\") as f:\n",
    "    final_key_queries = f.read().splitlines()\n",
    "    \n",
    "    \n",
    "# get full data for final selected queries\n",
    "selected_df = full_df[full_df[\"query\"].isin(final_key_queries)]"
   ]
  },
  {
   "cell_type": "code",
   "execution_count": 3,
   "id": "16eb4919",
   "metadata": {},
   "outputs": [
    {
     "data": {
      "text/plain": [
       "(4800, 63)"
      ]
     },
     "execution_count": 3,
     "metadata": {},
     "output_type": "execute_result"
    }
   ],
   "source": [
    "selected_df.shape"
   ]
  },
  {
   "cell_type": "markdown",
   "id": "94f7d239",
   "metadata": {},
   "source": [
    "### cleaning"
   ]
  },
  {
   "cell_type": "code",
   "execution_count": 4,
   "id": "a34bf030",
   "metadata": {},
   "outputs": [],
   "source": [
    "# create a unique ID for each row\n",
    "selected_df = selected_df.copy()\n",
    "selected_df[\"tableUUID\"] = [str(uuid.uuid4()) for _ in range(len(selected_df))]\n",
    "\n",
    "\n",
    "# fill missing values\n",
    "selected_df = selected_df[[\n",
    "    \"tableUUID\", \"query\", \"queryEn\", \"queryBin\", \"qisClass\", \"userCountry\",\n",
    "    \"listingId\", \"listingRank\", \n",
    "    \"llm_final_label\", \"llm_consensus_type\",\n",
    "    \"listingImageUrls\", \n",
    "    'listingTitle', 'listingTitleEn',\n",
    "    'listingDescription', 'listingDescriptionEn',\n",
    "    'listingAttributes',\n",
    "    'listingVariations'\n",
    "]]\n",
    "selected_df.fillna(\"\", inplace=True)\n",
    "\n",
    "\n",
    "# translation first fallback to original for query, title, description\n",
    "selected_df[\"en_query\"] = selected_df.apply(\n",
    "    lambda row: row[\"queryEn\"] if row[\"queryEn\"] != \"\" else row[\"query\"], axis=1\n",
    ")\n",
    "selected_df[\"en_title\"] = selected_df.apply(\n",
    "    lambda row: row[\"listingTitleEn\"] if row[\"listingTitleEn\"] != \"\" else row[\"listingTitle\"],\n",
    "    axis=1,\n",
    ")\n",
    "selected_df[\"en_desc\"] = selected_df.apply(\n",
    "    lambda row: row[\"listingDescriptionEn\"] if row[\"listingDescriptionEn\"] != \"\" else row[\"listingDescription\"],\n",
    "    axis=1,\n",
    ")\n",
    "\n",
    "\n",
    "# clean listing attribute to V2 format\n",
    "selected_df[\"listingAttributes\"] = selected_df[\"listingAttributes\"].str.replace(\"#\", \":\").str.lower()\n",
    "\n",
    "\n",
    "# split image url into hero and non-hero\n",
    "selected_df[\"listingHeroImageUrl\"] = selected_df[\"listingImageUrls\"].apply(lambda x: x.split(\";\")[0])\n",
    "selected_df[\"listingOtherImageUrls\"] = selected_df[\"listingImageUrls\"].apply(lambda x: \";\".join((x.split(\";\")[1:])))"
   ]
  },
  {
   "cell_type": "markdown",
   "id": "ece975aa",
   "metadata": {},
   "source": [
    "### sample listings"
   ]
  },
  {
   "cell_type": "code",
   "execution_count": 5,
   "id": "9d00d4ef",
   "metadata": {},
   "outputs": [],
   "source": [
    "# sample up to 3 listing per query\n",
    "concensus_weight_map = {\"5-0\": 1, \"4-1\": 2, \"3-2\": 2} # LLM uncertain get sampled with higher prob\n",
    "output_sample = None\n",
    "\n",
    "for i in range(len(final_key_queries)):\n",
    "    curr_query = final_key_queries[i]\n",
    "    curr_df = selected_df[selected_df[\"query\"] == curr_query]\n",
    "\n",
    "    # sample at most 2 top listings that are partial/irrelevant\n",
    "    top_sample = None\n",
    "    top_df = curr_df[np.logical_and(\n",
    "        curr_df[\"listingRank\"] < 12, \n",
    "        curr_df[\"llm_final_label\"].isin([\"partial\", \"not_relevant\"])\n",
    "    )]\n",
    "    if top_df.shape[0] > 0:\n",
    "        top_probs = top_df[\"llm_consensus_type\"].map(concensus_weight_map).values\n",
    "        top_probs = top_probs / np.sum(top_probs)\n",
    "        top_sample = top_df.sample(n=min(top_df.shape[0], 2), weights=top_probs)\n",
    "\n",
    "    # sample 1 bottom listings that are fully relevant\n",
    "    bottom_sample = None    \n",
    "    bottom_df = curr_df[np.logical_and(\n",
    "        curr_df[\"listingRank\"] >= 12, \n",
    "        curr_df[\"llm_final_label\"] == \"relevant\"\n",
    "    )]\n",
    "    if bottom_df.shape[0] > 0:\n",
    "        bottom_probs = bottom_df[\"llm_consensus_type\"].map(concensus_weight_map).values\n",
    "        bottom_probs = bottom_probs / np.sum(bottom_probs)\n",
    "        bottom_sample = bottom_df.sample(n=1, weights=bottom_probs)\n",
    "\n",
    "    if top_sample is not None and bottom_sample is not None:\n",
    "        curr_sample = pd.concat([top_sample, bottom_sample])\n",
    "    elif top_sample is not None:\n",
    "        curr_sample = top_sample\n",
    "    elif bottom_sample is not None:\n",
    "        curr_sample = bottom_sample\n",
    "    else:\n",
    "        print(query)\n",
    "        curr_sample = None\n",
    "\n",
    "    if curr_sample is not None:\n",
    "        if output_sample is None:\n",
    "            output_sample = curr_sample\n",
    "        else:\n",
    "            output_sample = pd.concat([output_sample, curr_sample])"
   ]
  },
  {
   "cell_type": "code",
   "execution_count": 6,
   "id": "06aa0d6d",
   "metadata": {},
   "outputs": [
    {
     "data": {
      "text/plain": [
       "(297, 22)"
      ]
     },
     "execution_count": 6,
     "metadata": {},
     "output_type": "execute_result"
    }
   ],
   "source": [
    "output_sample.shape"
   ]
  },
  {
   "cell_type": "markdown",
   "id": "aae6a7e9",
   "metadata": {},
   "source": [
    "### final formatting and output"
   ]
  },
  {
   "cell_type": "code",
   "execution_count": 7,
   "id": "7a7c1d58",
   "metadata": {},
   "outputs": [],
   "source": [
    "output_sample = output_sample[[\n",
    "    \"tableUUID\", \"en_query\", \"queryBin\", \"qisClass\", \"userCountry\",\n",
    "    \"listingId\", \"listingHeroImageUrl\", \"en_title\", \"en_desc\", \n",
    "    \"listingAttributes\", \"listingVariations\", \"listingOtherImageUrls\",\n",
    "    \"llm_final_label\", \"llm_consensus_type\"\n",
    "]]\n",
    "output_sample.rename(columns={\n",
    "    \"en_query\": \"queryRaw\",\n",
    "    \"en_title\": \"listingTitle\",\n",
    "    \"en_desc\": \"listingDescription\"\n",
    "}, inplace=True)\n",
    "\n",
    "# for this round we didn't get spell corrected queries from rpc logs\n",
    "# making them identical, will make sure query reflects spell corrected ones moving forward \n",
    "output_sample.insert(loc=1, column=\"query\", value=output_sample[\"queryRaw\"].values)"
   ]
  },
  {
   "cell_type": "code",
   "execution_count": 8,
   "id": "82c1c9ac",
   "metadata": {},
   "outputs": [],
   "source": [
    "listing_viewer_urls = output_sample[\"listingId\"].apply(\n",
    "    lambda x: f\"https://atlas.etsycorp.com/recsys/listing_viewer.php?listing_ids={str(x)}&json_key=\"\n",
    ")\n",
    "output_sample.insert(loc=7, column=\"listingUrl\", value=listing_viewer_urls.values)"
   ]
  },
  {
   "cell_type": "code",
   "execution_count": 9,
   "id": "4e5db06d",
   "metadata": {},
   "outputs": [
    {
     "data": {
      "text/plain": [
       "Index(['tableUUID', 'query', 'queryRaw', 'queryBin', 'qisClass', 'userCountry',\n",
       "       'listingId', 'listingUrl', 'listingHeroImageUrl', 'listingTitle',\n",
       "       'listingDescription', 'listingAttributes', 'listingVariations',\n",
       "       'listingOtherImageUrls', 'llm_final_label', 'llm_consensus_type'],\n",
       "      dtype='object')"
      ]
     },
     "execution_count": 9,
     "metadata": {},
     "output_type": "execute_result"
    }
   ],
   "source": [
    "output_sample.columns"
   ]
  },
  {
   "cell_type": "code",
   "execution_count": 10,
   "id": "4fea7c4d",
   "metadata": {},
   "outputs": [],
   "source": [
    "output_sample.to_csv(\"./exact_match_key_queries_for_v4_2.csv\", index=False)"
   ]
  },
  {
   "cell_type": "code",
   "execution_count": 11,
   "id": "94b6054f",
   "metadata": {},
   "outputs": [],
   "source": [
    "output_sample.drop([\"llm_final_label\", \"llm_consensus_type\"], axis=1, inplace=True)"
   ]
  },
  {
   "cell_type": "code",
   "execution_count": 12,
   "id": "ee1c9dd3",
   "metadata": {},
   "outputs": [],
   "source": [
    "bq_schema = [\n",
    "    bigquery.SchemaField(name=\"tableUUID\", field_type=\"STRING\", mode=\"REQUIRED\"),\n",
    "    bigquery.SchemaField(name=\"query\", field_type=\"STRING\", mode=\"REQUIRED\"),\n",
    "    bigquery.SchemaField(name=\"queryRaw\", field_type=\"STRING\", mode=\"NULLABLE\"),\n",
    "    bigquery.SchemaField(name=\"queryBin\", field_type=\"STRING\", mode=\"NULLABLE\"),\n",
    "    bigquery.SchemaField(name=\"qisClass\", field_type=\"STRING\", mode=\"NULLABLE\"),\n",
    "    bigquery.SchemaField(name=\"userCountry\", field_type=\"STRING\", mode=\"NULLABLE\"),\n",
    "    bigquery.SchemaField(name=\"listingId\", field_type=\"INT64\", mode=\"REQUIRED\"),\n",
    "    bigquery.SchemaField(name=\"listingHeroImageUrl\", field_type=\"STRING\", mode=\"NULLABLE\"),\n",
    "    bigquery.SchemaField(name=\"listingTitle\", field_type=\"STRING\", mode=\"NULLABLE\"),\n",
    "    bigquery.SchemaField(name=\"listingDescription\", field_type=\"STRING\", mode=\"NULLABLE\"),\n",
    "    bigquery.SchemaField(name=\"listingAttributes\", field_type=\"STRING\", mode=\"NULLABLE\"),\n",
    "    bigquery.SchemaField(name=\"listingVariations\", field_type=\"STRING\", mode=\"NULLABLE\"),\n",
    "    bigquery.SchemaField(name=\"listingOtherImageUrls\", field_type=\"STRING\", mode=\"NULLABLE\")\n",
    "]"
   ]
  },
  {
   "cell_type": "code",
   "execution_count": 13,
   "id": "403477b7",
   "metadata": {},
   "outputs": [
    {
     "data": {
      "text/plain": [
       "LoadJob<project=etsy-search-ml-dev, location=US, id=6daf4a7e-9598-425a-90d6-2660e9ac7902>"
      ]
     },
     "execution_count": 13,
     "metadata": {},
     "output_type": "execute_result"
    }
   ],
   "source": [
    "client = bigquery.Client(project=\"etsy-search-ml-dev\")\n",
    "output_table = \"etsy-search-ml-dev.search.exact_match_key_queries_for_v4_2\"\n",
    "\n",
    "job_config = bigquery.LoadJobConfig(\n",
    "    schema= bq_schema,\n",
    "    write_disposition=\"WRITE_TRUNCATE\",\n",
    ")\n",
    "\n",
    "upload_job = client.load_table_from_dataframe(\n",
    "    output_sample, output_table, job_config=job_config\n",
    ")\n",
    "upload_job.result()"
   ]
  },
  {
   "cell_type": "code",
   "execution_count": null,
   "id": "dd12b11e",
   "metadata": {},
   "outputs": [],
   "source": []
  }
 ],
 "metadata": {
  "kernelspec": {
   "display_name": "venv",
   "language": "python",
   "name": "venv"
  },
  "language_info": {
   "codemirror_mode": {
    "name": "ipython",
    "version": 3
   },
   "file_extension": ".py",
   "mimetype": "text/x-python",
   "name": "python",
   "nbconvert_exporter": "python",
   "pygments_lexer": "ipython3",
   "version": "3.10.1"
  }
 },
 "nbformat": 4,
 "nbformat_minor": 5
}
