{
 "cells": [
  {
   "cell_type": "code",
   "execution_count": 1,
   "id": "55bb368b",
   "metadata": {},
   "outputs": [],
   "source": [
    "import pandas as pd\n",
    "import numpy as np\n",
    "import requests\n",
    "import json\n",
    "from google.cloud import bigquery"
   ]
  },
  {
   "cell_type": "code",
   "execution_count": 2,
   "id": "5f3a4d92",
   "metadata": {},
   "outputs": [],
   "source": [
    "url = \"http://prod-ml-platform.etsycloud.com/barista/query-entity-extraction-v2-ts/predictions/query-entity-extraction-v2\"\n",
    "headers = {\"Content-Type\": \"application/json\"}"
   ]
  },
  {
   "cell_type": "code",
   "execution_count": 3,
   "id": "932d877f",
   "metadata": {},
   "outputs": [],
   "source": [
    "query_str = \"\"\"select distinct \n",
    "    query, queryEn,\n",
    "    queryEntities,\n",
    "    queryEntities_fandom,\n",
    "    queryEntities_motif,\n",
    "    queryEntities_style,\n",
    "    queryEntities_material,\n",
    "    queryEntities_color,\n",
    "    queryEntities_technique,\n",
    "    queryEntities_tangibleItem,\n",
    "    queryEntities_size,\n",
    "    queryEntities_occasion,\n",
    "    queryEntities_customization,\n",
    "    queryEntities_age,\n",
    "    queryEntities_price,\n",
    "    queryEntities_quantity,\n",
    "    queryEntities_recipient\n",
    "from `etsy-search-ml-dev.search.yzhang_emqueries_issue_llm_clean`\n",
    "where queryEntities is null or queryEntities = '' \n",
    "\"\"\"\n",
    "\n",
    "client = bigquery.Client(project=\"etsy-search-ml-dev\")\n",
    "query_job = client.query(query_str)\n",
    "rows = query_job.result()\n",
    "query_df = rows.to_dataframe()"
   ]
  },
  {
   "cell_type": "code",
   "execution_count": 4,
   "id": "740d3916",
   "metadata": {},
   "outputs": [],
   "source": [
    "query_df.fillna(\"\", inplace=True)\n",
    "query_df[\"en_query\"] = query_df.apply(\n",
    "    lambda row: row[\"queryEn\"] if row[\"queryEn\"] != \"\" else row[\"query\"], axis=1\n",
    ")"
   ]
  },
  {
   "cell_type": "code",
   "execution_count": 5,
   "id": "e04375fd",
   "metadata": {},
   "outputs": [
    {
     "data": {
      "text/plain": [
       "(2657, 18)"
      ]
     },
     "execution_count": 5,
     "metadata": {},
     "output_type": "execute_result"
    }
   ],
   "source": [
    "query_df.shape"
   ]
  },
  {
   "cell_type": "code",
   "execution_count": 6,
   "id": "ffd22afd",
   "metadata": {},
   "outputs": [],
   "source": [
    "def return_formatting(odata):\n",
    "    if len(odata) == 0:\n",
    "        return odata\n",
    "    elif pd.isnull(odata[0][\"raw_value\"]):\n",
    "        return []\n",
    "    else:\n",
    "        return [odata[0][\"raw_value\"]]"
   ]
  },
  {
   "cell_type": "code",
   "execution_count": 7,
   "id": "ed985a24",
   "metadata": {},
   "outputs": [
    {
     "name": "stdout",
     "output_type": "stream",
     "text": [
      "0\n",
      "200\n",
      "400\n",
      "600\n",
      "800\n",
      "1000\n",
      "1200\n",
      "1400\n",
      "1600\n",
      "1800\n",
      "2000\n",
      "2200\n",
      "2400\n",
      "2600\n"
     ]
    }
   ],
   "source": [
    "for i in query_df.index:\n",
    "    if i % 200 == 0:\n",
    "        print(i)\n",
    "        \n",
    "    curr_translated_query = query_df.loc[i, \"en_query\"]\n",
    "    assert not pd.isnull(curr_translated_query)\n",
    "    assert curr_translated_query != \"\"\n",
    "\n",
    "    resp = requests.post(url, headers=headers, data=json.dumps({\"query\": curr_translated_query}))\n",
    "    result_data = resp.json()\n",
    "    output_data = result_data.get(\"output\", {})\n",
    "    \n",
    "    query_df.at[i, \"queryEntities\"] = json.dumps(result_data[\"output\"])\n",
    "    query_df.at[i, \"queryEntities_tangibleItem\"] = return_formatting(output_data[\"tangible_item\"])\n",
    "    query_df.at[i, \"queryEntities_fandom\"] = return_formatting(output_data[\"fandom\"])\n",
    "    query_df.at[i, \"queryEntities_motif\"] = return_formatting(output_data[\"motif\"])\n",
    "    query_df.at[i, \"queryEntities_style\"] = return_formatting(output_data[\"style\"])\n",
    "    query_df.at[i, \"queryEntities_material\"] = return_formatting(output_data[\"material\"])\n",
    "    query_df.at[i, \"queryEntities_color\"] = return_formatting(output_data[\"color\"])\n",
    "    query_df.at[i, \"queryEntities_technique\"] = return_formatting(output_data[\"technique\"])\n",
    "    query_df.at[i, \"queryEntities_size\"] = return_formatting(output_data[\"size\"])\n",
    "    query_df.at[i, \"queryEntities_occasion\"] = return_formatting(output_data[\"occasion\"])\n",
    "    query_df.at[i, \"queryEntities_customization\"] = return_formatting(output_data[\"customization\"])\n",
    "    query_df.at[i, \"queryEntities_age\"] = return_formatting(output_data[\"age\"])\n",
    "    query_df.at[i, \"queryEntities_price\"] = return_formatting(output_data[\"price\"])\n",
    "    query_df.at[i, \"queryEntities_quantity\"] = return_formatting(output_data[\"quantity\"])\n",
    "    query_df.at[i, \"queryEntities_recipient\"] = return_formatting(output_data[\"recipient\"])\n",
    " "
   ]
  },
  {
   "cell_type": "code",
   "execution_count": 8,
   "id": "e0ac3940",
   "metadata": {},
   "outputs": [],
   "source": [
    "query_df.drop(columns='en_query', inplace=True)"
   ]
  },
  {
   "cell_type": "code",
   "execution_count": 9,
   "id": "b7d068e0",
   "metadata": {},
   "outputs": [],
   "source": [
    "client = bigquery.Client(project=\"etsy-search-ml-dev\")\n",
    "\n",
    "existing_table_id = \"etsy-search-ml-dev.search.yzhang_emqueries_issue_llm_clean\"\n",
    "table = client.get_table(existing_table_id)\n",
    "existing_schema = table.schema\n",
    "\n",
    "new_schema = [x for x in existing_schema if x.name in query_df.columns]"
   ]
  },
  {
   "cell_type": "code",
   "execution_count": 10,
   "id": "9806389a",
   "metadata": {},
   "outputs": [
    {
     "data": {
      "text/plain": [
       "[SchemaField('query', 'STRING', 'NULLABLE', None, None, (), None),\n",
       " SchemaField('queryEn', 'STRING', 'NULLABLE', None, None, (), None),\n",
       " SchemaField('queryEntities', 'STRING', 'NULLABLE', None, None, (), None),\n",
       " SchemaField('queryEntities_fandom', 'STRING', 'REPEATED', None, None, (), None),\n",
       " SchemaField('queryEntities_motif', 'STRING', 'REPEATED', None, None, (), None),\n",
       " SchemaField('queryEntities_style', 'STRING', 'REPEATED', None, None, (), None),\n",
       " SchemaField('queryEntities_material', 'STRING', 'REPEATED', None, None, (), None),\n",
       " SchemaField('queryEntities_color', 'STRING', 'REPEATED', None, None, (), None),\n",
       " SchemaField('queryEntities_technique', 'STRING', 'REPEATED', None, None, (), None),\n",
       " SchemaField('queryEntities_tangibleItem', 'STRING', 'REPEATED', None, None, (), None),\n",
       " SchemaField('queryEntities_size', 'STRING', 'REPEATED', None, None, (), None),\n",
       " SchemaField('queryEntities_occasion', 'STRING', 'REPEATED', None, None, (), None),\n",
       " SchemaField('queryEntities_customization', 'STRING', 'REPEATED', None, None, (), None),\n",
       " SchemaField('queryEntities_age', 'STRING', 'REPEATED', None, None, (), None),\n",
       " SchemaField('queryEntities_price', 'STRING', 'REPEATED', None, None, (), None),\n",
       " SchemaField('queryEntities_quantity', 'STRING', 'REPEATED', None, None, (), None),\n",
       " SchemaField('queryEntities_recipient', 'STRING', 'REPEATED', None, None, (), None)]"
      ]
     },
     "execution_count": 10,
     "metadata": {},
     "output_type": "execute_result"
    }
   ],
   "source": [
    "new_schema"
   ]
  },
  {
   "cell_type": "code",
   "execution_count": 11,
   "id": "80d24bf1",
   "metadata": {},
   "outputs": [
    {
     "data": {
      "text/plain": [
       "LoadJob<project=etsy-search-ml-dev, location=US, id=00ade738-d30b-4068-a5b2-fe20351ff118>"
      ]
     },
     "execution_count": 11,
     "metadata": {},
     "output_type": "execute_result"
    }
   ],
   "source": [
    "output_table = \"etsy-search-ml-dev.search.yzhang_emqueries_issue_expand_qee\"\n",
    "\n",
    "job_config = bigquery.LoadJobConfig(\n",
    "    schema= new_schema,\n",
    "    write_disposition=\"WRITE_TRUNCATE\",\n",
    ")\n",
    "\n",
    "upload_job = client.load_table_from_dataframe(\n",
    "    query_df, output_table, job_config=job_config\n",
    ")\n",
    "upload_job.result()"
   ]
  },
  {
   "cell_type": "code",
   "execution_count": null,
   "id": "556f631e",
   "metadata": {},
   "outputs": [],
   "source": []
  }
 ],
 "metadata": {
  "kernelspec": {
   "display_name": "venv",
   "language": "python",
   "name": "venv"
  },
  "language_info": {
   "codemirror_mode": {
    "name": "ipython",
    "version": 3
   },
   "file_extension": ".py",
   "mimetype": "text/x-python",
   "name": "python",
   "nbconvert_exporter": "python",
   "pygments_lexer": "ipython3",
   "version": "3.10.1"
  }
 },
 "nbformat": 4,
 "nbformat_minor": 5
}
