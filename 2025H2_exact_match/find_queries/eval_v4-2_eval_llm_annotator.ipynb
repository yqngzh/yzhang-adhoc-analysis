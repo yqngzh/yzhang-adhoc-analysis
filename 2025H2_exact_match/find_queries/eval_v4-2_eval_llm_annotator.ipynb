{
 "cells": [
  {
   "cell_type": "code",
   "execution_count": 2,
   "id": "9ed3d603-8031-48fb-be91-90f591313270",
   "metadata": {},
   "outputs": [],
   "source": [
    "from google.cloud import bigquery\n",
    "import pandas as pd\n",
    "import numpy as np\n",
    "from sklearn.metrics import f1_score, confusion_matrix, classification_report"
   ]
  },
  {
   "cell_type": "code",
   "execution_count": 3,
   "id": "7027bca0-c32e-4752-8231-c07afdf6eee4",
   "metadata": {},
   "outputs": [],
   "source": [
    "df = pd.read_json(\n",
    "    \"gs://training-dev-search-data-jtzn/semantic_relevance/datasets/v4_eval_golden_data/eval_data_v4-2.jsonl\", \n",
    "    lines=True\n",
    ")"
   ]
  },
  {
   "cell_type": "code",
   "execution_count": 4,
   "id": "105bc9a1-04a9-4719-b999-6ed2533ef384",
   "metadata": {},
   "outputs": [],
   "source": [
    "new_df = df[df.anno_data_source == \"problematic_queries_99\"]"
   ]
  },
  {
   "cell_type": "code",
   "execution_count": 5,
   "id": "083ef8b1-3811-482d-a47b-c5a78db6c399",
   "metadata": {},
   "outputs": [
    {
     "data": {
      "text/plain": [
       "(294, 51)"
      ]
     },
     "execution_count": 5,
     "metadata": {},
     "output_type": "execute_result"
    }
   ],
   "source": [
    "new_df.shape"
   ]
  },
  {
   "cell_type": "code",
   "execution_count": 6,
   "id": "38d0cc69-7132-42f6-9c81-5e5c31b47f11",
   "metadata": {},
   "outputs": [
    {
     "name": "stderr",
     "output_type": "stream",
     "text": [
      "/Users/yzhang/.pyenv/versions/3.12.9/lib/python3.12/site-packages/google/cloud/bigquery/table.py:1994: UserWarning: BigQuery Storage module not found, fetch data with the REST endpoint instead.\n",
      "  warnings.warn(\n"
     ]
    }
   ],
   "source": [
    "client = bigquery.Client(project=\"etsy-search-ml-dev\")\n",
    "\n",
    "query_str = \"\"\"select distinct \n",
    "    query, listingId, llm_final_label, llm_consensus_type\n",
    "from `etsy-search-ml-dev.search.yzhang_emqueries_issue_problem_requests_full`\n",
    "\"\"\"\n",
    "\n",
    "query_job = client.query(query_str)\n",
    "rows = query_job.result()\n",
    "full_df = rows.to_dataframe()"
   ]
  },
  {
   "cell_type": "code",
   "execution_count": 7,
   "id": "40d6c506-dc10-4323-a7e6-b9d3f3c19ae3",
   "metadata": {},
   "outputs": [],
   "source": [
    "merged_df = pd.merge(new_df, full_df, on=[\"query\", \"listingId\"], how=\"left\")"
   ]
  },
  {
   "cell_type": "code",
   "execution_count": 8,
   "id": "03284ca6-a5b8-404a-bc19-0541a23fde38",
   "metadata": {},
   "outputs": [
    {
     "data": {
      "text/plain": [
       "(294, 53)"
      ]
     },
     "execution_count": 8,
     "metadata": {},
     "output_type": "execute_result"
    }
   ],
   "source": [
    "merged_df.shape"
   ]
  },
  {
   "cell_type": "code",
   "execution_count": 14,
   "id": "4ada8f6c-9398-4242-9172-c3a05d1bed6b",
   "metadata": {},
   "outputs": [],
   "source": [
    "merged_df[\"llm_final_label\"] = merged_df.llm_final_label.fillna(\"partial\")"
   ]
  },
  {
   "cell_type": "code",
   "execution_count": 17,
   "id": "4fb7c569-a5fd-4a84-917f-f3655bbac155",
   "metadata": {},
   "outputs": [
    {
     "name": "stdout",
     "output_type": "stream",
     "text": [
      "              precision    recall  f1-score   support\n",
      "\n",
      "not_relevant      0.444     0.889     0.593         9\n",
      "     partial      0.861     0.824     0.842       188\n",
      "    relevant      0.740     0.732     0.736        97\n",
      "\n",
      "    accuracy                          0.796       294\n",
      "   macro avg      0.682     0.815     0.724       294\n",
      "weighted avg      0.808     0.796     0.800       294\n",
      "\n"
     ]
    }
   ],
   "source": [
    "print(classification_report(merged_df.gt_label, merged_df.llm_final_label, digits=3))"
   ]
  },
  {
   "cell_type": "code",
   "execution_count": 18,
   "id": "63856611-bcb4-437a-b8af-39be1ea2fa83",
   "metadata": {},
   "outputs": [
    {
     "data": {
      "text/plain": [
       "array([[ 71,  25,   1],\n",
       "       [ 24, 155,   9],\n",
       "       [  1,   0,   8]])"
      ]
     },
     "execution_count": 18,
     "metadata": {},
     "output_type": "execute_result"
    }
   ],
   "source": [
    "confusion_matrix(merged_df.gt_label, merged_df.llm_final_label, labels=[\"relevant\", \"partial\", \"not_relevant\"])"
   ]
  },
  {
   "cell_type": "code",
   "execution_count": null,
   "id": "f33395cc-afe5-4bac-bb7e-2a0ea2ba9a67",
   "metadata": {},
   "outputs": [],
   "source": []
  },
  {
   "cell_type": "code",
   "execution_count": 11,
   "id": "4d939d27-4c88-4b84-b260-30056e109c44",
   "metadata": {},
   "outputs": [
    {
     "data": {
      "text/html": [
       "<div>\n",
       "<style scoped>\n",
       "    .dataframe tbody tr th:only-of-type {\n",
       "        vertical-align: middle;\n",
       "    }\n",
       "\n",
       "    .dataframe tbody tr th {\n",
       "        vertical-align: top;\n",
       "    }\n",
       "\n",
       "    .dataframe thead th {\n",
       "        text-align: right;\n",
       "    }\n",
       "</style>\n",
       "<table border=\"1\" class=\"dataframe\">\n",
       "  <thead>\n",
       "    <tr style=\"text-align: right;\">\n",
       "      <th>llm_final_label</th>\n",
       "      <th>not_relevant</th>\n",
       "      <th>partial</th>\n",
       "      <th>relevant</th>\n",
       "    </tr>\n",
       "    <tr>\n",
       "      <th>gt_label</th>\n",
       "      <th></th>\n",
       "      <th></th>\n",
       "      <th></th>\n",
       "    </tr>\n",
       "  </thead>\n",
       "  <tbody>\n",
       "    <tr>\n",
       "      <th>not_relevant</th>\n",
       "      <td>8</td>\n",
       "      <td>0</td>\n",
       "      <td>1</td>\n",
       "    </tr>\n",
       "    <tr>\n",
       "      <th>partial</th>\n",
       "      <td>9</td>\n",
       "      <td>150</td>\n",
       "      <td>24</td>\n",
       "    </tr>\n",
       "    <tr>\n",
       "      <th>relevant</th>\n",
       "      <td>1</td>\n",
       "      <td>24</td>\n",
       "      <td>71</td>\n",
       "    </tr>\n",
       "  </tbody>\n",
       "</table>\n",
       "</div>"
      ],
      "text/plain": [
       "llm_final_label  not_relevant  partial  relevant\n",
       "gt_label                                        \n",
       "not_relevant                8        0         1\n",
       "partial                     9      150        24\n",
       "relevant                    1       24        71"
      ]
     },
     "execution_count": 11,
     "metadata": {},
     "output_type": "execute_result"
    }
   ],
   "source": [
    "pd.crosstab(merged_df.gt_label, merged_df.llm_final_label)"
   ]
  },
  {
   "cell_type": "markdown",
   "id": "4c61307d-d41f-46ae-ad44-6034227d4c68",
   "metadata": {},
   "source": [
    "229 / 294 = 77.9%"
   ]
  },
  {
   "cell_type": "code",
   "execution_count": 12,
   "id": "24ad1601-2f20-4c9c-bd86-c3525d4aa2cf",
   "metadata": {},
   "outputs": [],
   "source": [
    "consensus_df = merged_df[merged_df.llm_consensus_type == \"5-0\"]"
   ]
  },
  {
   "cell_type": "code",
   "execution_count": 14,
   "id": "88764104-3ddf-4308-acb0-019636886650",
   "metadata": {},
   "outputs": [
    {
     "data": {
      "text/plain": [
       "(216, 53)"
      ]
     },
     "execution_count": 14,
     "metadata": {},
     "output_type": "execute_result"
    }
   ],
   "source": [
    "consensus_df.shape"
   ]
  },
  {
   "cell_type": "code",
   "execution_count": 13,
   "id": "a81f875c-888c-41d9-ab0d-5593cedfc957",
   "metadata": {},
   "outputs": [
    {
     "data": {
      "text/html": [
       "<div>\n",
       "<style scoped>\n",
       "    .dataframe tbody tr th:only-of-type {\n",
       "        vertical-align: middle;\n",
       "    }\n",
       "\n",
       "    .dataframe tbody tr th {\n",
       "        vertical-align: top;\n",
       "    }\n",
       "\n",
       "    .dataframe thead th {\n",
       "        text-align: right;\n",
       "    }\n",
       "</style>\n",
       "<table border=\"1\" class=\"dataframe\">\n",
       "  <thead>\n",
       "    <tr style=\"text-align: right;\">\n",
       "      <th>llm_final_label</th>\n",
       "      <th>not_relevant</th>\n",
       "      <th>partial</th>\n",
       "      <th>relevant</th>\n",
       "    </tr>\n",
       "    <tr>\n",
       "      <th>gt_label</th>\n",
       "      <th></th>\n",
       "      <th></th>\n",
       "      <th></th>\n",
       "    </tr>\n",
       "  </thead>\n",
       "  <tbody>\n",
       "    <tr>\n",
       "      <th>not_relevant</th>\n",
       "      <td>6</td>\n",
       "      <td>0</td>\n",
       "      <td>0</td>\n",
       "    </tr>\n",
       "    <tr>\n",
       "      <th>partial</th>\n",
       "      <td>3</td>\n",
       "      <td>120</td>\n",
       "      <td>15</td>\n",
       "    </tr>\n",
       "    <tr>\n",
       "      <th>relevant</th>\n",
       "      <td>0</td>\n",
       "      <td>11</td>\n",
       "      <td>61</td>\n",
       "    </tr>\n",
       "  </tbody>\n",
       "</table>\n",
       "</div>"
      ],
      "text/plain": [
       "llm_final_label  not_relevant  partial  relevant\n",
       "gt_label                                        \n",
       "not_relevant                6        0         0\n",
       "partial                     3      120        15\n",
       "relevant                    0       11        61"
      ]
     },
     "execution_count": 13,
     "metadata": {},
     "output_type": "execute_result"
    }
   ],
   "source": [
    "pd.crosstab(consensus_df.gt_label, consensus_df.llm_final_label)"
   ]
  },
  {
   "cell_type": "markdown",
   "id": "acc24243-5a34-4847-a078-ce89ed9e88fb",
   "metadata": {},
   "source": [
    "187 / 216 = 86.6%"
   ]
  },
  {
   "cell_type": "code",
   "execution_count": null,
   "id": "bd8a9f90-f9b9-4b63-b8b9-af805668181b",
   "metadata": {},
   "outputs": [],
   "source": []
  }
 ],
 "metadata": {
  "kernelspec": {
   "display_name": "myenv",
   "language": "python",
   "name": "myenv"
  },
  "language_info": {
   "codemirror_mode": {
    "name": "ipython",
    "version": 3
   },
   "file_extension": ".py",
   "mimetype": "text/x-python",
   "name": "python",
   "nbconvert_exporter": "python",
   "pygments_lexer": "ipython3",
   "version": "3.12.9"
  }
 },
 "nbformat": 4,
 "nbformat_minor": 5
}
