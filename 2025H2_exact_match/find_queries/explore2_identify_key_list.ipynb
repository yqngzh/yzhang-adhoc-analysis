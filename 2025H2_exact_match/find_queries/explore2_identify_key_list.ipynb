{
 "cells": [
  {
   "cell_type": "code",
   "execution_count": 1,
   "id": "9649e90d",
   "metadata": {},
   "outputs": [],
   "source": [
    "from google.cloud import bigquery\n",
    "import pandas as pd\n",
    "import numpy as np"
   ]
  },
  {
   "cell_type": "code",
   "execution_count": 2,
   "id": "2ff63979",
   "metadata": {},
   "outputs": [],
   "source": [
    "base_url = \"https://atlas.etsycorp.com/recsys/listing_viewer.php?listing_ids=\""
   ]
  },
  {
   "cell_type": "code",
   "execution_count": 3,
   "id": "f47c2969",
   "metadata": {},
   "outputs": [],
   "source": [
    "query_str = \"\"\"select *\n",
    "from `etsy-search-ml-dev.search.yzhang_emqueries_issue_problem_requests_full`\n",
    "order by query, mmxRequestUUID, listingRank\n",
    "\"\"\"\n",
    "\n",
    "client = bigquery.Client(project=\"etsy-search-ml-dev\")\n",
    "query_job = client.query(query_str)\n",
    "rows = query_job.result()\n",
    "df = rows.to_dataframe()"
   ]
  },
  {
   "cell_type": "code",
   "execution_count": 4,
   "id": "c0cde0a9",
   "metadata": {},
   "outputs": [
    {
     "name": "stdout",
     "output_type": "stream",
     "text": [
      "(45408, 63)\n",
      "946\n",
      "945\n"
     ]
    }
   ],
   "source": [
    "print(df.shape)\n",
    "print(len(df.mmxRequestUUID.unique()))\n",
    "print(len(df[\"query\"].unique()))"
   ]
  },
  {
   "cell_type": "code",
   "execution_count": 5,
   "id": "d0a91142",
   "metadata": {},
   "outputs": [],
   "source": [
    "df.fillna(\"\", inplace=True)\n",
    "\n",
    "df.loc[:, \"rel_info\"] = df.apply(\n",
    "    lambda row: f\"llm:{row['llm_final_label']}({row['llm_consensus_type']})\", axis=1\n",
    ")"
   ]
  },
  {
   "cell_type": "code",
   "execution_count": 6,
   "id": "c0d60e62",
   "metadata": {},
   "outputs": [],
   "source": [
    "output_df = df[[\n",
    "    \"mmxRequestUUID\", \"query\", \"queryEn\", \"queryDate\", \"platform\", \"userLanguage\", \"userCountry\", \"si_so\",\n",
    "    \"queryBin\", \"qisClass\", \"queryTaxoFullPath\", \"queryTaxoTop\", \"queryEntities\", \"queryPriorClicks\", \"queryPriorPurchase\",\n",
    "]].drop_duplicates()\n",
    "\n",
    "output_df.set_index(\"mmxRequestUUID\", inplace=True)\n",
    "output_df.loc[:, \"pct_em\"] = 0.0\n",
    "output_df.loc[:, \"listing_viewer_url\"] = \"\""
   ]
  },
  {
   "cell_type": "code",
   "execution_count": 7,
   "id": "a13c0fa4",
   "metadata": {},
   "outputs": [],
   "source": [
    "unique_request_uuids = list(df.mmxRequestUUID.unique())"
   ]
  },
  {
   "cell_type": "code",
   "execution_count": 8,
   "id": "afeaaaff",
   "metadata": {},
   "outputs": [],
   "source": [
    "for i in range(len(unique_request_uuids)):\n",
    "    curr_uuid = unique_request_uuids[i]\n",
    "    curr_df = df[df.mmxRequestUUID == curr_uuid]\n",
    "\n",
    "    curr_query = curr_df[\"query\"].values[0]\n",
    "    info_array = curr_df[[\"rel_info\", \"listingId\"]].values\n",
    "    info_array = list(info_array.reshape(-1))\n",
    "    page_info = \",\".join([str(x) for x in info_array])\n",
    "    \n",
    "    curr_pct_em = sum(curr_df[\"llm_final_label\"] == \"relevant\") / curr_df.shape[0]\n",
    "    assert curr_df.shape[0] == 48\n",
    "    output_df.loc[curr_uuid, \"pct_em\"] = curr_pct_em\n",
    "\n",
    "    curr_url = f'=HYPERLINK(\"{base_url}{curr_query},{page_info}\", \"link\")'\n",
    "    output_df.loc[curr_uuid, \"listing_viewer_url\"] = curr_url"
   ]
  },
  {
   "cell_type": "code",
   "execution_count": 9,
   "id": "b3bd8524",
   "metadata": {},
   "outputs": [
    {
     "name": "stdout",
     "output_type": "stream",
     "text": [
      "(160, 16)\n",
      "160\n"
     ]
    }
   ],
   "source": [
    "top_df = output_df[output_df[\"queryBin\"].isin([\"top.01\", \"top.1\"])]\n",
    "print(top_df.shape)\n",
    "print(len(top_df[\"query\"].unique()))"
   ]
  },
  {
   "cell_type": "code",
   "execution_count": 11,
   "id": "d058d8ea",
   "metadata": {},
   "outputs": [],
   "source": [
    "others_df = output_df[~output_df[\"queryBin\"].isin([\"top.01\", \"top.1\"])]\n",
    "others_df = others_df[others_df[\"queryPriorPurchase\"] == \"no_purchase\"]\n",
    "others_df = others_df.sample(200)"
   ]
  },
  {
   "cell_type": "code",
   "execution_count": 12,
   "id": "7b73bfda",
   "metadata": {},
   "outputs": [],
   "source": [
    "output_df = pd.concat([top_df, others_df])"
   ]
  },
  {
   "cell_type": "code",
   "execution_count": 14,
   "id": "6b2588b0",
   "metadata": {},
   "outputs": [],
   "source": [
    "# merge with existing list\n",
    "prev_df = pd.read_csv(\"./explore2_problematic_pages_in_key_segs_with_anno.csv\")"
   ]
  },
  {
   "cell_type": "code",
   "execution_count": 15,
   "id": "cf164818",
   "metadata": {},
   "outputs": [],
   "source": [
    "prev_df = prev_df[[\"query\", \"use_this_query\", \"note\"]]"
   ]
  },
  {
   "cell_type": "code",
   "execution_count": 16,
   "id": "d0230388",
   "metadata": {},
   "outputs": [],
   "source": [
    "final_output_df = pd.merge(output_df, prev_df, on=\"query\", how=\"left\")"
   ]
  },
  {
   "cell_type": "code",
   "execution_count": 17,
   "id": "49c9d1b0",
   "metadata": {},
   "outputs": [],
   "source": [
    "final_output_df = final_output_df.sort_values(by=[\"queryBin\", 'pct_em'])\n",
    "final_output_df.to_csv(\"./explore2_key_queries.csv\", index=False)"
   ]
  },
  {
   "cell_type": "code",
   "execution_count": null,
   "id": "e1052ece",
   "metadata": {},
   "outputs": [],
   "source": []
  }
 ],
 "metadata": {
  "kernelspec": {
   "display_name": "venv",
   "language": "python",
   "name": "venv"
  },
  "language_info": {
   "codemirror_mode": {
    "name": "ipython",
    "version": 3
   },
   "file_extension": ".py",
   "mimetype": "text/x-python",
   "name": "python",
   "nbconvert_exporter": "python",
   "pygments_lexer": "ipython3",
   "version": "3.10.1"
  }
 },
 "nbformat": 4,
 "nbformat_minor": 5
}
