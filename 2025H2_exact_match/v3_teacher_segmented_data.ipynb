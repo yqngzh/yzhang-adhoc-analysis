{
 "cells": [
  {
   "cell_type": "code",
   "execution_count": 1,
   "id": "0332dd0f",
   "metadata": {},
   "outputs": [],
   "source": [
    "import pandas as pd\n",
    "import numpy as np\n",
    "import system_prompts \n",
    "import human_prompts \n",
    "import utils"
   ]
  },
  {
   "cell_type": "code",
   "execution_count": 2,
   "id": "8c51ff32",
   "metadata": {},
   "outputs": [],
   "source": [
    "test_df = pd.read_excel(\"./gsl_eval_v0_all_except_llm.xlsx\")"
   ]
  },
  {
   "cell_type": "code",
   "execution_count": 3,
   "id": "1512a7aa",
   "metadata": {},
   "outputs": [],
   "source": [
    "test_df = test_df[test_df[utils.GT_FIELD] != \"not_sure\"].reset_index(drop=True)\n",
    "test_df.fillna(\"\", inplace=True)\n",
    "\n",
    "test_df[\"ori_title\"] = np.where(test_df[\"listingTitle\"] != \"\", test_df[\"listingTitle\"], test_df[\"listingTitleEn\"])\n",
    "test_df[\"en_title\"] = np.where(test_df[\"listingTitleEn\"] != \"\", test_df[\"listingTitleEn\"], test_df[\"listingTitle\"])"
   ]
  },
  {
   "cell_type": "code",
   "execution_count": 5,
   "id": "37e5caa5",
   "metadata": {},
   "outputs": [
    {
     "data": {
      "text/plain": [
       "'tangibleItem:favors;style:nautical;occasion:baby shower;'"
      ]
     },
     "execution_count": 5,
     "metadata": {},
     "output_type": "execute_result"
    }
   ],
   "source": [
    "test_df.queryEntities[0]"
   ]
  },
  {
   "cell_type": "code",
   "execution_count": null,
   "id": "d335bf2b",
   "metadata": {},
   "outputs": [],
   "source": []
  },
  {
   "cell_type": "markdown",
   "id": "e16f7558",
   "metadata": {},
   "source": [
    "## Get additional query segment features"
   ]
  },
  {
   "cell_type": "code",
   "execution_count": null,
   "id": "cac82b1a",
   "metadata": {},
   "outputs": [],
   "source": [
    "sql_query = \"\"\"\n",
    "    qlm AS (\n",
    "      select query_raw query, bin as queryBin \n",
    "      from `etsy-batchjobs-prod.snapshots.query_level_metrics_raw`\n",
    "      where _date = date('2025-06-26')\n",
    "    ),\n",
    "    qis AS (\n",
    "      SELECT query_raw query,\n",
    "      CASE \n",
    "        WHEN class_id = 0 THEN 'broad' \n",
    "        WHEN class_id = 1 THEN 'direct_unspecified'\n",
    "        WHEN class_id = 2 THEN 'direct_specified' \n",
    "      END AS qisClass\n",
    "      FROM `etsy-search-ml-prod.mission_understanding.qis_scores`\n",
    "    ),\n",
    "    qisv2 AS (\n",
    "      SELECT query,\n",
    "      CASE \n",
    "        WHEN prediction = 0 THEN 'broad' \n",
    "        WHEN prediction = 1 THEN 'direct_unspecified'\n",
    "        WHEN prediction = 2 THEN 'direct_specified' \n",
    "      END AS qisClassV2\n",
    "      FROM `etsy-search-ml-prod.mission_understanding.qis_scores_v2`\n",
    "    ),\n",
    "    qe_new AS (\n",
    "      SELECT \n",
    "      FROM `etsy-search-ml-prod.mission_understanding.query_entity_extraction_term_weighting`\n",
    "    ),\n",
    "\"\"\"\n"
   ]
  },
  {
   "cell_type": "code",
   "execution_count": null,
   "id": "c402d936",
   "metadata": {},
   "outputs": [],
   "source": [
    "input_texts = []\n",
    "full_texts = []\n",
    "\n",
    "for i in range(len(input_records)):\n",
    "    human_prompt_text = utils.build_json_string(\n",
    "        input_records[i],\n",
    "        query_feature_dict=utils.query_feature_dict_options[\"query\"],\n",
    "        listing_feature_dict=utils.listing_feature_dict_options[\"tsidn\"],\n",
    "    )\n",
    "    input_convo = [\n",
    "        {\"role\": \"system\", \"content\": system_prompts.system_ethan_v2_noreason},\n",
    "        {\"role\": \"user\", \"content\": human_prompt_text},\n",
    "    ]\n",
    "    full_convo = input_convo + [{\"role\": \"assistant\", \"content\": human_labels[i]}]\n",
    "    input_text = tokenizer.apply_chat_template(\n",
    "        input_convo,\n",
    "        tokenize=False,\n",
    "        add_generation_prompt=True\n",
    "    )\n",
    "    full_text = tokenizer.apply_chat_template(\n",
    "        full_convo,\n",
    "        tokenize=False,\n",
    "        add_generation_prompt=False\n",
    "    )\n",
    "    input_texts.append(input_text)\n",
    "    full_texts.append(full_text)\n",
    "    \n",
    "test_df['input_text'] = input_texts\n",
    "test_df['full_text'] = full_texts"
   ]
  }
 ],
 "metadata": {
  "kernelspec": {
   "display_name": "venv",
   "language": "python",
   "name": "venv"
  },
  "language_info": {
   "codemirror_mode": {
    "name": "ipython",
    "version": 3
   },
   "file_extension": ".py",
   "mimetype": "text/x-python",
   "name": "python",
   "nbconvert_exporter": "python",
   "pygments_lexer": "ipython3",
   "version": "3.10.1"
  }
 },
 "nbformat": 4,
 "nbformat_minor": 5
}
