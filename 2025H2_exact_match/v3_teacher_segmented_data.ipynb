{
 "cells": [
  {
   "cell_type": "code",
   "execution_count": 1,
   "id": "0332dd0f",
   "metadata": {},
   "outputs": [],
   "source": [
    "import pandas as pd\n",
    "import numpy as np\n",
    "import utils\n",
    "\n",
    "from google.cloud import bigquery"
   ]
  },
  {
   "cell_type": "code",
   "execution_count": 2,
   "id": "8c51ff32",
   "metadata": {},
   "outputs": [],
   "source": [
    "test_df = pd.read_excel(\"./gsl_eval_v0_all_except_llm.xlsx\")"
   ]
  },
  {
   "cell_type": "code",
   "execution_count": 3,
   "id": "1512a7aa",
   "metadata": {},
   "outputs": [],
   "source": [
    "test_df = test_df[test_df[utils.GT_FIELD] != \"not_sure\"].reset_index(drop=True)\n",
    "test_df.fillna(\"\", inplace=True)\n",
    "\n",
    "test_df[\"ori_title\"] = np.where(test_df[\"listingTitle\"] != \"\", test_df[\"listingTitle\"], test_df[\"listingTitleEn\"])\n",
    "test_df[\"en_title\"] = np.where(test_df[\"listingTitleEn\"] != \"\", test_df[\"listingTitleEn\"], test_df[\"listingTitle\"])"
   ]
  },
  {
   "cell_type": "code",
   "execution_count": 4,
   "id": "c1c35f2b",
   "metadata": {},
   "outputs": [
    {
     "data": {
      "text/plain": [
       "(1095, 2)"
      ]
     },
     "execution_count": 4,
     "metadata": {},
     "output_type": "execute_result"
    }
   ],
   "source": [
    "test_df[[\"query\", \"listingId\"]].drop_duplicates().shape"
   ]
  },
  {
   "cell_type": "code",
   "execution_count": 5,
   "id": "652faa27",
   "metadata": {},
   "outputs": [
    {
     "data": {
      "text/plain": [
       "partial         620\n",
       "relevant        361\n",
       "not_relevant    114\n",
       "Name: etsy_round_label, dtype: int64"
      ]
     },
     "execution_count": 5,
     "metadata": {},
     "output_type": "execute_result"
    }
   ],
   "source": [
    "test_df[utils.GT_FIELD].value_counts()"
   ]
  },
  {
   "cell_type": "code",
   "execution_count": 6,
   "id": "9e08aaf1",
   "metadata": {},
   "outputs": [
    {
     "data": {
      "text/plain": [
       "792"
      ]
     },
     "execution_count": 6,
     "metadata": {},
     "output_type": "execute_result"
    }
   ],
   "source": [
    "len(test_df[\"query\"].unique())"
   ]
  },
  {
   "cell_type": "code",
   "execution_count": null,
   "id": "d335bf2b",
   "metadata": {},
   "outputs": [],
   "source": []
  },
  {
   "cell_type": "markdown",
   "id": "e16f7558",
   "metadata": {},
   "source": [
    "## Get additional query segment features"
   ]
  },
  {
   "cell_type": "code",
   "execution_count": 7,
   "id": "cac82b1a",
   "metadata": {},
   "outputs": [],
   "source": [
    "sql_query = \"\"\"with qlm AS (\n",
    "      select distinct query_raw as query, bin as queryBin \n",
    "      from `etsy-data-warehouse-prod.rollups.query_level_metrics_raw`\n",
    "    ),\n",
    "    qisv3 AS (\n",
    "      select query_raw query,\n",
    "      CASE \n",
    "        WHEN prediction = 0 THEN 'broad' \n",
    "        WHEN prediction = 1 THEN 'direct_unspecified'\n",
    "        WHEN prediction = 2 THEN 'direct_specified' \n",
    "      END as qisClass\n",
    "      from `etsy-search-ml-prod.mission_understanding.qis_scores_v3`\n",
    "    ),\n",
    "    qtcv5 as (\n",
    "      select distinct\n",
    "       coalesce(s.query, b.query) as query,\n",
    "       coalesce(s.full_path, b.full_path) as queryTaxoFullPath,\n",
    "      from `etsy-data-warehouse-prod.mission_understanding.query_taxonomy_seller` s\n",
    "      full outer join `etsy-data-warehouse-prod.mission_understanding.query_taxonomy_buyer` b\n",
    "       using(query)\n",
    "    ),\n",
    "    qee_raw AS (\n",
    "      select distinct\n",
    "        searchQuery as query,\n",
    "        fandom,\n",
    "        motif,\n",
    "        style,\n",
    "        material,\n",
    "        color,\n",
    "        technique,\n",
    "        tangibleItem,\n",
    "        size,\n",
    "        occasion,\n",
    "        customization,\n",
    "        age,\n",
    "        price,\n",
    "        quantity,\n",
    "        recipient\n",
    "      from `etsy-search-ml-prod.mission_understanding.query_entity_features`\n",
    "    ),\n",
    "    qee AS (\n",
    "      select *\n",
    "      from qee_raw\n",
    "      QUALIFY ROW_NUMBER() OVER (PARTITION BY query ORDER BY RAND()) = 1 \n",
    "    ),\n",
    "    anno_queries AS (\n",
    "      select distinct query, \n",
    "      from `etsy-search-ml-dev.aclapp.semrel_human_annotation_v1`\n",
    "      union all\n",
    "      select distinct query\n",
    "      from `etsy-sr-etl-prod.yzhang.sem_rel_human_annotation_v2`\n",
    "    )\n",
    "    select distinct\n",
    "      aq.query,\n",
    "      queryBin as seg_queryBin,\n",
    "      qisClass as seg_qisClass,\n",
    "      queryTaxoFullPath as seg_queryTaxoFullPath,\n",
    "      SPLIT(queryTaxoFullPath, \".\")[OFFSET(0)] as seg_queryTaxoTop,\n",
    "      fandom,\n",
    "      motif,\n",
    "      style,\n",
    "      material,\n",
    "      color,\n",
    "      technique,\n",
    "      tangibleItem,\n",
    "      size,\n",
    "      occasion,\n",
    "      customization,\n",
    "      age,\n",
    "      price,\n",
    "      quantity,\n",
    "      recipient\n",
    "    from anno_queries aq\n",
    "    left join qlm using (query)\n",
    "    left join qisv3 using (query)\n",
    "    left join qtcv5 using (query)\n",
    "    left join qee using (query)\n",
    "\"\"\"\n",
    "\n",
    "# ideally should match on user language for qee"
   ]
  },
  {
   "cell_type": "code",
   "execution_count": 8,
   "id": "bb5522cf",
   "metadata": {},
   "outputs": [
    {
     "name": "stderr",
     "output_type": "stream",
     "text": [
      "/Users/yzhang/development/yzhang-adhoc-analysis/venv/lib/python3.10/site-packages/google/auth/_default.py:76: UserWarning: Your application has authenticated using end user credentials from Google Cloud SDK without a quota project. You might receive a \"quota exceeded\" or \"API not enabled\" error. See the following page for troubleshooting: https://cloud.google.com/docs/authentication/adc-troubleshooting/user-creds. \n",
      "  warnings.warn(_CLOUD_SDK_CREDENTIALS_WARNING)\n"
     ]
    }
   ],
   "source": [
    "bq_client = bigquery.Client(project=\"etsy-search-ml-dev\")\n",
    "\n",
    "query_job = bq_client.query(sql_query)\n",
    "rows = query_job.result()\n",
    "query_segment_df = rows.to_dataframe()"
   ]
  },
  {
   "cell_type": "code",
   "execution_count": 9,
   "id": "2c6384a9",
   "metadata": {},
   "outputs": [],
   "source": [
    "merged_df = pd.merge(test_df, query_segment_df, on=[\"query\"], how=\"left\")"
   ]
  },
  {
   "cell_type": "code",
   "execution_count": 10,
   "id": "3d94f671",
   "metadata": {
    "scrolled": true
   },
   "outputs": [
    {
     "data": {
      "text/plain": [
       "(1095, 65)"
      ]
     },
     "execution_count": 10,
     "metadata": {},
     "output_type": "execute_result"
    }
   ],
   "source": [
    "merged_df.shape"
   ]
  },
  {
   "cell_type": "code",
   "execution_count": 11,
   "id": "7eb4c8aa",
   "metadata": {},
   "outputs": [],
   "source": [
    "merged_df.seg_queryBin.fillna(\"novel\", inplace=True)\n",
    "merged_df.seg_qisClass.fillna(\"missing\", inplace=True)\n",
    "merged_df.seg_queryTaxoTop.fillna(\"missing\", inplace=True)\n",
    "merged_df.seg_queryTaxoFullPath.fillna(\"missing\", inplace=True)"
   ]
  },
  {
   "cell_type": "code",
   "execution_count": 12,
   "id": "c2f44bab",
   "metadata": {},
   "outputs": [],
   "source": [
    "merged_df.to_excel(\"./gsl_eval_v0_segments.xlsx\", index=False)"
   ]
  },
  {
   "cell_type": "code",
   "execution_count": null,
   "id": "9daab822",
   "metadata": {},
   "outputs": [],
   "source": []
  },
  {
   "cell_type": "markdown",
   "id": "6f40b3a8",
   "metadata": {},
   "source": [
    "## Coverage"
   ]
  },
  {
   "cell_type": "code",
   "execution_count": 2,
   "id": "7c4c9276",
   "metadata": {},
   "outputs": [],
   "source": [
    "merged_df = pd.read_excel(\"./gsl_eval_v0_segments.xlsx\")"
   ]
  },
  {
   "cell_type": "code",
   "execution_count": 3,
   "id": "0ee17152",
   "metadata": {},
   "outputs": [
    {
     "data": {
      "text/plain": [
       "head      261\n",
       "novel     111\n",
       "tail      108\n",
       "top.01    318\n",
       "top.1     179\n",
       "torso     118\n",
       "Name: seg_queryBin, dtype: int64"
      ]
     },
     "execution_count": 3,
     "metadata": {},
     "output_type": "execute_result"
    }
   ],
   "source": [
    "merged_df.seg_queryBin.value_counts().sort_index()"
   ]
  },
  {
   "cell_type": "code",
   "execution_count": 4,
   "id": "81c90885",
   "metadata": {},
   "outputs": [
    {
     "data": {
      "text/html": [
       "<div>\n",
       "<style scoped>\n",
       "    .dataframe tbody tr th:only-of-type {\n",
       "        vertical-align: middle;\n",
       "    }\n",
       "\n",
       "    .dataframe tbody tr th {\n",
       "        vertical-align: top;\n",
       "    }\n",
       "\n",
       "    .dataframe thead th {\n",
       "        text-align: right;\n",
       "    }\n",
       "</style>\n",
       "<table border=\"1\" class=\"dataframe\">\n",
       "  <thead>\n",
       "    <tr style=\"text-align: right;\">\n",
       "      <th>etsy_round_label</th>\n",
       "      <th>not_relevant</th>\n",
       "      <th>partial</th>\n",
       "      <th>relevant</th>\n",
       "    </tr>\n",
       "    <tr>\n",
       "      <th>seg_queryBin</th>\n",
       "      <th></th>\n",
       "      <th></th>\n",
       "      <th></th>\n",
       "    </tr>\n",
       "  </thead>\n",
       "  <tbody>\n",
       "    <tr>\n",
       "      <th>head</th>\n",
       "      <td>30</td>\n",
       "      <td>160</td>\n",
       "      <td>71</td>\n",
       "    </tr>\n",
       "    <tr>\n",
       "      <th>novel</th>\n",
       "      <td>9</td>\n",
       "      <td>82</td>\n",
       "      <td>20</td>\n",
       "    </tr>\n",
       "    <tr>\n",
       "      <th>tail</th>\n",
       "      <td>21</td>\n",
       "      <td>72</td>\n",
       "      <td>15</td>\n",
       "    </tr>\n",
       "    <tr>\n",
       "      <th>top.01</th>\n",
       "      <td>25</td>\n",
       "      <td>120</td>\n",
       "      <td>173</td>\n",
       "    </tr>\n",
       "    <tr>\n",
       "      <th>top.1</th>\n",
       "      <td>17</td>\n",
       "      <td>99</td>\n",
       "      <td>63</td>\n",
       "    </tr>\n",
       "    <tr>\n",
       "      <th>torso</th>\n",
       "      <td>12</td>\n",
       "      <td>87</td>\n",
       "      <td>19</td>\n",
       "    </tr>\n",
       "  </tbody>\n",
       "</table>\n",
       "</div>"
      ],
      "text/plain": [
       "etsy_round_label  not_relevant  partial  relevant\n",
       "seg_queryBin                                     \n",
       "head                        30      160        71\n",
       "novel                        9       82        20\n",
       "tail                        21       72        15\n",
       "top.01                      25      120       173\n",
       "top.1                       17       99        63\n",
       "torso                       12       87        19"
      ]
     },
     "execution_count": 4,
     "metadata": {},
     "output_type": "execute_result"
    }
   ],
   "source": [
    "pd.crosstab(merged_df.seg_queryBin, merged_df[utils.GT_FIELD])"
   ]
  },
  {
   "cell_type": "code",
   "execution_count": 6,
   "id": "a7a086c3",
   "metadata": {},
   "outputs": [
    {
     "data": {
      "text/html": [
       "<div>\n",
       "<style scoped>\n",
       "    .dataframe tbody tr th:only-of-type {\n",
       "        vertical-align: middle;\n",
       "    }\n",
       "\n",
       "    .dataframe tbody tr th {\n",
       "        vertical-align: top;\n",
       "    }\n",
       "\n",
       "    .dataframe thead th {\n",
       "        text-align: right;\n",
       "    }\n",
       "</style>\n",
       "<table border=\"1\" class=\"dataframe\">\n",
       "  <thead>\n",
       "    <tr style=\"text-align: right;\">\n",
       "      <th></th>\n",
       "      <th>query</th>\n",
       "      <th>queryEn</th>\n",
       "      <th>listingId</th>\n",
       "      <th>titleEn_vertica</th>\n",
       "      <th>etsyUUID</th>\n",
       "      <th>platform</th>\n",
       "      <th>userLanguage</th>\n",
       "      <th>anno_data_source</th>\n",
       "      <th>labelbox_majority_label</th>\n",
       "      <th>label_annotator_1</th>\n",
       "      <th>...</th>\n",
       "      <th>color</th>\n",
       "      <th>technique</th>\n",
       "      <th>tangibleItem</th>\n",
       "      <th>size</th>\n",
       "      <th>occasion</th>\n",
       "      <th>customization</th>\n",
       "      <th>age</th>\n",
       "      <th>price</th>\n",
       "      <th>quantity</th>\n",
       "      <th>recipient</th>\n",
       "    </tr>\n",
       "  </thead>\n",
       "  <tbody>\n",
       "    <tr>\n",
       "      <th>13</th>\n",
       "      <td>witcher&amp;#39;s fan gift</td>\n",
       "      <td>NaN</td>\n",
       "      <td>1568718608</td>\n",
       "      <td>Ice Dragon Sticker, Cool Dragon Decal for Drag...</td>\n",
       "      <td>EuQihQcn91nsBOnr95cwktixyW81</td>\n",
       "      <td>web</td>\n",
       "      <td>en-US</td>\n",
       "      <td>us_v2-gift</td>\n",
       "      <td>not_relevant</td>\n",
       "      <td>not_relevant</td>\n",
       "      <td>...</td>\n",
       "      <td>[]</td>\n",
       "      <td>[]</td>\n",
       "      <td>[]</td>\n",
       "      <td>[]</td>\n",
       "      <td>[]</td>\n",
       "      <td>[]</td>\n",
       "      <td>[]</td>\n",
       "      <td>[]</td>\n",
       "      <td>[]</td>\n",
       "      <td>[]</td>\n",
       "    </tr>\n",
       "    <tr>\n",
       "      <th>19</th>\n",
       "      <td>wings of fire  hivewing plush</td>\n",
       "      <td>NaN</td>\n",
       "      <td>1014676666</td>\n",
       "      <td>Tamarin the Rainwing</td>\n",
       "      <td>EudHDKudZxJ7LPbFWC3HleACx16d</td>\n",
       "      <td>web</td>\n",
       "      <td>en-US</td>\n",
       "      <td>us_v2-direct_specified</td>\n",
       "      <td>partial</td>\n",
       "      <td>partial</td>\n",
       "      <td>...</td>\n",
       "      <td>[]</td>\n",
       "      <td>[]</td>\n",
       "      <td>[]</td>\n",
       "      <td>[]</td>\n",
       "      <td>[]</td>\n",
       "      <td>[]</td>\n",
       "      <td>[]</td>\n",
       "      <td>[]</td>\n",
       "      <td>[]</td>\n",
       "      <td>[]</td>\n",
       "    </tr>\n",
       "    <tr>\n",
       "      <th>57</th>\n",
       "      <td>&amp;quot;sigrid nunez&amp;quot;</td>\n",
       "      <td>NaN</td>\n",
       "      <td>1038525124</td>\n",
       "      <td>Custom Sisters Print - Sisters Christmas Gifts...</td>\n",
       "      <td>Euyp7eJhKDUC67U7xhAuKbnm1o5a</td>\n",
       "      <td>web</td>\n",
       "      <td>en-US</td>\n",
       "      <td>us_v2-broad</td>\n",
       "      <td>not_relevant</td>\n",
       "      <td>not_relevant</td>\n",
       "      <td>...</td>\n",
       "      <td>[]</td>\n",
       "      <td>[]</td>\n",
       "      <td>[]</td>\n",
       "      <td>[]</td>\n",
       "      <td>[]</td>\n",
       "      <td>[]</td>\n",
       "      <td>[]</td>\n",
       "      <td>[]</td>\n",
       "      <td>[]</td>\n",
       "      <td>[]</td>\n",
       "    </tr>\n",
       "    <tr>\n",
       "      <th>59</th>\n",
       "      <td>floor vases large blue</td>\n",
       "      <td>NaN</td>\n",
       "      <td>1234484300</td>\n",
       "      <td>8.5&amp;#39;&amp;#39; Turkish Caftan Decor, Handmade C...</td>\n",
       "      <td>EuznlhUV2X8HEAbFPSU5vkNL1y16</td>\n",
       "      <td>boe</td>\n",
       "      <td>en-GB</td>\n",
       "      <td>us_v2-direct_specified</td>\n",
       "      <td>not_relevant</td>\n",
       "      <td>partial</td>\n",
       "      <td>...</td>\n",
       "      <td>[]</td>\n",
       "      <td>[]</td>\n",
       "      <td>[]</td>\n",
       "      <td>[]</td>\n",
       "      <td>[]</td>\n",
       "      <td>[]</td>\n",
       "      <td>[]</td>\n",
       "      <td>[]</td>\n",
       "      <td>[]</td>\n",
       "      <td>[]</td>\n",
       "    </tr>\n",
       "    <tr>\n",
       "      <th>62</th>\n",
       "      <td>laserburn rose</td>\n",
       "      <td>NaN</td>\n",
       "      <td>1644146021</td>\n",
       "      <td>Laser Burn PNG, 3D Illusion Laser Engraving Fi...</td>\n",
       "      <td>EucGn0fA1UZrZc2ShXEvMx3YnVb9</td>\n",
       "      <td>web</td>\n",
       "      <td>en-US</td>\n",
       "      <td>us_v2-broad</td>\n",
       "      <td>relevant</td>\n",
       "      <td>relevant</td>\n",
       "      <td>...</td>\n",
       "      <td>[]</td>\n",
       "      <td>[]</td>\n",
       "      <td>[]</td>\n",
       "      <td>[]</td>\n",
       "      <td>[]</td>\n",
       "      <td>[]</td>\n",
       "      <td>[]</td>\n",
       "      <td>[]</td>\n",
       "      <td>[]</td>\n",
       "      <td>[]</td>\n",
       "    </tr>\n",
       "  </tbody>\n",
       "</table>\n",
       "<p>5 rows × 65 columns</p>\n",
       "</div>"
      ],
      "text/plain": [
       "                            query queryEn   listingId  \\\n",
       "13         witcher&#39;s fan gift     NaN  1568718608   \n",
       "19  wings of fire  hivewing plush     NaN  1014676666   \n",
       "57       &quot;sigrid nunez&quot;     NaN  1038525124   \n",
       "59         floor vases large blue     NaN  1234484300   \n",
       "62                 laserburn rose     NaN  1644146021   \n",
       "\n",
       "                                      titleEn_vertica  \\\n",
       "13  Ice Dragon Sticker, Cool Dragon Decal for Drag...   \n",
       "19                               Tamarin the Rainwing   \n",
       "57  Custom Sisters Print - Sisters Christmas Gifts...   \n",
       "59  8.5&#39;&#39; Turkish Caftan Decor, Handmade C...   \n",
       "62  Laser Burn PNG, 3D Illusion Laser Engraving Fi...   \n",
       "\n",
       "                        etsyUUID platform userLanguage  \\\n",
       "13  EuQihQcn91nsBOnr95cwktixyW81      web        en-US   \n",
       "19  EudHDKudZxJ7LPbFWC3HleACx16d      web        en-US   \n",
       "57  Euyp7eJhKDUC67U7xhAuKbnm1o5a      web        en-US   \n",
       "59  EuznlhUV2X8HEAbFPSU5vkNL1y16      boe        en-GB   \n",
       "62  EucGn0fA1UZrZc2ShXEvMx3YnVb9      web        en-US   \n",
       "\n",
       "          anno_data_source labelbox_majority_label label_annotator_1  ...  \\\n",
       "13              us_v2-gift            not_relevant      not_relevant  ...   \n",
       "19  us_v2-direct_specified                 partial           partial  ...   \n",
       "57             us_v2-broad            not_relevant      not_relevant  ...   \n",
       "59  us_v2-direct_specified            not_relevant           partial  ...   \n",
       "62             us_v2-broad                relevant          relevant  ...   \n",
       "\n",
       "   color technique  tangibleItem  size  occasion  customization  age price  \\\n",
       "13    []        []            []    []        []             []   []    []   \n",
       "19    []        []            []    []        []             []   []    []   \n",
       "57    []        []            []    []        []             []   []    []   \n",
       "59    []        []            []    []        []             []   []    []   \n",
       "62    []        []            []    []        []             []   []    []   \n",
       "\n",
       "   quantity recipient  \n",
       "13       []        []  \n",
       "19       []        []  \n",
       "57       []        []  \n",
       "59       []        []  \n",
       "62       []        []  \n",
       "\n",
       "[5 rows x 65 columns]"
      ]
     },
     "execution_count": 6,
     "metadata": {},
     "output_type": "execute_result"
    }
   ],
   "source": [
    "merged_df[merged_df.seg_queryBin == \"novel\"].head()"
   ]
  },
  {
   "cell_type": "code",
   "execution_count": null,
   "id": "c82c0b3f",
   "metadata": {},
   "outputs": [],
   "source": []
  },
  {
   "cell_type": "code",
   "execution_count": 16,
   "id": "919bdb52",
   "metadata": {},
   "outputs": [
    {
     "data": {
      "text/plain": [
       "broad                 185\n",
       "direct_specified      492\n",
       "direct_unspecified    185\n",
       "missing               233\n",
       "Name: seg_qisClass, dtype: int64"
      ]
     },
     "execution_count": 16,
     "metadata": {},
     "output_type": "execute_result"
    }
   ],
   "source": [
    "merged_df.seg_qisClass.value_counts().sort_index()"
   ]
  },
  {
   "cell_type": "code",
   "execution_count": 17,
   "id": "2e069d40",
   "metadata": {},
   "outputs": [
    {
     "data": {
      "text/html": [
       "<div>\n",
       "<style scoped>\n",
       "    .dataframe tbody tr th:only-of-type {\n",
       "        vertical-align: middle;\n",
       "    }\n",
       "\n",
       "    .dataframe tbody tr th {\n",
       "        vertical-align: top;\n",
       "    }\n",
       "\n",
       "    .dataframe thead th {\n",
       "        text-align: right;\n",
       "    }\n",
       "</style>\n",
       "<table border=\"1\" class=\"dataframe\">\n",
       "  <thead>\n",
       "    <tr style=\"text-align: right;\">\n",
       "      <th>etsy_round_label</th>\n",
       "      <th>not_relevant</th>\n",
       "      <th>partial</th>\n",
       "      <th>relevant</th>\n",
       "    </tr>\n",
       "    <tr>\n",
       "      <th>seg_qisClass</th>\n",
       "      <th></th>\n",
       "      <th></th>\n",
       "      <th></th>\n",
       "    </tr>\n",
       "  </thead>\n",
       "  <tbody>\n",
       "    <tr>\n",
       "      <th>broad</th>\n",
       "      <td>25</td>\n",
       "      <td>103</td>\n",
       "      <td>57</td>\n",
       "    </tr>\n",
       "    <tr>\n",
       "      <th>direct_specified</th>\n",
       "      <td>49</td>\n",
       "      <td>342</td>\n",
       "      <td>101</td>\n",
       "    </tr>\n",
       "    <tr>\n",
       "      <th>direct_unspecified</th>\n",
       "      <td>30</td>\n",
       "      <td>80</td>\n",
       "      <td>75</td>\n",
       "    </tr>\n",
       "    <tr>\n",
       "      <th>missing</th>\n",
       "      <td>10</td>\n",
       "      <td>95</td>\n",
       "      <td>128</td>\n",
       "    </tr>\n",
       "  </tbody>\n",
       "</table>\n",
       "</div>"
      ],
      "text/plain": [
       "etsy_round_label    not_relevant  partial  relevant\n",
       "seg_qisClass                                       \n",
       "broad                         25      103        57\n",
       "direct_specified              49      342       101\n",
       "direct_unspecified            30       80        75\n",
       "missing                       10       95       128"
      ]
     },
     "execution_count": 17,
     "metadata": {},
     "output_type": "execute_result"
    }
   ],
   "source": [
    "pd.crosstab(merged_df.seg_qisClass, merged_df[utils.GT_FIELD])"
   ]
  },
  {
   "cell_type": "code",
   "execution_count": 18,
   "id": "c399c756",
   "metadata": {},
   "outputs": [
    {
     "data": {
      "text/html": [
       "<div>\n",
       "<style scoped>\n",
       "    .dataframe tbody tr th:only-of-type {\n",
       "        vertical-align: middle;\n",
       "    }\n",
       "\n",
       "    .dataframe tbody tr th {\n",
       "        vertical-align: top;\n",
       "    }\n",
       "\n",
       "    .dataframe thead th {\n",
       "        text-align: right;\n",
       "    }\n",
       "</style>\n",
       "<table border=\"1\" class=\"dataframe\">\n",
       "  <thead>\n",
       "    <tr style=\"text-align: right;\">\n",
       "      <th>seg_queryBin</th>\n",
       "      <th>head</th>\n",
       "      <th>novel</th>\n",
       "      <th>tail</th>\n",
       "      <th>top.01</th>\n",
       "      <th>top.1</th>\n",
       "      <th>torso</th>\n",
       "    </tr>\n",
       "    <tr>\n",
       "      <th>seg_qisClass</th>\n",
       "      <th></th>\n",
       "      <th></th>\n",
       "      <th></th>\n",
       "      <th></th>\n",
       "      <th></th>\n",
       "      <th></th>\n",
       "    </tr>\n",
       "  </thead>\n",
       "  <tbody>\n",
       "    <tr>\n",
       "      <th>broad</th>\n",
       "      <td>32</td>\n",
       "      <td>13</td>\n",
       "      <td>20</td>\n",
       "      <td>49</td>\n",
       "      <td>44</td>\n",
       "      <td>27</td>\n",
       "    </tr>\n",
       "    <tr>\n",
       "      <th>direct_specified</th>\n",
       "      <td>165</td>\n",
       "      <td>74</td>\n",
       "      <td>79</td>\n",
       "      <td>45</td>\n",
       "      <td>53</td>\n",
       "      <td>76</td>\n",
       "    </tr>\n",
       "    <tr>\n",
       "      <th>direct_unspecified</th>\n",
       "      <td>57</td>\n",
       "      <td>9</td>\n",
       "      <td>9</td>\n",
       "      <td>45</td>\n",
       "      <td>50</td>\n",
       "      <td>15</td>\n",
       "    </tr>\n",
       "    <tr>\n",
       "      <th>missing</th>\n",
       "      <td>7</td>\n",
       "      <td>15</td>\n",
       "      <td>0</td>\n",
       "      <td>179</td>\n",
       "      <td>32</td>\n",
       "      <td>0</td>\n",
       "    </tr>\n",
       "  </tbody>\n",
       "</table>\n",
       "</div>"
      ],
      "text/plain": [
       "seg_queryBin        head  novel  tail  top.01  top.1  torso\n",
       "seg_qisClass                                               \n",
       "broad                 32     13    20      49     44     27\n",
       "direct_specified     165     74    79      45     53     76\n",
       "direct_unspecified    57      9     9      45     50     15\n",
       "missing                7     15     0     179     32      0"
      ]
     },
     "execution_count": 18,
     "metadata": {},
     "output_type": "execute_result"
    }
   ],
   "source": [
    "pd.crosstab(merged_df.seg_qisClass, merged_df.seg_queryBin)"
   ]
  },
  {
   "cell_type": "code",
   "execution_count": null,
   "id": "ca8ed24a",
   "metadata": {},
   "outputs": [],
   "source": []
  },
  {
   "cell_type": "code",
   "execution_count": 19,
   "id": "02a62dbd",
   "metadata": {},
   "outputs": [
    {
     "data": {
      "text/plain": [
       "accessories                     30\n",
       "art_and_collectibles            34\n",
       "bags_and_purses                 24\n",
       "bath_and_beauty                 13\n",
       "books_movies_and_music           5\n",
       "clothing                        66\n",
       "craft_supplies_and_tools        39\n",
       "electronics_and_accessories     12\n",
       "home_and_living                165\n",
       "jewelry                         72\n",
       "missing                        501\n",
       "paper_and_party_supplies        53\n",
       "pet_supplies                    12\n",
       "shoes                            3\n",
       "toys_and_games                  37\n",
       "weddings                        29\n",
       "Name: seg_queryTaxoTop, dtype: int64"
      ]
     },
     "execution_count": 19,
     "metadata": {},
     "output_type": "execute_result"
    }
   ],
   "source": [
    "merged_df.seg_queryTaxoTop.value_counts().sort_index()"
   ]
  },
  {
   "cell_type": "code",
   "execution_count": 20,
   "id": "8ac2af92",
   "metadata": {},
   "outputs": [
    {
     "data": {
      "text/html": [
       "<div>\n",
       "<style scoped>\n",
       "    .dataframe tbody tr th:only-of-type {\n",
       "        vertical-align: middle;\n",
       "    }\n",
       "\n",
       "    .dataframe tbody tr th {\n",
       "        vertical-align: top;\n",
       "    }\n",
       "\n",
       "    .dataframe thead th {\n",
       "        text-align: right;\n",
       "    }\n",
       "</style>\n",
       "<table border=\"1\" class=\"dataframe\">\n",
       "  <thead>\n",
       "    <tr style=\"text-align: right;\">\n",
       "      <th>etsy_round_label</th>\n",
       "      <th>not_relevant</th>\n",
       "      <th>partial</th>\n",
       "      <th>relevant</th>\n",
       "    </tr>\n",
       "    <tr>\n",
       "      <th>seg_queryTaxoTop</th>\n",
       "      <th></th>\n",
       "      <th></th>\n",
       "      <th></th>\n",
       "    </tr>\n",
       "  </thead>\n",
       "  <tbody>\n",
       "    <tr>\n",
       "      <th>accessories</th>\n",
       "      <td>0</td>\n",
       "      <td>16</td>\n",
       "      <td>14</td>\n",
       "    </tr>\n",
       "    <tr>\n",
       "      <th>art_and_collectibles</th>\n",
       "      <td>8</td>\n",
       "      <td>17</td>\n",
       "      <td>9</td>\n",
       "    </tr>\n",
       "    <tr>\n",
       "      <th>bags_and_purses</th>\n",
       "      <td>1</td>\n",
       "      <td>11</td>\n",
       "      <td>12</td>\n",
       "    </tr>\n",
       "    <tr>\n",
       "      <th>bath_and_beauty</th>\n",
       "      <td>1</td>\n",
       "      <td>5</td>\n",
       "      <td>7</td>\n",
       "    </tr>\n",
       "    <tr>\n",
       "      <th>books_movies_and_music</th>\n",
       "      <td>1</td>\n",
       "      <td>3</td>\n",
       "      <td>1</td>\n",
       "    </tr>\n",
       "    <tr>\n",
       "      <th>clothing</th>\n",
       "      <td>8</td>\n",
       "      <td>36</td>\n",
       "      <td>22</td>\n",
       "    </tr>\n",
       "    <tr>\n",
       "      <th>craft_supplies_and_tools</th>\n",
       "      <td>5</td>\n",
       "      <td>24</td>\n",
       "      <td>10</td>\n",
       "    </tr>\n",
       "    <tr>\n",
       "      <th>electronics_and_accessories</th>\n",
       "      <td>1</td>\n",
       "      <td>3</td>\n",
       "      <td>8</td>\n",
       "    </tr>\n",
       "    <tr>\n",
       "      <th>home_and_living</th>\n",
       "      <td>12</td>\n",
       "      <td>83</td>\n",
       "      <td>70</td>\n",
       "    </tr>\n",
       "    <tr>\n",
       "      <th>jewelry</th>\n",
       "      <td>7</td>\n",
       "      <td>36</td>\n",
       "      <td>29</td>\n",
       "    </tr>\n",
       "    <tr>\n",
       "      <th>missing</th>\n",
       "      <td>61</td>\n",
       "      <td>313</td>\n",
       "      <td>127</td>\n",
       "    </tr>\n",
       "    <tr>\n",
       "      <th>paper_and_party_supplies</th>\n",
       "      <td>3</td>\n",
       "      <td>31</td>\n",
       "      <td>19</td>\n",
       "    </tr>\n",
       "    <tr>\n",
       "      <th>pet_supplies</th>\n",
       "      <td>1</td>\n",
       "      <td>6</td>\n",
       "      <td>5</td>\n",
       "    </tr>\n",
       "    <tr>\n",
       "      <th>shoes</th>\n",
       "      <td>0</td>\n",
       "      <td>2</td>\n",
       "      <td>1</td>\n",
       "    </tr>\n",
       "    <tr>\n",
       "      <th>toys_and_games</th>\n",
       "      <td>5</td>\n",
       "      <td>22</td>\n",
       "      <td>10</td>\n",
       "    </tr>\n",
       "    <tr>\n",
       "      <th>weddings</th>\n",
       "      <td>0</td>\n",
       "      <td>12</td>\n",
       "      <td>17</td>\n",
       "    </tr>\n",
       "  </tbody>\n",
       "</table>\n",
       "</div>"
      ],
      "text/plain": [
       "etsy_round_label             not_relevant  partial  relevant\n",
       "seg_queryTaxoTop                                            \n",
       "accessories                             0       16        14\n",
       "art_and_collectibles                    8       17         9\n",
       "bags_and_purses                         1       11        12\n",
       "bath_and_beauty                         1        5         7\n",
       "books_movies_and_music                  1        3         1\n",
       "clothing                                8       36        22\n",
       "craft_supplies_and_tools                5       24        10\n",
       "electronics_and_accessories             1        3         8\n",
       "home_and_living                        12       83        70\n",
       "jewelry                                 7       36        29\n",
       "missing                                61      313       127\n",
       "paper_and_party_supplies                3       31        19\n",
       "pet_supplies                            1        6         5\n",
       "shoes                                   0        2         1\n",
       "toys_and_games                          5       22        10\n",
       "weddings                                0       12        17"
      ]
     },
     "execution_count": 20,
     "metadata": {},
     "output_type": "execute_result"
    }
   ],
   "source": [
    "pd.crosstab(merged_df.seg_queryTaxoTop, merged_df[utils.GT_FIELD])"
   ]
  },
  {
   "cell_type": "code",
   "execution_count": null,
   "id": "e99e549d",
   "metadata": {},
   "outputs": [],
   "source": []
  },
  {
   "cell_type": "code",
   "execution_count": 21,
   "id": "9fce6cb3",
   "metadata": {},
   "outputs": [
    {
     "name": "stdout",
     "output_type": "stream",
     "text": [
      "102\n",
      "not_relevant     6\n",
      "partial         34\n",
      "relevant        62\n",
      "Name: etsy_round_label, dtype: int64\n"
     ]
    }
   ],
   "source": [
    "entity = \"recipient\"\n",
    "print(merged_df[merged_df[entity].apply(lambda x: len(eval(x)) > 0)].shape[0])\n",
    "print(merged_df[merged_df[entity].apply(lambda x: len(eval(x)) > 0)][utils.GT_FIELD].value_counts().sort_index())"
   ]
  },
  {
   "cell_type": "code",
   "execution_count": 22,
   "id": "29cad5d7",
   "metadata": {},
   "outputs": [],
   "source": [
    "merged_df[\"has_QEE\"] = np.logical_not(merged_df.queryEntities.isna())\n",
    "merged_df[\"has_queryTaxo\"] = merged_df.seg_queryTaxoTop != \"missing\""
   ]
  },
  {
   "cell_type": "code",
   "execution_count": 23,
   "id": "73ed1089",
   "metadata": {},
   "outputs": [
    {
     "data": {
      "text/html": [
       "<div>\n",
       "<style scoped>\n",
       "    .dataframe tbody tr th:only-of-type {\n",
       "        vertical-align: middle;\n",
       "    }\n",
       "\n",
       "    .dataframe tbody tr th {\n",
       "        vertical-align: top;\n",
       "    }\n",
       "\n",
       "    .dataframe thead th {\n",
       "        text-align: right;\n",
       "    }\n",
       "</style>\n",
       "<table border=\"1\" class=\"dataframe\">\n",
       "  <thead>\n",
       "    <tr style=\"text-align: right;\">\n",
       "      <th>seg_queryBin</th>\n",
       "      <th>head</th>\n",
       "      <th>novel</th>\n",
       "      <th>tail</th>\n",
       "      <th>top.01</th>\n",
       "      <th>top.1</th>\n",
       "      <th>torso</th>\n",
       "    </tr>\n",
       "    <tr>\n",
       "      <th>has_QEE</th>\n",
       "      <th></th>\n",
       "      <th></th>\n",
       "      <th></th>\n",
       "      <th></th>\n",
       "      <th></th>\n",
       "      <th></th>\n",
       "    </tr>\n",
       "  </thead>\n",
       "  <tbody>\n",
       "    <tr>\n",
       "      <th>False</th>\n",
       "      <td>128</td>\n",
       "      <td>111</td>\n",
       "      <td>107</td>\n",
       "      <td>13</td>\n",
       "      <td>7</td>\n",
       "      <td>110</td>\n",
       "    </tr>\n",
       "    <tr>\n",
       "      <th>True</th>\n",
       "      <td>133</td>\n",
       "      <td>0</td>\n",
       "      <td>1</td>\n",
       "      <td>305</td>\n",
       "      <td>172</td>\n",
       "      <td>8</td>\n",
       "    </tr>\n",
       "  </tbody>\n",
       "</table>\n",
       "</div>"
      ],
      "text/plain": [
       "seg_queryBin  head  novel  tail  top.01  top.1  torso\n",
       "has_QEE                                              \n",
       "False          128    111   107      13      7    110\n",
       "True           133      0     1     305    172      8"
      ]
     },
     "execution_count": 23,
     "metadata": {},
     "output_type": "execute_result"
    }
   ],
   "source": [
    "pd.crosstab(merged_df.has_QEE, merged_df.seg_queryBin)"
   ]
  },
  {
   "cell_type": "code",
   "execution_count": 24,
   "id": "84c879b2",
   "metadata": {},
   "outputs": [
    {
     "data": {
      "text/html": [
       "<div>\n",
       "<style scoped>\n",
       "    .dataframe tbody tr th:only-of-type {\n",
       "        vertical-align: middle;\n",
       "    }\n",
       "\n",
       "    .dataframe tbody tr th {\n",
       "        vertical-align: top;\n",
       "    }\n",
       "\n",
       "    .dataframe thead th {\n",
       "        text-align: right;\n",
       "    }\n",
       "</style>\n",
       "<table border=\"1\" class=\"dataframe\">\n",
       "  <thead>\n",
       "    <tr style=\"text-align: right;\">\n",
       "      <th>seg_queryBin</th>\n",
       "      <th>head</th>\n",
       "      <th>novel</th>\n",
       "      <th>tail</th>\n",
       "      <th>top.01</th>\n",
       "      <th>top.1</th>\n",
       "      <th>torso</th>\n",
       "    </tr>\n",
       "    <tr>\n",
       "      <th>has_queryTaxo</th>\n",
       "      <th></th>\n",
       "      <th></th>\n",
       "      <th></th>\n",
       "      <th></th>\n",
       "      <th></th>\n",
       "      <th></th>\n",
       "    </tr>\n",
       "  </thead>\n",
       "  <tbody>\n",
       "    <tr>\n",
       "      <th>False</th>\n",
       "      <td>44</td>\n",
       "      <td>111</td>\n",
       "      <td>106</td>\n",
       "      <td>85</td>\n",
       "      <td>55</td>\n",
       "      <td>100</td>\n",
       "    </tr>\n",
       "    <tr>\n",
       "      <th>True</th>\n",
       "      <td>217</td>\n",
       "      <td>0</td>\n",
       "      <td>2</td>\n",
       "      <td>233</td>\n",
       "      <td>124</td>\n",
       "      <td>18</td>\n",
       "    </tr>\n",
       "  </tbody>\n",
       "</table>\n",
       "</div>"
      ],
      "text/plain": [
       "seg_queryBin   head  novel  tail  top.01  top.1  torso\n",
       "has_queryTaxo                                         \n",
       "False            44    111   106      85     55    100\n",
       "True            217      0     2     233    124     18"
      ]
     },
     "execution_count": 24,
     "metadata": {},
     "output_type": "execute_result"
    }
   ],
   "source": [
    "pd.crosstab(merged_df.has_queryTaxo, merged_df.seg_queryBin)"
   ]
  },
  {
   "cell_type": "markdown",
   "id": "1d3a6558",
   "metadata": {},
   "source": [
    "!!Confounding: queries with QEE or query Taxo more likely come from top-head queries"
   ]
  },
  {
   "cell_type": "code",
   "execution_count": null,
   "id": "2b4594d4",
   "metadata": {},
   "outputs": [],
   "source": []
  }
 ],
 "metadata": {
  "kernelspec": {
   "display_name": "venv",
   "language": "python",
   "name": "venv"
  },
  "language_info": {
   "codemirror_mode": {
    "name": "ipython",
    "version": 3
   },
   "file_extension": ".py",
   "mimetype": "text/x-python",
   "name": "python",
   "nbconvert_exporter": "python",
   "pygments_lexer": "ipython3",
   "version": "3.10.1"
  }
 },
 "nbformat": 4,
 "nbformat_minor": 5
}
