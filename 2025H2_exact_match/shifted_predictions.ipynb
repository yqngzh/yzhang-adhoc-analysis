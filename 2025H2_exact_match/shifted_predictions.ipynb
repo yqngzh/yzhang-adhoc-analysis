{
 "cells": [
  {
   "cell_type": "code",
   "execution_count": 3,
   "id": "7d6b4ac4",
   "metadata": {},
   "outputs": [],
   "source": [
    "import pandas as pd\n",
    "import numpy as np"
   ]
  },
  {
   "cell_type": "code",
   "execution_count": 4,
   "id": "759d68a6",
   "metadata": {},
   "outputs": [],
   "source": [
    "df = pd.read_json(\n",
    "    \"gs://training-dev-search-data-jtzn/semantic_relevance/datasets/v4_eval_golden_data/eval_data_v4-1_w_teacher_labels.jsonl\", \n",
    "    lines=True\n",
    ")"
   ]
  },
  {
   "cell_type": "code",
   "execution_count": 11,
   "id": "239d54cb",
   "metadata": {},
   "outputs": [
    {
     "data": {
      "text/html": [
       "<div>\n",
       "<style scoped>\n",
       "    .dataframe tbody tr th:only-of-type {\n",
       "        vertical-align: middle;\n",
       "    }\n",
       "\n",
       "    .dataframe tbody tr th {\n",
       "        vertical-align: top;\n",
       "    }\n",
       "\n",
       "    .dataframe thead th {\n",
       "        text-align: right;\n",
       "    }\n",
       "</style>\n",
       "<table border=\"1\" class=\"dataframe\">\n",
       "  <thead>\n",
       "    <tr style=\"text-align: right;\">\n",
       "      <th></th>\n",
       "      <th>query</th>\n",
       "      <th>listingId</th>\n",
       "      <th>en_title</th>\n",
       "      <th>listingShopName</th>\n",
       "      <th>listingHeroImageCaption</th>\n",
       "      <th>listingDescNgrams</th>\n",
       "    </tr>\n",
       "  </thead>\n",
       "  <tbody>\n",
       "    <tr>\n",
       "      <th>1112</th>\n",
       "      <td>fathers day photo for mirror</td>\n",
       "      <td>1712923765</td>\n",
       "      <td>Custom Photo Car Ornament, Car Hanging, Custom...</td>\n",
       "      <td>GuzmanCreations</td>\n",
       "      <td>A clear acrylic car charm with a photo of a fa...</td>\n",
       "      <td>friday, last, day, order, send, photo, confirm...</td>\n",
       "    </tr>\n",
       "    <tr>\n",
       "      <th>1361</th>\n",
       "      <td>san bernardino county sheriff badge</td>\n",
       "      <td>1892572413</td>\n",
       "      <td>San Bernardino County California Deputy Sherif...</td>\n",
       "      <td>BlueLineWoodFlags</td>\n",
       "      <td>A black and white vector graphic of a sheriff'...</td>\n",
       "      <td>digital, file, download, physical, product, _,...</td>\n",
       "    </tr>\n",
       "    <tr>\n",
       "      <th>1363</th>\n",
       "      <td>bandana name corona</td>\n",
       "      <td>836334501</td>\n",
       "      <td>Rona and Lime Snap On Dog Bandana, Summer Dog ...</td>\n",
       "      <td>Furbanas</td>\n",
       "      <td></td>\n",
       "      <td>bandana, current, turn, time, week, specific, ...</td>\n",
       "    </tr>\n",
       "    <tr>\n",
       "      <th>1382</th>\n",
       "      <td>highlight as bible verse grad party sign hydra...</td>\n",
       "      <td>4314697057</td>\n",
       "      <td>Highlight Your Favorite Bible Verse 5x7, 8x10 ...</td>\n",
       "      <td>WeddingsBySusan</td>\n",
       "      <td></td>\n",
       "      <td>look, sweet, sign, card, gift, table, graduati...</td>\n",
       "    </tr>\n",
       "  </tbody>\n",
       "</table>\n",
       "</div>"
      ],
      "text/plain": [
       "                                                  query   listingId  \\\n",
       "1112                       fathers day photo for mirror  1712923765   \n",
       "1361                san bernardino county sheriff badge  1892572413   \n",
       "1363                                bandana name corona   836334501   \n",
       "1382  highlight as bible verse grad party sign hydra...  4314697057   \n",
       "\n",
       "                                               en_title    listingShopName  \\\n",
       "1112  Custom Photo Car Ornament, Car Hanging, Custom...    GuzmanCreations   \n",
       "1361  San Bernardino County California Deputy Sherif...  BlueLineWoodFlags   \n",
       "1363  Rona and Lime Snap On Dog Bandana, Summer Dog ...           Furbanas   \n",
       "1382  Highlight Your Favorite Bible Verse 5x7, 8x10 ...    WeddingsBySusan   \n",
       "\n",
       "                                listingHeroImageCaption  \\\n",
       "1112  A clear acrylic car charm with a photo of a fa...   \n",
       "1361  A black and white vector graphic of a sheriff'...   \n",
       "1363                                                      \n",
       "1382                                                      \n",
       "\n",
       "                                      listingDescNgrams  \n",
       "1112  friday, last, day, order, send, photo, confirm...  \n",
       "1361  digital, file, download, physical, product, _,...  \n",
       "1363  bandana, current, turn, time, week, specific, ...  \n",
       "1382  look, sweet, sign, card, gift, table, graduati...  "
      ]
     },
     "execution_count": 11,
     "metadata": {},
     "output_type": "execute_result"
    }
   ],
   "source": [
    "df[np.logical_and(df.anno_data_source == \"partial_purchases\", df.v3_teacher_label != \"partial\")][[\n",
    "    \"query\", \"listingId\", \"en_title\", \"listingShopName\", \"listingHeroImageCaption\", \"listingDescNgrams\"\n",
    "]]"
   ]
  },
  {
   "cell_type": "code",
   "execution_count": null,
   "id": "a61c7ffb",
   "metadata": {},
   "outputs": [],
   "source": []
  }
 ],
 "metadata": {
  "kernelspec": {
   "display_name": "venv",
   "language": "python",
   "name": "venv"
  },
  "language_info": {
   "codemirror_mode": {
    "name": "ipython",
    "version": 3
   },
   "file_extension": ".py",
   "mimetype": "text/x-python",
   "name": "python",
   "nbconvert_exporter": "python",
   "pygments_lexer": "ipython3",
   "version": "3.10.1"
  }
 },
 "nbformat": 4,
 "nbformat_minor": 5
}
