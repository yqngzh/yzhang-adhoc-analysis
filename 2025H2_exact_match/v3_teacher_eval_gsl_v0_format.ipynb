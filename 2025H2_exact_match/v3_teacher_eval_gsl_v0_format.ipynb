{
 "cells": [
  {
   "cell_type": "code",
   "execution_count": 1,
   "id": "6ba7b7d4",
   "metadata": {},
   "outputs": [],
   "source": [
    "import pandas as pd\n",
    "import numpy as np\n",
    "\n",
    "from google.cloud import bigquery"
   ]
  },
  {
   "cell_type": "code",
   "execution_count": 2,
   "id": "6a946dcb",
   "metadata": {},
   "outputs": [],
   "source": [
    "df = pd.read_excel(\"./gsl_eval_v0_segments.xlsx\")"
   ]
  },
  {
   "cell_type": "code",
   "execution_count": 3,
   "id": "46e4ca4a",
   "metadata": {},
   "outputs": [
    {
     "data": {
      "text/plain": [
       "(1095, 65)"
      ]
     },
     "execution_count": 3,
     "metadata": {},
     "output_type": "execute_result"
    }
   ],
   "source": [
    "df.shape"
   ]
  },
  {
   "cell_type": "code",
   "execution_count": 4,
   "id": "56e2967d",
   "metadata": {},
   "outputs": [],
   "source": [
    "bq_client = bigquery.Client(project=\"etsy-search-ml-dev\")\n",
    "\n",
    "sql_query = \"\"\"with lfb AS (\n",
    "  select \n",
    "    key as listingId,\n",
    "    IFNULL(verticaShopSettings_primaryLanguage, \"\") as shop_primaryLanguage,\n",
    "    IFNULL(localeFeatures_listingCountry, \"\") as listingCountry\n",
    "  from `etsy-ml-systems-prod.feature_bank_v2.listing_feature_bank_most_recent`\n",
    "),\n",
    "us_v2 as (\n",
    "  select \n",
    "    query, listingId, etsyUUID, \n",
    "    \"US\" as userCountry\n",
    "  from `etsy-sr-etl-prod.yzhang.sem_rel_human_annotation_v2`\n",
    "),\n",
    "intl as (\n",
    "  select\n",
    "    query, listingId, etsyUUID, \n",
    "    userLocale as userCountry\n",
    "  from `etsy-search-ml-dev.aclapp.semrel_human_annotation_v1`\n",
    "),\n",
    "anno_data as (\n",
    "  select * from us_v2\n",
    "  union all\n",
    "  select * from intl\n",
    ")\n",
    "select\n",
    "  query, listingId, etsyUUID,\n",
    "  userCountry,\n",
    "  shop_primaryLanguage,\n",
    "  listingCountry\n",
    "from anno_data\n",
    "left join lfb using (listingId)\"\"\"\n",
    "\n",
    "\n",
    "query_job = bq_client.query(sql_query)\n",
    "rows = query_job.result()\n",
    "features_df = rows.to_dataframe()"
   ]
  },
  {
   "cell_type": "code",
   "execution_count": 5,
   "id": "ebef54a6",
   "metadata": {},
   "outputs": [],
   "source": [
    "df = pd.merge(df, features_df, on=[\"etsyUUID\", \"query\", \"listingId\"], how=\"left\")"
   ]
  },
  {
   "cell_type": "code",
   "execution_count": 6,
   "id": "b6e78e29",
   "metadata": {},
   "outputs": [
    {
     "data": {
      "text/plain": [
       "(1095, 68)"
      ]
     },
     "execution_count": 6,
     "metadata": {},
     "output_type": "execute_result"
    }
   ],
   "source": [
    "df.shape"
   ]
  },
  {
   "cell_type": "code",
   "execution_count": 7,
   "id": "d55483a4",
   "metadata": {},
   "outputs": [],
   "source": [
    "desired_columns = [\n",
    "    # request\n",
    "    \"etsyUUID\", \"platform\", \"userCountry\", \"userLanguage\",\n",
    "    # query\n",
    "    \"query\", \"queryEn\", \"seg_queryBin\", \"seg_qisClass\", \"seg_queryTaxoFullPath\", \"seg_queryTaxoTop\", \n",
    "    \"tangibleItem\", \"fandom\", \"motif\", \"style\", \"material\", \"color\", \"technique\", \"size\", \"occasion\", \n",
    "    \"customization\", \"age\", \"price\", \"quantity\", \"recipient\", \"queryEntities\", \"queryRewrites\", \"queryIsGift\",\n",
    "    # listing\n",
    "    \"listingId\", \"listingCountry\", \"shop_primaryLanguage\", \"listingTitle\", \"listingTitleEn\",\n",
    "    \"listingTaxo\", \"listingTags\", \"listingAttributes\", \"listingShopName\", \n",
    "    \"listingDescription\", \"listingDescriptionEn\", \"listingDescNgrams\",\n",
    "    \"listingImageUrls\", \"listingHeroImageCaption\", \"listingVariations\", \"listingReviews\",\n",
    "    # annotation\n",
    "    \"anno_data_source\", \n",
    "    \"label_etsy_1\", \"label_etsy_2\", \"label_etsy_3\", \n",
    "    \"etsy_person_1\", \"etsy_person_2\", \"etsy_person_3\", \"etsy_notes\", \n",
    "    \"etsy_majority_label\", \"etsy_round_label\", \"etsy_unanimous\",\n",
    "    \"label_annotator_1\", \"label_annotator_2\", \"label_annotator_3\",\n",
    "    \"labelbox_majority_label\", \"labelbox_round_label\", \"labelbox_unanimous\",\n",
    "]"
   ]
  },
  {
   "cell_type": "code",
   "execution_count": 8,
   "id": "06d9bc70",
   "metadata": {},
   "outputs": [
    {
     "data": {
      "text/plain": [
       "{'en_title',\n",
       " 'is_gsl_v0_eval',\n",
       " 'ori_title',\n",
       " 'titleEn_vertica',\n",
       " 'v2_bert_pred_labels',\n",
       " 'v2_bert_score_not_relevant',\n",
       " 'v2_bert_score_prob_partial',\n",
       " 'v2_bert_score_relevant'}"
      ]
     },
     "execution_count": 8,
     "metadata": {},
     "output_type": "execute_result"
    }
   ],
   "source": [
    "set(df.columns) - set(desired_columns)"
   ]
  },
  {
   "cell_type": "code",
   "execution_count": 9,
   "id": "078fdf9a",
   "metadata": {},
   "outputs": [],
   "source": [
    "df = df[desired_columns]"
   ]
  },
  {
   "cell_type": "code",
   "execution_count": 10,
   "id": "5ea31022",
   "metadata": {},
   "outputs": [
    {
     "data": {
      "text/plain": [
       "Index(['etsyUUID', 'platform', 'userCountry', 'userLanguage', 'query',\n",
       "       'queryEn', 'seg_queryBin', 'seg_qisClass', 'seg_queryTaxoFullPath',\n",
       "       'seg_queryTaxoTop', 'tangibleItem', 'fandom', 'motif', 'style',\n",
       "       'material', 'color', 'technique', 'size', 'occasion', 'customization',\n",
       "       'age', 'price', 'quantity', 'recipient', 'queryEntities',\n",
       "       'queryRewrites', 'queryIsGift', 'listingId', 'listingCountry',\n",
       "       'shop_primaryLanguage', 'listingTitle', 'listingTitleEn', 'listingTaxo',\n",
       "       'listingTags', 'listingAttributes', 'listingShopName',\n",
       "       'listingDescription', 'listingDescriptionEn', 'listingDescNgrams',\n",
       "       'listingImageUrls', 'listingHeroImageCaption', 'listingVariations',\n",
       "       'listingReviews', 'anno_data_source', 'label_etsy_1', 'label_etsy_2',\n",
       "       'label_etsy_3', 'etsy_person_1', 'etsy_person_2', 'etsy_person_3',\n",
       "       'etsy_notes', 'etsy_majority_label', 'etsy_round_label',\n",
       "       'etsy_unanimous', 'label_annotator_1', 'label_annotator_2',\n",
       "       'label_annotator_3', 'labelbox_majority_label', 'labelbox_round_label',\n",
       "       'labelbox_unanimous'],\n",
       "      dtype='object')"
      ]
     },
     "execution_count": 10,
     "metadata": {},
     "output_type": "execute_result"
    }
   ],
   "source": [
    "df.columns"
   ]
  },
  {
   "cell_type": "code",
   "execution_count": 11,
   "id": "caf15605",
   "metadata": {},
   "outputs": [],
   "source": [
    "df.to_excel(\"./gsl_eval_v0_output.xlsx\", index=False)"
   ]
  },
  {
   "cell_type": "markdown",
   "id": "3e63660a",
   "metadata": {},
   "source": [
    "\n",
    "```bash\n",
    "gsutil cp ./gsl_eval_v0_output.xlsx gs://training-dev-search-data-jtzn/semantic_relevance/datasets/v3_eval_golden_standard_labels/\n",
    "```"
   ]
  },
  {
   "cell_type": "code",
   "execution_count": null,
   "id": "2628fbd7",
   "metadata": {},
   "outputs": [],
   "source": []
  }
 ],
 "metadata": {
  "kernelspec": {
   "display_name": "venv",
   "language": "python",
   "name": "venv"
  },
  "language_info": {
   "codemirror_mode": {
    "name": "ipython",
    "version": 3
   },
   "file_extension": ".py",
   "mimetype": "text/x-python",
   "name": "python",
   "nbconvert_exporter": "python",
   "pygments_lexer": "ipython3",
   "version": "3.10.1"
  }
 },
 "nbformat": 4,
 "nbformat_minor": 5
}
