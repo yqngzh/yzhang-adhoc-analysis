{
 "cells": [
  {
   "cell_type": "markdown",
   "id": "6e28903d",
   "metadata": {},
   "source": [
    "Stopwords source: https://github.etsycorp.com/Engineering/BigData/blob/master/operators/src/main/resources/nlp/stopwords/en-full.txt"
   ]
  },
  {
   "cell_type": "code",
   "execution_count": 9,
   "id": "75c3e333",
   "metadata": {},
   "outputs": [],
   "source": [
    "import gcsfs\n",
    "import json\n",
    "from google.cloud import storage\n",
    "from tqdm import tqdm"
   ]
  },
  {
   "cell_type": "code",
   "execution_count": 3,
   "id": "b3c218a9",
   "metadata": {},
   "outputs": [],
   "source": [
    "date = \"2024-01-04\"\n",
    "json_path = f\"gs://etldata-prod-search-ranking-data-hkwv8r/feature_logging_training_data_purchase/query_pipeline_web_organic_tight/{date}/results\""
   ]
  },
  {
   "cell_type": "code",
   "execution_count": 22,
   "id": "89578739",
   "metadata": {
    "scrolled": false
   },
   "outputs": [
    {
     "name": "stdout",
     "output_type": "stream",
     "text": [
      "outdoor chicken coop sign\n",
      "embroidery kit\n"
     ]
    }
   ],
   "source": [
    "gs = gcsfs.GCSFileSystem()\n",
    "json_files = gs.ls(json_path)[2:]\n",
    "\n",
    "for jf in json_files[0:2]:\n",
    "    with gs.open(f\"gs://{jf}\") as f:\n",
    "        for line in f:\n",
    "            request = json.loads(line)\n",
    "            request_uuid = request[0][\"requestUUID\"]\n",
    "            client_query = request[0][\"clientProvidedInfo\"][\"query\"][\"query\"]\n",
    "            context_query = request[0][\"clientProvidedInfo\"][\"query\"][\"query\"]"
   ]
  },
  {
   "cell_type": "code",
   "execution_count": null,
   "id": "c8cfded6",
   "metadata": {},
   "outputs": [],
   "source": []
  }
 ],
 "metadata": {
  "kernelspec": {
   "display_name": "venv",
   "language": "python",
   "name": "venv"
  },
  "language_info": {
   "codemirror_mode": {
    "name": "ipython",
    "version": 3
   },
   "file_extension": ".py",
   "mimetype": "text/x-python",
   "name": "python",
   "nbconvert_exporter": "python",
   "pygments_lexer": "ipython3",
   "version": "3.8.9"
  }
 },
 "nbformat": 4,
 "nbformat_minor": 5
}
