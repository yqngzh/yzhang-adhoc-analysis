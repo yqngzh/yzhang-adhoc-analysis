{
 "cells": [
  {
   "cell_type": "markdown",
   "id": "6e28903d",
   "metadata": {},
   "source": [
    "Stopwords source: https://github.etsycorp.com/Engineering/BigData/blob/master/operators/src/main/resources/nlp/stopwords/en-full.txt"
   ]
  },
  {
   "cell_type": "code",
   "execution_count": 1,
   "id": "ba98cf1c",
   "metadata": {},
   "outputs": [
    {
     "name": "stdout",
     "output_type": "stream",
     "text": [
      "WARNING:  Python 3.5-3.7 will be deprecated on August 8th, 2023. Please use Python version 3.8 and up.\n",
      "\n",
      "If you have a compatible Python interpreter installed, you can use it by setting\n",
      "the CLOUDSDK_PYTHON environment variable to point to it.\n",
      "\n",
      "Updated property [core/project].\n"
     ]
    }
   ],
   "source": [
    "!gcloud config set project etsy-bigquery-adhoc-prod"
   ]
  },
  {
   "cell_type": "code",
   "execution_count": 2,
   "id": "75c3e333",
   "metadata": {},
   "outputs": [],
   "source": [
    "%load_ext google.cloud.bigquery"
   ]
  },
  {
   "cell_type": "markdown",
   "id": "d2c4bb97",
   "metadata": {},
   "source": [
    "generate table: sr_training_data_queries.sql"
   ]
  },
  {
   "cell_type": "code",
   "execution_count": 3,
   "id": "c8cfded6",
   "metadata": {},
   "outputs": [
    {
     "name": "stderr",
     "output_type": "stream",
     "text": [
      "Query complete after 0.04s: 100%|█████████████████████████████████████████████████████████████████████████████████████████████████████████| 3/3 [00:00<00:00, 759.70query/s]\n",
      "Downloading: 100%|████████████████████████████████████████████████████████████████████████████████████████████████████████████| 608425/608425 [00:03<00:00, 158476.87rows/s]\n"
     ]
    }
   ],
   "source": [
    "%%bigquery df\n",
    "select distinct data_date, requestUUID, client_query\n",
    "from `etsy-sr-etl-prod.yzhang.attributed_instance_queries_1229_0104`"
   ]
  },
  {
   "cell_type": "code",
   "execution_count": 4,
   "id": "dd67903c",
   "metadata": {},
   "outputs": [
    {
     "data": {
      "text/html": [
       "<div>\n",
       "<style scoped>\n",
       "    .dataframe tbody tr th:only-of-type {\n",
       "        vertical-align: middle;\n",
       "    }\n",
       "\n",
       "    .dataframe tbody tr th {\n",
       "        vertical-align: top;\n",
       "    }\n",
       "\n",
       "    .dataframe thead th {\n",
       "        text-align: right;\n",
       "    }\n",
       "</style>\n",
       "<table border=\"1\" class=\"dataframe\">\n",
       "  <thead>\n",
       "    <tr style=\"text-align: right;\">\n",
       "      <th></th>\n",
       "      <th>data_date</th>\n",
       "      <th>requestUUID</th>\n",
       "      <th>client_query</th>\n",
       "    </tr>\n",
       "  </thead>\n",
       "  <tbody>\n",
       "    <tr>\n",
       "      <th>0</th>\n",
       "      <td>2023-12-29</td>\n",
       "      <td>00004f09-6fa3-43e0-baee-5ec30e53e604</td>\n",
       "      <td>icons ios</td>\n",
       "    </tr>\n",
       "    <tr>\n",
       "      <th>1</th>\n",
       "      <td>2023-12-29</td>\n",
       "      <td>00016f24-7795-47d2-9b41-f75d02d1aabe</td>\n",
       "      <td>disney princess png</td>\n",
       "    </tr>\n",
       "    <tr>\n",
       "      <th>2</th>\n",
       "      <td>2023-12-29</td>\n",
       "      <td>0001e116-736a-4dcf-ae02-2eb20c6c9a1f</td>\n",
       "      <td>disney princess thank you tag</td>\n",
       "    </tr>\n",
       "    <tr>\n",
       "      <th>3</th>\n",
       "      <td>2023-12-29</td>\n",
       "      <td>00024aa4-1925-41ce-8ef6-703ece70f6d3</td>\n",
       "      <td>niv bible</td>\n",
       "    </tr>\n",
       "    <tr>\n",
       "      <th>4</th>\n",
       "      <td>2023-12-29</td>\n",
       "      <td>000252b9-d077-46a5-b457-25a37fab6a37</td>\n",
       "      <td>gift</td>\n",
       "    </tr>\n",
       "  </tbody>\n",
       "</table>\n",
       "</div>"
      ],
      "text/plain": [
       "    data_date                           requestUUID  \\\n",
       "0  2023-12-29  00004f09-6fa3-43e0-baee-5ec30e53e604   \n",
       "1  2023-12-29  00016f24-7795-47d2-9b41-f75d02d1aabe   \n",
       "2  2023-12-29  0001e116-736a-4dcf-ae02-2eb20c6c9a1f   \n",
       "3  2023-12-29  00024aa4-1925-41ce-8ef6-703ece70f6d3   \n",
       "4  2023-12-29  000252b9-d077-46a5-b457-25a37fab6a37   \n",
       "\n",
       "                    client_query  \n",
       "0                      icons ios  \n",
       "1            disney princess png  \n",
       "2  disney princess thank you tag  \n",
       "3                      niv bible  \n",
       "4                           gift  "
      ]
     },
     "execution_count": 4,
     "metadata": {},
     "output_type": "execute_result"
    }
   ],
   "source": [
    "df.head()"
   ]
  },
  {
   "cell_type": "code",
   "execution_count": 5,
   "id": "fe54ca86",
   "metadata": {},
   "outputs": [
    {
     "data": {
      "text/plain": [
       "digital planner                                923\n",
       "2024 calendar                                  440\n",
       "engagement gift                                402\n",
       "stanley name plate                             389\n",
       "2024 digital planner                           384\n",
       "                                              ... \n",
       "trip png                                         1\n",
       "taylor signs new home                            1\n",
       "grandma shirt with grandkid names                1\n",
       "heirloom quilts                                  1\n",
       "etsy printable sign pickleball and prosecco      1\n",
       "Name: client_query, Length: 422696, dtype: int64"
      ]
     },
     "execution_count": 5,
     "metadata": {},
     "output_type": "execute_result"
    }
   ],
   "source": [
    "df.client_query.value_counts()"
   ]
  },
  {
   "cell_type": "markdown",
   "id": "7b746315",
   "metadata": {},
   "source": [
    "# Stopwords"
   ]
  },
  {
   "cell_type": "code",
   "execution_count": 19,
   "id": "5713b4e1",
   "metadata": {},
   "outputs": [],
   "source": [
    "stopwords_full = set()\n",
    "tmp = []\n",
    "with open(\"./stopwords_full.txt\", \"r\") as f:\n",
    "    for line in f:\n",
    "        stopwords_full.add(line.strip())\n",
    "        tmp.append(line.strip())"
   ]
  },
  {
   "cell_type": "code",
   "execution_count": 16,
   "id": "2947b5c7",
   "metadata": {},
   "outputs": [
    {
     "data": {
      "text/plain": [
       "612"
      ]
     },
     "execution_count": 16,
     "metadata": {},
     "output_type": "execute_result"
    }
   ],
   "source": [
    "len(stopwords_full)"
   ]
  },
  {
   "cell_type": "code",
   "execution_count": 17,
   "id": "952bb334",
   "metadata": {
    "scrolled": false
   },
   "outputs": [],
   "source": [
    "stopwords_sub = set()\n",
    "with open(\"./stopwords.txt\", \"r\") as f:\n",
    "    for line in f:\n",
    "        stopwords_sub.add(line.strip())"
   ]
  },
  {
   "cell_type": "code",
   "execution_count": 18,
   "id": "c7c37f0a",
   "metadata": {},
   "outputs": [
    {
     "data": {
      "text/plain": [
       "34"
      ]
     },
     "execution_count": 18,
     "metadata": {},
     "output_type": "execute_result"
    }
   ],
   "source": [
    "len(stopwords_sub)"
   ]
  },
  {
   "cell_type": "code",
   "execution_count": 22,
   "id": "6537718b",
   "metadata": {},
   "outputs": [],
   "source": [
    "def check_stopword_overlap(qstring, stopwd_set):\n",
    "    query_split = qstring.split(\" \")\n",
    "    for word in query_split:\n",
    "        if word in stopwd_set:\n",
    "            return word\n",
    "    return None"
   ]
  },
  {
   "cell_type": "code",
   "execution_count": 23,
   "id": "26cd7041",
   "metadata": {},
   "outputs": [],
   "source": [
    "df[\"stopword_full_overlap\"] = df.client_query.apply(check_stopword_overlap, stopwd_set=stopwords_full)\n",
    "df[\"stopword_sub_overlap\"] = df.client_query.apply(check_stopword_overlap, stopwd_set=stopwords_sub)"
   ]
  },
  {
   "cell_type": "code",
   "execution_count": 24,
   "id": "5acb9be3",
   "metadata": {},
   "outputs": [
    {
     "data": {
      "text/html": [
       "<div>\n",
       "<style scoped>\n",
       "    .dataframe tbody tr th:only-of-type {\n",
       "        vertical-align: middle;\n",
       "    }\n",
       "\n",
       "    .dataframe tbody tr th {\n",
       "        vertical-align: top;\n",
       "    }\n",
       "\n",
       "    .dataframe thead th {\n",
       "        text-align: right;\n",
       "    }\n",
       "</style>\n",
       "<table border=\"1\" class=\"dataframe\">\n",
       "  <thead>\n",
       "    <tr style=\"text-align: right;\">\n",
       "      <th></th>\n",
       "      <th>data_date</th>\n",
       "      <th>requestUUID</th>\n",
       "      <th>client_query</th>\n",
       "      <th>stopword_full_overlap</th>\n",
       "      <th>stopword_sub_overlap</th>\n",
       "    </tr>\n",
       "  </thead>\n",
       "  <tbody>\n",
       "    <tr>\n",
       "      <th>0</th>\n",
       "      <td>2023-12-29</td>\n",
       "      <td>00004f09-6fa3-43e0-baee-5ec30e53e604</td>\n",
       "      <td>icons ios</td>\n",
       "      <td>None</td>\n",
       "      <td>None</td>\n",
       "    </tr>\n",
       "    <tr>\n",
       "      <th>1</th>\n",
       "      <td>2023-12-29</td>\n",
       "      <td>00016f24-7795-47d2-9b41-f75d02d1aabe</td>\n",
       "      <td>disney princess png</td>\n",
       "      <td>None</td>\n",
       "      <td>None</td>\n",
       "    </tr>\n",
       "    <tr>\n",
       "      <th>2</th>\n",
       "      <td>2023-12-29</td>\n",
       "      <td>0001e116-736a-4dcf-ae02-2eb20c6c9a1f</td>\n",
       "      <td>disney princess thank you tag</td>\n",
       "      <td>thank</td>\n",
       "      <td>None</td>\n",
       "    </tr>\n",
       "    <tr>\n",
       "      <th>3</th>\n",
       "      <td>2023-12-29</td>\n",
       "      <td>00024aa4-1925-41ce-8ef6-703ece70f6d3</td>\n",
       "      <td>niv bible</td>\n",
       "      <td>None</td>\n",
       "      <td>None</td>\n",
       "    </tr>\n",
       "    <tr>\n",
       "      <th>4</th>\n",
       "      <td>2023-12-29</td>\n",
       "      <td>000252b9-d077-46a5-b457-25a37fab6a37</td>\n",
       "      <td>gift</td>\n",
       "      <td>None</td>\n",
       "      <td>None</td>\n",
       "    </tr>\n",
       "  </tbody>\n",
       "</table>\n",
       "</div>"
      ],
      "text/plain": [
       "    data_date                           requestUUID  \\\n",
       "0  2023-12-29  00004f09-6fa3-43e0-baee-5ec30e53e604   \n",
       "1  2023-12-29  00016f24-7795-47d2-9b41-f75d02d1aabe   \n",
       "2  2023-12-29  0001e116-736a-4dcf-ae02-2eb20c6c9a1f   \n",
       "3  2023-12-29  00024aa4-1925-41ce-8ef6-703ece70f6d3   \n",
       "4  2023-12-29  000252b9-d077-46a5-b457-25a37fab6a37   \n",
       "\n",
       "                    client_query stopword_full_overlap stopword_sub_overlap  \n",
       "0                      icons ios                  None                 None  \n",
       "1            disney princess png                  None                 None  \n",
       "2  disney princess thank you tag                 thank                 None  \n",
       "3                      niv bible                  None                 None  \n",
       "4                           gift                  None                 None  "
      ]
     },
     "execution_count": 24,
     "metadata": {},
     "output_type": "execute_result"
    }
   ],
   "source": [
    "df.head()"
   ]
  },
  {
   "cell_type": "code",
   "execution_count": 29,
   "id": "94d3e0ce",
   "metadata": {},
   "outputs": [
    {
     "data": {
      "text/plain": [
       "(118990, 5)"
      ]
     },
     "execution_count": 29,
     "metadata": {},
     "output_type": "execute_result"
    }
   ],
   "source": [
    "df[~df.stopword_full_overlap.isna()].shape"
   ]
  },
  {
   "cell_type": "code",
   "execution_count": 31,
   "id": "b3acc3bf",
   "metadata": {},
   "outputs": [
    {
     "data": {
      "text/plain": [
       "2024-01-02    96922\n",
       "2024-01-03    95448\n",
       "2024-01-04    92609\n",
       "2023-12-29    86395\n",
       "2023-12-30    85016\n",
       "2023-12-31    76267\n",
       "2024-01-01    75768\n",
       "Name: data_date, dtype: int64"
      ]
     },
     "execution_count": 31,
     "metadata": {},
     "output_type": "execute_result"
    }
   ],
   "source": [
    "df.data_date.value_counts()"
   ]
  },
  {
   "cell_type": "code",
   "execution_count": 30,
   "id": "0940660c",
   "metadata": {},
   "outputs": [
    {
     "data": {
      "text/plain": [
       "2024-01-03    18434\n",
       "2024-01-02    18114\n",
       "2024-01-04    17869\n",
       "2023-12-29    16953\n",
       "2023-12-30    16781\n",
       "2023-12-31    16249\n",
       "2024-01-01    14590\n",
       "Name: data_date, dtype: int64"
      ]
     },
     "execution_count": 30,
     "metadata": {},
     "output_type": "execute_result"
    }
   ],
   "source": [
    "df[~df.stopword_full_overlap.isna()].data_date.value_counts()"
   ]
  },
  {
   "cell_type": "code",
   "execution_count": null,
   "id": "e5cc7caa",
   "metadata": {},
   "outputs": [],
   "source": []
  }
 ],
 "metadata": {
  "kernelspec": {
   "display_name": "venv",
   "language": "python",
   "name": "venv"
  },
  "language_info": {
   "codemirror_mode": {
    "name": "ipython",
    "version": 3
   },
   "file_extension": ".py",
   "mimetype": "text/x-python",
   "name": "python",
   "nbconvert_exporter": "python",
   "pygments_lexer": "ipython3",
   "version": "3.8.9"
  }
 },
 "nbformat": 4,
 "nbformat_minor": 5
}
