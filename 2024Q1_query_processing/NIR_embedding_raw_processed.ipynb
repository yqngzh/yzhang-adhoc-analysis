{
 "cells": [
  {
   "cell_type": "code",
   "execution_count": 1,
   "id": "c5ec9aaf",
   "metadata": {},
   "outputs": [
    {
     "name": "stdout",
     "output_type": "stream",
     "text": [
      "WARNING:  Python 3.5-3.7 will be deprecated on August 8th, 2023. Please use Python version 3.8 and up.\n",
      "\n",
      "If you have a compatible Python interpreter installed, you can use it by setting\n",
      "the CLOUDSDK_PYTHON environment variable to point to it.\n",
      "\n",
      "Updated property [core/project].\n"
     ]
    }
   ],
   "source": [
    "!gcloud config set project etsy-bigquery-adhoc-prod"
   ]
  },
  {
   "cell_type": "code",
   "execution_count": 2,
   "id": "fb9f88f6",
   "metadata": {},
   "outputs": [],
   "source": [
    "%load_ext google.cloud.bigquery"
   ]
  },
  {
   "cell_type": "code",
   "execution_count": 3,
   "id": "5881eb36",
   "metadata": {},
   "outputs": [
    {
     "name": "stderr",
     "output_type": "stream",
     "text": [
      "Query complete after 0.02s: 100%|███████████████████████████████████████████████████████████████████████████████████████████████████████████| 1/1 [00:00<00:00, 550.94query/s]\n",
      "Downloading: 100%|███████████████████████████████████████████████████████████████████████████████████████████████████████████████| 120108/120108 [00:02<00:00, 40954.29rows/s]\n"
     ]
    }
   ],
   "source": [
    "%%bigquery df\n",
    "select distinct requestUUID, client_query, context_query\n",
    "from `etsy-sr-etl-prod.yzhang.attributed_instance_queries_1229_0104`\n",
    "where context_query is not null\n",
    "and context_query != client_query"
   ]
  },
  {
   "cell_type": "code",
   "execution_count": 4,
   "id": "562b930f",
   "metadata": {},
   "outputs": [
    {
     "data": {
      "text/plain": [
       "120039"
      ]
     },
     "execution_count": 4,
     "metadata": {},
     "output_type": "execute_result"
    }
   ],
   "source": [
    "len(df.requestUUID.unique())"
   ]
  },
  {
   "cell_type": "markdown",
   "id": "6e3e0a6e",
   "metadata": {},
   "source": [
    "+ Total number of requests from US, with at least 1 purchase: 407397\n",
    "+ Among them, number of requests with contextual query not null: 351324\n",
    "+ Among them, number of requests where client query != context query: 120039 (29.5%)"
   ]
  },
  {
   "cell_type": "code",
   "execution_count": 5,
   "id": "550b4ace",
   "metadata": {},
   "outputs": [
    {
     "data": {
      "text/html": [
       "<div>\n",
       "<style scoped>\n",
       "    .dataframe tbody tr th:only-of-type {\n",
       "        vertical-align: middle;\n",
       "    }\n",
       "\n",
       "    .dataframe tbody tr th {\n",
       "        vertical-align: top;\n",
       "    }\n",
       "\n",
       "    .dataframe thead th {\n",
       "        text-align: right;\n",
       "    }\n",
       "</style>\n",
       "<table border=\"1\" class=\"dataframe\">\n",
       "  <thead>\n",
       "    <tr style=\"text-align: right;\">\n",
       "      <th></th>\n",
       "      <th>requestUUID</th>\n",
       "      <th>client_query</th>\n",
       "      <th>context_query</th>\n",
       "    </tr>\n",
       "  </thead>\n",
       "  <tbody>\n",
       "    <tr>\n",
       "      <th>0</th>\n",
       "      <td>0005785f-3d06-488b-912f-641cb0429375</td>\n",
       "      <td>clock faces</td>\n",
       "      <td>clock face</td>\n",
       "    </tr>\n",
       "    <tr>\n",
       "      <th>1</th>\n",
       "      <td>0007fef5-16d5-4ec9-b84a-a5b954eefb36</td>\n",
       "      <td>physician  assistant svg</td>\n",
       "      <td>physician assistant svg</td>\n",
       "    </tr>\n",
       "    <tr>\n",
       "      <th>2</th>\n",
       "      <td>000a6744-9965-41d5-8544-f5dbd5b565fa</td>\n",
       "      <td>bookmark tracker</td>\n",
       "      <td>bookmark track</td>\n",
       "    </tr>\n",
       "    <tr>\n",
       "      <th>3</th>\n",
       "      <td>000c7cdf-50cc-43e0-8cae-341a924c2654</td>\n",
       "      <td>plus size waist beads</td>\n",
       "      <td>plus size waist bead</td>\n",
       "    </tr>\n",
       "    <tr>\n",
       "      <th>4</th>\n",
       "      <td>000ee012-6d3a-448a-abb2-3d097462940e</td>\n",
       "      <td>primitive bunny rabbit patterns</td>\n",
       "      <td>primitive bunny rabbit pattern</td>\n",
       "    </tr>\n",
       "  </tbody>\n",
       "</table>\n",
       "</div>"
      ],
      "text/plain": [
       "                            requestUUID                     client_query  \\\n",
       "0  0005785f-3d06-488b-912f-641cb0429375                      clock faces   \n",
       "1  0007fef5-16d5-4ec9-b84a-a5b954eefb36         physician  assistant svg   \n",
       "2  000a6744-9965-41d5-8544-f5dbd5b565fa                 bookmark tracker   \n",
       "3  000c7cdf-50cc-43e0-8cae-341a924c2654            plus size waist beads   \n",
       "4  000ee012-6d3a-448a-abb2-3d097462940e  primitive bunny rabbit patterns   \n",
       "\n",
       "                    context_query  \n",
       "0                      clock face  \n",
       "1         physician assistant svg  \n",
       "2                  bookmark track  \n",
       "3            plus size waist bead  \n",
       "4  primitive bunny rabbit pattern  "
      ]
     },
     "execution_count": 5,
     "metadata": {},
     "output_type": "execute_result"
    }
   ],
   "source": [
    "df.head()"
   ]
  },
  {
   "cell_type": "markdown",
   "id": "1b5b31dc",
   "metadata": {},
   "source": [
    "+ Some raw query can correspond to 2 contextual query, why?"
   ]
  },
  {
   "cell_type": "code",
   "execution_count": 6,
   "id": "3fe43d13",
   "metadata": {},
   "outputs": [
    {
     "data": {
      "text/plain": [
       "1172ba13-d3a1-44e6-b426-248764526a9a    2\n",
       "9f631630-024f-4c55-9996-dfcea28efe7d    2\n",
       "94c5b22d-381e-4b54-935a-14277af405cc    2\n",
       "bee0808f-c15d-45a8-889e-3f9f1b3c38db    2\n",
       "63edb957-76f0-41d5-9239-3b8b47d421bc    2\n",
       "                                       ..\n",
       "5a315073-4f7c-47d2-a229-722374c0cefb    1\n",
       "5a2878a7-7560-4706-b62f-1f93643a9818    1\n",
       "5a26efb1-ecde-4181-a5d1-49828480f420    1\n",
       "5a22806d-6e99-41ba-af96-d472f5d65eae    1\n",
       "fff9fa76-858c-4c44-8720-57f22229ea61    1\n",
       "Name: requestUUID, Length: 120039, dtype: int64"
      ]
     },
     "execution_count": 6,
     "metadata": {},
     "output_type": "execute_result"
    }
   ],
   "source": [
    "df.requestUUID.value_counts()"
   ]
  },
  {
   "cell_type": "code",
   "execution_count": 7,
   "id": "28825dd0",
   "metadata": {},
   "outputs": [
    {
     "data": {
      "text/html": [
       "<div>\n",
       "<style scoped>\n",
       "    .dataframe tbody tr th:only-of-type {\n",
       "        vertical-align: middle;\n",
       "    }\n",
       "\n",
       "    .dataframe tbody tr th {\n",
       "        vertical-align: top;\n",
       "    }\n",
       "\n",
       "    .dataframe thead th {\n",
       "        text-align: right;\n",
       "    }\n",
       "</style>\n",
       "<table border=\"1\" class=\"dataframe\">\n",
       "  <thead>\n",
       "    <tr style=\"text-align: right;\">\n",
       "      <th></th>\n",
       "      <th>requestUUID</th>\n",
       "      <th>client_query</th>\n",
       "      <th>context_query</th>\n",
       "    </tr>\n",
       "  </thead>\n",
       "  <tbody>\n",
       "    <tr>\n",
       "      <th>51393</th>\n",
       "      <td>1172ba13-d3a1-44e6-b426-248764526a9a</td>\n",
       "      <td>reyes magos png</td>\n",
       "      <td>wise men png</td>\n",
       "    </tr>\n",
       "    <tr>\n",
       "      <th>51394</th>\n",
       "      <td>1172ba13-d3a1-44e6-b426-248764526a9a</td>\n",
       "      <td>reyes magos png</td>\n",
       "      <td>reye mago png</td>\n",
       "    </tr>\n",
       "  </tbody>\n",
       "</table>\n",
       "</div>"
      ],
      "text/plain": [
       "                                requestUUID     client_query  context_query\n",
       "51393  1172ba13-d3a1-44e6-b426-248764526a9a  reyes magos png   wise men png\n",
       "51394  1172ba13-d3a1-44e6-b426-248764526a9a  reyes magos png  reye mago png"
      ]
     },
     "execution_count": 7,
     "metadata": {},
     "output_type": "execute_result"
    }
   ],
   "source": [
    "df[df.requestUUID == \"1172ba13-d3a1-44e6-b426-248764526a9a\"]"
   ]
  },
  {
   "cell_type": "code",
   "execution_count": 8,
   "id": "56971481",
   "metadata": {},
   "outputs": [
    {
     "data": {
      "text/html": [
       "<div>\n",
       "<style scoped>\n",
       "    .dataframe tbody tr th:only-of-type {\n",
       "        vertical-align: middle;\n",
       "    }\n",
       "\n",
       "    .dataframe tbody tr th {\n",
       "        vertical-align: top;\n",
       "    }\n",
       "\n",
       "    .dataframe thead th {\n",
       "        text-align: right;\n",
       "    }\n",
       "</style>\n",
       "<table border=\"1\" class=\"dataframe\">\n",
       "  <thead>\n",
       "    <tr style=\"text-align: right;\">\n",
       "      <th></th>\n",
       "      <th>requestUUID</th>\n",
       "      <th>client_query</th>\n",
       "      <th>context_query</th>\n",
       "    </tr>\n",
       "  </thead>\n",
       "  <tbody>\n",
       "    <tr>\n",
       "      <th>112476</th>\n",
       "      <td>94c5b22d-381e-4b54-935a-14277af405cc</td>\n",
       "      <td>BUDA LASER</td>\n",
       "      <td>laser buddha</td>\n",
       "    </tr>\n",
       "    <tr>\n",
       "      <th>112477</th>\n",
       "      <td>94c5b22d-381e-4b54-935a-14277af405cc</td>\n",
       "      <td>BUDA LASER</td>\n",
       "      <td>buda laser</td>\n",
       "    </tr>\n",
       "  </tbody>\n",
       "</table>\n",
       "</div>"
      ],
      "text/plain": [
       "                                 requestUUID client_query context_query\n",
       "112476  94c5b22d-381e-4b54-935a-14277af405cc   BUDA LASER  laser buddha\n",
       "112477  94c5b22d-381e-4b54-935a-14277af405cc   BUDA LASER    buda laser"
      ]
     },
     "execution_count": 8,
     "metadata": {},
     "output_type": "execute_result"
    }
   ],
   "source": [
    "df[df.requestUUID == \"94c5b22d-381e-4b54-935a-14277af405cc\"]"
   ]
  },
  {
   "cell_type": "code",
   "execution_count": 9,
   "id": "90b0275e",
   "metadata": {},
   "outputs": [
    {
     "data": {
      "text/html": [
       "<div>\n",
       "<style scoped>\n",
       "    .dataframe tbody tr th:only-of-type {\n",
       "        vertical-align: middle;\n",
       "    }\n",
       "\n",
       "    .dataframe tbody tr th {\n",
       "        vertical-align: top;\n",
       "    }\n",
       "\n",
       "    .dataframe thead th {\n",
       "        text-align: right;\n",
       "    }\n",
       "</style>\n",
       "<table border=\"1\" class=\"dataframe\">\n",
       "  <thead>\n",
       "    <tr style=\"text-align: right;\">\n",
       "      <th></th>\n",
       "      <th>requestUUID</th>\n",
       "      <th>client_query</th>\n",
       "      <th>context_query</th>\n",
       "    </tr>\n",
       "  </thead>\n",
       "  <tbody>\n",
       "    <tr>\n",
       "      <th>24231</th>\n",
       "      <td>63edb957-76f0-41d5-9239-3b8b47d421bc</td>\n",
       "      <td>raiders png</td>\n",
       "      <td>raider png</td>\n",
       "    </tr>\n",
       "    <tr>\n",
       "      <th>24232</th>\n",
       "      <td>63edb957-76f0-41d5-9239-3b8b47d421bc</td>\n",
       "      <td>raiders png</td>\n",
       "      <td>raider png image</td>\n",
       "    </tr>\n",
       "  </tbody>\n",
       "</table>\n",
       "</div>"
      ],
      "text/plain": [
       "                                requestUUID client_query     context_query\n",
       "24231  63edb957-76f0-41d5-9239-3b8b47d421bc  raiders png        raider png\n",
       "24232  63edb957-76f0-41d5-9239-3b8b47d421bc  raiders png  raider png image"
      ]
     },
     "execution_count": 9,
     "metadata": {},
     "output_type": "execute_result"
    }
   ],
   "source": [
    "df[df.requestUUID == \"63edb957-76f0-41d5-9239-3b8b47d421bc\"]"
   ]
  },
  {
   "cell_type": "code",
   "execution_count": null,
   "id": "7bb530dc",
   "metadata": {},
   "outputs": [],
   "source": []
  },
  {
   "cell_type": "code",
   "execution_count": 16,
   "id": "7aa1a60b",
   "metadata": {},
   "outputs": [],
   "source": [
    "import tensorflow as tf\n",
    "import numpy as np\n",
    "from numpy.linalg import norm\n",
    "import matplotlib.pyplot as plt\n",
    "from tqdm import tqdm"
   ]
  },
  {
   "cell_type": "code",
   "execution_count": 11,
   "id": "8e6f3ec8",
   "metadata": {},
   "outputs": [],
   "source": [
    "# load NIR model\n",
    "nir_base_path = \"gs://etldata-prod-search-ranking-data-hkwv8r/data/shared/neural_ir/30d/large_voc_huge_hidden_assym/models\"\n",
    "nir_date = \"2024_01_14\"\n",
    "nir_model = tf.saved_model.load(f\"{nir_base_path}/{nir_date}/training_dir/checkpoints/saved_model\")"
   ]
  },
  {
   "cell_type": "code",
   "execution_count": 12,
   "id": "31782f61",
   "metadata": {},
   "outputs": [
    {
     "data": {
      "text/plain": [
       "_SignatureMap({'embed_queries': <ConcreteFunction signature_wrapper(tf_examples) at 0x1760F3940>, 'embed_raw_queries': <ConcreteFunction signature_wrapper(queries) at 0x1769235E0>, 'embed_raw_listings': <ConcreteFunction signature_wrapper(tags, taxonomy_paths, titles) at 0x176C20AF0>, 'embed_raw_queries_loc': <ConcreteFunction signature_wrapper(countries, languages, queries) at 0x17693CF40>, 'embed_listings': <ConcreteFunction signature_wrapper(tf_examples) at 0x1769F2100>})"
      ]
     },
     "execution_count": 12,
     "metadata": {},
     "output_type": "execute_result"
    }
   ],
   "source": [
    "nir_model.signatures"
   ]
  },
  {
   "cell_type": "code",
   "execution_count": 21,
   "id": "c577dd11",
   "metadata": {},
   "outputs": [
    {
     "name": "stderr",
     "output_type": "stream",
     "text": [
      "100%|████████████████████████████████████████████████████████████████████████████████████████████████████████████████████████████████| 120108/120108 [02:53<00:00, 692.70it/s]\n"
     ]
    }
   ],
   "source": [
    "embed_dist_stats = []\n",
    "cosine_sim_stats = []\n",
    "\n",
    "for i in tqdm(range(df.shape[0])):\n",
    "    context_query = df.context_query[i]\n",
    "    client_query = df.client_query[i]\n",
    "    \n",
    "    context_query_tensor = tf.expand_dims(\n",
    "        tf.convert_to_tensor(context_query, dtype=tf.string), 0\n",
    "    )\n",
    "    client_query_tensor = tf.expand_dims(\n",
    "        tf.convert_to_tensor(client_query, dtype=tf.string), 0\n",
    "    )\n",
    "    \n",
    "    context_embedding = nir_model.signatures[\"embed_raw_queries\"](context_query_tensor)\n",
    "    context_embedding = context_embedding[\"embedding\"]\n",
    "    client_embedding = nir_model.signatures[\"embed_raw_queries\"](client_query_tensor)\n",
    "    client_embedding = client_embedding[\"embedding\"]\n",
    "    \n",
    "    embed_dist = np.sum(np.abs(context_embedding - client_embedding))\n",
    "    embed_dist_stats.append(embed_dist)\n",
    "    cosine_sim = np.dot(context_embedding, np.transpose(client_embedding)) / (norm(context_embedding) * norm(client_embedding))\n",
    "    cosine_sim_stats.append(cosine_sim[0][0])"
   ]
  },
  {
   "cell_type": "code",
   "execution_count": 22,
   "id": "0d653e45",
   "metadata": {},
   "outputs": [
    {
     "data": {
      "image/png": "[encoded data removed]",
      "text/plain": [
       "<Figure size 640x480 with 1 Axes>"
      ]
     },
     "metadata": {},
     "output_type": "display_data"
    }
   ],
   "source": [
    "plt.hist(embed_dist_stats, bins=50, color='skyblue', edgecolor='black')\n",
    "plt.xlabel('Embedding absolute difference')\n",
    "plt.ylabel('Frequency')\n",
    "plt.show()"
   ]
  },
  {
   "cell_type": "code",
   "execution_count": 23,
   "id": "5ca44b8e",
   "metadata": {},
   "outputs": [
    {
     "name": "stdout",
     "output_type": "stream",
     "text": [
      "6.0892653\n",
      "6.363255\n"
     ]
    }
   ],
   "source": [
    "print(np.mean(embed_dist_stats))\n",
    "print(np.median(embed_dist_stats))"
   ]
  },
  {
   "cell_type": "code",
   "execution_count": 25,
   "id": "6a5715f8",
   "metadata": {},
   "outputs": [
    {
     "data": {
      "image/png": "[encoded data removed]",
      "text/plain": [
       "<Figure size 640x480 with 1 Axes>"
      ]
     },
     "metadata": {},
     "output_type": "display_data"
    }
   ],
   "source": [
    "plt.hist(cosine_sim_stats, bins=50, color='skyblue', edgecolor='black')\n",
    "plt.xlabel('Cosine similarity between context and client query embedding')\n",
    "plt.ylabel('Frequency')\n",
    "plt.show()"
   ]
  },
  {
   "cell_type": "code",
   "execution_count": 26,
   "id": "85329fa5",
   "metadata": {},
   "outputs": [
    {
     "name": "stdout",
     "output_type": "stream",
     "text": [
      "0.83983177\n",
      "0.8529854\n"
     ]
    }
   ],
   "source": [
    "print(np.mean(cosine_sim_stats))\n",
    "print(np.median(cosine_sim_stats))"
   ]
  },
  {
   "cell_type": "code",
   "execution_count": 28,
   "id": "14a2b080",
   "metadata": {},
   "outputs": [
    {
     "data": {
      "text/plain": [
       "120108"
      ]
     },
     "execution_count": 28,
     "metadata": {},
     "output_type": "execute_result"
    }
   ],
   "source": [
    "len(cosine_sim_stats)"
   ]
  },
  {
   "cell_type": "code",
   "execution_count": 42,
   "id": "7c244267",
   "metadata": {},
   "outputs": [],
   "source": [
    "embed_dist_stats_np = np.array(embed_dist_stats)\n",
    "cosine_sim_stats_np = np.array(cosine_sim_stats)\n",
    "big_diff = np.logical_and(embed_dist_stats_np >= 1.0, cosine_sim_stats_np <= 0.8)"
   ]
  },
  {
   "cell_type": "code",
   "execution_count": 43,
   "id": "ce1b8b70",
   "metadata": {},
   "outputs": [],
   "source": [
    "df_big_diff = df[big_diff]"
   ]
  },
  {
   "cell_type": "code",
   "execution_count": 44,
   "id": "63d8a82a",
   "metadata": {},
   "outputs": [
    {
     "data": {
      "text/plain": [
       "(38318, 3)"
      ]
     },
     "execution_count": 44,
     "metadata": {},
     "output_type": "execute_result"
    }
   ],
   "source": [
    "df_big_diff.shape"
   ]
  },
  {
   "cell_type": "code",
   "execution_count": 45,
   "id": "b360ac1f",
   "metadata": {},
   "outputs": [
    {
     "data": {
      "text/plain": [
       "38276"
      ]
     },
     "execution_count": 45,
     "metadata": {},
     "output_type": "execute_result"
    }
   ],
   "source": [
    "len(df_big_diff.requestUUID.unique())"
   ]
  },
  {
   "cell_type": "code",
   "execution_count": 46,
   "id": "bed211ea",
   "metadata": {},
   "outputs": [
    {
     "data": {
      "text/html": [
       "<div>\n",
       "<style scoped>\n",
       "    .dataframe tbody tr th:only-of-type {\n",
       "        vertical-align: middle;\n",
       "    }\n",
       "\n",
       "    .dataframe tbody tr th {\n",
       "        vertical-align: top;\n",
       "    }\n",
       "\n",
       "    .dataframe thead th {\n",
       "        text-align: right;\n",
       "    }\n",
       "</style>\n",
       "<table border=\"1\" class=\"dataframe\">\n",
       "  <thead>\n",
       "    <tr style=\"text-align: right;\">\n",
       "      <th></th>\n",
       "      <th>requestUUID</th>\n",
       "      <th>client_query</th>\n",
       "      <th>context_query</th>\n",
       "    </tr>\n",
       "  </thead>\n",
       "  <tbody>\n",
       "    <tr>\n",
       "      <th>0</th>\n",
       "      <td>0005785f-3d06-488b-912f-641cb0429375</td>\n",
       "      <td>clock faces</td>\n",
       "      <td>clock face</td>\n",
       "    </tr>\n",
       "    <tr>\n",
       "      <th>2</th>\n",
       "      <td>000a6744-9965-41d5-8544-f5dbd5b565fa</td>\n",
       "      <td>bookmark tracker</td>\n",
       "      <td>bookmark track</td>\n",
       "    </tr>\n",
       "    <tr>\n",
       "      <th>8</th>\n",
       "      <td>001c18cb-64ca-4439-8302-d8abdffa33d8</td>\n",
       "      <td>Da Bears SVG</td>\n",
       "      <td>da bear svg</td>\n",
       "    </tr>\n",
       "    <tr>\n",
       "      <th>10</th>\n",
       "      <td>0028f05a-1b75-4e81-940b-4ee70181fccf</td>\n",
       "      <td>custom printed envelope</td>\n",
       "      <td>custom print envelope</td>\n",
       "    </tr>\n",
       "    <tr>\n",
       "      <th>11</th>\n",
       "      <td>003091e7-ec0c-478d-9699-68b9628fb787</td>\n",
       "      <td>Gaming PC ornament</td>\n",
       "      <td>game pc ornament</td>\n",
       "    </tr>\n",
       "    <tr>\n",
       "      <th>...</th>\n",
       "      <td>...</td>\n",
       "      <td>...</td>\n",
       "      <td>...</td>\n",
       "    </tr>\n",
       "    <tr>\n",
       "      <th>120086</th>\n",
       "      <td>ff9598a1-288b-4631-b460-0cd5c42eb50a</td>\n",
       "      <td>engraved trophy</td>\n",
       "      <td>engrave trophy</td>\n",
       "    </tr>\n",
       "    <tr>\n",
       "      <th>120095</th>\n",
       "      <td>ffae5e7d-f2ff-4f9d-9449-691a0d187104</td>\n",
       "      <td>no soliciting sign</td>\n",
       "      <td>no solicit sign</td>\n",
       "    </tr>\n",
       "    <tr>\n",
       "      <th>120096</th>\n",
       "      <td>ffb95d0c-eab6-40da-9ddd-bdd3a6660287</td>\n",
       "      <td>multistrand adjustable ring</td>\n",
       "      <td>multistrand adjust ring</td>\n",
       "    </tr>\n",
       "    <tr>\n",
       "      <th>120097</th>\n",
       "      <td>ffbba978-14ac-409f-a6a5-e0afcbded02f</td>\n",
       "      <td>disney dolls</td>\n",
       "      <td>disney doll</td>\n",
       "    </tr>\n",
       "    <tr>\n",
       "      <th>120103</th>\n",
       "      <td>ffef3890-6b90-4cb2-9de5-6cb61d0e9492</td>\n",
       "      <td>sisters tee shirts</td>\n",
       "      <td>sister tee shirt</td>\n",
       "    </tr>\n",
       "  </tbody>\n",
       "</table>\n",
       "<p>38318 rows × 3 columns</p>\n",
       "</div>"
      ],
      "text/plain": [
       "                                 requestUUID                 client_query  \\\n",
       "0       0005785f-3d06-488b-912f-641cb0429375                  clock faces   \n",
       "2       000a6744-9965-41d5-8544-f5dbd5b565fa             bookmark tracker   \n",
       "8       001c18cb-64ca-4439-8302-d8abdffa33d8                 Da Bears SVG   \n",
       "10      0028f05a-1b75-4e81-940b-4ee70181fccf      custom printed envelope   \n",
       "11      003091e7-ec0c-478d-9699-68b9628fb787           Gaming PC ornament   \n",
       "...                                      ...                          ...   \n",
       "120086  ff9598a1-288b-4631-b460-0cd5c42eb50a              engraved trophy   \n",
       "120095  ffae5e7d-f2ff-4f9d-9449-691a0d187104           no soliciting sign   \n",
       "120096  ffb95d0c-eab6-40da-9ddd-bdd3a6660287  multistrand adjustable ring   \n",
       "120097  ffbba978-14ac-409f-a6a5-e0afcbded02f                 disney dolls   \n",
       "120103  ffef3890-6b90-4cb2-9de5-6cb61d0e9492           sisters tee shirts   \n",
       "\n",
       "                  context_query  \n",
       "0                    clock face  \n",
       "2                bookmark track  \n",
       "8                   da bear svg  \n",
       "10        custom print envelope  \n",
       "11             game pc ornament  \n",
       "...                         ...  \n",
       "120086           engrave trophy  \n",
       "120095          no solicit sign  \n",
       "120096  multistrand adjust ring  \n",
       "120097              disney doll  \n",
       "120103         sister tee shirt  \n",
       "\n",
       "[38318 rows x 3 columns]"
      ]
     },
     "execution_count": 46,
     "metadata": {},
     "output_type": "execute_result"
    }
   ],
   "source": [
    "df_big_diff"
   ]
  },
  {
   "cell_type": "code",
   "execution_count": null,
   "id": "7807c908",
   "metadata": {},
   "outputs": [],
   "source": []
  }
 ],
 "metadata": {
  "kernelspec": {
   "display_name": "venv",
   "language": "python",
   "name": "venv"
  },
  "language_info": {
   "codemirror_mode": {
    "name": "ipython",
    "version": 3
   },
   "file_extension": ".py",
   "mimetype": "text/x-python",
   "name": "python",
   "nbconvert_exporter": "python",
   "pygments_lexer": "ipython3",
   "version": "3.8.9"
  }
 },
 "nbformat": 4,
 "nbformat_minor": 5
}
